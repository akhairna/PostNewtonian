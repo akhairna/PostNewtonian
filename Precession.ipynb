{
 "metadata": {
  "name": ""
 },
 "nbformat": 3,
 "nbformat_minor": 0,
 "worksheets": [
  {
   "cells": [
    {
     "cell_type": "code",
     "collapsed": false,
     "input": [
      "# Always run this first\n",
      "# NOTE: Do not define new basic variables in this notebook;\n",
      "#       define them in Variables.ipynb.  Use this notebook\n",
      "#       to define new expressions built from those variables.\n",
      "\n",
      "from __future__ import division # This needs to be here, even though it's in Variables.py\n",
      "execfile('Utilities/ExecNotebook.ipy')\n",
      "try: execnotebook(VariablesNotebook)\n",
      "except: execnotebook('Variables.ipynb')"
     ],
     "language": "python",
     "metadata": {},
     "outputs": [],
     "prompt_number": 1
    },
    {
     "cell_type": "markdown",
     "metadata": {},
     "source": [
      "The following `PNCollection` objects will contain all the terms describing precession."
     ]
    },
    {
     "cell_type": "code",
     "collapsed": false,
     "input": [
      "Precession_ellHat  = PNCollection()\n",
      "Precession_chiVec1 = PNCollection()\n",
      "Precession_chiVec2 = PNCollection()"
     ],
     "language": "python",
     "metadata": {},
     "outputs": [],
     "prompt_number": 2
    },
    {
     "cell_type": "heading",
     "level": 1,
     "metadata": {},
     "source": [
      "Precession of orbital angular velocity $\\vec{\\Omega}_{\\hat{L}_{\\text{N}}}$"
     ]
    },
    {
     "cell_type": "markdown",
     "metadata": {},
     "source": [
      "[Boh\u00e9 et al. (2013)](http://arxiv.org/abs/1212.5520v2) say that the precession of the orbital angular velocity is along $\\hat{n}$, with magnitude (in their notation) $a_{\\ell}/r\\omega = \\gamma\\, a_{\\ell} / v^3$.\n",
      "\n",
      "*NOTE:* There is a 3pN gauge term in $\\gamma_{\\text{PN}}$ that I have simply dropped here.  It is $\\ln(r/r_0')$.\n",
      "\n",
      "The following two cells are Eqs. (4.3) and (4.4) of [Boh\u00e9 et al. (2013)](http://arxiv.org/abs/1212.5520v2), respectively."
     ]
    },
    {
     "cell_type": "code",
     "collapsed": false,
     "input": [
      "Precession_ellHat.AddDerivedVariable('gamma_PN_coeff', v**2)\n",
      "\n",
      "Precession_ellHat.AddDerivedConstant('gamma_PN_0', 1)\n",
      "# gamma_PN_1 is 0\n",
      "Precession_ellHat.AddDerivedConstant('gamma_PN_2', -nu/3 + 1)\n",
      "Precession_ellHat.AddDerivedVariable('gamma_PN_3', 5*S_l/3 + Sigma_l*delta)\n",
      "Precession_ellHat.AddDerivedConstant('gamma_PN_4', -65*nu/12 + 1)\n",
      "Precession_ellHat.AddDerivedVariable('gamma_PN_5',\n",
      "    (frac(8,9)*nu + frac(10,3))*S_l + 2*Sigma_l*delta)\n",
      "Precession_ellHat.AddDerivedConstant('gamma_PN_6',\n",
      "    nu**3/81 + 229*nu**2/36 - 41*pi**2*nu/192 - 2203*nu/2520 + 1)\n",
      "Precession_ellHat.AddDerivedVariable('gamma_PN_7',\n",
      "    (-6*nu**2 - 127*nu/12 + 5)*S_l - 8*Sigma_l*delta*nu**2/3 + (-61*nu/6 + 3)*Sigma_l*delta)"
     ],
     "language": "python",
     "metadata": {},
     "outputs": [],
     "prompt_number": 3
    },
    {
     "cell_type": "code",
     "collapsed": false,
     "input": [
      "Precession_ellHat.AddDerivedVariable('a_ell_coeff', v**7)\n",
      "\n",
      "Precession_ellHat.AddDerivedVariable('a_ell_0', 7*S_n + 3*Sigma_n*delta)\n",
      "# gamma_PN_1 is 0\n",
      "Precession_ellHat.AddDerivedVariable('a_ell_2', (-29*nu/3-10)*S_n + (-9*nu/2-6)*delta*Sigma_n)\n",
      "# gamma_PN_3 is 0\n",
      "Precession_ellHat.AddDerivedVariable('a_ell_4',\n",
      "    (frac(52,9)*nu**2 + frac(59,4)*nu + frac(3,2))*S_n\n",
      "    + (frac(17,6)*nu**2 + frac(73,8)*nu + frac(3,2))*delta*Sigma_n)"
     ],
     "language": "python",
     "metadata": {},
     "outputs": [],
     "prompt_number": 4
    },
    {
     "cell_type": "code",
     "collapsed": false,
     "input": [
      "def Precession_ellHatExpression(PNOrder=frac(7,2)):\n",
      "    OmegaVec_ellHat = (gamma_PN_coeff.substitution*a_ell_coeff.substitution/v**3)\\\n",
      "        *horner(sum([key*(v**n) for n in range(2*PNOrder+1)\n",
      "                     for key,val in Precession_ellHat.items() if val==('gamma_PN_{0}'.format(n))]))\\\n",
      "        *horner(sum([key*(v**n) for n in range(2*PNOrder+1)\n",
      "                     for key,val in Precession_ellHat.items() if val==('a_ell_{0}'.format(n))]))\n",
      "    return OmegaVec_ellHat"
     ],
     "language": "python",
     "metadata": {},
     "outputs": [],
     "prompt_number": 5
    },
    {
     "cell_type": "code",
     "collapsed": false,
     "input": [
      "# Precession_ellHatExpression()"
     ],
     "language": "python",
     "metadata": {},
     "outputs": [
      {
       "latex": [
        "$$v^{6} \\left(a_{\\ell 0} + v^{2} \\left(a_{\\ell 2} + a_{\\ell 4} v^{2}\\right)\\right) \\left(\\gamma_{PN 0} + v^{2} \\left(\\gamma_{PN 2} + v \\left(\\gamma_{PN 3} + v \\left(\\gamma_{PN 4} + v \\left(\\gamma_{PN 5} + v \\left(\\gamma_{PN 6} + \\gamma_{PN 7} v\\right)\\right)\\right)\\right)\\right)\\right)$$"
       ],
       "metadata": {},
       "output_type": "pyout",
       "png": "[encoded data removed]",
       "prompt_number": 6,
       "text": [
        " 6 \u239b           2 \u239b                   2\u239e\u239e \u239b          2                         \n",
        "v \u22c5\u239da_ell_0 + v \u22c5\u239da_ell_2 + a_ell_4\u22c5v \u23a0\u23a0\u22c5\u239d\u03b3_PN_0 + v \u22c5(\u03b3_PN_2 + v\u22c5(\u03b3_PN_3 + v\u22c5\n",
        "\n",
        "                                               \u239e\n",
        "(\u03b3_PN_4 + v\u22c5(\u03b3_PN_5 + v\u22c5(\u03b3_PN_6 + \u03b3_PN_7\u22c5v)))))\u23a0"
       ]
      }
     ],
     "prompt_number": 6
    },
    {
     "cell_type": "heading",
     "level": 1,
     "metadata": {},
     "source": [
      "Precession of spins $\\vec{\\Omega}_{1,2}$"
     ]
    },
    {
     "cell_type": "markdown",
     "metadata": {},
     "source": [
      "Equation (4.5) of [Boh\u00e9 et al. (2013)](http://arxiv.org/abs/1212.5520v2) gives spin-orbit terms:"
     ]
    },
    {
     "cell_type": "code",
     "collapsed": false,
     "input": [
      "Precession_chiVec1.AddDerivedVariable('Omega1_coeff', v**5)\n",
      "\n",
      "Precession_chiVec1.AddDerivedConstant('OmegaVec1_SO_0',\n",
      "    (frac(3,4) + frac(1,2)*nu - frac(3,4)*delta)*ellHat, datatype=ellHat.datatype)\n",
      "Precession_chiVec1.AddDerivedConstant('OmegaVec1_SO_2',\n",
      "    (frac(9,16) + frac(5,4)*nu - frac(1,24)*nu**2 + delta*(-frac(9,16)+frac(5,8)*nu))*ellHat, datatype=ellHat.datatype)\n",
      "Precession_chiVec1.AddDerivedConstant('OmegaVec1_SO_4',\n",
      "    (frac(27,32) + frac(3,16)*nu - frac(105,32)*nu**2 - frac(1,48)*nu**3\n",
      "     + delta*(-frac(27,32) + frac(39,8)*nu - frac(5,32)*nu**2))*ellHat, datatype=ellHat.datatype)"
     ],
     "language": "python",
     "metadata": {},
     "outputs": [],
     "prompt_number": 7
    },
    {
     "cell_type": "markdown",
     "metadata": {},
     "source": [
      "In his Eqs. (2.4), [Kidder (1995)](http://link.aps.org/doi/10.1103/PhysRevD.52.821) summarized certain spin-spin terms:"
     ]
    },
    {
     "cell_type": "code",
     "collapsed": false,
     "input": [
      "Precession_chiVec1.AddDerivedVariable('OmegaVec1_SS_1', m2**2*(-chiVec2+3*chi2_n*nHat), datatype=nHat.datatype)\n",
      "#print(\"WARNING: OmegaVec1_SS_1 in Precession.ipynb is disabled temporarily\")"
     ],
     "language": "python",
     "metadata": {},
     "outputs": [],
     "prompt_number": 8
    },
    {
     "cell_type": "markdown",
     "metadata": {},
     "source": [
      "***NOTE: Is Etienne's notation consistent with others? ***  It seems like when he introduces other people's terms, he mixes $\\hat{n}$ and $\\hat{\\ell}$.\n",
      "\n",
      "Finally, in his Eq. (2.7) [Racine (2008)](http://link.aps.org/doi/10.1103/PhysRevD.78.044021) added a quadrupole-monopole term along $\\hat{n}$:"
     ]
    },
    {
     "cell_type": "code",
     "collapsed": false,
     "input": [
      "Precession_chiVec1.AddDerivedVariable('OmegaVec1_QM_1', 3*nu*chi1_n*nHat, datatype=nHat.datatype)\n",
      "#Precession_chiVec1.AddDerivedVariable('OmegaVec1_QM_1', 3*nu*chi1_l*ellHat, datatype=ellHat.datatype)\n",
      "#print(\"WARNING: OmegaVec1_QM_1 in Precession.ipynb is disabled temporarily\")"
     ],
     "language": "python",
     "metadata": {},
     "outputs": [
      {
       "output_type": "stream",
       "stream": "stdout",
       "text": [
        "WARNING: OmegaVec1_QM_1 in Precession.ipynb is disabled temporarily\n"
       ]
      }
     ],
     "prompt_number": 9
    },
    {
     "cell_type": "markdown",
     "metadata": {},
     "source": [
      "For the precession vector of the other spin, rather than re-entering the same things with 1 and 2 swapped, we just let python do it:"
     ]
    },
    {
     "cell_type": "code",
     "collapsed": false,
     "input": [
      "for key,val in Precession_chiVec1.items():\n",
      "    try:\n",
      "        tmp = key.substitution.subs({delta: -delta, m1:'swap1', m2:m1, chi1_n:'swap2', chi2_n:chi1_n,\n",
      "                                     chiVec1:'swap3', chiVec2:chiVec1}).subs({'swap1':m2,'swap2':chi2_n,'swap3':chiVec2})\n",
      "        Precession_chiVec2.AddDerivedConstant(val.replace('OmegaVec1', 'OmegaVec2').replace('Omega1', 'Omega2'),\n",
      "                                              tmp, datatype=key.datatype)\n",
      "    except AttributeError:\n",
      "        Precession_chiVec2.AddDerivedConstant(val.replace('OmegaVec1', 'OmegaVec2').replace('Omega1', 'Omega2'),\n",
      "                                              key, datatype=key.datatype)"
     ],
     "language": "python",
     "metadata": {},
     "outputs": [],
     "prompt_number": 10
    },
    {
     "cell_type": "markdown",
     "metadata": {},
     "source": [
      "Finally, we define functions to put them together:"
     ]
    },
    {
     "cell_type": "code",
     "collapsed": false,
     "input": [
      "def Precession_chiVec1Expression(PNOrder=frac(7,2)):\n",
      "    return Omega1_coeff*collect(expand(sum([key.substitution*(v**n)\n",
      "                                            for n in range(2*PNOrder+1)\n",
      "                                            for key,val in Precession_chiVec1.items()\n",
      "                                            if val.endswith('_{0}'.format(n))])),\n",
      "                                [ellHat,nHat,lambdaHat,chiVec1,chiVec2], horner)\n",
      "def Precession_chiVec2Expression(PNOrder=frac(7,2)):\n",
      "    return Omega2_coeff*collect(expand(sum([key.substitution*(v**n)\n",
      "                                            for n in range(2*PNOrder+1)\n",
      "                                            for key,val in Precession_chiVec2.items()\n",
      "                                            if val.endswith('_{0}'.format(n))])),\n",
      "                                [ellHat,nHat,lambdaHat,chiVec1,chiVec2], horner)"
     ],
     "language": "python",
     "metadata": {},
     "outputs": [],
     "prompt_number": 11
    },
    {
     "cell_type": "code",
     "collapsed": false,
     "input": [
      "# Precession_chiVec1Expression()"
     ],
     "language": "python",
     "metadata": {},
     "outputs": [
      {
       "latex": [
        "$$\\Omega_{1 coeff} \\left(3 \\chi_{2 n} m_{2}^{2} \\hat{n} v - \\vec{\\chi}_{2} m_{2}^{2} v + \\hat{\\ell} \\left(- \\frac{3 \\delta}{4} + \\frac{\\nu}{2} + v^{2} \\left(\\delta \\left(\\frac{5 \\nu}{8} - \\frac{9}{16}\\right) + \\nu \\left(- \\frac{\\nu}{24} + \\frac{5}{4}\\right) + v^{2} \\left(\\delta \\left(\\nu \\left(- \\frac{5 \\nu}{32} + \\frac{39}{8}\\right) - \\frac{27}{32}\\right) + \\nu \\left(\\nu \\left(- \\frac{\\nu}{48} - \\frac{105}{32}\\right) + \\frac{3}{16}\\right) + \\frac{27}{32}\\right) + \\frac{9}{16}\\right) + \\frac{3}{4}\\right)\\right)$$"
       ],
       "metadata": {},
       "output_type": "pyout",
       "png": "[encoded data removed]",
       "prompt_number": 12,
       "text": [
        "          \u239b          2              2          \u239b  3\u22c5\u03b4   \u03bd    2 \u239b  \u239b5\u22c5\u03bd   9 \u239e  \n",
        "\u03a9_1_coeff\u22c5\u239c3\u22c5\u03c7_2_n\u22c5m\u2082 \u22c5n\u0302\u22c5v - \u03c7\u20d7\u2082\u22c5m\u2082 \u22c5v + ell\u0302\u22c5\u239c- \u2500\u2500\u2500 + \u2500 + v \u22c5\u239c\u03b4\u22c5\u239c\u2500\u2500\u2500 - \u2500\u2500\u239f +\n",
        "          \u239d                                    \u239d   4    2      \u239d  \u239d 8    16\u23a0  \n",
        "\n",
        "   \u239b  \u03bd    5\u239e    2 \u239b  \u239b  \u239b  5\u22c5\u03bd   39\u239e   27\u239e     \u239b  \u239b  \u03bd    105\u239e   3 \u239e   27\u239e   \n",
        " \u03bd\u22c5\u239c- \u2500\u2500 + \u2500\u239f + v \u22c5\u239c\u03b4\u22c5\u239c\u03bd\u22c5\u239c- \u2500\u2500\u2500 + \u2500\u2500\u239f - \u2500\u2500\u239f + \u03bd\u22c5\u239c\u03bd\u22c5\u239c- \u2500\u2500 - \u2500\u2500\u2500\u239f + \u2500\u2500\u239f + \u2500\u2500\u239f + \n",
        "   \u239d  24   4\u23a0      \u239d  \u239d  \u239d   32   8 \u23a0   32\u23a0     \u239d  \u239d  48    32\u23a0   16\u23a0   32\u23a0   \n",
        "\n",
        "9 \u239e   3\u239e\u239e\n",
        "\u2500\u2500\u239f + \u2500\u239f\u239f\n",
        "16\u23a0   4\u23a0\u23a0"
       ]
      }
     ],
     "prompt_number": 12
    }
   ],
   "metadata": {}
  }
 ]
}