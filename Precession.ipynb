{
 "metadata": {
  "name": ""
 },
 "nbformat": 3,
 "nbformat_minor": 0,
 "worksheets": [
  {
   "cells": [
    {
     "cell_type": "code",
     "collapsed": false,
     "input": [
      "# Always run this first\n",
      "# NOTE: Do not define new basic variables in this notebook;\n",
      "#       define them in Variables.ipynb.  Use this notebook\n",
      "#       to define new expressions built from those variables.\n",
      "\n",
      "from __future__ import division # This needs to be here, even though it's in Variables.py\n",
      "execfile('ExecNotebook.ipy')\n",
      "try: execnotebook(VariablesNotebook)\n",
      "except: execnotebook('Variables.ipynb')"
     ],
     "language": "python",
     "metadata": {},
     "outputs": [],
     "prompt_number": 10
    },
    {
     "cell_type": "markdown",
     "metadata": {},
     "source": [
      "The following `PNCollection` objects will contain all the terms describing precession."
     ]
    },
    {
     "cell_type": "code",
     "collapsed": false,
     "input": [
      "Precession_ellHat  = PNCollection()\n",
      "Precession_chiVec1 = PNCollection()\n",
      "Precession_chiVec2 = PNCollection()"
     ],
     "language": "python",
     "metadata": {},
     "outputs": [],
     "prompt_number": 11
    },
    {
     "cell_type": "heading",
     "level": 1,
     "metadata": {},
     "source": [
      "Precession of orbital angular velocity $\\vec{\\Omega}_{\\hat{L}_{\\text{N}}}$"
     ]
    },
    {
     "cell_type": "markdown",
     "metadata": {},
     "source": [
      "[Boh\u00e9 et al. (2013)](http://arxiv.org/abs/1212.5520v2) say that the precession of the orbital angular velocity is along $\\hat{n}$, with magnitude (in their notation) $a_{\\ell}/r\\omega = \\gamma\\, a_{\\ell} / v^3$.\n",
      "\n",
      "*NOTE:* There is a 3pN gauge term in $\\gamma$ that I have simply dropped here.  It is $\\ln(r/r_0')$.\n",
      "\n",
      "The following are Eqs. (4.3) and (4.4) of [Boh\u00e9 et al. (2013)](http://arxiv.org/abs/1212.5520v2)."
     ]
    },
    {
     "cell_type": "code",
     "collapsed": false,
     "input": [
      "gamma_ellHatFactor = v**2\n",
      "gamma_ellHatTerms = {}\n",
      "gamma_ellHatTerms[0] = 1\n",
      "gamma_ellHatTerms[1] = 0\n",
      "gamma_ellHatTerms[2] = -nu/3 + 1\n",
      "gamma_ellHatTerms[3] = 5*S_l/3 + Sigma_l*delta\n",
      "gamma_ellHatTerms[4] = -65*nu/12 + 1\n",
      "gamma_ellHatTerms[5] = (frac(8,9)*nu + frac(10,3))*S_l + 2*Sigma_l*delta\n",
      "gamma_ellHatTerms[6] = nu**3/81 + 229*nu**2/36 - 41*pi**2*nu/192 - 2203*nu/2520 + 1\n",
      "gamma_ellHatTerms[7] = (-6*nu**2 - 127*nu/12 + 5)*S_l - 8*Sigma_l*delta*nu**2/3 + (-61*nu/6 + 3)*Sigma_l*delta\n",
      "\n",
      "gamma_ellHat = gamma_ellHatFactor * sum([gamma_ellHatTerms[key]*v**key\n",
      "                                         for key in sorted(gamma_ellHatTerms)]).simplify()"
     ],
     "language": "python",
     "metadata": {},
     "outputs": [],
     "prompt_number": 2
    },
    {
     "cell_type": "code",
     "collapsed": false,
     "input": [
      "a_ellHatFactor = v**7\n",
      "a_ellHatTerms = {}\n",
      "a_ellHatTerms[0] = 7*S_n + 3*Sigma_n*delta\n",
      "a_ellHatTerms[1] = 0\n",
      "a_ellHatTerms[2] = (-29*nu/3-10)*S_n + (-9*nu/2-6)*delta*Sigma_n\n",
      "a_ellHatTerms[3] = 0\n",
      "a_ellHatTerms[4] = (frac(52,9)*nu**2 + frac(59,4)*nu + frac(3,2))*S_n \\\n",
      "                       + (frac(17,6)*nu**2 + frac(73,8)*nu + frac(3,2))*delta*Sigma_n\n",
      "a_ellHatTerms[5] = 0\n",
      "a_ellHatTerms[6] = 0\n",
      "a_ellHatTerms[7] = 0\n",
      "\n",
      "a_ellHat = a_ellHatFactor * sum([a_ellHatTerms[key]*v**key for key in sorted(a_ellHatTerms)])\n",
      "a_overvcubed = a_ellHat/v**3"
     ],
     "language": "python",
     "metadata": {},
     "outputs": [],
     "prompt_number": 3
    },
    {
     "cell_type": "code",
     "collapsed": false,
     "input": [
      "# Omega_ellHat = gamma_ellHat*a_ellHat/v**3"
     ],
     "language": "python",
     "metadata": {},
     "outputs": [],
     "prompt_number": 4
    },
    {
     "cell_type": "markdown",
     "metadata": {},
     "source": [
      "The terms above were combined in Eq. (396) of [Blanchet (2013)](http://arxiv.org/abs/1310.1528v1):"
     ]
    },
    {
     "cell_type": "code",
     "collapsed": false,
     "input": [
      "Precession_ellHat.AddDerivedVariable('OmegaVec_ellHat_coeff', v**6)\n",
      "\n",
      "Precession_ellHat.AddDerivedVariable('OmegaVec_ellHat_0',\n",
      "    7*S_n+3*delta*Sigma_n)\n",
      "Precession_ellHat.AddDerivedVariable('OmegaVec_ellHat_2',\n",
      "    (-3-12*nu)*S_n+(-3-frac(11,2)*nu)*delta*Sigma_n)\n",
      "Precession_ellHat.AddDerivedVariable('OmegaVec_ellHat_4',\n",
      "    (-frac(3,2)-frac(59,2)*nu+9*nu**2)*S_n+(-frac(3,2)-frac(77,8)*nu+frac(13,3)*nu**2)*delta*Sigma_n)"
     ],
     "language": "python",
     "metadata": {},
     "outputs": []
    },
    {
     "cell_type": "code",
     "collapsed": false,
     "input": [
      "def Precession_ellHatExpression(PNOrder=frac(7,2)):\n",
      "    OmegaVec_ellHat = OmegaVec_ellHat_coeff*horner(sum([key*(v**n)\n",
      "                                                        for n in range(2*PNOrder+1)\n",
      "                                                        for key,val in Precession_ellHat.items()\n",
      "                                                        if val.endswith('_{0}'.format(n))]))\n",
      "    return OmegaVec_ellHat*nHat + v**3*ellHat"
     ],
     "language": "python",
     "metadata": {},
     "outputs": []
    },
    {
     "cell_type": "heading",
     "level": 1,
     "metadata": {},
     "source": [
      "Precession of spins $\\vec{\\Omega}_{1,2}$"
     ]
    },
    {
     "cell_type": "markdown",
     "metadata": {},
     "source": [
      "In this formulation, the spins precess entirely about the orbital angular velocity $\\hat{L}_{\\text{N}}$.\n",
      "\n",
      "The frequency of that precession is given by Eq. (4.5) of [Boh\u00e9 et al. (2013)](http://arxiv.org/abs/1212.5520v2):"
     ]
    },
    {
     "cell_type": "code",
     "collapsed": false,
     "input": [
      "Precession_chiVec1.AddDerivedVariable('OmegaVec1_coeff', ellHat*v**5)\n",
      "\n",
      "Precession_chiVec1.AddDerivedConstant('OmegaVec1_0',\n",
      "    frac(3,4) + frac(1,2)*nu - frac(3,4)*delta)\n",
      "Precession_chiVec1.AddDerivedConstant('OmegaVec1_2',\n",
      "    frac(9,16) + frac(5,4)*nu - frac(1,24)*nu**2 + delta*(-frac(9,16)+frac(5,8)*nu))\n",
      "Precession_chiVec1.AddDerivedConstant('OmegaVec1_4',\n",
      "    frac(27,32) + frac(3,16)*nu - frac(105,32)*nu**2 - frac(1,48)*nu**3\n",
      "    + delta*(-frac(27,32) + frac(39,8)*nu - frac(5,32)*nu**2))"
     ],
     "language": "python",
     "metadata": {},
     "outputs": [],
     "prompt_number": 35
    },
    {
     "cell_type": "markdown",
     "metadata": {},
     "source": [
      "For the precession vector of the other spin, rather than re-entering the same things with 1 and 2 swapped, we just let python do it:"
     ]
    },
    {
     "cell_type": "code",
     "collapsed": false,
     "input": [
      "for key,val in Precession_chiVec1.items():\n",
      "    try:\n",
      "        Precession_chiVec2.AddDerivedConstant(val.replace('OmegaVec1', 'OmegaVec2'), key.substitution.subs(delta, -delta))\n",
      "    except AttributeError:\n",
      "        Precession_chiVec2.AddDerivedConstant(val.replace('OmegaVec1', 'OmegaVec2'), key)"
     ],
     "language": "python",
     "metadata": {},
     "outputs": [],
     "prompt_number": 36
    },
    {
     "cell_type": "markdown",
     "metadata": {},
     "source": [
      "Finally, we define functions to put them together:"
     ]
    },
    {
     "cell_type": "code",
     "collapsed": false,
     "input": [
      "def Precession_chiVec1Expression(PNOrder=frac(7,2)):\n",
      "    return OmegaVec1_coeff*horner(sum([key*(v**n)\n",
      "                                       for n in range(2*PNOrder+1)\n",
      "                                       for key,val in Precession_chiVec1.items()\n",
      "                                       if val.endswith('_{0}'.format(n))]))\n",
      "def Precession_chiVec2Expression(PNOrder=frac(7,2)):\n",
      "    return OmegaVec2_coeff*horner(sum([key*(v**n)\n",
      "                                       for n in range(2*PNOrder+1)\n",
      "                                       for key,val in Precession_chiVec2.items()\n",
      "                                       if val.endswith('_{0}'.format(n))]))"
     ],
     "language": "python",
     "metadata": {},
     "outputs": [],
     "prompt_number": 39
    }
   ],
   "metadata": {}
  }
 ]
}