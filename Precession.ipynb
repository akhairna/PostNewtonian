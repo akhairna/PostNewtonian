{
 "metadata": {
  "name": ""
 },
 "nbformat": 3,
 "nbformat_minor": 0,
 "worksheets": [
  {
   "cells": [
    {
     "cell_type": "code",
     "collapsed": false,
     "input": [
      "# Always run this first\n",
      "# NOTE: Do not define new variables in this notebook or in Variables.py; \n",
      "#       define them in Variables.ipynb.  Variables.py will be automatically\n",
      "#       recreated when Variables.ipynb is saved.\n",
      "\n",
      "%run -i Variables.py\n",
      "from __future__ import division # This needs to be here, even though it's in Variables.py"
     ],
     "language": "python",
     "metadata": {},
     "outputs": [],
     "prompt_number": 4
    },
    {
     "cell_type": "heading",
     "level": 1,
     "metadata": {},
     "source": [
      "Precession of orbital angular velocity $\\vec{\\Omega}_{\\vec{\\Omega}_{\\text{orb}}}$"
     ]
    },
    {
     "cell_type": "markdown",
     "metadata": {},
     "source": [
      "Eqs. (4.3) and (4.4) of [Boh\u00e9 et al. (2013)](http://arxiv.org/abs/1212.5520v2) say that the precession of the orbital angular velocity is along $\\hat{n}$, with magnitude (in their notation) $a_{\\ell}/r\\omega = \\gamma\\, a_{\\ell} / v^3$."
     ]
    },
    {
     "cell_type": "code",
     "collapsed": false,
     "input": [
      "gamma_Omega_orbFactor = v**2\n",
      "gamma_Omega_orbTerms = {}\n",
      "gamma_Omega_orbTerms[0] = 1\n",
      "gamma_Omega_orbTerms[1] = 0\n",
      "gamma_Omega_orbTerms[2] = -nu/3 + 1\n",
      "gamma_Omega_orbTerms[3] = 5*S_l/3 + Sigma_l*delta\n",
      "gamma_Omega_orbTerms[4] = -65*nu/12 + 1\n",
      "gamma_Omega_orbTerms[5] = 8*S_l*nu/9 + 10*S_l/3 + 2*Sigma_l*delta\n",
      "gamma_Omega_orbTerms[6] = nu**3/81 + 229*nu**2/36 - 41*pi**2*nu/192 - 2203*nu/2520 + 1\n",
      "gamma_Omega_orbTerms[7] = -6*S_l*nu**2 - 127*S_l*nu/12 + 5*S_l - 8*Sigma_l*delta*nu**2/3 - 61*Sigma_l*delta*nu/6 + 3*Sigma_l*delta\n",
      "\n",
      "gamma_Omega_orb = gamma_Omega_orbFactor * sum([gamma_Omega_orbTerms[key]*v**key for key in sorted(gamma_Omega_orbTerms)]).simplify()"
     ],
     "language": "python",
     "metadata": {},
     "outputs": [],
     "prompt_number": 42
    },
    {
     "cell_type": "code",
     "collapsed": false,
     "input": [
      "a_ell_Omega_orbFactor = v**7\n",
      "a_ell_Omega_orbTerms = {}\n",
      "a_ell_Omega_orbTerms[0] = 7*S_n + 3*Sigma_n*delta\n",
      "a_ell_Omega_orbTerms[1] = 0\n",
      "a_ell_Omega_orbTerms[2] = -29*S_n*nu/3 - 10*S_n - 9*Sigma_n*delta*nu/2 - 6*Sigma_n*delta\n",
      "a_ell_Omega_orbTerms[3] = 0\n",
      "a_ell_Omega_orbTerms[4] = 52*S_n*nu**2/9 + 59*S_n*nu/4 + 3*S_n/2 + 17*Sigma_n*delta*nu**2/6 + 73*Sigma_n*delta*nu/8 + 3*Sigma_n*delta/2\n",
      "a_ell_Omega_orbTerms[5] = 0\n",
      "a_ell_Omega_orbTerms[6] = 0\n",
      "a_ell_Omega_orbTerms[7] = 0\n",
      "\n",
      "a_ell_Omega_orb = a_ell_Omega_orbFactor * sum([a_ell_Omega_orbTerms[key]*v**key for key in sorted(a_ell_Omega_orbTerms)])"
     ],
     "language": "python",
     "metadata": {},
     "outputs": [],
     "prompt_number": 38
    },
    {
     "cell_type": "code",
     "collapsed": false,
     "input": [
      "Omega_Omegavec_orb = gamma_Omega_orb*a_ell_Omega_orb/v**3"
     ],
     "language": "python",
     "metadata": {},
     "outputs": [],
     "prompt_number": 90
    },
    {
     "cell_type": "code",
     "collapsed": false,
     "input": [
      "%run -i /tmp/test.py"
     ],
     "language": "python",
     "metadata": {},
     "outputs": [],
     "prompt_number": 108
    },
    {
     "cell_type": "code",
     "collapsed": false,
     "input": [
      "print CCodeOutput([['return ', 'Omega_Omegavec_orb']])"
     ],
     "language": "python",
     "metadata": {},
     "outputs": [
      {
       "output_type": "stream",
       "stream": "stdout",
       "text": [
        "\n",
        "    S_l = 0.25*chi1_l*pow(delta + 1.0, 2)*pow(m1 + m2, 2) + 0.25*chi2_l*pow(-delta + 1.0, 2);\n",
        "    S_n = 0.25*chi1_n*pow(delta + 1.0, 2)*pow(m1 + m2, 2) + 0.25*chi2_n*pow(-delta + 1.0, 2);\n",
        "    Sigma_l = pow(m1 + m2, 2)*(-0.5*chi1_l*(delta + 1.0) + 0.5*chi2_l*(-delta + 1.0));\n",
        "    delta = (m1 - m2)/(m1 + m2);\n",
        "    Sigma_n = pow(m1 + m2, 2)*(-0.5*chi1_n*(delta + 1.0) + 0.5*chi2_n*(-delta + 1.0));\n",
        "    nu = m1*m2/(m1 + m2);\n",
        "    return pow(v, 6)*(7.0*S_n + 3.0*Sigma_n*delta + pow(v, 4)*(5.77777777777778*S_n*pow(nu, 2) + 14.75*S_n*nu + 1.5*S_n + 2.83333333333333*Sigma_n*delta*pow(nu, 2) + 9.125*Sigma_n*delta*nu + 1.5*Sigma_n*delta) + pow(v, 2)*(-9.66666666666667*S_n*nu - 10.0*S_n - 4.5*Sigma_n*delta*nu - 6.0*Sigma_n*delta))*(0.0833333333333333*pow(v, 7)*(-72.0*S_l*pow(nu, 2) - 127.0*S_l*nu + 60.0*S_l - 32.0*Sigma_l*delta*pow(nu, 2) - 122.0*Sigma_l*delta*nu + 36.0*Sigma_l*delta) + 5.51146384479718e-6*pow(v, 6)*(2240.0*pow(nu, 3) + 1154160.0*pow(nu, 2) - 541013.822520207*nu + 181440.0) + 0.222222222222222*pow(v, 5)*(4.0*S_l*nu + 15.0*S_l + 9.0*Sigma_l*delta) + 0.0833333333333333*pow(v, 4)*(-65.0*nu + 12.0) + 0.333333333333333*pow(v, 3)*(5.0*S_l + 3.0*Sigma_l*delta) + 0.333333333333333*pow(v, 2)*(-nu + 3.0) + 1.0)\n"
       ]
      }
     ],
     "prompt_number": 110
    },
    {
     "cell_type": "code",
     "collapsed": false,
     "input": [],
     "language": "python",
     "metadata": {},
     "outputs": []
    }
   ],
   "metadata": {}
  }
 ]
}