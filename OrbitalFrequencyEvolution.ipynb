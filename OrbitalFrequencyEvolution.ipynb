{
 "metadata": {
  "name": ""
 },
 "nbformat": 3,
 "nbformat_minor": 0,
 "worksheets": [
  {
   "cells": [
    {
     "cell_type": "code",
     "collapsed": false,
     "input": [
      "# Always run this first\n",
      "# NOTE: Do not define new variables in this notebook or in Variables.py; \n",
      "#       define them in Variables.ipynb.  Variables.py will be automatically\n",
      "#       recreated when Variables.ipynb is saved.\n",
      "\n",
      "from __future__ import division # This needs to be here, even though it's in Variables.py\n",
      "execfile('ExecNotebook.ipy')\n",
      "execnotebook('Variables.ipynb')\n",
      "execnotebook('CodeOutput.ipynb')"
     ],
     "language": "python",
     "metadata": {},
     "outputs": [],
     "prompt_number": 46
    },
    {
     "cell_type": "heading",
     "level": 1,
     "metadata": {},
     "source": [
      "TaylorT1 and TaylorT4"
     ]
    },
    {
     "cell_type": "markdown",
     "metadata": {},
     "source": [
      "These two very similar approximants are the simplest in construction, and most widely applicable.  In particular, they can both be applied to precessing systems.  Each gives rise to the same system of ODEs that need to be integrated in time, except that the right-hand side for $dv/dt$ is expanded as a series in $v$ and truncated for TaylorT4."
     ]
    },
    {
     "cell_type": "code",
     "collapsed": false,
     "input": [
      "execnotebook('Flux.ipynb')\n",
      "execnotebook('OrbitalEnergy.ipynb')\n",
      "execnotebook('EnergyAbsorption.ipynb')\n",
      "execnotebook('Precession.ipynb')\n",
      "\n",
      "# Evaluate the flux and energy\n",
      "Flux = FluxSum(IncompleteNonspinningTerms=True).subs(log(v), logv).subs(Pow(nu,3), nu__3).subs(Pow(nu,2), nu__2)\n",
      "Energy = EnergySum(IncompleteNonspinningTerms=True).subs(log(v), logv).subs(Pow(nu,3), nu__3).subs(Pow(nu,2), nu__2)\n",
      "\n",
      "# Differentiate Energy WRT v, treating log terms as constant\n",
      "dEnergydv = horner(diff(Energy, v))\n",
      "\n",
      "# Evaluate the energy absorption by the BHs, and make substitutions so that the Horner form is nice\n",
      "Absorption = AbsorptionCoefficient*AlviTerm\n",
      "Absorption = Absorption.subs(BasicSubstitutions[sqrt1Mchi1chi1], sqrt1Mchi1chi1)\n",
      "Absorption = Absorption.subs(BasicSubstitutions[sqrt1Mchi2chi2], sqrt1Mchi2chi2)\n",
      "Absorption = Absorption.subs(log(v), logv).subs(Pow(nu,3), nu__3)\n",
      "Absorption = Absorption.subs(Pow(nu,2), nu__2)"
     ],
     "language": "python",
     "metadata": {},
     "outputs": [],
     "prompt_number": 47
    },
    {
     "cell_type": "code",
     "collapsed": false,
     "input": [
      "PNOrder = frac(7,2)\n",
      "dvdt = series( series(- (Flux + Absorption), x=v, x0=0, n=10+2*PNOrder).removeO()\n",
      "               / series(dEnergydv, x=v, x0=0, n=1+2*PNOrder).removeO(),\n",
      "               x=v, x0=0, n=9+2*PNOrder).removeO()"
     ],
     "language": "python",
     "metadata": {},
     "outputs": [],
     "prompt_number": "*"
    },
    {
     "cell_type": "code",
     "collapsed": false,
     "input": [
      "print dvdt"
     ],
     "language": "python",
     "metadata": {},
     "outputs": [],
     "prompt_number": "*"
    },
    {
     "cell_type": "code",
     "collapsed": false,
     "input": [
      "print(\"\"\"  \n",
      "  int TaylorT1RHS(double t, const double* y, double* dydt) {\n",
      "    // Stop integrating if v is greater than or equal to 1.0\n",
      "    if(y[0]>=1.0) { return GSL_ETOLX; }\n",
      "    \n",
      "    // Fundamental variables (except for the Quaternions)\n",
      "    const double v = y[0];\n",
      "    const double Phi = y[1];\n",
      "    const double chi1_x = y[2];\n",
      "    const double chi1_y = y[3];\n",
      "    const double chi1_z = y[4];\n",
      "    const double chi2_x = y[5];\n",
      "    const double chi2_y = y[6];\n",
      "    const double chi2_z = y[7];\n",
      "    const double Lhat_N_x = y[8];\n",
      "    const double Lhat_N_y = y[9];\n",
      "    const double Lhat_N_z = y[10];\n",
      "    const double gamma = y[11];\n",
      "    const GWFrames::Quaternion Rax = \n",
      "        GWFrames::sqrtOfRotor(-GWFrames::normalized(GWFrames::Quaternion(0., Lhat_N_x, Lhat_N_y, Lhat_N_z))*zHat);\n",
      "    const GWFrames::Quaternion R = Rax * GWFrames::exp(((gamma+Phi)/2.)*zHat);\n",
      "    const GWFrames::Quaternion nhatQ = R*xHat*R.conjugate();\n",
      "    const double nhat_x = nhatQ[1];\n",
      "    const double nhat_y = nhatQ[2];\n",
      "    const double nhat_z = nhatQ[3];\"\"\")\n",
      "print(CCodeOutput(['dEnergydv',\n",
      "                   'Flux',\n",
      "                   'Absorption',\n",
      "                   'gamma_Lhat_N',\n",
      "                   'a_ell_overvcubed',\n",
      "                   'const double Omega_Lhat_N = gamma_Lhat_N*a_ell_overvcubed;',\n",
      "                   'Omega1',\n",
      "                   'Omega2']))\n",
      "print(\"\"\"    \n",
      "    // Calculate derivatives of the fundamental variables\n",
      "    dydt[0] = - (Flux + Absorption) / dEnergydv;\n",
      "    if(dydt[0]<0.0) { return GSL_ETOLF; } // Stop integrating if v is decreasing\n",
      "    dydt[1] = v*v*v;\n",
      "    double Omega_spin1[3] = {Omega1*Lhat_N_x, Omega1*Lhat_N_y, Omega1*Lhat_N_z};\n",
      "    double Omega_spin2[3] = {Omega2*Lhat_N_x, Omega2*Lhat_N_y, Omega2*Lhat_N_z};\n",
      "    double Omega_prec[3]  = {Omega_Lhat_N*nhat_x, Omega_Lhat_N*nhat_y, Omega_Lhat_N*nhat_z};\n",
      "    cross(&Omega_spin1[0], &y[2], &dydt[2]);\n",
      "    cross(&Omega_spin2[0], &y[5], &dydt[5]);\n",
      "    cross(&Omega_prec[0],  &y[8], &dydt[8]);\n",
      "    const GWFrames::Quaternion adot(0., dydt[8], dydt[9], dydt[10]);\n",
      "    const GWFrames::Quaternion Raxdot = ( (-1.0/std::sqrt(2+2*y[10]))*adot*zHat - (dydt[10]/(2+2*y[10]))*Rax );\n",
      "    const GWFrames::Quaternion dgammadt = 2*(Rax.conjugate() * Raxdot * zHat);\n",
      "    dydt[11] = dgammadt[0];\n",
      "    \n",
      "    // GSL expects this to be the returned quantity if everything went well\n",
      "    return GSL_SUCCESS;\n",
      "  }\n",
      "\"\"\")\n"
     ],
     "language": "python",
     "metadata": {},
     "outputs": [
      {
       "output_type": "stream",
       "stream": "stdout",
       "text": [
        "  \n",
        "  int TaylorT1RHS(double t, const double* y, double* dydt) {\n",
        "    // Stop integrating if v is greater than or equal to 1.0\n",
        "    if(y[0]>=1.0) { return GSL_ETOLX; }\n",
        "    \n",
        "    // Fundamental variables (except for the Quaternions)\n",
        "    const double v = y[0];\n",
        "    const double Phi = y[1];\n",
        "    const double chi1_x = y[2];\n",
        "    const double chi1_y = y[3];\n",
        "    const double chi1_z = y[4];\n",
        "    const double chi2_x = y[5];\n",
        "    const double chi2_y = y[6];\n",
        "    const double chi2_z = y[7];\n",
        "    const double Lhat_N_x = y[8];\n",
        "    const double Lhat_N_y = y[9];\n",
        "    const double Lhat_N_z = y[10];\n",
        "    const double gamma = y[11];\n",
        "    const GWFrames::Quaternion Rax = \n",
        "        GWFrames::sqrtOfRotor(-GWFrames::normalized(GWFrames::Quaternion(0., Lhat_N_x, Lhat_N_y, Lhat_N_z))*zHat);\n",
        "    const GWFrames::Quaternion R = Rax * GWFrames::exp(((gamma+Phi)/2.)*zHat);\n",
        "    const GWFrames::Quaternion nhatQ = R*xHat*R.conjugate();\n",
        "    const double nhat_x = nhatQ[1];\n",
        "    const double nhat_y = nhatQ[2];\n",
        "    const double nhat_z = nhatQ[3];\n",
        "    \n",
        "    // Non-fundamental atomic quantities\n",
        "    const double chi1chi1 = pow(chi1_x, 2) + pow(chi1_y, 2) + pow(chi1_z, 2);\n",
        "    const double chi2chi2 = 2.0*pow(chi2_x, 2) + pow(chi2_z, 2);\n",
        "    const double chi1_l = Lhat_Nx*chi1_x + Lhat_Ny*chi1_y + Lhat_Nz*chi1_z;\n",
        "    const double chi1_n = chi1_x*nhat_x + chi1_y*nhat_y + chi1_z*nhat_z;\n",
        "    const double chi1_lambda = chi1_x*(Lhat_Ny*nhat_z - Lhat_Nz*nhat_y) + chi1_y*(-Lhat_Nx*nhat_z + Lhat_Nz*nhat_x) + chi1_z*(Lhat_Nx*nhat_y - Lhat_Ny*nhat_x);\n",
        "    const double chi2_l = Lhat_Nx*chi2_x + Lhat_Ny*chi2_x + Lhat_Nz*chi2_z;\n",
        "    const double chi2_n = chi2_x*nhat_x + chi2_x*nhat_y + chi2_z*nhat_z;\n",
        "    const double chi2_lambda = chi2_x*(-Lhat_Nx*nhat_z + Lhat_Nz*nhat_x) + chi2_x*(Lhat_Ny*nhat_z - Lhat_Nz*nhat_y) + chi2_z*(Lhat_Nx*nhat_y - Lhat_Ny*nhat_x);\n",
        "    const double sqrt1Mchi1chi1 = sqrt(-chi1chi1 + 1.0);\n",
        "    const double sqrt1Mchi2chi2 = sqrt(-chi2chi2 + 1.0);\n",
        "    const double S_l = chi1_l*pow(m1, 2) + chi2_l*pow(m2, 2);\n",
        "    const double S_n = chi1_n*pow(m1, 2) + chi2_l*pow(m2, 2);\n",
        "    const double Sigma_l = -chi1_l*m1 + chi2_l*m2;\n",
        "    const double Sigma_n = -chi1_n*m1 + chi2_n*m2;\n",
        "    const double logv = log(v);\n",
        "    \n",
        "    // Composite quantities\n",
        "    const double dEnergydv = v*(-1.0*nu + pow(v, 2)*(nu*(0.166666666666667*nu + 1.5) + v*(-11.6666666666667*S_l*nu - 5.0*Sigma_l*delta*nu + v*(chi1_l*(chi1_l*(1.5*delta*nu + nu*(-3.0*nu + 1.5)) + 6.0*chi2_l*pow(nu, 2)) + chi1_lambda*(chi1_lambda*(-0.75*delta*nu + nu*(1.5*nu - 0.75)) - 3.0*chi2_lambda*pow(nu, 2)) + chi1_n*(chi1_n*(-0.75*delta*nu + nu*(1.5*nu - 0.75)) - 3.0*chi2_n*pow(nu, 2)) + pow(chi2_l, 2)*(-1.5*delta*nu + nu*(-3.0*nu + 1.5)) + pow(chi2_lambda, 2)*(0.75*delta*nu + nu*(1.5*nu - 0.75)) + pow(chi2_n, 2)*(0.75*delta*nu + nu*(1.5*nu - 0.75)) + nu*(-7.125*nu + 0.125*nu__2 + 10.125) + v*(S_l*nu*(23.7222222222222*nu - 38.5) + Sigma_l*delta*nu*(11.6666666666667*nu - 10.5) + v*(nu*(-154.898517962917*nu + 6.45833333333333*nu__2 + 0.0270061728395062*nu__3 + 42.1875) + v*(S_l*nu*(412.875*nu - 10.875*nu__2 - 151.875) + Sigma_l*delta*nu*(175.5*nu - 5.625*nu__2 - 30.375) + v*(-298.666666666667*logv*pow(nu, 2) + nu*(-769.4015*nu + nu__2*(-0.012377829218107*nu__2 + 450.663995131026) - 0.870949074074074*nu__3 + 155.0390625) + pow(v, 2)*(logv*pow(nu, 2)*(1523.2*nu + 1710.17142857143) + nu*(330.78*nu + 538.20703125) + pow(v, 2)*(16016.0*logv*pow(nu, 2) + nu*(-4116.0*nu + 1808.9736328125)))))))))));\n",
        "    const double Flux = pow(v, 10)*(6.4*nu__2 + pow(v, 2)*(-18.6666666666667*nu*nu__2 - 23.752380952381*nu__2 + v*(25.6*S_l*nu__2 - 8.0*Sigma_l*delta*nu__2 + 80.4247719318987*nu__2 + v*(chi1_l*(chi1_l*(6.6*delta*nu__2 - 13.2*nu*nu__2 + 6.6*nu__2) + 24.8*chi2_l*nu*nu__2) + chi1_lambda*(chi1_lambda*(-2.96666666666667*delta*nu__2 + 5.93333333333333*nu*nu__2 - 2.96666666666667*nu__2) - 13.7333333333333*chi2_lambda*nu*nu__2) + chi1_n*(chi1_n*(-2.96666666666667*delta*nu__2 + 5.93333333333333*nu*nu__2 - 2.96666666666667*nu__2) - 13.7333333333333*chi2_n*nu*nu__2) + pow(chi2_l, 2)*(-6.6*delta*nu__2 - 13.2*nu*nu__2 + 6.6*nu__2) + pow(chi2_lambda, 2)*(2.96666666666667*delta*nu__2 + 5.93333333333333*nu*nu__2 - 2.96666666666667*nu__2) + pow(chi2_n, 2)*(2.96666666666667*delta*nu__2 + 5.93333333333333*nu*nu__2 - 2.96666666666667*nu__2) + 117.726984126984*nu*nu__2 + nu__2*(23.1111111111111*nu__2 - 31.542151675485) + v*(S_l*(193.422222222222*nu*nu__2 - 28.8*nu__2) + Sigma_l*delta*(68.8*nu*nu__2 - 5.2*nu__2) - 488.412937878093*nu*nu__2 - 245.074146910038*nu__2 + v*(-321.699087727595*S_l*nu__2 - 103.881997078702*Sigma_l*delta*nu__2 - 104.350476190476*logv*nu__2 - 56.7811420312465*nu*nu__2 + nu__2*(-199.794708994709*nu__2 - 15.3086419753086*nu__3 + 945.576192944022) - 204.89320622011*nu__2 + v*(S_l*(208.998941798942*nu*nu__2 + nu__2*(-666.074074074074*nu__2 + 448.343327454439)) + Sigma_l*delta*(93.9174603174603*nu*nu__2 + nu__2*(-266.844444444444*nu__2 + 181.619047619048)) + 2498.67153479682*nu*nu__2 + nu__2*(1285.7923710359*nu__2 - 649.661414142346) + v*(S_l*(3875.74795014869*nu*nu__2 - 729.896693184029*nu__2) + Sigma_l*delta*(1302.34474121815*nu*nu__2 - 214.316458834892*nu__2) + 337.555736961451*logv*nu__2 - 752.028100625135*nu__2 + v*(-1311.30675759439*logv*nu__2 + 4602.42139029395*nu__2 + v*(746.4952102023*logv*nu__2 - 7788.20474442907*nu__2 + v*(3031.19666031508*logv*nu__2 + 6137.18380876523*nu__2 + v*(3340.73494332217*logv*nu__2 + logv*(850.70483446712*logv*nu__2 - 15505.402624526*nu__2) + 13022.6558856344*nu__2))))))))))));\n",
        "    const double Absorption = pow(v, 15)*(chi1_l*pow(m1, 3)*(-4.8*chi1chi1*nu__2 - 1.6*nu__2) + chi2_l*pow(m2, 3)*(-4.8*chi2chi2*nu__2 - 1.6*nu__2) + pow(v, 3)*(pow(m1, 4)*(chi1chi1*nu__2*(9.6*sqrt1Mchi1chi1 + 9.6) + nu__2*(3.2*sqrt1Mchi1chi1 + 3.2)) + pow(m2, 4)*(chi2chi2*nu__2*(9.6*sqrt1Mchi2chi2 + 9.6) + nu__2*(3.2*sqrt1Mchi2chi2 + 3.2))));\n",
        "    const double gamma_Lhat_N = pow(v, 2)*(pow(v, 2)*(-0.333333333333333*nu + v*(1.66666666666667*S_l + Sigma_l*delta + v*(-5.41666666666667*nu + v*(S_l*(0.888888888888889*nu + 3.33333333333333) + 2.0*Sigma_l*delta + v*(nu*(nu*(0.0123456790123457*nu + 6.36111111111111) - 2.98177812235564) + v*(S_l*(nu*(-6.0*nu - 10.5833333333333) + 5.0) + Sigma_l*delta*(nu*(-2.66666666666667*nu - 10.1666666666667) + 3.0)) + 1.0)) + 1.0)) + 1.0) + 1.0);\n",
        "    const double a_ell_overvcubed = pow(v, 4)*(7.0*S_n + 3.0*Sigma_n*delta + pow(v, 2)*(S_n*(-9.66666666666667*nu - 10.0) + Sigma_n*delta*(-4.5*nu - 6.0) + pow(v, 2)*(S_n*(nu*(5.77777777777778*nu + 14.75) + 1.5) + Sigma_n*delta*(nu*(2.83333333333333*nu + 9.125) + 1.5))));\n",
        "    const double Omega_Lhat_N = gamma_Lhat_N*a_ell_overvcubed;\n",
        "    const double Omega1 = pow(v, 5)*(-0.75*delta + 0.5*nu + pow(v, 2)*(delta*(0.625*nu - 0.5625) + nu*(-0.0416666666666667*nu + 1.25) + pow(v, 2)*(delta*(nu*(-0.15625*nu + 4.875) - 0.84375) + nu*(nu*(-0.0208333333333333*nu - 3.28125) + 0.1875) + 0.84375) + 0.5625) + 0.75);\n",
        "    const double Omega2 = pow(v, 5)*(0.75*delta + 0.5*nu + pow(v, 2)*(delta*(-0.625*nu + 0.5625) + nu*(-0.0416666666666667*nu + 1.25) + pow(v, 2)*(delta*(nu*(0.15625*nu - 4.875) + 0.84375) + nu*(nu*(-0.0208333333333333*nu - 3.28125) + 0.1875) + 0.84375) + 0.5625) + 0.75);"
       ]
      },
      {
       "output_type": "stream",
       "stream": "stdout",
       "text": [
        "\n",
        "    \n",
        "    // Calculate derivatives of the fundamental variables\n",
        "    dydt[0] = - (Flux + Absorption) / dEnergydv;\n",
        "    if(dydt[0]<0.0) { return GSL_ETOLF; } // Stop integrating if v is decreasing\n",
        "    dydt[1] = v*v*v;\n",
        "    double Omega_spin1[3] = {Omega1*Lhat_N_x, Omega1*Lhat_N_y, Omega1*Lhat_N_z};\n",
        "    double Omega_spin2[3] = {Omega2*Lhat_N_x, Omega2*Lhat_N_y, Omega2*Lhat_N_z};\n",
        "    double Omega_prec[3]  = {Omega_Lhat_N*nhat_x, Omega_Lhat_N*nhat_y, Omega_Lhat_N*nhat_z};\n",
        "    cross(&Omega_spin1[0], &y[2], &dydt[2]);\n",
        "    cross(&Omega_spin2[0], &y[5], &dydt[5]);\n",
        "    cross(&Omega_prec[0],  &y[8], &dydt[8]);\n",
        "    const GWFrames::Quaternion adot(0., dydt[8], dydt[9], dydt[10]);\n",
        "    const GWFrames::Quaternion Raxdot = ( (-1.0/std::sqrt(2+2*y[10]))*adot*zHat - (dydt[10]/(2+2*y[10]))*Rax );\n",
        "    const GWFrames::Quaternion dgammadt = 2*(Rax.conjugate() * Raxdot * zHat);\n",
        "    dydt[11] = dgammadt[0];\n",
        "    \n",
        "    // GSL expects this to be the returned quantity if everything went well\n",
        "    return GSL_SUCCESS;\n",
        "  }\n",
        "\n"
       ]
      }
     ],
     "prompt_number": 51
    },
    {
     "cell_type": "heading",
     "level": 1,
     "metadata": {},
     "source": [
      "TaylorT2 and TaylorT3"
     ]
    },
    {
     "cell_type": "markdown",
     "metadata": {},
     "source": [
      "These two approximants are also closely related to each other."
     ]
    },
    {
     "cell_type": "code",
     "collapsed": false,
     "input": [],
     "language": "python",
     "metadata": {},
     "outputs": []
    }
   ],
   "metadata": {}
  }
 ]
}