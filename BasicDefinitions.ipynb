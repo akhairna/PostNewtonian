{
 "metadata": {
  "name": ""
 },
 "nbformat": 3,
 "nbformat_minor": 0,
 "worksheets": [
  {
   "cells": [
    {
     "cell_type": "heading",
     "level": 1,
     "metadata": {},
     "source": [
      "Set up python"
     ]
    },
    {
     "cell_type": "code",
     "collapsed": false,
     "input": [
      "# Make sure division of integers does not round to the nearest integer\n",
      "from __future__ import division\n",
      "\n",
      "# Make everything in python's symbolic math package available\n",
      "from sympy import *\n",
      "\n",
      "# Print symbolic expressions nicely\n",
      "init_printing()"
     ],
     "language": "python",
     "metadata": {},
     "outputs": [],
     "prompt_number": 1
    },
    {
     "cell_type": "heading",
     "level": 1,
     "metadata": {},
     "source": [
      "Define the basic variables"
     ]
    },
    {
     "cell_type": "markdown",
     "metadata": {},
     "source": [
      "Only the most basic variables should be defined here."
     ]
    },
    {
     "cell_type": "code",
     "collapsed": false,
     "input": [
      "m1, m2, v = symbols('m1, m2, v', real=True)\n",
      "chi1, chi2, ell = symbols('chi1, chi2, ell', seq=True, real=True)\n"
     ],
     "language": "python",
     "metadata": {},
     "outputs": []
    },
    {
     "cell_type": "heading",
     "level": 1,
     "metadata": {},
     "source": [
      "Derived variables"
     ]
    },
    {
     "cell_type": "markdown",
     "metadata": {},
     "source": [
      "Any variable that can be derived from the variables above should be put in this section."
     ]
    },
    {
     "cell_type": "code",
     "collapsed": false,
     "input": [
      "# These are just combinations of the two masses\n",
      "m = symbols('m', real=True) # = m1+m2\n",
      "delta = symbols('delta', real=True) # = (m1-m2)/m\n",
      "nu = symbols('nu', real=True) # = m1*m2/m\n",
      "q = symbols('q', real=True) # = m1/m2\n",
      "\n",
      "# These are just components of the spin vectors\n",
      "chi1_ell, chi1_n, chi1_la = symbols('chi1_ell, chi1_n, chi1_la', real=True)\n",
      "chi2_ell, chi2_n, chi2_la = symbols('chi2_ell, chi2_n, chi2_la', real=True)\n",
      "\n",
      "# These are combinations of the individual spin vectors\n",
      "S = symbol('S', seq=True, real=True) #  =  S_1 + S_2  =  chi1*(1+delta)/2 + chi2*(1-delta)/2\n",
      "Sigma = symbol('Sigma', seq=True, real=True) #  =  Sigma_1 + S_2  =  chi1*(1+delta)/2 + chi2*(1-delta)/2\n",
      "S_ell, S_n, S_la = symbols('S_ell, S_n, S_la', real=True)\n",
      "Sigma_ell, Sigma_n, Sigma_la = symbols('Sigma_ell, Sigma_n, Sigma_la', real=True)\n"
     ],
     "language": "python",
     "metadata": {},
     "outputs": []
    }
   ],
   "metadata": {}
  }
 ]
}