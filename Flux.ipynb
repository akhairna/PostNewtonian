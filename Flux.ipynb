{
 "metadata": {
  "name": ""
 },
 "nbformat": 3,
 "nbformat_minor": 0,
 "worksheets": [
  {
   "cells": [
    {
     "cell_type": "code",
     "collapsed": false,
     "input": [
      "# Always run this first\n",
      "# NOTE: Do not define new variables in this notebook or in Variables.py; \n",
      "#       define them in Variables.ipynb.  Variables.py will be automatically\n",
      "#       recreated when Variables.ipynb is saved.\n",
      "\n",
      "from __future__ import division # This needs to be here, even though it's in Variables.py\n",
      "execfile('ExecNotebook.ipy')\n",
      "if 'VariablesNotebook' not in globals():\n",
      "    VariablesNotebook = 'Variables.ipynb'\n",
      "execnotebook(VariablesNotebook)"
     ],
     "language": "python",
     "metadata": {},
     "outputs": [],
     "prompt_number": 1
    },
    {
     "cell_type": "heading",
     "level": 1,
     "metadata": {},
     "source": [
      "Individual flux terms"
     ]
    },
    {
     "cell_type": "markdown",
     "metadata": {},
     "source": [
      "In this notebook, every term will be multiplied by the following coefficient.  [Note that fractions need to be entered as, e.g., `frac(32,5)` so that they are not converted to finite-precision decimals.]"
     ]
    },
    {
     "cell_type": "code",
     "collapsed": false,
     "input": [
      "FluxCoefficient = frac(32,5)*nu**2*v**10"
     ],
     "language": "python",
     "metadata": {},
     "outputs": [],
     "prompt_number": 2
    },
    {
     "cell_type": "markdown",
     "metadata": {},
     "source": [
      "We will define a dictionary of dictionaries to contain all the flux terms.  The top-level keys will be different types of terms: nonspinning, spin-spin, etc.  The dictionaries they contain will give those terms at different PN orders. "
     ]
    },
    {
     "cell_type": "code",
     "collapsed": false,
     "input": [
      "FluxTerms = {'Nonspinning':{},\n",
      "             'IncompleteNonspinning':{},\n",
      "             'SpinQuadratic':{},\n",
      "             'SpinOrbit':{},\n",
      "             'NSTidal':{},\n",
      "             }"
     ],
     "language": "python",
     "metadata": {},
     "outputs": [],
     "prompt_number": 3
    },
    {
     "cell_type": "markdown",
     "metadata": {},
     "source": [
      "The nonspinning flux terms are complete to 3.5pN order.  These terms are given by Eq. (231) of [Blanchet (2006)](http://www.livingreviews.org/lrr-2006-4):"
     ]
    },
    {
     "cell_type": "code",
     "collapsed": false,
     "input": [
      "FluxTerms['Nonspinning'][0] = 1\n",
      "FluxTerms['Nonspinning'][1] = 0\n",
      "FluxTerms['Nonspinning'][2] = -frac(1247,336) - frac(35,12)*nu\n",
      "FluxTerms['Nonspinning'][3] = 4*pi\n",
      "FluxTerms['Nonspinning'][4] = -frac(44711,9072) + frac(9271,504)*nu + frac(65,18)*nu**2\n",
      "FluxTerms['Nonspinning'][5] = (-frac(8191,672) - frac(583,24)*nu)*pi\n",
      "FluxTerms['Nonspinning'][6] = \\\n",
      "    frac(6643739519,69854400) + frac(16,3)*pi**2 - EulerGamma*frac(1712,105) - frac(1712,105)*ln(4) \\\n",
      "     - frac(1712,105)*ln(v)+ (-frac(134543,7776) + frac(41,48)*pi**2)*nu - frac(94403,3024)*nu**2 - frac(775,324)*nu**3\n",
      "FluxTerms['Nonspinning'][7] = (-frac(16285,504) + frac(214745,1728)*nu + frac(193385,3024)*nu**2)*pi"
     ],
     "language": "python",
     "metadata": {},
     "outputs": [],
     "prompt_number": 4
    },
    {
     "cell_type": "markdown",
     "metadata": {},
     "source": [
      "This term is the 4.0pN nonspinning term in the limit as the mass ratio goes to zero.  This is given by Eq. (43) of [Tagoshi and Sasaki (1994)](http://arxiv.org/abs/gr-qc/9405062v1):"
     ]
    },
    {
     "cell_type": "code",
     "collapsed": false,
     "input": [
      "FluxTerms['IncompleteNonspinning'][8] = \\\n",
      "    -frac(323105549467,3178375200) - frac(1369,126)*pi**2 + frac(232597,4410)*EulerGamma \\\n",
      "    + frac(39931,294)*ln(2) - frac(47385,1568)*ln(3) + frac(232597,4410)*ln(v)"
     ],
     "language": "python",
     "metadata": {},
     "outputs": [],
     "prompt_number": 5
    },
    {
     "cell_type": "markdown",
     "metadata": {},
     "source": [
      "The following are EMRI terms from Appendix A of [Fujita (2012)](http://arxiv.org/abs/1211.5535v1).  He computed them up to 22pN.  That seems like overkill, so we'll just go up to 6pN."
     ]
    },
    {
     "cell_type": "code",
     "collapsed": false,
     "input": [
      "FluxTerms['IncompleteNonspinning'][8] = \\\n",
      "    232597*log(v)/4410 - 1369*pi**2/126 - 323105549467/3178375200 - 47385*log(3)/1568 + 232597*EulerGamma/4410 \\\n",
      "    + 39931*log(2)/294\n",
      "FluxTerms['IncompleteNonspinning'][9] = \\\n",
      "    -6848*pi*log(v)/105 - 13696*pi*log(2)/105 - 6848*EulerGamma*pi/105 + 265978667519*pi/745113600\n",
      "FluxTerms['IncompleteNonspinning'][10] = \\\n",
      "    916628467*log(v)/7858620 - 2500861660823683/2831932303200 - 424223*pi**2/6804 - 83217611*log(2)/1122660 \\\n",
      "    + 916628467*EulerGamma/7858620 + 47385*log(3)/196\n",
      "FluxTerms['IncompleteNonspinning'][11] = \\\n",
      "    177293*pi*log(v)/1176 - 142155*pi*log(3)/784 + 8399309750401*pi/101708006400 + 177293*EulerGamma*pi/1176 \\\n",
      "    + 8521283*pi*log(2)/17640\n",
      "FluxTerms['IncompleteNonspinning'][12] = \\\n",
      "    1465472*log(v)**2/11025 - 246137536815857*log(v)/157329572400 - 27392*pi**2*log(v)/315 \\\n",
      "    + 2930944*EulerGamma*log(v)/11025 + 5861888*log(2)*log(v)/11025 - 271272899815409*log(2)/157329572400 \\\n",
      "    - 54784*pi**2*log(2)/315 - 246137536815857*EulerGamma/157329572400 - 437114506833*log(3)/789268480 - 256*pi**4/45 \\\n",
      "    - 27392*EulerGamma*pi**2/315 - 27392*zeta(3)/105 - 37744140625*log(5)/260941824 + 1465472*EulerGamma**2/11025 \\\n",
      "    + 5861888*EulerGamma*log(2)/11025 + 5861888*log(2)**2/11025 + 2067586193789233570693/602387400044430000 \\\n",
      "    + 3803225263*pi**2/10478160"
     ],
     "language": "python",
     "metadata": {},
     "outputs": [],
     "prompt_number": 6
    },
    {
     "cell_type": "markdown",
     "metadata": {},
     "source": [
      "The spin-squared terms (by which I mean both spin-spin and spin-orbit squared terms) in the flux are known only at 2pN order (from [Kidder (1995)](http://link.aps.org/doi/10.1103/PhysRevD.52.821) and [Will and Wiseman (1996)](http://link.aps.org/doi/10.1103/PhysRevD.54.4813)).  They are most conveniently given in Eq. (C10) of [Arun et al.](http://arxiv.org/abs/0810.5336v3)  We first need to convert from Arun et al.'s slightly inconvenient spin definitions:"
     ]
    },
    {
     "cell_type": "code",
     "collapsed": false,
     "input": [
      "chis = array([chi1_l+chi2_l,chi1_n+chi2_n,chi1_la+chi2_la])/2\n",
      "chia = array([chi1_l-chi2_l,chi1_n-chi2_n,chi1_la-chi2_la])/2\n",
      "chis_l = (chi1_l+chi2_l)/2\n",
      "chia_l = (chi1_l-chi2_l)/2\n",
      "SSTerm = (frac(287,96) + nu/24)*(chis_l)**2 - (frac(89,96) + frac(7,24)*nu)*dot(chis,chis) \\\n",
      "    + (frac(287,96) - 12*nu)*(chia_l)**2 + (-(frac(89,96)) + 4*nu)*dot(chia,chia) \\\n",
      "    + frac(287,48)*delta*chis_l*chia_l - frac(89,48)*delta*dot(chis,chia)"
     ],
     "language": "python",
     "metadata": {},
     "outputs": [],
     "prompt_number": 7
    },
    {
     "cell_type": "code",
     "collapsed": false,
     "input": [
      "FluxTerms['SpinQuadratic'][4] = horner(SSTerm.expand().simplify())"
     ],
     "language": "python",
     "metadata": {},
     "outputs": [],
     "prompt_number": 8
    },
    {
     "cell_type": "markdown",
     "metadata": {},
     "source": [
      "The spin-orbit terms in the flux are now known to 4.0pN.  These terms come from Eq. (4.9) of [Marsat et al. (2013)](http://arxiv.org/abs/1307.6793v1):"
     ]
    },
    {
     "cell_type": "code",
     "collapsed": false,
     "input": [
      "FluxTerms['SpinOrbit'][3] = -4*S_l - frac(5,4)*delta*Sigma_l\n",
      "FluxTerms['SpinOrbit'][4] = 0\n",
      "FluxTerms['SpinOrbit'][5] = (-frac(9,2)+frac(272,9)*nu)*S_l + (-frac(13,16)+frac(43,4)*nu)*delta*Sigma_l\n",
      "FluxTerms['SpinOrbit'][6] = (-16*pi)*S_l + (-frac(31,6)*pi)*delta*Sigma_l\n",
      "FluxTerms['SpinOrbit'][7] = (frac(476645,6804)+frac(6172,189)*nu-frac(2810,27)*nu**2)*S_l \\\n",
      "                            + (frac(9535,336)+frac(1849,126)*nu-frac(1501,36)*nu**2)*delta*Sigma_l\n",
      "FluxTerms['SpinOrbit'][8] = (-frac(3485,96)+frac(13879,72)*nu)*pi*S_l \\\n",
      "                            + (-frac(7163,672)+frac(130583,2016)*nu)*pi*delta*Sigma_l"
     ],
     "language": "python",
     "metadata": {},
     "outputs": [],
     "prompt_number": 9
    },
    {
     "cell_type": "markdown",
     "metadata": {},
     "source": [
      "The tidal-coupling terms come in to the energy at relative 5pN order, and are known partially at 6pN order.\n",
      "\n",
      "These terms come from Eq. (3.6) of [Vines et al. (2011)](http://prd.aps.org/abstract/PRD/v83/i8/e084051).  Note their unusual convention for mass ratios, where $\\chi_1 = m_1/m$ in their notation; in particular, $\\chi$ is not a spin parameter.  Also note that $\\hat{\\lambda} = \\lambda_2 v^{10}/(m_1+m_2)^5$, and we need to add the coupling terms again with $1 \\leftrightarrow 2$.  Finally, note the normalization difference, where a different overall factor is used, leading to a sign difference."
     ]
    },
    {
     "cell_type": "code",
     "collapsed": false,
     "input": [
      "FluxTerms['NSTidal'][10] = (12-18/m2)*lambda2 + (12-18/m1)*lambda1\n",
      "FluxTerms['NSTidal'][11] = 0\n",
      "FluxTerms['NSTidal'][12] = (704+1803*m2-4501*m2**2+2170*m2**3)*lambda2/(28*m2) \\\n",
      "                           + (704+1803*m1-4501*m1**2+2170*m1**3)*lambda1/(28*m1)\n",
      "\n",
      "# Note that the above terms should be divided by (m1+m2)**5, and m1 and m2 should be divided by (m1+m2),\n",
      "# except that here we use units with m1+m2=1"
     ],
     "language": "python",
     "metadata": {},
     "outputs": [],
     "prompt_number": 10
    },
    {
     "cell_type": "code",
     "collapsed": false,
     "input": [
      "#print FluxTerms"
     ],
     "language": "python",
     "metadata": {},
     "outputs": [
      {
       "output_type": "stream",
       "stream": "stdout",
       "text": [
        "{'NSTidal': {10: lambda1*(12 - 18/m1) + lambda2*(12 - 18/m2), 11: 0, 12: lambda1*(2170*m1**3 - 4501*m1**2 + 1803*m1 + 704)/(28*m1) + lambda2*(2170*m2**3 - 4501*m2**2 + 1803*m2 + 704)/(28*m2)}, 'SpinOrbit': {3: -4*S_l - 5*Sigma_l*delta/4, 4: 0, 5: S_l*(272*nu/9 - 9/2) + Sigma_l*delta*(43*nu/4 - 13/16), 6: -16*pi*S_l - 31*pi*Sigma_l*delta/6, 7: S_l*(-2810*nu**2/27 + 6172*nu/189 + 476645/6804) + Sigma_l*delta*(-1501*nu**2/36 + 1849*nu/126 + 9535/336), 8: pi*S_l*(13879*nu/72 - 3485/96) + pi*Sigma_l*delta*(130583*nu/2016 - 7163/672)}, 'Nonspinning': {0: 1, 1: 0, 2: -35*nu/12 - 1247/336, 3: 4*pi, 4: 65*nu**2/18 + 9271*nu/504 - 44711/9072, 5: pi*(-583*nu/24 - 8191/672), 6: -775*nu**3/324 - 94403*nu**2/3024 + nu*(-134543/7776 + 41*pi**2/48) - 1712*log(v)/105 - 1712*log(4)/105 - 1712*EulerGamma/105 + 16*pi**2/3 + 6643739519/69854400, 7: pi*(193385*nu**2/3024 + 214745*nu/1728 - 16285/504)}, 'IncompleteNonspinning': {8: 232597*log(v)/4410 - 1369*pi**2/126 - 101.657459908132 - 47385*log(3)/1568 + 232597*EulerGamma/4410 + 39931*log(2)/294, 9: -6848*pi*log(v)/105 - 13696*pi*log(2)/105 - 6848*EulerGamma*pi/105 + 265978667519*pi/745113600, 10: 916628467*log(v)/7858620 - 883.093730029416 - 424223*pi**2/6804 - 83217611*log(2)/1122660 + 916628467*EulerGamma/7858620 + 47385*log(3)/196, 11: 177293*pi*log(v)/1176 - 142155*pi*log(3)/784 + 8399309750401*pi/101708006400 + 177293*EulerGamma*pi/1176 + 8521283*pi*log(2)/17640, 12: 1465472*log(v)**2/11025 - 246137536815857*log(v)/157329572400 - 27392*pi**2*log(v)/315 + 2930944*EulerGamma*log(v)/11025 + 5861888*log(2)*log(v)/11025 - 271272899815409*log(2)/157329572400 - 54784*pi**2*log(2)/315 - 246137536815857*EulerGamma/157329572400 - 437114506833*log(3)/789268480 - 256*pi**4/45 - 27392*EulerGamma*pi**2/315 - 27392*zeta(3)/105 - 37744140625*log(5)/260941824 + 1465472*EulerGamma**2/11025 + 5861888*EulerGamma*log(2)/11025 + 5861888*log(2)**2/11025 + 3432.31978895431 + 3803225263*pi**2/10478160}, 'SpinQuadratic': {4: chi1_l*(chi1_l*(33*delta/32 - 33*nu/16 + 33/32) + 31*chi2_l*nu/8) + chi1_la*(chi1_la*(-89*delta/192 + 89*nu/96 - 89/192) - 103*chi2_la*nu/48) + chi1_n*(chi1_n*(-89*delta/192 + 89*nu/96 - 89/192) - 103*chi2_n*nu/48) + chi2_l**2*(-33*delta/32 - 33*nu/16 + 33/32) + chi2_la**2*(89*delta/192 + 89*nu/96 - 89/192) + chi2_n**2*(89*delta/192 + 89*nu/96 - 89/192)}}\n"
       ]
      }
     ],
     "prompt_number": 13
    },
    {
     "cell_type": "heading",
     "level": 1,
     "metadata": {},
     "source": [
      "Collected flux terms"
     ]
    },
    {
     "cell_type": "code",
     "collapsed": false,
     "input": [
      "def FluxSum(SpinTerms=True, IncompleteNonspinningTerms=False, NSTidalTerms=False) :\n",
      "    \"\"\"\n",
      "    Return an expression for the GW flux with the given options.\n",
      "    \n",
      "    \"\"\"\n",
      "    F = sum([FluxTerms['Nonspinning'][i]*v**i for i in sorted(FluxTerms['Nonspinning'])])\n",
      "    if (SpinTerms) :\n",
      "        F += sum([FluxTerms['SpinOrbit'][i]*v**i for i in sorted(FluxTerms['SpinOrbit'])])\n",
      "        F += sum([FluxTerms['SpinQuadratic'][i]*v**i for i in sorted(FluxTerms['SpinQuadratic'])])\n",
      "    if (IncompleteNonspinningTerms) :\n",
      "        F += sum([FluxTerms['IncompleteNonspinning'][i]*v**i for i in sorted(FluxTerms['IncompleteNonspinning'])])\n",
      "    if (NSTidalTerms) :\n",
      "        F += sum([FluxTerms['NSTidal'][i]*v**i for i in sorted(FluxTerms['NSTidal'])])\n",
      "    return FluxCoefficient*F"
     ],
     "language": "python",
     "metadata": {},
     "outputs": [],
     "prompt_number": 12
    },
    {
     "cell_type": "code",
     "collapsed": false,
     "input": [
      "#from CodeOutput import CCodeOutput\n",
      "#Flux = FluxSum(IncompleteNonspinningTerms=True).subs(log(v), logv).subs(Pow(nu,3), nu__3).subs(Pow(nu,2), nu__2)\n",
      "#print CCodeOutput(['Flux'], PNVariables, globals())"
     ],
     "language": "python",
     "metadata": {},
     "outputs": [
      {
       "output_type": "stream",
       "stream": "stdout",
       "text": [
        "\n",
        "    const double Sigma_l = -chi1_l*m1 + chi2_l*m2;\n",
        "    const double S_l = chi1_l*pow(m1, 2) + chi2_l*pow(m2, 2);\n",
        "    const double Flux = pow(v, 10)*(6.4*pownu2 + pow(v, 2)*(-18.6666666666667*nu*pownu2 - 23.752380952381*pownu2 + v*(25.6*S_l*pownu2 - 8.0*Sigma_l*delta*pownu2 + 80.4247719318987*pownu2 + v*(chi1_l*(chi1_l*(6.6*delta*pownu2 - 13.2*nu*pownu2 + 6.6*pownu2) + 24.8*chi2_l*nu*pownu2) + chi1_lambda*(chi1_lambda*(-2.96666666666667*delta*pownu2 + 5.93333333333333*nu*pownu2 - 2.96666666666667*pownu2) - 13.7333333333333*chi2_lambda*nu*pownu2) + chi1_n*(chi1_n*(-2.96666666666667*delta*pownu2 + 5.93333333333333*nu*pownu2 - 2.96666666666667*pownu2) - 13.7333333333333*chi2_n*nu*pownu2) + pow(chi2_l, 2)*(-6.6*delta*pownu2 - 13.2*nu*pownu2 + 6.6*pownu2) + pow(chi2_lambda, 2)*(2.96666666666667*delta*pownu2 + 5.93333333333333*nu*pownu2 - 2.96666666666667*pownu2) + pow(chi2_n, 2)*(2.96666666666667*delta*pownu2 + 5.93333333333333*nu*pownu2 - 2.96666666666667*pownu2) + 117.726984126984*nu*pownu2 + pownu2*(23.1111111111111*pownu2 - 31.542151675485) + v*(S_l*(193.422222222222*nu*pownu2 - 28.8*pownu2) + Sigma_l*delta*(68.8*nu*pownu2 - 5.2*pownu2) - 488.412937878093*nu*pownu2 - 245.074146910038*pownu2 + v*(-321.699087727595*S_l*pownu2 - 103.881997078702*Sigma_l*delta*pownu2 - 104.350476190476*logv*pownu2 - 56.7811420312465*nu*pownu2 + pownu2*(-199.794708994709*pownu2 - 15.3086419753086*pownu3 + 608.693696053506) + 131.989290670407*pownu2 + v*(S_l*(208.998941798942*nu*pownu2 + pownu2*(-666.074074074074*pownu2 + 448.343327454439)) + Sigma_l*delta*(93.9174603174603*nu*pownu2 + pownu2*(-266.844444444444*pownu2 + 181.619047619048)) + 2498.67153479682*nu*pownu2 + 3.14159265358979*pownu2*(409.280423280423*pownu2 - 206.793650793651) + v*(S_l*(3875.74795014869*nu*pownu2 - 729.896693184029*pownu2) + Sigma_l*delta*(1302.34474121815*nu*pownu2 - 214.316458834892*pownu2) + 337.555736961451*logv*pownu2 - 752.028100625135*pownu2 + v*(-1311.30675759439*logv*pownu2 + 4602.42139029395*pownu2 + v*(746.4952102023*logv*pownu2 - 7788.20474442907*pownu2 + v*(3031.19666031508*logv*pownu2 + 6137.18380876523*pownu2 + v*(3340.73494332217*logv*pownu2 + logv*(850.70483446712*logv*pownu2 - 15505.402624526*pownu2) + 13022.6558856344*pownu2))))))))))));\n"
       ]
      }
     ],
     "prompt_number": 13
    }
   ],
   "metadata": {}
  }
 ]
}