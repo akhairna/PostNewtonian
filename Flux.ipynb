{
 "metadata": {
  "name": ""
 },
 "nbformat": 3,
 "nbformat_minor": 0,
 "worksheets": [
  {
   "cells": [
    {
     "cell_type": "code",
     "collapsed": false,
     "input": [
      "# Always run this first\n",
      "# NOTE: Do not define new variables in this notebook or in Variables.py; \n",
      "#       define them in Variables.ipynb.  Variables.py will be automatically\n",
      "#       recreated when Variables.ipynb is saved.\n",
      "\n",
      "%run -i Variables.py\n",
      "from __future__ import division # This needs to be here, even though it's in Variables.py"
     ],
     "language": "python",
     "metadata": {},
     "outputs": [],
     "prompt_number": 1
    },
    {
     "cell_type": "heading",
     "level": 1,
     "metadata": {},
     "source": [
      "Individual flux terms"
     ]
    },
    {
     "cell_type": "markdown",
     "metadata": {},
     "source": [
      "In this notebook, every term will be multiplied by the following coefficient.  [Note that fractions need to be entered as, e.g., `frac(32,5)` so that they are not converted to finite-precision decimals.]"
     ]
    },
    {
     "cell_type": "code",
     "collapsed": false,
     "input": [
      "FluxCoefficient = frac(32,5)*nu**2*v**10"
     ],
     "language": "python",
     "metadata": {},
     "outputs": [],
     "prompt_number": 2
    },
    {
     "cell_type": "markdown",
     "metadata": {},
     "source": [
      "We will define a dictionary of dictionaries to contain all the flux terms.  The top-level keys will be different types of terms: nonspinning, spin-spin, etc.  The dictionaries they contain will give those terms at different PN orders. "
     ]
    },
    {
     "cell_type": "code",
     "collapsed": false,
     "input": [
      "FluxTerms = {'Nonspinning':{},\n",
      "             'ExtraEMRI':{},\n",
      "             'SpinSpin':{},\n",
      "             'SpinOrbit':{},\n",
      "             'NSTidal':{},\n",
      "             }"
     ],
     "language": "python",
     "metadata": {},
     "outputs": [],
     "prompt_number": 55
    },
    {
     "cell_type": "markdown",
     "metadata": {},
     "source": [
      "The nonspinning flux terms are complete to 3.5pN order.  These terms are given by Eq. (231) of [Blanchet (2006)](http://www.livingreviews.org/lrr-2006-4):"
     ]
    },
    {
     "cell_type": "code",
     "collapsed": false,
     "input": [
      "FluxTerms['Nonspinning'][0] = 1\n",
      "FluxTerms['Nonspinning'][1] = 0\n",
      "FluxTerms['Nonspinning'][2] = -frac(1247,336) - frac(35,12)*nu\n",
      "FluxTerms['Nonspinning'][3] = 4*pi\n",
      "FluxTerms['Nonspinning'][4] = -frac(44711,9072) + frac(9271,504)*nu + frac(65,18)*nu**2\n",
      "FluxTerms['Nonspinning'][5] = (-frac(8191,672) - frac(583,24)*nu)*pi\n",
      "FluxTerms['Nonspinning'][6] = frac(6643739519,69854400) + frac(16,3)*pi**2 - EulerGamma*frac(1712,105) \\\n",
      "                              - frac(1712,105)*ln(4*v) + (-frac(134543,7776) + frac(41,48)*pi**2)*nu \\\n",
      "                              - frac(94403,3024)*nu**2 - frac(775,324)*nu**3\n",
      "FluxTerms['Nonspinning'][7] = (-frac(16285,504) + frac(214745,1728)*nu + frac(193385,3024)*nu**2)*pi"
     ],
     "language": "python",
     "metadata": {},
     "outputs": [],
     "prompt_number": 65
    },
    {
     "cell_type": "markdown",
     "metadata": {},
     "source": [
      "This term is the 4.0pN nonspinning term in the limit as the mass ratio goes to zero.  This is given by Eq. (43) of [Tagoshi and Sasaki (1994)](http://arxiv.org/abs/gr-qc/9405062v1):"
     ]
    },
    {
     "cell_type": "code",
     "collapsed": false,
     "input": [
      "FluxTerms['ExtraEMRI'][8] = -frac(323105549467,3178375200) - frac(1369,126)*pi**2 + frac(232597,4410)*EulerGamma \\\n",
      "                            + frac(39931,294)*ln(2) - frac(47385,1568)*ln(3) + frac(232597,4410)*ln(v)"
     ],
     "language": "python",
     "metadata": {},
     "outputs": [],
     "prompt_number": 66
    },
    {
     "cell_type": "markdown",
     "metadata": {},
     "source": [
      "The spin-spin terms in the flux are known to ..."
     ]
    },
    {
     "cell_type": "code",
     "collapsed": false,
     "input": [
      "FluxTerms['SpinSpin'][0] = \n",
      "FluxTerms['SpinSpin'][1] = \n",
      "FluxTerms['SpinSpin'][2] = \n",
      "FluxTerms['SpinSpin'][3] = \n",
      "FluxTerms['SpinSpin'][4] = \n",
      "FluxTerms['SpinSpin'][5] = \n",
      "FluxTerms['SpinSpin'][6] = \n",
      "FluxTerms['SpinSpin'][7] = \n",
      "FluxTerms['SpinSpin'][8] = "
     ],
     "language": "python",
     "metadata": {},
     "outputs": [],
     "prompt_number": 58
    },
    {
     "cell_type": "markdown",
     "metadata": {},
     "source": [
      "The spin-orbit terms in the flux are now known to 4.0pN.  These terms come from Eq. (4.9) of [Marsat et al. (2013)](http://arxiv.org/abs/1307.6793v1):"
     ]
    },
    {
     "cell_type": "code",
     "collapsed": false,
     "input": [
      "FluxTerms['SpinOrbit'][0] = 0\n",
      "FluxTerms['SpinOrbit'][1] = 0\n",
      "FluxTerms['SpinOrbit'][2] = 0\n",
      "FluxTerms['SpinOrbit'][3] = 4*S_l - frac(5,4)*delta*Sigma_l\n",
      "FluxTerms['SpinOrbit'][4] = 0\n",
      "FluxTerms['SpinOrbit'][5] = (-frac(9,2)+frac(272,9)*nu)*S_l + (-frac(13,16)+frac(43,4)*nu)*delta*Sigma_l\n",
      "FluxTerms['SpinOrbit'][6] = (-16*pi)*S_l + (-frac(31,6)*pi)*delta*Sigma_l\n",
      "FluxTerms['SpinOrbit'][7] = (frac(476645,6804)+frac(6172,189)*nu-frac(2810,27)*nu**2)*S_l \\\n",
      "                            + (frac(9535,336)+frac(1849,126)*nu-frac(1501,36)*nu**2)*delta*Sigma_l\n",
      "FluxTerms['SpinOrbit'][8] = (-frac(3485,96)+frac(13879,72)*nu)*pi*S_l \\\n",
      "                            + (-frac(7163,672)+frac(130583,2016)*nu)*pi*delta*Sigma_l"
     ],
     "language": "python",
     "metadata": {},
     "outputs": [],
     "prompt_number": 67
    },
    {
     "cell_type": "markdown",
     "metadata": {},
     "source": [
      "The tidal-coupling terms come in to the energy at relative 5pN order, and are known to 6pN order.\n",
      "\n",
      "These terms come from Eq. (3.6) of [Vines et al. (2011)](http://prd.aps.org/abstract/PRD/v83/i8/e084051).  Note their unusual convention for mass ratios, where $\\chi_1 = m_1/m$ in their notation; in particular, $\\chi$ is not a spin parameter.  Also note that $\\hat{\\lambda} = \\lambda_2 v^{10}/(m_1+m_2)^5$, and we need to add the coupling terms again with $1 \\leftrightarrow 2$.  Finally, note the normalization difference, where a different overall factor is used, leading to a sign difference."
     ]
    },
    {
     "cell_type": "code",
     "collapsed": false,
     "input": [
      "FluxTerms['NSTidal'][0] = 0\n",
      "FluxTerms['NSTidal'][1] = 0\n",
      "FluxTerms['NSTidal'][2] = 0\n",
      "FluxTerms['NSTidal'][3] = 0\n",
      "FluxTerms['NSTidal'][4] = 0\n",
      "FluxTerms['NSTidal'][5] = 0\n",
      "FluxTerms['NSTidal'][6] = 0\n",
      "FluxTerms['NSTidal'][7] = 0\n",
      "FluxTerms['NSTidal'][8] = 0\n",
      "FluxTerms['NSTidal'][9] = 0\n",
      "FluxTerms['NSTidal'][10] = (12-18/m2)*lambda2 + (12-18/m1)*lambda1\n",
      "FluxTerms['NSTidal'][11] = 0\n",
      "FluxTerms['NSTidal'][12] = (704+1803*m2-4501*m2**2+2170*m2**3)*lambda2/(28*m2) \\\n",
      "                           + (704+1803*m1-4501*m1**2+2170*m1**3)*lambda1/(28*m1)\n",
      "\n",
      "# Note that the above terms should be divided by (m1+m2)**5, and m1 and m2 should be divided by (m1+m2),\n",
      "# except that here we use units with m1+m2=1"
     ],
     "language": "python",
     "metadata": {},
     "outputs": [],
     "prompt_number": 68
    },
    {
     "cell_type": "code",
     "collapsed": false,
     "input": [
      "print FluxTerms"
     ],
     "language": "python",
     "metadata": {},
     "outputs": [
      {
       "output_type": "stream",
       "stream": "stdout",
       "text": [
        "{'SpinSpin': {0: 0}, 'SpinOrbit': {0: 0, 1: 0, 2: 0, 3: 4*S_l - 5*Sigma_l*delta/4, 4: 0, 5: S_l*(272*nu/9 - 9/2) + Sigma_l*delta*(43*nu/4 - 13/16), 6: -16*pi*S_l - 31*pi*Sigma_l*delta/6, 7: S_l*(-2810*nu**2/27 + 6172*nu/189 + 476645/6804) + Sigma_l*delta*(-1501*nu**2/36 + 1849*nu/126 + 9535/336), 8: pi*S_l*(13879*nu/72 - 3485/96) + pi*Sigma_l*delta*(130583*nu/2016 - 7163/672)}, 'ExtraEMRI': {8: 232597*log(v)/4410 - 1369*pi**2/126 - 323105549467/3178375200 - 47385*log(3)/1568 + 232597*EulerGamma/4410 + 39931*log(2)/294}, 'Nonspinning': {0: 1, 1: 0, 2: -35*nu/12 - 1247/336, 3: 4*pi, 4: 65*nu**2/18 + 9271*nu/504 - 44711/9072, 5: pi*(-583*nu/24 - 8191/672), 6: -775*nu**3/324 - 94403*nu**2/3024 + nu*(-134543/7776 + 41*pi**2/48) - 1712*log(4*v)/105 - 1712*EulerGamma/105 + 16*pi**2/3 + 6643739519/69854400, 7: pi*(193385*nu**2/3024 + 214745*nu/1728 - 16285/504)}, 'NSTidal': {0: 0, 1: 0, 2: 0, 3: 0, 4: 0, 5: 0, 6: 0, 7: 0, 8: 0, 9: 0, 10: lambda1*(12 - 18/m1) + lambda2*(12 - 18/m2), 11: 0, 12: lambda1*(2170*m1**3 - 4501*m1**2 + 1803*m1 + 704)/(28*m1) + lambda2*(2170*m2**3 - 4501*m2**2 + 1803*m2 + 704)/(28*m2)}}\n"
       ]
      }
     ],
     "prompt_number": 69
    },
    {
     "cell_type": "code",
     "collapsed": false,
     "input": [
      "FluxCoefficient*sum([FluxTerms['Nonspinning'][i]*v**i for i in range(8)])"
     ],
     "language": "python",
     "metadata": {},
     "outputs": [
      {
       "latex": [
        "$$\\frac{32 \\nu^{2}}{5} v^{10} \\left(\\pi v^{7} \\left(\\frac{193385 \\nu^{2}}{3024} + \\frac{214745 \\nu}{1728} - \\frac{16285}{504}\\right) + v^{6} \\left(- \\frac{775 \\nu^{3}}{324} - \\frac{94403 \\nu^{2}}{3024} + \\nu \\left(- \\frac{134543}{7776} + \\frac{41 \\pi^{2}}{48}\\right) - \\frac{1712}{105} \\log{\\left (4 v \\right )} - \\frac{1712 \\gamma_{\\mathrm{E}}}{105} + \\frac{16 \\pi^{2}}{3} + \\frac{6643739519}{69854400}\\right) + \\pi v^{5} \\left(- \\frac{583 \\nu}{24} - \\frac{8191}{672}\\right) + v^{4} \\left(\\frac{65 \\nu^{2}}{18} + \\frac{9271 \\nu}{504} - \\frac{44711}{9072}\\right) + 4 \\pi v^{3} + v^{2} \\left(- \\frac{35 \\nu}{12} - \\frac{1247}{336}\\right) + 1\\right)$$"
       ],
       "metadata": {},
       "output_type": "pyout",
       "png": "[encoded data removed]",
       "prompt_number": 70,
       "text": [
        "          \u239b     \u239b        2                   \u239e      \u239b       3          2     \u239b\n",
        "    2  10 \u239c   7 \u239c193385\u22c5\u03bd    214745\u22c5\u03bd   16285\u239f    6 \u239c  775\u22c5\u03bd    94403\u22c5\u03bd      \u239c\n",
        "32\u22c5\u03bd \u22c5v  \u22c5\u239c\u03c0\u22c5v \u22c5\u239c\u2500\u2500\u2500\u2500\u2500\u2500\u2500\u2500\u2500 + \u2500\u2500\u2500\u2500\u2500\u2500\u2500\u2500 - \u2500\u2500\u2500\u2500\u2500\u239f + v \u22c5\u239c- \u2500\u2500\u2500\u2500\u2500\u2500 - \u2500\u2500\u2500\u2500\u2500\u2500\u2500\u2500 + \u03bd\u22c5\u239c\n",
        "          \u239d     \u239d   3024       1728      504 \u23a0      \u239d   324       3024       \u239d\n",
        "\u2500\u2500\u2500\u2500\u2500\u2500\u2500\u2500\u2500\u2500\u2500\u2500\u2500\u2500\u2500\u2500\u2500\u2500\u2500\u2500\u2500\u2500\u2500\u2500\u2500\u2500\u2500\u2500\u2500\u2500\u2500\u2500\u2500\u2500\u2500\u2500\u2500\u2500\u2500\u2500\u2500\u2500\u2500\u2500\u2500\u2500\u2500\u2500\u2500\u2500\u2500\u2500\u2500\u2500\u2500\u2500\u2500\u2500\u2500\u2500\u2500\u2500\u2500\u2500\u2500\u2500\u2500\u2500\u2500\u2500\u2500\u2500\u2500\u2500\u2500\u2500\u2500\u2500\n",
        "                                                                              \n",
        "\n",
        "               2\u239e                                         2             \u239e     \n",
        "  134543   41\u22c5\u03c0 \u239f   1712\u22c5log(4\u22c5v)   1712\u22c5EulerGamma   16\u22c5\u03c0    6643739519\u239f     \n",
        "- \u2500\u2500\u2500\u2500\u2500\u2500 + \u2500\u2500\u2500\u2500\u2500\u239f - \u2500\u2500\u2500\u2500\u2500\u2500\u2500\u2500\u2500\u2500\u2500\u2500\u2500 - \u2500\u2500\u2500\u2500\u2500\u2500\u2500\u2500\u2500\u2500\u2500\u2500\u2500\u2500\u2500 + \u2500\u2500\u2500\u2500\u2500 + \u2500\u2500\u2500\u2500\u2500\u2500\u2500\u2500\u2500\u2500\u239f + \u03c0\u22c5\n",
        "   7776      48 \u23a0        105              105           3      69854400 \u23a0     \n",
        "\u2500\u2500\u2500\u2500\u2500\u2500\u2500\u2500\u2500\u2500\u2500\u2500\u2500\u2500\u2500\u2500\u2500\u2500\u2500\u2500\u2500\u2500\u2500\u2500\u2500\u2500\u2500\u2500\u2500\u2500\u2500\u2500\u2500\u2500\u2500\u2500\u2500\u2500\u2500\u2500\u2500\u2500\u2500\u2500\u2500\u2500\u2500\u2500\u2500\u2500\u2500\u2500\u2500\u2500\u2500\u2500\u2500\u2500\u2500\u2500\u2500\u2500\u2500\u2500\u2500\u2500\u2500\u2500\u2500\u2500\u2500\u2500\u2500\u2500\u2500\u2500\u2500\u2500\n",
        "                                         5                                    \n",
        "\n",
        "                         \u239b    2                 \u239e                             \n",
        " 5 \u239b  583\u22c5\u03bd   8191\u239e    4 \u239c65\u22c5\u03bd    9271\u22c5\u03bd   44711\u239f        3    2 \u239b  35\u22c5\u03bd   1247\n",
        "v \u22c5\u239c- \u2500\u2500\u2500\u2500\u2500 - \u2500\u2500\u2500\u2500\u239f + v \u22c5\u239c\u2500\u2500\u2500\u2500\u2500 + \u2500\u2500\u2500\u2500\u2500\u2500 - \u2500\u2500\u2500\u2500\u2500\u239f + 4\u22c5\u03c0\u22c5v  + v \u22c5\u239c- \u2500\u2500\u2500\u2500 - \u2500\u2500\u2500\u2500\n",
        "   \u239d    24    672 \u23a0      \u239d  18     504      9072\u23a0               \u239d   12    336 \n",
        "\u2500\u2500\u2500\u2500\u2500\u2500\u2500\u2500\u2500\u2500\u2500\u2500\u2500\u2500\u2500\u2500\u2500\u2500\u2500\u2500\u2500\u2500\u2500\u2500\u2500\u2500\u2500\u2500\u2500\u2500\u2500\u2500\u2500\u2500\u2500\u2500\u2500\u2500\u2500\u2500\u2500\u2500\u2500\u2500\u2500\u2500\u2500\u2500\u2500\u2500\u2500\u2500\u2500\u2500\u2500\u2500\u2500\u2500\u2500\u2500\u2500\u2500\u2500\u2500\u2500\u2500\u2500\u2500\u2500\u2500\u2500\u2500\u2500\u2500\u2500\u2500\u2500\u2500\n",
        "                                                                              \n",
        "\n",
        "     \u239e\n",
        "\u239e    \u239f\n",
        "\u239f + 1\u239f\n",
        "\u23a0    \u23a0\n",
        "\u2500\u2500\u2500\u2500\u2500\u2500\n",
        "      "
       ]
      }
     ],
     "prompt_number": 70
    },
    {
     "cell_type": "heading",
     "level": 1,
     "metadata": {},
     "source": [
      "Collected flux terms"
     ]
    },
    {
     "cell_type": "code",
     "collapsed": false,
     "input": [
      "def Flux(SpinTerms=True, PrecessingSpinTerms=False, NSTidalTerms=False, ExtraEMRITerms=False) :\n",
      "    \"\"\"\n",
      "    Return an expression for the GW flux with the given options.\n",
      "    \n",
      "    \"\"\"\n",
      "    FluxSum = sum([ for ])\n",
      "    for\n",
      "    # This is not yet implemented (the above should break evaluation of this cell)\n",
      "    return FluxCoefficient*FluxSum"
     ],
     "language": "python",
     "metadata": {},
     "outputs": []
    }
   ],
   "metadata": {}
  }
 ]
}