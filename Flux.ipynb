{
 "metadata": {
  "name": ""
 },
 "nbformat": 3,
 "nbformat_minor": 0,
 "worksheets": [
  {
   "cells": [
    {
     "cell_type": "code",
     "collapsed": false,
     "input": [
      "# Always run this first\n",
      "# NOTE: Do not define new variables in this notebook or in Variables.py; \n",
      "#       define them in Variables.ipynb.  Variables.py will be automatically\n",
      "#       recreated when Variables.ipynb is saved.\n",
      "\n",
      "%run -i Variables.py\n",
      "from __future__ import division # This needs to be here, even though it's in Variables.py"
     ],
     "language": "python",
     "metadata": {},
     "outputs": [],
     "prompt_number": 1
    },
    {
     "cell_type": "heading",
     "level": 1,
     "metadata": {},
     "source": [
      "Individual flux terms"
     ]
    },
    {
     "cell_type": "markdown",
     "metadata": {},
     "source": [
      "In this notebook, every term will be multiplied by the following coefficient.  [Note that fractions need to be entered as, e.g., `frac(32,5)` so that they are not converted to finite-precision decimals.]"
     ]
    },
    {
     "cell_type": "code",
     "collapsed": false,
     "input": [
      "FluxCoefficient = frac(32,5)*nu**2*v**10"
     ],
     "language": "python",
     "metadata": {},
     "outputs": [],
     "prompt_number": 2
    },
    {
     "cell_type": "markdown",
     "metadata": {},
     "source": [
      "We will define a dictionary of dictionaries to contain all the flux terms.  The top-level keys will be different types of terms: nonspinning, spin-spin, etc.  The dictionaries they contain will give those terms at different PN orders. "
     ]
    },
    {
     "cell_type": "code",
     "collapsed": false,
     "input": [
      "FluxTerms = {'Nonspinning':{},\n",
      "             'IncompleteNonspinning':{},\n",
      "             'SpinSpin':{},\n",
      "             'SpinOrbit':{},\n",
      "             'NSTidal':{},\n",
      "             }"
     ],
     "language": "python",
     "metadata": {},
     "outputs": [],
     "prompt_number": 3
    },
    {
     "cell_type": "markdown",
     "metadata": {},
     "source": [
      "The nonspinning flux terms are complete to 3.5pN order.  These terms are given by Eq. (231) of [Blanchet (2006)](http://www.livingreviews.org/lrr-2006-4):"
     ]
    },
    {
     "cell_type": "code",
     "collapsed": false,
     "input": [
      "FluxTerms['Nonspinning'][0] = 1\n",
      "FluxTerms['Nonspinning'][1] = 0\n",
      "FluxTerms['Nonspinning'][2] = -frac(1247,336) - frac(35,12)*nu\n",
      "FluxTerms['Nonspinning'][3] = 4*pi\n",
      "FluxTerms['Nonspinning'][4] = -frac(44711,9072) + frac(9271,504)*nu + frac(65,18)*nu**2\n",
      "FluxTerms['Nonspinning'][5] = (-frac(8191,672) - frac(583,24)*nu)*pi\n",
      "FluxTerms['Nonspinning'][6] = \\\n",
      "    frac(6643739519,69854400) + frac(16,3)*pi**2 - EulerGamma*frac(1712,105) - frac(1712,105)*ln(4) \\\n",
      "     - frac(1712,105)*ln(v)+ (-frac(134543,7776) + frac(41,48)*pi**2)*nu - frac(94403,3024)*nu**2 - frac(775,324)*nu**3\n",
      "FluxTerms['Nonspinning'][7] = (-frac(16285,504) + frac(214745,1728)*nu + frac(193385,3024)*nu**2)*pi"
     ],
     "language": "python",
     "metadata": {},
     "outputs": [],
     "prompt_number": 4
    },
    {
     "cell_type": "markdown",
     "metadata": {},
     "source": [
      "This term is the 4.0pN nonspinning term in the limit as the mass ratio goes to zero.  This is given by Eq. (43) of [Tagoshi and Sasaki (1994)](http://arxiv.org/abs/gr-qc/9405062v1):"
     ]
    },
    {
     "cell_type": "code",
     "collapsed": false,
     "input": [
      "FluxTerms['IncompleteNonspinning'][8] = \\\n",
      "    -frac(323105549467,3178375200) - frac(1369,126)*pi**2 + frac(232597,4410)*EulerGamma \\\n",
      "    + frac(39931,294)*ln(2) - frac(47385,1568)*ln(3) + frac(232597,4410)*ln(v)"
     ],
     "language": "python",
     "metadata": {},
     "outputs": [],
     "prompt_number": 5
    },
    {
     "cell_type": "markdown",
     "metadata": {},
     "source": [
      "The spin-squared terms in the flux are known only at 2pN order (from [Kidder (1995)](http://link.aps.org/doi/10.1103/PhysRevD.52.821) and [Will and Wiseman (1996)](http://link.aps.org/doi/10.1103/PhysRevD.54.4813)).  They are most conveniently given in Eq. (C10) of [Arun et al.](http://arxiv.org/abs/0810.5336v3)  We first need to convert from Arun et al.'s slightly inconvenient spin definitions:"
     ]
    },
    {
     "cell_type": "code",
     "collapsed": false,
     "input": [
      "chis = array([chi1_l+chi2_l,chi1_n+chi2_n,chi1_la+chi2_la])/2\n",
      "chia = array([chi1_l-chi2_l,chi1_n-chi2_n,chi1_la-chi2_la])/2\n",
      "chis_l = (chi1_l+chi2_l)/2\n",
      "chia_l = (chi1_l-chi2_l)/2\n",
      "SSTerm = (frac(287,96) + nu/24)*(chis_l)**2 - (frac(89,96) + frac(7,24)*nu)*dot(chis,chis) \\\n",
      "    + (frac(287,96) - 12*nu)*(chia_l)**2 + (-(frac(89,96)) + 4*nu)*dot(chia,chia) \\\n",
      "    + frac(287,48)*delta*chis_l*chia_l - frac(89,48)*delta*dot(chis,chia)"
     ],
     "language": "python",
     "metadata": {},
     "outputs": [],
     "prompt_number": 6
    },
    {
     "cell_type": "code",
     "collapsed": false,
     "input": [
      "FluxTerms['SpinSpin'][4] = horner(SSTerm.expand().simplify())"
     ],
     "language": "python",
     "metadata": {},
     "outputs": [],
     "prompt_number": 7
    },
    {
     "cell_type": "markdown",
     "metadata": {},
     "source": [
      "The spin-orbit terms in the flux are now known to 4.0pN.  These terms come from Eq. (4.9) of [Marsat et al. (2013)](http://arxiv.org/abs/1307.6793v1):"
     ]
    },
    {
     "cell_type": "code",
     "collapsed": false,
     "input": [
      "FluxTerms['SpinOrbit'][3] = 4*S_l - frac(5,4)*delta*Sigma_l\n",
      "FluxTerms['SpinOrbit'][4] = 0\n",
      "FluxTerms['SpinOrbit'][5] = (-frac(9,2)+frac(272,9)*nu)*S_l + (-frac(13,16)+frac(43,4)*nu)*delta*Sigma_l\n",
      "FluxTerms['SpinOrbit'][6] = (-16*pi)*S_l + (-frac(31,6)*pi)*delta*Sigma_l\n",
      "FluxTerms['SpinOrbit'][7] = (frac(476645,6804)+frac(6172,189)*nu-frac(2810,27)*nu**2)*S_l \\\n",
      "                            + (frac(9535,336)+frac(1849,126)*nu-frac(1501,36)*nu**2)*delta*Sigma_l\n",
      "FluxTerms['SpinOrbit'][8] = (-frac(3485,96)+frac(13879,72)*nu)*pi*S_l \\\n",
      "                            + (-frac(7163,672)+frac(130583,2016)*nu)*pi*delta*Sigma_l"
     ],
     "language": "python",
     "metadata": {},
     "outputs": [],
     "prompt_number": 8
    },
    {
     "cell_type": "markdown",
     "metadata": {},
     "source": [
      "The tidal-coupling terms come in to the energy at relative 5pN order, and are known partially at 6pN order.\n",
      "\n",
      "These terms come from Eq. (3.6) of [Vines et al. (2011)](http://prd.aps.org/abstract/PRD/v83/i8/e084051).  Note their unusual convention for mass ratios, where $\\chi_1 = m_1/m$ in their notation; in particular, $\\chi$ is not a spin parameter.  Also note that $\\hat{\\lambda} = \\lambda_2 v^{10}/(m_1+m_2)^5$, and we need to add the coupling terms again with $1 \\leftrightarrow 2$.  Finally, note the normalization difference, where a different overall factor is used, leading to a sign difference."
     ]
    },
    {
     "cell_type": "code",
     "collapsed": false,
     "input": [
      "FluxTerms['NSTidal'][10] = (12-18/m2)*lambda2 + (12-18/m1)*lambda1\n",
      "FluxTerms['NSTidal'][11] = 0\n",
      "FluxTerms['NSTidal'][12] = (704+1803*m2-4501*m2**2+2170*m2**3)*lambda2/(28*m2) \\\n",
      "                           + (704+1803*m1-4501*m1**2+2170*m1**3)*lambda1/(28*m1)\n",
      "\n",
      "# Note that the above terms should be divided by (m1+m2)**5, and m1 and m2 should be divided by (m1+m2),\n",
      "# except that here we use units with m1+m2=1"
     ],
     "language": "python",
     "metadata": {},
     "outputs": [],
     "prompt_number": 9
    },
    {
     "cell_type": "code",
     "collapsed": false,
     "input": [
      "print FluxTerms"
     ],
     "language": "python",
     "metadata": {},
     "outputs": [
      {
       "output_type": "stream",
       "stream": "stdout",
       "text": [
        "{'SpinSpin': {4: chi1_l*(chi1_l*(33*delta/32 - 33*nu/16 + 33/32) + 31*chi2_l*nu/8) + chi1_lambda*(chi1_lambda*(-89*delta/192 + 89*nu/96 - 89/192) - 103*chi2_lambda*nu/48) + chi1_n*(chi1_n*(-89*delta/192 + 89*nu/96 - 89/192) - 103*chi2_n*nu/48) + chi2_l**2*(-33*delta/32 - 33*nu/16 + 33/32) + chi2_lambda**2*(89*delta/192 + 89*nu/96 - 89/192) + chi2_n**2*(89*delta/192 + 89*nu/96 - 89/192)}, 'SpinOrbit': {3: 4*S_l - 5*Sigma_l*delta/4, 4: 0, 5: S_l*(272*nu/9 - 9/2) + Sigma_l*delta*(43*nu/4 - 13/16), 6: -16*pi*S_l - 31*pi*Sigma_l*delta/6, 7: S_l*(-2810*nu**2/27 + 6172*nu/189 + 476645/6804) + Sigma_l*delta*(-1501*nu**2/36 + 1849*nu/126 + 9535/336), 8: pi*S_l*(13879*nu/72 - 3485/96) + pi*Sigma_l*delta*(130583*nu/2016 - 7163/672)}, 'NSTidal': {10: lambda1*(12 - 18/m1) + lambda2*(12 - 18/m2), 11: 0, 12: lambda1*(2170*m1**3 - 4501*m1**2 + 1803*m1 + 704)/(28*m1) + lambda2*(2170*m2**3 - 4501*m2**2 + 1803*m2 + 704)/(28*m2)}, 'Nonspinning': {0: 1, 1: 0, 2: -35*nu/12 - 1247/336, 3: 4*pi, 4: 65*nu**2/18 + 9271*nu/504 - 44711/9072, 5: pi*(-583*nu/24 - 8191/672), 6: -775*nu**3/324 - 94403*nu**2/3024 + nu*(-134543/7776 + 41*pi**2/48) - 1712*log(v)/105 - 1712*log(4)/105 - 1712*EulerGamma/105 + 16*pi**2/3 + 6643739519/69854400, 7: pi*(193385*nu**2/3024 + 214745*nu/1728 - 16285/504)}, 'IncompleteNonspinning': {8: 232597*log(v)/4410 - 1369*pi**2/126 - 323105549467/3178375200 - 47385*log(3)/1568 + 232597*EulerGamma/4410 + 39931*log(2)/294}}\n"
       ]
      }
     ],
     "prompt_number": 10
    },
    {
     "cell_type": "code",
     "collapsed": false,
     "input": [
      "FluxCoefficient*sum([FluxTerms['Nonspinning'][i]*v**i for i in range(8)])"
     ],
     "language": "python",
     "metadata": {},
     "outputs": [
      {
       "latex": [
        "$$\\frac{32 \\nu^{2}}{5} v^{10} \\left(\\pi v^{7} \\left(\\frac{193385 \\nu^{2}}{3024} + \\frac{214745 \\nu}{1728} - \\frac{16285}{504}\\right) + v^{6} \\left(- \\frac{775 \\nu^{3}}{324} - \\frac{94403 \\nu^{2}}{3024} + \\nu \\left(- \\frac{134543}{7776} + \\frac{41 \\pi^{2}}{48}\\right) - \\frac{1712}{105} \\log{\\left (v \\right )} - \\frac{1712}{105} \\log{\\left (4 \\right )} - \\frac{1712 \\gamma_{\\mathrm{E}}}{105} + \\frac{16 \\pi^{2}}{3} + \\frac{6643739519}{69854400}\\right) + \\pi v^{5} \\left(- \\frac{583 \\nu}{24} - \\frac{8191}{672}\\right) + v^{4} \\left(\\frac{65 \\nu^{2}}{18} + \\frac{9271 \\nu}{504} - \\frac{44711}{9072}\\right) + 4 \\pi v^{3} + v^{2} \\left(- \\frac{35 \\nu}{12} - \\frac{1247}{336}\\right) + 1\\right)$$"
       ],
       "metadata": {},
       "output_type": "pyout",
       "png": "[encoded data removed]",
       "prompt_number": 11,
       "text": [
        "          \u239b     \u239b        2                   \u239e      \u239b       3          2     \u239b\n",
        "    2  10 \u239c   7 \u239c193385\u22c5\u03bd    214745\u22c5\u03bd   16285\u239f    6 \u239c  775\u22c5\u03bd    94403\u22c5\u03bd      \u239c\n",
        "32\u22c5\u03bd \u22c5v  \u22c5\u239c\u03c0\u22c5v \u22c5\u239c\u2500\u2500\u2500\u2500\u2500\u2500\u2500\u2500\u2500 + \u2500\u2500\u2500\u2500\u2500\u2500\u2500\u2500 - \u2500\u2500\u2500\u2500\u2500\u239f + v \u22c5\u239c- \u2500\u2500\u2500\u2500\u2500\u2500 - \u2500\u2500\u2500\u2500\u2500\u2500\u2500\u2500 + \u03bd\u22c5\u239c\n",
        "          \u239d     \u239d   3024       1728      504 \u23a0      \u239d   324       3024       \u239d\n",
        "\u2500\u2500\u2500\u2500\u2500\u2500\u2500\u2500\u2500\u2500\u2500\u2500\u2500\u2500\u2500\u2500\u2500\u2500\u2500\u2500\u2500\u2500\u2500\u2500\u2500\u2500\u2500\u2500\u2500\u2500\u2500\u2500\u2500\u2500\u2500\u2500\u2500\u2500\u2500\u2500\u2500\u2500\u2500\u2500\u2500\u2500\u2500\u2500\u2500\u2500\u2500\u2500\u2500\u2500\u2500\u2500\u2500\u2500\u2500\u2500\u2500\u2500\u2500\u2500\u2500\u2500\u2500\u2500\u2500\u2500\u2500\u2500\u2500\u2500\u2500\u2500\u2500\u2500\n",
        "                                                                              \n",
        "\n",
        "               2\u239e                                                     2       \n",
        "  134543   41\u22c5\u03c0 \u239f   1712\u22c5log(v)   1712\u22c5log(4)   1712\u22c5EulerGamma   16\u22c5\u03c0    6643\n",
        "- \u2500\u2500\u2500\u2500\u2500\u2500 + \u2500\u2500\u2500\u2500\u2500\u239f - \u2500\u2500\u2500\u2500\u2500\u2500\u2500\u2500\u2500\u2500\u2500 - \u2500\u2500\u2500\u2500\u2500\u2500\u2500\u2500\u2500\u2500\u2500 - \u2500\u2500\u2500\u2500\u2500\u2500\u2500\u2500\u2500\u2500\u2500\u2500\u2500\u2500\u2500 + \u2500\u2500\u2500\u2500\u2500 + \u2500\u2500\u2500\u2500\n",
        "   7776      48 \u23a0       105           105             105           3      698\n",
        "\u2500\u2500\u2500\u2500\u2500\u2500\u2500\u2500\u2500\u2500\u2500\u2500\u2500\u2500\u2500\u2500\u2500\u2500\u2500\u2500\u2500\u2500\u2500\u2500\u2500\u2500\u2500\u2500\u2500\u2500\u2500\u2500\u2500\u2500\u2500\u2500\u2500\u2500\u2500\u2500\u2500\u2500\u2500\u2500\u2500\u2500\u2500\u2500\u2500\u2500\u2500\u2500\u2500\u2500\u2500\u2500\u2500\u2500\u2500\u2500\u2500\u2500\u2500\u2500\u2500\u2500\u2500\u2500\u2500\u2500\u2500\u2500\u2500\u2500\u2500\u2500\u2500\u2500\n",
        "                                               5                              \n",
        "\n",
        "      \u239e                              \u239b    2                 \u239e                 \n",
        "739519\u239f      5 \u239b  583\u22c5\u03bd   8191\u239e    4 \u239c65\u22c5\u03bd    9271\u22c5\u03bd   44711\u239f        3    2 \u239b \n",
        "\u2500\u2500\u2500\u2500\u2500\u2500\u239f + \u03c0\u22c5v \u22c5\u239c- \u2500\u2500\u2500\u2500\u2500 - \u2500\u2500\u2500\u2500\u239f + v \u22c5\u239c\u2500\u2500\u2500\u2500\u2500 + \u2500\u2500\u2500\u2500\u2500\u2500 - \u2500\u2500\u2500\u2500\u2500\u239f + 4\u22c5\u03c0\u22c5v  + v \u22c5\u239c-\n",
        "54400 \u23a0        \u239d    24    672 \u23a0      \u239d  18     504      9072\u23a0               \u239d \n",
        "\u2500\u2500\u2500\u2500\u2500\u2500\u2500\u2500\u2500\u2500\u2500\u2500\u2500\u2500\u2500\u2500\u2500\u2500\u2500\u2500\u2500\u2500\u2500\u2500\u2500\u2500\u2500\u2500\u2500\u2500\u2500\u2500\u2500\u2500\u2500\u2500\u2500\u2500\u2500\u2500\u2500\u2500\u2500\u2500\u2500\u2500\u2500\u2500\u2500\u2500\u2500\u2500\u2500\u2500\u2500\u2500\u2500\u2500\u2500\u2500\u2500\u2500\u2500\u2500\u2500\u2500\u2500\u2500\u2500\u2500\u2500\u2500\u2500\u2500\u2500\u2500\u2500\u2500\n",
        "                                                                              \n",
        "\n",
        "                 \u239e\n",
        " 35\u22c5\u03bd   1247\u239e    \u239f\n",
        " \u2500\u2500\u2500\u2500 - \u2500\u2500\u2500\u2500\u239f + 1\u239f\n",
        "  12    336 \u23a0    \u23a0\n",
        "\u2500\u2500\u2500\u2500\u2500\u2500\u2500\u2500\u2500\u2500\u2500\u2500\u2500\u2500\u2500\u2500\u2500\u2500\n",
        "                  "
       ]
      }
     ],
     "prompt_number": 11
    },
    {
     "cell_type": "heading",
     "level": 1,
     "metadata": {},
     "source": [
      "Collected flux terms"
     ]
    },
    {
     "cell_type": "code",
     "collapsed": false,
     "input": [
      "def Flux(SpinTerms=True, PrecessingSpinTerms=False, NSTidalTerms=False, IncompleteNonspinningTerms=False) :\n",
      "    \"\"\"\n",
      "    Return an expression for the GW flux with the given options.\n",
      "    \n",
      "    \"\"\"\n",
      "    FluxSum = sum([ for ])\n",
      "    for\n",
      "    # This is not yet implemented (the above should break evaluation of this cell)\n",
      "    return FluxCoefficient*FluxSum"
     ],
     "language": "python",
     "metadata": {},
     "outputs": [
      {
       "ename": "SyntaxError",
       "evalue": "invalid syntax (<ipython-input-12-09250b3bb855>, line 6)",
       "output_type": "pyerr",
       "traceback": [
        "\u001b[0;36m  File \u001b[0;32m\"<ipython-input-12-09250b3bb855>\"\u001b[0;36m, line \u001b[0;32m6\u001b[0m\n\u001b[0;31m    FluxSum = sum([ for ])\u001b[0m\n\u001b[0m                      ^\u001b[0m\n\u001b[0;31mSyntaxError\u001b[0m\u001b[0;31m:\u001b[0m invalid syntax\n"
       ]
      }
     ],
     "prompt_number": 12
    }
   ],
   "metadata": {}
  }
 ]
}