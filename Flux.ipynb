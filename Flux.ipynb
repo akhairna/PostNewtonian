{
 "metadata": {
  "name": ""
 },
 "nbformat": 3,
 "nbformat_minor": 0,
 "worksheets": [
  {
   "cells": [
    {
     "cell_type": "code",
     "collapsed": false,
     "input": [
      "# Always run this first\n",
      "# NOTE: Do not define new basic variables in this notebook;\n",
      "#       define them in Variables.ipynb.  Use this notebook\n",
      "#       to define new expressions built from those variables.\n",
      "\n",
      "from __future__ import division # This needs to be here, even though it's in Variables.py\n",
      "execfile('Utilities/ExecNotebook.ipy')\n",
      "try: execnotebook(VariablesNotebook)\n",
      "except: execnotebook('Variables.ipynb')"
     ],
     "language": "python",
     "metadata": {},
     "outputs": [],
     "prompt_number": 1
    },
    {
     "cell_type": "markdown",
     "metadata": {},
     "source": [
      "The following `PNCollection` objects will contain all the terms in the different parts of the flux."
     ]
    },
    {
     "cell_type": "code",
     "collapsed": false,
     "input": [
      "Flux_NoSpin = PNCollection()\n",
      "Flux_Spin = PNCollection()\n",
      "Flux_NSTides = PNCollection()"
     ],
     "language": "python",
     "metadata": {},
     "outputs": [],
     "prompt_number": 2
    },
    {
     "cell_type": "heading",
     "level": 1,
     "metadata": {},
     "source": [
      "Individual flux terms"
     ]
    },
    {
     "cell_type": "markdown",
     "metadata": {},
     "source": [
      "In this notebook, every term will be multiplied by the following coefficient."
     ]
    },
    {
     "cell_type": "code",
     "collapsed": false,
     "input": [
      "Flux_NoSpin.AddDerivedVariable('Fcal_coeff', frac(32,5)*nu**2*v**10)"
     ],
     "language": "python",
     "metadata": {},
     "outputs": [],
     "prompt_number": 3
    },
    {
     "cell_type": "markdown",
     "metadata": {},
     "source": [
      "Note that fractions need to be entered as, e.g., `frac(32,5)` so that they are not converted to finite-precision decimals."
     ]
    },
    {
     "cell_type": "markdown",
     "metadata": {},
     "source": [
      "The nonspinning flux terms are complete to 3.5pN order.  These terms are given by Eq. (231) of [Blanchet (2006)](http://www.livingreviews.org/lrr-2006-4).\n",
      "\n",
      "The higher-order terms are only known in the EMRI limit.  These terms are given in Appendix A of [Fujita (2012)](http://arxiv.org/abs/1211.5535v1).  He computed them up to 22pN.  That seems like overkill, so we'll just go up to 6pN."
     ]
    },
    {
     "cell_type": "code",
     "collapsed": false,
     "input": [
      "Flux_NoSpin.AddDerivedConstant('Fcal_0', 1)\n",
      "# Fcal_1 is 0\n",
      "Flux_NoSpin.AddDerivedConstant('Fcal_2', -frac(1247,336) - frac(35,12)*nu)\n",
      "Flux_NoSpin.AddDerivedConstant('Fcal_3', 4*pi)\n",
      "Flux_NoSpin.AddDerivedConstant('Fcal_4', -frac(44711,9072) + frac(9271,504)*nu + frac(65,18)*nu**2)\n",
      "Flux_NoSpin.AddDerivedConstant('Fcal_5', (-frac(8191,672) - frac(583,24)*nu)*pi)\n",
      "Flux_NoSpin.AddDerivedConstant('Fcal_6',\n",
      "    frac(6643739519,69854400) + frac(16,3)*pi**2 - EulerGamma*frac(1712,105) - frac(1712,105)*ln(4)\n",
      "    + (-frac(134543,7776) + frac(41,48)*pi**2)*nu - frac(94403,3024)*nu**2 - frac(775,324)*nu**3)\n",
      "Flux_NoSpin.AddDerivedConstant('Fcal_lnv_6', - frac(1712,105))\n",
      "Flux_NoSpin.AddDerivedConstant('Fcal_7', (-frac(16285,504) + frac(214745,1728)*nu + frac(193385,3024)*nu**2)*pi)\n",
      "\n",
      "# The following are only partially known\n",
      "Flux_NoSpin.AddDerivedConstant('Fcal_8',\n",
      "    - 1369*pi**2/126 - frac(323105549467,3178375200) - 47385*log(3)/1568 + 232597*EulerGamma/4410 + 39931*log(2)/294)\n",
      "Flux_NoSpin.AddDerivedConstant('Fcal_lnv_8', frac(232597,4410))\n",
      "Flux_NoSpin.AddDerivedConstant('Fcal_9',\n",
      "    - 13696*pi*log(2)/105 - 6848*EulerGamma*pi/105 + 265978667519*pi/745113600)\n",
      "Flux_NoSpin.AddDerivedConstant('Fcal_lnv_9', -6848*pi/105)\n",
      "Flux_NoSpin.AddDerivedConstant('Fcal_10',\n",
      "    - frac(2500861660823683,2831932303200) - 424223*pi**2/6804 - 83217611*log(2)/1122660\n",
      "    + 916628467*EulerGamma/7858620 + 47385*log(3)/196)\n",
      "Flux_NoSpin.AddDerivedConstant('Fcal_lnv_10', frac(916628467,7858620))\n",
      "Flux_NoSpin.AddDerivedConstant('Fcal_11',\n",
      "    - 142155*pi*log(3)/784 + 8399309750401*pi/101708006400 + 177293*EulerGamma*pi/1176 + 8521283*pi*log(2)/17640)\n",
      "Flux_NoSpin.AddDerivedConstant('Fcal_lnv_11', 177293*pi/1176)\n",
      "Flux_NoSpin.AddDerivedConstant('Fcal_12',\n",
      "    - 271272899815409*log(2)/157329572400\n",
      "    - 54784*pi**2*log(2)/315 - 246137536815857*EulerGamma/157329572400 - 437114506833*log(3)/789268480 - 256*pi**4/45\n",
      "    - 27392*EulerGamma*pi**2/315 - 27392*zeta(3)/105 - 37744140625*log(5)/260941824 + 1465472*EulerGamma**2/11025\n",
      "    + 5861888*EulerGamma*log(2)/11025 + 5861888*log(2)**2/11025 + frac(2067586193789233570693,602387400044430000)\n",
      "    + 3803225263*pi**2/10478160)\n",
      "Flux_NoSpin.AddDerivedConstant('Fcal_lnv_12',\n",
      "    - frac(246137536815857,157329572400) - 27392*pi**2/315\n",
      "    + 2930944*EulerGamma/11025 + 5861888*log(2)/11025)\n",
      "Flux_NoSpin.AddDerivedConstant('Fcal_lnv2_12', frac(1465472,11025))"
     ],
     "language": "python",
     "metadata": {},
     "outputs": [],
     "prompt_number": 4
    },
    {
     "cell_type": "markdown",
     "metadata": {},
     "source": [
      "The spin-squared terms (by which I mean both spin-spin and spin-orbit squared terms) in the flux are known only at 2pN order (from [Kidder (1995)](http://link.aps.org/doi/10.1103/PhysRevD.52.821) and [Will and Wiseman (1996)](http://link.aps.org/doi/10.1103/PhysRevD.54.4813)).  They are most conveniently given in Eq. (C10) of [Arun et al.](http://arxiv.org/abs/0810.5336v3)  We first need to convert from Arun et al.'s slightly inconvenient spin definitions:"
     ]
    },
    {
     "cell_type": "code",
     "collapsed": false,
     "input": [
      "Flux_Spin.AddDerivedVariable('Fcal_SQ_4', horner( (\n",
      "    (frac(287,96) + nu/24)*(chi_s_l)**2 - (frac(89,96) + frac(7,24)*nu)*(chi1chi1+2*chi1chi2+chi2chi2)/4\n",
      "    + (frac(287,96) - 12*nu)*(chi_a_l)**2 + (-frac(89,96) + 4*nu)*(chi1chi1-2*chi1chi2+chi2chi2)/4\n",
      "    + frac(287,48)*delta*chi_s_l*chi_a_l\n",
      "    - frac(89,48)*delta*(chi1chi1-chi2chi2)/4) .expand().simplify()))"
     ],
     "language": "python",
     "metadata": {},
     "outputs": [],
     "prompt_number": 5
    },
    {
     "cell_type": "markdown",
     "metadata": {},
     "source": [
      "The spin-orbit terms in the flux are now known to 4.0pN.  These terms come from Eq. (4.9) of [Marsat et al. (2013)](http://arxiv.org/abs/1307.6793v1):"
     ]
    },
    {
     "cell_type": "code",
     "collapsed": false,
     "input": [
      "Flux_Spin.AddDerivedVariable('Fcal_SO_3', -4*S_l - frac(5,4)*delta*Sigma_l)\n",
      "# Fcal_SO_4 is 0\n",
      "Flux_Spin.AddDerivedVariable('Fcal_SO_5',\n",
      "    (-frac(9,2)+frac(272,9)*nu)*S_l + (-frac(13,16)+frac(43,4)*nu)*delta*Sigma_l)\n",
      "Flux_Spin.AddDerivedVariable('Fcal_SO_6', (-16*pi)*S_l + (-frac(31,6)*pi)*delta*Sigma_l)\n",
      "Flux_Spin.AddDerivedVariable('Fcal_SO_7', (frac(476645,6804)+frac(6172,189)*nu-frac(2810,27)*nu**2)*S_l\n",
      "    + (frac(9535,336)+frac(1849,126)*nu-frac(1501,36)*nu**2)*delta*Sigma_l)\n",
      "Flux_Spin.AddDerivedVariable('Fcal_SO_8', (-frac(3485,96)+frac(13879,72)*nu)*pi*S_l\n",
      "    + (-frac(7163,672)+frac(130583,2016)*nu)*pi*delta*Sigma_l)"
     ],
     "language": "python",
     "metadata": {},
     "outputs": [],
     "prompt_number": 6
    },
    {
     "cell_type": "markdown",
     "metadata": {},
     "source": [
      "The tidal-coupling terms come in to the energy at relative 5pN order, and are known partially at 6pN order.\n",
      "\n",
      "These terms come from Eq. (3.6) of [Vines et al. (2011)](http://prd.aps.org/abstract/PRD/v83/i8/e084051).  Note their unusual convention for mass ratios, where $\\chi_1 = m_1/m$ in their notation; in particular, $\\chi$ is not a spin parameter.  Also note that $\\hat{\\lambda} = \\lambda_2 v^{10}/(m_1+m_2)^5$, and we need to add the coupling terms again with $1 \\leftrightarrow 2$.  Finally, note the normalization difference, where a different overall factor is used, leading to a sign difference."
     ]
    },
    {
     "cell_type": "code",
     "collapsed": false,
     "input": [
      "Flux_NSTides.AddDerivedConstant('Fcal_NSTides_10', (12-18/m2)*lambda2 + (12-18/m1)*lambda1)\n",
      "# Fcal_NSTides_11 is 0\n",
      "Flux_NSTides.AddDerivedConstant('Fcal_NSTides_12',\n",
      "    (704+1803*m2-4501*m2**2+2170*m2**3)*lambda2/(28*m2)\n",
      "    + (704+1803*m1-4501*m1**2+2170*m1**3)*lambda1/(28*m1))\n",
      "\n",
      "# Note that the above terms should be divided by (m1+m2)**5, and m1 and m2 should be divided by (m1+m2),\n",
      "# except that here we use units with m1+m2=1"
     ],
     "language": "python",
     "metadata": {},
     "outputs": [],
     "prompt_number": 7
    },
    {
     "cell_type": "heading",
     "level": 1,
     "metadata": {},
     "source": [
      "Collected flux terms"
     ]
    },
    {
     "cell_type": "code",
     "collapsed": false,
     "input": [
      "def FluxExpression(FluxTerms=[Flux_NoSpin, Flux_Spin], PNOrder=frac(7,2)):\n",
      "    # We have to play some tricks with the log terms so that `horner` works\n",
      "    def logterm(key,val):\n",
      "        if 'lnv2' in val:\n",
      "            return logv**2\n",
      "        if 'lnv' in val:\n",
      "            return logv\n",
      "        else:\n",
      "            return 1\n",
      "    return Fcal_coeff*horner(sum([key*(v**n)*logterm(key,val)\n",
      "                                  for Terms in FluxTerms\n",
      "                                  for n in range(2*PNOrder+1)\n",
      "                                  for key,val in Terms.items()\n",
      "                                  if val.endswith('_{0}'.format(n))])).subs(logv, ln(v))"
     ],
     "language": "python",
     "metadata": {},
     "outputs": [],
     "prompt_number": 8
    },
    {
     "cell_type": "code",
     "collapsed": false,
     "input": [
      "# display(FluxExpression())"
     ],
     "language": "python",
     "metadata": {},
     "outputs": [
      {
       "latex": [
        "$$\\mathcal{F}_{coeff} \\left(\\mathcal{F}_{0} + v^{2} \\left(\\mathcal{F}_{2} + v \\left(\\mathcal{F}_{3} + \\mathcal{F}_{SO 3} + v \\left(\\mathcal{F}_{4} + \\mathcal{F}_{SQ 4} + v \\left(\\mathcal{F}_{5} + \\mathcal{F}_{SO 5} + v \\left(\\mathcal{F}_{6} + \\mathcal{F}_{SO 6} + \\mathcal{F}_{lnv 6} \\log{\\left (v \\right )} + v \\left(\\mathcal{F}_{7} + \\mathcal{F}_{SO 7}\\right)\\right)\\right)\\right)\\right)\\right)\\right)$$"
       ],
       "metadata": {},
       "output_type": "display_data",
       "png": "[encoded data removed]",
       "text": [
        "           \u239b         2                                                        \n",
        "Fcal_coeff\u22c5\u239dFcal\u2080 + v \u22c5(Fcal\u2082 + v\u22c5(Fcal\u2083 + Fcal_SO_3 + v\u22c5(Fcal\u2084 + Fcal_SQ_4 + \n",
        "\n",
        "                                                                              \n",
        "v\u22c5(Fcal\u2085 + Fcal_SO_5 + v\u22c5(Fcal\u2086 + Fcal_SO_6 + Fcal_lnv_6\u22c5log(v) + v\u22c5(Fcal\u2087 + F\n",
        "\n",
        "              \u239e\n",
        "cal_SO_7))))))\u23a0"
       ]
      }
     ],
     "prompt_number": 9
    }
   ],
   "metadata": {}
  }
 ]
}