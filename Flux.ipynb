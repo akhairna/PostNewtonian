{
 "metadata": {
  "name": ""
 },
 "nbformat": 3,
 "nbformat_minor": 0,
 "worksheets": [
  {
   "cells": [
    {
     "cell_type": "code",
     "collapsed": false,
     "input": [
      "# Always run this first\n",
      "# NOTE: Do not define new variables in this notebook or in Variables.py; \n",
      "#       define them in Variables.ipynb.  Variables.py will be automatically\n",
      "#       recreated when Variables.ipynb is saved.\n",
      "\n",
      "%run -i Variables.py\n",
      "from __future__ import division # This needs to be here, even though it's in Variables.py"
     ],
     "language": "python",
     "metadata": {},
     "outputs": [],
     "prompt_number": 1
    },
    {
     "cell_type": "heading",
     "level": 1,
     "metadata": {},
     "source": [
      "Individual flux terms"
     ]
    },
    {
     "cell_type": "markdown",
     "metadata": {},
     "source": [
      "In this notebook, every term will be multiplied by the following coefficient."
     ]
    },
    {
     "cell_type": "code",
     "collapsed": false,
     "input": [
      "FluxCoefficient = (32/5)*nu**2*v**10"
     ],
     "language": "python",
     "metadata": {},
     "outputs": [],
     "prompt_number": 2
    },
    {
     "cell_type": "markdown",
     "metadata": {},
     "source": [
      "We will define a dictionary of dictionaries.  The top-level keys will be different types of terms.  The dictionaries they contain will give those terms at different PN orders. "
     ]
    },
    {
     "cell_type": "code",
     "collapsed": false,
     "input": [
      "FluxTerms = {'Nonspinning':{},\n",
      "             'SpinSpin':{},\n",
      "             'SpinOrbit':{},\n",
      "             'NSTides':{},\n",
      "             }"
     ],
     "language": "python",
     "metadata": {},
     "outputs": [],
     "prompt_number": 7
    },
    {
     "cell_type": "code",
     "collapsed": false,
     "input": [
      "FluxTerms['Nonspinning'][0] = 1\n",
      "FluxTerms['Nonspinning'][1] = 0\n",
      "FluxTerms['Nonspinning'][2] = -(1247/336) - (35/12)*nu\n",
      "FluxTerms['Nonspinning'][3] = 4*pi\n",
      "FluxTerms['Nonspinning'][4] = 0\n",
      "FluxTerms['Nonspinning'][5] = 0\n",
      "FluxTerms['Nonspinning'][6] = 0\n",
      "FluxTerms['Nonspinning'][7] = 0\n",
      "FluxTerms['Nonspinning'][8] = 0\n",
      "FluxTerms['Nonspinning'][9] = 0\n"
     ],
     "language": "python",
     "metadata": {},
     "outputs": [],
     "prompt_number": 8
    },
    {
     "cell_type": "code",
     "collapsed": false,
     "input": [
      "print FluxTerms"
     ],
     "language": "python",
     "metadata": {},
     "outputs": [
      {
       "output_type": "stream",
       "stream": "stdout",
       "text": [
        "{'SpinSpin': {}, 'SpinOrbit': {}, 'NSTides': {}, 'Nonspinning': {0: 1, 1: 0, 2: -2.91666666666667*nu - 3.71130952380952, 3: 4*pi, 4: 0, 5: 0, 6: 0, 7: 0, 8: 0, 9: 0}}\n"
       ]
      }
     ],
     "prompt_number": 10
    },
    {
     "cell_type": "heading",
     "level": 1,
     "metadata": {},
     "source": [
      "Collected flux terms"
     ]
    },
    {
     "cell_type": "code",
     "collapsed": false,
     "input": [
      "def Flux(SpinTerms=True, PrecessingSpinTerms=False, NSTidalTerms=False, EMRITerms=False) :\n",
      "    \"\"\"\n",
      "    Return an expression for the GW flux with the given options.\n",
      "    \n",
      "    \"\"\"\n",
      "    FluxSum = 0\n",
      "    \n",
      "    return FluxCoefficient*FluxSum"
     ],
     "language": "python",
     "metadata": {},
     "outputs": []
    }
   ],
   "metadata": {}
  }
 ]
}