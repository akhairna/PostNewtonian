{
 "metadata": {
  "name": ""
 },
 "nbformat": 3,
 "nbformat_minor": 0,
 "worksheets": [
  {
   "cells": [
    {
     "cell_type": "markdown",
     "metadata": {},
     "source": [
      "First, import the names of variables and get things set up by running the following code cell.\n",
      "\n",
      "***NOTE:*** Do not define new symbols in this file; put them in the `BasicDefinitions.ipynb` file.  And only use symbols defined in that file in this file."
     ]
    },
    {
     "cell_type": "code",
     "collapsed": false,
     "input": [
      "%run BasicDefinitions.py"
     ],
     "language": "python",
     "metadata": {},
     "outputs": []
    }
   ],
   "metadata": {}
  }
 ]
}