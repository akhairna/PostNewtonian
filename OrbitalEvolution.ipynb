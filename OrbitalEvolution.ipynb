{
 "metadata": {
  "name": ""
 },
 "nbformat": 3,
 "nbformat_minor": 0,
 "worksheets": [
  {
   "cells": [
    {
     "cell_type": "markdown",
     "metadata": {},
     "source": [
      "This notebook collects algorithms for evolving or evaluating (in nonprecessing cases) the orbital evolution of the PN system.  The primary approximants are denoted TaylorT$n$ for $n \\in [1,5]$.  \"Taylor\" means that they are Taylor series (as opposed to Pad\u00e9), \"T\" means that they are in the time domain (as opposed to frequency), and $n$ just numbers the order in which they were established in the literature.  The other important approximant is TaylorF2, which is based on TaylorT2, but is in the frequency domain."
     ]
    },
    {
     "cell_type": "code",
     "collapsed": false,
     "input": [
      "# Always run this first\n",
      "# NOTE: Do not define new basic variables in this notebook;\n",
      "#       define them in Variables.ipynb.  Use this notebook\n",
      "#       to define new expressions built from those variables.\n",
      "\n",
      "from __future__ import division # This needs to be here, even though it's in Variables.py\n",
      "import pickle\n",
      "execfile('ExecNotebook.ipy')\n",
      "VariablesNotebook = 'Variables.ipynb'\n",
      "execnotebook(VariablesNotebook)\n",
      "import CodeOutput"
     ],
     "language": "python",
     "metadata": {},
     "outputs": [],
     "prompt_number": 1
    },
    {
     "cell_type": "markdown",
     "metadata": {},
     "source": [
      "Here, we set the PN order, if it is not already set.  This will be used in numerous places below.  This is the exponent of the largest power of $x$, or half the exponent of the largest power of $v$ that will appear beyond leading orders in the various quantities.  Note that, because of python's convention that intervals are half-open at the end, most occurrences of `PNOrder` will have 1 added to them."
     ]
    },
    {
     "cell_type": "code",
     "collapsed": false,
     "input": [
      "if 'PNOrder' not in globals() or not PNOrder:\n",
      "    PNOrder = frac(7,2)"
     ],
     "language": "python",
     "metadata": {},
     "outputs": [],
     "prompt_number": 2
    },
    {
     "cell_type": "heading",
     "level": 1,
     "metadata": {},
     "source": [
      "TaylorT1, TaylorT4, and TaylorT5*"
     ]
    },
    {
     "cell_type": "markdown",
     "metadata": {},
     "source": [
      "These very similar approximants are the simplest in construction, and most widely applicable.  In particular, they can both be applied to precessing systems.  Each gives rise to the same system of ODEs that need to be integrated in time, except that the right-hand side for $dv/dt$ is expanded as a series in $v$ and truncated for TaylorT4.  TaylorT5 extends that simply.\n",
      "\n",
      "\n",
      "***** The version of TaylorT5 output below is slightly different from the one introduced by Ajith.  He further solved analytically for the orbital phase $\\Phi$ in terms of $v$.  This doesn't appear to be possible in the precessing case, since terms such as $\\vec{\\Sigma} \\cdot \\hat{L}_{\\text{N}}$ now vary with $v$ in nontrivial ways.  Besides, we have 11 variables to integrate besides $\\Phi$, so it's not much extra burden to integrate it too.  For nonprecessing systems, similar code could be generated for the non-precessing case using Ajith's solution for $\\Phi$; the value of `y[1]` would have to be reset explicitly at the top of the `TaylorT4RHS` function emitted below."
     ]
    },
    {
     "cell_type": "markdown",
     "metadata": {},
     "source": [
      "First, we collect the various expressions from other notebooks:"
     ]
    },
    {
     "cell_type": "code",
     "collapsed": false,
     "input": [
      "execnotebook('BindingEnergy.ipynb')\n",
      "execnotebook('EnergyAbsorption.ipynb')\n",
      "execnotebook('Precession.ipynb')"
     ],
     "language": "python",
     "metadata": {},
     "outputs": [],
     "prompt_number": 3
    },
    {
     "cell_type": "markdown",
     "metadata": {},
     "source": [
      "Next, we calculate the expansions needed for TaylorT4 and T5.  These will be the right-hand sides in our evolution equations for $dv/dt$.  TaylorT1 simply numerically evaluates a ratio of the terms imported above"
     ]
    },
    {
     "cell_type": "code",
     "collapsed": false,
     "input": [
      "# Read in the high-order series expansion of a ratio of polynomials\n",
      "p_Ratio = pickle.load(file('PolynomialRatios/PolynomialRatioSeries_Order{0}.dat'.format(2*PNOrder+1)))\n",
      "p_Ratio = p_Ratio.removeO().subs('PolynomialVariable',v)\n",
      "\n",
      "# Evaluate the flux, energy, and derivative of energy\n",
      "FluxTerms = [Flux_NoSpin, Flux_Spin]\n",
      "BindingEnergyTerms = [BindingEnergy_NoSpin, BindingEnergy_Spin]\n",
      "for Term in FluxTerms:\n",
      "    PNVariables.update(Term)\n",
      "for Term in BindingEnergyTerms:\n",
      "    PNVariables.update(Term)\n",
      "Flux = FluxExpression(FluxTerms, PNOrder)\n",
      "Energy = BindingEnergyExpression(BindingEnergyTerms, PNOrder)\n",
      "dEdv = BindingEnergyDerivativeExpression(BindingEnergyTerms, PNOrder)\n",
      "\n",
      "# Evaluate the energy absorption by the BHs, and make substitutions so that the Horner form is nice\n",
      "AbsorptionTerms = [AlviTerms]\n",
      "for Term in AbsorptionTerms:\n",
      "    PNVariables.update(Term)\n",
      "Absorption = AbsorptionExpression(AbsorptionTerms, PNOrder)\n",
      "\n",
      "# Treat remaining log(v) terms as constants, for Taylor expansions and efficient numerical evaluation\n",
      "Flux = Flux.subs(log(v), logv)\n",
      "Energy = Energy.subs(log(v), logv)\n",
      "dEdv = dEdv.subs(log(v), logv)\n",
      "Absorption = Absorption.subs(log(v), logv)\n",
      "\n",
      "# Get the series expansions for the numerators and denominators\n",
      "FluxSeries = series(- (Flux + Absorption)/Fcal_coeff, x=v, x0=0, n=2*PNOrder+1).removeO()\n",
      "dEdvSeries = series(dEdv/(-nu*v/2), x=v, x0=0, n=2*PNOrder+1).removeO()\n",
      "\n",
      "# TaylorT4\n",
      "T4Expressions = PNCollection()\n",
      "NumTerms = {'Num{0}'.format(n): FluxSeries.coeff(v,n=n) for n in range(2*PNOrder+1)}\n",
      "DenTerms = {'Den{0}'.format(n): dEdvSeries.coeff(v,n=n) for n in range(2*PNOrder+1)}\n",
      "T4Expressions.AddDerivedConstant('dvdt_T4', (Fcal_coeff/(-nu*v/2))*\\\n",
      "    horner(sum([v**n*horner(N(p_Ratio.coeff(v,n=n).subs(dict(NumTerms.items() + DenTerms.items()))))\n",
      "                for n in range(2*PNOrder+1)])))\n",
      "\n",
      "# TaylorT5\n",
      "T5Expressions = PNCollection()\n",
      "NumTerms = {'Num{0}'.format(n): dEdvSeries.coeff(v,n=n) for n in range(2*PNOrder+1)}\n",
      "DenTerms = {'Den{0}'.format(n): FluxSeries.coeff(v,n=n) for n in range(2*PNOrder+1)}\n",
      "T5Expressions.AddDerivedConstant('dtdv', ((-nu*v/2)/Fcal_coeff)*\\\n",
      "    horner(sum([v**n*horner(N(p_Ratio.coeff(v,n=n).subs(dict(NumTerms.items() + DenTerms.items()))))\n",
      "                for n in range(2*PNOrder+1)])))\n",
      "T5Expressions.AddDerivedConstant('dvdt_T5', 1.0/dtdv)\n",
      "\n",
      "# TaylorT1 just gets some substitutions for efficiency\n",
      "T1Expressions = PNCollection()\n",
      "T1Expressions.AddDerivedConstant('Flux', Flux.subs(Pow(nu,3), nu__3).subs(Pow(nu,2), nu__2))\n",
      "T1Expressions.AddDerivedConstant('dEdv', dEdv.subs(Pow(nu,3), nu__3).subs(Pow(nu,2), nu__2))\n",
      "T1Expressions.AddDerivedConstant('Absorption', Absorption.subs(Pow(nu,3), nu__3).subs(Pow(nu,2), nu__2))\n",
      "T1Expressions.AddDerivedConstant('dvdt_T1', - (Flux + Absorption) / dEdv)"
     ],
     "language": "python",
     "metadata": {},
     "outputs": [],
     "prompt_number": 4
    },
    {
     "cell_type": "markdown",
     "metadata": {},
     "source": [
      "Now, the precession terms:"
     ]
    },
    {
     "cell_type": "code",
     "collapsed": false,
     "input": [
      "PrecessionVelocities = PNCollection()\n",
      "\n",
      "PrecessionVelocities.AddDerivedVariable('OmegaVec_chiVec_1',\n",
      "                                        Precession_chiVec1Expression(PNOrder)*ellHat,\n",
      "                                        datatype='std::vector<double>')\n",
      "PrecessionVelocities.AddDerivedVariable('OmegaVec_chiVec_2',\n",
      "                                        Precession_chiVec2Expression(PNOrder)*ellHat,\n",
      "                                        datatype='std::vector<double>')\n",
      "PrecessionVelocities.AddDerivedVariable('OmegaVec_ellHat',\n",
      "                                        Precession_ellHatExpression(PNOrder)*nHat,\n",
      "                                        datatype='std::vector<double>')"
     ],
     "language": "python",
     "metadata": {},
     "outputs": [],
     "prompt_number": 5
    },
    {
     "cell_type": "code",
     "collapsed": false,
     "input": [
      "CodeConstructor = CodeOutput.CodeConstructor(PNVariables, T1Expressions)\n",
      "for Terms in BindingEnergyTerms+FluxTerms+[AlviTerms]+[Precession_ellHat, Precession_chiVec1, Precession_chiVec2]:\n",
      "    CodeConstructor.AddDependencies(Terms)\n",
      "CodeConstructor.AddDependencies(PrecessionVelocities)"
     ],
     "language": "python",
     "metadata": {},
     "outputs": [],
     "prompt_number": 6
    },
    {
     "cell_type": "markdown",
     "metadata": {},
     "source": [
      "Finally, we write the code file itself.  Most of the text below will appear literally in the file.  Statements in single curly braces will be substituted by the `format` statement at the end of the string; double curly braces will just appear as literal braces in the output."
     ]
    },
    {
     "cell_type": "markdown",
     "metadata": {},
     "source": [
      "The following is essentially the same as above, except that the ODE system directly integrates the quaternion rotors describing the spin directions and orbital angular velocity vector.  This allows us to reduce the number of variables in the system and automatically satisfy certain constraints, which should lead to better numerical behavior.\n",
      "\n",
      "Note that in this formulation, `Phi` is a completely unnecessary variable.  It doesn't need to be computed because it is implict in the definition of the frame.  It is calculated here simply because it is easy to do, and might be handy to have around.  Of course, it could be derivd from knowledge of the frame alone."
     ]
    },
    {
     "cell_type": "code",
     "collapsed": false,
     "input": [
      "with open('C++/PNApproximants.ipp', 'w') as f :\n",
      "    # Start the class, write the declarations, initializations, etc.\n",
      "    f.write(\"\"\"// File produced automatically by OrbitalEvolution.ipynb\n",
      "\n",
      "void cross(const double a[3], const double b[3], double c[3]) {{\n",
      "  c[0] = a[1]*b[2]-a[2]*b[1];\n",
      "  c[1] = -a[0]*b[2]+a[2]*b[0];\n",
      "  c[2] = a[0]*b[1]-a[1]*b[0];\n",
      "  return;\n",
      "}}\n",
      "\n",
      "class TaylorTn {{\n",
      "private:\n",
      "{Declarations}\n",
      "  double Phi, gamma;\n",
      "\n",
      "public:\n",
      "  TaylorTn({InputArguments}) :\n",
      "{Initializations}, Phi(0.0)\n",
      "  {{\n",
      "    ellHat[0] = ellHat_x;\n",
      "    ellHat[1] = ellHat_y;\n",
      "    ellHat[2] = ellHat_z;\n",
      "    nHat[0] = nHat_x;\n",
      "    nHat[1] = nHat_y;\n",
      "    nHat[2] = nHat_z;\n",
      "  }}\n",
      "\n",
      "  void Recalculate(double t, const double* y) {{\n",
      "    v = y[0];\n",
      "    chi1_x = y[1];\n",
      "    chi1_y = y[2];\n",
      "    chi1_z = y[3];\n",
      "    chi2_x = y[4];\n",
      "    chi2_y = y[5];\n",
      "    chi2_z = y[6];\n",
      "    ellHat_x = y[7];\n",
      "    ellHat_y = y[8];\n",
      "    ellHat_z = y[9];\n",
      "    Phi = y[10];\n",
      "    gamma = y[11];\n",
      "\n",
      "    const Quaternion Rax =\n",
      "        sqrtOfRotor(-normalized(Quaternion(0., ellHat_x, ellHat_y, ellHat_z))*zHat);\n",
      "    const Quaternion R = Rax * exp(((gamma+Phi)/2.)*zHat);\n",
      "    const Quaternion nHatQ = R*xHat*R.conjugate();\n",
      "    nHat_x = nHatQ[1];\n",
      "    nHat_y = nHatQ[2];\n",
      "    nHat_z = nHatQ[3];\n",
      "\n",
      "{Evaluations}\n",
      "  }}\n",
      "\n",
      "{MemberFunctions}\n",
      "\"\"\".format(InputArguments=CodeConstructor.CppInputArguments(11),\n",
      "           Declarations=CodeConstructor.CppDeclarations(2),\n",
      "           Initializations=CodeConstructor.CppInitializations(4),\n",
      "           Evaluations=CodeConstructor.CppEvaluations(4),\n",
      "           MemberFunctions=CodeOutput.CodeConstructor(PNVariables, PrecessionVelocities).CppExpressionsAsFunctions(2)))\n",
      "\n",
      "    # Write the external interfaces to the ODE stepper\n",
      "    for n,Expressions in zip([1,4,5], [T1Expressions,T4Expressions,T5Expressions]) :\n",
      "        f.write(\"\"\"\n",
      "  int TaylorT{n}_{Order}PN(double t, const double* y, double* dydt) {{\n",
      "    Recalculate(t, y);\n",
      "    if(v>=1.0) {{ return GSL_EDOM; }} // Beyond domain of PN validity\n",
      "{Computations}\n",
      "    if(dvdt_T{n}<0.0) {{ return GSL_EDIVERGE; }} // v is decreasing\n",
      "    return CommonRHS(dvdt_T{n}, y, dydt);\n",
      "  }}\n",
      "\"\"\".format(n=n,\n",
      "           Order='{0}'.format(float(PNOrder)).replace('.','p'),\n",
      "           Computations=CodeOutput.CodeConstructor(PNVariables, Expressions).CppEvaluateExpressions() ))\n",
      "\n",
      "    # Finish up, writing the common RHS function and closing the class\n",
      "    f.write(\"\"\"\n",
      "  int CommonRHS(const double dvdt, const double* y, double* dydt) {\n",
      "    dydt[0] = dvdt;\n",
      "    cross(&OmegaVec_chiVec_1()[0], &y[1], &dydt[1]);\n",
      "    cross(&OmegaVec_chiVec_2()[0], &y[4], &dydt[4]);\n",
      "    cross(&OmegaVec_ellHat()[0], &y[7], &dydt[7]);\n",
      "    dydt[10] = v*v*v;\n",
      "    const Quaternion adot(0., dydt[7], dydt[8], dydt[9]);\n",
      "    const Quaternion Rax =\n",
      "        sqrtOfRotor(-Quaternion(0., ellHat_x, ellHat_y, ellHat_z).normalized()*zHat);\n",
      "    const Quaternion Raxdot = ( (-1.0/std::sqrt(2+2*y[9]))*adot*zHat - (dydt[9]/(2+2*y[9]))*Rax );\n",
      "    dydt[11] = -2*(Rax.conjugate() * Raxdot)[3];\n",
      "\n",
      "    return GSL_SUCCESS; // GSL expects this if everything went well\n",
      "  }\n",
      "};\n",
      "\"\"\")\n"
     ],
     "language": "python",
     "metadata": {},
     "outputs": [],
     "prompt_number": 7
    },
    {
     "cell_type": "heading",
     "level": 1,
     "metadata": {},
     "source": [
      "TaylorT2 and TaylorT3"
     ]
    },
    {
     "cell_type": "markdown",
     "metadata": {},
     "source": [
      "These two approximants are also closely related to each other.  I believe they are only possible for nonprecessing systems."
     ]
    },
    {
     "cell_type": "code",
     "collapsed": false,
     "input": [],
     "language": "python",
     "metadata": {},
     "outputs": [],
     "prompt_number": 7
    },
    {
     "cell_type": "heading",
     "level": 1,
     "metadata": {},
     "source": [
      "TaylorF2"
     ]
    },
    {
     "cell_type": "code",
     "collapsed": false,
     "input": [],
     "language": "python",
     "metadata": {},
     "outputs": [],
     "prompt_number": 7
    }
   ],
   "metadata": {}
  }
 ]
}