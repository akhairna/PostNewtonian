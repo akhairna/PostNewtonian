{
 "metadata": {
  "name": ""
 },
 "nbformat": 3,
 "nbformat_minor": 0,
 "worksheets": [
  {
   "cells": [
    {
     "cell_type": "markdown",
     "metadata": {},
     "source": [
      "This notebook collects algorithms for evolving or evaluating (in nonprecessing cases) the orbital evolution of the PN system.  The primary approximants are denoted TaylorT$n$ for $n \\in [1,5]$.  \"Taylor\" means that they are Taylor series (as opposed to Pad\u00e9), \"T\" means that they are in the time domain (as opposed to frequency), and $n$ just numbers the order in which they were established in the literature.  The other important approximant is TaylorF2, which is based on TaylorT2, but is in the frequency domain."
     ]
    },
    {
     "cell_type": "code",
     "collapsed": false,
     "input": [
      "# Always run this first\n",
      "# NOTE: Do not define new variables in this notebook or in Variables.py; \n",
      "#       define them in Variables.ipynb.  Variables.py will be automatically\n",
      "#       recreated when Variables.ipynb is saved.\n",
      "\n",
      "from __future__ import division # This needs to be here, even though it's in Variables.py\n",
      "execfile('ExecNotebook.ipy')\n",
      "execnotebook('Variables.ipynb')"
     ],
     "language": "python",
     "metadata": {},
     "outputs": [],
     "prompt_number": 102
    },
    {
     "cell_type": "heading",
     "level": 1,
     "metadata": {},
     "source": [
      "TaylorT1, TaylorT4, and TaylorT5*"
     ]
    },
    {
     "cell_type": "markdown",
     "metadata": {},
     "source": [
      "These very similar approximants are the simplest in construction, and most widely applicable.  In particular, they can both be applied to precessing systems.  Each gives rise to the same system of ODEs that need to be integrated in time, except that the right-hand side for $dv/dt$ is expanded as a series in $v$ and truncated for TaylorT4.  TaylorT5 extends that simply.\n",
      "\n",
      "\n",
      "***** The version of TaylorT5 output below is slightly different from the one introduced by Ajith.  He further solved analytically for the orbital phase $\\Phi$ in terms of $v$.  This is seemingly still possible in the precessing case, and looks like it would be easy.  The value of `y[1]` would have to be reset explicitly at the top of the `TaylorT4RHS` function emitted below."
     ]
    },
    {
     "cell_type": "code",
     "collapsed": false,
     "input": [
      "execnotebook('Flux.ipynb')\n",
      "execnotebook('OrbitalEnergy.ipynb')\n",
      "execnotebook('EnergyAbsorption.ipynb')\n",
      "execnotebook('Precession.ipynb')\n",
      "\n",
      "# Evaluate the flux and energy\n",
      "Flux = FluxSum(IncompleteNonspinningTerms=True).subs(log(v), logv).subs(Pow(nu,3), nu__3).subs(Pow(nu,2), nu__2)\n",
      "Energy = EnergySum(IncompleteNonspinningTerms=True).subs(log(v), logv).subs(Pow(nu,3), nu__3).subs(Pow(nu,2), nu__2)\n",
      "\n",
      "# Differentiate Energy WRT v, treating log terms as constant\n",
      "dEnergydv = horner(diff(Energy, v))\n",
      "\n",
      "# Evaluate the energy absorption by the BHs, and make substitutions so that the Horner form is nice\n",
      "Absorption = AbsorptionCoefficient*AlviTerm\n",
      "Absorption = Absorption.subs(sqrt1Mchi1chi1.substitution, sqrt1Mchi1chi1)\n",
      "Absorption = Absorption.subs(sqrt1Mchi2chi2.substitution, sqrt1Mchi2chi2)\n",
      "Absorption = Absorption.subs(log(v), logv).subs(Pow(nu,3), nu__3)\n",
      "Absorption = Absorption.subs(Pow(nu,2), nu__2)"
     ],
     "language": "python",
     "metadata": {},
     "outputs": [],
     "prompt_number": 56
    },
    {
     "cell_type": "code",
     "collapsed": false,
     "input": [
      "%%time\n",
      "PNOrder = frac(7,2)\n",
      "dvdt = (FluxCoefficient/diff(EnergyCoefficient,v))*\\\n",
      "    series( series(- (Flux + Absorption)/FluxCoefficient, x=v, x0=0, n=2*PNOrder).removeO()\n",
      "            / series(dEnergydv/diff(EnergyCoefficient,v), x=v, x0=0, n=2*PNOrder).removeO(),\n",
      "            x=v, x0=0, n=2*PNOrder).removeO()\n",
      "dtdv = (diff(EnergyCoefficient,v)/FluxCoefficient)*\\\n",
      "    series( series(dEnergydv/diff(EnergyCoefficient,v), x=v, x0=0, n=2*PNOrder).removeO()\n",
      "            / series(- (Flux + Absorption)/FluxCoefficient, x=v, x0=0, n=2*PNOrder).removeO(),\n",
      "            x=v, x0=0, n=2*PNOrder).removeO()\n",
      "# times = [28.1, 6.05, 6, 6.13, 6.62, 14.2, 18.2, 92, 220]"
     ],
     "language": "python",
     "metadata": {},
     "outputs": [
      {
       "output_type": "stream",
       "stream": "stdout",
       "text": [
        "CPU times: user 5min 24s, sys: 1.62 s, total: 5min 26s\n",
        "Wall time: 5min 30s\n"
       ]
      }
     ],
     "prompt_number": 3
    },
    {
     "cell_type": "code",
     "collapsed": false,
     "input": [
      "reload(CodeOutput);"
     ],
     "language": "python",
     "metadata": {},
     "outputs": [],
     "prompt_number": 99
    },
    {
     "cell_type": "code",
     "collapsed": false,
     "input": [
      "QuantitiesT1 = ['dEnergydv', 'Flux', 'Absorption', 'const double dvdt = - (Flux + Absorption) / dEnergydv;']\n",
      "QuantitiesT4 = ['dvdt']\n",
      "QuantitiesT5 = ['dtdv', 'const double dvdt = 1.0/dtdv;']\n",
      "PrecessionQuantities = ['OmegaLMag', 'Omega1Mag', 'Omega2Mag']\n",
      "\n",
      "PNVariablesWithPrecession = PNVariables.copy()\n",
      "PNVariablesWithPrecession.AddDerivedVariable('gamma_L', gamma_Lhat_N)\n",
      "PNVariablesWithPrecession.AddDerivedVariable('a_L_overvcubed', a_ell_Lhat_N/v**3)\n",
      "PNVariablesWithPrecession.AddDerivedVariable('OmegaLMag', gamma_L*a_L_overvcubed)\n",
      "PNVariablesWithPrecession.AddDerivedVariable('Omega1Mag', Omega1)\n",
      "PNVariablesWithPrecession.AddDerivedVariable('Omega2Mag', Omega2)\n",
      "\n",
      "import CodeOutput\n",
      "\n",
      "InputArgumentsT1,DeclarationsT1,InitializationsT1,EvaluationsT1,ComputationsT1 = \\\n",
      "    CodeOutput.CCodeOutput(QuantitiesT1, PNVariablesWithPrecession, globals(), PrecessionQuantities)\n",
      "InputArgumentsT4,DeclarationsT4,InitializationsT4,EvaluationsT4,ComputationsT4 = \\\n",
      "    CodeOutput.CCodeOutput(QuantitiesT4, PNVariablesWithPrecession, globals(), PrecessionQuantities)\n",
      "InputArgumentsT5,DeclarationsT5,InitializationsT5,EvaluationsT5,ComputationsT5 = \\\n",
      "    CodeOutput.CCodeOutput(QuantitiesT5, PNVariablesWithPrecession, globals(), PrecessionQuantities)\n",
      "\n",
      "# The variables in T1 form a small superset of the others, so we just go with T1"
     ],
     "language": "python",
     "metadata": {},
     "outputs": [],
     "prompt_number": 103
    },
    {
     "cell_type": "code",
     "collapsed": false,
     "input": [
      "with open('C++/TaylorApproximants.ipp', 'w') as f :\n",
      "    f.write(\"\"\"\n",
      "// File produced automatically by OrbitalEvolution.ipynb\n",
      "\n",
      "inline void cross(const double* a, const double* b, double* c) {{\n",
      "  c[0] = a[1]*b[2] - a[2]*b[1];\n",
      "  c[1] = a[2]*b[0] - a[0]*b[2];\n",
      "  c[2] = a[0]*b[1] - a[1]*b[0];\n",
      "  return;\n",
      "}}\n",
      "\n",
      "const Quaternions::Quaternion xHat(0,1.0,0,0);\n",
      "const Quaternions::Quaternion yHat(0,0,1.0,0);\n",
      "const Quaternions::Quaternion zHat(0,0,0,1.0);\n",
      "\n",
      "class TaylorTn {{\n",
      "private:\n",
      "{Declarations}\n",
      "  double Phi, gamma;\n",
      "\n",
      "public:\n",
      "  TaylorTn({InputArguments}) :\n",
      "{Initializations}\n",
      "  {{ }}\n",
      "\n",
      "  void Recalculate(double t, const double* y) {{\n",
      "    v = y[0];\n",
      "    Phi = y[1];\n",
      "    chi1_x = y[2];\n",
      "    chi1_y = y[3];\n",
      "    chi1_z = y[4];\n",
      "    chi2_x = y[5];\n",
      "    chi2_y = y[6];\n",
      "    chi2_z = y[7];\n",
      "    Lhat_Nx = y[8];\n",
      "    Lhat_Ny = y[9];\n",
      "    Lhat_Nz = y[10];\n",
      "    gamma = y[11];\n",
      "    const Quaternions::Quaternion Rax =\n",
      "        Quaternions::sqrtOfRotor(-Quaternions::normalized(Quaternions::Quaternion(0., Lhat_Nx, Lhat_Ny, Lhat_Nz))*zHat);\n",
      "    const Quaternions::Quaternion R = Rax * Quaternions::exp(((gamma+Phi)/2.)*zHat);\n",
      "    const Quaternions::Quaternion nhatQ = R*xHat*R.conjugate();\n",
      "    nhat_x = nhatQ[1];\n",
      "    nhat_y = nhatQ[2];\n",
      "    nhat_z = nhatQ[3];\n",
      "{Evaluations}\n",
      "  }}\n",
      "\"\"\".format(InputArguments=InputArgumentsT1, Declarations=DeclarationsT1, Initializations=InitializationsT1,\n",
      "           Evaluations=EvaluationsT1))\n",
      "    for n in [1,4,5] :\n",
      "        f.write(\"\"\"\n",
      "  int TaylorT{n}RHS(double t, const double* y, double* dydt) {{\n",
      "    Recalculate(t, y);\n",
      "    if(v>=1.0) {{ return GSL_EDOM; }} // Beyond domain of PN validity\n",
      "{Computations}\n",
      "    if(dvdt<0.0) {{ return GSL_EDIVERGE; }} // v is decreasing\n",
      "    return CommonRHS(dvdt, t, y, dydt);\n",
      "  }}\n",
      "\"\"\".format(n=n, Computations=eval('ComputationsT'+str(n))))\n",
      "    f.write(\"\"\"\n",
      "  int CommonRHS(const double dvdt, double t, const double* y, double* dydt) {\n",
      "    dydt[0] = dvdt;\n",
      "    dydt[1] = v*v*v;\n",
      "    const double Omega1[3] = {Omega1Mag*Lhat_Nx, Omega1Mag*Lhat_Ny, Omega1Mag*Lhat_Nz};\n",
      "    const double Omega2[3] = {Omega2Mag*Lhat_Nx, Omega2Mag*Lhat_Ny, Omega2Mag*Lhat_Nz};\n",
      "    const double OmegaL[3]  = {OmegaLMag*nhat_x,  OmegaLMag*nhat_y,  OmegaLMag*nhat_z};\n",
      "    cross(&Omega1[0], &y[2], &dydt[2]);\n",
      "    cross(&Omega2[0], &y[5], &dydt[5]);\n",
      "    cross(&OmegaL[0], &y[8], &dydt[8]);\n",
      "    const Quaternions::Quaternion adot(0., dydt[8], dydt[9], dydt[10]);\n",
      "    const Quaternions::Quaternion Rax =\n",
      "        Quaternions::sqrtOfRotor(-Quaternions::normalized(Quaternions::Quaternion(0., OmegaL[0], OmegaL[1], OmegaL[2]))*zHat);\n",
      "    const Quaternions::Quaternion Raxdot = ( (-1.0/std::sqrt(2+2*y[10]))*adot*zHat - (dydt[10]/(2+2*y[10]))*Rax );\n",
      "    const Quaternions::Quaternion dgammadt = 2*(Rax.conjugate() * Raxdot * zHat);\n",
      "    dydt[11] = dgammadt[0];\n",
      "    return GSL_SUCCESS; // GSL expects this if everything went well\n",
      "  }\n",
      "};\n",
      "\"\"\")\n"
     ],
     "language": "python",
     "metadata": {},
     "outputs": [],
     "prompt_number": 104
    },
    {
     "cell_type": "heading",
     "level": 1,
     "metadata": {},
     "source": [
      "TaylorT2 and TaylorT3"
     ]
    },
    {
     "cell_type": "markdown",
     "metadata": {},
     "source": [
      "These two approximants are also closely related to each other.  I believe they are only possible for nonprecessing systems."
     ]
    },
    {
     "cell_type": "code",
     "collapsed": false,
     "input": [],
     "language": "python",
     "metadata": {},
     "outputs": []
    },
    {
     "cell_type": "heading",
     "level": 1,
     "metadata": {},
     "source": [
      "TaylorF2"
     ]
    },
    {
     "cell_type": "code",
     "collapsed": false,
     "input": [],
     "language": "python",
     "metadata": {},
     "outputs": []
    }
   ],
   "metadata": {}
  }
 ]
}