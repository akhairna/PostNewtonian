{
 "metadata": {
  "name": ""
 },
 "nbformat": 3,
 "nbformat_minor": 0,
 "worksheets": [
  {
   "cells": [
    {
     "cell_type": "markdown",
     "metadata": {},
     "source": [
      "This notebook collects algorithms for evolving or evaluating (in nonprecessing cases) the orbital evolution of the PN system.  The primary approximants are denoted TaylorT$n$ for $n \\in [1,5]$.  \"Taylor\" means that they are Taylor series (as opposed to Pad\u00e9), \"T\" means that they are in the time domain (as opposed to frequency), and $n$ just numbers the order in which they were established in the literature.  The other important approximant is TaylorF2, which is based on TaylorT2, but is in the frequency domain."
     ]
    },
    {
     "cell_type": "code",
     "collapsed": false,
     "input": [
      "# Always run this first\n",
      "# NOTE: Do not define new variables in this notebook or in Variables.py; \n",
      "#       define them in Variables.ipynb.  Variables.py will be automatically\n",
      "#       recreated when Variables.ipynb is saved.\n",
      "\n",
      "from __future__ import division # This needs to be here, even though it's in Variables.py\n",
      "import pickle\n",
      "execfile('ExecNotebook.ipy')\n",
      "execnotebook('Variables.ipynb')\n",
      "import CodeOutput"
     ],
     "language": "python",
     "metadata": {},
     "outputs": [],
     "prompt_number": 1
    },
    {
     "cell_type": "heading",
     "level": 1,
     "metadata": {},
     "source": [
      "TaylorT1, TaylorT4, and TaylorT5*"
     ]
    },
    {
     "cell_type": "markdown",
     "metadata": {},
     "source": [
      "These very similar approximants are the simplest in construction, and most widely applicable.  In particular, they can both be applied to precessing systems.  Each gives rise to the same system of ODEs that need to be integrated in time, except that the right-hand side for $dv/dt$ is expanded as a series in $v$ and truncated for TaylorT4.  TaylorT5 extends that simply.\n",
      "\n",
      "\n",
      "***** The version of TaylorT5 output below is slightly different from the one introduced by Ajith.  He further solved analytically for the orbital phase $\\Phi$ in terms of $v$.  This doesn't appear to be possible in the precessing case, since terms such as $\\vec{\\Sigma} \\cdot \\hat{L}_{\\text{N}}$ now vary with $v$ in nontrivial ways.  Besides, we have 11 variables to integrate besides $\\Phi$, so it's not much extra burden to integrate it too.  For nonprecessing systems, similar code could be generated for the non-precessing case using Ajith's solution for $\\Phi$; the value of `y[1]` would have to be reset explicitly at the top of the `TaylorT4RHS` function emitted below."
     ]
    },
    {
     "cell_type": "markdown",
     "metadata": {},
     "source": [
      "First, we collect the various expressions from other notebooks:"
     ]
    },
    {
     "cell_type": "code",
     "collapsed": false,
     "input": [
      "execnotebook('Flux.ipynb')\n",
      "execnotebook('BindingEnergy.ipynb')\n",
      "execnotebook('EnergyAbsorption.ipynb')\n",
      "execnotebook('Precession.ipynb')"
     ],
     "language": "python",
     "metadata": {},
     "outputs": [],
     "prompt_number": 2
    },
    {
     "cell_type": "markdown",
     "metadata": {},
     "source": [
      "Next, we calculate the expansions needed for TaylorT4 and T5.  These will be the right-hand sides in our evolution equations for $dv/dt$.  TaylorT1 simply numerically evaluates a ratio of the terms imported above"
     ]
    },
    {
     "cell_type": "code",
     "collapsed": false,
     "input": [
      "PNOrder = frac(7,2)\n",
      "\n",
      "# Read in the high-order series expansion of a ratio of polynomials\n",
      "p_Ratio = pickle.load(file('PolynomialRatios/PolynomialRatioSeries_Order{0}.dat'.format(12)))\n",
      "p_Ratio = p_Ratio.removeO().subs('PolynomialVariable',v)\n",
      "\n",
      "# Evaluate the flux and energy\n",
      "Flux = FluxSum(IncompleteNonspinningTerms=True).subs(log(v), logv)\n",
      "Energy = EnergySum(IncompleteNonspinningTerms=True).subs(log(v), logv)\n",
      "\n",
      "# Differentiate Energy WRT v, treating log terms as constant\n",
      "dEnergydv = horner(diff(Energy, v))\n",
      "\n",
      "# Evaluate the energy absorption by the BHs, and make substitutions so that the Horner form is nice\n",
      "Absorption = AbsorptionCoefficient*AlviTerm\n",
      "Absorption = Absorption.subs(sqrt1Mchi1chi1.substitution, sqrt1Mchi1chi1)\n",
      "Absorption = Absorption.subs(sqrt1Mchi2chi2.substitution, sqrt1Mchi2chi2)\n",
      "Absorption = Absorption.subs(log(v), logv)\n",
      "\n",
      "# Get the series expansions for the numerators and denominators\n",
      "FluxSeries = series(- (Flux + Absorption)/FluxCoefficient, x=v, x0=0, n=2*PNOrder).removeO()\n",
      "dEdvSeries = series(dEnergydv/diff(EnergyCoefficient,v), x=v, x0=0, n=2*PNOrder).removeO()\n",
      "\n",
      "\n",
      "# TaylorT4\n",
      "NumTerms = {'Num{0}'.format(n): FluxSeries.coeff(v,n=n) for n in range(2*PNOrder+1)}\n",
      "DenTerms = {'Den{0}'.format(n): dEdvSeries.coeff(v,n=n) for n in range(2*PNOrder+1)}\n",
      "dvdt = (FluxCoefficient/diff(EnergyCoefficient,v))*\\\n",
      "    horner(sum([v**n*horner(N(p_Ratio.coeff(v,n=n).subs(dict(NumTerms.items() + DenTerms.items()))))\n",
      "                for n in range(2*PNOrder)]))\n",
      "\n",
      "# TaylorT5\n",
      "NumTerms = {'Num{0}'.format(n): dEdvSeries.coeff(v,n=n) for n in range(2*PNOrder+1)}\n",
      "DenTerms = {'Den{0}'.format(n): FluxSeries.coeff(v,n=n) for n in range(2*PNOrder+1)}\n",
      "dtdv = (diff(EnergyCoefficient,v)/FluxCoefficient)*\\\n",
      "    horner(sum([v**n*horner(N(p_Ratio.coeff(v,n=n).subs(dict(NumTerms.items() + DenTerms.items()))))\n",
      "                for n in range(2*PNOrder)]))\n",
      "\n",
      "# TaylorT1 just gets some substitutions for efficiency\n",
      "Flux = Flux.subs(Pow(nu,3), nu__3).subs(Pow(nu,2), nu__2)\n",
      "Energy = Energy.subs(Pow(nu,3), nu__3).subs(Pow(nu,2), nu__2)\n",
      "Absorption = Absorption.subs(Pow(nu,3), nu__3).subs(Pow(nu,2), nu__2)"
     ],
     "language": "python",
     "metadata": {},
     "outputs": [],
     "prompt_number": 3
    },
    {
     "cell_type": "markdown",
     "metadata": {},
     "source": [
      "Next, we use the `CCodeOutput` function from `CodeOutput.py` to generate the `C++` code needed when constructing the output code file below."
     ]
    },
    {
     "cell_type": "code",
     "collapsed": false,
     "input": [
      "QuantitiesT1 = ['dEnergydv', 'Flux', 'Absorption', 'const double dvdt = - (Flux + Absorption) / dEnergydv;']\n",
      "QuantitiesT4 = ['dvdt']\n",
      "QuantitiesT5 = ['dtdv', 'const double dvdt = 1.0/dtdv;']\n",
      "PrecessionQuantities = ['OmegaLMag', 'Omega1Mag', 'Omega2Mag']\n",
      "\n",
      "PNVariablesWithPrecession = PNVariables.copy()\n",
      "PNVariablesWithPrecession.AddDerivedVariable('gamma_ellHat', gamma_ellHat)\n",
      "PNVariablesWithPrecession.AddDerivedVariable('a_ellHat_overvcubed', a_ellHat/v**3)\n",
      "PNVariablesWithPrecession.AddDerivedVariable('OmegaLMag', gamma_ellHat*a_ellHat_overvcubed)\n",
      "PNVariablesWithPrecession.AddDerivedVariable('Omega1Mag', Omega1)\n",
      "PNVariablesWithPrecession.AddDerivedVariable('Omega2Mag', Omega2)\n",
      "\n",
      "InputArgumentsT1,DeclarationsT1,InitializationsT1,EvaluationsT1,ComputationsT1 = \\\n",
      "    CodeOutput.CCodeOutput(QuantitiesT1, PNVariablesWithPrecession, globals(), PrecessionQuantities)\n",
      "InputArgumentsT4,DeclarationsT4,InitializationsT4,EvaluationsT4,ComputationsT4 = \\\n",
      "    CodeOutput.CCodeOutput(QuantitiesT4, PNVariablesWithPrecession, globals(), PrecessionQuantities)\n",
      "InputArgumentsT5,DeclarationsT5,InitializationsT5,EvaluationsT5,ComputationsT5 = \\\n",
      "    CodeOutput.CCodeOutput(QuantitiesT5, PNVariablesWithPrecession, globals(), PrecessionQuantities)\n",
      "\n",
      "# The variables in T1 form a small superset of the others, so we just go with T1"
     ],
     "language": "python",
     "metadata": {},
     "outputs": [
      {
       "ename": "AttributeError",
       "evalue": "'Symbol' object has no attribute 'substitution'",
       "output_type": "pyerr",
       "traceback": [
        "\u001b[0;31m---------------------------------------------------------------------------\u001b[0m\n\u001b[0;31mAttributeError\u001b[0m                            Traceback (most recent call last)",
        "\u001b[0;32m<ipython-input-4-9f04f68727b0>\u001b[0m in \u001b[0;36m<module>\u001b[0;34m()\u001b[0m\n\u001b[1;32m     11\u001b[0m \u001b[0mPNVariablesWithPrecession\u001b[0m\u001b[0;34m.\u001b[0m\u001b[0mAddDerivedVariable\u001b[0m\u001b[0;34m(\u001b[0m\u001b[0;34m'Omega2Mag'\u001b[0m\u001b[0;34m,\u001b[0m \u001b[0mOmega2\u001b[0m\u001b[0;34m)\u001b[0m\u001b[0;34m\u001b[0m\u001b[0m\n\u001b[1;32m     12\u001b[0m \u001b[0;34m\u001b[0m\u001b[0m\n\u001b[0;32m---> 13\u001b[0;31m \u001b[0mInputArgumentsT1\u001b[0m\u001b[0;34m,\u001b[0m\u001b[0mDeclarationsT1\u001b[0m\u001b[0;34m,\u001b[0m\u001b[0mInitializationsT1\u001b[0m\u001b[0;34m,\u001b[0m\u001b[0mEvaluationsT1\u001b[0m\u001b[0;34m,\u001b[0m\u001b[0mComputationsT1\u001b[0m \u001b[0;34m=\u001b[0m     \u001b[0mCodeOutput\u001b[0m\u001b[0;34m.\u001b[0m\u001b[0mCCodeOutput\u001b[0m\u001b[0;34m(\u001b[0m\u001b[0mQuantitiesT1\u001b[0m\u001b[0;34m,\u001b[0m \u001b[0mPNVariablesWithPrecession\u001b[0m\u001b[0;34m,\u001b[0m \u001b[0mglobals\u001b[0m\u001b[0;34m(\u001b[0m\u001b[0;34m)\u001b[0m\u001b[0;34m,\u001b[0m \u001b[0mPrecessionQuantities\u001b[0m\u001b[0;34m)\u001b[0m\u001b[0;34m\u001b[0m\u001b[0m\n\u001b[0m\u001b[1;32m     14\u001b[0m \u001b[0mInputArgumentsT4\u001b[0m\u001b[0;34m,\u001b[0m\u001b[0mDeclarationsT4\u001b[0m\u001b[0;34m,\u001b[0m\u001b[0mInitializationsT4\u001b[0m\u001b[0;34m,\u001b[0m\u001b[0mEvaluationsT4\u001b[0m\u001b[0;34m,\u001b[0m\u001b[0mComputationsT4\u001b[0m \u001b[0;34m=\u001b[0m     \u001b[0mCodeOutput\u001b[0m\u001b[0;34m.\u001b[0m\u001b[0mCCodeOutput\u001b[0m\u001b[0;34m(\u001b[0m\u001b[0mQuantitiesT4\u001b[0m\u001b[0;34m,\u001b[0m \u001b[0mPNVariablesWithPrecession\u001b[0m\u001b[0;34m,\u001b[0m \u001b[0mglobals\u001b[0m\u001b[0;34m(\u001b[0m\u001b[0;34m)\u001b[0m\u001b[0;34m,\u001b[0m \u001b[0mPrecessionQuantities\u001b[0m\u001b[0;34m)\u001b[0m\u001b[0;34m\u001b[0m\u001b[0m\n\u001b[1;32m     15\u001b[0m \u001b[0mInputArgumentsT5\u001b[0m\u001b[0;34m,\u001b[0m\u001b[0mDeclarationsT5\u001b[0m\u001b[0;34m,\u001b[0m\u001b[0mInitializationsT5\u001b[0m\u001b[0;34m,\u001b[0m\u001b[0mEvaluationsT5\u001b[0m\u001b[0;34m,\u001b[0m\u001b[0mComputationsT5\u001b[0m \u001b[0;34m=\u001b[0m     \u001b[0mCodeOutput\u001b[0m\u001b[0;34m.\u001b[0m\u001b[0mCCodeOutput\u001b[0m\u001b[0;34m(\u001b[0m\u001b[0mQuantitiesT5\u001b[0m\u001b[0;34m,\u001b[0m \u001b[0mPNVariablesWithPrecession\u001b[0m\u001b[0;34m,\u001b[0m \u001b[0mglobals\u001b[0m\u001b[0;34m(\u001b[0m\u001b[0;34m)\u001b[0m\u001b[0;34m,\u001b[0m \u001b[0mPrecessionQuantities\u001b[0m\u001b[0;34m)\u001b[0m\u001b[0;34m\u001b[0m\u001b[0m\n",
        "\u001b[0;32m/Users/boyle/Research/PostNewtonian/CodeOutput.pyc\u001b[0m in \u001b[0;36mCCodeOutput\u001b[0;34m(Quantities, PNVariables, ns, Utilities, Indent)\u001b[0m\n\u001b[1;32m     80\u001b[0m     \u001b[0;31m# Get a list of names of sympy expressions in the input\u001b[0m\u001b[0;34m\u001b[0m\u001b[0;34m\u001b[0m\u001b[0m\n\u001b[1;32m     81\u001b[0m     \u001b[0mExpressions\u001b[0m \u001b[0;34m=\u001b[0m \u001b[0;34m[\u001b[0m\u001b[0mE\u001b[0m \u001b[0;32mfor\u001b[0m \u001b[0mQuantity\u001b[0m \u001b[0;32min\u001b[0m \u001b[0mQuantities\u001b[0m\u001b[0;34m+\u001b[0m\u001b[0mUtilities\u001b[0m \u001b[0;32mfor\u001b[0m \u001b[0mE\u001b[0m \u001b[0;32min\u001b[0m \u001b[0;34m[\u001b[0m\u001b[0mExpression\u001b[0m\u001b[0;34m(\u001b[0m\u001b[0mQuantity\u001b[0m\u001b[0;34m,\u001b[0m \u001b[0mns\u001b[0m\u001b[0;34m)\u001b[0m\u001b[0;34m]\u001b[0m \u001b[0;32mif\u001b[0m \u001b[0mE\u001b[0m\u001b[0;34m]\u001b[0m\u001b[0;34m\u001b[0m\u001b[0m\n\u001b[0;32m---> 82\u001b[0;31m     \u001b[0mBasicConstantAtoms\u001b[0m\u001b[0;34m,\u001b[0m \u001b[0mBasicVariableAtoms\u001b[0m\u001b[0;34m,\u001b[0m \u001b[0mDerivedConstantAtoms\u001b[0m\u001b[0;34m,\u001b[0m \u001b[0mDerivedVariableAtoms\u001b[0m \u001b[0;34m=\u001b[0m \u001b[0mFindAtoms\u001b[0m\u001b[0;34m(\u001b[0m\u001b[0mExpressions\u001b[0m\u001b[0;34m,\u001b[0m \u001b[0mPNVariables\u001b[0m\u001b[0;34m,\u001b[0m \u001b[0mns\u001b[0m\u001b[0;34m)\u001b[0m\u001b[0;34m\u001b[0m\u001b[0m\n\u001b[0m\u001b[1;32m     83\u001b[0m \u001b[0;34m\u001b[0m\u001b[0m\n\u001b[1;32m     84\u001b[0m     \u001b[0;31m# InputArguments\u001b[0m\u001b[0;34m\u001b[0m\u001b[0;34m\u001b[0m\u001b[0m\n",
        "\u001b[0;32m/Users/boyle/Research/PostNewtonian/CodeOutput.pyc\u001b[0m in \u001b[0;36mFindAtoms\u001b[0;34m(Expressions, PNVariables, ns)\u001b[0m\n\u001b[1;32m     33\u001b[0m         \u001b[0mLastAtomsLength\u001b[0m \u001b[0;34m=\u001b[0m \u001b[0mlen\u001b[0m\u001b[0;34m(\u001b[0m\u001b[0mAtoms\u001b[0m\u001b[0;34m)\u001b[0m\u001b[0;34m\u001b[0m\u001b[0m\n\u001b[1;32m     34\u001b[0m         \u001b[0;32mfor\u001b[0m \u001b[0mAtom\u001b[0m \u001b[0;32min\u001b[0m \u001b[0mlist\u001b[0m\u001b[0;34m(\u001b[0m\u001b[0mAtoms\u001b[0m\u001b[0;34m)\u001b[0m \u001b[0;34m:\u001b[0m\u001b[0;34m\u001b[0m\u001b[0m\n\u001b[0;32m---> 35\u001b[0;31m             \u001b[0;32mif\u001b[0m \u001b[0;34m(\u001b[0m\u001b[0mAtom\u001b[0m\u001b[0;34m.\u001b[0m\u001b[0msubstitution\u001b[0m\u001b[0;34m)\u001b[0m \u001b[0;34m:\u001b[0m\u001b[0;34m\u001b[0m\u001b[0m\n\u001b[0m\u001b[1;32m     36\u001b[0m                 \u001b[0mAtoms\u001b[0m\u001b[0;34m.\u001b[0m\u001b[0mupdate\u001b[0m\u001b[0;34m(\u001b[0m\u001b[0mAtom\u001b[0m\u001b[0;34m.\u001b[0m\u001b[0msubstitution\u001b[0m\u001b[0;34m.\u001b[0m\u001b[0matoms\u001b[0m\u001b[0;34m(\u001b[0m\u001b[0mSymbol\u001b[0m\u001b[0;34m)\u001b[0m\u001b[0;34m)\u001b[0m\u001b[0;34m\u001b[0m\u001b[0m\n\u001b[1;32m     37\u001b[0m     \u001b[0mBasicConstantAtoms\u001b[0m \u001b[0;34m=\u001b[0m \u001b[0;34m[\u001b[0m\u001b[0;34m]\u001b[0m\u001b[0;34m\u001b[0m\u001b[0m\n",
        "\u001b[0;31mAttributeError\u001b[0m: 'Symbol' object has no attribute 'substitution'"
       ]
      }
     ],
     "prompt_number": 4
    },
    {
     "cell_type": "markdown",
     "metadata": {},
     "source": [
      "Finally, we write the code file itself.  Most of the text below will appear literally in the file.  Statements in single curly braces will be substituted by the `format` statement at the end of the string; double curly braces will just appear as literal braces in the output."
     ]
    },
    {
     "cell_type": "markdown",
     "metadata": {},
     "source": [
      "The following is essentially the same as above, except that the ODE system directly integrates the quaternion rotors describing the spin directions and orbital angular velocity vector.  This allows us to reduce the number of variables in the system and automatically satisfy certain constraints, which should lead to better numerical behavior."
     ]
    },
    {
     "cell_type": "code",
     "collapsed": false,
     "input": [
      "with open('C++/PNApproximants.ipp', 'w') as f :\n",
      "    f.write(\"\"\"\n",
      "// File produced automatically by OrbitalEvolution.ipynb\n",
      "\n",
      "void AngularVelocityIntegrand(const double r0, const double r1, const double r2,\n",
      "                              const double omega0, const double omega1, const double omega2,\n",
      "                              double& rdot0, double& rdot1, double& rdot2)\n",
      "{{\n",
      "  const double rmag = sqrt(r0*r0+r1*r1+r2*r2);\n",
      "\n",
      "  // If rmag is basically zero, return an answer assuming exactly zero\n",
      "  if(rmag<Quaternion_Epsilon) {{\n",
      "    rdot0 = omega0/2.0;\n",
      "    rdot1 = omega1/2.0;\n",
      "    rdot2 = omega2/2.0;\n",
      "    return;\n",
      "  }}\n",
      "\n",
      "  // Otherwise, actually do the calculation\n",
      "  const double dotTerm = (r0*omega0+r1*omega1+r2*omega2)/(rmag*rmag);\n",
      "  const double cotTerm = rmag/(2*tan(rmag));\n",
      "  rdot0 = (omega0 - r0*dotTerm)*cotTerm + r0*dotTerm + 0.5*(omega1*r2 - omega2*r1);\n",
      "  rdot1 = (omega1 - r1*dotTerm)*cotTerm + r1*dotTerm + 0.5*(omega2*r0 - omega0*r2);\n",
      "  rdot2 = (omega2 - r2*dotTerm)*cotTerm + r2*dotTerm + 0.5*(omega0*r1 - omega1*r0);\n",
      "  return;\n",
      "}}\n",
      "\n",
      "void AngularVelocityIntegrand(const double r0, const double r1,\n",
      "                              const double omega0, const double omega1, double omega2,\n",
      "                              double& rdot0, double& rdot1)\n",
      "{{\n",
      "  const double rmag = sqrt(r0*r0+r1*r1);\n",
      "\n",
      "  // If rmag is basically zero, return an answer assuming exactly zero\n",
      "  if(rmag<Quaternion_Epsilon) {{\n",
      "    rdot0 = omega0/2.0;\n",
      "    rdot1 = omega1/2.0;\n",
      "    return;\n",
      "  }}\n",
      "\n",
      "  // Otherwise, actually do the calculation\n",
      "  const double dotTerm = (r0*omega0+r1*omega1)/(rmag*rmag);\n",
      "  const double cotTerm = rmag/(2*tan(rmag));\n",
      "  rdot0 = (omega0 - r0*dotTerm)*cotTerm + r0*dotTerm - 0.5*omega2*r1;\n",
      "  rdot1 = (omega1 - r1*dotTerm)*cotTerm + r1*dotTerm + 0.5*omega2*r0;\n",
      "  return;\n",
      "}}\n",
      "\n",
      "const Quaternions::Quaternion xHat(0,1.0,0,0);\n",
      "const Quaternions::Quaternion zHat(0,0,0,1.0);\n",
      "\n",
      "class TaylorTn {{\n",
      "private:\n",
      "{Declarations}\n",
      "  double Phi, gamma;\n",
      "\n",
      "public:\n",
      "  TaylorTn({InputArguments}) :\n",
      "{Initializations}\n",
      "  {{ }}\n",
      "\n",
      "  void Recalculate(double t, const double* y) {{\n",
      "    v = y[0];\n",
      "    r_chi1_x = y[1];\n",
      "    r_chi1_y = y[2];\n",
      "    r_chi2_x = y[3];\n",
      "    r_chi2_y = y[4];\n",
      "    r_ell_x = y[5];\n",
      "    r_ell_y = y[6];\n",
      "    r_ell_x = y[7];\n",
      "    Phi = y[8];\n",
      "\n",
      "    const Quaternions::Quaternion R = Quaternions::Quaternion(0,r_ell_x,r_ell_y,r_ell_z).exp();\n",
      "    const Quaternions::Quaternion ellQ = R*zHat*R.conjugate();\n",
      "    const Quaternions::Quaternion nhatQ = R*xHat*R.conjugate();\n",
      "    ell_x = ellQ[1];\n",
      "    ell_y = ellQ[2];\n",
      "    ell_z = ellQ[3];\n",
      "    nhat_x = nhatQ[1];\n",
      "    nhat_y = nhatQ[2];\n",
      "    nhat_z = nhatQ[3];\n",
      "{Evaluations}\n",
      "  }}\n",
      "\"\"\".format(InputArguments=InputArgumentsT1, Declarations=DeclarationsT1, Initializations=InitializationsT1,\n",
      "           Evaluations=EvaluationsT1))\n",
      "\n",
      "    for n in [1,4,5] :\n",
      "        f.write(\"\"\"\n",
      "  int TaylorT{n}RHS(double t, const double* y, double* dydt) {{\n",
      "    Recalculate(t, y);\n",
      "    if(v>=1.0) {{ return GSL_EDOM; }} // Beyond domain of PN validity\n",
      "{Computations}\n",
      "    if(dvdt<0.0) {{ return GSL_EDIVERGE; }} // v is decreasing\n",
      "    return CommonRHS(dvdt, t, y, dydt);\n",
      "  }}\n",
      "\"\"\".format(n=n, Computations=eval('ComputationsT'+str(n))))\n",
      "\n",
      "    f.write(\"\"\"\n",
      "  int CommonRHS(const double dvdt, double t, const double* y, double* dydt) {\n",
      "    dydt[0] = dvdt;\n",
      "    AngularVelocityIntegrand(r_chi1_x, r_chi1_y,\n",
      "                             Omega1Mag*Lhat_Nx, Omega1Mag*Lhat_Ny, Omega1Mag*Lhat_Nz,\n",
      "                             dydt[1], dydt[2]);\n",
      "    AngularVelocityIntegrand(r_chi2_x, r_chi2_y,\n",
      "                             Omega2Mag*Lhat_Nx, Omega2Mag*Lhat_Ny, Omega2Mag*Lhat_Nz,\n",
      "                             dydt[3], dydt[4]);\n",
      "    AngularVelocityIntegrand(r_ell_x, r_ell_y, r_ell_z,\n",
      "                             OmegaLMag*nhat_x,  OmegaLMag*nhat_y,  OmegaLMag*nhat_z,\n",
      "                             dydt[5], dydt[6], dydt[7]);\n",
      "    dydt[8] = v*v*v; // Phi\n",
      "\n",
      "    return GSL_SUCCESS; // GSL expects this if everything went well\n",
      "  }\n",
      "};\n",
      "\"\"\")\n"
     ],
     "language": "python",
     "metadata": {},
     "outputs": [],
     "prompt_number": 104
    },
    {
     "cell_type": "heading",
     "level": 1,
     "metadata": {},
     "source": [
      "TaylorT2 and TaylorT3"
     ]
    },
    {
     "cell_type": "markdown",
     "metadata": {},
     "source": [
      "These two approximants are also closely related to each other.  I believe they are only possible for nonprecessing systems."
     ]
    },
    {
     "cell_type": "code",
     "collapsed": false,
     "input": [],
     "language": "python",
     "metadata": {},
     "outputs": []
    },
    {
     "cell_type": "heading",
     "level": 1,
     "metadata": {},
     "source": [
      "TaylorF2"
     ]
    },
    {
     "cell_type": "code",
     "collapsed": false,
     "input": [],
     "language": "python",
     "metadata": {},
     "outputs": []
    }
   ],
   "metadata": {}
  }
 ]
}