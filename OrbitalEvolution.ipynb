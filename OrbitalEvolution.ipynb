{
 "metadata": {
  "name": ""
 },
 "nbformat": 3,
 "nbformat_minor": 0,
 "worksheets": [
  {
   "cells": [
    {
     "cell_type": "code",
     "collapsed": false,
     "input": [
      "# Always run this first\n",
      "# NOTE: Do not define new variables in this notebook or in Variables.py; \n",
      "#       define them in Variables.ipynb.  Variables.py will be automatically\n",
      "#       recreated when Variables.ipynb is saved.\n",
      "\n",
      "from __future__ import division # This needs to be here, even though it's in Variables.py\n",
      "execfile('ExecNotebook.ipy')\n",
      "execnotebook('Variables.ipynb')\n",
      "execnotebook('CodeOutput.ipynb')"
     ],
     "language": "python",
     "metadata": {},
     "outputs": [],
     "prompt_number": 1
    },
    {
     "cell_type": "heading",
     "level": 1,
     "metadata": {},
     "source": [
      "TaylorT1, TaylorT4, and TaylorT5"
     ]
    },
    {
     "cell_type": "markdown",
     "metadata": {},
     "source": [
      "These very similar approximants are the simplest in construction, and most widely applicable.  In particular, they can both be applied to precessing systems.  Each gives rise to the same system of ODEs that need to be integrated in time, except that the right-hand side for $dv/dt$ is expanded as a series in $v$ and truncated for TaylorT4.  TaylorT5 extends that simply."
     ]
    },
    {
     "cell_type": "code",
     "collapsed": false,
     "input": [
      "execnotebook('Flux.ipynb')\n",
      "execnotebook('OrbitalEnergy.ipynb')\n",
      "execnotebook('EnergyAbsorption.ipynb')\n",
      "execnotebook('Precession.ipynb')\n",
      "\n",
      "# Evaluate the flux and energy\n",
      "Flux = FluxSum(IncompleteNonspinningTerms=True).subs(log(v), logv).subs(Pow(nu,3), nu__3).subs(Pow(nu,2), nu__2)\n",
      "Energy = EnergySum(IncompleteNonspinningTerms=True).subs(log(v), logv).subs(Pow(nu,3), nu__3).subs(Pow(nu,2), nu__2)\n",
      "\n",
      "# Differentiate Energy WRT v, treating log terms as constant\n",
      "dEnergydv = horner(diff(Energy, v))\n",
      "\n",
      "# Evaluate the energy absorption by the BHs, and make substitutions so that the Horner form is nice\n",
      "Absorption = AbsorptionCoefficient*AlviTerm\n",
      "Absorption = Absorption.subs(BasicSubstitutions[sqrt1Mchi1chi1], sqrt1Mchi1chi1)\n",
      "Absorption = Absorption.subs(BasicSubstitutions[sqrt1Mchi2chi2], sqrt1Mchi2chi2)\n",
      "Absorption = Absorption.subs(log(v), logv).subs(Pow(nu,3), nu__3)\n",
      "Absorption = Absorption.subs(Pow(nu,2), nu__2)"
     ],
     "language": "python",
     "metadata": {},
     "outputs": [],
     "prompt_number": 2
    },
    {
     "cell_type": "code",
     "collapsed": false,
     "input": [
      "%%time\n",
      "PNOrder = frac(7,2)\n",
      "dvdt = (FluxCoefficient/diff(EnergyCoefficient,v))*\\\n",
      "    series( series(- (Flux + Absorption)/FluxCoefficient, x=v, x0=0, n=2*PNOrder).removeO()\n",
      "            / series(dEnergydv/diff(EnergyCoefficient,v), x=v, x0=0, n=2*PNOrder).removeO(),\n",
      "            x=v, x0=0, n=2*PNOrder).removeO()\n",
      "dtdv = (diff(EnergyCoefficient,v)/FluxCoefficient)*\\\n",
      "    series( series(dEnergydv/diff(EnergyCoefficient,v), x=v, x0=0, n=2*PNOrder).removeO()\n",
      "            / series(- (Flux + Absorption)/FluxCoefficient, x=v, x0=0, n=2*PNOrder).removeO(),\n",
      "            x=v, x0=0, n=2*PNOrder).removeO()"
     ],
     "language": "python",
     "metadata": {},
     "outputs": []
    },
    {
     "cell_type": "code",
     "collapsed": false,
     "input": [
      "# times = [28.1, 6.05, 6, 6.13, 6.62, 14.2, 18.2, 92, 220]"
     ],
     "language": "python",
     "metadata": {},
     "outputs": []
    },
    {
     "cell_type": "code",
     "collapsed": false,
     "input": [
      "with open('C/TaylorApproximants.cpp', 'w') as f :\n",
      "    for TaylorT in [1,4,5] :\n",
      "        f.write(\"\"\"\n",
      "  int TaylorT{0}RHS(double t, const double* y, double* dydt) {{\n",
      "    // Stop integrating if v is greater than or equal to 1.0\n",
      "    if(y[0]>=1.0) {{ return GSL_EDOM; }}\n",
      "\n",
      "    // Temporary definitions\n",
      "    const double m1 = (1+delta)/2.0;\n",
      "    const double m2 = (1-delta)/2.0;\n",
      "    const double nu__2 = pownu2;\n",
      "    const double nu__3 = pownu3;\n",
      "\n",
      "    // Fundamental atomic quantities (other than the Quaternions)\n",
      "    const double v = y[0];\n",
      "    const double Phi = y[1];\n",
      "    const double chi1_x = y[2];\n",
      "    const double chi1_y = y[3];\n",
      "    const double chi1_z = y[4];\n",
      "    const double chi2_x = y[5];\n",
      "    const double chi2_y = y[6];\n",
      "    const double chi2_z = y[7];\n",
      "    const double Lhat_Nx = y[8];\n",
      "    const double Lhat_Ny = y[9];\n",
      "    const double Lhat_Nz = y[10];\n",
      "    const double gamma = y[11];\n",
      "    const GWFrames::Quaternion Rax =\n",
      "        GWFrames::sqrtOfRotor(-GWFrames::normalized(GWFrames::Quaternion(0., Lhat_Nx, Lhat_Ny, Lhat_Nz))*zHat);\n",
      "    const GWFrames::Quaternion R = Rax * GWFrames::exp(((gamma+Phi)/2.)*zHat);\n",
      "    const GWFrames::Quaternion nhatQ = R*xHat*R.conjugate();\n",
      "    const double nhat_x = nhatQ[1];\n",
      "    const double nhat_y = nhatQ[2];\n",
      "    const double nhat_z = nhatQ[3];\n",
      "\"\"\".format(TaylorT))\n",
      "        if (TaylorT==1) :\n",
      "            f.write(CCodeOutput(['dEnergydv', 'Flux', 'Absorption',\n",
      "                                 'const double dvdt = - (Flux + Absorption) / dEnergydv;',\n",
      "                                 'gamma_Lhat_N', 'a_ell_overvcubed',\n",
      "                                 'const double Omega_Lhat_N = gamma_Lhat_N*a_ell_overvcubed;', 'Omega1', 'Omega2']))\n",
      "        elif (TaylorT==4) :\n",
      "            f.write(CCodeOutput(['dvdt',\n",
      "                                 'gamma_Lhat_N', 'a_ell_overvcubed',\n",
      "                                 'const double Omega_Lhat_N = gamma_Lhat_N*a_ell_overvcubed;', 'Omega1', 'Omega2']))\n",
      "        elif (TaylorT==5) :\n",
      "            f.write(CCodeOutput(['dtdv', 'const double dvdt = 1.0/dtdv;',\n",
      "                                 'gamma_Lhat_N', 'a_ell_overvcubed',\n",
      "                                 'const double Omega_Lhat_N = gamma_Lhat_N*a_ell_overvcubed;', 'Omega1', 'Omega2']))\n",
      "        else :\n",
      "            raise ValueError(\"Not prepared for TaylorT{0}\".format(TaylorT))\n",
      "        f.write(\"\"\"\n",
      "\n",
      "    // Calculate derivatives of the fundamental variables\n",
      "    dydt[0] = dvdt;\n",
      "    if(dydt[0]<0.0) { return GSL_EDIVERGE; } // Stop integrating if v is decreasing\n",
      "    dydt[1] = v*v*v;\n",
      "    double Omega_spin1[3] = {Omega1*Lhat_Nx, Omega1*Lhat_Ny, Omega1*Lhat_Nz};\n",
      "    double Omega_spin2[3] = {Omega2*Lhat_Nx, Omega2*Lhat_Ny, Omega2*Lhat_Nz};\n",
      "    double Omega_prec[3]  = {Omega_Lhat_N*nhat_x, Omega_Lhat_N*nhat_y, Omega_Lhat_N*nhat_z};\n",
      "    cross(&Omega_spin1[0], &y[2], &dydt[2]);\n",
      "    cross(&Omega_spin2[0], &y[5], &dydt[5]);\n",
      "    cross(&Omega_prec[0],  &y[8], &dydt[8]);\n",
      "    const GWFrames::Quaternion adot(0., dydt[8], dydt[9], dydt[10]);\n",
      "    const GWFrames::Quaternion Raxdot = ( (-1.0/std::sqrt(2+2*y[10]))*adot*zHat - (dydt[10]/(2+2*y[10]))*Rax );\n",
      "    const GWFrames::Quaternion dgammadt = 2*(Rax.conjugate() * Raxdot * zHat);\n",
      "    dydt[11] = dgammadt[0];\n",
      "\n",
      "    // GSL expects this to be the returned quantity if everything went well\n",
      "    return GSL_SUCCESS;\n",
      "  }\n",
      "\"\"\")\n"
     ],
     "language": "python",
     "metadata": {},
     "outputs": []
    },
    {
     "cell_type": "heading",
     "level": 1,
     "metadata": {},
     "source": [
      "TaylorT2 and TaylorT3"
     ]
    },
    {
     "cell_type": "markdown",
     "metadata": {},
     "source": [
      "These two approximants are also closely related to each other.  I believe they are only possible for nonprecessing systems."
     ]
    },
    {
     "cell_type": "code",
     "collapsed": false,
     "input": [],
     "language": "python",
     "metadata": {},
     "outputs": []
    }
   ],
   "metadata": {}
  }
 ]
}