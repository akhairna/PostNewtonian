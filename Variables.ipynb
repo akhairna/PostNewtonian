{
 "metadata": {
  "name": ""
 },
 "nbformat": 3,
 "nbformat_minor": 0,
 "worksheets": [
  {
   "cells": [
    {
     "cell_type": "heading",
     "level": 1,
     "metadata": {},
     "source": [
      "Set up python"
     ]
    },
    {
     "cell_type": "code",
     "collapsed": false,
     "input": [
      "# Make sure division of integers does not round to the nearest integer\n",
      "from __future__ import division\n",
      "\n",
      "# Make everything in python's symbolic math package available\n",
      "from sympy import * # Make sure sympy functions are used in preference to numpy\n",
      "import sympy # Make sympy. constructions available\n",
      "from sympy import Rational as frac # Rename for similarity to latex\n",
      "from sympy import log as ln\n",
      "\n",
      "# Print symbolic expressions nicely\n",
      "init_printing()\n",
      "\n",
      "# We'll use the numpy `array` object for vectors\n",
      "from numpy import array, cross, dot"
     ],
     "language": "python",
     "metadata": {},
     "outputs": [],
     "prompt_number": 1
    },
    {
     "cell_type": "heading",
     "level": 1,
     "metadata": {},
     "source": [
      "Define the basic variables"
     ]
    },
    {
     "cell_type": "markdown",
     "metadata": {},
     "source": [
      "Only the most basic variables should be defined here."
     ]
    },
    {
     "cell_type": "code",
     "collapsed": false,
     "input": [
      "# Dimensionful quantities, just in case anybody uses them...\n",
      "G,c = symbols('G,c', real=True)\n",
      "\n",
      "# Unit orbital angular velocity vector (\"Newtonian\" angular momentum)\n",
      "Lhat_N, Lhat_Nx, Lhat_Ny, Lhat_Nz = symbols('Lhat_N, Lhat_Nx, Lhat_Ny, Lhat_Nz', real=True)\n",
      "\n",
      "# Unit separation vector between the compact objects\n",
      "nhat, nhat_x, nhat_y, nhat_z = symbols('nhat, nhat_x, nhat_y, nhat_z', real=True)\n",
      "\n",
      "# Masses\n",
      "m1, m2 = symbols('m1, m2', real=True)\n",
      "\n",
      "# Spin vectors\n",
      "chi1, chi1_l, chi1_n, chi1_la = symbols('chi1, chi1_l, chi1_n, chi1_lambda', real=True)\n",
      "chi2, chi2_l, chi2_n, chi2_la = symbols('chi2, chi2_l, chi2_n, chi2_lambda', real=True)\n",
      "\n",
      "# Tidal deformabilities\n",
      "lambda1, lambda2 = symbols('lambda1, lambda2', real=True)\n",
      "\n",
      "# v = x**(1/2) = Omega_orb**(1/3)\n",
      "v = symbols('v', real=True)"
     ],
     "language": "python",
     "metadata": {},
     "outputs": [],
     "prompt_number": 2
    },
    {
     "cell_type": "heading",
     "level": 1,
     "metadata": {},
     "source": [
      "Derived variables"
     ]
    },
    {
     "cell_type": "markdown",
     "metadata": {},
     "source": [
      "Any variable that can be derived from the variables above should be put in this section.\n",
      "\n",
      "These variables should probably be left in arbitrary form, unless a particular simplification is desired.  The `BasicSubstitutions` dictionary should map from the general names and their definitions in terms of basic variables.  In numerical codes, their values can be calculated once per time step and then stored, so that the values do not have to be re-calculated every time they appear in an expression."
     ]
    },
    {
     "cell_type": "code",
     "collapsed": false,
     "input": [
      "BasicSubstitutions = {} # For now, just initialize the dictionary"
     ],
     "language": "python",
     "metadata": {},
     "outputs": [],
     "prompt_number": 3
    },
    {
     "cell_type": "markdown",
     "metadata": {},
     "source": [
      "Of course, some variables will only need to be computed once for the entire system, and stored.  Just so that these quantities are not continually recalculated, we make a list of them for future reference."
     ]
    },
    {
     "cell_type": "code",
     "collapsed": false,
     "input": [
      "VariableConstants = []"
     ],
     "language": "python",
     "metadata": {},
     "outputs": [],
     "prompt_number": 4
    },
    {
     "cell_type": "markdown",
     "metadata": {},
     "source": [
      "Various common combinations of the two masses:"
     ]
    },
    {
     "cell_type": "code",
     "collapsed": false,
     "input": [
      "m = symbols('m', real=True);\n",
      "BasicSubstitutions[m] = m1+m2\n",
      "VariableConstants += [m]\n",
      "\n",
      "delta = symbols('delta', real=True);\n",
      "BasicSubstitutions[delta] = m1-m2\n",
      "VariableConstants += [delta]\n",
      "\n",
      "nu = symbols('nu', real=True);\n",
      "BasicSubstitutions[nu] = m1*m2\n",
      "VariableConstants += [nu]\n",
      "\n",
      "q = symbols('q', real=True);\n",
      "BasicSubstitutions[q] = m1/m2\n",
      "VariableConstants += [q]"
     ],
     "language": "python",
     "metadata": {},
     "outputs": [],
     "prompt_number": 5
    },
    {
     "cell_type": "markdown",
     "metadata": {},
     "source": [
      "The system's vector basis is given by $(\\hat{L}_{\\text{N}}, \\hat{n}, \\hat{\\lambda})$.  Here, we define the remaining element, and give the relevant substitutions in terms of Cartesian basis elements."
     ]
    },
    {
     "cell_type": "code",
     "collapsed": false,
     "input": [
      "lambdahat, lambdahat_x, lambdahat_y, lambdahat_z = symbols('lambdahat, lambdahat_x, lambdahat_y, lambdahat_z', real=True)\n",
      "\n",
      "BasicSubstitutions[Lhat_N] = array([Lhat_Nx, Lhat_Ny, Lhat_Nz])\n",
      "BasicSubstitutions[nhat] = array([nhat_x, nhat_y, nhat_z])\n",
      "BasicSubstitutions[lambdahat] = cross(BasicSubstitutions[Lhat_N], BasicSubstitutions[nhat])\n",
      "\n",
      "BasicSubstitutions[lambdahat_x] = BasicSubstitutions[lambdahat][0]\n",
      "BasicSubstitutions[lambdahat_y] = BasicSubstitutions[lambdahat][1]\n",
      "BasicSubstitutions[lambdahat_z] = BasicSubstitutions[lambdahat][2]"
     ],
     "language": "python",
     "metadata": {},
     "outputs": [],
     "prompt_number": 6
    },
    {
     "cell_type": "markdown",
     "metadata": {},
     "source": [
      "Various spin components and combinations:"
     ]
    },
    {
     "cell_type": "code",
     "collapsed": false,
     "input": [
      "BasicSubstitutions[chi1] = array([chi1_l, chi1_n, chi1_la])\n",
      "BasicSubstitutions[chi2] = array([chi2_l, chi2_n, chi2_la])\n",
      "\n",
      "chi1chi1, chi1chi2, chi2chi2 = symbols('chi1chi1, chi1chi2, chi2chi2', real=True)\n",
      "BasicSubstitutions[chi1chi1] = dot(BasicSubstitutions[chi1], BasicSubstitutions[chi1])\n",
      "BasicSubstitutions[chi1chi2] = dot(BasicSubstitutions[chi1], BasicSubstitutions[chi2])\n",
      "BasicSubstitutions[chi2chi2] = dot(BasicSubstitutions[chi2], BasicSubstitutions[chi2])\n",
      "\n",
      "S, S_l, S_n, S_la = symbols('S, S_l, S_n, S_lambda', real=True)\n",
      "BasicSubstitutions[S] = chi1*m1**2 + chi2*m2**2\n",
      "BasicSubstitutions[S_l] = chi1_l*m1**2 + chi2_l*m2**2\n",
      "BasicSubstitutions[S_n] = chi1_n*m1**2 + chi2_l*m2**2\n",
      "BasicSubstitutions[S_la] = chi1_la*m1**2 + chi2_la*m2**2\n",
      "\n",
      "Sigma, Sigma_l, Sigma_n, Sigma_la = symbols('Sigma, Sigma_l, Sigma_n, Sigma_lambda', real=True)\n",
      "BasicSubstitutions[Sigma] = chi2*m2 - chi1*m1\n",
      "BasicSubstitutions[Sigma_l] = chi2_l*m2 - chi1_l*m1\n",
      "BasicSubstitutions[Sigma_n] = chi2_n*m2 - chi1_n*m1\n",
      "BasicSubstitutions[Sigma_la] = chi2_la*m2 - chi1_la*m1"
     ],
     "language": "python",
     "metadata": {},
     "outputs": [],
     "prompt_number": 7
    },
    {
     "cell_type": "markdown",
     "metadata": {},
     "source": [
      "Other powers of the angular velocity that find frequent use:"
     ]
    },
    {
     "cell_type": "code",
     "collapsed": false,
     "input": [
      "x, Omega_orb = symbols('x, Omega_orb', real=True)\n",
      "BasicSubstitutions[x] = v**2\n",
      "BasicSubstitutions[Omega_orb] = v**3"
     ],
     "language": "python",
     "metadata": {},
     "outputs": [],
     "prompt_number": 8
    }
   ],
   "metadata": {}
  }
 ]
}