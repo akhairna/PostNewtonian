{
 "metadata": {
  "name": ""
 },
 "nbformat": 3,
 "nbformat_minor": 0,
 "worksheets": [
  {
   "cells": [
    {
     "cell_type": "heading",
     "level": 1,
     "metadata": {},
     "source": [
      "Introduction"
     ]
    },
    {
     "cell_type": "markdown",
     "metadata": {},
     "source": [
      "This is the central location where all variables should be defined, and any relationships between them should be given.  Having all definitions collected in one file is useful because other files can reference this one, so there is no need for duplication, and less room for mistakes.  In particular, the relationships between variables are defined only here, so we don't need to reimplement those relationships.  And if you do ever find a mistake, you only have to fix it in one place, then just re-run the other notebooks.\n",
      "\n",
      "There are two main classes of variables:\n",
      "\n",
      "  1. Fundamental variables\n",
      "  2. Derived variables\n",
      "\n",
      "The fundamental variables that go into PN equations are things like the mass, spins $\\chi_1$, and $\\chi_2$, orbital angular velocity $\\hat{L}_{\\text{N}}$, and unit separation vector $\\hat{n}$.  We also include the tidal-coupling parameters in this list.  Also, note that only $m_1$ is included.  This is because the total mass is always assumed to be 1, so $m_2 = 1-m_1$.\n",
      "\n",
      "The derived variables are further distinguished by whether they will need to be recalculated at each time step or not.  For example, though we define the spins fundamentally as $\\chi_1$ and $\\chi_2$, we can also define derived spins $S$ and $\\Sigma$, which need to be recalculated if the system is precessing.  On the other hand, the masses are constant and fundamentally defined by $m_1$, so $m_2$ and $\\nu$ only need to be calculated from that information once."
     ]
    },
    {
     "cell_type": "heading",
     "level": 1,
     "metadata": {},
     "source": [
      "Set up python"
     ]
    },
    {
     "cell_type": "code",
     "collapsed": false,
     "input": [
      "# Make sure division of integers does not round to the nearest integer\n",
      "from __future__ import division\n",
      "\n",
      "# Make everything in python's symbolic math package available\n",
      "from sympy import * # Make sure sympy functions are used in preference to numpy\n",
      "import sympy # Make sympy. constructions available\n",
      "from sympy import Rational as frac # Rename for similarity to latex\n",
      "from sympy import log as ln\n",
      "\n",
      "# Print symbolic expressions nicely\n",
      "init_printing()\n",
      "\n",
      "# We'll use the numpy `array` object for vectors\n",
      "from numpy import array, cross, dot\n",
      "\n",
      "# We'll use a custom object to keep track of variables\n",
      "from PNObjects import PNVariablesCollection\n",
      "PNVariables = PNVariablesCollection()"
     ],
     "language": "python",
     "metadata": {},
     "outputs": [],
     "prompt_number": 1
    },
    {
     "cell_type": "heading",
     "level": 1,
     "metadata": {},
     "source": [
      "Fundamental variables"
     ]
    },
    {
     "cell_type": "markdown",
     "metadata": {},
     "source": [
      "Only the most basic variables should be defined here."
     ]
    },
    {
     "cell_type": "code",
     "collapsed": false,
     "input": [
      "# Dimensionful quantities, just in case anybody uses them...\n",
      "PNVariables.AddBasicConstants('G, c');\n",
      "\n",
      "# Mass of object 1.  Note that the total mass is assumed to be 1, so m2 is derived\n",
      "PNVariables.AddBasicConstants('m1');\n",
      "\n",
      "# Spin vectors\n",
      "PNVariables.AddBasicVariables('chi1_x, chi1_y, chi1_z');\n",
      "PNVariables.AddBasicVariables('chi2_x, chi2_y, chi2_z');\n",
      "\n",
      "# Tidal deformabilities, in units where the total mass is 1\n",
      "PNVariables.AddBasicConstants('lambda1, lambda2');\n",
      "\n",
      "# Orbital angular velocity vector and magnitude (\"Newtonian\" angular momentum)\n",
      "PNVariables.AddBasicVariables('Lhat_Nx, Lhat_Ny, Lhat_Nz');\n",
      "PNVariables.AddBasicVariables('v');\n",
      "\n",
      "# Unit separation vector between the compact objects\n",
      "PNVariables.AddBasicVariables('nhat_x, nhat_y, nhat_z');"
     ],
     "language": "python",
     "metadata": {},
     "outputs": [],
     "prompt_number": 2
    },
    {
     "cell_type": "heading",
     "level": 1,
     "metadata": {},
     "source": [
      "Derived variables"
     ]
    },
    {
     "cell_type": "markdown",
     "metadata": {},
     "source": [
      "Any variable that can be derived from the variables above should be put in this section.\n",
      "\n",
      "These variables should probably be left in arbitrary form, unless a particular simplification is desired.  The `substitutions` dictionary should map from the general names and their definitions in terms of basic variables.  In numerical codes, their values can be calculated once per time step and then stored, so that the values do not have to be re-calculated every time they appear in an expression."
     ]
    },
    {
     "cell_type": "markdown",
     "metadata": {},
     "source": [
      "Various common combinations of the two masses:"
     ]
    },
    {
     "cell_type": "code",
     "collapsed": false,
     "input": [
      "PNVariables.AddDerivedConstant('m2', 1-m1);\n",
      "PNVariables.AddDerivedConstant('m', m1+m2);\n",
      "PNVariables.AddDerivedConstant('delta', m1-m2);\n",
      "PNVariables.AddDerivedConstant('nu', m1*m2);\n",
      "PNVariables.AddDerivedConstant('nu__2', (m1*m2)**2);\n",
      "PNVariables.AddDerivedConstant('nu__3', (m1*m2)**3);\n",
      "PNVariables.AddDerivedConstant('q', m1/m2);"
     ],
     "language": "python",
     "metadata": {},
     "outputs": [],
     "prompt_number": 3
    },
    {
     "cell_type": "markdown",
     "metadata": {},
     "source": [
      "The system's vector basis is given by $(\\hat{L}_{\\text{N}}, \\hat{n}, \\hat{\\lambda})$.  Here, we define the remaining element, and give the relevant substitutions in terms of Cartesian basis elements."
     ]
    },
    {
     "cell_type": "code",
     "collapsed": false,
     "input": [
      "PNVariables.AddDerivedVariable('Lhat_N', array([Lhat_Nx, Lhat_Ny, Lhat_Nz]));\n",
      "PNVariables.AddDerivedVariable('nhat', array([nhat_x, nhat_y, nhat_z]));\n",
      "PNVariables.AddDerivedVariable('lambdahat', cross(Lhat_N.substitution, nhat.substitution));\n",
      "PNVariables.AddDerivedVariable('lambdahat_x', lambdahat.substitution[0]);\n",
      "PNVariables.AddDerivedVariable('lambdahat_y', lambdahat.substitution[1]);\n",
      "PNVariables.AddDerivedVariable('lambdahat_z', lambdahat.substitution[2]);"
     ],
     "language": "python",
     "metadata": {},
     "outputs": [],
     "prompt_number": 4
    },
    {
     "cell_type": "markdown",
     "metadata": {},
     "source": [
      "Various spin components and combinations:"
     ]
    },
    {
     "cell_type": "code",
     "collapsed": false,
     "input": [
      "PNVariables.AddDerivedVariable('chi1', array([chi1_x, chi1_y, chi1_z]));\n",
      "PNVariables.AddDerivedVariable('chi2', array([chi2_x, chi2_y, chi2_z]));\n",
      "\n",
      "PNVariables.AddDerivedVariable('chi1chi1', dot(chi1.substitution, chi1.substitution));\n",
      "PNVariables.AddDerivedVariable('chi1chi2', dot(chi1.substitution, chi2.substitution));\n",
      "PNVariables.AddDerivedVariable('chi2chi2', dot(chi2.substitution, chi2.substitution));\n",
      "\n",
      "PNVariables.AddDerivedVariable('chi1_l', dot(chi1.substitution, Lhat_N.substitution));\n",
      "PNVariables.AddDerivedVariable('chi1_n', dot(chi1.substitution, nhat.substitution));\n",
      "PNVariables.AddDerivedVariable('chi1_la', dot(chi1.substitution, lambdahat.substitution));\n",
      "PNVariables.AddDerivedVariable('chi2_l', dot(chi2.substitution, Lhat_N.substitution));\n",
      "PNVariables.AddDerivedVariable('chi2_n', dot(chi2.substitution, nhat.substitution));\n",
      "PNVariables.AddDerivedVariable('chi2_la', dot(chi2.substitution, lambdahat.substitution));\n",
      "\n",
      "PNVariables.AddDerivedConstant('sqrt1Mchi1chi1', sqrt(1-chi1chi1));\n",
      "PNVariables.AddDerivedConstant('sqrt1Mchi2chi2', sqrt(1-chi2chi2));\n",
      "\n",
      "PNVariables.AddDerivedVariable('S', chi1*m1**2 + chi2*m2**2);\n",
      "PNVariables.AddDerivedVariable('S_l', chi1_l*m1**2 + chi2_l*m2**2);\n",
      "PNVariables.AddDerivedVariable('S_n', chi1_n*m1**2 + chi2_l*m2**2);\n",
      "PNVariables.AddDerivedVariable('S_la', chi1_la*m1**2 + chi2_la*m2**2);\n",
      "\n",
      "PNVariables.AddDerivedVariable('Sigma', chi2*m2 - chi1*m1);\n",
      "PNVariables.AddDerivedVariable('Sigma_l', chi2_l*m2 - chi1_l*m1);\n",
      "PNVariables.AddDerivedVariable('Sigma_n', chi2_n*m2 - chi1_n*m1);\n",
      "PNVariables.AddDerivedVariable('Sigma_la', chi2_la*m2 - chi1_la*m1);"
     ],
     "language": "python",
     "metadata": {},
     "outputs": [],
     "prompt_number": 5
    },
    {
     "cell_type": "markdown",
     "metadata": {},
     "source": [
      "Other powers of the angular velocity that find frequent use:"
     ]
    },
    {
     "cell_type": "code",
     "collapsed": false,
     "input": [
      "PNVariables.AddDerivedVariable('x', v**2);\n",
      "PNVariables.AddDerivedVariable('Omega_orb', v**3);\n",
      "PNVariables.AddDerivedVariable('logv', log(v));"
     ],
     "language": "python",
     "metadata": {},
     "outputs": [],
     "prompt_number": 6
    }
   ],
   "metadata": {}
  }
 ]
}