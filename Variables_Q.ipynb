{
 "metadata": {
  "name": ""
 },
 "nbformat": 3,
 "nbformat_minor": 0,
 "worksheets": [
  {
   "cells": [
    {
     "cell_type": "heading",
     "level": 1,
     "metadata": {},
     "source": [
      "Introduction"
     ]
    },
    {
     "cell_type": "markdown",
     "metadata": {},
     "source": [
      "This is the central location where all variables should be defined, and any relationships between them should be given.  Having all definitions collected in one file is useful because other files can reference this one, so there is no need for duplication, and less room for mistakes.  In particular, the relationships between variables are defined only here, so we don't need to reimplement those relationships.  And if you do ever find a mistake, you only have to fix it in one place, then just re-run the other notebooks.\n",
      "\n",
      "There are two main classes of variables:\n",
      "\n",
      "  1. Fundamental variables\n",
      "  2. Derived variables\n",
      "\n",
      "The distinction is only required for code output, to ensure that everything gets calculated correctly.  The PN equations you write down and manipulate can be in terms of any of these variables.\n",
      "\n",
      "The fundamental variables that go into PN equations are things like the mass, spins $\\chi_1$, and $\\chi_2$, orbital angular velocity $\\hat{\\ell}$, and unit separation vector $\\hat{n}$.  We also include the tidal-coupling parameters in this list.  Also, note that only $m_1$ is included.  This is because the total mass is always assumed to be 1, so $m_2 = 1-m_1$.\n",
      "\n",
      "The derived variables are further distinguished by whether they will need to be recalculated at each time step or not.  For example, though we define the spins fundamentally as $\\chi_1$ and $\\chi_2$, we can also define derived spins $S$ and $\\Sigma$, which need to be recalculated if the system is precessing.  On the other hand, the masses are constant and fundamentally defined by $m_1$, so $m_2$ and $\\nu$ only need to be calculated from that information once."
     ]
    },
    {
     "cell_type": "heading",
     "level": 1,
     "metadata": {},
     "source": [
      "Set up python"
     ]
    },
    {
     "cell_type": "code",
     "collapsed": false,
     "input": [
      "# Make sure division of integers does not round to the nearest integer\n",
      "from __future__ import division\n",
      "\n",
      "# Make everything in python's symbolic math package available\n",
      "from sympy import * # Make sure sympy functions are used in preference to numpy\n",
      "import sympy # Make sympy. constructions available\n",
      "from sympy import Rational as frac # Rename for similarity to latex\n",
      "from sympy import log as ln\n",
      "\n",
      "# Print symbolic expressions nicely\n",
      "init_printing()\n",
      "\n",
      "# We'll use the numpy `array` object for vectors\n",
      "from numpy import array, cross, dot\n",
      "\n",
      "# We'll use a custom object to keep track of variables\n",
      "from Utilities.PNObjects import PNCollection\n",
      "PNVariables = PNCollection()"
     ],
     "language": "python",
     "metadata": {},
     "outputs": [],
     "prompt_number": 1
    },
    {
     "cell_type": "heading",
     "level": 1,
     "metadata": {},
     "source": [
      "Fundamental variables"
     ]
    },
    {
     "cell_type": "markdown",
     "metadata": {},
     "source": [
      "Only the most basic variables should be defined here.\n",
      "\n",
      "Note that we will be using (quaternion) logarithmic rotors to describe the orientations of the spins, and the orientation and velocity of the binary itself.  This allows us to reduce the number of constraints in the system, and only evolve the minimal number of equations.  For example, the spins are constant, so only two degrees of freedom are needed.  These can be expressed without ambiguities or singularities in the form of logarithmic rotors: $\\mathfrak{r}_1 = \\mathfrak{r}_{\\chi_1 x} \\hat{x} + \\mathfrak{r}_{\\chi_1 y} \\hat{y}$, so that $\\vec{\\chi}_1 = \\lvert \\chi_1 \\rvert\\, e^{\\mathfrak{r}_1}\\, \\hat{z}\\, e^{-\\mathfrak{r}_1}$.  This may look complicated, but it performs very well numerically.\n",
      "\n",
      "We will still be able to write and manipulate the PN equations directly in terms of familiar quantities like $\\vec{S}_1 \\cdot \\hat{\\ell}$, etc., but the fundamental objects will be the rotors, which means that the substitutions made for code output will automatically be in terms of the rotors."
     ]
    },
    {
     "cell_type": "code",
     "collapsed": false,
     "input": [
      "# Unit basis vectors\n",
      "PNVariables.AddBasicConstants('xHat, yHat, zHat', datatype='Quaternion', commutative=False)\n",
      "\n",
      "# Dimensionful quantities, just in case anybody uses them...\n",
      "PNVariables.AddBasicConstants('G, c')\n",
      "\n",
      "# Mass of object 1.  Note that the total mass is assumed to be 1, so m2 is derived\n",
      "PNVariables.AddBasicConstants('m1')\n",
      "\n",
      "# Angular speed of separation vector\n",
      "PNVariables.AddBasicVariables('v')\n",
      "\n",
      "# Spin magnitudes (assumed to be constant)\n",
      "PNVariables.AddBasicConstants('chi1Mag')\n",
      "PNVariables.AddBasicConstants('chi2Mag')\n",
      "\n",
      "# Spin directions\n",
      "PNVariables.AddBasicVariables('rfrak_chi1_x, rfrak_chi1_y')\n",
      "PNVariables.AddBasicVariables('rfrak_chi2_x, rfrak_chi2_y')\n",
      "\n",
      "# Tidal deformabilities, in units where the total mass is 1\n",
      "PNVariables.AddBasicConstants('lambda1, lambda2')\n",
      "\n",
      "# Frame aligned to  Orbital angular velocity vector and magnitude (\"Newtonian\" angular momentum)\n",
      "PNVariables.AddBasicVariables('rfrak_ell_x, rfrak_ell_y, rfrak_ell_z')"
     ],
     "language": "python",
     "metadata": {},
     "outputs": [],
     "prompt_number": 2
    },
    {
     "cell_type": "heading",
     "level": 1,
     "metadata": {},
     "source": [
      "Derived variables"
     ]
    },
    {
     "cell_type": "markdown",
     "metadata": {},
     "source": [
      "Any variable that can be derived from the variables above should be put in this section.\n",
      "\n",
      "These variables should probably be left in arbitrary form, unless a particular simplification is desired.  The `substitutions` dictionary should map from the general names and their definitions in terms of basic variables.  In numerical codes, their values can be calculated once per time step and then stored, so that the values do not have to be re-calculated every time they appear in an expression."
     ]
    },
    {
     "cell_type": "markdown",
     "metadata": {},
     "source": [
      "Various common combinations of the two masses:"
     ]
    },
    {
     "cell_type": "code",
     "collapsed": false,
     "input": [
      "PNVariables.AddDerivedConstant('m2', 1-m1)\n",
      "PNVariables.AddDerivedConstant('m', m1+m2)\n",
      "PNVariables.AddDerivedConstant('delta', m1-m2)\n",
      "PNVariables.AddDerivedConstant('nu', m1*m2)\n",
      "PNVariables.AddDerivedConstant('nu__2', (m1*m2)**2)\n",
      "PNVariables.AddDerivedConstant('nu__3', (m1*m2)**3)\n",
      "PNVariables.AddDerivedConstant('q', m1/m2)"
     ],
     "language": "python",
     "metadata": {},
     "outputs": [],
     "prompt_number": 3
    },
    {
     "cell_type": "markdown",
     "metadata": {},
     "source": [
      "The system's vector basis is given by $(\\hat{\\ell}, \\hat{n}, \\hat{\\lambda})$, and will be computed by the code in terms of the fundamental logarithmic rotors defined above.  Here, we give all the substitutions that will be needed in the code."
     ]
    },
    {
     "cell_type": "code",
     "collapsed": false,
     "input": [
      "# This rotor encodes all information about the frame\n",
      "PNVariables.AddDerivedVariable('R', exp(rfrak_ell_x*xHat + rfrak_ell_y*yHat + rfrak_ell_z*zHat),\n",
      "                               datatype='Quaternion', commutative=False)\n",
      "\n",
      "# Unit separation vector between the compact objects\n",
      "PNVariables.AddDerivedVariable('nHat', R*xHat*conjugate(R), datatype='Quaternion')\n",
      "\n",
      "# Unit vector orthogonal to the other two; in the direction of velocity\n",
      "PNVariables.AddDerivedVariable('lambdaHat', R*yHat*conjugate(R), datatype='Quaternion')\n",
      "\n",
      "# Unit vector in direction of angular velocity\n",
      "PNVariables.AddDerivedVariable('ellHat', R*zHat*conjugate(R), datatype='Quaternion')\n",
      "\n",
      "# Components of the above\n",
      "for i,d in zip(['1','2','3'],['x','y','z']):\n",
      "    PNVariables.AddDerivedVariable('nHat_'+d, substitution_atoms=[nHat], substitution='nHat['+i+']')\n",
      "for i,d in zip(['1','2','3'],['x','y','z']):\n",
      "    PNVariables.AddDerivedVariable('lambdaHat_'+d, substitution_atoms=[lambdaHat], substitution='lambdaHat['+i+']')\n",
      "for i,d in zip(['1','2','3'],['x','y','z']):\n",
      "    PNVariables.AddDerivedVariable('ellHat_'+d, substitution_atoms=[ellHat], substitution='ellHat['+i+']')"
     ],
     "language": "python",
     "metadata": {},
     "outputs": [],
     "prompt_number": 4
    },
    {
     "cell_type": "markdown",
     "metadata": {},
     "source": [
      "Various spin components and combinations:"
     ]
    },
    {
     "cell_type": "code",
     "collapsed": false,
     "input": [
      "# These rotors encode all information about the spin directions\n",
      "PNVariables.AddDerivedVariable('R_S1', exp(rfrak_chi1_x*xHat + rfrak_chi1_y*yHat),\n",
      "                               datatype='Quaternion', commutative=False)\n",
      "PNVariables.AddDerivedVariable('R_S2', exp(rfrak_chi2_x*xHat + rfrak_chi2_y*yHat),\n",
      "                               datatype='Quaternion', commutative=False)\n",
      "\n",
      "# The spins are derived from rfrak_chi1_x, etc.\n",
      "PNVariables.AddDerivedVariable('chiVec1', chi1Mag*R_S1*zHat*conjugate(R_S1), datatype='Quaternion')\n",
      "PNVariables.AddDerivedVariable('chiVec2', chi2Mag*R_S2*zHat*conjugate(R_S2), datatype='Quaternion')\n",
      "for i,d in zip(['1','2','3'],['x','y','z']):\n",
      "    PNVariables.AddDerivedVariable('chi1_'+d, substitution_atoms=[chiVec1], substitution='chiVec1['+i+']')\n",
      "for i,d in zip(['1','2','3'],['x','y','z']):\n",
      "    PNVariables.AddDerivedVariable('chi2_'+d, substitution_atoms=[chiVec2], substitution='chiVec2['+i+']')\n",
      "\n",
      "PNVariables.AddDerivedConstant('chi1chi1', dot([chi1_x, chi1_y, chi1_z],[chi1_x, chi1_y, chi1_z]))\n",
      "PNVariables.AddDerivedVariable('chi1chi2', dot([chi1_x, chi1_y, chi1_z],[chi2_x, chi2_y, chi2_z]))\n",
      "PNVariables.AddDerivedConstant('chi2chi2', dot([chi2_x, chi2_y, chi2_z],[chi2_x, chi2_y, chi2_z]))\n",
      "\n",
      "PNVariables.AddDerivedVariable('chi1_l',  dot([chi1_x, chi1_y, chi1_z],[ellHat_x, ellHat_y, ellHat_z]))\n",
      "PNVariables.AddDerivedVariable('chi1_n',  dot([chi1_x, chi1_y, chi1_z],[nHat_x, nHat_y, nHat_z]))\n",
      "PNVariables.AddDerivedVariable('chi1_la', dot([chi1_x, chi1_y, chi1_z],[lambdaHat_x, lambdaHat_y, lambdaHat_z]))\n",
      "PNVariables.AddDerivedVariable('chi2_l',  dot([chi2_x, chi2_y, chi2_z],[ellHat_x, ellHat_y, ellHat_z]))\n",
      "PNVariables.AddDerivedVariable('chi2_n',  dot([chi2_x, chi2_y, chi2_z],[nHat_x, nHat_y, nHat_z]))\n",
      "PNVariables.AddDerivedVariable('chi2_la', dot([chi2_x, chi2_y, chi2_z],[lambdaHat_x, lambdaHat_y, lambdaHat_z]))\n",
      "\n",
      "PNVariables.AddDerivedConstant('sqrt1Mchi1chi1', sqrt(1-chi1chi1))\n",
      "PNVariables.AddDerivedConstant('sqrt1Mchi2chi2', sqrt(1-chi2chi2))\n",
      "\n",
      "PNVariables.AddDerivedVariable('S', array([chi1_x, chi1_y, chi1_z])*m1**2 + array([chi2_x, chi2_y, chi2_z])*m2**2,\n",
      "                               datatype=chiVec1.datatype)\n",
      "PNVariables.AddDerivedVariable('S_l', chi1_l*m1**2 + chi2_l*m2**2)\n",
      "PNVariables.AddDerivedVariable('S_n', chi1_n*m1**2 + chi2_n*m2**2)\n",
      "PNVariables.AddDerivedVariable('S_la', chi1_la*m1**2 + chi2_la*m2**2)\n",
      "\n",
      "PNVariables.AddDerivedVariable('Sigma', array([chi2_x, chi2_y, chi2_z])*m2 - array([chi1_x, chi1_y, chi1_z])*m1,\n",
      "                               datatype=chiVec1.datatype)\n",
      "PNVariables.AddDerivedVariable('Sigma_l', chi2_l*m2 - chi1_l*m1)\n",
      "PNVariables.AddDerivedVariable('Sigma_n', chi2_n*m2 - chi1_n*m1)\n",
      "PNVariables.AddDerivedVariable('Sigma_la', chi2_la*m2 - chi1_la*m1)\n",
      "\n",
      "PNVariables.AddDerivedVariable('chi_s', (array([chi1_x, chi1_y, chi1_z]) + array([chi2_x, chi2_y, chi2_z]))/2,\n",
      "                               datatype=chiVec1.datatype)\n",
      "PNVariables.AddDerivedVariable('chi_s_l', (chi1_l+chi2_l)/2)\n",
      "PNVariables.AddDerivedVariable('chi_s_n', (chi1_n+chi2_n)/2)\n",
      "PNVariables.AddDerivedVariable('chi_s_la', (chi1_la+chi2_la)/2)\n",
      "\n",
      "PNVariables.AddDerivedVariable('chi_a', (array([chi1_x, chi1_y, chi1_z]) - array([chi2_x, chi2_y, chi2_z]))/2,\n",
      "                               datatype=chiVec1.datatype)\n",
      "PNVariables.AddDerivedVariable('chi_a_l', (chi1_l-chi2_l)/2)\n",
      "PNVariables.AddDerivedVariable('chi_a_n', (chi1_n-chi2_n)/2)\n",
      "PNVariables.AddDerivedVariable('chi_a_la', (chi1_la-chi2_la)/2)"
     ],
     "language": "python",
     "metadata": {},
     "outputs": [],
     "prompt_number": 5
    },
    {
     "cell_type": "markdown",
     "metadata": {},
     "source": [
      "Other functions of the angular velocity that find frequent use:"
     ]
    },
    {
     "cell_type": "code",
     "collapsed": false,
     "input": [
      "PNVariables.AddDerivedVariable('x', v**2)\n",
      "PNVariables.AddDerivedVariable('Omega_orb', v**3)\n",
      "PNVariables.AddDerivedVariable('logv', log(v))"
     ],
     "language": "python",
     "metadata": {},
     "outputs": [],
     "prompt_number": 6
    }
   ],
   "metadata": {}
  }
 ]
}