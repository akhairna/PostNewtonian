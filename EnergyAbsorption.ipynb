{
 "metadata": {
  "name": ""
 },
 "nbformat": 3,
 "nbformat_minor": 0,
 "worksheets": [
  {
   "cells": [
    {
     "cell_type": "code",
     "collapsed": false,
     "input": [
      "# Always run this first\n",
      "# NOTE: Do not define new variables in this notebook or in Variables.py; \n",
      "#       define them in Variables.ipynb.  Variables.py will be automatically\n",
      "#       recreated when Variables.ipynb is saved.\n",
      "\n",
      "from __future__ import division # This needs to be here, even though it's in Variables.py\n",
      "execfile('ExecNotebook.ipy')\n",
      "execnotebook('Variables.ipynb')\n",
      "execnotebook('CodeOutput.ipynb')"
     ],
     "language": "python",
     "metadata": {},
     "outputs": [],
     "prompt_number": 1
    },
    {
     "cell_type": "markdown",
     "metadata": {},
     "source": [
      "This collection of absorption terms is possibly incomplete; only [Alvi (2001)](http://link.aps.org/doi/10.1103/PhysRevD.64.104020) is used.\n",
      "\n",
      "See also (the last three referenced by Marsat et al.)\n",
      "\n",
      "  - [Tagoshi, Sasaki (1994)](http://arxiv.org/abs/gr-qc/9405062)\n",
      "  - E. Poisson and M. Sasaki, Phys. Rev. D 51, 5753 (1995)\n",
      "  - H. Tagoshi, S. Mano, and E. Takasugi, Prog. Theor. Phys. 98, 829 (1997), arXiv:gr-qc/9711072\n",
      "  - K. Chatziioannou, E. Poisson, and N. Yunes, (2012), arXiv:1211.1686"
     ]
    },
    {
     "cell_type": "code",
     "collapsed": false,
     "input": [
      "AbsorptionCoefficient = frac(32,5)*nu**2*v**10"
     ],
     "language": "python",
     "metadata": {},
     "outputs": [],
     "prompt_number": 2
    },
    {
     "cell_type": "code",
     "collapsed": false,
     "input": [
      "AlviTerm =  (v**5/4)*(m1**3)*(1+3*chi1chi1)*(-chi1_l + 2*(1+sqrt(1-chi1chi1))*m1*v**3) \\\n",
      "           +(v**5/4)*(m2**3)*(1+3*chi2chi2)*(-chi2_l + 2*(1+sqrt(1-chi2chi2))*m2*v**3)"
     ],
     "language": "python",
     "metadata": {},
     "outputs": [],
     "prompt_number": 3
    },
    {
     "cell_type": "code",
     "collapsed": false,
     "input": [
      "# Absorption = AbsorptionCoefficient*AlviTerm"
     ],
     "language": "python",
     "metadata": {},
     "outputs": [],
     "prompt_number": 4
    }
   ],
   "metadata": {}
  }
 ]
}