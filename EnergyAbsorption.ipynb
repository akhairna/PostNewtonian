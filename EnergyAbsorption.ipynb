{
 "metadata": {
  "name": ""
 },
 "nbformat": 3,
 "nbformat_minor": 0,
 "worksheets": [
  {
   "cells": [
    {
     "cell_type": "code",
     "collapsed": false,
     "input": [
      "# Always run this first\n",
      "# NOTE: Do not define new variables in this notebook or in Variables.py; \n",
      "#       define them in Variables.ipynb.  Variables.py will be automatically\n",
      "#       recreated when Variables.ipynb is saved.\n",
      "\n",
      "%run -i Variables.py\n",
      "from __future__ import division # This needs to be here, even though it's in Variables.py"
     ],
     "language": "python",
     "metadata": {},
     "outputs": []
    },
    {
     "cell_type": "markdown",
     "metadata": {},
     "source": [
      "See [Tagoshi, Sasaki (1994)](http://arxiv.org/abs/gr-qc/9405062) and [Alvi (2001)](http://link.aps.org/doi/10.1103/PhysRevD.64.104020)."
     ]
    },
    {
     "cell_type": "markdown",
     "metadata": {},
     "source": [
      "Marsat et al. also reference\n",
      "\n",
      "  - E. Poisson and M. Sasaki, Phys. Rev. D 51, 5753 (1995)\n",
      "  - K. Alvi, Phys. Rev. D 64, 104020 (2001), arXiv:0107080\n",
      "  - H. Tagoshi, S. Mano, and E. Takasugi, Prog. Theor. Phys. 98, 829 (1997), arXiv:gr-qc/9711072\n",
      "  - K. Chatziioannou, E. Poisson, and N. Yunes, (2012), arXiv:1211.1686"
     ]
    },
    {
     "cell_type": "code",
     "collapsed": false,
     "input": [],
     "language": "python",
     "metadata": {},
     "outputs": []
    }
   ],
   "metadata": {}
  }
 ]
}