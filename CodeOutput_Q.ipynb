{
 "metadata": {
  "name": ""
 },
 "nbformat": 3,
 "nbformat_minor": 0,
 "worksheets": [
  {
   "cells": [
    {
     "cell_type": "markdown",
     "metadata": {},
     "source": [
      "Finally, we write the code file itself.  Most of the text below will appear literally in the file.  Statements in single curly braces will be substituted by the `format` statement at the end of the string; double curly braces will just appear as literal braces in the output."
     ]
    },
    {
     "cell_type": "markdown",
     "metadata": {},
     "source": [
      "In the following, the ODE system directly integrates the quaternion rotors describing the spin directions and orbital angular velocity vector.  This allows us to reduce the number of variables in the system and automatically satisfy certain constraints, which should lead to better numerical behavior.\n",
      "\n",
      "Note that in this formulation, `Phi` is a completely unnecessary variable.  It doesn't need to be computed because it is implict in the definition of the frame.  It is calculated here simply because it is easy to do, and might be handy to have around.  Of course, it could be derived from knowledge of the frame alone."
     ]
    },
    {
     "cell_type": "code",
     "collapsed": false,
     "input": [
      "# Always run this first\n",
      "# NOTE: Do not define new basic variables in this notebook;\n",
      "#       define them in Variables.ipynb.  Use this notebook\n",
      "#       to define new expressions built from those variables.\n",
      "\n",
      "from __future__ import division # This needs to be here, even though it's in Variables.py\n",
      "execfile('Utilities/ExecNotebook.ipy')\n",
      "UseQuaternions = True\n",
      "from sympy import N\n",
      "from sympy import Rational as frac # Rename for similarity to latex"
     ],
     "language": "python",
     "metadata": {},
     "outputs": [],
     "prompt_number": 1
    },
    {
     "cell_type": "code",
     "collapsed": false,
     "input": [
      "with open('C++/PNApproximants_Q.ipp', 'w') as f :\n",
      "    f.write(\"\"\"// File produced automatically by CodeOutput_Q.ipynb\"\"\")\n",
      "\n",
      "    for PNOrder in [frac(n,2) for n in range(0,13)]:\n",
      "        print(\"Working on {0} PN...\".format(PNOrder))\n",
      "        PNOrderString = str(N(PNOrder,2)).replace('.','p')\n",
      "        execnotebook('OrbitalEvolution.ipynb')\n",
      "        # Start the class, write the declarations, initializations, etc.\n",
      "        f.write(\"\"\"\n",
      "\n",
      "class TaylorTn_{PNOrderString}PN_Q : public TaylorTn_Q {{\n",
      "private:\n",
      "{Declarations}\n",
      "  double Phi;\n",
      "\n",
      "public:\n",
      "  TaylorTn_{PNOrderString}PN_Q({InputArguments}) :\n",
      "{Initializations}, Phi(0.0)\n",
      "  {{ }}\n",
      "\n",
      "  void Recalculate(double t, const double* y) {{\n",
      "    v = y[0];\n",
      "    rfrak_chi1_x = y[1];\n",
      "    rfrak_chi1_y = y[2];\n",
      "    rfrak_chi2_x = y[3];\n",
      "    rfrak_chi2_y = y[4];\n",
      "    rfrak_ell_x = y[5];\n",
      "    rfrak_ell_y = y[6];\n",
      "    rfrak_ell_z = y[7];\n",
      "    Phi = y[8];\n",
      "\n",
      "{Evaluations}\n",
      "  }}\n",
      "\n",
      "{MemberFunctions}\n",
      "\"\"\".format(PNOrderString=PNOrderString,\n",
      "           InputArguments=CodeConstructor.CppInputArguments(11),\n",
      "           Declarations=CodeConstructor.CppDeclarations(2),\n",
      "           Initializations=CodeConstructor.CppInitializations(4),\n",
      "           Evaluations=CodeConstructor.CppEvaluations(4),\n",
      "           MemberFunctions=CodeOutput.CodeConstructor(PNVariables, PrecessionVelocities).CppExpressionsAsFunctions(2)))\n",
      "\n",
      "        # Write the external interfaces to the ODE stepper\n",
      "        for n,Expressions in zip([1,4,5], [T1Expressions,T4Expressions,T5Expressions]) :\n",
      "            f.write(\"\"\"\n",
      "  int TaylorT{n}(double t, const double* y, double* dydt) {{\n",
      "    Recalculate(t, y);\n",
      "    if(v>=1.0) {{ return GSL_EDOM; }} // Beyond domain of PN validity\n",
      "{Computations}\n",
      "    if(dvdt_T{n}<0.0) {{ return GSL_EDIVERGE; }} // v is decreasing\n",
      "    return CommonRHS(dvdt_T{n}, y, dydt);\n",
      "  }}\n",
      "\"\"\".format(n=n,\n",
      "           Computations=CodeOutput.CodeConstructor(PNVariables, Expressions).CppEvaluateExpressions() ))\n",
      "\n",
      "        # Finish up, writing the common RHS function and closing the class\n",
      "        f.write(\"\"\"\n",
      "  int CommonRHS(const double dvdt, const double* y, double* dydt) {{\n",
      "    std::vector<double> rfrak_ellHat(3);\n",
      "    rfrak_ellHat[0] = y[5];\n",
      "    rfrak_ellHat[1] = y[6];\n",
      "    rfrak_ellHat[2] = y[7];\n",
      "    const std::vector<double> rfrakdot_ellHat = FrameFromAngularVelocity_Integrand(rfrak_ellHat, OmegaVec().vec());\n",
      "    dydt[0] = dvdt;\n",
      "    FrameFromAngularVelocity_2D_Integrand(y[1], y[2], OmegaVec_chiVec_1().vec(), dydt[1], dydt[2]);\n",
      "    FrameFromAngularVelocity_2D_Integrand(y[3], y[4], OmegaVec_chiVec_2().vec(), dydt[3], dydt[4]);\n",
      "    dydt[5] = rfrakdot_ellHat[0];\n",
      "    dydt[6] = rfrakdot_ellHat[1];\n",
      "    dydt[7] = rfrakdot_ellHat[2];\n",
      "    dydt[8] = v*v*v/m;\n",
      "\n",
      "    return GSL_SUCCESS; // GSL expects this if everything went well\n",
      "  }}\n",
      "}}; // class TaylorTn_{PNOrderString}PN_Q : public TaylorTn_Q\n",
      "\"\"\".format(PNOrderString=PNOrderString))\n",
      "print(\"All done\")"
     ],
     "language": "python",
     "metadata": {},
     "outputs": [
      {
       "output_type": "stream",
       "stream": "stdout",
       "text": [
        "Working on 0 PN...\n",
        "WARNING: Absorption term in EnergyAbsorption.ipynb temporarily disabled."
       ]
      },
      {
       "output_type": "stream",
       "stream": "stdout",
       "text": [
        "\n",
        "Working on 1/2 PN..."
       ]
      },
      {
       "output_type": "stream",
       "stream": "stdout",
       "text": [
        "\n",
        "WARNING: Absorption term in EnergyAbsorption.ipynb temporarily disabled."
       ]
      },
      {
       "output_type": "stream",
       "stream": "stdout",
       "text": [
        "\n",
        "Working on 1 PN..."
       ]
      },
      {
       "output_type": "stream",
       "stream": "stdout",
       "text": [
        "\n",
        "WARNING: Absorption term in EnergyAbsorption.ipynb temporarily disabled."
       ]
      },
      {
       "output_type": "stream",
       "stream": "stdout",
       "text": [
        "\n",
        "Working on 3/2 PN..."
       ]
      },
      {
       "output_type": "stream",
       "stream": "stdout",
       "text": [
        "\n",
        "WARNING: Absorption term in EnergyAbsorption.ipynb temporarily disabled."
       ]
      },
      {
       "output_type": "stream",
       "stream": "stdout",
       "text": [
        "\n",
        "Working on 2 PN..."
       ]
      },
      {
       "output_type": "stream",
       "stream": "stdout",
       "text": [
        "\n",
        "WARNING: Absorption term in EnergyAbsorption.ipynb temporarily disabled."
       ]
      },
      {
       "output_type": "stream",
       "stream": "stdout",
       "text": [
        "\n",
        "Working on 5/2 PN..."
       ]
      },
      {
       "output_type": "stream",
       "stream": "stdout",
       "text": [
        "\n",
        "WARNING: Absorption term in EnergyAbsorption.ipynb temporarily disabled."
       ]
      },
      {
       "output_type": "stream",
       "stream": "stdout",
       "text": [
        "\n",
        "Working on 3 PN..."
       ]
      },
      {
       "output_type": "stream",
       "stream": "stdout",
       "text": [
        "\n",
        "WARNING: Absorption term in EnergyAbsorption.ipynb temporarily disabled."
       ]
      },
      {
       "output_type": "stream",
       "stream": "stdout",
       "text": [
        "\n",
        "Working on 7/2 PN..."
       ]
      },
      {
       "output_type": "stream",
       "stream": "stdout",
       "text": [
        "\n",
        "WARNING: Absorption term in EnergyAbsorption.ipynb temporarily disabled."
       ]
      },
      {
       "output_type": "stream",
       "stream": "stdout",
       "text": [
        "\n",
        "Working on 4 PN..."
       ]
      },
      {
       "output_type": "stream",
       "stream": "stdout",
       "text": [
        "\n",
        "WARNING: Absorption term in EnergyAbsorption.ipynb temporarily disabled."
       ]
      },
      {
       "output_type": "stream",
       "stream": "stdout",
       "text": [
        "\n",
        "Working on 9/2 PN..."
       ]
      },
      {
       "output_type": "stream",
       "stream": "stdout",
       "text": [
        "\n",
        "WARNING: Absorption term in EnergyAbsorption.ipynb temporarily disabled."
       ]
      },
      {
       "output_type": "stream",
       "stream": "stdout",
       "text": [
        "\n",
        "Working on 5 PN..."
       ]
      },
      {
       "output_type": "stream",
       "stream": "stdout",
       "text": [
        "\n",
        "WARNING: Absorption term in EnergyAbsorption.ipynb temporarily disabled."
       ]
      },
      {
       "output_type": "stream",
       "stream": "stdout",
       "text": [
        "\n",
        "Working on 11/2 PN..."
       ]
      },
      {
       "output_type": "stream",
       "stream": "stdout",
       "text": [
        "\n",
        "WARNING: Absorption term in EnergyAbsorption.ipynb temporarily disabled."
       ]
      },
      {
       "output_type": "stream",
       "stream": "stdout",
       "text": [
        "\n",
        "Working on 6 PN..."
       ]
      },
      {
       "output_type": "stream",
       "stream": "stdout",
       "text": [
        "\n",
        "WARNING: Absorption term in EnergyAbsorption.ipynb temporarily disabled."
       ]
      },
      {
       "output_type": "stream",
       "stream": "stdout",
       "text": [
        "\n",
        "All done"
       ]
      },
      {
       "output_type": "stream",
       "stream": "stdout",
       "text": [
        "\n"
       ]
      }
     ],
     "prompt_number": 2
    }
   ],
   "metadata": {}
  }
 ]
}