{
 "metadata": {
  "name": ""
 },
 "nbformat": 3,
 "nbformat_minor": 0,
 "worksheets": [
  {
   "cells": [
    {
     "cell_type": "markdown",
     "metadata": {},
     "source": [
      "Finally, we write the code file itself.  Most of the text below will appear literally in the file.  Statements in single curly braces will be substituted by the `format` statement at the end of the string; double curly braces will just appear as literal braces in the output."
     ]
    },
    {
     "cell_type": "code",
     "collapsed": false,
     "input": [
      "# Always run this first\n",
      "# NOTE: Do not define new basic variables in this notebook;\n",
      "#       define them in Variables.ipynb.  Use this notebook\n",
      "#       to define new expressions built from those variables.\n",
      "\n",
      "from __future__ import division # This needs to be here, even though it's in Variables.py\n",
      "execfile('ExecNotebook.ipy')\n",
      "UseQuaternions = False\n",
      "from sympy import N\n",
      "from sympy import Rational as frac # Rename for similarity to latex"
     ],
     "language": "python",
     "metadata": {},
     "outputs": [],
     "prompt_number": 1
    },
    {
     "cell_type": "code",
     "collapsed": false,
     "input": [
      "with open('C++/PNApproximants.ipp', 'w') as f :\n",
      "    f.write(\"\"\"// File produced automatically by CodeOutput.ipynb\"\"\")\n",
      "\n",
      "    for PNOrder in [frac(n,2) for n in range(0,13)]:\n",
      "        print(\"Working on {0} PN...\".format(PNOrder))\n",
      "        PNOrderString = str(N(PNOrder,2)).replace('.','p')\n",
      "        execnotebook('OrbitalEvolution.ipynb')\n",
      "        # Start the class, write the declarations, initializations, etc.\n",
      "        f.write(\"\"\"\n",
      "\n",
      "class TaylorTn_{PNOrderString}PN : public TaylorTn {{\n",
      "private:\n",
      "{Declarations}\n",
      "  double Phi, gamma;\n",
      "\n",
      "public:\n",
      "  TaylorTn_{PNOrderString}PN({InputArguments}) :\n",
      "{Initializations}, Phi(0.0), gamma(0.0)\n",
      "  {{\n",
      "    ellHat[0] = ellHat_x;\n",
      "    ellHat[1] = ellHat_y;\n",
      "    ellHat[2] = ellHat_z;\n",
      "    nHat[0] = nHat_x;\n",
      "    nHat[1] = nHat_y;\n",
      "    nHat[2] = nHat_z;\n",
      "  }}\n",
      "\n",
      "  void Recalculate(double t, const double* y) {{\n",
      "    v = y[0];\n",
      "    chi1_x = y[1];\n",
      "    chi1_y = y[2];\n",
      "    chi1_z = y[3];\n",
      "    chi2_x = y[4];\n",
      "    chi2_y = y[5];\n",
      "    chi2_z = y[6];\n",
      "    ellHat_x = y[7];\n",
      "    ellHat_y = y[8];\n",
      "    ellHat_z = y[9];\n",
      "    Phi = y[10];\n",
      "    gamma = y[11];\n",
      "\n",
      "    const Quaternion Rax =\n",
      "        sqrtOfRotor(-normalized(Quaternion(0., ellHat_x, ellHat_y, ellHat_z))*zHat);\n",
      "    const Quaternion R = Rax * exp(((gamma+Phi)/2.)*zHat);\n",
      "    const Quaternion nHatQ = R*xHat*R.conjugate();\n",
      "    nHat_x = nHatQ[1];\n",
      "    nHat_y = nHatQ[2];\n",
      "    nHat_z = nHatQ[3];\n",
      "\n",
      "{Evaluations}\n",
      "  }}\n",
      "\n",
      "{MemberFunctions}\n",
      "\"\"\".format(PNOrderString=PNOrderString,\n",
      "           InputArguments=CodeConstructor.CppInputArguments(17),\n",
      "           Declarations=CodeConstructor.CppDeclarations(2),\n",
      "           Initializations=CodeConstructor.CppInitializations(4),\n",
      "           Evaluations=CodeConstructor.CppEvaluations(4),\n",
      "           MemberFunctions=CodeOutput.CodeConstructor(PNVariables, PrecessionVelocities).CppExpressionsAsFunctions(2)))\n",
      "\n",
      "        # Write the external interfaces to the ODE stepper\n",
      "        for n,Expressions in zip([1,4,5], [T1Expressions,T4Expressions,T5Expressions]) :\n",
      "            f.write(\"\"\"\n",
      "  int TaylorT{n}(double t, const double* y, double* dydt) {{\n",
      "    Recalculate(t, y);\n",
      "    if(v>=1.0) {{ return GSL_EDOM; }} // Beyond domain of PN validity\n",
      "{Computations}\n",
      "    if(dvdt_T{n}<0.0) {{ return GSL_EDIVERGE; }} // v is decreasing\n",
      "    return CommonRHS(dvdt_T{n}, y, dydt);\n",
      "  }}\n",
      "\"\"\".format(n=n,\n",
      "           Computations=CodeOutput.CodeConstructor(PNVariables, Expressions).CppEvaluateExpressions() ))\n",
      "\n",
      "        # Finish up, writing the common RHS function and closing the class\n",
      "        f.write(\"\"\"\n",
      "  int CommonRHS(const double dvdt, const double* y, double* dydt) {{\n",
      "    const std::vector<double> Omega1 = OmegaVec_chiVec_1();\n",
      "    const std::vector<double> Omega2 = OmegaVec_chiVec_2();\n",
      "    const std::vector<double> Omega  = OmegaVec_ellHat();\n",
      "    dydt[0] = dvdt;\n",
      "    cross(&Omega1[0], &y[1], &dydt[1]);\n",
      "    cross(&Omega2[0], &y[4], &dydt[4]);\n",
      "    cross(&Omega[0],  &y[7], &dydt[7]);\n",
      "    dydt[10] = v*v*v;\n",
      "    const Quaternion adot(0., dydt[7], dydt[8], dydt[9]);\n",
      "    const Quaternion Rax =\n",
      "        sqrtOfRotor(-Quaternion(0., ellHat_x, ellHat_y, ellHat_z).normalized()*zHat);\n",
      "    const Quaternion Raxdot = ( (-1.0/std::sqrt(2+2*y[9]))*adot*zHat - (dydt[9]/(2+2*y[9]))*Rax );\n",
      "    dydt[11] = -2*(Rax.conjugate() * Raxdot)[3];\n",
      "\n",
      "    return GSL_SUCCESS; // GSL expects this if everything went well\n",
      "  }}\n",
      "}}; // class TaylorTn_{PNOrderString}PN : public TaylorTn\n",
      "\"\"\".format(PNOrderString=PNOrderString))\n",
      "print(\"All done\")"
     ],
     "language": "python",
     "metadata": {},
     "outputs": [
      {
       "output_type": "stream",
       "stream": "stdout",
       "text": [
        "Working on 0 PN...\n",
        "Working on 1/2 PN..."
       ]
      },
      {
       "output_type": "stream",
       "stream": "stdout",
       "text": [
        "\n",
        "Working on 1 PN..."
       ]
      },
      {
       "output_type": "stream",
       "stream": "stdout",
       "text": [
        "\n",
        "Working on 3/2 PN..."
       ]
      },
      {
       "output_type": "stream",
       "stream": "stdout",
       "text": [
        "\n",
        "Working on 2 PN..."
       ]
      },
      {
       "output_type": "stream",
       "stream": "stdout",
       "text": [
        "\n",
        "Working on 5/2 PN..."
       ]
      },
      {
       "output_type": "stream",
       "stream": "stdout",
       "text": [
        "\n",
        "Working on 3 PN..."
       ]
      },
      {
       "output_type": "stream",
       "stream": "stdout",
       "text": [
        "\n",
        "Working on 7/2 PN..."
       ]
      },
      {
       "output_type": "stream",
       "stream": "stdout",
       "text": [
        "\n",
        "Working on 4 PN..."
       ]
      },
      {
       "output_type": "stream",
       "stream": "stdout",
       "text": [
        "\n",
        "Working on 9/2 PN..."
       ]
      },
      {
       "output_type": "stream",
       "stream": "stdout",
       "text": [
        "\n",
        "Working on 5 PN..."
       ]
      },
      {
       "output_type": "stream",
       "stream": "stdout",
       "text": [
        "\n",
        "Working on 11/2 PN..."
       ]
      },
      {
       "output_type": "stream",
       "stream": "stdout",
       "text": [
        "\n",
        "Working on 6 PN..."
       ]
      },
      {
       "output_type": "stream",
       "stream": "stdout",
       "text": [
        "\n",
        "All done"
       ]
      },
      {
       "output_type": "stream",
       "stream": "stdout",
       "text": [
        "\n"
       ]
      }
     ],
     "prompt_number": 2
    }
   ],
   "metadata": {}
  }
 ]
}