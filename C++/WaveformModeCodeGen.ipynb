{
 "metadata": {
  "name": "",
  "signature": "sha256:4fda5fa747dd2e27a47a6f7ce03fd770664534238ef3368e75f1b3013a5ba4c1"
 },
 "nbformat": 3,
 "nbformat_minor": 0,
 "worksheets": [
  {
   "cells": [
    {
     "cell_type": "markdown",
     "metadata": {},
     "source": [
      "Finally, we write the code file itself.  Most of the text below will appear literally in the file.  Statements in single curly braces will be substituted by the `format` statement at the end of the string; double curly braces will just appear as literal braces in the output."
     ]
    },
    {
     "cell_type": "code",
     "collapsed": false,
     "input": [
      "# Always run this first\n",
      "# NOTE: Do not define new basic variables in this notebook;\n",
      "#       define them in Variables_Q.ipynb.  Use this notebook\n",
      "#       to define new expressions built from those variables.\n",
      "\n",
      "from __future__ import division # This needs to be here, even though it's in Variables.py\n",
      "import sys\n",
      "sys.path.insert(0, '..') # Look for modules in directory above this one\n",
      "execfile('../Utilities/ExecNotebook.ipy')\n",
      "from sympy import N\n",
      "from sympy import Rational as frac # Rename for similarity to latex\n",
      "execnotebook('../PNTerms/Variables_Q.ipynb')\n",
      "from Utilities import CodeOutput\n",
      "execnotebook('../PNTerms/WaveformModes.ipynb')"
     ],
     "language": "python",
     "metadata": {},
     "outputs": [],
     "prompt_number": 1
    },
    {
     "cell_type": "code",
     "collapsed": false,
     "input": [
      "WaveformModeTerms = [WaveformModes_NoSpin, WaveformModes_Spin_Symm, WaveformModes_Spin_Asymm]\n",
      "for Term in WaveformModeTerms:\n",
      "    PNVariables.update(Term)"
     ],
     "language": "python",
     "metadata": {},
     "outputs": [],
     "prompt_number": 2
    },
    {
     "cell_type": "markdown",
     "metadata": {},
     "source": [
      "We use the co-orbital frame to compute waveforms, rather than the $(x,y,z)$ frame used to computer the orbital dynamics.  This means that we need to change a few of the definitions of the variables that go into our calculations.  The following commands overwrite the variables defined in `Variables_Q.ipynb`."
     ]
    },
    {
     "cell_type": "code",
     "collapsed": false,
     "input": [
      "# For some reason I have to both overwrite these variables and pop them...\n",
      "PNVariables.AddVariable('nHat', constant=True, fundamental=True,\n",
      "                        substitution_atoms=[], substitution='Quaternions::xHat', datatype='Quaternions::Quaternion');\n",
      "PNVariables.AddVariable('lambdaHat', constant=True, fundamental=True,\n",
      "                        substitution_atoms=[], substitution='Quaternions::yHat', datatype='Quaternions::Quaternion');\n",
      "PNVariables.AddVariable('ellHat', constant=True, fundamental=True,\n",
      "                        substitution_atoms=[], substitution='Quaternions::zHat', datatype='Quaternions::Quaternion');\n",
      "PNVariables.pop(nHat);\n",
      "PNVariables.pop(lambdaHat);\n",
      "PNVariables.pop(ellHat);\n",
      "\n",
      "PNVariables.AddBasicVariables('chiVec1,chiVec2', datatype='Quaternions::Quaternion')\n",
      "\n",
      "PNVariables.AddDerivedVariable('chi1_n', substitution_atoms=[chiVec1,nHat], substitution='chiVec1[1]');\n",
      "PNVariables.AddDerivedVariable('chi1_lambda', substitution_atoms=[chiVec1,lambdaHat], substitution='chiVec1[2]');\n",
      "PNVariables.AddDerivedVariable('chi1_ell', substitution_atoms=[chiVec1,ellHat], substitution='chiVec1[3]');\n",
      "PNVariables.AddDerivedVariable('chi2_n', substitution_atoms=[chiVec2,nHat], substitution='chiVec2[1]');\n",
      "PNVariables.AddDerivedVariable('chi2_lambda', substitution_atoms=[chiVec2,lambdaHat], substitution='chiVec2[2]');\n",
      "PNVariables.AddDerivedVariable('chi2_ell', substitution_atoms=[chiVec2,ellHat], substitution='chiVec2[3]');"
     ],
     "language": "python",
     "metadata": {},
     "outputs": [],
     "prompt_number": 3
    },
    {
     "cell_type": "code",
     "collapsed": false,
     "input": [
      "def VectorBuilder(Collection, Indent=4) :\n",
      "    from textwrap import TextWrapper\n",
      "    wrapper = TextWrapper(width=120)\n",
      "    wrapper.initial_indent = ' '*Indent\n",
      "    wrapper.subsequent_indent = wrapper.initial_indent+'  '\n",
      "    Evaluations = []\n",
      "    LM = [[ell,m] for ell in range(2,ellMax+1) for m in range(-ell,ell+1)]\n",
      "    for i,Item in enumerate(Collection):\n",
      "        ell,m = LM[i]\n",
      "        try:\n",
      "            code = 'Modes[{0}] = {1};'.format(i,Item.ccode())\n",
      "            Evaluations.append(wrapper.initial_indent+'// (ell,m)=({0},{1}):'.format(ell,m))\n",
      "            Evaluations.append(wrapper.fill(code))\n",
      "        except TypeError:\n",
      "            pass\n",
      "    return wrapper.initial_indent + \\\n",
      "        'std::vector<std::complex<double> > Modes({0});\\n'.format(len(Collection)) + \\\n",
      "        '\\n'.join(Evaluations)"
     ],
     "language": "python",
     "metadata": {},
     "outputs": [],
     "prompt_number": 4
    },
    {
     "cell_type": "code",
     "collapsed": false,
     "input": [
      "%%time\n",
      "\n",
      "with open('PNWaveformModes.ipp', 'w') as f :\n",
      "    f.write(\"\"\"// File produced automatically by WaveformModeCodeGen.ipynb\"\"\")\n",
      "\n",
      "    f.write(\"\"\"\n",
      "\n",
      "class WaveformModes_Base {{\n",
      "public:\n",
      "  virtual std::vector<std::complex<double> > operator()(\n",
      "    const double v_k,\n",
      "    const double chi1_n_k, const double chi1_lambda_k, const double chi1_ell_k,\n",
      "    const double chi2_n_k, const double chi2_lambda_k, const double chi2_ell_k) = 0;\n",
      "  virtual std::vector<std::complex<double> > operator()(\n",
      "    const double v_k, const std::vector<double>& chi1, const std::vector<double>& chi2)\n",
      "  {{\n",
      "    return this->operator()(v_k, chi1[0], chi1[1], chi1[2], chi2[0], chi2[1], chi2[2]);\n",
      "  }}\n",
      "}};\n",
      "\n",
      "const unsigned int ellMax = {ellMax};\n",
      "const std::complex<double> I(0,1.0);\n",
      "inline std::complex<double> conjugate(const std::complex<double>& a) {{ return std::conj(a); }}\"\"\".format(ellMax=ellMax))\n",
      "\n",
      "    for PNWaveformModeOrder in [frac(n,2) for n in range(0,8)]:\n",
      "        print(\"Working on {0} PN...\".format(PNWaveformModeOrder))\n",
      "        PNWaveformModeOrderString = str(N(PNWaveformModeOrder,2)).replace('.','p')\n",
      "        ModeExpressions = PNCollection()\n",
      "        for ell in range(2,ellMax+1) :\n",
      "            for m in range(-ell,ell+1) :\n",
      "                Mode = (SymmetricWaveformModes([ell,m],PNOrder=PNWaveformModeOrder)\n",
      "                        +AsymmetricWaveformModes([ell,m],PNOrder=PNWaveformModeOrder)).subs(log(v), logv)\n",
      "                ModeExpressions.AddDerivedVariable('rhOverM_{0}_{1}'.format(ell,str(m).replace('-','n')),\n",
      "                                                   Mode, datatype='std::complex<double>')\n",
      "        CodeConstructor = CodeOutput.CodeConstructor(PNVariables, ModeExpressions)\n",
      "        if(PNWaveformModeOrder>0.9):\n",
      "            Updates = \"\"\"    chiVec1 = Quaternions::Quaternion(0., chi1_n_k, chi1_lambda_k, chi1_ell_k);\n",
      "    chiVec2 = Quaternions::Quaternion(0., chi2_n_k, chi2_lambda_k, chi2_ell_k);\n",
      "\"\"\"\n",
      "        else:\n",
      "            Updates = \"\"\n",
      "        # Start the class, write the declarations, initializations, etc.\n",
      "        f.write(\"\"\"\n",
      "\n",
      "class WaveformModes_{PNWaveformModeOrderString}PN : public WaveformModes_Base {{\n",
      "private:\n",
      "{Declarations}\n",
      "\n",
      "public:\n",
      "  WaveformModes_{PNWaveformModeOrderString}PN({InputArguments}) :\n",
      "{Initializations}\n",
      "  {{ }}\n",
      "\n",
      "  using WaveformModes_Base::operator();\n",
      "\n",
      "  std::vector<std::complex<double> > operator()(\n",
      "    const double v_k,\n",
      "    const double chi1_n_k, const double chi1_lambda_k, const double chi1_ell_k,\n",
      "    const double chi2_n_k, const double chi2_lambda_k, const double chi2_ell_k)\n",
      "  {{\n",
      "    v = v_k;\n",
      "{Updates}\n",
      "{Evaluations}\n",
      "\n",
      "{Computations}\n",
      "\n",
      "    return Modes;\n",
      "  }}\n",
      "\n",
      "}}; // class WaveformModes_{PNWaveformModeOrderString}PN : public WaveformModes_Base\n",
      "\"\"\".format(PNWaveformModeOrderString=PNWaveformModeOrderString,\n",
      "           InputArguments=CodeConstructor.CppInputArguments(22),\n",
      "           Declarations=CodeConstructor.CppDeclarations(2),\n",
      "           Initializations=CodeConstructor.CppInitializations(4),\n",
      "           Updates=Updates,\n",
      "           Evaluations=CodeConstructor.CppEvaluations(4),\n",
      "           MemberFunctions=CodeConstructor.CppExpressionsAsFunctions(2),\n",
      "           Computations=VectorBuilder(ModeExpressions) ))\n",
      "\n",
      "print(\"All done\")"
     ],
     "language": "python",
     "metadata": {},
     "outputs": [
      {
       "output_type": "stream",
       "stream": "stdout",
       "text": [
        "Working on 0 PN...\n",
        "Working on 1/2 PN..."
       ]
      },
      {
       "output_type": "stream",
       "stream": "stdout",
       "text": [
        "\n",
        "Working on 1 PN..."
       ]
      },
      {
       "output_type": "stream",
       "stream": "stdout",
       "text": [
        "\n",
        "Working on 3/2 PN..."
       ]
      },
      {
       "output_type": "stream",
       "stream": "stdout",
       "text": [
        "\n",
        "Working on 2 PN..."
       ]
      },
      {
       "output_type": "stream",
       "stream": "stdout",
       "text": [
        "\n",
        "Working on 5/2 PN..."
       ]
      },
      {
       "output_type": "stream",
       "stream": "stdout",
       "text": [
        "\n",
        "Working on 3 PN..."
       ]
      },
      {
       "output_type": "stream",
       "stream": "stdout",
       "text": [
        "\n",
        "Working on 7/2 PN..."
       ]
      },
      {
       "output_type": "stream",
       "stream": "stdout",
       "text": [
        "\n",
        "All done"
       ]
      },
      {
       "output_type": "stream",
       "stream": "stdout",
       "text": [
        "\n",
        "CPU times: user 16.9 s, sys: 179 ms, total: 17 s\n",
        "Wall time: 21.8 s\n"
       ]
      }
     ],
     "prompt_number": 5
    }
   ],
   "metadata": {}
  }
 ]
}