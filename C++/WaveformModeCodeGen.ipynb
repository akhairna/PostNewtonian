{
 "metadata": {
  "name": ""
 },
 "nbformat": 3,
 "nbformat_minor": 0,
 "worksheets": [
  {
   "cells": [
    {
     "cell_type": "markdown",
     "metadata": {},
     "source": [
      "Finally, we write the code file itself.  Most of the text below will appear literally in the file.  Statements in single curly braces will be substituted by the `format` statement at the end of the string; double curly braces will just appear as literal braces in the output."
     ]
    },
    {
     "cell_type": "code",
     "collapsed": false,
     "input": [
      "# Always run this first\n",
      "# NOTE: Do not define new basic variables in this notebook;\n",
      "#       define them in Variables.ipynb.  Use this notebook\n",
      "#       to define new expressions built from those variables.\n",
      "\n",
      "from __future__ import division # This needs to be here, even though it's in Variables.py\n",
      "import sys\n",
      "sys.path.insert(0, '..') # Look for modules in directory above this one\n",
      "execfile('../Utilities/ExecNotebook.ipy')\n",
      "from sympy import N\n",
      "from sympy import Rational as frac # Rename for similarity to latex\n",
      "execnotebook('../PNTerms/Variables.ipynb')\n",
      "from Utilities import CodeOutput\n",
      "execnotebook('../PNTerms/WaveformModes.ipynb')"
     ],
     "language": "python",
     "metadata": {},
     "outputs": [],
     "prompt_number": 1
    },
    {
     "cell_type": "code",
     "collapsed": false,
     "input": [
      "WaveformModeTerms = [WaveformModes_NoSpin, WaveformModes_Spin]\n",
      "for Term in WaveformModeTerms:\n",
      "    PNVariables.update(Term)"
     ],
     "language": "python",
     "metadata": {},
     "outputs": [],
     "prompt_number": 2
    },
    {
     "cell_type": "code",
     "collapsed": false,
     "input": [
      "with open('PNWaveformModes.ipp', 'w') as f :\n",
      "    f.write(\"\"\"// File produced automatically by WaveformModeCodeGen.ipynb\"\"\")\n",
      "\n",
      "    f.write(\"\"\"\n",
      "\n",
      "class WaveformModes {\n",
      "public\n",
      "  virtual std::vector<std::complex<double> > operator()(const double v);\n",
      "};\"\"\")\n",
      "\n",
      "    for PNOrder in [frac(n,2) for n in [6]]: # range(0,8)]:\n",
      "        print(\"Working on {0} PN...\".format(PNOrder))\n",
      "        PNOrderString = str(N(PNOrder,2)).replace('.','p')\n",
      "        ModeExpressions = PNCollection()\n",
      "        for ell in range(2,ellMax+1) :\n",
      "            for m in range(-ell,ell+1) :\n",
      "                Mode = WaveformModes([ell,m],PNOrder=PNOrder).subs(log(v), logv)\n",
      "                ModeExpressions.AddDerivedVariable('rhOverM_{0}_{1}'.format(ell,str(m).replace('-','n')),Mode)\n",
      "        CodeConstructor = CodeOutput.CodeConstructor(PNVariables, ModeExpressions)\n",
      "        # Start the class, write the declarations, initializations, etc.\n",
      "        f.write(\"\"\"\n",
      "\n",
      "class WaveformModes_{PNOrderString}PN : public WaveformModes {{\n",
      "private:\n",
      "{Declarations}\n",
      "\n",
      "public:\n",
      "  WaveformModes_{PNOrderString}PN({InputArguments}) :\n",
      "{Initializations}\n",
      "  {{ }}\n",
      "\n",
      "std::vector<std::complex<double> > operator()(const double v) {{\n",
      "{Evaluations}\n",
      "\n",
      "  }}\n",
      "\n",
      "}}; // class TaylorTn_{PNOrderString}PN : public TaylorTn\n",
      "\"\"\".format(PNOrderString=PNOrderString,\n",
      "           InputArguments=CodeConstructor.CppInputArguments(22),\n",
      "           Declarations=CodeConstructor.CppDeclarations(2),\n",
      "           Initializations=CodeConstructor.CppInitializations(4),\n",
      "           Evaluations=CodeConstructor.CppEvaluations(4),\n",
      "           MemberFunctions=CodeConstructor.CppExpressionsAsFunctions(2),\n",
      "           Computations=CodeConstructor.CppEvaluateExpressions() ))\n",
      "\n",
      "print(\"All done\")"
     ],
     "language": "python",
     "metadata": {},
     "outputs": [
      {
       "output_type": "stream",
       "stream": "stdout",
       "text": [
        "Working on 3 PN...\n",
        "All done"
       ]
      },
      {
       "output_type": "stream",
       "stream": "stdout",
       "text": [
        "\n"
       ]
      }
     ],
     "prompt_number": 4
    },
    {
     "cell_type": "code",
     "collapsed": false,
     "input": [],
     "language": "python",
     "metadata": {},
     "outputs": [],
     "prompt_number": 3
    }
   ],
   "metadata": {}
  }
 ]
}