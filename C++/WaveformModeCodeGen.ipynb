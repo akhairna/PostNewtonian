{
 "metadata": {
  "name": "",
  "signature": "sha256:b0e45f843e0dc01e94cc8325b51c6e87087a91dd082abf575cc0f6b338405355"
 },
 "nbformat": 3,
 "nbformat_minor": 0,
 "worksheets": [
  {
   "cells": [
    {
     "cell_type": "markdown",
     "metadata": {},
     "source": [
      "Finally, we write the code file itself.  Most of the text below will appear literally in the file.  Statements in single curly braces will be substituted by the `format` statement at the end of the string; double curly braces will just appear as literal braces in the output."
     ]
    },
    {
     "cell_type": "code",
     "collapsed": false,
     "input": [
      "# Always run this first\n",
      "# NOTE: Do not define new basic variables in this notebook;\n",
      "#       define them in Variables.ipynb.  Use this notebook\n",
      "#       to define new expressions built from those variables.\n",
      "\n",
      "from __future__ import division # This needs to be here, even though it's in Variables.py\n",
      "import sys\n",
      "sys.path.insert(0, '..') # Look for modules in directory above this one\n",
      "execfile('../Utilities/ExecNotebook.ipy')\n",
      "from sympy import N\n",
      "from sympy import Rational as frac # Rename for similarity to latex\n",
      "execnotebook('../PNTerms/Variables.ipynb')\n",
      "from Utilities import CodeOutput\n",
      "execnotebook('../PNTerms/WaveformModes.ipynb')"
     ],
     "language": "python",
     "metadata": {},
     "outputs": [],
     "prompt_number": 1
    },
    {
     "cell_type": "code",
     "collapsed": false,
     "input": [
      "WaveformModeTerms = [WaveformModes_NoSpin, WaveformModes_Spin]\n",
      "for Term in WaveformModeTerms:\n",
      "    PNVariables.update(Term)"
     ],
     "language": "python",
     "metadata": {},
     "outputs": [],
     "prompt_number": 2
    },
    {
     "cell_type": "code",
     "collapsed": false,
     "input": [
      "def VectorBuilder(Collection, Indent=4) :\n",
      "    from textwrap import TextWrapper\n",
      "    wrapper = TextWrapper(width=120)\n",
      "    wrapper.initial_indent = ' '*Indent\n",
      "    wrapper.subsequent_indent = wrapper.initial_indent+'  '\n",
      "    Evaluations = []\n",
      "    for Item in Collection:\n",
      "        try:\n",
      "            Evaluations.append(wrapper.fill('Modes[i++] = {0};'.format(Item.ccode())))\n",
      "        except TypeError:\n",
      "            pass\n",
      "    return wrapper.initial_indent + \\\n",
      "        'std::vector<std::complex<double> > Modes({0});\\n'.format(len(Collection)) + \\\n",
      "        '\\n'.join(Evaluations)"
     ],
     "language": "python",
     "metadata": {},
     "outputs": [],
     "prompt_number": 3
    },
    {
     "cell_type": "code",
     "collapsed": false,
     "input": [
      "with open('PNWaveformModes.ipp', 'w') as f :\n",
      "    f.write(\"\"\"// File produced automatically by WaveformModeCodeGen.ipynb\"\"\")\n",
      "\n",
      "    f.write(\"\"\"\n",
      "\n",
      "class WaveformModes {{\n",
      "public:\n",
      "  virtual std::vector<std::complex<double> > operator()(\n",
      "    const double v_k,\n",
      "    const double chi1_x_k, const double chi1_y_k, const double chi1_z_k,\n",
      "    const double chi2_x_k, const double chi2_y_k, const double chi2_z_k,\n",
      "    const double ellHat_x_k, const double ellHat_y_k, const double ellHat_z_k) = 0;\n",
      "  virtual std::vector<std::complex<double> > operator()(\n",
      "    const double v_k, const std::vector<double>& chi1, const std::vector<double>& chi2)\n",
      "  {{\n",
      "    return this->operator()(v_k, chi1[0], chi1[1], chi1[2], chi2[0], chi2[1], chi2[2], 0.0, 0.0, 1.0);\n",
      "  }}\n",
      "}};\n",
      "\n",
      "const unsigned int ellMax = {ellMax};\n",
      "const std::complex<double> I(0,1.0);\n",
      "inline std::complex<double> conjugate(const std::complex<double>& a) {{ return std::conj(a); }}\"\"\".format(ellMax=ellMax))\n",
      "\n",
      "    for PNOrder in [frac(n,2) for n in range(0,8)]:\n",
      "        print(\"Working on {0} PN...\".format(PNOrder))\n",
      "        PNOrderString = str(N(PNOrder,2)).replace('.','p')\n",
      "        ModeExpressions = PNCollection()\n",
      "        for ell in range(2,ellMax+1) :\n",
      "            for m in range(-ell,ell+1) :\n",
      "                Mode = WaveformModes([ell,m],PNOrder=PNOrder).subs(log(v), logv)\n",
      "                ModeExpressions.AddDerivedVariable('rhOverM_{0}_{1}'.format(ell,str(m).replace('-','n')),\n",
      "                                                   Mode, datatype='std::complex<double>')\n",
      "        CodeConstructor = CodeOutput.CodeConstructor(PNVariables, ModeExpressions)\n",
      "        if(PNOrder>0.9):\n",
      "            Updates = \"\"\"    chi1_x = chi1_x_k;\n",
      "    chi1_y = chi1_y_k;\n",
      "    chi1_z = chi1_z_k;\n",
      "    chi2_x = chi2_x_k;\n",
      "    chi2_y = chi2_y_k;\n",
      "    chi2_z = chi2_z_k;\n",
      "    ellHat_x = ellHat_x_k;\n",
      "    ellHat_y = ellHat_y_k;\n",
      "    ellHat_z = ellHat_z_k;\n",
      "\"\"\"\n",
      "        else:\n",
      "            Updates = \"\"\n",
      "        # Start the class, write the declarations, initializations, etc.\n",
      "        f.write(\"\"\"\n",
      "\n",
      "class WaveformModes_{PNOrderString}PN : public WaveformModes {{\n",
      "private:\n",
      "{Declarations}\n",
      "\n",
      "public:\n",
      "  WaveformModes_{PNOrderString}PN({InputArguments}) :\n",
      "{Initializations}\n",
      "  {{ }}\n",
      "\n",
      "  using WaveformModes::operator();\n",
      "\n",
      "  std::vector<std::complex<double> > operator()(\n",
      "    const double v_k,\n",
      "    const double chi1_x_k, const double chi1_y_k, const double chi1_z_k,\n",
      "    const double chi2_x_k, const double chi2_y_k, const double chi2_z_k,\n",
      "    const double ellHat_x_k, const double ellHat_y_k, const double ellHat_z_k)\n",
      "  {{\n",
      "    v = v_k;\n",
      "{Updates}\n",
      "{Evaluations}\n",
      "\n",
      "    unsigned int i=0;\n",
      "{Computations}\n",
      "\n",
      "    return Modes;\n",
      "  }}\n",
      "\n",
      "}}; // class WaveformModes_{PNOrderString}PN : public WaveformModes\n",
      "\"\"\".format(PNOrderString=PNOrderString,\n",
      "           InputArguments=CodeConstructor.CppInputArguments(22),\n",
      "           Declarations=CodeConstructor.CppDeclarations(2),\n",
      "           Initializations=CodeConstructor.CppInitializations(4),\n",
      "           Updates=Updates,\n",
      "           Evaluations=CodeConstructor.CppEvaluations(4),\n",
      "           MemberFunctions=CodeConstructor.CppExpressionsAsFunctions(2),\n",
      "           Computations=VectorBuilder(ModeExpressions) ))\n",
      "\n",
      "print(\"All done\")"
     ],
     "language": "python",
     "metadata": {},
     "outputs": [
      {
       "output_type": "stream",
       "stream": "stdout",
       "text": [
        "Working on 0 PN...\n",
        "Working on 1/2 PN..."
       ]
      },
      {
       "output_type": "stream",
       "stream": "stdout",
       "text": [
        "\n",
        "Working on 1 PN..."
       ]
      },
      {
       "output_type": "stream",
       "stream": "stdout",
       "text": [
        "\n",
        "Working on 3/2 PN..."
       ]
      },
      {
       "output_type": "stream",
       "stream": "stdout",
       "text": [
        "\n",
        "Working on 2 PN..."
       ]
      },
      {
       "output_type": "stream",
       "stream": "stdout",
       "text": [
        "\n",
        "Working on 5/2 PN..."
       ]
      },
      {
       "output_type": "stream",
       "stream": "stdout",
       "text": [
        "\n",
        "Working on 3 PN..."
       ]
      },
      {
       "output_type": "stream",
       "stream": "stdout",
       "text": [
        "\n",
        "Working on 7/2 PN..."
       ]
      },
      {
       "output_type": "stream",
       "stream": "stdout",
       "text": [
        "\n",
        "All done"
       ]
      },
      {
       "output_type": "stream",
       "stream": "stdout",
       "text": [
        "\n"
       ]
      }
     ],
     "prompt_number": 4
    }
   ],
   "metadata": {}
  }
 ]
}