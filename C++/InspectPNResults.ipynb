{
 "metadata": {
  "name": ""
 },
 "nbformat": 3,
 "nbformat_minor": 0,
 "worksheets": [
  {
   "cells": [
    {
     "cell_type": "code",
     "collapsed": false,
     "input": [
      "%pylab osx"
     ],
     "language": "python",
     "metadata": {},
     "outputs": [
      {
       "output_type": "stream",
       "stream": "stdout",
       "text": [
        "Populating the interactive namespace from numpy and matplotlib\n"
       ]
      }
     ],
     "prompt_number": 1
    },
    {
     "cell_type": "code",
     "collapsed": false,
     "input": [
      "import h5py\n",
      "import matplotlib.pyplot as plt\n",
      "from mpl_toolkits.mplot3d import Axes3D\n",
      "import Quaternions\n",
      "import PNEvolution\n",
      "import GWFrames"
     ],
     "language": "python",
     "metadata": {},
     "outputs": [],
     "prompt_number": 2
    },
    {
     "cell_type": "heading",
     "level": 1,
     "metadata": {},
     "source": [
      "Run evolutions directly from python"
     ]
    },
    {
     "cell_type": "code",
     "collapsed": false,
     "input": [
      "v0 = 0.2\n",
      "v_i = 0.2\n",
      "m1 = 0.5\n",
      "chi1_i = [0,0,0.9]\n",
      "chi2_i = [0,0,0.9]\n",
      "R_frame_i = [1., 0, 0, 0]\n",
      "\n",
      "for PNOrder in [3.5, 6.0]:\n",
      "    for Approximant in [\"T1\", \"T4\", \"T5\"]:\n",
      "        t,v,chi1,chi2,R_frame,Phi = PNEvolution.EvolvePN(\"Taylor\"+Approximant, PNOrder, v0, v_i, m1, chi1_i, chi2_i, R_frame_i)\n",
      "        exec(\"\"\"ellHat_{0} = PNEvolution.ellHat(R_frame)\"\"\".format(Approximant))\n",
      "        plot(t-t[0], v, label=\"Taylor{0} at {1} PN\".format(Approximant,PNOrder))\n",
      "legend(loc='upper left')\n",
      "xlabel(r'$t/M$')\n",
      "ylabel(r'$v$');"
     ],
     "language": "python",
     "metadata": {},
     "outputs": [],
     "prompt_number": 7
    },
    {
     "cell_type": "code",
     "collapsed": false,
     "input": [
      "fig = plt.figure()\n",
      "ax = fig.add_subplot(111, projection='3d')\n",
      "#ax.plot(ell[:,0], OmegaHat_NR[:,1], OmegaHat_NR[:,2])\n",
      "for Tn in ['T1', 'T4', 'T5']:\n",
      "    exec(\"\"\"ax.plot(ellHat{0}[:,0], ellHat{0}[:,1], ellHat{0}[:,2])\"\"\".format(Tn))\n",
      "#    exec(\"\"\"ax.plot(ellHat_{0}[:,0], ellHat_{0}[:,1], ellHat_{0}[:,2])\"\"\".format(Tn))\n",
      "tight_layout(pad=0.1);\n",
      "title(r'$\\hat{\\ell}$');\n",
      "savefig('ellHat.pdf');"
     ],
     "language": "python",
     "metadata": {},
     "outputs": [],
     "prompt_number": 9
    },
    {
     "cell_type": "code",
     "collapsed": false,
     "input": [
      "NRDir = '/Users/boyle/Research/Data/SimulationAnnex/Catalog/SKS/'+\\\n",
      "            'd10.0_q6.00_sA_0.739_0.190_-0.495_sB_-0.190_0.051_-0.227/Lev3/'\n",
      "\n",
      "f = h5py.File(NRDir+'Horizons.h5', 'r')\n",
      "t_NR = f['AhA.dir/chiInertial.dat'][:,0]\n",
      "chi1_NR = f['AhA.dir/chiInertial.dat'][:,1:]\n",
      "x1 = f['AhA.dir/CoordCenterInertial.dat'][:,1:]\n",
      "m1 = f['AhA.dir/ChristodoulouMass.dat'][0,1]\n",
      "chi2_NR = f['AhB.dir/chiInertial.dat'][:,1:]\n",
      "x2 = f['AhB.dir/CoordCenterInertial.dat'][:,1:]\n",
      "m2 = f['AhB.dir/ChristodoulouMass.dat'][0,1]\n",
      "f.close()\n",
      "\n",
      "t_relaxed = ! awk {'\"/^relaxed-measurement-time/ {print \\$3}\"'} {NRDir}/metadata.txt\n",
      "t_relaxed = float(t_relaxed[0])\n",
      "i_relaxed = abs(t_NR-t_relaxed).argmin()\n",
      "\n",
      "def norm(v) :\n",
      "    return sqrt(v[0]**2+v[1]**2+v[2]**2)\n",
      "n = array([(xa-xb)/norm(xa-xb) for xa,xb in zip(x1,x2)])\n",
      "ndot = empty((len(x1[:,0]), 3))\n",
      "ndot[:,0] = array(GWFrames.ScalarDerivative(GWFrames.vectord(n[:,0]), GWFrames.vectord(t_NR)))\n",
      "ndot[:,1] = array(GWFrames.ScalarDerivative(GWFrames.vectord(n[:,1]), GWFrames.vectord(t_NR)))\n",
      "ndot[:,2] = array(GWFrames.ScalarDerivative(GWFrames.vectord(n[:,2]), GWFrames.vectord(t_NR)))\n",
      "Omega_NR = array([cross(N,Ndot) for N,Ndot in zip(n,ndot)])\n",
      "OmegaHat_NR = array([o/norm(o) for o in Omega_NR])"
     ],
     "language": "python",
     "metadata": {},
     "outputs": [],
     "prompt_number": 3
    },
    {
     "cell_type": "heading",
     "level": 1,
     "metadata": {},
     "source": [
      "Run evolutions through C++ programs"
     ]
    },
    {
     "cell_type": "markdown",
     "metadata": {},
     "source": [
      "Load data from files"
     ]
    },
    {
     "cell_type": "markdown",
     "metadata": {},
     "source": [
      "Run PN evolutions, to make sure the data are up to date"
     ]
    },
    {
     "cell_type": "code",
     "collapsed": false,
     "input": [
      "for Approximant in ['TaylorT1', 'TaylorT4', 'TaylorT5']:\n",
      "    ! ./EvolvePN_Q {Approximant}\n",
      "    ! ./EvolvePN {Approximant}"
     ],
     "language": "python",
     "metadata": {},
     "outputs": [
      {
       "output_type": "stream",
       "stream": "stdout",
       "text": [
        "PNEvolution_Q.cpp:79: Add nice method for running both ways.\r\n",
        "PNEvolution_Q.cpp:138: Add more options for PN orders here; possibly use static member function.\r\n"
       ]
      },
      {
       "output_type": "stream",
       "stream": "stdout",
       "text": [
        "NTimes = 21862\r\n",
        "Printing results to EvolvePN_TaylorT1_3p5PN_Q.dat... "
       ]
      },
      {
       "output_type": "stream",
       "stream": "stdout",
       "text": [
        "succeeded.\r\n"
       ]
      },
      {
       "output_type": "stream",
       "stream": "stdout",
       "text": [
        "PNEvolution.cpp:103: Add nice method for running both ways.\r\n",
        "PNEvolution.cpp:163: Add more options for PN orders here; possibly use static member function.\r\n"
       ]
      },
      {
       "output_type": "stream",
       "stream": "stdout",
       "text": [
        "NTimes = 21802\r\n",
        "Printing results to EvolvePN_TaylorT1_3p5PN.dat... "
       ]
      },
      {
       "output_type": "stream",
       "stream": "stdout",
       "text": [
        "succeeded.\r\n"
       ]
      },
      {
       "output_type": "stream",
       "stream": "stdout",
       "text": [
        "PNEvolution_Q.cpp:79: Add nice method for running both ways.\r\n",
        "PNEvolution_Q.cpp:138: Add more options for PN orders here; possibly use static member function.\r\n"
       ]
      },
      {
       "output_type": "stream",
       "stream": "stdout",
       "text": [
        "NTimes = 29093\r\n",
        "Printing results to EvolvePN_TaylorT4_3p5PN_Q.dat... "
       ]
      },
      {
       "output_type": "stream",
       "stream": "stdout",
       "text": [
        "succeeded.\r\n"
       ]
      },
      {
       "output_type": "stream",
       "stream": "stdout",
       "text": [
        "PNEvolution.cpp:103: Add nice method for running both ways.\r\n",
        "PNEvolution.cpp:163: Add more options for PN orders here; possibly use static member function.\r\n"
       ]
      },
      {
       "output_type": "stream",
       "stream": "stdout",
       "text": [
        "NTimes = 28990\r\n",
        "Printing results to EvolvePN_TaylorT4_3p5PN.dat... "
       ]
      },
      {
       "output_type": "stream",
       "stream": "stdout",
       "text": [
        "succeeded.\r\n"
       ]
      },
      {
       "output_type": "stream",
       "stream": "stdout",
       "text": [
        "PNEvolution_Q.cpp:79: Add nice method for running both ways.\r\n",
        "PNEvolution_Q.cpp:138: Add more options for PN orders here; possibly use static member function.\r\n"
       ]
      },
      {
       "output_type": "stream",
       "stream": "stdout",
       "text": [
        "NTimes = 18525\r\n",
        "Printing results to EvolvePN_TaylorT5_3p5PN_Q.dat... "
       ]
      },
      {
       "output_type": "stream",
       "stream": "stdout",
       "text": [
        "succeeded.\r\n"
       ]
      },
      {
       "output_type": "stream",
       "stream": "stdout",
       "text": [
        "PNEvolution.cpp:103: Add nice method for running both ways.\r\n",
        "PNEvolution.cpp:163: Add more options for PN orders here; possibly use static member function.\r\n"
       ]
      },
      {
       "output_type": "stream",
       "stream": "stdout",
       "text": [
        "NTimes = 18477\r\n",
        "Printing results to EvolvePN_TaylorT5_3p5PN.dat... "
       ]
      },
      {
       "output_type": "stream",
       "stream": "stdout",
       "text": [
        "succeeded.\r\n"
       ]
      }
     ],
     "prompt_number": 5
    },
    {
     "cell_type": "code",
     "collapsed": false,
     "input": [
      "Command=\"\"\"\n",
      "t_T1 = Data_T1[:,0]\n",
      "R_T1 = array([Quaternions.Quaternion(R) for R in Data_T1[:,8:12]])\n",
      "Omega_T1 = array([(v**3*R*Quaternions.zHat*R.conjugate()).vec() for v,R in zip(Data_T1[:,1],R_T1)])\n",
      "OmegaHat_T1 = array([(R*Quaternions.zHat*R.conjugate()).vec() for R in R_T1])\n",
      "chi1_T1 = array(Data_T1[:,2:5])\n",
      "chi1Hat_T1 = array([v/norm(v) for v in chi1_T1])\n",
      "chi2_T1 = array(Data_T1[:,5:8])\n",
      "chi2Hat_T1 = array([v/norm(v) for v in chi2_T1])\n",
      "\"\"\"\n",
      "\n",
      "for Q in ['', '_Q']:\n",
      "    for Tn in ['T1', 'T4', 'T5']:\n",
      "        exec(\"\"\"Data_{0}{1} = loadtxt('EvolvePN_Taylor{0}_3p5PN{1}.dat')\"\"\".format(Tn,Q))\n",
      "        exec(Command.replace('T1',Tn+Q))"
     ],
     "language": "python",
     "metadata": {},
     "outputs": [],
     "prompt_number": 6
    },
    {
     "cell_type": "markdown",
     "metadata": {},
     "source": [
      "Plot the angular velocities"
     ]
    },
    {
     "cell_type": "code",
     "collapsed": false,
     "input": [
      "fig = plt.figure()\n",
      "ax = fig.add_subplot(111, projection='3d')\n",
      "ax.plot(OmegaHat_NR[:,0], OmegaHat_NR[:,1], OmegaHat_NR[:,2])\n",
      "for Q in ['', '_Q']:\n",
      "    for Tn in ['T1', 'T4', 'T5']:\n",
      "        exec(\"\"\"ax.plot(OmegaHat_T1[:,0], OmegaHat_T1[:,1], OmegaHat_T1[:,2])\"\"\".replace('T1', Tn+Q))\n",
      "tight_layout(pad=0.1);\n",
      "title(r'$\\hat{\\Omega}$');\n",
      "savefig('OmegaHat.pdf');"
     ],
     "language": "python",
     "metadata": {},
     "outputs": [],
     "prompt_number": 7
    },
    {
     "cell_type": "code",
     "collapsed": false,
     "input": [
      "fig = plt.figure()\n",
      "ax = fig.add_subplot(111, projection='3d')\n",
      "ax.plot(Omega_NR[:,0], Omega_NR[:,1], Omega_NR[:,2])\n",
      "for Q in ['', '_Q']:\n",
      "    for Tn in ['T1', 'T4', 'T5']:\n",
      "        exec(\"\"\"ax.plot(Omega_T1[:,0], Omega_T1[:,1], Omega_T1[:,2])\"\"\".replace('T1', Tn+Q))\n",
      "tight_layout(pad=0.1);\n",
      "title(r'$\\vec{\\Omega}$');\n",
      "#savefig('Omega.pdf')"
     ],
     "language": "python",
     "metadata": {},
     "outputs": [
      {
       "metadata": {},
       "output_type": "pyout",
       "prompt_number": 13,
       "text": [
        "<matplotlib.text.Text at 0x105c6fc90>"
       ]
      }
     ],
     "prompt_number": 13
    },
    {
     "cell_type": "code",
     "collapsed": false,
     "input": [
      "figure()\n",
      "plot(t_NR, [norm(o) for o in Omega_NR], label='NR');\n",
      "for Q in ['', '_Q']:\n",
      "    for Tn in ['T1', 'T4', 'T5']:\n",
      "        exec(\"\"\"plot(t_T1-t_T1[0]+110, [norm(o) for o in Omega_T1], label='T1')\"\"\".replace('T1', Tn+Q))\n",
      "legend(loc='upper left');\n",
      "ylabel(r'$\\Omega$');\n",
      "xlabel(r'$t/M$');\n",
      "xlim(xmin=-20);\n",
      "ylim((0.,0.3));\n",
      "savefig('OmegaMag.pdf');\n",
      "ylim((0.025,0.075));\n",
      "savefig('OmegaMag_Zoomed.pdf');"
     ],
     "language": "python",
     "metadata": {},
     "outputs": [],
     "prompt_number": 8
    },
    {
     "cell_type": "markdown",
     "metadata": {},
     "source": [
      "Plot $\\chi_1$"
     ]
    },
    {
     "cell_type": "code",
     "collapsed": false,
     "input": [
      "fig = plt.figure()\n",
      "ax = fig.add_subplot(111, projection='3d')\n",
      "ax.plot(chi1_NR[:,0], chi1_NR[:,1], chi1_NR[:,2]);\n",
      "for Tn in ['T1', 'T4', 'T5']:\n",
      "    exec(\"\"\"ax.plot(chi1_T1[:,0], chi1_T1[:,1], chi1_T1[:,2])\"\"\".replace('T1', Tn))\n",
      "tight_layout(pad=0.1);\n",
      "title(r'$\\vec{\\chi}_1$');\n",
      "#savefig('chi1.pdf');"
     ],
     "language": "python",
     "metadata": {},
     "outputs": [],
     "prompt_number": 9
    },
    {
     "cell_type": "markdown",
     "metadata": {},
     "source": [
      "Plot $\\chi_2$"
     ]
    },
    {
     "cell_type": "code",
     "collapsed": false,
     "input": [
      "fig = plt.figure()\n",
      "ax = fig.add_subplot(111, projection='3d')\n",
      "ax.plot(chi2_NR[:,0], chi2_NR[:,1], chi2_NR[:,2]);\n",
      "for Tn in ['T1', 'T4', 'T5']:\n",
      "    exec(\"\"\"ax.plot(chi2_T1[:,0], chi2_T1[:,1], chi2_T1[:,2])\"\"\".replace('T1', Tn))\n",
      "tight_layout(pad=0.1);\n",
      "title(r'$\\vec{\\chi}_2$');\n",
      "#savefig('chi2.pdf');"
     ],
     "language": "python",
     "metadata": {},
     "outputs": [],
     "prompt_number": 10
    },
    {
     "cell_type": "code",
     "collapsed": false,
     "input": [],
     "language": "python",
     "metadata": {},
     "outputs": [],
     "prompt_number": 10
    }
   ],
   "metadata": {}
  }
 ]
}