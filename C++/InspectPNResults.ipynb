{
 "metadata": {
  "name": ""
 },
 "nbformat": 3,
 "nbformat_minor": 0,
 "worksheets": [
  {
   "cells": [
    {
     "cell_type": "code",
     "collapsed": false,
     "input": [
      "%pylab osx"
     ],
     "language": "python",
     "metadata": {},
     "outputs": [
      {
       "output_type": "stream",
       "stream": "stdout",
       "text": [
        "Populating the interactive namespace from numpy and matplotlib\n"
       ]
      }
     ],
     "prompt_number": 1
    },
    {
     "cell_type": "code",
     "collapsed": false,
     "input": [
      "import Quaternions\n",
      "import matplotlib.pyplot as plt\n",
      "from mpl_toolkits.mplot3d import Axes3D"
     ],
     "language": "python",
     "metadata": {},
     "outputs": [],
     "prompt_number": 2
    },
    {
     "cell_type": "markdown",
     "metadata": {},
     "source": [
      "Load data from files"
     ]
    },
    {
     "cell_type": "code",
     "collapsed": false,
     "input": [
      "Omega_NR = loadtxt('//Users/boyle/Research/Current/PrecessingPNComparison/BoyleNotes/OmegaVector.dat')\n",
      "t_NR = Omega_NR[:,0]\n",
      "Omega_NR = Omega_NR[:,1:]\n",
      "OmegaHat_NR = array([o/norm(o) for o in Omega_NR])\n",
      "\n",
      "Command=\"\"\"\n",
      "t_T1 = Data_T1[:,0]\n",
      "R_T1 = array([Quaternions.Quaternion(R) for R in Data_T1[:,8:12]])\n",
      "Omega_T1 = array([v**3*(R*Quaternions.zHat*R.conjugate()).vec() for v,R in zip(Data_T1[:,1],R_T1)])\n",
      "OmegaHat_T1 = array([(R*Quaternions.zHat*R.conjugate()).vec() for R in R_T1])\n",
      "chi1_T1 = array(Data_T1[:,2:5])\n",
      "chi1Hat_T1 = array([v/norm(v) for v in chi1_T1])\n",
      "chi2_T1 = array(Data_T1[:,5:8])\n",
      "chi2Hat_T1 = array([v/norm(v) for v in chi2_T1])\n",
      "\"\"\"\n",
      "\n",
      "for Q in ['', '_Q']:\n",
      "    for Tn in ['T1', 'T4', 'T5']:\n",
      "        exec(\"\"\"Data_{0}{1} = loadtxt('EvolvePN_{0}_3p5PN{1}.dat')\"\"\".format(Tn,Q))\n",
      "        exec(Command.replace('T1',Tn+Q))"
     ],
     "language": "python",
     "metadata": {},
     "outputs": [],
     "prompt_number": 12
    },
    {
     "cell_type": "markdown",
     "metadata": {},
     "source": [
      "Plot the angular velocities"
     ]
    },
    {
     "cell_type": "code",
     "collapsed": false,
     "input": [
      "fig = plt.figure()\n",
      "ax = fig.add_subplot(111, projection='3d')\n",
      "ax.plot(OmegaHat_NR[:,0], OmegaHat_NR[:,1], OmegaHat_NR[:,2])\n",
      "for Q in ['', '_Q']:\n",
      "    for Tn in ['T1', 'T4', 'T5']:\n",
      "        exec(\"\"\"ax.plot(OmegaHat_T1[:,0], OmegaHat_T1[:,1], OmegaHat_T1[:,2])\"\"\".replace('T1', Tn+Q))\n",
      "tight_layout(pad=0.1);\n",
      "title(r'$\\hat{\\Omega}$');"
     ],
     "language": "python",
     "metadata": {},
     "outputs": [],
     "prompt_number": 14
    },
    {
     "cell_type": "markdown",
     "metadata": {},
     "source": [
      "Plot $\\chi_1$"
     ]
    },
    {
     "cell_type": "code",
     "collapsed": false,
     "input": [
      "fig = plt.figure()\n",
      "ax = fig.add_subplot(111, projection='3d')\n",
      "for Tn in ['T1', 'T4', 'T5']:\n",
      "    exec(\"\"\"ax.plot(chi1Hat_T1[:,0], chi1Hat_T1[:,1], chi1Hat_T1[:,2])\"\"\".replace('T1', Tn))\n",
      "tight_layout(pad=0.1);\n",
      "title(r'$\\hat{\\chi}_1$');"
     ],
     "language": "python",
     "metadata": {},
     "outputs": [],
     "prompt_number": 7
    },
    {
     "cell_type": "markdown",
     "metadata": {},
     "source": [
      "Plot $\\chi_2$"
     ]
    },
    {
     "cell_type": "code",
     "collapsed": false,
     "input": [
      "fig = plt.figure()\n",
      "ax = fig.add_subplot(111, projection='3d')\n",
      "for Tn in ['T1', 'T4', 'T5']:\n",
      "    exec(\"\"\"ax.plot(chi2Hat_T1[:,0], chi2Hat_T1[:,1], chi2Hat_T1[:,2])\"\"\".replace('T1', Tn))\n",
      "tight_layout(pad=0.1);\n",
      "title(r'$\\hat{\\chi}_2$');"
     ],
     "language": "python",
     "metadata": {},
     "outputs": [],
     "prompt_number": 8
    },
    {
     "cell_type": "code",
     "collapsed": false,
     "input": [],
     "language": "python",
     "metadata": {},
     "outputs": []
    }
   ],
   "metadata": {}
  }
 ]
}