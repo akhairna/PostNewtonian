{
 "metadata": {
  "name": ""
 },
 "nbformat": 3,
 "nbformat_minor": 0,
 "worksheets": [
  {
   "cells": [
    {
     "cell_type": "code",
     "collapsed": false,
     "input": [
      "%pylab --no-import-all inline\n",
      "#%pylab --no-import-all osx\n",
      "%config InlineBackend.figure_format='png' # SVG plots can get really slow if the evolutions are long"
     ],
     "language": "python",
     "metadata": {},
     "outputs": [
      {
       "output_type": "stream",
       "stream": "stdout",
       "text": [
        "Populating the interactive namespace from numpy and matplotlib\n"
       ]
      }
     ],
     "prompt_number": 1
    },
    {
     "cell_type": "code",
     "collapsed": false,
     "input": [
      "import os, os.path\n",
      "import h5py\n",
      "import matplotlib.pyplot as plt\n",
      "from mpl_toolkits.mplot3d import Axes3D\n",
      "import PNEvolution\n",
      "import Quaternions"
     ],
     "language": "python",
     "metadata": {},
     "outputs": [
      {
       "ename": "ImportError",
       "evalue": "dlopen(/Users/boyle/Library/Python/2.7/lib/python/site-packages/_PNEvolution.so, 2): Symbol not found: __ZTI13WaveformModes\n  Referenced from: /Users/boyle/Library/Python/2.7/lib/python/site-packages/_PNEvolution.so\n  Expected in: flat namespace\n in /Users/boyle/Library/Python/2.7/lib/python/site-packages/_PNEvolution.so",
       "output_type": "pyerr",
       "traceback": [
        "\u001b[0;31m---------------------------------------------------------------------------\u001b[0m\n\u001b[0;31mImportError\u001b[0m                               Traceback (most recent call last)",
        "\u001b[0;32m<ipython-input-3-2bd0a1a1b35a>\u001b[0m in \u001b[0;36m<module>\u001b[0;34m()\u001b[0m\n\u001b[1;32m      3\u001b[0m \u001b[0;32mimport\u001b[0m \u001b[0mmatplotlib\u001b[0m\u001b[0;34m.\u001b[0m\u001b[0mpyplot\u001b[0m \u001b[0;32mas\u001b[0m \u001b[0mplt\u001b[0m\u001b[0;34m\u001b[0m\u001b[0m\n\u001b[1;32m      4\u001b[0m \u001b[0;32mfrom\u001b[0m \u001b[0mmpl_toolkits\u001b[0m\u001b[0;34m.\u001b[0m\u001b[0mmplot3d\u001b[0m \u001b[0;32mimport\u001b[0m \u001b[0mAxes3D\u001b[0m\u001b[0;34m\u001b[0m\u001b[0m\n\u001b[0;32m----> 5\u001b[0;31m \u001b[0;32mimport\u001b[0m \u001b[0mPNEvolution\u001b[0m\u001b[0;34m\u001b[0m\u001b[0m\n\u001b[0m\u001b[1;32m      6\u001b[0m \u001b[0;32mimport\u001b[0m \u001b[0mQuaternions\u001b[0m\u001b[0;34m\u001b[0m\u001b[0m\n",
        "\u001b[0;32m/Users/boyle/Research/PostNewtonian/C++/PNEvolution/__init__.py\u001b[0m in \u001b[0;36m<module>\u001b[0;34m()\u001b[0m\n\u001b[1;32m     26\u001b[0m                 \u001b[0mfp\u001b[0m\u001b[0;34m.\u001b[0m\u001b[0mclose\u001b[0m\u001b[0;34m(\u001b[0m\u001b[0;34m)\u001b[0m\u001b[0;34m\u001b[0m\u001b[0m\n\u001b[1;32m     27\u001b[0m             \u001b[0;32mreturn\u001b[0m \u001b[0m_mod\u001b[0m\u001b[0;34m\u001b[0m\u001b[0m\n\u001b[0;32m---> 28\u001b[0;31m     \u001b[0m_PNEvolution\u001b[0m \u001b[0;34m=\u001b[0m \u001b[0mswig_import_helper\u001b[0m\u001b[0;34m(\u001b[0m\u001b[0;34m)\u001b[0m\u001b[0;34m\u001b[0m\u001b[0m\n\u001b[0m\u001b[1;32m     29\u001b[0m     \u001b[0;32mdel\u001b[0m \u001b[0mswig_import_helper\u001b[0m\u001b[0;34m\u001b[0m\u001b[0m\n\u001b[1;32m     30\u001b[0m \u001b[0;32melse\u001b[0m\u001b[0;34m:\u001b[0m\u001b[0;34m\u001b[0m\u001b[0m\n",
        "\u001b[0;32m/Users/boyle/Research/PostNewtonian/C++/PNEvolution/__init__.py\u001b[0m in \u001b[0;36mswig_import_helper\u001b[0;34m()\u001b[0m\n\u001b[1;32m     18\u001b[0m             \u001b[0mfp\u001b[0m\u001b[0;34m,\u001b[0m \u001b[0mpathname\u001b[0m\u001b[0;34m,\u001b[0m \u001b[0mdescription\u001b[0m \u001b[0;34m=\u001b[0m \u001b[0mimp\u001b[0m\u001b[0;34m.\u001b[0m\u001b[0mfind_module\u001b[0m\u001b[0;34m(\u001b[0m\u001b[0;34m'_PNEvolution'\u001b[0m\u001b[0;34m,\u001b[0m \u001b[0;34m[\u001b[0m\u001b[0mdirname\u001b[0m\u001b[0;34m(\u001b[0m\u001b[0m__file__\u001b[0m\u001b[0;34m)\u001b[0m\u001b[0;34m]\u001b[0m\u001b[0;34m)\u001b[0m\u001b[0;34m\u001b[0m\u001b[0m\n\u001b[1;32m     19\u001b[0m         \u001b[0;32mexcept\u001b[0m \u001b[0mImportError\u001b[0m\u001b[0;34m:\u001b[0m\u001b[0;34m\u001b[0m\u001b[0m\n\u001b[0;32m---> 20\u001b[0;31m             \u001b[0;32mimport\u001b[0m \u001b[0m_PNEvolution\u001b[0m\u001b[0;34m\u001b[0m\u001b[0m\n\u001b[0m\u001b[1;32m     21\u001b[0m             \u001b[0;32mreturn\u001b[0m \u001b[0m_PNEvolution\u001b[0m\u001b[0;34m\u001b[0m\u001b[0m\n\u001b[1;32m     22\u001b[0m         \u001b[0;32mif\u001b[0m \u001b[0mfp\u001b[0m \u001b[0;32mis\u001b[0m \u001b[0;32mnot\u001b[0m \u001b[0mNone\u001b[0m\u001b[0;34m:\u001b[0m\u001b[0;34m\u001b[0m\u001b[0m\n",
        "\u001b[0;31mImportError\u001b[0m: dlopen(/Users/boyle/Library/Python/2.7/lib/python/site-packages/_PNEvolution.so, 2): Symbol not found: __ZTI13WaveformModes\n  Referenced from: /Users/boyle/Library/Python/2.7/lib/python/site-packages/_PNEvolution.so\n  Expected in: flat namespace\n in /Users/boyle/Library/Python/2.7/lib/python/site-packages/_PNEvolution.so"
       ]
      }
     ],
     "prompt_number": 3
    },
    {
     "cell_type": "code",
     "collapsed": false,
     "input": [
      "def vOfOmega(Omega):\n",
      "    return Omega**(1./3.)\n",
      "def OmegaOfv(v):\n",
      "    return v**(3)\n",
      "def norm(v) :\n",
      "    return sqrt(v[0]**2+v[1]**2+v[2]**2)"
     ],
     "language": "python",
     "metadata": {},
     "outputs": []
    },
    {
     "cell_type": "code",
     "collapsed": false,
     "input": [
      "StartFromTEqualsZero = True\n",
      "PNOrders = [0.0, 2.0, 3.5, 6.0]\n",
      "Approximants = [\"T1\", \"T4\", \"T5\"]\n",
      "\n",
      "AnnexDir = '/Users/boyle/Research/Data/SimulationAnnex/Catalog/'\n",
      "if not os.path.isdir(AnnexDir):\n",
      "    AnnexDir = '/mnt/raid-project/nr/boyle/SimulationAnnex/Catalog/'\n",
      "if not os.path.isdir(AnnexDir):\n",
      "    raise IOError(\"Directory '{0}' does not exist\".format(AnnexDir))\n",
      "\n",
      "NRDirs = ['SKS/d10.0_q6.00_sA_0.739_0.190_-0.495_sB_-0.190_0.051_-0.227/Lev3/',\n",
      "          'q1.0/SBBH/d19.0_q1.0_s0.5_0_0_s0_0_0/Lev5/', # Serguei's favorite\n",
      "          'q5.0/SBBH/d15.0_q5.0_s0.5_0_0_s0/Lev5/',\n",
      "          'q5.0/SBBH/d15.0_q5.0_s0_0_0.5_s0/Lev4/']\n",
      "InitialOmegas = [\n",
      "    [1.421005247651657167e-10,  5.015494672470230332e-05, 2.903442067573783203e-02],\n",
      "    [5.434176633374474299e-16, -6.815194916799825440e-06, 1.128607156589968470e-02],\n",
      "    [7.764246764733414600e-16, -2.720085057750848984e-07, 1.580435785321985045e-02],\n",
      "    [-5.133688651140011539e-15, 4.204483349162996808e-13, 1.571170967415409445e-02]]\n",
      "\n",
      "NRDir = NRDirs[0]"
     ],
     "language": "python",
     "metadata": {},
     "outputs": []
    },
    {
     "cell_type": "code",
     "collapsed": false,
     "input": [
      "Approximants = \"T1\"\n",
      "PNOrder = 3.5\n",
      "v0 = 0.04\n",
      "m1 = 0.75\n",
      "m2 = 1-m1\n",
      "chi1_i = [0.5,0.2,0.4]\n",
      "chi2_i = [0.2,0.4,0.5]\n",
      "R_frame_i = Quaternions.Quaternion(1,0,0,0)\n",
      "\n",
      "t,v,chi1,chi2,R_frame,Phi = \\\n",
      "    PNEvolution.EvolvePN_Q(\"Taylor{0}\".format(Approximant), PNOrder, v0, v0, m1, m2, chi1_i, chi2_i, R_frame_i)"
     ],
     "language": "python",
     "metadata": {},
     "outputs": []
    }
   ],
   "metadata": {}
  }
 ]
}