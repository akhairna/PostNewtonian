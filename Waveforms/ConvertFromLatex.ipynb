{
 "metadata": {
  "name": "",
  "signature": "sha256:265c424e1f46ab92356c62dde6fe3ed668f060df67bbd407eb3c3a43c5da21e1"
 },
 "nbformat": 3,
 "nbformat_minor": 0,
 "worksheets": [
  {
   "cells": [
    {
     "cell_type": "code",
     "collapsed": false,
     "input": [
      "# Always run this first\n",
      "# NOTE: Do not define new basic variables in this notebook;\n",
      "#       define them in Variables.ipynb.  Use this notebook\n",
      "#       to define new expressions built from those variables.\n",
      "\n",
      "from __future__ import division # This needs to be here, even though it's in Variables.py\n",
      "import sys\n",
      "sys.path.insert(0, '..') # Look for modules in directory above this one\n",
      "execfile('../Utilities/ExecNotebook.ipy')\n",
      "#try: execnotebook(VariablesNotebook)\n",
      "#except: execnotebook('../PNTerms/Variables.ipynb')\n",
      "from sympy import *\n",
      "from sympy.core import Function\n",
      "import re"
     ],
     "language": "python",
     "metadata": {},
     "outputs": [],
     "prompt_number": 28
    },
    {
     "cell_type": "code",
     "collapsed": false,
     "input": [
      "var('delta,m,nu,gamma,r,v,lambdaHat,epsilon,ell')\n",
      "var('jk,jkl,jklm,jklmn,jklmno,jklmnop,jklmnopq') # Index sets Blanchet uses\n",
      "var('Subscript', cls=Function);"
     ],
     "language": "python",
     "metadata": {},
     "outputs": [],
     "prompt_number": 29
    },
    {
     "cell_type": "code",
     "collapsed": false,
     "input": [
      "MathKernel='/Applications/Local/Mathematica.app/Contents/MacOS/MathKernel'\n",
      "\n",
      "# This little `math` script does the conversion we need.\n",
      "# It has to output to a temporary file because I know of no\n",
      "# other way to get the correct format out of Mathematica.\n",
      "MathCommand = r\"\"\"\n",
      "    \\[Nu] = nu;\n",
      "    \\[CapitalDelta] = delta;\n",
      "    \\[Lambda] = lambda;\n",
      "    \\[Gamma] = gamma;\n",
      "    \\[Epsilon] = epsilon;\n",
      "    \\[Gamma]\\[Nu] = gamma*nu;\n",
      "    ToExpression[\"{0}\", TeXForm] >> /tmp/Math.cpp\n",
      "    Exit[];\n",
      "\"\"\"\n",
      "\n",
      "#MultipoleNames = [\"I_ijk\", \"J_ijk\"]\n",
      "MultipoleNames = [\"J_ijk\"]\n",
      "\n",
      "multiplication = r'\\,'\n",
      "\n",
      "def TensorCreator(coefficient, vector):\n",
      "    def func(match):\n",
      "        indices = list(match.group(1))\n",
      "        return vector + '_{%s}'%match.group(1) + multiplication + coefficient + '^{%s}'%len(indices)\n",
      "    return func\n",
      "replacements = [[r'.*?&= *',r''],\n",
      "                [r' *\\+ *\\\\mathcal{O}.*',r''],\n",
      "                [r'\\\\,', multiplication], # This gets us a good chunk of the way, if we're lucky\n",
      "                [r'\\\\left(\\(|\\[|\\\\{)',r'('],\n",
      "                [r'\\\\right(\\)|\\]|\\\\})',r')'],\n",
      "                [r'\\\\left\\.',r''], # Do this BEFORE replacing \\left\n",
      "                [r'\\\\right\\.',r''], # Do this BEFORE replacing \\right\n",
      "                [r'\\\\right',r''],\n",
      "                [r'\\\\left',r''],\n",
      "                [r'\\\\right',r''],\n",
      "                [r'\\\\langle',r''], # The YlmTensors are already STF\n",
      "                [r'\\\\rangle',r''], # The YlmTensors are already STF\n",
      "                [r'\\\\\\\\',r''], # Line breask are meaningless\n",
      "                [r'&',r''], # Alignments are meaningless\n",
      "                [r'\\\\nonumber',r''], # I wasn't gonna anyway\n",
      "                [r'~',r''], # Explicit spacing is useless\n",
      "                [r'\\{*x\\}*_{ *(.*?) *}',TensorCreator('r', 'n')],\n",
      "                [r'\\{*v\\}*_{ *(.*?) *}',TensorCreator('v', r'\\lambda')],\n",
      "                [r'  *',r' '],\n",
      "                [r'\\(',r'\\,('],\n",
      "                ['\\\\\\\\',r'\\\\\\\\'],]\n",
      "for MultipoleName in MultipoleNames:\n",
      "    print(\"Raw content of {0}\\n\".format(MultipoleName))\n",
      "    with open(\"source/BlanchetLivRev/\"+MultipoleName+\".tex\", \"r\") as myfile:\n",
      "        data=myfile.read().replace('\\n', ' ')\n",
      "    print(data)\n",
      "    print(\"\\nbecomes\\n\")\n",
      "    for replacement in replacements:\n",
      "        data = re.sub(replacement[0], replacement[1], data)\n",
      "    print(\"'{0}'\".format(data))\n",
      "    ! {MathKernel} -run '{MathCommand.format(data)}' >& /dev/null\n",
      "    Math = !cat /tmp/Math.cpp\n",
      "    Math = ''.join(Math).replace('^','**').replace('lambda','lambdaHat').replace('[','(').replace(']',')')\n",
      "    print(\"\\nbecomes\\n\")\n",
      "    print(Math)\n",
      "    print(\"\\n\\n\")"
     ],
     "language": "python",
     "metadata": {},
     "outputs": [
      {
       "output_type": "stream",
       "stream": "stdout",
       "text": [
        "Raw content of J_ijk\n",
        "\n",
        "\\mathrm{J}_{ijk} &= \\nu\\,m \\,\\left\\{ \\epsilon_{ab\\langle i} x_{jk\\rangle a} v_b \\left[1 - 3\\nu + \\gamma \\left({181\\over 90} -   {109\\over 18}\\nu + {13\\over 18}\\nu^2\\right)\\right. \\right.\\nonumber   \\\\ &~~+\\left.\\left. \\gamma^2\\left({1469\\over3960}-{5681\\over264}\\nu   +{48403\\over660}\\nu^2-{559\\over3960}\\nu^3\\right)\\right]\\right.\\nonumber \\\\ &~~+\\left.{r^2\\over c^2}\\,\\epsilon_{ab\\langle i}x_a v_{jk\\rangle   b}\\left[{7\\over45}\\left(1 - 5\\nu +   5\\nu^2\\right)+\\gamma\\left({1621\\over990}-{4879\\over990}\\nu+{1084\\over495}\\nu^2   -{259\\over990}\\nu^3\\right)\\right]\\right\\} \\nonumber \\\\ &~~+\\mathcal{O}\\left(\\frac{1}{c^5}\\right)\\,.\\label{J3}\\\\ \n",
        "\n",
        "becomes\n",
        "\n",
        "'\\\\nu\\\\,m \\\\,\\\\,( \\\\epsilon_{ab i} n_{jk a}\\\\,r^{4} v_b \\\\,(1 - 3\\\\nu + \\\\gamma \\\\,({181\\\\over 90} - {109\\\\over 18}\\\\nu + {13\\\\over 18}\\\\nu^2) + \\\\gamma^2\\\\,({1469\\\\over3960}-{5681\\\\over264}\\\\nu +{48403\\\\over660}\\\\nu^2-{559\\\\over3960}\\\\nu^3)) +{r^2\\\\over c^2}\\\\,\\\\epsilon_{ab i}x_a \\\\lambda_{jk b}\\\\,v^{6}\\\\,({7\\\\over45}\\\\,(1 - 5\\\\nu + 5\\\\nu^2)+\\\\gamma\\\\,({1621\\\\over990}-{4879\\\\over990}\\\\nu+{1084\\\\over495}\\\\nu^2 -{259\\\\over990}\\\\nu^3))) '\n"
       ]
      },
      {
       "output_type": "stream",
       "stream": "stdout",
       "text": [
        "\n",
        "becomes\n",
        "\n",
        "m*nu*((1 - 3*nu + gamma*(181/90 - (109*nu)/18 + (13*nu**2)/18) +     gamma**2*(1469/3960 - (5681*nu)/264 + (48403*nu**2)/660 - (559*nu**3)/3960))*   r**4*Subscript(epsilon, abi)*Subscript(n, jka)*Subscript(v, b) +   (((7*(1 - 5*nu + 5*nu**2))/45 + gamma*(1621/990 - (4879*nu)/990 +        (1084*nu**2)/495 - (259*nu**3)/990))*r**2*v**6*Subscript(epsilon, abi)*    Subscript(lambdaHat, jkb)*Subscript(x, a))/c**2)\n",
        "\n",
        "\n",
        "\n"
       ]
      }
     ],
     "prompt_number": 35
    },
    {
     "cell_type": "code",
     "collapsed": false,
     "input": [
      "S(Math, locals=locals())"
     ],
     "language": "python",
     "metadata": {},
     "outputs": [
      {
       "metadata": {},
       "output_type": "pyout",
       "prompt_number": 36,
       "text": [
        "m*nu*(r**4*(gamma**2*(-559*nu**3/3960 + 48403*nu**2/660 - 5681*nu/264 + 1469/3960) + gamma*(13*nu**2/18 - 109*nu/18 + 181/90) - 3*nu + 1)*Subscript(epsilon, abi)*Subscript(n, jka)*Subscript(v, b) + r**2*v**6*(gamma*(-259*nu**3/990 + 1084*nu**2/495 - 4879*nu/990 + 1621/990) + 7*nu**2/9 - 7*nu/9 + 7/45)*Subscript(epsilon, abi)*Subscript(lambdaHat, jkb)*Subscript(x, a)/c**2)"
       ]
      }
     ],
     "prompt_number": 36
    },
    {
     "cell_type": "code",
     "collapsed": false,
     "input": [],
     "language": "python",
     "metadata": {},
     "outputs": []
    }
   ],
   "metadata": {}
  }
 ]
}