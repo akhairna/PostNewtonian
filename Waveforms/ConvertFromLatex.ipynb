{
 "metadata": {
  "name": "",
  "signature": "sha256:2f33c608ec1700343ed50288a71b4e76986547d2fb18820771cad325bbe25249"
 },
 "nbformat": 3,
 "nbformat_minor": 0,
 "worksheets": [
  {
   "cells": [
    {
     "cell_type": "code",
     "collapsed": false,
     "input": [
      "from sympy.core.cache import *\n",
      "clear_cache()"
     ],
     "language": "python",
     "metadata": {},
     "outputs": [],
     "prompt_number": 1
    },
    {
     "cell_type": "code",
     "collapsed": false,
     "input": [
      "from __future__ import division, print_function\n",
      "import sympy\n",
      "from sympy import *\n",
      "from sympy import Rational as frac\n",
      "import re\n",
      "import simpletensors\n",
      "from simpletensors import Vector, xHat, yHat, zHat\n",
      "from simpletensors import TensorProduct, SymmetricTensorProduct, Tensor, ReduceExpr\n",
      "import sphericalharmonictensors\n",
      "init_printing()\n",
      "\n",
      "\n",
      "var('mu,ell,A,B,C,epsilon')\n",
      "var('jk,jkl,jklm,jklmn,jklmno,jklmnop,jklmnopq') # Index sets Blanchet uses\n",
      "var('i,j,k,l,m,n,o') # Indices Boh\u00e9 et al. use\n",
      "#var('Subscript', cls=Function); # Mathematica will return this, so let's just pretend it exists\n",
      "var('vartheta, varphi')\n",
      "var('nu, m, delta, c, t')\n",
      "\n",
      "# These are related scalar functions of time\n",
      "var('v, gamma, r', cls=Function)\n",
      "v = v(t)\n",
      "x = v**2\n",
      "Omega = v**3\n",
      "# gamma = v**2*(1 + (1-nu/3)*v**2 + (1-65*nu/12)*v**4) # APPROXIMATELY!!!  Change this later\n",
      "# dvdt = \n",
      "#r = 1/gamma\n",
      "gamma = gamma(t)\n",
      "r = r(t)\n",
      "r = 1/v**2 # APPROXIMATELY!!!  Just for testing.  Change this later\n",
      "\n",
      "# These get redefined momentarily, but have to exist first\n",
      "var('nHat, lambdaHat, ellHat', cls=Function)\n",
      "# And now we define them as vector functions of time\n",
      "nHat = Vector('nHat', r'\\hat{n}', [cos(Omega*t),sin(Omega*t),0,])(t)\n",
      "lambdaHat = Vector('lambdaHat', r'\\hat{\\lambda}', [-sin(Omega*t),cos(Omega*t),0,])(t)\n",
      "ellHat = Vector('ellHat', r'\\hat{\\ell}', [0,0,1,])(t)\n",
      "\n",
      "# These are the spin functions -- first, the individual components as regular sympy.Function objects; then the vectors themselves\n",
      "var('S_n, S_lambda, S_ell', cls=Function)\n",
      "var('Sigma_n, Sigma_lambda, Sigma_ell', cls=Function)\n",
      "SigmaVec = Vector('SigmaVec', r'\\vec{\\Sigma}', [Sigma_n(t), Sigma_lambda(t), Sigma_ell(t)])(t)\n",
      "SVec = Vector('S', r'\\vec{S}', [S_n(t), S_lambda(t), S_ell(t)])(t)"
     ],
     "language": "python",
     "metadata": {},
     "outputs": [],
     "prompt_number": 2
    },
    {
     "cell_type": "code",
     "collapsed": false,
     "input": [
      "DropSpinDerivatives = {diff(q(t),t,i).subs(t,0):0 for i in range(1,9)\n",
      "                       for q in [Sigma_n, Sigma_ell, Sigma_lambda, S_n, S_ell, S_lambda]}\n",
      "DropvDerivatives = {(diff(v,t,i).subs(t,0))**j:0 for i in range(1,9) for j in range(1,9) if i+j>=s3}"
     ],
     "language": "python",
     "metadata": {},
     "outputs": [],
     "prompt_number": 48
    },
    {
     "cell_type": "code",
     "collapsed": false,
     "input": [
      "Math={}\n",
      "Sym={}"
     ],
     "language": "python",
     "metadata": {},
     "outputs": [],
     "prompt_number": 3
    },
    {
     "cell_type": "code",
     "collapsed": false,
     "input": [
      "def TensorProductCreator(vec,indices):\n",
      "    try:\n",
      "        rank = len(indices)\n",
      "    except TypeError:\n",
      "        rank = len(indices.name)\n",
      "    return TensorProduct(*((vec,)*rank))"
     ],
     "language": "python",
     "metadata": {},
     "outputs": [],
     "prompt_number": 4
    },
    {
     "cell_type": "code",
     "collapsed": false,
     "input": [
      "class DumbTensor(Symbol):\n",
      "    _op_priority = 100.0\n",
      "    @classmethod\n",
      "    def NewDummy(cls, vecs, coefficient=1):\n",
      "        d = DumbTensor('*'.join(v.name for v in vecs))\n",
      "        d.vecs = vecs\n",
      "        d.coefficient = coefficient\n",
      "        return d\n",
      "    def _latex(self, printer):\n",
      "        return r'\\langle '+self.name+r'\\rangle '\n",
      "    def __mul__(self, other):\n",
      "        if(isinstance(other, DumbTensor)):\n",
      "            return DumbTensor.NewDummy(self.vecs+other.vecs, self.coefficient*other.coefficient)\n",
      "        else:\n",
      "            return DumbTensor.NewDummy(self.vecs, self.coefficient*other)\n",
      "    def __rmul__(self, other):\n",
      "        if(isinstance(other, DumbTensor)):\n",
      "            return DumbTensor.NewDummy(other.vecs+self.vecs, self.coefficient*other.coefficient)\n",
      "        else:\n",
      "            return DumbTensor.NewDummy(self.vecs, self.coefficient*other)\n",
      "\n",
      "class DumbTensor(Symbol):\n",
      "    _op_priority = 1.0e200\n",
      "    def __mul__(self, other):\n",
      "        return DumbTensor('gob('+self.name+'*'+str(other)+')')\n",
      "    def __rmul__(self, other):\n",
      "        return DumbTensor('gob('+self.name+'*'+str(other)+')')\n",
      "\n",
      "def Subscript(vec, indices):\n",
      "    try:\n",
      "        indices_str = indices.name\n",
      "    except AttributeError:\n",
      "        indices_str = indices\n",
      "    return TensorProduct([vec,]*len(indices_str), coefficient=1, symmetric=True)\n",
      "    #return DumbTensor('*'.join(v.name for v in [vec,]*len(indices_str)))\n",
      "    #return DumbTensor.NewDummy([vec,]*len(indices_str))"
     ],
     "language": "python",
     "metadata": {},
     "outputs": [],
     "prompt_number": 5
    },
    {
     "cell_type": "code",
     "collapsed": false,
     "input": [
      "ns = {'Subscript':Subscript, 'DumbTensor':DumbTensor}\n",
      "ns = locals()"
     ],
     "language": "python",
     "metadata": {},
     "outputs": [],
     "prompt_number": 6
    },
    {
     "cell_type": "code",
     "collapsed": false,
     "input": [
      "MathKernel='/Applications/Local/Mathematica.app/Contents/MacOS/MathKernel'\n",
      "\n",
      "# This little `math` script does the conversion we need.\n",
      "# It has to output to a temporary file because I know of no\n",
      "# better way to get the correct format out of Mathematica.\n",
      "# This whole thing\n",
      "MathCommand = r\"\"\"\n",
      "    \\[Nu] = nu;\n",
      "    \\[Mu] = mu;\n",
      "    \\[CapitalDelta] = delta;\n",
      "    \\[Delta] = delta;\n",
      "    \\[Lambda] = lambda;\n",
      "    \\[CapitalSigma] = Sigma;\n",
      "    \\[Gamma] = gamma;\n",
      "    \\[Epsilon] = epsilon;\n",
      "    \\[Gamma]\\[Nu] = gamma*nu;\n",
      "    \\[ScriptL] = ell;\n",
      "    (*Print[InputForm[ToExpression[\"{0}\", TeXForm]]];*)\n",
      "    ToExpression[\"{0}\", TeXForm] >> /tmp/Math.cpp;\n",
      "    Exit[];\n",
      "\"\"\"\n",
      "\n",
      "# # I believe all the results from this group:\n",
      "# SrcDir = \"source/BlanchetLivRev/\"\n",
      "# MultipoleNames = [\"I_ij\", \"I_ij_A\", \"I_ij_B\", \"I_ij_C\", \"J_ij\", \"I_ijk\", \"J_ijk\", \"I_ijkl\", \"J_ijkl\"]\n",
      "\n",
      "# # I believe all the results from this group:\n",
      "# SrcDir = \"source/BoheEtAl/eqs/\"\n",
      "# MultipoleNames = [\"IijklCMS\", \"JijklCMS\",\"JijkCMS\",]\n",
      "\n",
      "# # I mostly believe the results from this group, but\n",
      "# # I don't have the patience to check them all:\n",
      "# SrcDir = \"source/BoheEtAl/eqs/\"\n",
      "# MultipoleNames = [\"IijkCMS\", \"IijCMS\", \"JijCMS\",]\n",
      "\n",
      "SrcDir = \"source/BoheEtAl/eqs/\"\n",
      "MultipoleNames = [\"JijklCMS\",]\n",
      "\n",
      "multiplication = r'\\,'\n",
      "\n",
      "def TensorCreator(coefficient, vector):\n",
      "    \"Used in the regex wars (below)\"\n",
      "    def func(match):\n",
      "        indices = list(match.group(1))\n",
      "        if not coefficient:\n",
      "            return vector + '_{%s}'%match.group(1)\n",
      "        return vector + '_{%s}'%match.group(1) + multiplication + coefficient + '^{%s}'%len(indices)\n",
      "    return func\n",
      "\n",
      "prereplacements = [\n",
      "    [r'\\\\\\\\',r''], # Line breask are meaningless\n",
      "    [r'&',r''], # Alignments are meaningless\n",
      "    [r'\\\\nonumber',r''], # I wasn't gonna anyway\n",
      "    [r'~',r''], # Explicit spacing is useless\n",
      "    [r'\\\\q*uad',r''], # Explicit spacing is useless\n",
      "    [r'.*?= *',r''],\n",
      "    [r' *\\+ *\\\\mathcal{O}.*',r''],\n",
      "    [r'\\(n,\\\\*(Sigma|S) *,v\\)',\n",
      "     r'\\mathrm{ndot\\1dotv}'], # Catch Boh\u00e9 et al.'s use of (n,S,v), (n,Sigma,v), for the triple product\n",
      "    [r'\\(\\\\*(n|v|S|Sigma) *\\\\*(n|v|S|Sigma) *\\)',\n",
      "     r'\\mathrm{\\1dot\\2}'], # Catch Boh\u00e9 et al.'s use of (nv), etc., for the dot product\n",
      "    #[r'\\\\,', multiplication], # This gets us a good chunk of the way, if we're lucky\n",
      "    [r'(\\\\langle|\\\\rangle|<|>)',r''], # The YlmTensors are already STF\n",
      "    [r'\\\\epsilon_\\{ab *i\\}(.*?)(\\{*.\\}*)(_.*?)a(.*?)(\\{*.\\}*)(_.*?)b',\n",
      "     r'r\\,v\\,\\ell_i\\, \\1\\2\\3 \\4\\5\\6 '], # Do the cross product\n",
      "    [r'\\{*x\\}*_(\\{\\}| )', ''], # Remove stubs left from above\n",
      "    [r'\\{*v\\}*_(\\{\\}| )', ''], # Remove stubs left from above\n",
      "    [r'\\\\left(\\(|\\[|\\\\{)',r'('],\n",
      "    [r'\\\\right(\\)|\\]|\\\\})',r')'],\n",
      "    [r'\\\\(B|b)ig+(\\(|\\[|\\\\{)',r'('],\n",
      "    [r'\\\\(B|b)ig+(\\)|\\]|\\\\})',r')'],\n",
      "    [r'\\\\left\\.',r''], # Do this BEFORE replacing \\left\n",
      "    [r'\\\\right\\.',r''], # Do this BEFORE replacing \\right\n",
      "    [r'\\\\left',r''],\n",
      "    [r'\\\\right',r''],\n",
      "    [r'\\(\\\\mathbf{\\\\*(.*?)}\\\\times\\\\mathbf{\\\\*(.*?)}\\)',\n",
      "     r'\\mathrm{\\1times\\2}'],\n",
      "    [r'\\^\\{([ijkl])\\}',r'_{\\1}'],\n",
      "    [r'n_{ *(.*?) *}',TensorCreator('', 'n')],\n",
      "    [r'x_{ *(.*?) *}',TensorCreator('r', 'n')],\n",
      "    [r'\\{x\\}_{ *(.*?) *}',TensorCreator('r', 'n')],\n",
      "    [r'v_{ *(.*?) *}',TensorCreator('v', r'\\lambda')],\n",
      "    [r'\\{v\\}_{ *(.*?) *}',TensorCreator('v', r'\\lambda')],\n",
      "    [r'  *',r' '], # Tighten up spacing\n",
      "    [r'\\(',r'\\,('], # Doesn't hurt to assume multiplication\n",
      "    [r'([^\\\\]),',r'\\1'], # Remove comma at the end of an equation\n",
      "    [r'([^\\\\])\\.',r'\\1'], # Remove period at the end of an equation\n",
      "    [r'\\\\ln *\\\\*,*',r'\\log'],\n",
      "    ['\\\\\\\\',r'\\\\\\\\'], # Escape backslashes for Mathematica\n",
      "    [r\"'\",r\"Prm\"],\n",
      "    #[r\"'\",r\"'\\''\"], # Pull the ugly command-line single-quote hack AFTER escaping backslashes\n",
      "]\n",
      "\n",
      "postreplacements = [\n",
      "    [r'\\^',r'**'],\n",
      "    [r'lambda',r'lambdaHat'],\n",
      "    [r'\\[',r'('],\n",
      "    [r'\\]',r')'],\n",
      "    [r'Sigma',r'SigmaVec'],\n",
      "    [r'S(?!igma|ubscript)',r'SVec'],\n",
      "    [r'n(?!u)',r'nHat'],\n",
      "    [r'ell',r'ellHat'],\n",
      "    #[r'Subscript',r'TensorProductCreator'],\n",
      "]\n",
      "\n",
      "for MultipoleName in MultipoleNames:\n",
      "    print(MultipoleName)\n",
      "    with open(SrcDir+MultipoleName+\".tex\", \"r\") as myfile:\n",
      "        data=myfile.read().replace('\\n', ' ')\n",
      "    #print(\"Raw content of {0}:\\n\".format(MultipoleName)); print(data)\n",
      "    for replacement in prereplacements:\n",
      "        data = re.sub(replacement[0], replacement[1], data)\n",
      "    #print(\"\\nbecomes\\n\"); print(\"\"\"'{0}'\"\"\".format(data))\n",
      "    #! echo '{MathCommand.format(data)}'\n",
      "    #continue # Skip Mathematica stuff for now\n",
      "    ! {MathKernel} -run '{MathCommand.format(data)}' >& /dev/null\n",
      "    MathTmp = !cat /tmp/Math.cpp\n",
      "    Math[MultipoleName] = ''.join(MathTmp)#.replace('^','**').replace('lambda','lambdaHat').replace('[','(').replace(']',')')\n",
      "    for replacement in postreplacements:\n",
      "        Math[MultipoleName] = re.sub(replacement[0], replacement[1], Math[MultipoleName])\n",
      "    #print(\"\\nbecomes\\n\"); print(Math[MultipoleName]); print(\"\\nbecomes\\n\")\n",
      "    Sym[MultipoleName] = sympify(Math[MultipoleName], ns)\n",
      "    display(Sym[MultipoleName])\n",
      "    print(\"  reduces to\")\n",
      "    Sym[MultipoleName] = ReduceExpr(Sym[MultipoleName])\n",
      "    display(Sym[MultipoleName])\n",
      "    print(\"\\n\\n\")"
     ],
     "language": "python",
     "metadata": {},
     "outputs": [
      {
       "output_type": "stream",
       "stream": "stdout",
       "text": [
        "JijklCMS\n"
       ]
      },
      {
       "latex": [
        "$$\\begin{align*}\\frac{1}{c} &\\left( \\left\\{ \\left[ \\frac{\\nu \\left(\\frac{15 \\nu}{2} - \\frac{5}{2}\\right)}{v^{6}{\\left (t \\right )}} \\right]\\, \\hat{n} \\otimes_{\\mathrm{s}} \\hat{n} \\otimes_{\\mathrm{s}} \\hat{n} \\otimes_{\\mathrm{s}} \\vec{\\Sigma} \\right\\} \\right. \\nonumber \\\\&\\quad \\left. + \\left\\{ \\left[ - \\frac{5 \\delta \\nu}{2 v^{6}{\\left (t \\right )}} \\right]\\, \\hat{n} \\otimes_{\\mathrm{s}} \\hat{n} \\otimes_{\\mathrm{s}} \\hat{n} \\otimes_{\\mathrm{s}} \\vec{S} \\right\\} \\right)\\end{align*}$$"
       ],
       "metadata": {},
       "output_type": "display_data",
       "png": "[encoded data removed]",
       "text": [
        "TensorFunction\u2082(t)\n",
        "\u2500\u2500\u2500\u2500\u2500\u2500\u2500\u2500\u2500\u2500\u2500\u2500\u2500\u2500\u2500\u2500\u2500\u2500\n",
        "        c         "
       ]
      },
      {
       "output_type": "stream",
       "stream": "stdout",
       "text": [
        "  reduces to\n"
       ]
      },
      {
       "latex": [
        "$$\\begin{align*}&\\left( \\left\\{ \\left[ \\frac{\\nu \\left(\\frac{15 \\nu}{2} - \\frac{5}{2}\\right)}{c v^{6}{\\left (t \\right )}} \\right]\\, \\hat{n} \\otimes_{\\mathrm{s}} \\hat{n} \\otimes_{\\mathrm{s}} \\hat{n} \\otimes_{\\mathrm{s}} \\vec{\\Sigma} \\right\\} \\right. \\nonumber \\\\&\\quad \\left. + \\left\\{ \\left[ - \\frac{5 \\delta \\nu}{2 c v^{6}{\\left (t \\right )}} \\right]\\, \\hat{n} \\otimes_{\\mathrm{s}} \\hat{n} \\otimes_{\\mathrm{s}} \\hat{n} \\otimes_{\\mathrm{s}} \\vec{S} \\right\\} \\right)\\end{align*}$$"
       ],
       "metadata": {},
       "output_type": "display_data",
       "png": "[encoded data removed]",
       "text": [
        "TensorFunction\u2084(t)"
       ]
      },
      {
       "output_type": "stream",
       "stream": "stdout",
       "text": [
        "\n",
        "\n",
        "\n"
       ]
      }
     ],
     "prompt_number": 7
    },
    {
     "cell_type": "code",
     "collapsed": false,
     "input": [
      "V_L = diff(Sym[MultipoleName], t, 4).subs(t,0)"
     ],
     "language": "python",
     "metadata": {},
     "outputs": [],
     "prompt_number": 56
    },
    {
     "cell_type": "code",
     "collapsed": false,
     "input": [
      "V__lm = simplify( sphericalharmonictensors.Vlm(V_L,2).subs(dict(DropSpinDerivatives.items() + DropvDerivatives.items())) )"
     ],
     "language": "python",
     "metadata": {},
     "outputs": [],
     "prompt_number": 57
    },
    {
     "cell_type": "code",
     "collapsed": false,
     "input": [
      "display(V__lm)"
     ],
     "language": "python",
     "metadata": {},
     "outputs": [
      {
       "latex": [
        "$$\\frac{\\sqrt{2} \\sqrt{\\pi} \\nu}{21 c v^{2}{\\left (0 \\right )}} \\left(- 13 i \\delta \\operatorname{S_{\\lambda}}{\\left (0 \\right )} v^{8}{\\left (0 \\right )} + 48 \\delta \\operatorname{S_{\\lambda}}{\\left (0 \\right )} v^{4}{\\left (0 \\right )} \\left. \\frac{d}{d t} v{\\left (t \\right )} \\right|_{\\substack{ t=0 }} + 432 i \\delta \\operatorname{S_{\\lambda}}{\\left (0 \\right )} \\left(\\left. \\frac{d}{d t} v{\\left (t \\right )} \\right|_{\\substack{ t=0 }}\\right)^{2} - 14 \\delta \\operatorname{S_{n}}{\\left (0 \\right )} v^{8}{\\left (0 \\right )} - 60 i \\delta \\operatorname{S_{n}}{\\left (0 \\right )} v^{4}{\\left (0 \\right )} \\left. \\frac{d}{d t} v{\\left (t \\right )} \\right|_{\\substack{ t=0 }} + 39 i \\nu \\Sigma_{\\lambda}{\\left (0 \\right )} v^{8}{\\left (0 \\right )} - 144 \\nu \\Sigma_{\\lambda}{\\left (0 \\right )} v^{4}{\\left (0 \\right )} \\left. \\frac{d}{d t} v{\\left (t \\right )} \\right|_{\\substack{ t=0 }} - 1296 i \\nu \\Sigma_{\\lambda}{\\left (0 \\right )} \\left(\\left. \\frac{d}{d t} v{\\left (t \\right )} \\right|_{\\substack{ t=0 }}\\right)^{2} + 42 \\nu \\Sigma_{n}{\\left (0 \\right )} v^{8}{\\left (0 \\right )} + 180 i \\nu \\Sigma_{n}{\\left (0 \\right )} v^{4}{\\left (0 \\right )} \\left. \\frac{d}{d t} v{\\left (t \\right )} \\right|_{\\substack{ t=0 }} - 13 i \\Sigma_{\\lambda}{\\left (0 \\right )} v^{8}{\\left (0 \\right )} + 48 \\Sigma_{\\lambda}{\\left (0 \\right )} v^{4}{\\left (0 \\right )} \\left. \\frac{d}{d t} v{\\left (t \\right )} \\right|_{\\substack{ t=0 }} + 432 i \\Sigma_{\\lambda}{\\left (0 \\right )} \\left(\\left. \\frac{d}{d t} v{\\left (t \\right )} \\right|_{\\substack{ t=0 }}\\right)^{2} - 14 \\Sigma_{n}{\\left (0 \\right )} v^{8}{\\left (0 \\right )} - 60 i \\Sigma_{n}{\\left (0 \\right )} v^{4}{\\left (0 \\right )} \\left. \\frac{d}{d t} v{\\left (t \\right )} \\right|_{\\substack{ t=0 }}\\right)$$"
       ],
       "metadata": {},
       "output_type": "display_data",
       "png": "[encoded data removed]",
       "text": [
        "              \u239b                                                               \n",
        "  ___   ___   \u239c                 8                   4    \u239bd       \u239e\u2502          \n",
        "\u2572\u2571 2 \u22c5\u2572\u2571 \u03c0 \u22c5\u03bd\u22c5\u239c- 13\u22c5\u2148\u22c5\u03b4\u22c5S_\u03bb(0)\u22c5v (0) + 48\u22c5\u03b4\u22c5S_\u03bb(0)\u22c5v (0)\u22c5\u239c\u2500\u2500(v(t))\u239f\u2502    + 432\u22c5\n",
        "              \u239d                                          \u239ddt      \u23a0\u2502t=0       \n",
        "\u2500\u2500\u2500\u2500\u2500\u2500\u2500\u2500\u2500\u2500\u2500\u2500\u2500\u2500\u2500\u2500\u2500\u2500\u2500\u2500\u2500\u2500\u2500\u2500\u2500\u2500\u2500\u2500\u2500\u2500\u2500\u2500\u2500\u2500\u2500\u2500\u2500\u2500\u2500\u2500\u2500\u2500\u2500\u2500\u2500\u2500\u2500\u2500\u2500\u2500\u2500\u2500\u2500\u2500\u2500\u2500\u2500\u2500\u2500\u2500\u2500\u2500\u2500\u2500\u2500\u2500\u2500\u2500\u2500\u2500\u2500\u2500\u2500\u2500\u2500\u2500\u2500\u2500\n",
        "                                                                              \n",
        "                                                                              \n",
        "\n",
        "                         2                                                    \n",
        "           \u239bd       \u239e\u2502                    8                     4    \u239bd       \n",
        "\u2148\u22c5\u03b4\u22c5S_\u03bb(0)\u22c5\u239c\u2500\u2500(v(t))\u239f\u2502     - 14\u22c5\u03b4\u22c5S_n(0)\u22c5v (0) - 60\u22c5\u2148\u22c5\u03b4\u22c5S_n(0)\u22c5v (0)\u22c5\u239c\u2500\u2500(v(t))\n",
        "           \u239ddt      \u23a0\u2502t=0                                            \u239ddt      \n",
        "\u2500\u2500\u2500\u2500\u2500\u2500\u2500\u2500\u2500\u2500\u2500\u2500\u2500\u2500\u2500\u2500\u2500\u2500\u2500\u2500\u2500\u2500\u2500\u2500\u2500\u2500\u2500\u2500\u2500\u2500\u2500\u2500\u2500\u2500\u2500\u2500\u2500\u2500\u2500\u2500\u2500\u2500\u2500\u2500\u2500\u2500\u2500\u2500\u2500\u2500\u2500\u2500\u2500\u2500\u2500\u2500\u2500\u2500\u2500\u2500\u2500\u2500\u2500\u2500\u2500\u2500\u2500\u2500\u2500\u2500\u2500\u2500\u2500\u2500\u2500\u2500\u2500\u2500\n",
        "                                                                              \n",
        "                                                                              \n",
        "\n",
        "                                                                              \n",
        "\u239e\u2502                     8                    4    \u239bd       \u239e\u2502                  \n",
        "\u239f\u2502    + 39\u22c5\u2148\u22c5\u03bd\u22c5\u03a3_\u03bb(0)\u22c5v (0) - 144\u22c5\u03bd\u22c5\u03a3_\u03bb(0)\u22c5v (0)\u22c5\u239c\u2500\u2500(v(t))\u239f\u2502    - 1296\u22c5\u2148\u22c5\u03bd\u22c5\u03a3_\u03bb\n",
        "\u23a0\u2502t=0                                            \u239ddt      \u23a0\u2502t=0               \n",
        "\u2500\u2500\u2500\u2500\u2500\u2500\u2500\u2500\u2500\u2500\u2500\u2500\u2500\u2500\u2500\u2500\u2500\u2500\u2500\u2500\u2500\u2500\u2500\u2500\u2500\u2500\u2500\u2500\u2500\u2500\u2500\u2500\u2500\u2500\u2500\u2500\u2500\u2500\u2500\u2500\u2500\u2500\u2500\u2500\u2500\u2500\u2500\u2500\u2500\u2500\u2500\u2500\u2500\u2500\u2500\u2500\u2500\u2500\u2500\u2500\u2500\u2500\u2500\u2500\u2500\u2500\u2500\u2500\u2500\u2500\u2500\u2500\u2500\u2500\u2500\u2500\u2500\u2500\n",
        "                                                                      2       \n",
        "                                                                21\u22c5c\u22c5v (0)    \n",
        "\n",
        "                  2                                                           \n",
        "    \u239bd       \u239e\u2502                    8                      4    \u239bd       \u239e\u2502    \n",
        "(0)\u22c5\u239c\u2500\u2500(v(t))\u239f\u2502     + 42\u22c5\u03bd\u22c5\u03a3_n(0)\u22c5v (0) + 180\u22c5\u2148\u22c5\u03bd\u22c5\u03a3_n(0)\u22c5v (0)\u22c5\u239c\u2500\u2500(v(t))\u239f\u2502    \n",
        "    \u239ddt      \u23a0\u2502t=0                                             \u239ddt      \u23a0\u2502t=0 \n",
        "\u2500\u2500\u2500\u2500\u2500\u2500\u2500\u2500\u2500\u2500\u2500\u2500\u2500\u2500\u2500\u2500\u2500\u2500\u2500\u2500\u2500\u2500\u2500\u2500\u2500\u2500\u2500\u2500\u2500\u2500\u2500\u2500\u2500\u2500\u2500\u2500\u2500\u2500\u2500\u2500\u2500\u2500\u2500\u2500\u2500\u2500\u2500\u2500\u2500\u2500\u2500\u2500\u2500\u2500\u2500\u2500\u2500\u2500\u2500\u2500\u2500\u2500\u2500\u2500\u2500\u2500\u2500\u2500\u2500\u2500\u2500\u2500\u2500\u2500\u2500\u2500\u2500\u2500\n",
        "                                                                              \n",
        "                                                                              \n",
        "\n",
        "                                                                              \n",
        "               8                 4    \u239bd       \u239e\u2502                   \u239bd       \u239e\n",
        "- 13\u22c5\u2148\u22c5\u03a3_\u03bb(0)\u22c5v (0) + 48\u22c5\u03a3_\u03bb(0)\u22c5v (0)\u22c5\u239c\u2500\u2500(v(t))\u239f\u2502    + 432\u22c5\u2148\u22c5\u03a3_\u03bb(0)\u22c5\u239c\u2500\u2500(v(t))\u239f\n",
        "                                      \u239ddt      \u23a0\u2502t=0                \u239ddt      \u23a0\n",
        "\u2500\u2500\u2500\u2500\u2500\u2500\u2500\u2500\u2500\u2500\u2500\u2500\u2500\u2500\u2500\u2500\u2500\u2500\u2500\u2500\u2500\u2500\u2500\u2500\u2500\u2500\u2500\u2500\u2500\u2500\u2500\u2500\u2500\u2500\u2500\u2500\u2500\u2500\u2500\u2500\u2500\u2500\u2500\u2500\u2500\u2500\u2500\u2500\u2500\u2500\u2500\u2500\u2500\u2500\u2500\u2500\u2500\u2500\u2500\u2500\u2500\u2500\u2500\u2500\u2500\u2500\u2500\u2500\u2500\u2500\u2500\u2500\u2500\u2500\u2500\u2500\u2500\u2500\n",
        "                                                                              \n",
        "                                                                              \n",
        "\n",
        "    2                                                     \u239e\n",
        "\u2502                  8                   4    \u239bd       \u239e\u2502   \u239f\n",
        "\u2502     - 14\u22c5\u03a3_n(0)\u22c5v (0) - 60\u22c5\u2148\u22c5\u03a3_n(0)\u22c5v (0)\u22c5\u239c\u2500\u2500(v(t))\u239f\u2502   \u239f\n",
        "\u2502t=0                                        \u239ddt      \u23a0\u2502t=0\u23a0\n",
        "\u2500\u2500\u2500\u2500\u2500\u2500\u2500\u2500\u2500\u2500\u2500\u2500\u2500\u2500\u2500\u2500\u2500\u2500\u2500\u2500\u2500\u2500\u2500\u2500\u2500\u2500\u2500\u2500\u2500\u2500\u2500\u2500\u2500\u2500\u2500\u2500\u2500\u2500\u2500\u2500\u2500\u2500\u2500\u2500\u2500\u2500\u2500\u2500\u2500\u2500\u2500\u2500\u2500\u2500\u2500\u2500\u2500\u2500\u2500\n",
        "                                                           \n",
        "                                                           "
       ]
      }
     ],
     "prompt_number": 59
    },
    {
     "cell_type": "code",
     "collapsed": false,
     "input": [
      "count_ops"
     ],
     "language": "python",
     "metadata": {},
     "outputs": []
    },
    {
     "cell_type": "code",
     "collapsed": false,
     "input": [
      "ell = 2\n",
      "for m in range(-ell,ell+1):\n",
      "    print(ell,m)\n",
      "    display(simplify( sphericalharmonictensors.Vlm(V_L,m).subs(dict(DropSpinDerivatives.items() + DropvDerivatives.items())) ))"
     ],
     "language": "python",
     "metadata": {},
     "outputs": [
      {
       "output_type": "stream",
       "stream": "stdout",
       "text": [
        "2 -2\n"
       ]
      },
      {
       "latex": [
        "$$\\frac{\\sqrt{2} \\sqrt{\\pi} \\nu}{21 c v^{2}{\\left (0 \\right )}} \\left(13 i \\delta \\operatorname{S_{\\lambda}}{\\left (0 \\right )} v^{8}{\\left (0 \\right )} + 48 \\delta \\operatorname{S_{\\lambda}}{\\left (0 \\right )} v^{4}{\\left (0 \\right )} \\left. \\frac{d}{d t} v{\\left (t \\right )} \\right|_{\\substack{ t=0 }} - 432 i \\delta \\operatorname{S_{\\lambda}}{\\left (0 \\right )} \\left(\\left. \\frac{d}{d t} v{\\left (t \\right )} \\right|_{\\substack{ t=0 }}\\right)^{2} - 14 \\delta \\operatorname{S_{n}}{\\left (0 \\right )} v^{8}{\\left (0 \\right )} + 60 i \\delta \\operatorname{S_{n}}{\\left (0 \\right )} v^{4}{\\left (0 \\right )} \\left. \\frac{d}{d t} v{\\left (t \\right )} \\right|_{\\substack{ t=0 }} - 39 i \\nu \\Sigma_{\\lambda}{\\left (0 \\right )} v^{8}{\\left (0 \\right )} - 144 \\nu \\Sigma_{\\lambda}{\\left (0 \\right )} v^{4}{\\left (0 \\right )} \\left. \\frac{d}{d t} v{\\left (t \\right )} \\right|_{\\substack{ t=0 }} + 1296 i \\nu \\Sigma_{\\lambda}{\\left (0 \\right )} \\left(\\left. \\frac{d}{d t} v{\\left (t \\right )} \\right|_{\\substack{ t=0 }}\\right)^{2} + 42 \\nu \\Sigma_{n}{\\left (0 \\right )} v^{8}{\\left (0 \\right )} - 180 i \\nu \\Sigma_{n}{\\left (0 \\right )} v^{4}{\\left (0 \\right )} \\left. \\frac{d}{d t} v{\\left (t \\right )} \\right|_{\\substack{ t=0 }} + 13 i \\Sigma_{\\lambda}{\\left (0 \\right )} v^{8}{\\left (0 \\right )} + 48 \\Sigma_{\\lambda}{\\left (0 \\right )} v^{4}{\\left (0 \\right )} \\left. \\frac{d}{d t} v{\\left (t \\right )} \\right|_{\\substack{ t=0 }} - 432 i \\Sigma_{\\lambda}{\\left (0 \\right )} \\left(\\left. \\frac{d}{d t} v{\\left (t \\right )} \\right|_{\\substack{ t=0 }}\\right)^{2} - 14 \\Sigma_{n}{\\left (0 \\right )} v^{8}{\\left (0 \\right )} + 60 i \\Sigma_{n}{\\left (0 \\right )} v^{4}{\\left (0 \\right )} \\left. \\frac{d}{d t} v{\\left (t \\right )} \\right|_{\\substack{ t=0 }}\\right)$$"
       ],
       "metadata": {},
       "output_type": "display_data",
       "png": "[encoded data removed]",
       "text": [
        "              \u239b                                                               \n",
        "  ___   ___   \u239c               8                   4    \u239bd       \u239e\u2502            \n",
        "\u2572\u2571 2 \u22c5\u2572\u2571 \u03c0 \u22c5\u03bd\u22c5\u239c13\u22c5\u2148\u22c5\u03b4\u22c5S_\u03bb(0)\u22c5v (0) + 48\u22c5\u03b4\u22c5S_\u03bb(0)\u22c5v (0)\u22c5\u239c\u2500\u2500(v(t))\u239f\u2502    - 432\u22c5\u2148\u22c5\n",
        "              \u239d                                        \u239ddt      \u23a0\u2502t=0         \n",
        "\u2500\u2500\u2500\u2500\u2500\u2500\u2500\u2500\u2500\u2500\u2500\u2500\u2500\u2500\u2500\u2500\u2500\u2500\u2500\u2500\u2500\u2500\u2500\u2500\u2500\u2500\u2500\u2500\u2500\u2500\u2500\u2500\u2500\u2500\u2500\u2500\u2500\u2500\u2500\u2500\u2500\u2500\u2500\u2500\u2500\u2500\u2500\u2500\u2500\u2500\u2500\u2500\u2500\u2500\u2500\u2500\u2500\u2500\u2500\u2500\u2500\u2500\u2500\u2500\u2500\u2500\u2500\u2500\u2500\u2500\u2500\u2500\u2500\u2500\u2500\u2500\u2500\u2500\n",
        "                                                                              \n",
        "                                                                              \n",
        "\n",
        "                       2                                                      \n",
        "         \u239bd       \u239e\u2502                    8                     4    \u239bd       \u239e\u2502\n",
        "\u03b4\u22c5S_\u03bb(0)\u22c5\u239c\u2500\u2500(v(t))\u239f\u2502     - 14\u22c5\u03b4\u22c5S_n(0)\u22c5v (0) + 60\u22c5\u2148\u22c5\u03b4\u22c5S_n(0)\u22c5v (0)\u22c5\u239c\u2500\u2500(v(t))\u239f\u2502\n",
        "         \u239ddt      \u23a0\u2502t=0                                            \u239ddt      \u23a0\u2502\n",
        "\u2500\u2500\u2500\u2500\u2500\u2500\u2500\u2500\u2500\u2500\u2500\u2500\u2500\u2500\u2500\u2500\u2500\u2500\u2500\u2500\u2500\u2500\u2500\u2500\u2500\u2500\u2500\u2500\u2500\u2500\u2500\u2500\u2500\u2500\u2500\u2500\u2500\u2500\u2500\u2500\u2500\u2500\u2500\u2500\u2500\u2500\u2500\u2500\u2500\u2500\u2500\u2500\u2500\u2500\u2500\u2500\u2500\u2500\u2500\u2500\u2500\u2500\u2500\u2500\u2500\u2500\u2500\u2500\u2500\u2500\u2500\u2500\u2500\u2500\u2500\u2500\u2500\u2500\n",
        "                                                                              \n",
        "                                                                              \n",
        "\n",
        "                                                                              \n",
        "                     8                    4    \u239bd       \u239e\u2502                    \n",
        "    - 39\u22c5\u2148\u22c5\u03bd\u22c5\u03a3_\u03bb(0)\u22c5v (0) - 144\u22c5\u03bd\u22c5\u03a3_\u03bb(0)\u22c5v (0)\u22c5\u239c\u2500\u2500(v(t))\u239f\u2502    + 1296\u22c5\u2148\u22c5\u03bd\u22c5\u03a3_\u03bb(0\n",
        "t=0                                            \u239ddt      \u23a0\u2502t=0                 \n",
        "\u2500\u2500\u2500\u2500\u2500\u2500\u2500\u2500\u2500\u2500\u2500\u2500\u2500\u2500\u2500\u2500\u2500\u2500\u2500\u2500\u2500\u2500\u2500\u2500\u2500\u2500\u2500\u2500\u2500\u2500\u2500\u2500\u2500\u2500\u2500\u2500\u2500\u2500\u2500\u2500\u2500\u2500\u2500\u2500\u2500\u2500\u2500\u2500\u2500\u2500\u2500\u2500\u2500\u2500\u2500\u2500\u2500\u2500\u2500\u2500\u2500\u2500\u2500\u2500\u2500\u2500\u2500\u2500\u2500\u2500\u2500\u2500\u2500\u2500\u2500\u2500\u2500\u2500\n",
        "                                                                     2        \n",
        "                                                               21\u22c5c\u22c5v (0)     \n",
        "\n",
        "                2                                                             \n",
        "  \u239bd       \u239e\u2502                    8                      4    \u239bd       \u239e\u2502      \n",
        ")\u22c5\u239c\u2500\u2500(v(t))\u239f\u2502     + 42\u22c5\u03bd\u22c5\u03a3_n(0)\u22c5v (0) - 180\u22c5\u2148\u22c5\u03bd\u22c5\u03a3_n(0)\u22c5v (0)\u22c5\u239c\u2500\u2500(v(t))\u239f\u2502    + \n",
        "  \u239ddt      \u23a0\u2502t=0                                             \u239ddt      \u23a0\u2502t=0   \n",
        "\u2500\u2500\u2500\u2500\u2500\u2500\u2500\u2500\u2500\u2500\u2500\u2500\u2500\u2500\u2500\u2500\u2500\u2500\u2500\u2500\u2500\u2500\u2500\u2500\u2500\u2500\u2500\u2500\u2500\u2500\u2500\u2500\u2500\u2500\u2500\u2500\u2500\u2500\u2500\u2500\u2500\u2500\u2500\u2500\u2500\u2500\u2500\u2500\u2500\u2500\u2500\u2500\u2500\u2500\u2500\u2500\u2500\u2500\u2500\u2500\u2500\u2500\u2500\u2500\u2500\u2500\u2500\u2500\u2500\u2500\u2500\u2500\u2500\u2500\u2500\u2500\u2500\u2500\n",
        "                                                                              \n",
        "                                                                              \n",
        "\n",
        "                                                                              \n",
        "             8                 4    \u239bd       \u239e\u2502                   \u239bd       \u239e\u2502 \n",
        "13\u22c5\u2148\u22c5\u03a3_\u03bb(0)\u22c5v (0) + 48\u22c5\u03a3_\u03bb(0)\u22c5v (0)\u22c5\u239c\u2500\u2500(v(t))\u239f\u2502    - 432\u22c5\u2148\u22c5\u03a3_\u03bb(0)\u22c5\u239c\u2500\u2500(v(t))\u239f\u2502 \n",
        "                                    \u239ddt      \u23a0\u2502t=0                \u239ddt      \u23a0\u2502t\n",
        "\u2500\u2500\u2500\u2500\u2500\u2500\u2500\u2500\u2500\u2500\u2500\u2500\u2500\u2500\u2500\u2500\u2500\u2500\u2500\u2500\u2500\u2500\u2500\u2500\u2500\u2500\u2500\u2500\u2500\u2500\u2500\u2500\u2500\u2500\u2500\u2500\u2500\u2500\u2500\u2500\u2500\u2500\u2500\u2500\u2500\u2500\u2500\u2500\u2500\u2500\u2500\u2500\u2500\u2500\u2500\u2500\u2500\u2500\u2500\u2500\u2500\u2500\u2500\u2500\u2500\u2500\u2500\u2500\u2500\u2500\u2500\u2500\u2500\u2500\u2500\u2500\u2500\u2500\n",
        "                                                                              \n",
        "                                                                              \n",
        "\n",
        "  2                                                     \u239e\n",
        "                 8                   4    \u239bd       \u239e\u2502   \u239f\n",
        "    - 14\u22c5\u03a3_n(0)\u22c5v (0) + 60\u22c5\u2148\u22c5\u03a3_n(0)\u22c5v (0)\u22c5\u239c\u2500\u2500(v(t))\u239f\u2502   \u239f\n",
        "=0                                        \u239ddt      \u23a0\u2502t=0\u23a0\n",
        "\u2500\u2500\u2500\u2500\u2500\u2500\u2500\u2500\u2500\u2500\u2500\u2500\u2500\u2500\u2500\u2500\u2500\u2500\u2500\u2500\u2500\u2500\u2500\u2500\u2500\u2500\u2500\u2500\u2500\u2500\u2500\u2500\u2500\u2500\u2500\u2500\u2500\u2500\u2500\u2500\u2500\u2500\u2500\u2500\u2500\u2500\u2500\u2500\u2500\u2500\u2500\u2500\u2500\u2500\u2500\u2500\u2500\n",
        "                                                         \n",
        "                                                         "
       ]
      },
      {
       "output_type": "stream",
       "stream": "stdout",
       "text": [
        "2 -1\n"
       ]
      },
      {
       "latex": [
        "$$\\frac{\\sqrt{\\pi} \\nu}{21 c} \\left(- \\delta \\operatorname{S_{\\ell}}{\\left (0 \\right )} v^{4}{\\left (0 \\right )} + 12 i \\delta \\operatorname{S_{\\ell}}{\\left (0 \\right )} \\left. \\frac{d}{d t} v{\\left (t \\right )} \\right|_{\\substack{ t=0 }} + \\left(3 \\nu - 1\\right) \\Sigma_{\\ell}{\\left (0 \\right )} v^{4}{\\left (0 \\right )} - 12 i \\left(3 \\nu - 1\\right) \\Sigma_{\\ell}{\\left (0 \\right )} \\left. \\frac{d}{d t} v{\\left (t \\right )} \\right|_{\\substack{ t=0 }}\\right) v^{2}{\\left (0 \\right )}$$"
       ],
       "metadata": {},
       "output_type": "display_data",
       "png": "[encoded data removed]",
       "text": [
        "  ___   \u239b              4                      \u239bd       \u239e\u2502                     \n",
        "\u2572\u2571 \u03c0 \u22c5\u03bd\u22c5\u239c- \u03b4\u22c5S_ell(0)\u22c5v (0) + 12\u22c5\u2148\u22c5\u03b4\u22c5S_ell(0)\u22c5\u239c\u2500\u2500(v(t))\u239f\u2502    + (3\u22c5\u03bd - 1)\u22c5\u03a3_ell\n",
        "        \u239d                                     \u239ddt      \u23a0\u2502t=0                  \n",
        "\u2500\u2500\u2500\u2500\u2500\u2500\u2500\u2500\u2500\u2500\u2500\u2500\u2500\u2500\u2500\u2500\u2500\u2500\u2500\u2500\u2500\u2500\u2500\u2500\u2500\u2500\u2500\u2500\u2500\u2500\u2500\u2500\u2500\u2500\u2500\u2500\u2500\u2500\u2500\u2500\u2500\u2500\u2500\u2500\u2500\u2500\u2500\u2500\u2500\u2500\u2500\u2500\u2500\u2500\u2500\u2500\u2500\u2500\u2500\u2500\u2500\u2500\u2500\u2500\u2500\u2500\u2500\u2500\u2500\u2500\u2500\u2500\u2500\u2500\u2500\u2500\u2500\u2500\n",
        "                                                                  21\u22c5c        \n",
        "\n",
        "     4                              \u239bd       \u239e\u2502   \u239e  2   \n",
        "(0)\u22c5v (0) - 12\u22c5\u2148\u22c5(3\u22c5\u03bd - 1)\u22c5\u03a3_ell(0)\u22c5\u239c\u2500\u2500(v(t))\u239f\u2502   \u239f\u22c5v (0)\n",
        "                                    \u239ddt      \u23a0\u2502t=0\u23a0      \n",
        "\u2500\u2500\u2500\u2500\u2500\u2500\u2500\u2500\u2500\u2500\u2500\u2500\u2500\u2500\u2500\u2500\u2500\u2500\u2500\u2500\u2500\u2500\u2500\u2500\u2500\u2500\u2500\u2500\u2500\u2500\u2500\u2500\u2500\u2500\u2500\u2500\u2500\u2500\u2500\u2500\u2500\u2500\u2500\u2500\u2500\u2500\u2500\u2500\u2500\u2500\u2500\u2500\u2500\u2500\u2500\u2500\u2500\n",
        "                                                         "
       ]
      },
      {
       "output_type": "stream",
       "stream": "stdout",
       "text": [
        "2 0\n"
       ]
      },
      {
       "latex": [
        "$$- \\frac{2 \\sqrt{5} \\sqrt{\\pi} \\nu}{105 c v^{2}{\\left (0 \\right )}} \\left(12 \\delta \\operatorname{S_{\\lambda}}{\\left (0 \\right )} v^{4}{\\left (0 \\right )} \\left. \\frac{d}{d t} v{\\left (t \\right )} \\right|_{\\substack{ t=0 }} - \\delta \\operatorname{S_{n}}{\\left (0 \\right )} v^{8}{\\left (0 \\right )} + 648 \\delta \\operatorname{S_{n}}{\\left (0 \\right )} \\left(\\left. \\frac{d}{d t} v{\\left (t \\right )} \\right|_{\\substack{ t=0 }}\\right)^{2} - 36 \\nu \\Sigma_{\\lambda}{\\left (0 \\right )} v^{4}{\\left (0 \\right )} \\left. \\frac{d}{d t} v{\\left (t \\right )} \\right|_{\\substack{ t=0 }} + 3 \\nu \\Sigma_{n}{\\left (0 \\right )} v^{8}{\\left (0 \\right )} - 1944 \\nu \\Sigma_{n}{\\left (0 \\right )} \\left(\\left. \\frac{d}{d t} v{\\left (t \\right )} \\right|_{\\substack{ t=0 }}\\right)^{2} + 12 \\Sigma_{\\lambda}{\\left (0 \\right )} v^{4}{\\left (0 \\right )} \\left. \\frac{d}{d t} v{\\left (t \\right )} \\right|_{\\substack{ t=0 }} - \\Sigma_{n}{\\left (0 \\right )} v^{8}{\\left (0 \\right )} + 648 \\Sigma_{n}{\\left (0 \\right )} \\left(\\left. \\frac{d}{d t} v{\\left (t \\right )} \\right|_{\\substack{ t=0 }}\\right)^{2}\\right)$$"
       ],
       "metadata": {},
       "output_type": "display_data",
       "png": "[encoded data removed]",
       "text": [
        "                 \u239b                                                            \n",
        "     ___   ___   \u239c             4    \u239bd       \u239e\u2502                8              \n",
        "-2\u22c5\u2572\u2571 5 \u22c5\u2572\u2571 \u03c0 \u22c5\u03bd\u22c5\u239c12\u22c5\u03b4\u22c5S_\u03bb(0)\u22c5v (0)\u22c5\u239c\u2500\u2500(v(t))\u239f\u2502    - \u03b4\u22c5S_n(0)\u22c5v (0) + 648\u22c5\u03b4\u22c5S_\n",
        "                 \u239d                  \u239ddt      \u23a0\u2502t=0                            \n",
        "\u2500\u2500\u2500\u2500\u2500\u2500\u2500\u2500\u2500\u2500\u2500\u2500\u2500\u2500\u2500\u2500\u2500\u2500\u2500\u2500\u2500\u2500\u2500\u2500\u2500\u2500\u2500\u2500\u2500\u2500\u2500\u2500\u2500\u2500\u2500\u2500\u2500\u2500\u2500\u2500\u2500\u2500\u2500\u2500\u2500\u2500\u2500\u2500\u2500\u2500\u2500\u2500\u2500\u2500\u2500\u2500\u2500\u2500\u2500\u2500\u2500\u2500\u2500\u2500\u2500\u2500\u2500\u2500\u2500\u2500\u2500\u2500\u2500\u2500\u2500\u2500\u2500\u2500\n",
        "                                                                              \n",
        "                                                                              \n",
        "\n",
        "                   2                                                          \n",
        "     \u239bd       \u239e\u2502                    4    \u239bd       \u239e\u2502                  8       \n",
        "n(0)\u22c5\u239c\u2500\u2500(v(t))\u239f\u2502     - 36\u22c5\u03bd\u22c5\u03a3_\u03bb(0)\u22c5v (0)\u22c5\u239c\u2500\u2500(v(t))\u239f\u2502    + 3\u22c5\u03bd\u22c5\u03a3_n(0)\u22c5v (0) - 1\n",
        "     \u239ddt      \u23a0\u2502t=0                      \u239ddt      \u23a0\u2502t=0                       \n",
        "\u2500\u2500\u2500\u2500\u2500\u2500\u2500\u2500\u2500\u2500\u2500\u2500\u2500\u2500\u2500\u2500\u2500\u2500\u2500\u2500\u2500\u2500\u2500\u2500\u2500\u2500\u2500\u2500\u2500\u2500\u2500\u2500\u2500\u2500\u2500\u2500\u2500\u2500\u2500\u2500\u2500\u2500\u2500\u2500\u2500\u2500\u2500\u2500\u2500\u2500\u2500\u2500\u2500\u2500\u2500\u2500\u2500\u2500\u2500\u2500\u2500\u2500\u2500\u2500\u2500\u2500\u2500\u2500\u2500\u2500\u2500\u2500\u2500\u2500\u2500\u2500\u2500\u2500\n",
        "                                                       2                      \n",
        "                                                105\u22c5c\u22c5v (0)                   \n",
        "\n",
        "                           2                                                  \n",
        "             \u239bd       \u239e\u2502                  4    \u239bd       \u239e\u2502              8     \n",
        "944\u22c5\u03bd\u22c5\u03a3_n(0)\u22c5\u239c\u2500\u2500(v(t))\u239f\u2502     + 12\u22c5\u03a3_\u03bb(0)\u22c5v (0)\u22c5\u239c\u2500\u2500(v(t))\u239f\u2502    - \u03a3_n(0)\u22c5v (0) +\n",
        "             \u239ddt      \u23a0\u2502t=0                    \u239ddt      \u23a0\u2502t=0                 \n",
        "\u2500\u2500\u2500\u2500\u2500\u2500\u2500\u2500\u2500\u2500\u2500\u2500\u2500\u2500\u2500\u2500\u2500\u2500\u2500\u2500\u2500\u2500\u2500\u2500\u2500\u2500\u2500\u2500\u2500\u2500\u2500\u2500\u2500\u2500\u2500\u2500\u2500\u2500\u2500\u2500\u2500\u2500\u2500\u2500\u2500\u2500\u2500\u2500\u2500\u2500\u2500\u2500\u2500\u2500\u2500\u2500\u2500\u2500\u2500\u2500\u2500\u2500\u2500\u2500\u2500\u2500\u2500\u2500\u2500\u2500\u2500\u2500\u2500\u2500\u2500\u2500\u2500\u2500\n",
        "                                                                              \n",
        "                                                                              \n",
        "\n",
        "                          2\u239e \n",
        "            \u239bd       \u239e\u2502    \u239f \n",
        " 648\u22c5\u03a3_n(0)\u22c5\u239c\u2500\u2500(v(t))\u239f\u2502    \u239f \n",
        "            \u239ddt      \u23a0\u2502t=0 \u23a0 \n",
        "\u2500\u2500\u2500\u2500\u2500\u2500\u2500\u2500\u2500\u2500\u2500\u2500\u2500\u2500\u2500\u2500\u2500\u2500\u2500\u2500\u2500\u2500\u2500\u2500\u2500\u2500\u2500\u2500\u2500\n",
        "                             \n",
        "                             "
       ]
      },
      {
       "output_type": "stream",
       "stream": "stdout",
       "text": [
        "2 1\n"
       ]
      },
      {
       "latex": [
        "$$\\frac{\\sqrt{\\pi} \\nu}{21 c} \\left(\\delta \\operatorname{S_{\\ell}}{\\left (0 \\right )} v^{4}{\\left (0 \\right )} + 12 i \\delta \\operatorname{S_{\\ell}}{\\left (0 \\right )} \\left. \\frac{d}{d t} v{\\left (t \\right )} \\right|_{\\substack{ t=0 }} - \\left(3 \\nu - 1\\right) \\Sigma_{\\ell}{\\left (0 \\right )} v^{4}{\\left (0 \\right )} - 12 i \\left(3 \\nu - 1\\right) \\Sigma_{\\ell}{\\left (0 \\right )} \\left. \\frac{d}{d t} v{\\left (t \\right )} \\right|_{\\substack{ t=0 }}\\right) v^{2}{\\left (0 \\right )}$$"
       ],
       "metadata": {},
       "output_type": "display_data",
       "png": "[encoded data removed]",
       "text": [
        "  ___   \u239b            4                      \u239bd       \u239e\u2502                       \n",
        "\u2572\u2571 \u03c0 \u22c5\u03bd\u22c5\u239c\u03b4\u22c5S_ell(0)\u22c5v (0) + 12\u22c5\u2148\u22c5\u03b4\u22c5S_ell(0)\u22c5\u239c\u2500\u2500(v(t))\u239f\u2502    - (3\u22c5\u03bd - 1)\u22c5\u03a3_ell(0\n",
        "        \u239d                                   \u239ddt      \u23a0\u2502t=0                    \n",
        "\u2500\u2500\u2500\u2500\u2500\u2500\u2500\u2500\u2500\u2500\u2500\u2500\u2500\u2500\u2500\u2500\u2500\u2500\u2500\u2500\u2500\u2500\u2500\u2500\u2500\u2500\u2500\u2500\u2500\u2500\u2500\u2500\u2500\u2500\u2500\u2500\u2500\u2500\u2500\u2500\u2500\u2500\u2500\u2500\u2500\u2500\u2500\u2500\u2500\u2500\u2500\u2500\u2500\u2500\u2500\u2500\u2500\u2500\u2500\u2500\u2500\u2500\u2500\u2500\u2500\u2500\u2500\u2500\u2500\u2500\u2500\u2500\u2500\u2500\u2500\u2500\u2500\u2500\n",
        "                                                                 21\u22c5c         \n",
        "\n",
        "   4                              \u239bd       \u239e\u2502   \u239e  2   \n",
        ")\u22c5v (0) - 12\u22c5\u2148\u22c5(3\u22c5\u03bd - 1)\u22c5\u03a3_ell(0)\u22c5\u239c\u2500\u2500(v(t))\u239f\u2502   \u239f\u22c5v (0)\n",
        "                                  \u239ddt      \u23a0\u2502t=0\u23a0      \n",
        "\u2500\u2500\u2500\u2500\u2500\u2500\u2500\u2500\u2500\u2500\u2500\u2500\u2500\u2500\u2500\u2500\u2500\u2500\u2500\u2500\u2500\u2500\u2500\u2500\u2500\u2500\u2500\u2500\u2500\u2500\u2500\u2500\u2500\u2500\u2500\u2500\u2500\u2500\u2500\u2500\u2500\u2500\u2500\u2500\u2500\u2500\u2500\u2500\u2500\u2500\u2500\u2500\u2500\u2500\u2500\n",
        "                                                       "
       ]
      },
      {
       "output_type": "stream",
       "stream": "stdout",
       "text": [
        "2 2\n"
       ]
      },
      {
       "latex": [
        "$$\\frac{\\sqrt{2} \\sqrt{\\pi} \\nu}{21 c v^{2}{\\left (0 \\right )}} \\left(- 13 i \\delta \\operatorname{S_{\\lambda}}{\\left (0 \\right )} v^{8}{\\left (0 \\right )} + 48 \\delta \\operatorname{S_{\\lambda}}{\\left (0 \\right )} v^{4}{\\left (0 \\right )} \\left. \\frac{d}{d t} v{\\left (t \\right )} \\right|_{\\substack{ t=0 }} + 432 i \\delta \\operatorname{S_{\\lambda}}{\\left (0 \\right )} \\left(\\left. \\frac{d}{d t} v{\\left (t \\right )} \\right|_{\\substack{ t=0 }}\\right)^{2} - 14 \\delta \\operatorname{S_{n}}{\\left (0 \\right )} v^{8}{\\left (0 \\right )} - 60 i \\delta \\operatorname{S_{n}}{\\left (0 \\right )} v^{4}{\\left (0 \\right )} \\left. \\frac{d}{d t} v{\\left (t \\right )} \\right|_{\\substack{ t=0 }} + 39 i \\nu \\Sigma_{\\lambda}{\\left (0 \\right )} v^{8}{\\left (0 \\right )} - 144 \\nu \\Sigma_{\\lambda}{\\left (0 \\right )} v^{4}{\\left (0 \\right )} \\left. \\frac{d}{d t} v{\\left (t \\right )} \\right|_{\\substack{ t=0 }} - 1296 i \\nu \\Sigma_{\\lambda}{\\left (0 \\right )} \\left(\\left. \\frac{d}{d t} v{\\left (t \\right )} \\right|_{\\substack{ t=0 }}\\right)^{2} + 42 \\nu \\Sigma_{n}{\\left (0 \\right )} v^{8}{\\left (0 \\right )} + 180 i \\nu \\Sigma_{n}{\\left (0 \\right )} v^{4}{\\left (0 \\right )} \\left. \\frac{d}{d t} v{\\left (t \\right )} \\right|_{\\substack{ t=0 }} - 13 i \\Sigma_{\\lambda}{\\left (0 \\right )} v^{8}{\\left (0 \\right )} + 48 \\Sigma_{\\lambda}{\\left (0 \\right )} v^{4}{\\left (0 \\right )} \\left. \\frac{d}{d t} v{\\left (t \\right )} \\right|_{\\substack{ t=0 }} + 432 i \\Sigma_{\\lambda}{\\left (0 \\right )} \\left(\\left. \\frac{d}{d t} v{\\left (t \\right )} \\right|_{\\substack{ t=0 }}\\right)^{2} - 14 \\Sigma_{n}{\\left (0 \\right )} v^{8}{\\left (0 \\right )} - 60 i \\Sigma_{n}{\\left (0 \\right )} v^{4}{\\left (0 \\right )} \\left. \\frac{d}{d t} v{\\left (t \\right )} \\right|_{\\substack{ t=0 }}\\right)$$"
       ],
       "metadata": {},
       "output_type": "display_data",
       "png": "[encoded data removed]",
       "text": [
        "              \u239b                                                               \n",
        "  ___   ___   \u239c                 8                   4    \u239bd       \u239e\u2502          \n",
        "\u2572\u2571 2 \u22c5\u2572\u2571 \u03c0 \u22c5\u03bd\u22c5\u239c- 13\u22c5\u2148\u22c5\u03b4\u22c5S_\u03bb(0)\u22c5v (0) + 48\u22c5\u03b4\u22c5S_\u03bb(0)\u22c5v (0)\u22c5\u239c\u2500\u2500(v(t))\u239f\u2502    + 432\u22c5\n",
        "              \u239d                                          \u239ddt      \u23a0\u2502t=0       \n",
        "\u2500\u2500\u2500\u2500\u2500\u2500\u2500\u2500\u2500\u2500\u2500\u2500\u2500\u2500\u2500\u2500\u2500\u2500\u2500\u2500\u2500\u2500\u2500\u2500\u2500\u2500\u2500\u2500\u2500\u2500\u2500\u2500\u2500\u2500\u2500\u2500\u2500\u2500\u2500\u2500\u2500\u2500\u2500\u2500\u2500\u2500\u2500\u2500\u2500\u2500\u2500\u2500\u2500\u2500\u2500\u2500\u2500\u2500\u2500\u2500\u2500\u2500\u2500\u2500\u2500\u2500\u2500\u2500\u2500\u2500\u2500\u2500\u2500\u2500\u2500\u2500\u2500\u2500\n",
        "                                                                              \n",
        "                                                                              \n",
        "\n",
        "                         2                                                    \n",
        "           \u239bd       \u239e\u2502                    8                     4    \u239bd       \n",
        "\u2148\u22c5\u03b4\u22c5S_\u03bb(0)\u22c5\u239c\u2500\u2500(v(t))\u239f\u2502     - 14\u22c5\u03b4\u22c5S_n(0)\u22c5v (0) - 60\u22c5\u2148\u22c5\u03b4\u22c5S_n(0)\u22c5v (0)\u22c5\u239c\u2500\u2500(v(t))\n",
        "           \u239ddt      \u23a0\u2502t=0                                            \u239ddt      \n",
        "\u2500\u2500\u2500\u2500\u2500\u2500\u2500\u2500\u2500\u2500\u2500\u2500\u2500\u2500\u2500\u2500\u2500\u2500\u2500\u2500\u2500\u2500\u2500\u2500\u2500\u2500\u2500\u2500\u2500\u2500\u2500\u2500\u2500\u2500\u2500\u2500\u2500\u2500\u2500\u2500\u2500\u2500\u2500\u2500\u2500\u2500\u2500\u2500\u2500\u2500\u2500\u2500\u2500\u2500\u2500\u2500\u2500\u2500\u2500\u2500\u2500\u2500\u2500\u2500\u2500\u2500\u2500\u2500\u2500\u2500\u2500\u2500\u2500\u2500\u2500\u2500\u2500\u2500\n",
        "                                                                              \n",
        "                                                                              \n",
        "\n",
        "                                                                              \n",
        "\u239e\u2502                     8                    4    \u239bd       \u239e\u2502                  \n",
        "\u239f\u2502    + 39\u22c5\u2148\u22c5\u03bd\u22c5\u03a3_\u03bb(0)\u22c5v (0) - 144\u22c5\u03bd\u22c5\u03a3_\u03bb(0)\u22c5v (0)\u22c5\u239c\u2500\u2500(v(t))\u239f\u2502    - 1296\u22c5\u2148\u22c5\u03bd\u22c5\u03a3_\u03bb\n",
        "\u23a0\u2502t=0                                            \u239ddt      \u23a0\u2502t=0               \n",
        "\u2500\u2500\u2500\u2500\u2500\u2500\u2500\u2500\u2500\u2500\u2500\u2500\u2500\u2500\u2500\u2500\u2500\u2500\u2500\u2500\u2500\u2500\u2500\u2500\u2500\u2500\u2500\u2500\u2500\u2500\u2500\u2500\u2500\u2500\u2500\u2500\u2500\u2500\u2500\u2500\u2500\u2500\u2500\u2500\u2500\u2500\u2500\u2500\u2500\u2500\u2500\u2500\u2500\u2500\u2500\u2500\u2500\u2500\u2500\u2500\u2500\u2500\u2500\u2500\u2500\u2500\u2500\u2500\u2500\u2500\u2500\u2500\u2500\u2500\u2500\u2500\u2500\u2500\n",
        "                                                                      2       \n",
        "                                                                21\u22c5c\u22c5v (0)    \n",
        "\n",
        "                  2                                                           \n",
        "    \u239bd       \u239e\u2502                    8                      4    \u239bd       \u239e\u2502    \n",
        "(0)\u22c5\u239c\u2500\u2500(v(t))\u239f\u2502     + 42\u22c5\u03bd\u22c5\u03a3_n(0)\u22c5v (0) + 180\u22c5\u2148\u22c5\u03bd\u22c5\u03a3_n(0)\u22c5v (0)\u22c5\u239c\u2500\u2500(v(t))\u239f\u2502    \n",
        "    \u239ddt      \u23a0\u2502t=0                                             \u239ddt      \u23a0\u2502t=0 \n",
        "\u2500\u2500\u2500\u2500\u2500\u2500\u2500\u2500\u2500\u2500\u2500\u2500\u2500\u2500\u2500\u2500\u2500\u2500\u2500\u2500\u2500\u2500\u2500\u2500\u2500\u2500\u2500\u2500\u2500\u2500\u2500\u2500\u2500\u2500\u2500\u2500\u2500\u2500\u2500\u2500\u2500\u2500\u2500\u2500\u2500\u2500\u2500\u2500\u2500\u2500\u2500\u2500\u2500\u2500\u2500\u2500\u2500\u2500\u2500\u2500\u2500\u2500\u2500\u2500\u2500\u2500\u2500\u2500\u2500\u2500\u2500\u2500\u2500\u2500\u2500\u2500\u2500\u2500\n",
        "                                                                              \n",
        "                                                                              \n",
        "\n",
        "                                                                              \n",
        "               8                 4    \u239bd       \u239e\u2502                   \u239bd       \u239e\n",
        "- 13\u22c5\u2148\u22c5\u03a3_\u03bb(0)\u22c5v (0) + 48\u22c5\u03a3_\u03bb(0)\u22c5v (0)\u22c5\u239c\u2500\u2500(v(t))\u239f\u2502    + 432\u22c5\u2148\u22c5\u03a3_\u03bb(0)\u22c5\u239c\u2500\u2500(v(t))\u239f\n",
        "                                      \u239ddt      \u23a0\u2502t=0                \u239ddt      \u23a0\n",
        "\u2500\u2500\u2500\u2500\u2500\u2500\u2500\u2500\u2500\u2500\u2500\u2500\u2500\u2500\u2500\u2500\u2500\u2500\u2500\u2500\u2500\u2500\u2500\u2500\u2500\u2500\u2500\u2500\u2500\u2500\u2500\u2500\u2500\u2500\u2500\u2500\u2500\u2500\u2500\u2500\u2500\u2500\u2500\u2500\u2500\u2500\u2500\u2500\u2500\u2500\u2500\u2500\u2500\u2500\u2500\u2500\u2500\u2500\u2500\u2500\u2500\u2500\u2500\u2500\u2500\u2500\u2500\u2500\u2500\u2500\u2500\u2500\u2500\u2500\u2500\u2500\u2500\u2500\n",
        "                                                                              \n",
        "                                                                              \n",
        "\n",
        "    2                                                     \u239e\n",
        "\u2502                  8                   4    \u239bd       \u239e\u2502   \u239f\n",
        "\u2502     - 14\u22c5\u03a3_n(0)\u22c5v (0) - 60\u22c5\u2148\u22c5\u03a3_n(0)\u22c5v (0)\u22c5\u239c\u2500\u2500(v(t))\u239f\u2502   \u239f\n",
        "\u2502t=0                                        \u239ddt      \u23a0\u2502t=0\u23a0\n",
        "\u2500\u2500\u2500\u2500\u2500\u2500\u2500\u2500\u2500\u2500\u2500\u2500\u2500\u2500\u2500\u2500\u2500\u2500\u2500\u2500\u2500\u2500\u2500\u2500\u2500\u2500\u2500\u2500\u2500\u2500\u2500\u2500\u2500\u2500\u2500\u2500\u2500\u2500\u2500\u2500\u2500\u2500\u2500\u2500\u2500\u2500\u2500\u2500\u2500\u2500\u2500\u2500\u2500\u2500\u2500\u2500\u2500\u2500\u2500\n",
        "                                                           \n",
        "                                                           "
       ]
      }
     ],
     "prompt_number": 60
    },
    {
     "cell_type": "markdown",
     "metadata": {},
     "source": [
      "$dv/dt = -\\mathcal{L}/(dE/dv) \\approx -(2v^{10}/5)/(-v/8) = v^9/20$"
     ]
    },
    {
     "cell_type": "markdown",
     "metadata": {},
     "source": [
      "$d^2v/dt^2 = $"
     ]
    },
    {
     "cell_type": "code",
     "collapsed": false,
     "input": [],
     "language": "python",
     "metadata": {},
     "outputs": []
    },
    {
     "cell_type": "code",
     "collapsed": false,
     "input": [],
     "language": "python",
     "metadata": {},
     "outputs": []
    },
    {
     "cell_type": "code",
     "collapsed": false,
     "input": [],
     "language": "python",
     "metadata": {},
     "outputs": []
    }
   ],
   "metadata": {}
  }
 ]
}