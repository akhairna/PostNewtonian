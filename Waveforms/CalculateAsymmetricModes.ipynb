{
 "metadata": {
  "name": "",
  "signature": "sha256:06362c376cf9836fc71b724a982e78288e72ad86c74af4b1f9dab3ceabd0eca6"
 },
 "nbformat": 3,
 "nbformat_minor": 0,
 "worksheets": [
  {
   "cells": [
    {
     "cell_type": "markdown",
     "metadata": {},
     "source": [
      "To do:\n",
      " * Generate and output sympy code\n",
      " * Generate and output C++ code\n",
      " * Loop over components"
     ]
    },
    {
     "cell_type": "markdown",
     "metadata": {},
     "source": [
      "***Note:*** At the moment, this notebook computes radiated spherical harmonic modes from *source* multipole tensors.  It is designed only for the relatively low-order requirements of the spin parts of the waveform.  Thus, it generally ignores terms like $\\hat{n} \\cdot \\vec{v}$.  (That is, the velocity is assumed to be orthogonal to the separation between the black holes.)  Also, it ignores the intermediate multipoles needed to translate between source and radiated multipoles; they enter at somewhat higher order than we need.\n",
      "\n",
      "It would be easy enough to modify this notebook to account for the unaccounted-for terms, but this has not been done yet."
     ]
    },
    {
     "cell_type": "markdown",
     "metadata": {},
     "source": [
      "We have a couple formulas at lowest order that can guide us in our choice of terms to keep:\n",
      "\n",
      "$dv/dt = -\\mathcal{L}/(dE/dv) \\approx -(2v^{10}/5)/(-v/8) = v^9/20$\n",
      "\n",
      "$d^2v/dt^2 = 9v^8/20\\, dv/dt = 9 v^{17}/400$\n",
      "\n",
      "\\begin{align*}\n",
      "\\hat{n} \\cdot \\vec{v} &\\approx v\\, \\frac{dr}{dt} \\\\\n",
      "&= v\\, \\frac{d(1/v^2)}{dt} \\\\\n",
      "&= -\\frac{2}{v^2}\\, \\frac{dv}{dt} \\\\\n",
      "&= -\\frac{v^7}{10}\n",
      "\\end{align*}"
     ]
    },
    {
     "cell_type": "markdown",
     "metadata": {},
     "source": [
      "Clearing the cache is not strictly necessary, but I have found the cache can sometimes cause trouble."
     ]
    },
    {
     "cell_type": "code",
     "collapsed": false,
     "input": [
      "from sympy.core.cache import clear_cache\n",
      "clear_cache()"
     ],
     "language": "python",
     "metadata": {},
     "outputs": [],
     "prompt_number": 1
    },
    {
     "cell_type": "code",
     "collapsed": false,
     "input": [
      "from __future__ import division, print_function\n",
      "import sympy\n",
      "from sympy import *\n",
      "from sympy.printing import ccode\n",
      "from sympy import Rational as frac\n",
      "import re\n",
      "import simpletensors\n",
      "from simpletensors import Vector, xHat, yHat, zHat\n",
      "from simpletensors import TensorProduct, SymmetricTensorProduct, Tensor, ReduceExpr\n",
      "import sphericalharmonictensors\n",
      "init_printing()\n",
      "\n",
      "\n",
      "var('mu,ell,A,B,C,epsilon')\n",
      "var('jk,jkl,jklm,jklmn,jklmno,jklmnop,jklmnopq') # Index sets Blanchet uses\n",
      "var('i,j,k,l,m,n,o') # Indices Boh\u00e9 et al. use\n",
      "#var('Subscript', cls=Function); # Mathematica will return this, so let's just pretend it exists\n",
      "var('vartheta, varphi')\n",
      "var('nu, m, delta, c, t, v0')\n",
      "\n",
      "# These are related scalar functions of time\n",
      "var('v, gamma, r', cls=Function)\n",
      "v = v(t)\n",
      "x = v**2\n",
      "Omega = v**3\n",
      "# gamma = v**2*(1 + (1-nu/3)*v**2 + (1-65*nu/12)*v**4) # APPROXIMATELY!!!  Change this later\n",
      "#r = 1/gamma\n",
      "gamma = gamma(t)\n",
      "r = r(t)\n",
      "#r = 1/v**2 # APPROXIMATELY!!!  Just for testing.  Change this later\n",
      "\n",
      "# These get redefined momentarily, but have to exist first\n",
      "var('nHat, lambdaHat, ellHat', cls=Function)\n",
      "# And now we define them as vector functions of time\n",
      "nHat = Vector('nHat', r'\\hat{n}', [cos(Omega*t),sin(Omega*t),0,])(t)\n",
      "lambdaHat = Vector('lambdaHat', r'\\hat{\\lambda}', [-sin(Omega*t),cos(Omega*t),0,])(t)\n",
      "ellHat = Vector('ellHat', r'\\hat{\\ell}', [0,0,1,])(t)\n",
      "\n",
      "# # These are the spin functions -- first, the individual components as regular sympy.Function objects; then the vectors themselves\n",
      "# var('S_n, S_lambda, S_ell', cls=Function)\n",
      "# var('Sigma_n, Sigma_lambda, Sigma_ell', cls=Function)\n",
      "# SigmaVec = Vector('SigmaVec', r'\\vec{\\Sigma}', [Sigma_n(t), Sigma_lambda(t), Sigma_ell(t)])(t)\n",
      "# SVec = Vector('S', r'\\vec{S}', [S_n(t), S_lambda(t), S_ell(t)])(t)\n",
      "\n",
      "# These are the spin vector functions, treated as constant at this order\n",
      "# (note that this is w.r.t. the x,y,z basis, rather than n,lambda,ell)\n",
      "var('S_n, S_lambda, S_ell')\n",
      "var('Sigma_n, Sigma_lambda, Sigma_ell')\n",
      "SVec = Vector('S', r'\\vec{S}', [S_n, S_lambda, S_ell])(t)\n",
      "SigmaVec = Vector('SigmaVec', r'\\vec{\\Sigma}', [Sigma_n, Sigma_lambda, Sigma_ell])(t)\n",
      "\n",
      "# These are some cross products that appear in the spin terms, assuming $\\vec{v} = v\\hat{\\lambda}$\n",
      "SVectimeslambdaHat = Vector('SVectimeslambdaHat', r'\\vec{S} \\times \\hat{\\lambda}',\n",
      "                            [-S_ell*cos(Omega*t), -S_ell*sin(Omega*t), S_lambda*sin(Omega*t) + S_n*cos(Omega*t)])(t)\n",
      "SigmaVectimeslambdaHat = Vector('SigmaVectimeslambdaHat', r'\\vec{\\Sigma} \\times \\hat{\\lambda}',\n",
      "                                [-Sigma_ell*cos(Omega*t), -Sigma_ell*sin(Omega*t), Sigma_lambda*sin(Omega*t) + Sigma_n*cos(Omega*t)])(t)\n",
      "nHattimesSVec = Vector('nHattimesSVec', r'\\hat{n} \\times \\vec{S}',\n",
      "                       [S_ell*sin(Omega*t), -S_ell*cos(Omega*t), S_lambda*cos(Omega*t) - S_n*sin(Omega*t)])(t)\n",
      "nHattimesSigmaVec = Vector('nHattimesSigmaVec', r'\\hat{n} \\times \\vec{\\Sigma}',\n",
      "                           [Sigma_ell*sin(Omega*t), -Sigma_ell*cos(Omega*t), Sigma_lambda*cos(Omega*t) - Sigma_n*sin(Omega*t)])(t)\n",
      "nHattimeslambdaHat = ellHat\n",
      "nHatdotSVecdotlambdaHat = -S_ell # Symbol(r'\\left[ \\hat{n} \\cdot \\left( \\vec{S} \\times \\hat{\\lambda} \\right) \\right]')\n",
      "nHatdotSigmaVecdotlambdaHat = -Sigma_ell # Symbol(r'\\left[ \\hat{n} \\cdot \\left( \\vec{\\Sigma} \\times \\hat{\\lambda} \\right) \\right]')\n",
      "\n",
      "nHatdotv = diff(r,t,1) # Symbol(r'\\hat{n} \\cdot \\hat{v}')\n",
      "\n",
      "# These ignore the v^7 contribution from v along nHat\n",
      "SVecdotv = v*(-S_n*sin(Omega*t)+S_lambda*cos(Omega*t)) # Symbol(r'\\vec{S} \\cdot \\vec{v}')\n",
      "SigmaVecdotv = v*(-Sigma_n*sin(Omega*t)+Sigma_lambda*cos(Omega*t)) # Symbol(r'\\vec{\\Sigma} \\cdot \\vec{v}')\n",
      "\n",
      "nHatdotSVec = S_n*cos(Omega*t)+S_lambda*sin(Omega*t) # Symbol(r'\\hat{n} \\cdot \\vec{S}')\n",
      "nHatdotSigmaVec = Sigma_n*cos(Omega*t)+Sigma_lambda*sin(Omega*t) # Symbol(r'\\hat{n} \\cdot \\vec{\\Sigma}')"
     ],
     "language": "python",
     "metadata": {},
     "outputs": [],
     "prompt_number": 2
    },
    {
     "cell_type": "code",
     "collapsed": false,
     "input": [
      "SimplifyVectorDerivatives = {diff(nHat,t):Omega*lambdaHat, diff(lambdaHat,t):-Omega*nHat}\n",
      "DropvDerivatives = {diff(v,t,vDerivs)**vDerivPower:0\n",
      "                    for vDerivs in range(1,3)\n",
      "                    for vDerivPower in range(1,5)\n",
      "                    if vDerivs+vDerivPower>=2} # dv/dt \\approx v^9 / 20\n",
      "DropvDerivatives.update({diff(gamma,t,gammaDerivs)**gammaDerivPower:0\n",
      "                         for gammaDerivs in range(1,3)\n",
      "                         for gammaDerivPower in range(1,5)\n",
      "                         if gammaDerivs+gammaDerivPower>=2})\n",
      "DropvDerivatives.update({diff(r,t,rDerivs)**rDerivPower:0\n",
      "                         for rDerivs in range(1,3)\n",
      "                         for rDerivPower in range(1,5)\n",
      "                         if rDerivs+rDerivPower>=2})\n",
      "DropvDerivatives.update({'nHatdotv':0}) # n dot v \\approx - v^7 / 10\n",
      "ApproxvDerivatives = {diff(v,t): v**9/20,\n",
      "                      diff(gamma,t): v**10/10,\n",
      "                      diff(r,t): -v**6/10,\n",
      "                      }\n",
      "SpinComponents = {'SVecdotv':v0*S_lambda, 'SigmaVecdotv':v0*Sigma_lambda,\n",
      "                  'nHatdotSVec':S_n, 'nHatdotSigmaVec':Sigma_n, }\n",
      "# powers.get(v,0) + 2*powers.get(x,0) + 3*powers.get(Omega,0) + 2*powers.get(gamma,0) - 2*powers.get(r,0)"
     ],
     "language": "python",
     "metadata": {},
     "outputs": [],
     "prompt_number": 3
    },
    {
     "cell_type": "code",
     "collapsed": false,
     "input": [
      "def Subscript(vec, indices):\n",
      "    #print(\"Subscript({0}, {1})\".format(vec, indices))\n",
      "    try:\n",
      "        indices_str = indices.name\n",
      "    except AttributeError:\n",
      "        indices_str = indices\n",
      "    #print(\"About to construct TensorProduct([{0},]*{1}, coefficient=1, symmetric=True)\".format(vec, len(indices_str)))\n",
      "    return TensorProduct([vec,]*len(indices_str), coefficient=1, symmetric=True)"
     ],
     "language": "python",
     "metadata": {},
     "outputs": [],
     "prompt_number": 4
    },
    {
     "cell_type": "code",
     "collapsed": false,
     "input": [
      "Math={}\n",
      "Sym={}\n",
      "ns = locals()"
     ],
     "language": "python",
     "metadata": {},
     "outputs": [],
     "prompt_number": 5
    },
    {
     "cell_type": "code",
     "collapsed": false,
     "input": [
      "def CollectivePower(expr):\n",
      "    \"\"\"Given some product, return 2 * total PN order\n",
      "    \n",
      "    This treats v as 1, x**2 as 2, r as -2, etc., not accounting\n",
      "    for any contribution to PN order from spins\n",
      "    \"\"\"\n",
      "    powers = expr.subs({v.subs(t,0):v,r.subs(t,0):r,}).as_powers_dict()\n",
      "    return powers.get(v,0) + 2*powers.get(x,0) + 3*powers.get(Omega,0) + 2*powers.get(gamma,0) - 2*powers.get(r,0) \\\n",
      "        + 9*powers.get(diff(v,t,1), 0) + 17*powers.get(diff(v,t,2), 0) + 25*powers.get(diff(v,t,3), 0) \\\n",
      "        + 10*powers.get(diff(gamma,t,1), 0) + 18*powers.get(diff(gamma,t,2), 0) + 26*powers.get(diff(gamma,t,3), 0) \\\n",
      "        + 6*powers.get(diff(r,t,1), 0) + 14*powers.get(diff(r,t,2), 0) + 22*powers.get(diff(r,t,3), 0)\n",
      "\n",
      "def DropHigherRelativePowers(expression, relative_order=3):\n",
      "    try:\n",
      "        expression = sympy.expand(expression)\n",
      "        if(expression.func==sympy.Add):\n",
      "            lowest_order = min( [ CollectivePower(arg) for arg in expression.args ] )\n",
      "            expression = sum( [ arg for arg in expression.args if CollectivePower(arg)<=relative_order+lowest_order ] )\n",
      "            try:\n",
      "                return expression.simplify()\n",
      "            except:\n",
      "                if(expression==0.0) :\n",
      "                    return sympy.sympify(0)\n",
      "                return expression\n",
      "        else:\n",
      "            return expression\n",
      "    except:\n",
      "        return expression\n",
      "\n",
      "def DropHigherAbsolutePowers(expression, absolute_order=3):\n",
      "    try:\n",
      "        expression = sympy.expand(expression)\n",
      "        if(expression.func==sympy.Add):\n",
      "            expression = sum( [ arg for arg in expression.args if CollectivePower(arg)<=absolute_order ] )\n",
      "            try:\n",
      "                return expression.simplify()\n",
      "            except:\n",
      "                if(expression==0.0) :\n",
      "                    return sympy.sympify(0)\n",
      "                return expression\n",
      "        else:\n",
      "            if(CollectivePower(expression)<=absolute_order) :\n",
      "                return expression\n",
      "            else:\n",
      "                return sympy.sympify(0)\n",
      "    except:\n",
      "        return expression\n",
      "\n",
      "def DropHigherAbsolutePowersOfTensorProduct(tp, absolute_order=3):\n",
      "    return simpletensors.TensorProduct([c for c in tp],\n",
      "                                       coefficient=DropHigherAbsolutePowers(tp.coefficient, absolute_order), symmetric=tp.symmetric)\n",
      "\n",
      "def DropHigherRelativePowersOfTensorProduct(tp, relative_order=3):\n",
      "    return simpletensors.TensorProduct([c for c in tp],\n",
      "                                       coefficient=DropHigherRelativePowers(tp.coefficient, relative_order), symmetric=tp.symmetric)\n",
      "\n",
      "def DropHigherAbsolutePowersOfTensor(t, absolute_order=3):\n",
      "    return sum( [DropHigherAbsolutePowersOfTensorProduct(tp, absolute_order) for tp in t ] )\n",
      "\n",
      "def DropHigherRelativePowersOfTensor(t, relative_order=3):\n",
      "    lowest_order = sys.maxint\n",
      "    for term in t:\n",
      "        expression = sympy.expand(term.coefficient)\n",
      "        try:\n",
      "            if(expression.func==sympy.Add):\n",
      "                for arg in expression.args:\n",
      "                    lowest_order = min(lowest_order, CollectivePower(arg))\n",
      "            else:\n",
      "                lowest_order = min(lowest_order, CollectivePower(expression))\n",
      "        except:\n",
      "            pass\n",
      "    return sum( [DropHigherAbsolutePowersOfTensorProduct(tp, relative_order+lowest_order) for tp in t ] )\n"
     ],
     "language": "python",
     "metadata": {},
     "outputs": [],
     "prompt_number": 6
    },
    {
     "cell_type": "code",
     "collapsed": false,
     "input": [
      "%%time\n",
      "\n",
      "MathKernel='/Applications/Local/Mathematica.app/Contents/MacOS/MathKernel'\n",
      "\n",
      "# This little `math` script does the conversion we need.\n",
      "# It has to output to a temporary file because I know of no\n",
      "# better way to get the correct format out of Mathematica.\n",
      "# This whole thing\n",
      "MathCommand = r\"\"\"\n",
      "    \\[Nu] = nu;\n",
      "    \\[Mu] = mu;\n",
      "    \\[CapitalDelta] = delta;\n",
      "    \\[Delta] = delta;\n",
      "    \\[Lambda] = lambda;\n",
      "    \\[CapitalSigma] = Sigma;\n",
      "    \\[Gamma] = gamma;\n",
      "    \\[Epsilon] = epsilon;\n",
      "    \\[Gamma]\\[Nu] = gamma*nu;\n",
      "    \\[ScriptL] = ell;\n",
      "    (*Print[InputForm[ToExpression[\"{0}\", TeXForm]]];*)\n",
      "    ToExpression[\"{0}\", TeXForm] >> /tmp/Math.cpp;\n",
      "    Exit[];\n",
      "\"\"\"\n",
      "\n",
      "# # I believe all the results from this group:\n",
      "# SrcDir = \"source/BlanchetLivRev/\"\n",
      "# MultipoleNames = [\"I_ij\", \"I_ij_A\", \"I_ij_B\", \"I_ij_C\", \"J_ij\", \"I_ijk\", \"J_ijk\", \"I_ijkl\", \"J_ijkl\"]\n",
      "\n",
      "# # I believe all the results from this group:\n",
      "# SrcDir = \"source/BoheEtAl/eqs/\"\n",
      "# MultipoleNames = [\"JijCMS\", \"IijklCMS\", \"JijklCMS\",\"JijkCMS\",]\n",
      "\n",
      "# # I mostly believe the results from this group, but\n",
      "# # I don't have the patience to check them all:\n",
      "# SrcDir = \"source/BoheEtAl/eqs/\"\n",
      "# MultipoleNames = [\"IijCMS\", \"IijkCMS\", \"JijklCMS\",]\n",
      "\n",
      "SrcDir = \"source/BoheEtAl/eqs/\"\n",
      "MultipoleNames = [\"IijklCMS\", \"JijklCMS\",\"IijkCMS\", \"JijkCMS\", \"IijCMS\", \"JijCMS\",]\n",
      "\n",
      "multiplication = r'\\,'\n",
      "\n",
      "def TensorCreator(coefficient, vector):\n",
      "    \"Used in the regex wars (below)\"\n",
      "    def func(match):\n",
      "        indices = list(match.group(1))\n",
      "        if not coefficient:\n",
      "            return vector + '_{%s}'%match.group(1)\n",
      "        return vector + '_{%s}'%match.group(1) + multiplication + coefficient + '^{%s}'%len(indices)\n",
      "    return func\n",
      "\n",
      "prereplacements = [\n",
      "    [r'\\\\\\\\',r''], # Line breask are meaningless\n",
      "    [r'&',r''], # Alignments are meaningless\n",
      "    [r'\\\\nonumber',r''], # I wasn't gonna anyway\n",
      "    [r'~',r''], # Explicit spacing is useless\n",
      "    [r'\\\\q*uad',r''], # Explicit spacing is useless\n",
      "    [r'.*?= *',r''],\n",
      "    [r' *\\+ *\\\\mathcal{O}.*',r''],\n",
      "    [r'\\(n,\\\\*(Sigma|S) *,v\\)',\n",
      "     r'v\\,\\mathrm{ndot\\1dotlambdaHat}'], # Catch Boh\u00e9 et al.'s use of (n,S,v), (n,Sigma,v), for the triple product\n",
      "    [r'\\(\\\\*(n|v|S|Sigma) *\\\\*(n|v|S|Sigma) *\\)',\n",
      "     r'\\mathrm{\\1dot\\2}'], # Catch Boh\u00e9 et al.'s use of (nv), etc., for the dot product\n",
      "    #[r'\\\\,', multiplication], # This gets us a good chunk of the way, if we're lucky\n",
      "    [r'(\\\\langle|\\\\rangle|<|>)',r''], # The YlmTensors are already STF\n",
      "    [r'\\\\epsilon_\\{ab *i\\}(.*?)(\\{*.\\}*)(_.*?)a(.*?)(\\{*.\\}*)(_.*?)b',\n",
      "     r'r\\,v\\,\\ell_i\\, \\1\\2\\3 \\4\\5\\6 '], # Do the cross product\n",
      "    [r'\\{*x\\}*_(\\{\\}| )', ''], # Remove stubs left from above\n",
      "    [r'\\{*v\\}*_(\\{\\}| )', ''], # Remove stubs left from above\n",
      "    [r'\\\\left(\\(|\\[|\\\\{)',r'('],\n",
      "    [r'\\\\right(\\)|\\]|\\\\})',r')'],\n",
      "    [r'\\\\(B|b)ig+(\\(|\\[|\\\\{)',r'('],\n",
      "    [r'\\\\(B|b)ig+(\\)|\\]|\\\\})',r')'],\n",
      "    [r'\\\\left\\.',r''], # Do this BEFORE replacing \\left\n",
      "    [r'\\\\right\\.',r''], # Do this BEFORE replacing \\right\n",
      "    [r'\\\\left',r''],\n",
      "    [r'\\\\right',r''],\n",
      "    [r'\\(\\\\mathbf{\\\\*(.*?)}\\\\times\\\\mathbf{\\\\*(.*?)}\\)',\n",
      "     r'\\mathrm{\\1times\\2}'],\n",
      "    [r'\\^\\{([ijkl])\\}',r'_{\\1}'],\n",
      "    [r'n_{ *(.*?) *}',TensorCreator('', 'n')],\n",
      "    [r'x_{ *(.*?) *}',TensorCreator('r', 'n')],\n",
      "    [r'\\{x\\}_{ *(.*?) *}',TensorCreator('r', 'n')],\n",
      "    [r'v_{ *(.*?) *}',TensorCreator('v', r'\\lambda')],\n",
      "    [r'\\{v\\}_{ *(.*?) *}',TensorCreator('v', r'\\lambda')],\n",
      "    [r'  *',r' '], # Tighten up spacing\n",
      "    [r'\\(',r'\\,('], # Doesn't hurt to assume multiplication\n",
      "    [r'([^\\\\]),',r'\\1'], # Remove comma at the end of an equation\n",
      "    [r'([^\\\\])\\.',r'\\1'], # Remove period at the end of an equation\n",
      "    [r'\\\\ln *\\\\*,*',r'\\log'],\n",
      "    ['\\\\\\\\',r'\\\\\\\\'], # Escape backslashes for Mathematica\n",
      "    [r\"'\",r\"Prm\"],\n",
      "    #[r\"'\",r\"'\\''\"], # Pull the ugly command-line single-quote hack AFTER escaping backslashes\n",
      "]\n",
      "\n",
      "postreplacements = [\n",
      "    [r'\\^',r'**'],\n",
      "    [r'lambda(?!Hat)',r'lambdaHat'],\n",
      "    [r'\\[',r'('],\n",
      "    [r'\\]',r')'],\n",
      "    [r'Sigma',r'SigmaVec'],\n",
      "    [r'S(?!igma|ubscript)',r'SVec'],\n",
      "    [r'n(?!u)',r'nHat'],\n",
      "    [r'ell',r'ellHat'],\n",
      "    [r'Subscript\\(((SigmaVec|SVec|nHat)times)v', r'v*Subscript(\\1lambdaHat'],\n",
      "    #[r'Subscript',r'TensorProductCreator'],\n",
      "]\n",
      "\n",
      "for MultipoleName in MultipoleNames:\n",
      "    print(\"\\n\"+MultipoleName)\n",
      "    with open(SrcDir+MultipoleName+\".tex\", \"r\") as myfile:\n",
      "        data=myfile.read().replace('\\n', ' ')\n",
      "    #print(\"Raw content of {0}:\\n\".format(MultipoleName)); print(data)\n",
      "    for replacement in prereplacements:\n",
      "        data = re.sub(replacement[0], replacement[1], data)\n",
      "    #print(\"\\nbecomes\\n\"); print(\"\"\"'{0}'\"\"\".format(data))\n",
      "    #! echo '{MathCommand.format(data)}'\n",
      "    #continue # Skip Mathematica stuff for now\n",
      "    ! {MathKernel} -run '{MathCommand.format(data)}' >& /dev/null\n",
      "    MathTmp = !cat /tmp/Math.cpp\n",
      "    Math[MultipoleName] = ''.join(MathTmp)\n",
      "    for replacement in postreplacements:\n",
      "        Math[MultipoleName] = re.sub(replacement[0], replacement[1], Math[MultipoleName])\n",
      "    #print(\"\\nbecomes\\n\"); print(Math[MultipoleName]); print(\"\\nbecomes\\n\")\n",
      "    Sym[MultipoleName] = sympify(Math[MultipoleName], ns)\n",
      "    #display(Sym[MultipoleName])\n",
      "    with open('results/raw/'+MultipoleName+'.tex', 'w') as the_file:\n",
      "        the_file.write(latex(Sym[MultipoleName]))\n",
      "    #print(\"  reduces to\")\n",
      "    Sym[MultipoleName] = ReduceExpr(Sym[MultipoleName]).compress()\n",
      "    #display(Sym[MultipoleName])\n",
      "    with open('results/'+MultipoleName+'.tex', 'w') as the_file:\n",
      "        the_file.write(latex(Sym[MultipoleName]))\n",
      "    with open('results/'+MultipoleName+'.py', 'w') as the_file:\n",
      "       the_file.write(repr(Sym[MultipoleName]))\n",
      "    #print(\"\\n\\n\")"
     ],
     "language": "python",
     "metadata": {},
     "outputs": [
      {
       "output_type": "stream",
       "stream": "stdout",
       "text": [
        "\n",
        "IijklCMS\n"
       ]
      },
      {
       "output_type": "stream",
       "stream": "stdout",
       "text": [
        "\n",
        "JijklCMS\n"
       ]
      },
      {
       "output_type": "stream",
       "stream": "stdout",
       "text": [
        "\n",
        "IijkCMS\n"
       ]
      },
      {
       "output_type": "stream",
       "stream": "stdout",
       "text": [
        "\n",
        "JijkCMS\n"
       ]
      },
      {
       "output_type": "stream",
       "stream": "stdout",
       "text": [
        "\n",
        "IijCMS\n"
       ]
      },
      {
       "output_type": "stream",
       "stream": "stdout",
       "text": [
        "\n",
        "JijCMS\n"
       ]
      },
      {
       "output_type": "stream",
       "stream": "stdout",
       "text": [
        "CPU times: user 7min 15s, sys: 3.02 s, total: 7min 18s\n",
        "Wall time: 8min 36s\n"
       ]
      }
     ],
     "prompt_number": 7
    },
    {
     "cell_type": "code",
     "collapsed": false,
     "input": [
      "%%time\n",
      "AsymmetricModeTerms = {}\n",
      "for I_L,J_L in [[\"IijklCMS\", \"JijklCMS\"], [\"IijkCMS\", \"JijkCMS\"], [\"IijCMS\", \"JijCMS\"]]:\n",
      "    U_L,V_L = [Sym[I_L],Sym[J_L]]\n",
      "    ell = U_L.rank\n",
      "    print('ell={0}'.format(ell)); sys.stdout.flush()\n",
      "    AsymmetricModeTerms[ell] = {}\n",
      "    for m in range(0,ell+1):\n",
      "        print('(ell,m)=({0},{1})'.format(ell,m)); sys.stdout.flush()\n",
      "        if((ell+m)%2==0) :\n",
      "            tmp = sympy.simplify(sympy.I*sphericalharmonictensors.Vlm(V_L, m)/sympy.sqrt(2))\n",
      "        else :\n",
      "            tmp = sympy.simplify(-sphericalharmonictensors.Ulm(U_L, m)/sympy.sqrt(2))\n",
      "        for i_order in range(ell):\n",
      "            tmp = diff(tmp, t)\n",
      "            tmp = tmp.xreplace(SimplifyVectorDerivatives).subs(dict(DropvDerivatives.items()+ApproxvDerivatives.items())).subs(SpinComponents)\n",
      "            tmp = DropHigherRelativePowers(tmp, 3)\n",
      "        AsymmetricModeTerms[ell][m] = sympy.simplify(sympy.simplify(tmp).doit().subs(t,0))\n",
      "        display(AsymmetricModeTerms[ell][m])\n",
      "        with open('results/hAsymmetric_{0}_{1}.tex'.format(ell,m), 'w') as the_file:\n",
      "            the_file.write(latex(AsymmetricModeTerms[ell][m]))\n",
      "        with open('results/hAsymmetric_{0}_{1}.py'.format(ell,m), 'w') as the_file:\n",
      "            the_file.write(repr(AsymmetricModeTerms[ell][m]))\n",
      "        with open('results/hAsymmetric_{0}_{1}.c'.format(ell,m), 'w') as the_file:\n",
      "            the_file.write(ccode(N(AsymmetricModeTerms[ell][m])))"
     ],
     "language": "python",
     "metadata": {},
     "outputs": [
      {
       "output_type": "stream",
       "stream": "stdout",
       "text": [
        "ell=4\n"
       ]
      },
      {
       "output_type": "stream",
       "stream": "stdout",
       "text": [
        "(ell,m)=(4,0)\n"
       ]
      },
      {
       "latex": [
        "$$\\frac{\\sqrt{10} i \\sqrt{\\pi} \\nu}{105 c} \\left(S_{n} \\delta - 3 \\Sigma_{n} \\nu + \\Sigma_{n}\\right) r^{3}{\\left (0 \\right )} v^{12}{\\left (0 \\right )}$$"
       ],
       "metadata": {},
       "output_type": "display_data",
       "png": "[encoded data removed]",
       "text": [
        "  ____     ___                            3     12   \n",
        "\u2572\u2571 10 \u22c5\u2148\u22c5\u2572\u2571 \u03c0 \u22c5\u03bd\u22c5(S_n\u22c5\u03b4 - 3\u22c5\u03a3_n\u22c5\u03bd + \u03a3_n)\u22c5r (0)\u22c5v  (0)\n",
        "\u2500\u2500\u2500\u2500\u2500\u2500\u2500\u2500\u2500\u2500\u2500\u2500\u2500\u2500\u2500\u2500\u2500\u2500\u2500\u2500\u2500\u2500\u2500\u2500\u2500\u2500\u2500\u2500\u2500\u2500\u2500\u2500\u2500\u2500\u2500\u2500\u2500\u2500\u2500\u2500\u2500\u2500\u2500\u2500\u2500\u2500\u2500\u2500\u2500\u2500\u2500\u2500\u2500\n",
        "                        105\u22c5c                        "
       ]
      },
      {
       "output_type": "stream",
       "stream": "stdout",
       "text": [
        "(ell,m)=(4,1)\n"
       ]
      },
      {
       "latex": [
        "$$- \\frac{4 \\sqrt{2} \\sqrt{\\pi} \\nu}{105 c^{3}} \\left(18 i S_{\\lambda} \\nu - 6 i S_{\\lambda} + 18 S_{n} \\nu - 6 S_{n} + 17 i \\Sigma_{\\lambda} \\delta \\nu - 6 i \\Sigma_{\\lambda} \\delta + 17 \\Sigma_{n} \\delta \\nu - 6 \\Sigma_{n} \\delta\\right) r^{3}{\\left (0 \\right )} v^{13}{\\left (0 \\right )}$$"
       ],
       "metadata": {},
       "output_type": "display_data",
       "png": "[encoded data removed]",
       "text": [
        "     ___   ___                                                                \n",
        "-4\u22c5\u2572\u2571 2 \u22c5\u2572\u2571 \u03c0 \u22c5\u03bd\u22c5(18\u22c5\u2148\u22c5S_\u03bb\u22c5\u03bd - 6\u22c5\u2148\u22c5S_\u03bb + 18\u22c5S_n\u22c5\u03bd - 6\u22c5S_n + 17\u22c5\u2148\u22c5\u03a3_\u03bb\u22c5\u03b4\u22c5\u03bd - 6\u22c5\u2148\n",
        "\u2500\u2500\u2500\u2500\u2500\u2500\u2500\u2500\u2500\u2500\u2500\u2500\u2500\u2500\u2500\u2500\u2500\u2500\u2500\u2500\u2500\u2500\u2500\u2500\u2500\u2500\u2500\u2500\u2500\u2500\u2500\u2500\u2500\u2500\u2500\u2500\u2500\u2500\u2500\u2500\u2500\u2500\u2500\u2500\u2500\u2500\u2500\u2500\u2500\u2500\u2500\u2500\u2500\u2500\u2500\u2500\u2500\u2500\u2500\u2500\u2500\u2500\u2500\u2500\u2500\u2500\u2500\u2500\u2500\u2500\u2500\u2500\u2500\u2500\u2500\u2500\u2500\u2500\n",
        "                                                               3              \n",
        "                                                          105\u22c5c               \n",
        "\n",
        "                                3     13    \n",
        "\u22c5\u03a3_\u03bb\u22c5\u03b4 + 17\u22c5\u03a3_n\u22c5\u03b4\u22c5\u03bd - 6\u22c5\u03a3_n\u22c5\u03b4)\u22c5r (0)\u22c5v  (0) \n",
        "\u2500\u2500\u2500\u2500\u2500\u2500\u2500\u2500\u2500\u2500\u2500\u2500\u2500\u2500\u2500\u2500\u2500\u2500\u2500\u2500\u2500\u2500\u2500\u2500\u2500\u2500\u2500\u2500\u2500\u2500\u2500\u2500\u2500\u2500\u2500\u2500\u2500\u2500\u2500\u2500\u2500\u2500\u2500\u2500\n",
        "                                            \n",
        "                                            "
       ]
      },
      {
       "output_type": "stream",
       "stream": "stdout",
       "text": [
        "(ell,m)=(4,2)\n"
       ]
      },
      {
       "latex": [
        "$$\\frac{\\sqrt{\\pi} \\nu}{21 c} \\left(13 S_{\\lambda} \\delta - 14 i S_{n} \\delta - 39 \\Sigma_{\\lambda} \\nu + 13 \\Sigma_{\\lambda} + 42 i \\Sigma_{n} \\nu - 14 i \\Sigma_{n}\\right) r^{3}{\\left (0 \\right )} v^{12}{\\left (0 \\right )}$$"
       ],
       "metadata": {},
       "output_type": "display_data",
       "png": "[encoded data removed]",
       "text": [
        "  ___                                                                        3\n",
        "\u2572\u2571 \u03c0 \u22c5\u03bd\u22c5(13\u22c5S_\u03bb\u22c5\u03b4 - 14\u22c5\u2148\u22c5S_n\u22c5\u03b4 - 39\u22c5\u03a3_\u03bb\u22c5\u03bd + 13\u22c5\u03a3_\u03bb + 42\u22c5\u2148\u22c5\u03a3_n\u22c5\u03bd - 14\u22c5\u2148\u22c5\u03a3_n)\u22c5r \n",
        "\u2500\u2500\u2500\u2500\u2500\u2500\u2500\u2500\u2500\u2500\u2500\u2500\u2500\u2500\u2500\u2500\u2500\u2500\u2500\u2500\u2500\u2500\u2500\u2500\u2500\u2500\u2500\u2500\u2500\u2500\u2500\u2500\u2500\u2500\u2500\u2500\u2500\u2500\u2500\u2500\u2500\u2500\u2500\u2500\u2500\u2500\u2500\u2500\u2500\u2500\u2500\u2500\u2500\u2500\u2500\u2500\u2500\u2500\u2500\u2500\u2500\u2500\u2500\u2500\u2500\u2500\u2500\u2500\u2500\u2500\u2500\u2500\u2500\u2500\u2500\u2500\u2500\u2500\n",
        "                                          21\u22c5c                                \n",
        "\n",
        "     12   \n",
        "(0)\u22c5v  (0)\n",
        "\u2500\u2500\u2500\u2500\u2500\u2500\u2500\u2500\u2500\u2500\n",
        "          "
       ]
      },
      {
       "output_type": "stream",
       "stream": "stdout",
       "text": [
        "(ell,m)=(4,3)\n"
       ]
      },
      {
       "latex": [
        "$$\\frac{4 \\sqrt{14} \\sqrt{\\pi} \\nu}{315 c^{3}} \\left(54 i S_{\\lambda} \\nu - 18 i S_{\\lambda} + 138 S_{n} \\nu - 46 S_{n} + 111 i \\Sigma_{\\lambda} \\delta \\nu - 18 i \\Sigma_{\\lambda} \\delta + 177 \\Sigma_{n} \\delta \\nu - 46 \\Sigma_{n} \\delta\\right) r^{3}{\\left (0 \\right )} v^{13}{\\left (0 \\right )}$$"
       ],
       "metadata": {},
       "output_type": "display_data",
       "png": "[encoded data removed]",
       "text": [
        "    ____   ___                                                                \n",
        "4\u22c5\u2572\u2571 14 \u22c5\u2572\u2571 \u03c0 \u22c5\u03bd\u22c5(54\u22c5\u2148\u22c5S_\u03bb\u22c5\u03bd - 18\u22c5\u2148\u22c5S_\u03bb + 138\u22c5S_n\u22c5\u03bd - 46\u22c5S_n + 111\u22c5\u2148\u22c5\u03a3_\u03bb\u22c5\u03b4\u22c5\u03bd -\n",
        "\u2500\u2500\u2500\u2500\u2500\u2500\u2500\u2500\u2500\u2500\u2500\u2500\u2500\u2500\u2500\u2500\u2500\u2500\u2500\u2500\u2500\u2500\u2500\u2500\u2500\u2500\u2500\u2500\u2500\u2500\u2500\u2500\u2500\u2500\u2500\u2500\u2500\u2500\u2500\u2500\u2500\u2500\u2500\u2500\u2500\u2500\u2500\u2500\u2500\u2500\u2500\u2500\u2500\u2500\u2500\u2500\u2500\u2500\u2500\u2500\u2500\u2500\u2500\u2500\u2500\u2500\u2500\u2500\u2500\u2500\u2500\u2500\u2500\u2500\u2500\u2500\u2500\u2500\n",
        "                                                                  3           \n",
        "                                                             315\u22c5c            \n",
        "\n",
        "                                       3     13   \n",
        " 18\u22c5\u2148\u22c5\u03a3_\u03bb\u22c5\u03b4 + 177\u22c5\u03a3_n\u22c5\u03b4\u22c5\u03bd - 46\u22c5\u03a3_n\u22c5\u03b4)\u22c5r (0)\u22c5v  (0)\n",
        "\u2500\u2500\u2500\u2500\u2500\u2500\u2500\u2500\u2500\u2500\u2500\u2500\u2500\u2500\u2500\u2500\u2500\u2500\u2500\u2500\u2500\u2500\u2500\u2500\u2500\u2500\u2500\u2500\u2500\u2500\u2500\u2500\u2500\u2500\u2500\u2500\u2500\u2500\u2500\u2500\u2500\u2500\u2500\u2500\u2500\u2500\u2500\u2500\u2500\u2500\n",
        "                                                  \n",
        "                                                  "
       ]
      },
      {
       "output_type": "stream",
       "stream": "stdout",
       "text": [
        "(ell,m)=(4,4)\n"
       ]
      },
      {
       "latex": [
        "$$\\frac{9 \\sqrt{7} \\sqrt{\\pi} \\nu}{7 c} \\left(S_{\\lambda} \\delta + i S_{n} \\delta - 3 \\Sigma_{\\lambda} \\nu + \\Sigma_{\\lambda} - 3 i \\Sigma_{n} \\nu + i \\Sigma_{n}\\right) r^{3}{\\left (0 \\right )} v^{12}{\\left (0 \\right )}$$"
       ],
       "metadata": {},
       "output_type": "display_data",
       "png": "[encoded data removed]",
       "text": [
        "    ___   ___                                                          3     1\n",
        "9\u22c5\u2572\u2571 7 \u22c5\u2572\u2571 \u03c0 \u22c5\u03bd\u22c5(S_\u03bb\u22c5\u03b4 + \u2148\u22c5S_n\u22c5\u03b4 - 3\u22c5\u03a3_\u03bb\u22c5\u03bd + \u03a3_\u03bb - 3\u22c5\u2148\u22c5\u03a3_n\u22c5\u03bd + \u2148\u22c5\u03a3_n)\u22c5r (0)\u22c5v \n",
        "\u2500\u2500\u2500\u2500\u2500\u2500\u2500\u2500\u2500\u2500\u2500\u2500\u2500\u2500\u2500\u2500\u2500\u2500\u2500\u2500\u2500\u2500\u2500\u2500\u2500\u2500\u2500\u2500\u2500\u2500\u2500\u2500\u2500\u2500\u2500\u2500\u2500\u2500\u2500\u2500\u2500\u2500\u2500\u2500\u2500\u2500\u2500\u2500\u2500\u2500\u2500\u2500\u2500\u2500\u2500\u2500\u2500\u2500\u2500\u2500\u2500\u2500\u2500\u2500\u2500\u2500\u2500\u2500\u2500\u2500\u2500\u2500\u2500\u2500\u2500\u2500\u2500\u2500\n",
        "                                       7\u22c5c                                    \n",
        "\n",
        "2   \n",
        " (0)\n",
        "\u2500\u2500\u2500\u2500\n",
        "    "
       ]
      },
      {
       "output_type": "stream",
       "stream": "stdout",
       "text": [
        "ell=3\n"
       ]
      },
      {
       "output_type": "stream",
       "stream": "stdout",
       "text": [
        "(ell,m)=(3,0)\n"
       ]
      },
      {
       "latex": [
        "$$- \\frac{\\sqrt{210} \\sqrt{\\pi} \\nu}{1890 c^{5}} \\left(101 Gm S_{\\lambda} \\delta \\nu + 41 Gm S_{\\lambda} \\delta - 479 Gm \\Sigma_{\\lambda} \\nu^{2} + 20 Gm \\Sigma_{\\lambda} \\nu + 29 Gm \\Sigma_{\\lambda} - 147 S_{\\lambda} \\delta \\nu r{\\left (0 \\right )} v^{2}{\\left (0 \\right )} + 33 S_{\\lambda} \\delta r{\\left (0 \\right )} v^{2}{\\left (0 \\right )} + 687 \\Sigma_{\\lambda} \\nu^{2} r{\\left (0 \\right )} v^{2}{\\left (0 \\right )} - 306 \\Sigma_{\\lambda} \\nu r{\\left (0 \\right )} v^{2}{\\left (0 \\right )} + 33 \\Sigma_{\\lambda} r{\\left (0 \\right )} v^{2}{\\left (0 \\right )} + 18 c^{2} \\left(3 S_{\\lambda} \\delta - 11 \\Sigma_{\\lambda} \\nu + 3 \\Sigma_{\\lambda}\\right) r{\\left (0 \\right )}\\right) r{\\left (0 \\right )} v^{10}{\\left (0 \\right )}$$"
       ],
       "metadata": {},
       "output_type": "display_data",
       "png": "[encoded data removed]",
       "text": [
        "   _____   ___   \u239b                                           2                \n",
        "-\u2572\u2571 210 \u22c5\u2572\u2571 \u03c0 \u22c5\u03bd\u22c5\u239d101\u22c5Gm\u22c5S_\u03bb\u22c5\u03b4\u22c5\u03bd + 41\u22c5Gm\u22c5S_\u03bb\u22c5\u03b4 - 479\u22c5Gm\u22c5\u03a3_\u03bb\u22c5\u03bd  + 20\u22c5Gm\u22c5\u03a3_\u03bb\u22c5\u03bd +\n",
        "\u2500\u2500\u2500\u2500\u2500\u2500\u2500\u2500\u2500\u2500\u2500\u2500\u2500\u2500\u2500\u2500\u2500\u2500\u2500\u2500\u2500\u2500\u2500\u2500\u2500\u2500\u2500\u2500\u2500\u2500\u2500\u2500\u2500\u2500\u2500\u2500\u2500\u2500\u2500\u2500\u2500\u2500\u2500\u2500\u2500\u2500\u2500\u2500\u2500\u2500\u2500\u2500\u2500\u2500\u2500\u2500\u2500\u2500\u2500\u2500\u2500\u2500\u2500\u2500\u2500\u2500\u2500\u2500\u2500\u2500\u2500\u2500\u2500\u2500\u2500\u2500\u2500\u2500\n",
        "                                                                              \n",
        "                                                                              \n",
        "\n",
        "                               2                     2               2       2\n",
        " 29\u22c5Gm\u22c5\u03a3_\u03bb - 147\u22c5S_\u03bb\u22c5\u03b4\u22c5\u03bd\u22c5r(0)\u22c5v (0) + 33\u22c5S_\u03bb\u22c5\u03b4\u22c5r(0)\u22c5v (0) + 687\u22c5\u03a3_\u03bb\u22c5\u03bd \u22c5r(0)\u22c5v \n",
        "\u2500\u2500\u2500\u2500\u2500\u2500\u2500\u2500\u2500\u2500\u2500\u2500\u2500\u2500\u2500\u2500\u2500\u2500\u2500\u2500\u2500\u2500\u2500\u2500\u2500\u2500\u2500\u2500\u2500\u2500\u2500\u2500\u2500\u2500\u2500\u2500\u2500\u2500\u2500\u2500\u2500\u2500\u2500\u2500\u2500\u2500\u2500\u2500\u2500\u2500\u2500\u2500\u2500\u2500\u2500\u2500\u2500\u2500\u2500\u2500\u2500\u2500\u2500\u2500\u2500\u2500\u2500\u2500\u2500\u2500\u2500\u2500\u2500\u2500\u2500\u2500\u2500\u2500\n",
        "                                                     5                        \n",
        "                                               1890\u22c5c                         \n",
        "\n",
        "                      2                   2          2                        \n",
        "(0) - 306\u22c5\u03a3_\u03bb\u22c5\u03bd\u22c5r(0)\u22c5v (0) + 33\u22c5\u03a3_\u03bb\u22c5r(0)\u22c5v (0) + 18\u22c5c \u22c5(3\u22c5S_\u03bb\u22c5\u03b4 - 11\u22c5\u03a3_\u03bb\u22c5\u03bd + 3\n",
        "\u2500\u2500\u2500\u2500\u2500\u2500\u2500\u2500\u2500\u2500\u2500\u2500\u2500\u2500\u2500\u2500\u2500\u2500\u2500\u2500\u2500\u2500\u2500\u2500\u2500\u2500\u2500\u2500\u2500\u2500\u2500\u2500\u2500\u2500\u2500\u2500\u2500\u2500\u2500\u2500\u2500\u2500\u2500\u2500\u2500\u2500\u2500\u2500\u2500\u2500\u2500\u2500\u2500\u2500\u2500\u2500\u2500\u2500\u2500\u2500\u2500\u2500\u2500\u2500\u2500\u2500\u2500\u2500\u2500\u2500\u2500\u2500\u2500\u2500\u2500\u2500\u2500\u2500\n",
        "                                                                              \n",
        "                                                                              \n",
        "\n",
        "          \u239e       10    \n",
        "\u22c5\u03a3_\u03bb)\u22c5r(0)\u23a0\u22c5r(0)\u22c5v  (0) \n",
        "\u2500\u2500\u2500\u2500\u2500\u2500\u2500\u2500\u2500\u2500\u2500\u2500\u2500\u2500\u2500\u2500\u2500\u2500\u2500\u2500\u2500\u2500\u2500\u2500\n",
        "                        \n",
        "                        "
       ]
      },
      {
       "output_type": "stream",
       "stream": "stdout",
       "text": [
        "(ell,m)=(3,1)\n"
       ]
      },
      {
       "latex": [
        "$$- \\frac{2 \\sqrt{70} \\sqrt{\\pi} \\nu}{315 c^{3}} \\left(12 i Gm S_{\\lambda} \\nu + 4 i Gm S_{\\lambda} + 12 Gm S_{n} \\nu + 4 Gm S_{n} - 11 i Gm \\Sigma_{\\lambda} \\delta \\nu + 16 i Gm \\Sigma_{\\lambda} \\delta - 11 Gm \\Sigma_{n} \\delta \\nu + 16 Gm \\Sigma_{n} \\delta + 45 i S_{\\lambda} \\nu r{\\left (0 \\right )} v^{2}{\\left (0 \\right )} - 15 i S_{\\lambda} r{\\left (0 \\right )} v^{2}{\\left (0 \\right )} + 45 S_{n} \\nu r{\\left (0 \\right )} v^{2}{\\left (0 \\right )} - 15 S_{n} r{\\left (0 \\right )} v^{2}{\\left (0 \\right )} + 75 i \\Sigma_{\\lambda} \\delta \\nu r{\\left (0 \\right )} v^{2}{\\left (0 \\right )} - 15 i \\Sigma_{\\lambda} \\delta r{\\left (0 \\right )} v^{2}{\\left (0 \\right )} + 75 \\Sigma_{n} \\delta \\nu r{\\left (0 \\right )} v^{2}{\\left (0 \\right )} - 15 \\Sigma_{n} \\delta r{\\left (0 \\right )} v^{2}{\\left (0 \\right )} - 12 c^{2} \\left(i S_{\\lambda} + S_{n} + i \\Sigma_{\\lambda} \\delta + \\Sigma_{n} \\delta\\right) r{\\left (0 \\right )}\\right) r{\\left (0 \\right )} v^{9}{\\left (0 \\right )}$$"
       ],
       "metadata": {},
       "output_type": "display_data",
       "png": "[encoded data removed]",
       "text": [
        "     ____   ___   \u239b                                                           \n",
        "-2\u22c5\u2572\u2571 70 \u22c5\u2572\u2571 \u03c0 \u22c5\u03bd\u22c5\u239d12\u22c5\u2148\u22c5Gm\u22c5S_\u03bb\u22c5\u03bd + 4\u22c5\u2148\u22c5Gm\u22c5S_\u03bb + 12\u22c5Gm\u22c5S_n\u22c5\u03bd + 4\u22c5Gm\u22c5S_n - 11\u22c5\u2148\u22c5\n",
        "\u2500\u2500\u2500\u2500\u2500\u2500\u2500\u2500\u2500\u2500\u2500\u2500\u2500\u2500\u2500\u2500\u2500\u2500\u2500\u2500\u2500\u2500\u2500\u2500\u2500\u2500\u2500\u2500\u2500\u2500\u2500\u2500\u2500\u2500\u2500\u2500\u2500\u2500\u2500\u2500\u2500\u2500\u2500\u2500\u2500\u2500\u2500\u2500\u2500\u2500\u2500\u2500\u2500\u2500\u2500\u2500\u2500\u2500\u2500\u2500\u2500\u2500\u2500\u2500\u2500\u2500\u2500\u2500\u2500\u2500\u2500\u2500\u2500\u2500\u2500\u2500\u2500\u2500\n",
        "                                                                              \n",
        "                                                                              \n",
        "\n",
        "                                                                            2 \n",
        "Gm\u22c5\u03a3_\u03bb\u22c5\u03b4\u22c5\u03bd + 16\u22c5\u2148\u22c5Gm\u22c5\u03a3_\u03bb\u22c5\u03b4 - 11\u22c5Gm\u22c5\u03a3_n\u22c5\u03b4\u22c5\u03bd + 16\u22c5Gm\u22c5\u03a3_n\u22c5\u03b4 + 45\u22c5\u2148\u22c5S_\u03bb\u22c5\u03bd\u22c5r(0)\u22c5v (\n",
        "\u2500\u2500\u2500\u2500\u2500\u2500\u2500\u2500\u2500\u2500\u2500\u2500\u2500\u2500\u2500\u2500\u2500\u2500\u2500\u2500\u2500\u2500\u2500\u2500\u2500\u2500\u2500\u2500\u2500\u2500\u2500\u2500\u2500\u2500\u2500\u2500\u2500\u2500\u2500\u2500\u2500\u2500\u2500\u2500\u2500\u2500\u2500\u2500\u2500\u2500\u2500\u2500\u2500\u2500\u2500\u2500\u2500\u2500\u2500\u2500\u2500\u2500\u2500\u2500\u2500\u2500\u2500\u2500\u2500\u2500\u2500\u2500\u2500\u2500\u2500\u2500\u2500\u2500\n",
        "                                                                              \n",
        "                                                                              \n",
        "\n",
        "                    2                     2                   2               \n",
        "0) - 15\u22c5\u2148\u22c5S_\u03bb\u22c5r(0)\u22c5v (0) + 45\u22c5S_n\u22c5\u03bd\u22c5r(0)\u22c5v (0) - 15\u22c5S_n\u22c5r(0)\u22c5v (0) + 75\u22c5\u2148\u22c5\u03a3_\u03bb\u22c5\n",
        "\u2500\u2500\u2500\u2500\u2500\u2500\u2500\u2500\u2500\u2500\u2500\u2500\u2500\u2500\u2500\u2500\u2500\u2500\u2500\u2500\u2500\u2500\u2500\u2500\u2500\u2500\u2500\u2500\u2500\u2500\u2500\u2500\u2500\u2500\u2500\u2500\u2500\u2500\u2500\u2500\u2500\u2500\u2500\u2500\u2500\u2500\u2500\u2500\u2500\u2500\u2500\u2500\u2500\u2500\u2500\u2500\u2500\u2500\u2500\u2500\u2500\u2500\u2500\u2500\u2500\u2500\u2500\u2500\u2500\u2500\u2500\u2500\u2500\u2500\u2500\u2500\u2500\u2500\n",
        "                                  3                                           \n",
        "                             315\u22c5c                                            \n",
        "\n",
        "          2                       2                       2                   \n",
        "\u03b4\u22c5\u03bd\u22c5r(0)\u22c5v (0) - 15\u22c5\u2148\u22c5\u03a3_\u03bb\u22c5\u03b4\u22c5r(0)\u22c5v (0) + 75\u22c5\u03a3_n\u22c5\u03b4\u22c5\u03bd\u22c5r(0)\u22c5v (0) - 15\u22c5\u03a3_n\u22c5\u03b4\u22c5r(0)\n",
        "\u2500\u2500\u2500\u2500\u2500\u2500\u2500\u2500\u2500\u2500\u2500\u2500\u2500\u2500\u2500\u2500\u2500\u2500\u2500\u2500\u2500\u2500\u2500\u2500\u2500\u2500\u2500\u2500\u2500\u2500\u2500\u2500\u2500\u2500\u2500\u2500\u2500\u2500\u2500\u2500\u2500\u2500\u2500\u2500\u2500\u2500\u2500\u2500\u2500\u2500\u2500\u2500\u2500\u2500\u2500\u2500\u2500\u2500\u2500\u2500\u2500\u2500\u2500\u2500\u2500\u2500\u2500\u2500\u2500\u2500\u2500\u2500\u2500\u2500\u2500\u2500\u2500\u2500\n",
        "                                                                              \n",
        "                                                                              \n",
        "\n",
        "  2          2                                     \u239e       9    \n",
        "\u22c5v (0) - 12\u22c5c \u22c5(\u2148\u22c5S_\u03bb + S_n + \u2148\u22c5\u03a3_\u03bb\u22c5\u03b4 + \u03a3_n\u22c5\u03b4)\u22c5r(0)\u23a0\u22c5r(0)\u22c5v (0) \n",
        "\u2500\u2500\u2500\u2500\u2500\u2500\u2500\u2500\u2500\u2500\u2500\u2500\u2500\u2500\u2500\u2500\u2500\u2500\u2500\u2500\u2500\u2500\u2500\u2500\u2500\u2500\u2500\u2500\u2500\u2500\u2500\u2500\u2500\u2500\u2500\u2500\u2500\u2500\u2500\u2500\u2500\u2500\u2500\u2500\u2500\u2500\u2500\u2500\u2500\u2500\u2500\u2500\u2500\u2500\u2500\u2500\u2500\u2500\u2500\u2500\u2500\u2500\u2500\u2500\n",
        "                                                                \n",
        "                                                                "
       ]
      },
      {
       "output_type": "stream",
       "stream": "stdout",
       "text": [
        "(ell,m)=(3,2)\n"
       ]
      },
      {
       "latex": [
        "$$- \\frac{\\sqrt{7} \\sqrt{\\pi} \\nu}{1890 c^{5}} \\left(631 Gm S_{\\lambda} \\delta \\nu + 4867 Gm S_{\\lambda} \\delta + 388 i Gm S_{n} \\delta \\nu - 4124 i Gm S_{n} \\delta + 15035 Gm \\Sigma_{\\lambda} \\nu^{2} - 6620 Gm \\Sigma_{\\lambda} \\nu + 607 Gm \\Sigma_{\\lambda} - 18580 i Gm \\Sigma_{n} \\nu^{2} + 6340 i Gm \\Sigma_{n} \\nu - 284 i Gm \\Sigma_{n} - 990 S_{\\lambda} c^{2} \\delta r{\\left (0 \\right )} + 3255 S_{\\lambda} \\delta \\nu r{\\left (0 \\right )} v^{2}{\\left (0 \\right )} - 885 S_{\\lambda} \\delta r{\\left (0 \\right )} v^{2}{\\left (0 \\right )} + 1440 i S_{n} c^{2} \\delta r{\\left (0 \\right )} - 4116 i S_{n} \\delta \\nu r{\\left (0 \\right )} v^{2}{\\left (0 \\right )} + 978 i S_{n} \\delta r{\\left (0 \\right )} v^{2}{\\left (0 \\right )} + 5310 \\Sigma_{\\lambda} c^{2} \\nu r{\\left (0 \\right )} - 990 \\Sigma_{\\lambda} c^{2} r{\\left (0 \\right )} - 18555 \\Sigma_{\\lambda} \\nu^{2} r{\\left (0 \\right )} v^{2}{\\left (0 \\right )} + 8250 \\Sigma_{\\lambda} \\nu r{\\left (0 \\right )} v^{2}{\\left (0 \\right )} - 885 \\Sigma_{\\lambda} r{\\left (0 \\right )} v^{2}{\\left (0 \\right )} - 6840 i \\Sigma_{n} c^{2} \\nu r{\\left (0 \\right )} + 1440 i \\Sigma_{n} c^{2} r{\\left (0 \\right )} + 22350 i \\Sigma_{n} \\nu^{2} r{\\left (0 \\right )} v^{2}{\\left (0 \\right )} - 9570 i \\Sigma_{n} \\nu r{\\left (0 \\right )} v^{2}{\\left (0 \\right )} + 978 i \\Sigma_{n} r{\\left (0 \\right )} v^{2}{\\left (0 \\right )}\\right) r{\\left (0 \\right )} v^{10}{\\left (0 \\right )}$$"
       ],
       "metadata": {},
       "output_type": "display_data",
       "png": "[encoded data removed]",
       "text": [
        "   ___   ___   \u239b                                                              \n",
        "-\u2572\u2571 7 \u22c5\u2572\u2571 \u03c0 \u22c5\u03bd\u22c5\u239d631\u22c5Gm\u22c5S_\u03bb\u22c5\u03b4\u22c5\u03bd + 4867\u22c5Gm\u22c5S_\u03bb\u22c5\u03b4 + 388\u22c5\u2148\u22c5Gm\u22c5S_n\u22c5\u03b4\u22c5\u03bd - 4124\u22c5\u2148\u22c5Gm\u22c5\n",
        "\u2500\u2500\u2500\u2500\u2500\u2500\u2500\u2500\u2500\u2500\u2500\u2500\u2500\u2500\u2500\u2500\u2500\u2500\u2500\u2500\u2500\u2500\u2500\u2500\u2500\u2500\u2500\u2500\u2500\u2500\u2500\u2500\u2500\u2500\u2500\u2500\u2500\u2500\u2500\u2500\u2500\u2500\u2500\u2500\u2500\u2500\u2500\u2500\u2500\u2500\u2500\u2500\u2500\u2500\u2500\u2500\u2500\u2500\u2500\u2500\u2500\u2500\u2500\u2500\u2500\u2500\u2500\u2500\u2500\u2500\u2500\u2500\u2500\u2500\u2500\u2500\u2500\u2500\n",
        "                                                                              \n",
        "                                                                              \n",
        "\n",
        "                      2                                                2      \n",
        "S_n\u22c5\u03b4 + 15035\u22c5Gm\u22c5\u03a3_\u03bb\u22c5\u03bd  - 6620\u22c5Gm\u22c5\u03a3_\u03bb\u22c5\u03bd + 607\u22c5Gm\u22c5\u03a3_\u03bb - 18580\u22c5\u2148\u22c5Gm\u22c5\u03a3_n\u22c5\u03bd  + 634\n",
        "\u2500\u2500\u2500\u2500\u2500\u2500\u2500\u2500\u2500\u2500\u2500\u2500\u2500\u2500\u2500\u2500\u2500\u2500\u2500\u2500\u2500\u2500\u2500\u2500\u2500\u2500\u2500\u2500\u2500\u2500\u2500\u2500\u2500\u2500\u2500\u2500\u2500\u2500\u2500\u2500\u2500\u2500\u2500\u2500\u2500\u2500\u2500\u2500\u2500\u2500\u2500\u2500\u2500\u2500\u2500\u2500\u2500\u2500\u2500\u2500\u2500\u2500\u2500\u2500\u2500\u2500\u2500\u2500\u2500\u2500\u2500\u2500\u2500\u2500\u2500\u2500\u2500\u2500\n",
        "                                                                              \n",
        "                                                                              \n",
        "\n",
        "                                       2                             2        \n",
        "0\u22c5\u2148\u22c5Gm\u22c5\u03a3_n\u22c5\u03bd - 284\u22c5\u2148\u22c5Gm\u22c5\u03a3_n - 990\u22c5S_\u03bb\u22c5c \u22c5\u03b4\u22c5r(0) + 3255\u22c5S_\u03bb\u22c5\u03b4\u22c5\u03bd\u22c5r(0)\u22c5v (0) - 88\n",
        "\u2500\u2500\u2500\u2500\u2500\u2500\u2500\u2500\u2500\u2500\u2500\u2500\u2500\u2500\u2500\u2500\u2500\u2500\u2500\u2500\u2500\u2500\u2500\u2500\u2500\u2500\u2500\u2500\u2500\u2500\u2500\u2500\u2500\u2500\u2500\u2500\u2500\u2500\u2500\u2500\u2500\u2500\u2500\u2500\u2500\u2500\u2500\u2500\u2500\u2500\u2500\u2500\u2500\u2500\u2500\u2500\u2500\u2500\u2500\u2500\u2500\u2500\u2500\u2500\u2500\u2500\u2500\u2500\u2500\u2500\u2500\u2500\u2500\u2500\u2500\u2500\u2500\u2500\n",
        "                                                                              \n",
        "                                                                              \n",
        "\n",
        "              2                  2                               2            \n",
        "5\u22c5S_\u03bb\u22c5\u03b4\u22c5r(0)\u22c5v (0) + 1440\u22c5\u2148\u22c5S_n\u22c5c \u22c5\u03b4\u22c5r(0) - 4116\u22c5\u2148\u22c5S_n\u22c5\u03b4\u22c5\u03bd\u22c5r(0)\u22c5v (0) + 978\u22c5\u2148\u22c5\n",
        "\u2500\u2500\u2500\u2500\u2500\u2500\u2500\u2500\u2500\u2500\u2500\u2500\u2500\u2500\u2500\u2500\u2500\u2500\u2500\u2500\u2500\u2500\u2500\u2500\u2500\u2500\u2500\u2500\u2500\u2500\u2500\u2500\u2500\u2500\u2500\u2500\u2500\u2500\u2500\u2500\u2500\u2500\u2500\u2500\u2500\u2500\u2500\u2500\u2500\u2500\u2500\u2500\u2500\u2500\u2500\u2500\u2500\u2500\u2500\u2500\u2500\u2500\u2500\u2500\u2500\u2500\u2500\u2500\u2500\u2500\u2500\u2500\u2500\u2500\u2500\u2500\u2500\u2500\n",
        "                                                       5                      \n",
        "                                                 1890\u22c5c                       \n",
        "\n",
        "            2                2                   2                   2       2\n",
        "S_n\u22c5\u03b4\u22c5r(0)\u22c5v (0) + 5310\u22c5\u03a3_\u03bb\u22c5c \u22c5\u03bd\u22c5r(0) - 990\u22c5\u03a3_\u03bb\u22c5c \u22c5r(0) - 18555\u22c5\u03a3_\u03bb\u22c5\u03bd \u22c5r(0)\u22c5v \n",
        "\u2500\u2500\u2500\u2500\u2500\u2500\u2500\u2500\u2500\u2500\u2500\u2500\u2500\u2500\u2500\u2500\u2500\u2500\u2500\u2500\u2500\u2500\u2500\u2500\u2500\u2500\u2500\u2500\u2500\u2500\u2500\u2500\u2500\u2500\u2500\u2500\u2500\u2500\u2500\u2500\u2500\u2500\u2500\u2500\u2500\u2500\u2500\u2500\u2500\u2500\u2500\u2500\u2500\u2500\u2500\u2500\u2500\u2500\u2500\u2500\u2500\u2500\u2500\u2500\u2500\u2500\u2500\u2500\u2500\u2500\u2500\u2500\u2500\u2500\u2500\u2500\u2500\u2500\n",
        "                                                                              \n",
        "                                                                              \n",
        "\n",
        "                       2                    2                  2              \n",
        "(0) + 8250\u22c5\u03a3_\u03bb\u22c5\u03bd\u22c5r(0)\u22c5v (0) - 885\u22c5\u03a3_\u03bb\u22c5r(0)\u22c5v (0) - 6840\u22c5\u2148\u22c5\u03a3_n\u22c5c \u22c5\u03bd\u22c5r(0) + 1440\n",
        "\u2500\u2500\u2500\u2500\u2500\u2500\u2500\u2500\u2500\u2500\u2500\u2500\u2500\u2500\u2500\u2500\u2500\u2500\u2500\u2500\u2500\u2500\u2500\u2500\u2500\u2500\u2500\u2500\u2500\u2500\u2500\u2500\u2500\u2500\u2500\u2500\u2500\u2500\u2500\u2500\u2500\u2500\u2500\u2500\u2500\u2500\u2500\u2500\u2500\u2500\u2500\u2500\u2500\u2500\u2500\u2500\u2500\u2500\u2500\u2500\u2500\u2500\u2500\u2500\u2500\u2500\u2500\u2500\u2500\u2500\u2500\u2500\u2500\u2500\u2500\u2500\u2500\u2500\n",
        "                                                                              \n",
        "                                                                              \n",
        "\n",
        "        2                     2       2                         2             \n",
        "\u22c5\u2148\u22c5\u03a3_n\u22c5c \u22c5r(0) + 22350\u22c5\u2148\u22c5\u03a3_n\u22c5\u03bd \u22c5r(0)\u22c5v (0) - 9570\u22c5\u2148\u22c5\u03a3_n\u22c5\u03bd\u22c5r(0)\u22c5v (0) + 978\u22c5\u2148\u22c5\u03a3\n",
        "\u2500\u2500\u2500\u2500\u2500\u2500\u2500\u2500\u2500\u2500\u2500\u2500\u2500\u2500\u2500\u2500\u2500\u2500\u2500\u2500\u2500\u2500\u2500\u2500\u2500\u2500\u2500\u2500\u2500\u2500\u2500\u2500\u2500\u2500\u2500\u2500\u2500\u2500\u2500\u2500\u2500\u2500\u2500\u2500\u2500\u2500\u2500\u2500\u2500\u2500\u2500\u2500\u2500\u2500\u2500\u2500\u2500\u2500\u2500\u2500\u2500\u2500\u2500\u2500\u2500\u2500\u2500\u2500\u2500\u2500\u2500\u2500\u2500\u2500\u2500\u2500\u2500\u2500\n",
        "                                                                              \n",
        "                                                                              \n",
        "\n",
        "         2   \u239e       10    \n",
        "_n\u22c5r(0)\u22c5v (0)\u23a0\u22c5r(0)\u22c5v  (0) \n",
        "\u2500\u2500\u2500\u2500\u2500\u2500\u2500\u2500\u2500\u2500\u2500\u2500\u2500\u2500\u2500\u2500\u2500\u2500\u2500\u2500\u2500\u2500\u2500\u2500\u2500\u2500\u2500\n",
        "                           \n",
        "                           "
       ]
      },
      {
       "output_type": "stream",
       "stream": "stdout",
       "text": [
        "(ell,m)=(3,3)\n"
       ]
      },
      {
       "latex": [
        "$$\\frac{2 \\sqrt{42} \\sqrt{\\pi} \\nu}{189 c^{3}} \\left(444 i Gm S_{\\lambda} \\nu - 172 i Gm S_{\\lambda} + 324 Gm S_{n} \\nu - 84 Gm S_{n} + 143 i Gm \\Sigma_{\\lambda} \\delta \\nu - 88 i Gm \\Sigma_{\\lambda} \\delta + 33 Gm \\Sigma_{n} \\delta \\nu + 24 Gm \\Sigma_{n} \\delta + 99 i S_{\\lambda} \\nu r{\\left (0 \\right )} v^{2}{\\left (0 \\right )} - 33 i S_{\\lambda} r{\\left (0 \\right )} v^{2}{\\left (0 \\right )} + 45 S_{n} \\nu r{\\left (0 \\right )} v^{2}{\\left (0 \\right )} - 15 S_{n} r{\\left (0 \\right )} v^{2}{\\left (0 \\right )} + 93 i \\Sigma_{\\lambda} \\delta \\nu r{\\left (0 \\right )} v^{2}{\\left (0 \\right )} - 33 i \\Sigma_{\\lambda} \\delta r{\\left (0 \\right )} v^{2}{\\left (0 \\right )} + 147 \\Sigma_{n} \\delta \\nu r{\\left (0 \\right )} v^{2}{\\left (0 \\right )} - 15 \\Sigma_{n} \\delta r{\\left (0 \\right )} v^{2}{\\left (0 \\right )} + 36 c^{2} \\left(i S_{\\lambda} - S_{n} + i \\Sigma_{\\lambda} \\delta - \\Sigma_{n} \\delta\\right) r{\\left (0 \\right )}\\right) r{\\left (0 \\right )} v^{9}{\\left (0 \\right )}$$"
       ],
       "metadata": {},
       "output_type": "display_data",
       "png": "[encoded data removed]",
       "text": [
        "    ____   ___   \u239b                                                            \n",
        "2\u22c5\u2572\u2571 42 \u22c5\u2572\u2571 \u03c0 \u22c5\u03bd\u22c5\u239d444\u22c5\u2148\u22c5Gm\u22c5S_\u03bb\u22c5\u03bd - 172\u22c5\u2148\u22c5Gm\u22c5S_\u03bb + 324\u22c5Gm\u22c5S_n\u22c5\u03bd - 84\u22c5Gm\u22c5S_n + 1\n",
        "\u2500\u2500\u2500\u2500\u2500\u2500\u2500\u2500\u2500\u2500\u2500\u2500\u2500\u2500\u2500\u2500\u2500\u2500\u2500\u2500\u2500\u2500\u2500\u2500\u2500\u2500\u2500\u2500\u2500\u2500\u2500\u2500\u2500\u2500\u2500\u2500\u2500\u2500\u2500\u2500\u2500\u2500\u2500\u2500\u2500\u2500\u2500\u2500\u2500\u2500\u2500\u2500\u2500\u2500\u2500\u2500\u2500\u2500\u2500\u2500\u2500\u2500\u2500\u2500\u2500\u2500\u2500\u2500\u2500\u2500\u2500\u2500\u2500\u2500\u2500\u2500\u2500\u2500\n",
        "                                                                              \n",
        "                                                                              \n",
        "\n",
        "                                                                              \n",
        "43\u22c5\u2148\u22c5Gm\u22c5\u03a3_\u03bb\u22c5\u03b4\u22c5\u03bd - 88\u22c5\u2148\u22c5Gm\u22c5\u03a3_\u03bb\u22c5\u03b4 + 33\u22c5Gm\u22c5\u03a3_n\u22c5\u03b4\u22c5\u03bd + 24\u22c5Gm\u22c5\u03a3_n\u22c5\u03b4 + 99\u22c5\u2148\u22c5S_\u03bb\u22c5\u03bd\u22c5r(0\n",
        "\u2500\u2500\u2500\u2500\u2500\u2500\u2500\u2500\u2500\u2500\u2500\u2500\u2500\u2500\u2500\u2500\u2500\u2500\u2500\u2500\u2500\u2500\u2500\u2500\u2500\u2500\u2500\u2500\u2500\u2500\u2500\u2500\u2500\u2500\u2500\u2500\u2500\u2500\u2500\u2500\u2500\u2500\u2500\u2500\u2500\u2500\u2500\u2500\u2500\u2500\u2500\u2500\u2500\u2500\u2500\u2500\u2500\u2500\u2500\u2500\u2500\u2500\u2500\u2500\u2500\u2500\u2500\u2500\u2500\u2500\u2500\u2500\u2500\u2500\u2500\u2500\u2500\u2500\n",
        "                                                                              \n",
        "                                                                              \n",
        "\n",
        "   2                     2                     2                   2          \n",
        ")\u22c5v (0) - 33\u22c5\u2148\u22c5S_\u03bb\u22c5r(0)\u22c5v (0) + 45\u22c5S_n\u22c5\u03bd\u22c5r(0)\u22c5v (0) - 15\u22c5S_n\u22c5r(0)\u22c5v (0) + 93\u22c5\u2148\n",
        "\u2500\u2500\u2500\u2500\u2500\u2500\u2500\u2500\u2500\u2500\u2500\u2500\u2500\u2500\u2500\u2500\u2500\u2500\u2500\u2500\u2500\u2500\u2500\u2500\u2500\u2500\u2500\u2500\u2500\u2500\u2500\u2500\u2500\u2500\u2500\u2500\u2500\u2500\u2500\u2500\u2500\u2500\u2500\u2500\u2500\u2500\u2500\u2500\u2500\u2500\u2500\u2500\u2500\u2500\u2500\u2500\u2500\u2500\u2500\u2500\u2500\u2500\u2500\u2500\u2500\u2500\u2500\u2500\u2500\u2500\u2500\u2500\u2500\u2500\u2500\u2500\u2500\u2500\n",
        "                                     3                                        \n",
        "                                189\u22c5c                                         \n",
        "\n",
        "               2                       2                        2             \n",
        "\u22c5\u03a3_\u03bb\u22c5\u03b4\u22c5\u03bd\u22c5r(0)\u22c5v (0) - 33\u22c5\u2148\u22c5\u03a3_\u03bb\u22c5\u03b4\u22c5r(0)\u22c5v (0) + 147\u22c5\u03a3_n\u22c5\u03b4\u22c5\u03bd\u22c5r(0)\u22c5v (0) - 15\u22c5\u03a3_n\u22c5\n",
        "\u2500\u2500\u2500\u2500\u2500\u2500\u2500\u2500\u2500\u2500\u2500\u2500\u2500\u2500\u2500\u2500\u2500\u2500\u2500\u2500\u2500\u2500\u2500\u2500\u2500\u2500\u2500\u2500\u2500\u2500\u2500\u2500\u2500\u2500\u2500\u2500\u2500\u2500\u2500\u2500\u2500\u2500\u2500\u2500\u2500\u2500\u2500\u2500\u2500\u2500\u2500\u2500\u2500\u2500\u2500\u2500\u2500\u2500\u2500\u2500\u2500\u2500\u2500\u2500\u2500\u2500\u2500\u2500\u2500\u2500\u2500\u2500\u2500\u2500\u2500\u2500\u2500\u2500\n",
        "                                                                              \n",
        "                                                                              \n",
        "\n",
        "        2          2                                     \u239e       9   \n",
        "\u03b4\u22c5r(0)\u22c5v (0) + 36\u22c5c \u22c5(\u2148\u22c5S_\u03bb - S_n + \u2148\u22c5\u03a3_\u03bb\u22c5\u03b4 - \u03a3_n\u22c5\u03b4)\u22c5r(0)\u23a0\u22c5r(0)\u22c5v (0)\n",
        "\u2500\u2500\u2500\u2500\u2500\u2500\u2500\u2500\u2500\u2500\u2500\u2500\u2500\u2500\u2500\u2500\u2500\u2500\u2500\u2500\u2500\u2500\u2500\u2500\u2500\u2500\u2500\u2500\u2500\u2500\u2500\u2500\u2500\u2500\u2500\u2500\u2500\u2500\u2500\u2500\u2500\u2500\u2500\u2500\u2500\u2500\u2500\u2500\u2500\u2500\u2500\u2500\u2500\u2500\u2500\u2500\u2500\u2500\u2500\u2500\u2500\u2500\u2500\u2500\u2500\u2500\u2500\u2500\u2500\n",
        "                                                                     \n",
        "                                                                     "
       ]
      },
      {
       "output_type": "stream",
       "stream": "stdout",
       "text": [
        "ell=2\n"
       ]
      },
      {
       "output_type": "stream",
       "stream": "stdout",
       "text": [
        "(ell,m)=(2,0)\n"
       ]
      },
      {
       "latex": [
        "$$\\frac{2 \\sqrt{30} i \\nu}{105 c^{3}} \\sqrt{\\pi} \\left(6 Gm S_{n} \\delta + 3 Gm \\Sigma_{n} \\nu - 15 Gm \\Sigma_{n} + 10 S_{n} \\delta r{\\left (0 \\right )} v^{2}{\\left (0 \\right )} + 14 \\Sigma_{n} c^{2} r{\\left (0 \\right )} - 79 \\Sigma_{n} \\nu r{\\left (0 \\right )} v^{2}{\\left (0 \\right )} + 17 \\Sigma_{n} r{\\left (0 \\right )} v^{2}{\\left (0 \\right )}\\right) v^{6}{\\left (0 \\right )}$$"
       ],
       "metadata": {},
       "output_type": "display_data",
       "png": "[encoded data removed]",
       "text": [
        "    ____     ___   \u239b                                                     2    \n",
        "2\u22c5\u2572\u2571 30 \u22c5\u2148\u22c5\u2572\u2571 \u03c0 \u22c5\u03bd\u22c5\u239d6\u22c5Gm\u22c5S_n\u22c5\u03b4 + 3\u22c5Gm\u22c5\u03a3_n\u22c5\u03bd - 15\u22c5Gm\u22c5\u03a3_n + 10\u22c5S_n\u22c5\u03b4\u22c5r(0)\u22c5v (0) \n",
        "\u2500\u2500\u2500\u2500\u2500\u2500\u2500\u2500\u2500\u2500\u2500\u2500\u2500\u2500\u2500\u2500\u2500\u2500\u2500\u2500\u2500\u2500\u2500\u2500\u2500\u2500\u2500\u2500\u2500\u2500\u2500\u2500\u2500\u2500\u2500\u2500\u2500\u2500\u2500\u2500\u2500\u2500\u2500\u2500\u2500\u2500\u2500\u2500\u2500\u2500\u2500\u2500\u2500\u2500\u2500\u2500\u2500\u2500\u2500\u2500\u2500\u2500\u2500\u2500\u2500\u2500\u2500\u2500\u2500\u2500\u2500\u2500\u2500\u2500\u2500\u2500\u2500\u2500\n",
        "                                                                          3   \n",
        "                                                                     105\u22c5c    \n",
        "\n",
        "          2                       2                   2   \u239e  6   \n",
        "+ 14\u22c5\u03a3_n\u22c5c \u22c5r(0) - 79\u22c5\u03a3_n\u22c5\u03bd\u22c5r(0)\u22c5v (0) + 17\u22c5\u03a3_n\u22c5r(0)\u22c5v (0)\u23a0\u22c5v (0)\n",
        "\u2500\u2500\u2500\u2500\u2500\u2500\u2500\u2500\u2500\u2500\u2500\u2500\u2500\u2500\u2500\u2500\u2500\u2500\u2500\u2500\u2500\u2500\u2500\u2500\u2500\u2500\u2500\u2500\u2500\u2500\u2500\u2500\u2500\u2500\u2500\u2500\u2500\u2500\u2500\u2500\u2500\u2500\u2500\u2500\u2500\u2500\u2500\u2500\u2500\u2500\u2500\u2500\u2500\u2500\u2500\u2500\u2500\u2500\u2500\u2500\u2500\u2500\u2500\u2500\u2500\n",
        "                                                                 \n",
        "                                                                 "
       ]
      },
      {
       "output_type": "stream",
       "stream": "stdout",
       "text": [
        "(ell,m)=(2,1)\n"
       ]
      },
      {
       "latex": [
        "$$- \\frac{4 \\sqrt{5} \\sqrt{\\pi} \\nu}{105 c^{5}} \\left(15 i Gm S_{\\lambda} \\nu + 79 i Gm S_{\\lambda} + 15 Gm S_{n} \\nu + 79 Gm S_{n} - 50 i Gm \\Sigma_{\\lambda} \\delta \\nu + 7 i Gm \\Sigma_{\\lambda} \\delta - 50 Gm \\Sigma_{n} \\delta \\nu + 7 Gm \\Sigma_{n} \\delta + 66 i S_{\\lambda} \\nu r{\\left (0 \\right )} v^{2}{\\left (0 \\right )} - 22 i S_{\\lambda} r{\\left (0 \\right )} v^{2}{\\left (0 \\right )} + 66 S_{n} \\nu r{\\left (0 \\right )} v^{2}{\\left (0 \\right )} - 22 S_{n} r{\\left (0 \\right )} v^{2}{\\left (0 \\right )} + 80 i \\Sigma_{\\lambda} \\delta \\nu r{\\left (0 \\right )} v^{2}{\\left (0 \\right )} - 22 i \\Sigma_{\\lambda} \\delta r{\\left (0 \\right )} v^{2}{\\left (0 \\right )} + 80 \\Sigma_{n} \\delta \\nu r{\\left (0 \\right )} v^{2}{\\left (0 \\right )} - 22 \\Sigma_{n} \\delta r{\\left (0 \\right )} v^{2}{\\left (0 \\right )} - 28 c^{2} \\left(i S_{\\lambda} + S_{n} + i \\Sigma_{\\lambda} \\delta + \\Sigma_{n} \\delta\\right) r{\\left (0 \\right )}\\right) v^{7}{\\left (0 \\right )}$$"
       ],
       "metadata": {},
       "output_type": "display_data",
       "png": "[encoded data removed]",
       "text": [
        "     ___   ___   \u239b                                                            \n",
        "-4\u22c5\u2572\u2571 5 \u22c5\u2572\u2571 \u03c0 \u22c5\u03bd\u22c5\u239d15\u22c5\u2148\u22c5Gm\u22c5S_\u03bb\u22c5\u03bd + 79\u22c5\u2148\u22c5Gm\u22c5S_\u03bb + 15\u22c5Gm\u22c5S_n\u22c5\u03bd + 79\u22c5Gm\u22c5S_n - 50\u22c5\u2148\n",
        "\u2500\u2500\u2500\u2500\u2500\u2500\u2500\u2500\u2500\u2500\u2500\u2500\u2500\u2500\u2500\u2500\u2500\u2500\u2500\u2500\u2500\u2500\u2500\u2500\u2500\u2500\u2500\u2500\u2500\u2500\u2500\u2500\u2500\u2500\u2500\u2500\u2500\u2500\u2500\u2500\u2500\u2500\u2500\u2500\u2500\u2500\u2500\u2500\u2500\u2500\u2500\u2500\u2500\u2500\u2500\u2500\u2500\u2500\u2500\u2500\u2500\u2500\u2500\u2500\u2500\u2500\u2500\u2500\u2500\u2500\u2500\u2500\u2500\u2500\u2500\u2500\u2500\u2500\n",
        "                                                                              \n",
        "                                                                              \n",
        "\n",
        "                                                                           2  \n",
        "\u22c5Gm\u22c5\u03a3_\u03bb\u22c5\u03b4\u22c5\u03bd + 7\u22c5\u2148\u22c5Gm\u22c5\u03a3_\u03bb\u22c5\u03b4 - 50\u22c5Gm\u22c5\u03a3_n\u22c5\u03b4\u22c5\u03bd + 7\u22c5Gm\u22c5\u03a3_n\u22c5\u03b4 + 66\u22c5\u2148\u22c5S_\u03bb\u22c5\u03bd\u22c5r(0)\u22c5v (0\n",
        "\u2500\u2500\u2500\u2500\u2500\u2500\u2500\u2500\u2500\u2500\u2500\u2500\u2500\u2500\u2500\u2500\u2500\u2500\u2500\u2500\u2500\u2500\u2500\u2500\u2500\u2500\u2500\u2500\u2500\u2500\u2500\u2500\u2500\u2500\u2500\u2500\u2500\u2500\u2500\u2500\u2500\u2500\u2500\u2500\u2500\u2500\u2500\u2500\u2500\u2500\u2500\u2500\u2500\u2500\u2500\u2500\u2500\u2500\u2500\u2500\u2500\u2500\u2500\u2500\u2500\u2500\u2500\u2500\u2500\u2500\u2500\u2500\u2500\u2500\u2500\u2500\u2500\u2500\n",
        "                                                                              \n",
        "                                                                              \n",
        "\n",
        "                   2                     2                   2                \n",
        ") - 22\u22c5\u2148\u22c5S_\u03bb\u22c5r(0)\u22c5v (0) + 66\u22c5S_n\u22c5\u03bd\u22c5r(0)\u22c5v (0) - 22\u22c5S_n\u22c5r(0)\u22c5v (0) + 80\u22c5\u2148\u22c5\u03a3_\u03bb\u22c5\u03b4\n",
        "\u2500\u2500\u2500\u2500\u2500\u2500\u2500\u2500\u2500\u2500\u2500\u2500\u2500\u2500\u2500\u2500\u2500\u2500\u2500\u2500\u2500\u2500\u2500\u2500\u2500\u2500\u2500\u2500\u2500\u2500\u2500\u2500\u2500\u2500\u2500\u2500\u2500\u2500\u2500\u2500\u2500\u2500\u2500\u2500\u2500\u2500\u2500\u2500\u2500\u2500\u2500\u2500\u2500\u2500\u2500\u2500\u2500\u2500\u2500\u2500\u2500\u2500\u2500\u2500\u2500\u2500\u2500\u2500\u2500\u2500\u2500\u2500\u2500\u2500\u2500\u2500\u2500\u2500\n",
        "                               5                                              \n",
        "                          105\u22c5c                                               \n",
        "\n",
        "         2                       2                       2                    \n",
        "\u22c5\u03bd\u22c5r(0)\u22c5v (0) - 22\u22c5\u2148\u22c5\u03a3_\u03bb\u22c5\u03b4\u22c5r(0)\u22c5v (0) + 80\u22c5\u03a3_n\u22c5\u03b4\u22c5\u03bd\u22c5r(0)\u22c5v (0) - 22\u22c5\u03a3_n\u22c5\u03b4\u22c5r(0)\u22c5\n",
        "\u2500\u2500\u2500\u2500\u2500\u2500\u2500\u2500\u2500\u2500\u2500\u2500\u2500\u2500\u2500\u2500\u2500\u2500\u2500\u2500\u2500\u2500\u2500\u2500\u2500\u2500\u2500\u2500\u2500\u2500\u2500\u2500\u2500\u2500\u2500\u2500\u2500\u2500\u2500\u2500\u2500\u2500\u2500\u2500\u2500\u2500\u2500\u2500\u2500\u2500\u2500\u2500\u2500\u2500\u2500\u2500\u2500\u2500\u2500\u2500\u2500\u2500\u2500\u2500\u2500\u2500\u2500\u2500\u2500\u2500\u2500\u2500\u2500\u2500\u2500\u2500\u2500\u2500\n",
        "                                                                              \n",
        "                                                                              \n",
        "\n",
        " 2          2                                     \u239e  7    \n",
        "v (0) - 28\u22c5c \u22c5(\u2148\u22c5S_\u03bb + S_n + \u2148\u22c5\u03a3_\u03bb\u22c5\u03b4 + \u03a3_n\u22c5\u03b4)\u22c5r(0)\u23a0\u22c5v (0) \n",
        "\u2500\u2500\u2500\u2500\u2500\u2500\u2500\u2500\u2500\u2500\u2500\u2500\u2500\u2500\u2500\u2500\u2500\u2500\u2500\u2500\u2500\u2500\u2500\u2500\u2500\u2500\u2500\u2500\u2500\u2500\u2500\u2500\u2500\u2500\u2500\u2500\u2500\u2500\u2500\u2500\u2500\u2500\u2500\u2500\u2500\u2500\u2500\u2500\u2500\u2500\u2500\u2500\u2500\u2500\u2500\u2500\u2500\u2500\n",
        "                                                          \n",
        "                                                          "
       ]
      },
      {
       "output_type": "stream",
       "stream": "stdout",
       "text": [
        "(ell,m)=(2,2)\n"
       ]
      },
      {
       "latex": [
        "$$- \\frac{2 \\sqrt{5} \\sqrt{\\pi} \\nu}{105 c^{3}} \\left(- 272 Gm S_{\\lambda} \\delta + 250 i Gm S_{n} \\delta + 319 Gm \\Sigma_{\\lambda} \\nu - 125 Gm \\Sigma_{\\lambda} - 239 i Gm \\Sigma_{n} \\nu + 19 i Gm \\Sigma_{n} - 69 S_{\\lambda} \\delta r{\\left (0 \\right )} v^{2}{\\left (0 \\right )} + 30 i S_{n} \\delta r{\\left (0 \\right )} v^{2}{\\left (0 \\right )} + 42 \\Sigma_{\\lambda} c^{2} r{\\left (0 \\right )} + 256 \\Sigma_{\\lambda} \\nu r{\\left (0 \\right )} v^{2}{\\left (0 \\right )} - 48 \\Sigma_{\\lambda} r{\\left (0 \\right )} v^{2}{\\left (0 \\right )} + 42 i \\Sigma_{n} c^{2} r{\\left (0 \\right )} - 293 i \\Sigma_{n} \\nu r{\\left (0 \\right )} v^{2}{\\left (0 \\right )} + 51 i \\Sigma_{n} r{\\left (0 \\right )} v^{2}{\\left (0 \\right )}\\right) v^{6}{\\left (0 \\right )}$$"
       ],
       "metadata": {},
       "output_type": "display_data",
       "png": "[encoded data removed]",
       "text": [
        "     ___   ___   \u239b                                                            \n",
        "-2\u22c5\u2572\u2571 5 \u22c5\u2572\u2571 \u03c0 \u22c5\u03bd\u22c5\u239d-272\u22c5Gm\u22c5S_\u03bb\u22c5\u03b4 + 250\u22c5\u2148\u22c5Gm\u22c5S_n\u22c5\u03b4 + 319\u22c5Gm\u22c5\u03a3_\u03bb\u22c5\u03bd - 125\u22c5Gm\u22c5\u03a3_\u03bb -\n",
        "\u2500\u2500\u2500\u2500\u2500\u2500\u2500\u2500\u2500\u2500\u2500\u2500\u2500\u2500\u2500\u2500\u2500\u2500\u2500\u2500\u2500\u2500\u2500\u2500\u2500\u2500\u2500\u2500\u2500\u2500\u2500\u2500\u2500\u2500\u2500\u2500\u2500\u2500\u2500\u2500\u2500\u2500\u2500\u2500\u2500\u2500\u2500\u2500\u2500\u2500\u2500\u2500\u2500\u2500\u2500\u2500\u2500\u2500\u2500\u2500\u2500\u2500\u2500\u2500\u2500\u2500\u2500\u2500\u2500\u2500\u2500\u2500\u2500\u2500\u2500\u2500\u2500\u2500\n",
        "                                                                              \n",
        "                                                                              \n",
        "\n",
        "                                               2                       2      \n",
        " 239\u22c5\u2148\u22c5Gm\u22c5\u03a3_n\u22c5\u03bd + 19\u22c5\u2148\u22c5Gm\u22c5\u03a3_n - 69\u22c5S_\u03bb\u22c5\u03b4\u22c5r(0)\u22c5v (0) + 30\u22c5\u2148\u22c5S_n\u22c5\u03b4\u22c5r(0)\u22c5v (0) + \n",
        "\u2500\u2500\u2500\u2500\u2500\u2500\u2500\u2500\u2500\u2500\u2500\u2500\u2500\u2500\u2500\u2500\u2500\u2500\u2500\u2500\u2500\u2500\u2500\u2500\u2500\u2500\u2500\u2500\u2500\u2500\u2500\u2500\u2500\u2500\u2500\u2500\u2500\u2500\u2500\u2500\u2500\u2500\u2500\u2500\u2500\u2500\u2500\u2500\u2500\u2500\u2500\u2500\u2500\u2500\u2500\u2500\u2500\u2500\u2500\u2500\u2500\u2500\u2500\u2500\u2500\u2500\u2500\u2500\u2500\u2500\u2500\u2500\u2500\u2500\u2500\u2500\u2500\u2500\n",
        "                                                                    3         \n",
        "                                                               105\u22c5c          \n",
        "\n",
        "        2                        2                   2                2       \n",
        "42\u22c5\u03a3_\u03bb\u22c5c \u22c5r(0) + 256\u22c5\u03a3_\u03bb\u22c5\u03bd\u22c5r(0)\u22c5v (0) - 48\u22c5\u03a3_\u03bb\u22c5r(0)\u22c5v (0) + 42\u22c5\u2148\u22c5\u03a3_n\u22c5c \u22c5r(0) -\n",
        "\u2500\u2500\u2500\u2500\u2500\u2500\u2500\u2500\u2500\u2500\u2500\u2500\u2500\u2500\u2500\u2500\u2500\u2500\u2500\u2500\u2500\u2500\u2500\u2500\u2500\u2500\u2500\u2500\u2500\u2500\u2500\u2500\u2500\u2500\u2500\u2500\u2500\u2500\u2500\u2500\u2500\u2500\u2500\u2500\u2500\u2500\u2500\u2500\u2500\u2500\u2500\u2500\u2500\u2500\u2500\u2500\u2500\u2500\u2500\u2500\u2500\u2500\u2500\u2500\u2500\u2500\u2500\u2500\u2500\u2500\u2500\u2500\u2500\u2500\u2500\u2500\u2500\u2500\n",
        "                                                                              \n",
        "                                                                              \n",
        "\n",
        "                   2                     2   \u239e  6    \n",
        " 293\u22c5\u2148\u22c5\u03a3_n\u22c5\u03bd\u22c5r(0)\u22c5v (0) + 51\u22c5\u2148\u22c5\u03a3_n\u22c5r(0)\u22c5v (0)\u23a0\u22c5v (0) \n",
        "\u2500\u2500\u2500\u2500\u2500\u2500\u2500\u2500\u2500\u2500\u2500\u2500\u2500\u2500\u2500\u2500\u2500\u2500\u2500\u2500\u2500\u2500\u2500\u2500\u2500\u2500\u2500\u2500\u2500\u2500\u2500\u2500\u2500\u2500\u2500\u2500\u2500\u2500\u2500\u2500\u2500\u2500\u2500\u2500\u2500\u2500\u2500\u2500\u2500\u2500\u2500\u2500\u2500\n",
        "                                                     \n",
        "                                                     "
       ]
      },
      {
       "output_type": "stream",
       "stream": "stdout",
       "text": [
        "CPU times: user 1h 12min 20s, sys: 36.5 s, total: 1h 12min 56s\n",
        "Wall time: 1h 43min 8s\n"
       ]
      }
     ],
     "prompt_number": 8
    },
    {
     "cell_type": "code",
     "collapsed": false,
     "input": [],
     "language": "python",
     "metadata": {},
     "outputs": [],
     "prompt_number": 8
    },
    {
     "cell_type": "code",
     "collapsed": false,
     "input": [
      "LeadingOrder22 = (2*nu*v.subs(t,0)**2)*sqrt(16*pi/5)\n",
      "( DropHigherRelativePowers(AsymmetricModeTerms[2][2],0) ) / ( LeadingOrder22 )"
     ],
     "language": "python",
     "metadata": {},
     "outputs": [
      {
       "latex": [
        "$$- \\frac{v^{4}{\\left (0 \\right )}}{2 c} \\left(\\Sigma_{\\lambda} + i \\Sigma_{n}\\right) r{\\left (0 \\right )}$$"
       ],
       "metadata": {},
       "output_type": "pyout",
       "png": "[encoded data removed]",
       "prompt_number": 9,
       "text": [
        "                     4    \n",
        "-(\u03a3_\u03bb + \u2148\u22c5\u03a3_n)\u22c5r(0)\u22c5v (0) \n",
        "\u2500\u2500\u2500\u2500\u2500\u2500\u2500\u2500\u2500\u2500\u2500\u2500\u2500\u2500\u2500\u2500\u2500\u2500\u2500\u2500\u2500\u2500\u2500\u2500\u2500\u2500\n",
        "           2\u22c5c            "
       ]
      }
     ],
     "prompt_number": 9
    },
    {
     "cell_type": "code",
     "collapsed": false,
     "input": [
      "LeadingOrder44 = (2*nu*v.subs(t,0)**2)*sqrt(16*pi/5)*v.subs(t,0)**2*8*sqrt(frac(5,7))*(-1 + 3*nu)/9\n",
      "( DropHigherRelativePowers(AsymmetricModeTerms[4][4],0) ) / ( LeadingOrder44 )"
     ],
     "language": "python",
     "metadata": {},
     "outputs": [
      {
       "latex": [
        "$$\\frac{81 r^{3}{\\left (0 \\right )} v^{8}{\\left (0 \\right )}}{64 c \\left(3 \\nu - 1\\right)} \\left(S_{\\lambda} \\delta + i S_{n} \\delta - 3 \\Sigma_{\\lambda} \\nu + \\Sigma_{\\lambda} - 3 i \\Sigma_{n} \\nu + i \\Sigma_{n}\\right)$$"
       ],
       "metadata": {},
       "output_type": "pyout",
       "png": "[encoded data removed]",
       "prompt_number": 10,
       "text": [
        "                                                          3     8   \n",
        "81\u22c5(S_\u03bb\u22c5\u03b4 + \u2148\u22c5S_n\u22c5\u03b4 - 3\u22c5\u03a3_\u03bb\u22c5\u03bd + \u03a3_\u03bb - 3\u22c5\u2148\u22c5\u03a3_n\u22c5\u03bd + \u2148\u22c5\u03a3_n)\u22c5r (0)\u22c5v (0)\n",
        "\u2500\u2500\u2500\u2500\u2500\u2500\u2500\u2500\u2500\u2500\u2500\u2500\u2500\u2500\u2500\u2500\u2500\u2500\u2500\u2500\u2500\u2500\u2500\u2500\u2500\u2500\u2500\u2500\u2500\u2500\u2500\u2500\u2500\u2500\u2500\u2500\u2500\u2500\u2500\u2500\u2500\u2500\u2500\u2500\u2500\u2500\u2500\u2500\u2500\u2500\u2500\u2500\u2500\u2500\u2500\u2500\u2500\u2500\u2500\u2500\u2500\u2500\u2500\u2500\u2500\u2500\u2500\u2500\n",
        "                           64\u22c5c\u22c5(3\u22c5\u03bd - 1)                           "
       ]
      }
     ],
     "prompt_number": 10
    },
    {
     "cell_type": "markdown",
     "metadata": {},
     "source": [
      "$$\n",
      "-\\frac{81}{32} \\frac{v^2} {1-3\\nu} \\left[ (S_\\lambda + i\\, S_n)\\delta + (1-3\\nu)(\\Sigma_\\lambda + i\\, \\Sigma_n) \\right]\n",
      "$$"
     ]
    },
    {
     "cell_type": "code",
     "collapsed": false,
     "input": [],
     "language": "python",
     "metadata": {},
     "outputs": [],
     "prompt_number": 10
    },
    {
     "cell_type": "code",
     "collapsed": false,
     "input": [],
     "language": "python",
     "metadata": {},
     "outputs": [],
     "prompt_number": 10
    }
   ],
   "metadata": {}
  }
 ]
}