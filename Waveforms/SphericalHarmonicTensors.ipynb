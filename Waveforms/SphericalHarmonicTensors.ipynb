{
 "metadata": {
  "name": "",
  "signature": "sha256:dbbbcf751b594a33ad125ecf87cb0d7da5b6a495d28a7f88ddb405c70f0ec0db"
 },
 "nbformat": 3,
 "nbformat_minor": 0,
 "worksheets": [
  {
   "cells": [
    {
     "cell_type": "markdown",
     "metadata": {},
     "source": [
      "The basic imports:"
     ]
    },
    {
     "cell_type": "code",
     "collapsed": false,
     "input": [
      "from __future__ import division\n",
      "import sympy\n",
      "from sympy import *\n",
      "from sympy import Rational as frac\n",
      "from simpletensors import VectorFunction, VectorConstant\n",
      "from simpletensors import TensorProduct, SymmetricTensorProduct, Tensor\n",
      "init_printing()"
     ],
     "language": "python",
     "metadata": {},
     "outputs": [],
     "prompt_number": 1
    },
    {
     "cell_type": "markdown",
     "metadata": {},
     "source": [
      "And the variables we'll be using:"
     ]
    },
    {
     "cell_type": "code",
     "collapsed": false,
     "input": [
      "var('vartheta, varphi')\n",
      "var('nu, m, delta, c, t')\n",
      "\n",
      "# These are related scalar functions of time\n",
      "var('r, v, Omega', cls=Function)\n",
      "r = r(t)\n",
      "v = v(t)\n",
      "Omega = Omega(t)\n",
      "\n",
      "# These get redefined momentarily, but have to exist first\n",
      "var('nHat, lambdaHat, ellHat', cls=Function)\n",
      "# And now we define them as vector functions of time\n",
      "nHat = VectorFunction('nHat', [1,0,0,], lambda self, *args, **kwargs: Omega*lambdaHat)(t)\n",
      "lambdaHat = VectorFunction('lambdaHat', [0,1,0,], lambda self, *args, **kwargs: -Omega*nHat)(t)\n",
      "ellHat = VectorFunction('ellHat', [0,0,1,], lambda self, *args, **kwargs: 0)(t)\n",
      "\n",
      "# These are the spin functions -- first, the individual components as regular sympy.Function objects; then the vectors themselves\n",
      "var('S_n, S_lambda, S_ell', cls=Function)\n",
      "var('Sigma_n, Sigma_lambda, Sigma_ell', cls=Function)\n",
      "SigmaVec = VectorFunction(r'\\vec{\\Sigma}', [Sigma_n(t), Sigma_lambda(t), Sigma_ell(t)])(t)\n",
      "SVec = VectorFunction(r'\\vec{S}', [S_n(t), S_lambda(t), S_ell(t)])(t)"
     ],
     "language": "python",
     "metadata": {},
     "outputs": [],
     "prompt_number": 2
    },
    {
     "cell_type": "heading",
     "level": 2,
     "metadata": {},
     "source": [
      "Examples and tests"
     ]
    },
    {
     "cell_type": "code",
     "collapsed": false,
     "input": [
      "nHat"
     ],
     "language": "python",
     "metadata": {},
     "outputs": [
      {
       "latex": [
        "$$\\hat{n}{\\left (t \\right )}$$"
       ],
       "metadata": {},
       "output_type": "pyout",
       "png": "[encoded data removed]",
       "prompt_number": 3,
       "text": [
        "n\u0302(t)"
       ]
      }
     ],
     "prompt_number": 3
    },
    {
     "cell_type": "code",
     "collapsed": false,
     "input": [
      "diff(nHat, t)"
     ],
     "language": "python",
     "metadata": {},
     "outputs": [
      {
       "latex": [
        "$$\\Omega{\\left (t \\right )} \\hat{\\lambda}{\\left (t \\right )}$$"
       ],
       "metadata": {},
       "output_type": "pyout",
       "png": "[encoded data removed]",
       "prompt_number": 6,
       "text": [
        "\u03a9(t)\u22c5\u03bb\u0302(t)"
       ]
      }
     ],
     "prompt_number": 6
    },
    {
     "cell_type": "code",
     "collapsed": false,
     "input": [
      "diff(lambdaHat, t)"
     ],
     "language": "python",
     "metadata": {},
     "outputs": [
      {
       "latex": [
        "$$- \\Omega{\\left (t \\right )} \\hat{n}{\\left (t \\right )}$$"
       ],
       "metadata": {},
       "output_type": "pyout",
       "png": "[encoded data removed]",
       "prompt_number": 7,
       "text": [
        "-\u03a9(t)\u22c5n\u0302(t)"
       ]
      }
     ],
     "prompt_number": 7
    },
    {
     "cell_type": "code",
     "collapsed": false,
     "input": [
      "diff(ellHat, t)"
     ],
     "language": "python",
     "metadata": {},
     "outputs": [
      {
       "latex": [
        "$$0$$"
       ],
       "metadata": {},
       "output_type": "pyout",
       "png": "[encoded data removed]",
       "prompt_number": 8,
       "text": [
        "0"
       ]
      }
     ],
     "prompt_number": 8
    },
    {
     "cell_type": "code",
     "collapsed": false,
     "input": [
      "diff(nHat, t, 2)"
     ],
     "language": "python",
     "metadata": {},
     "outputs": [
      {
       "latex": [
        "$$- \\Omega^{2}{\\left (t \\right )} \\hat{n}{\\left (t \\right )} + \\hat{\\lambda}{\\left (t \\right )} \\frac{d}{d t} \\Omega{\\left (t \\right )}$$"
       ],
       "metadata": {},
       "output_type": "pyout",
       "png": "[encoded data removed]",
       "prompt_number": 9,
       "text": [
        "   2                  d       \n",
        "- \u03a9 (t)\u22c5n\u0302(t) + \u03bb\u0302(t)\u22c5\u2500\u2500(\u03a9(t))\n",
        "                      dt      "
       ]
      }
     ],
     "prompt_number": 9
    },
    {
     "cell_type": "code",
     "collapsed": false,
     "input": [
      "diff(nHat,t, 3)"
     ],
     "language": "python",
     "metadata": {},
     "outputs": [
      {
       "latex": [
        "$$- \\Omega^{3}{\\left (t \\right )} \\hat{\\lambda}{\\left (t \\right )} - 3 \\Omega{\\left (t \\right )} \\hat{n}{\\left (t \\right )} \\frac{d}{d t} \\Omega{\\left (t \\right )} + \\hat{\\lambda}{\\left (t \\right )} \\frac{d^{2}}{d t^{2}}  \\Omega{\\left (t \\right )}$$"
       ],
       "metadata": {},
       "output_type": "pyout",
       "png": "[encoded data removed]",
       "prompt_number": 10,
       "text": [
        "                                                2      \n",
        "   3                         d                 d       \n",
        "- \u03a9 (t)\u22c5\u03bb\u0302(t) - 3\u22c5\u03a9(t)\u22c5n\u0302(t)\u22c5\u2500\u2500(\u03a9(t)) + \u03bb\u0302(t)\u22c5\u2500\u2500\u2500(\u03a9(t))\n",
        "                             dt                 2      \n",
        "                                              dt       "
       ]
      }
     ],
     "prompt_number": 10
    },
    {
     "cell_type": "code",
     "collapsed": false,
     "input": [
      "diff(nHat,t, 4)"
     ],
     "language": "python",
     "metadata": {},
     "outputs": [
      {
       "latex": [
        "$$\\Omega^{4}{\\left (t \\right )} \\hat{n}{\\left (t \\right )} - 6 \\Omega^{2}{\\left (t \\right )} \\hat{\\lambda}{\\left (t \\right )} \\frac{d}{d t} \\Omega{\\left (t \\right )} - 4 \\Omega{\\left (t \\right )} \\hat{n}{\\left (t \\right )} \\frac{d^{2}}{d t^{2}}  \\Omega{\\left (t \\right )} + \\hat{\\lambda}{\\left (t \\right )} \\frac{d^{3}}{d t^{3}}  \\Omega{\\left (t \\right )} - 3 \\hat{n}{\\left (t \\right )} \\left(\\frac{d}{d t} \\Omega{\\left (t \\right )}\\right)^{2}$$"
       ],
       "metadata": {},
       "output_type": "pyout",
       "png": "[encoded data removed]",
       "prompt_number": 11,
       "text": [
        "                                                      2                 3     \n",
        " 4               2          d                        d                 d      \n",
        "\u03a9 (t)\u22c5n\u0302(t) - 6\u22c5\u03a9 (t)\u22c5\u03bb\u0302(t)\u22c5\u2500\u2500(\u03a9(t)) - 4\u22c5\u03a9(t)\u22c5n\u0302(t)\u22c5\u2500\u2500\u2500(\u03a9(t)) + \u03bb\u0302(t)\u22c5\u2500\u2500\u2500(\u03a9(t)\n",
        "                            dt                        2                 3     \n",
        "                                                    dt                dt      \n",
        "\n",
        "                      2\n",
        "            \u239bd       \u239e \n",
        ") - 3\u22c5n\u0302(t)\u22c5\u239c\u2500\u2500(\u03a9(t))\u239f \n",
        "            \u239ddt      \u23a0 \n",
        "                       "
       ]
      }
     ],
     "prompt_number": 11
    },
    {
     "cell_type": "code",
     "collapsed": false,
     "input": [
      "diff(SigmaVec,t, 0)"
     ],
     "language": "python",
     "metadata": {},
     "outputs": [
      {
       "latex": [
        "$$\\vec{\\Sigma}{\\left (t \\right )}$$"
       ],
       "metadata": {},
       "output_type": "pyout",
       "png": "[encoded data removed]",
       "prompt_number": 12,
       "text": [
        "\\vec{\\Sigma}(t)"
       ]
      }
     ],
     "prompt_number": 12
    },
    {
     "cell_type": "code",
     "collapsed": false,
     "input": [
      "diff(SigmaVec,t, 1)"
     ],
     "language": "python",
     "metadata": {},
     "outputs": [
      {
       "latex": [
        "$$\\partial_t \\vec{\\Sigma}{\\left (t \\right )}$$"
       ],
       "metadata": {},
       "output_type": "pyout",
       "png": "[encoded data removed]",
       "prompt_number": 13,
       "text": [
        "\\partial_t \\vec{\\Sigma}(t)"
       ]
      }
     ],
     "prompt_number": 13
    },
    {
     "cell_type": "code",
     "collapsed": false,
     "input": [
      "diff(SigmaVec,t, 2)"
     ],
     "language": "python",
     "metadata": {},
     "outputs": [
      {
       "latex": [
        "$$\\partial_t^{2} \\vec{\\Sigma}{\\left (t \\right )}$$"
       ],
       "metadata": {},
       "output_type": "pyout",
       "png": "[encoded data removed]",
       "prompt_number": 14,
       "text": [
        "\\partial_t__{2} \\vec{\\Sigma}(t)"
       ]
      }
     ],
     "prompt_number": 14
    },
    {
     "cell_type": "code",
     "collapsed": false,
     "input": [
      "diff(SigmaVec,t, 2) | nHat"
     ],
     "language": "python",
     "metadata": {},
     "outputs": [
      {
       "latex": [
        "$$\\frac{d^{2}}{d t^{2}}  \\Sigma_{n}{\\left (t \\right )}$$"
       ],
       "metadata": {},
       "output_type": "pyout",
       "png": "[encoded data removed]",
       "prompt_number": 7,
       "text": [
        "  2        \n",
        " d         \n",
        "\u2500\u2500\u2500(\u03a3_n(t))\n",
        "  2        \n",
        "dt         "
       ]
      }
     ],
     "prompt_number": 7
    },
    {
     "cell_type": "code",
     "collapsed": false,
     "input": [
      "T1 = TensorProduct(SigmaVec, SigmaVec, ellHat, coefficient=1)\n",
      "T2 = TensorProduct(SigmaVec, nHat, lambdaHat, coefficient=1)\n",
      "tmp = Tensor(T1,T2)\n",
      "display(T1, T2, tmp)"
     ],
     "language": "python",
     "metadata": {},
     "outputs": [
      {
       "latex": [
        "$$\\begin{equation*}\\left[ \\vec{\\Sigma}{\\left (t \\right )} \\otimes \\vec{\\Sigma}{\\left (t \\right )} \\otimes \\hat{\\ell}{\\left (t \\right )} \\right]\\end{equation*}$$"
       ],
       "metadata": {},
       "output_type": "display_data",
       "png": "[encoded data removed]",
       "text": [
        "TensorProductFunction(t)"
       ]
      },
      {
       "latex": [
        "$$\\begin{equation*}\\left[ \\vec{\\Sigma}{\\left (t \\right )} \\otimes \\hat{n}{\\left (t \\right )} \\otimes \\hat{\\lambda}{\\left (t \\right )} \\right]\\end{equation*}$$"
       ],
       "metadata": {},
       "output_type": "display_data",
       "png": "[encoded data removed]",
       "text": [
        "TensorProductFunction(t)"
       ]
      },
      {
       "latex": [
        "$$\\begin{align*}&\\left\\{ \\left[ \\vec{\\Sigma}{\\left (t \\right )} \\otimes \\vec{\\Sigma}{\\left (t \\right )} \\otimes \\hat{\\ell}{\\left (t \\right )} \\right] \\right. \\nonumber \\\\&\\quad \\left. + \\left[ \\vec{\\Sigma}{\\left (t \\right )} \\otimes \\hat{n}{\\left (t \\right )} \\otimes \\hat{\\lambda}{\\left (t \\right )} \\right] \\right\\}\\end{align*}$$"
       ],
       "metadata": {},
       "output_type": "display_data",
       "png": "[encoded data removed]",
       "text": [
        "TensorFunction(t)"
       ]
      }
     ],
     "prompt_number": 3
    },
    {
     "cell_type": "code",
     "collapsed": false,
     "input": [
      "T1+T2"
     ],
     "language": "python",
     "metadata": {},
     "outputs": [
      {
       "latex": [
        "$$\\begin{align*}&\\left\\{ \\left[ \\vec{\\Sigma}{\\left (t \\right )} \\otimes \\vec{\\Sigma}{\\left (t \\right )} \\otimes \\hat{\\ell}{\\left (t \\right )} \\right] \\right. \\nonumber \\\\&\\quad \\left. + \\left[ \\vec{\\Sigma}{\\left (t \\right )} \\otimes \\hat{n}{\\left (t \\right )} \\otimes \\hat{\\lambda}{\\left (t \\right )} \\right] \\right\\}\\end{align*}$$"
       ],
       "metadata": {},
       "output_type": "pyout",
       "png": "[encoded data removed]",
       "prompt_number": 4,
       "text": [
        "TensorFunction(t)"
       ]
      }
     ],
     "prompt_number": 4
    },
    {
     "cell_type": "code",
     "collapsed": false,
     "input": [
      "T1.trace(0,1)"
     ],
     "language": "python",
     "metadata": {},
     "outputs": [
      {
       "latex": [
        "$$\\begin{equation*}\\left\\{ \\left[ \\Sigma_{\\ell}^{2}{\\left (t \\right )} + \\Sigma_{\\lambda}^{2}{\\left (t \\right )} + \\Sigma_{n}^{2}{\\left (t \\right )} \\right]\\, \\hat{\\ell}{\\left (t \\right )} \\right\\}\\end{equation*}$$"
       ],
       "metadata": {},
       "output_type": "pyout",
       "png": "[encoded data removed]",
       "prompt_number": 5,
       "text": [
        "TensorProductFunction(t)"
       ]
      }
     ],
     "prompt_number": 5
    },
    {
     "cell_type": "code",
     "collapsed": false,
     "input": [
      "T2 = TensorProduct(SigmaVec, nHat, lambdaHat, coefficient=1)\n",
      "T2"
     ],
     "language": "python",
     "metadata": {},
     "outputs": [
      {
       "latex": [
        "$$\\begin{equation*}\\left[ \\vec{\\Sigma}{\\left (t \\right )} \\otimes \\hat{n}{\\left (t \\right )} \\otimes \\hat{\\lambda}{\\left (t \\right )} \\right]\\end{equation*}$$"
       ],
       "metadata": {},
       "output_type": "pyout",
       "png": "[encoded data removed]",
       "prompt_number": 6,
       "text": [
        "TensorProductFunction(t)"
       ]
      }
     ],
     "prompt_number": 6
    },
    {
     "cell_type": "code",
     "collapsed": false,
     "input": [
      "ellHat*T2"
     ],
     "language": "python",
     "metadata": {},
     "outputs": [
      {
       "latex": [
        "$$\\begin{equation*}\\left[ \\hat{\\ell}{\\left (t \\right )} \\otimes \\vec{\\Sigma}{\\left (t \\right )} \\otimes \\hat{n}{\\left (t \\right )} \\otimes \\hat{\\lambda}{\\left (t \\right )} \\right]\\end{equation*}$$"
       ],
       "metadata": {},
       "output_type": "pyout",
       "png": "[encoded data removed]",
       "prompt_number": 7,
       "text": [
        "TensorProductFunction(t)"
       ]
      }
     ],
     "prompt_number": 7
    },
    {
     "cell_type": "code",
     "collapsed": false,
     "input": [
      "T3 = TensorProduct(SigmaVec, SigmaVec, ellHat, coefficient=1)\n",
      "display(T3)\n",
      "T3.trace(0,1)"
     ],
     "language": "python",
     "metadata": {},
     "outputs": [
      {
       "latex": [
        "$$\\begin{equation*}\\left[ \\vec{\\Sigma}{\\left (t \\right )} \\otimes \\vec{\\Sigma}{\\left (t \\right )} \\otimes \\hat{\\ell}{\\left (t \\right )} \\right]\\end{equation*}$$"
       ],
       "metadata": {},
       "output_type": "display_data",
       "png": "[encoded data removed]",
       "text": [
        "TensorProductFunction(t)"
       ]
      },
      {
       "latex": [
        "$$\\begin{equation*}\\left\\{ \\left[ \\Sigma_{\\ell}^{2}{\\left (t \\right )} + \\Sigma_{\\lambda}^{2}{\\left (t \\right )} + \\Sigma_{n}^{2}{\\left (t \\right )} \\right]\\, \\hat{\\ell}{\\left (t \\right )} \\right\\}\\end{equation*}$$"
       ],
       "metadata": {},
       "output_type": "pyout",
       "png": "[encoded data removed]",
       "prompt_number": 8,
       "text": [
        "TensorProductFunction(t)"
       ]
      }
     ],
     "prompt_number": 8
    },
    {
     "cell_type": "code",
     "collapsed": false,
     "input": [
      "T3 = SymmetricTensorProduct(SigmaVec, SigmaVec, ellHat, coefficient=1)\n",
      "display(T3)\n",
      "T3.trace(0,1)"
     ],
     "language": "python",
     "metadata": {},
     "outputs": [
      {
       "latex": [
        "$$\\begin{equation*}\\left[ \\vec{\\Sigma}{\\left (t \\right )} \\otimes_{\\mathrm{s}} \\vec{\\Sigma}{\\left (t \\right )} \\otimes_{\\mathrm{s}} \\hat{\\ell}{\\left (t \\right )} \\right]\\end{equation*}$$"
       ],
       "metadata": {},
       "output_type": "display_data",
       "png": "[encoded data removed]",
       "text": [
        "TensorProductFunction(t)"
       ]
      },
      {
       "latex": [
        "$$\\begin{align*}&\\left\\{ \\left\\{ \\left[ \\frac{1}{3} \\Sigma_{\\ell}^{2}{\\left (t \\right )} + \\frac{1}{3} \\Sigma_{\\lambda}^{2}{\\left (t \\right )} + \\frac{1}{3} \\Sigma_{n}^{2}{\\left (t \\right )} \\right]\\, \\hat{\\ell}{\\left (t \\right )} \\right\\} \\right. \\nonumber \\\\&\\quad \\left. + \\left\\{ \\left[ \\frac{2}{3} \\Sigma_{\\ell}{\\left (t \\right )} \\right]\\, \\vec{\\Sigma}{\\left (t \\right )} \\right\\} \\right\\}\\end{align*}$$"
       ],
       "metadata": {},
       "output_type": "pyout",
       "png": "[encoded data removed]",
       "prompt_number": 9,
       "text": [
        "TensorFunction(t)"
       ]
      }
     ],
     "prompt_number": 9
    },
    {
     "cell_type": "code",
     "collapsed": false,
     "input": [
      "T3*ellHat"
     ],
     "language": "python",
     "metadata": {},
     "outputs": [
      {
       "latex": [
        "$$\\begin{equation*}\\left[ \\vec{\\Sigma}{\\left (t \\right )} \\otimes_{\\mathrm{s}} \\vec{\\Sigma}{\\left (t \\right )} \\otimes_{\\mathrm{s}} \\hat{\\ell}{\\left (t \\right )} \\otimes_{\\mathrm{s}} \\hat{\\ell}{\\left (t \\right )} \\right]\\end{equation*}$$"
       ],
       "metadata": {},
       "output_type": "pyout",
       "png": "[encoded data removed]",
       "prompt_number": 10,
       "text": [
        "TensorProductFunction(t)"
       ]
      }
     ],
     "prompt_number": 10
    },
    {
     "cell_type": "code",
     "collapsed": false,
     "input": [
      "ellHat*T3"
     ],
     "language": "python",
     "metadata": {},
     "outputs": [
      {
       "latex": [
        "$$\\begin{equation*}\\left[ \\hat{\\ell}{\\left (t \\right )} \\otimes_{\\mathrm{s}} \\vec{\\Sigma}{\\left (t \\right )} \\otimes_{\\mathrm{s}} \\vec{\\Sigma}{\\left (t \\right )} \\otimes_{\\mathrm{s}} \\hat{\\ell}{\\left (t \\right )} \\right]\\end{equation*}$$"
       ],
       "metadata": {},
       "output_type": "pyout",
       "png": "[encoded data removed]",
       "prompt_number": 11,
       "text": [
        "TensorProductFunction(t)"
       ]
      }
     ],
     "prompt_number": 11
    },
    {
     "cell_type": "code",
     "collapsed": false,
     "input": [
      "for k in range(1,4):\n",
      "    display((T2*ellHat).trace(0,k))"
     ],
     "language": "python",
     "metadata": {},
     "outputs": [
      {
       "latex": [
        "$$\\begin{equation*}\\left\\{ \\left[ \\Sigma_{n}{\\left (t \\right )} \\right]\\, \\hat{\\lambda}{\\left (t \\right )} \\otimes \\hat{\\ell}{\\left (t \\right )} \\right\\}\\end{equation*}$$"
       ],
       "metadata": {},
       "output_type": "display_data",
       "png": "[encoded data removed]",
       "text": [
        "TensorProductFunction(t)"
       ]
      },
      {
       "latex": [
        "$$\\begin{equation*}\\left\\{ \\left[ \\Sigma_{\\lambda}{\\left (t \\right )} \\right]\\, \\hat{n}{\\left (t \\right )} \\otimes \\hat{\\ell}{\\left (t \\right )} \\right\\}\\end{equation*}$$"
       ],
       "metadata": {},
       "output_type": "display_data",
       "png": "[encoded data removed]",
       "text": [
        "TensorProductFunction(t)"
       ]
      },
      {
       "latex": [
        "$$\\begin{equation*}\\left\\{ \\left[ \\Sigma_{\\ell}{\\left (t \\right )} \\right]\\, \\hat{n}{\\left (t \\right )} \\otimes \\hat{\\lambda}{\\left (t \\right )} \\right\\}\\end{equation*}$$"
       ],
       "metadata": {},
       "output_type": "display_data",
       "png": "[encoded data removed]",
       "text": [
        "TensorProductFunction(t)"
       ]
      }
     ],
     "prompt_number": 12
    },
    {
     "cell_type": "code",
     "collapsed": false,
     "input": [
      "T1+T2"
     ],
     "language": "python",
     "metadata": {},
     "outputs": [
      {
       "latex": [
        "$$\\begin{align*}&\\left\\{ \\left[ \\vec{\\Sigma}{\\left (t \\right )} \\otimes \\vec{\\Sigma}{\\left (t \\right )} \\otimes \\hat{\\ell}{\\left (t \\right )} \\right] \\right. \\nonumber \\\\&\\quad \\left. + \\left[ \\vec{\\Sigma}{\\left (t \\right )} \\otimes \\hat{n}{\\left (t \\right )} \\otimes \\hat{\\lambda}{\\left (t \\right )} \\right] \\right\\}\\end{align*}$$"
       ],
       "metadata": {},
       "output_type": "pyout",
       "png": "[encoded data removed]",
       "prompt_number": 13,
       "text": [
        "TensorFunction(t)"
       ]
      }
     ],
     "prompt_number": 13
    },
    {
     "cell_type": "code",
     "collapsed": false,
     "input": [
      "T1+T3"
     ],
     "language": "python",
     "metadata": {},
     "outputs": [
      {
       "latex": [
        "$$\\begin{align*}&\\left\\{ \\left[ \\vec{\\Sigma}{\\left (t \\right )} \\otimes \\vec{\\Sigma}{\\left (t \\right )} \\otimes \\hat{\\ell}{\\left (t \\right )} \\right] \\right. \\nonumber \\\\&\\quad \\left. + \\left[ \\vec{\\Sigma}{\\left (t \\right )} \\otimes_{\\mathrm{s}} \\vec{\\Sigma}{\\left (t \\right )} \\otimes_{\\mathrm{s}} \\hat{\\ell}{\\left (t \\right )} \\right] \\right\\}\\end{align*}$$"
       ],
       "metadata": {},
       "output_type": "pyout",
       "png": "[encoded data removed]",
       "prompt_number": 14,
       "text": [
        "TensorFunction(t)"
       ]
      }
     ],
     "prompt_number": 14
    },
    {
     "cell_type": "code",
     "collapsed": false,
     "input": [
      "T1 = SymmetricTensorProduct(SigmaVec, SigmaVec, ellHat, nHat, coefficient=1)\n",
      "display(T1)\n",
      "display(T1.trace())"
     ],
     "language": "python",
     "metadata": {},
     "outputs": [
      {
       "latex": [
        "$$\\begin{equation*}\\left[ \\vec{\\Sigma}{\\left (t \\right )} \\otimes_{\\mathrm{s}} \\vec{\\Sigma}{\\left (t \\right )} \\otimes_{\\mathrm{s}} \\hat{\\ell}{\\left (t \\right )} \\otimes_{\\mathrm{s}} \\hat{n}{\\left (t \\right )} \\right]\\end{equation*}$$"
       ],
       "metadata": {},
       "output_type": "display_data",
       "png": "[encoded data removed]",
       "text": [
        "TensorProductFunction(t)"
       ]
      },
      {
       "latex": [
        "$$\\begin{align*}&\\left\\{ \\left\\{ \\left[ \\frac{1}{12} \\Sigma_{\\ell}^{2}{\\left (t \\right )} + \\frac{1}{12} \\Sigma_{\\lambda}^{2}{\\left (t \\right )} + \\frac{1}{12} \\Sigma_{n}^{2}{\\left (t \\right )} \\right]\\, \\hat{\\ell}{\\left (t \\right )} \\otimes_{\\mathrm{s}} \\hat{n}{\\left (t \\right )} \\right\\} \\right. \\nonumber \\\\&\\quad \\left. + \\left\\{ \\left[ \\frac{1}{6} \\Sigma_{\\ell}{\\left (t \\right )} \\right]\\, \\vec{\\Sigma}{\\left (t \\right )} \\otimes_{\\mathrm{s}} \\hat{n}{\\left (t \\right )} \\right\\} \\right. \\nonumber \\\\&\\quad \\left. + \\left\\{ \\left[ \\frac{1}{6} \\Sigma_{n}{\\left (t \\right )} \\right]\\, \\vec{\\Sigma}{\\left (t \\right )} \\otimes_{\\mathrm{s}} \\hat{\\ell}{\\left (t \\right )} \\right\\} \\right\\}\\end{align*}$$"
       ],
       "metadata": {},
       "output_type": "display_data",
       "png": "[encoded data removed]",
       "text": [
        "TensorFunction(t)"
       ]
      }
     ],
     "prompt_number": 15
    },
    {
     "cell_type": "code",
     "collapsed": false,
     "input": [
      "T1*T2"
     ],
     "language": "python",
     "metadata": {},
     "outputs": [
      {
       "latex": [
        "$$\\begin{equation*}\\left[ \\vec{\\Sigma}{\\left (t \\right )} \\otimes_{\\mathrm{s}} \\vec{\\Sigma}{\\left (t \\right )} \\otimes_{\\mathrm{s}} \\hat{\\ell}{\\left (t \\right )} \\otimes_{\\mathrm{s}} \\hat{n}{\\left (t \\right )} \\otimes_{\\mathrm{s}} \\vec{\\Sigma}{\\left (t \\right )} \\otimes_{\\mathrm{s}} \\hat{n}{\\left (t \\right )} \\otimes_{\\mathrm{s}} \\hat{\\lambda}{\\left (t \\right )} \\right]\\end{equation*}$$"
       ],
       "metadata": {},
       "output_type": "pyout",
       "png": "[encoded data removed]",
       "prompt_number": 16,
       "text": [
        "TensorProductFunction(t)"
       ]
      }
     ],
     "prompt_number": 16
    },
    {
     "cell_type": "code",
     "collapsed": false,
     "input": [
      "T1.trace(0,1) * T2"
     ],
     "language": "python",
     "metadata": {},
     "outputs": [
      {
       "latex": [
        "$$\\begin{align*}&\\left\\{ \\left\\{ \\left[ \\frac{1}{12} \\Sigma_{\\ell}^{2}{\\left (t \\right )} + \\frac{1}{12} \\Sigma_{\\lambda}^{2}{\\left (t \\right )} + \\frac{1}{12} \\Sigma_{n}^{2}{\\left (t \\right )} \\right]\\, \\hat{\\ell}{\\left (t \\right )} \\otimes_{\\mathrm{s}} \\hat{n}{\\left (t \\right )} \\otimes_{\\mathrm{s}} \\vec{\\Sigma}{\\left (t \\right )} \\otimes_{\\mathrm{s}} \\hat{n}{\\left (t \\right )} \\otimes_{\\mathrm{s}} \\hat{\\lambda}{\\left (t \\right )} \\right\\} \\right. \\nonumber \\\\&\\quad \\left. + \\left\\{ \\left[ \\frac{1}{6} \\Sigma_{\\ell}{\\left (t \\right )} \\right]\\, \\vec{\\Sigma}{\\left (t \\right )} \\otimes_{\\mathrm{s}} \\hat{n}{\\left (t \\right )} \\otimes_{\\mathrm{s}} \\vec{\\Sigma}{\\left (t \\right )} \\otimes_{\\mathrm{s}} \\hat{n}{\\left (t \\right )} \\otimes_{\\mathrm{s}} \\hat{\\lambda}{\\left (t \\right )} \\right\\} \\right. \\nonumber \\\\&\\quad \\left. + \\left\\{ \\left[ \\frac{1}{6} \\Sigma_{n}{\\left (t \\right )} \\right]\\, \\vec{\\Sigma}{\\left (t \\right )} \\otimes_{\\mathrm{s}} \\hat{\\ell}{\\left (t \\right )} \\otimes_{\\mathrm{s}} \\vec{\\Sigma}{\\left (t \\right )} \\otimes_{\\mathrm{s}} \\hat{n}{\\left (t \\right )} \\otimes_{\\mathrm{s}} \\hat{\\lambda}{\\left (t \\right )} \\right\\} \\right\\}\\end{align*}$$"
       ],
       "metadata": {},
       "output_type": "pyout",
       "png": "[encoded data removed]",
       "prompt_number": 17,
       "text": [
        "TensorFunction(t)"
       ]
      }
     ],
     "prompt_number": 17
    },
    {
     "cell_type": "code",
     "collapsed": false,
     "input": [
      "SymmetricTensorProduct(nHat, nHat, nHat).trace()"
     ],
     "language": "python",
     "metadata": {},
     "outputs": [
      {
       "latex": [
        "$$\\begin{align*}&\\left\\{ \\left[ \\hat{n}{\\left (t \\right )} \\right] \\right\\}\\end{align*}$$"
       ],
       "metadata": {},
       "output_type": "pyout",
       "png": "[encoded data removed]",
       "prompt_number": 18,
       "text": [
        "TensorFunction(t)"
       ]
      }
     ],
     "prompt_number": 18
    },
    {
     "cell_type": "heading",
     "level": 1,
     "metadata": {},
     "source": [
      "Defining the spherical-harmonic tensors"
     ]
    },
    {
     "cell_type": "markdown",
     "metadata": {},
     "source": [
      "[Thorne (1980)](http://link.aps.org/doi/10.1103/RevModPhys.52.299) gives a nice review, along with the following formulas:"
     ]
    },
    {
     "cell_type": "code",
     "collapsed": false,
     "input": [
      "def C(ell,m):\n",
      "    return (-1)**(m) * sympy.sqrt( frac(2*ell+1,4) * frac(factorial(ell-m), factorial(ell+m)) / sympy.pi )\n",
      "\n",
      "def a(ell,m,j):\n",
      "    return frac((-1)**j, 2**ell * factorial(j) * factorial(ell-j)) * frac(factorial(2*ell-2*j), factorial(ell-m-2*j))\n",
      "\n",
      "def YlmTensor(ell, m, OrthogonalRightHandedBasis=[nHat, lambdaHat, ellHat]):\n",
      "    from sympy import prod\n",
      "    xHat, yHat, zHat = OrthogonalRightHandedBasis\n",
      "    if(m<0):\n",
      "        mVec = Tensor(SymmetricTensorProduct(xHat), SymmetricTensorProduct(yHat,coefficient=-sympy.I))\n",
      "        #mVec = VectorFactory('mBarVec', [1,-sympy.I,0])(t)\n",
      "    else:\n",
      "        mVec = Tensor(SymmetricTensorProduct(xHat), SymmetricTensorProduct(yHat,coefficient=sympy.I))\n",
      "        #mVec = VectorFactory('mVec', [1,sympy.I,0])(t)\n",
      "    def TensorPart(ell,m,j):\n",
      "        return sympy.prod((mVec,)*m) * SymmetricTensorProduct(*((zHat,)*(ell-2*j-m))) \\\n",
      "            * sympy.prod([sum([SymmetricTensorProduct(vHat, vHat) for vHat in OrthogonalRightHandedBasis]) for i in range(j)])\n",
      "    if(m<0):\n",
      "        Y = (-1)**(-m) * sum([(C(ell,-m) * a(ell,-m,j)) * TensorPart(ell,-m,j)\n",
      "                              for j in range(floor(frac(ell+m,2))+1) ])\n",
      "    else:\n",
      "        Y = sum([(C(ell,m) * a(ell,m,j)) * TensorPart(ell,m,j)\n",
      "                 for j in range(floor(frac(ell-m,2))+1) ])\n",
      "    try:\n",
      "        print(\"Trying to compress\")\n",
      "        Y.compress()\n",
      "    except AttributeError:\n",
      "        print(\"Failed for some reason\")\n",
      "        pass\n",
      "    return Y\n",
      "\n",
      "def YlmTensorConjugate(ell, m, OrthogonalRightHandedBasis=[nHat, lambdaHat, ellHat]):\n",
      "    return (-1)**abs(m) * YlmTensor(ell, -m, OrthogonalRightHandedBasis)\n",
      "\n",
      "NVec = VectorConstant('NVec', [sympy.sin(vartheta)*sympy.cos(varphi),\n",
      "                               sympy.sin(vartheta)*sympy.sin(varphi),\n",
      "                               sympy.cos(vartheta)])(t)\n",
      "\n",
      "def NTensor(ell):\n",
      "    return SymmetricTensorProduct(*((NVec,)*ell))"
     ],
     "language": "python",
     "metadata": {},
     "outputs": [],
     "prompt_number": 3
    },
    {
     "cell_type": "markdown",
     "metadata": {},
     "source": [
      "Let's take a look at those tensors:"
     ]
    },
    {
     "cell_type": "code",
     "collapsed": false,
     "input": [
      "prod((nHat,)*2)"
     ],
     "language": "python",
     "metadata": {},
     "outputs": [],
     "prompt_number": 11
    },
    {
     "cell_type": "markdown",
     "metadata": {},
     "source": [
      "***NOTE***\n",
      "\n",
      "What's wrong with `compress`?  I think the problem is that it comes out as a sympy expression, rather than as a tensor.  And sympy expressions obviously don't have `compress` attributes.  So I think I need to do something about the multiplication here, too.\n",
      "\n",
      "And can I do something about vectors not knowing how to multiply? "
     ]
    },
    {
     "cell_type": "code",
     "collapsed": false,
     "input": [
      "tmp1=SymmetricTensorProduct(nHat, lambdaHat)\n",
      "tmp2=SymmetricTensorProduct(lambdaHat, nHat)"
     ],
     "language": "python",
     "metadata": {},
     "outputs": [],
     "prompt_number": 15
    },
    {
     "cell_type": "code",
     "collapsed": false,
     "input": [
      "tmp1.has_same_basis_element(tmp2)"
     ],
     "language": "python",
     "metadata": {},
     "outputs": [
      {
       "metadata": {},
       "output_type": "pyout",
       "prompt_number": 16,
       "text": [
        "True"
       ]
      }
     ],
     "prompt_number": 16
    },
    {
     "cell_type": "code",
     "collapsed": false,
     "input": [
      "tmp=tmp1+tmp2"
     ],
     "language": "python",
     "metadata": {},
     "outputs": [],
     "prompt_number": 18
    },
    {
     "cell_type": "code",
     "collapsed": false,
     "input": [
      "tmp.compress()"
     ],
     "language": "python",
     "metadata": {},
     "outputs": [
      {
       "latex": [
        "$$\\begin{align*}&\\left\\{ \\left[ \\left(2\\right)\\, \\hat{n}{\\left (t \\right )} \\otimes_{\\mathrm{s}} \\hat{\\lambda}{\\left (t \\right )} \\right] \\right\\}\\end{align*}$$"
       ],
       "metadata": {},
       "output_type": "pyout",
       "png": "[encoded data removed]",
       "prompt_number": 19,
       "text": [
        "TensorFunction(t)"
       ]
      }
     ],
     "prompt_number": 19
    },
    {
     "cell_type": "code",
     "collapsed": false,
     "input": [],
     "language": "python",
     "metadata": {},
     "outputs": []
    },
    {
     "cell_type": "code",
     "collapsed": false,
     "input": [
      "for ell in range(2,5):\n",
      "    print('')\n",
      "    for m in range(-ell, ell+1):\n",
      "        print('(ell,m) = ({0},{1}):'.format(ell,m))\n",
      "        display( YlmTensor(ell,m) )"
     ],
     "language": "python",
     "metadata": {},
     "outputs": [
      {
       "output_type": "stream",
       "stream": "stdout",
       "text": [
        "\n",
        "(ell,m) = (2,-2):\n",
        "Trying to compress"
       ]
      },
      {
       "output_type": "stream",
       "stream": "stdout",
       "text": [
        "\n",
        "Failed for some reason\n"
       ]
      },
      {
       "latex": [
        "$$\\begin{align*}\\frac{\\sqrt{30}}{8 \\sqrt{\\pi}} &\\left\\{ \\left[ \\hat{n}{\\left (t \\right )} \\otimes_{\\mathrm{s}} \\hat{n}{\\left (t \\right )} \\right] \\right. \\nonumber \\\\&\\quad \\left. + \\left[ \\left(- i\\right)\\, \\hat{n}{\\left (t \\right )} \\otimes_{\\mathrm{s}} \\hat{\\lambda}{\\left (t \\right )} \\right] \\right. \\nonumber \\\\&\\quad \\left. + \\left[ \\left(- i\\right)\\, \\hat{\\lambda}{\\left (t \\right )} \\otimes_{\\mathrm{s}} \\hat{n}{\\left (t \\right )} \\right] \\right. \\nonumber \\\\&\\quad \\left. + \\left[ \\left(-1\\right)\\, \\hat{\\lambda}{\\left (t \\right )} \\otimes_{\\mathrm{s}} \\hat{\\lambda}{\\left (t \\right )} \\right] \\right\\}\\end{align*}$$"
       ],
       "metadata": {},
       "output_type": "display_data",
       "png": "[encoded data removed]",
       "text": [
        "  ____                  \n",
        "\u2572\u2571 30 \u22c5TensorFunction(t)\n",
        "\u2500\u2500\u2500\u2500\u2500\u2500\u2500\u2500\u2500\u2500\u2500\u2500\u2500\u2500\u2500\u2500\u2500\u2500\u2500\u2500\u2500\u2500\u2500\u2500\n",
        "            ___         \n",
        "        8\u22c5\u2572\u2571 \u03c0          "
       ]
      },
      {
       "output_type": "stream",
       "stream": "stdout",
       "text": [
        "(ell,m) = (2,-1):\n",
        "Trying to compress\n",
        "Failed for some reason\n"
       ]
      },
      {
       "latex": [
        "$$\\begin{align*}\\frac{\\sqrt{30}}{4 \\sqrt{\\pi}} &\\left\\{ \\left[ \\hat{n}{\\left (t \\right )} \\otimes_{\\mathrm{s}} \\hat{\\ell}{\\left (t \\right )} \\right] \\right. \\nonumber \\\\&\\quad \\left. + \\left[ \\left(- i\\right)\\, \\hat{\\lambda}{\\left (t \\right )} \\otimes_{\\mathrm{s}} \\hat{\\ell}{\\left (t \\right )} \\right] \\right\\}\\end{align*}$$"
       ],
       "metadata": {},
       "output_type": "display_data",
       "png": "[encoded data removed]",
       "text": [
        "  ____                  \n",
        "\u2572\u2571 30 \u22c5TensorFunction(t)\n",
        "\u2500\u2500\u2500\u2500\u2500\u2500\u2500\u2500\u2500\u2500\u2500\u2500\u2500\u2500\u2500\u2500\u2500\u2500\u2500\u2500\u2500\u2500\u2500\u2500\n",
        "            ___         \n",
        "        4\u22c5\u2572\u2571 \u03c0          "
       ]
      },
      {
       "output_type": "stream",
       "stream": "stdout",
       "text": [
        "(ell,m) = (2,0):\n",
        "Trying to compress\n",
        "Failed for some reason\n"
       ]
      },
      {
       "latex": [
        "$$\\begin{equation*}- \\frac{\\sqrt{5}}{4 \\sqrt{\\pi}} &\\left\\{ \\left[ \\hat{n}{\\left (t \\right )} \\otimes_{\\mathrm{s}} \\hat{n}{\\left (t \\right )} \\right] \\right. \\nonumber \\\\&\\quad \\left. + \\left[ \\hat{\\lambda}{\\left (t \\right )} \\otimes_{\\mathrm{s}} \\hat{\\lambda}{\\left (t \\right )} \\right] \\right. \\nonumber \\\\&\\quad \\left. + \\left[ \\hat{\\ell}{\\left (t \\right )} \\otimes_{\\mathrm{s}} \\hat{\\ell}{\\left (t \\right )} \\right] \\right\\} + \\frac{3 \\sqrt{5}}{4 \\sqrt{\\pi}} \\left[ \\hat{\\ell}{\\left (t \\right )} \\otimes_{\\mathrm{s}} \\hat{\\ell}{\\left (t \\right )} \\right]\\end{equation*}$$"
       ],
       "metadata": {},
       "output_type": "display_data",
       "png": "[encoded data removed]",
       "text": [
        "    ___                         ___                         \n",
        "  \u2572\u2571 5 \u22c5TensorFunction(t)   3\u22c5\u2572\u2571 5 \u22c5TensorProductFunction(t)\n",
        "- \u2500\u2500\u2500\u2500\u2500\u2500\u2500\u2500\u2500\u2500\u2500\u2500\u2500\u2500\u2500\u2500\u2500\u2500\u2500\u2500\u2500\u2500\u2500 + \u2500\u2500\u2500\u2500\u2500\u2500\u2500\u2500\u2500\u2500\u2500\u2500\u2500\u2500\u2500\u2500\u2500\u2500\u2500\u2500\u2500\u2500\u2500\u2500\u2500\u2500\u2500\u2500\u2500\u2500\u2500\u2500\n",
        "              ___                           ___             \n",
        "          4\u22c5\u2572\u2571 \u03c0                        4\u22c5\u2572\u2571 \u03c0              "
       ]
      },
      {
       "output_type": "stream",
       "stream": "stdout",
       "text": [
        "(ell,m) = (2,1):\n",
        "Trying to compress\n",
        "Failed for some reason\n"
       ]
      },
      {
       "latex": [
        "$$\\begin{align*}- \\frac{\\sqrt{30}}{4 \\sqrt{\\pi}} &\\left\\{ \\left[ \\hat{n}{\\left (t \\right )} \\otimes_{\\mathrm{s}} \\hat{\\ell}{\\left (t \\right )} \\right] \\right. \\nonumber \\\\&\\quad \\left. + \\left[ \\left(i\\right)\\, \\hat{\\lambda}{\\left (t \\right )} \\otimes_{\\mathrm{s}} \\hat{\\ell}{\\left (t \\right )} \\right] \\right\\}\\end{align*}$$"
       ],
       "metadata": {},
       "output_type": "display_data",
       "png": "[encoded data removed]",
       "text": [
        "   ____                   \n",
        "-\u2572\u2571 30 \u22c5TensorFunction(t) \n",
        "\u2500\u2500\u2500\u2500\u2500\u2500\u2500\u2500\u2500\u2500\u2500\u2500\u2500\u2500\u2500\u2500\u2500\u2500\u2500\u2500\u2500\u2500\u2500\u2500\u2500\u2500\n",
        "             ___          \n",
        "         4\u22c5\u2572\u2571 \u03c0           "
       ]
      },
      {
       "output_type": "stream",
       "stream": "stdout",
       "text": [
        "(ell,m) = (2,2):\n",
        "Trying to compress"
       ]
      },
      {
       "output_type": "stream",
       "stream": "stdout",
       "text": [
        "\n",
        "Failed for some reason\n"
       ]
      },
      {
       "latex": [
        "$$\\begin{align*}\\frac{\\sqrt{30}}{8 \\sqrt{\\pi}} &\\left\\{ \\left[ \\hat{n}{\\left (t \\right )} \\otimes_{\\mathrm{s}} \\hat{n}{\\left (t \\right )} \\right] \\right. \\nonumber \\\\&\\quad \\left. + \\left[ \\left(i\\right)\\, \\hat{n}{\\left (t \\right )} \\otimes_{\\mathrm{s}} \\hat{\\lambda}{\\left (t \\right )} \\right] \\right. \\nonumber \\\\&\\quad \\left. + \\left[ \\left(i\\right)\\, \\hat{\\lambda}{\\left (t \\right )} \\otimes_{\\mathrm{s}} \\hat{n}{\\left (t \\right )} \\right] \\right. \\nonumber \\\\&\\quad \\left. + \\left[ \\left(-1\\right)\\, \\hat{\\lambda}{\\left (t \\right )} \\otimes_{\\mathrm{s}} \\hat{\\lambda}{\\left (t \\right )} \\right] \\right\\}\\end{align*}$$"
       ],
       "metadata": {},
       "output_type": "display_data",
       "png": "[encoded data removed]",
       "text": [
        "  ____                  \n",
        "\u2572\u2571 30 \u22c5TensorFunction(t)\n",
        "\u2500\u2500\u2500\u2500\u2500\u2500\u2500\u2500\u2500\u2500\u2500\u2500\u2500\u2500\u2500\u2500\u2500\u2500\u2500\u2500\u2500\u2500\u2500\u2500\n",
        "            ___         \n",
        "        8\u22c5\u2572\u2571 \u03c0          "
       ]
      },
      {
       "output_type": "stream",
       "stream": "stdout",
       "text": [
        "\n",
        "(ell,m) = (3,-3):\n",
        "Trying to compress"
       ]
      },
      {
       "output_type": "stream",
       "stream": "stdout",
       "text": [
        "\n",
        "Failed for some reason\n"
       ]
      },
      {
       "latex": [
        "$$\\begin{align*}\\frac{\\sqrt{35}}{8 \\sqrt{\\pi}} &\\left\\{ \\left[ \\hat{n}{\\left (t \\right )} \\otimes_{\\mathrm{s}} \\hat{n}{\\left (t \\right )} \\otimes_{\\mathrm{s}} \\hat{n}{\\left (t \\right )} \\right] \\right. \\nonumber \\\\&\\quad \\left. + \\left[ \\left(- i\\right)\\, \\hat{n}{\\left (t \\right )} \\otimes_{\\mathrm{s}} \\hat{n}{\\left (t \\right )} \\otimes_{\\mathrm{s}} \\hat{\\lambda}{\\left (t \\right )} \\right] \\right. \\nonumber \\\\&\\quad \\left. + \\left[ \\left(- i\\right)\\, \\hat{n}{\\left (t \\right )} \\otimes_{\\mathrm{s}} \\hat{\\lambda}{\\left (t \\right )} \\otimes_{\\mathrm{s}} \\hat{n}{\\left (t \\right )} \\right] \\right. \\nonumber \\\\&\\quad \\left. + \\left[ \\left(-1\\right)\\, \\hat{n}{\\left (t \\right )} \\otimes_{\\mathrm{s}} \\hat{\\lambda}{\\left (t \\right )} \\otimes_{\\mathrm{s}} \\hat{\\lambda}{\\left (t \\right )} \\right] \\right. \\nonumber \\\\&\\quad \\left. + \\left[ \\left(- i\\right)\\, \\hat{\\lambda}{\\left (t \\right )} \\otimes_{\\mathrm{s}} \\hat{n}{\\left (t \\right )} \\otimes_{\\mathrm{s}} \\hat{n}{\\left (t \\right )} \\right] \\right. \\nonumber \\\\&\\quad \\left. + \\left[ \\left(-1\\right)\\, \\hat{\\lambda}{\\left (t \\right )} \\otimes_{\\mathrm{s}} \\hat{n}{\\left (t \\right )} \\otimes_{\\mathrm{s}} \\hat{\\lambda}{\\left (t \\right )} \\right] \\right. \\nonumber \\\\&\\quad \\left. + \\left[ \\left(-1\\right)\\, \\hat{\\lambda}{\\left (t \\right )} \\otimes_{\\mathrm{s}} \\hat{\\lambda}{\\left (t \\right )} \\otimes_{\\mathrm{s}} \\hat{n}{\\left (t \\right )} \\right] \\right. \\nonumber \\\\&\\quad \\left. + \\left[ \\left(i\\right)\\, \\hat{\\lambda}{\\left (t \\right )} \\otimes_{\\mathrm{s}} \\hat{\\lambda}{\\left (t \\right )} \\otimes_{\\mathrm{s}} \\hat{\\lambda}{\\left (t \\right )} \\right] \\right\\}\\end{align*}$$"
       ],
       "metadata": {},
       "output_type": "display_data",
       "png": "[encoded data removed]",
       "text": [
        "  ____                  \n",
        "\u2572\u2571 35 \u22c5TensorFunction(t)\n",
        "\u2500\u2500\u2500\u2500\u2500\u2500\u2500\u2500\u2500\u2500\u2500\u2500\u2500\u2500\u2500\u2500\u2500\u2500\u2500\u2500\u2500\u2500\u2500\u2500\n",
        "            ___         \n",
        "        8\u22c5\u2572\u2571 \u03c0          "
       ]
      },
      {
       "output_type": "stream",
       "stream": "stdout",
       "text": [
        "(ell,m) = (3,-2):\n",
        "Trying to compress"
       ]
      },
      {
       "output_type": "stream",
       "stream": "stdout",
       "text": [
        "\n",
        "Failed for some reason\n"
       ]
      },
      {
       "latex": [
        "$$\\begin{align*}\\frac{\\sqrt{210}}{8 \\sqrt{\\pi}} &\\left\\{ \\left[ \\hat{n}{\\left (t \\right )} \\otimes_{\\mathrm{s}} \\hat{n}{\\left (t \\right )} \\otimes_{\\mathrm{s}} \\hat{\\ell}{\\left (t \\right )} \\right] \\right. \\nonumber \\\\&\\quad \\left. + \\left[ \\left(- i\\right)\\, \\hat{n}{\\left (t \\right )} \\otimes_{\\mathrm{s}} \\hat{\\lambda}{\\left (t \\right )} \\otimes_{\\mathrm{s}} \\hat{\\ell}{\\left (t \\right )} \\right] \\right. \\nonumber \\\\&\\quad \\left. + \\left[ \\left(- i\\right)\\, \\hat{\\lambda}{\\left (t \\right )} \\otimes_{\\mathrm{s}} \\hat{n}{\\left (t \\right )} \\otimes_{\\mathrm{s}} \\hat{\\ell}{\\left (t \\right )} \\right] \\right. \\nonumber \\\\&\\quad \\left. + \\left[ \\left(-1\\right)\\, \\hat{\\lambda}{\\left (t \\right )} \\otimes_{\\mathrm{s}} \\hat{\\lambda}{\\left (t \\right )} \\otimes_{\\mathrm{s}} \\hat{\\ell}{\\left (t \\right )} \\right] \\right\\}\\end{align*}$$"
       ],
       "metadata": {},
       "output_type": "display_data",
       "png": "[encoded data removed]",
       "text": [
        "  _____                  \n",
        "\u2572\u2571 210 \u22c5TensorFunction(t)\n",
        "\u2500\u2500\u2500\u2500\u2500\u2500\u2500\u2500\u2500\u2500\u2500\u2500\u2500\u2500\u2500\u2500\u2500\u2500\u2500\u2500\u2500\u2500\u2500\u2500\u2500\n",
        "             ___         \n",
        "         8\u22c5\u2572\u2571 \u03c0          "
       ]
      },
      {
       "output_type": "stream",
       "stream": "stdout",
       "text": [
        "(ell,m) = (3,-1):\n",
        "Trying to compress"
       ]
      },
      {
       "output_type": "stream",
       "stream": "stdout",
       "text": [
        "\n",
        "Failed for some reason\n"
       ]
      },
      {
       "latex": [
        "$$\\begin{align*}\\frac{5 \\sqrt{21}}{8 \\sqrt{\\pi}} &\\left\\{ \\left[ \\hat{n}{\\left (t \\right )} \\otimes_{\\mathrm{s}} \\hat{\\ell}{\\left (t \\right )} \\otimes_{\\mathrm{s}} \\hat{\\ell}{\\left (t \\right )} \\right] \\right. \\nonumber \\\\&\\quad \\left. + \\left[ \\left(- i\\right)\\, \\hat{\\lambda}{\\left (t \\right )} \\otimes_{\\mathrm{s}} \\hat{\\ell}{\\left (t \\right )} \\otimes_{\\mathrm{s}} \\hat{\\ell}{\\left (t \\right )} \\right] \\right\\} - \\frac{\\sqrt{21}}{8 \\sqrt{\\pi}} &\\left\\{ \\left[ \\hat{n}{\\left (t \\right )} \\otimes_{\\mathrm{s}} \\hat{n}{\\left (t \\right )} \\otimes_{\\mathrm{s}} \\hat{n}{\\left (t \\right )} \\right] \\right. \\nonumber \\\\&\\quad \\left. + \\left[ \\hat{n}{\\left (t \\right )} \\otimes_{\\mathrm{s}} \\hat{\\lambda}{\\left (t \\right )} \\otimes_{\\mathrm{s}} \\hat{\\lambda}{\\left (t \\right )} \\right] \\right. \\nonumber \\\\&\\quad \\left. + \\left[ \\hat{n}{\\left (t \\right )} \\otimes_{\\mathrm{s}} \\hat{\\ell}{\\left (t \\right )} \\otimes_{\\mathrm{s}} \\hat{\\ell}{\\left (t \\right )} \\right] \\right. \\nonumber \\\\&\\quad \\left. + \\left[ \\left(- i\\right)\\, \\hat{\\lambda}{\\left (t \\right )} \\otimes_{\\mathrm{s}} \\hat{n}{\\left (t \\right )} \\otimes_{\\mathrm{s}} \\hat{n}{\\left (t \\right )} \\right] \\right. \\nonumber \\\\&\\quad \\left. + \\left[ \\left(- i\\right)\\, \\hat{\\lambda}{\\left (t \\right )} \\otimes_{\\mathrm{s}} \\hat{\\lambda}{\\left (t \\right )} \\otimes_{\\mathrm{s}} \\hat{\\lambda}{\\left (t \\right )} \\right] \\right. \\nonumber \\\\&\\quad \\left. + \\left[ \\left(- i\\right)\\, \\hat{\\lambda}{\\left (t \\right )} \\otimes_{\\mathrm{s}} \\hat{\\ell}{\\left (t \\right )} \\otimes_{\\mathrm{s}} \\hat{\\ell}{\\left (t \\right )} \\right] \\right\\}\\end{align*}$$"
       ],
       "metadata": {},
       "output_type": "display_data",
       "png": "[encoded data removed]",
       "text": [
        "    ____                       ____                  \n",
        "5\u22c5\u2572\u2571 21 \u22c5TensorFunction(t)   \u2572\u2571 21 \u22c5TensorFunction(t)\n",
        "\u2500\u2500\u2500\u2500\u2500\u2500\u2500\u2500\u2500\u2500\u2500\u2500\u2500\u2500\u2500\u2500\u2500\u2500\u2500\u2500\u2500\u2500\u2500\u2500\u2500\u2500 - \u2500\u2500\u2500\u2500\u2500\u2500\u2500\u2500\u2500\u2500\u2500\u2500\u2500\u2500\u2500\u2500\u2500\u2500\u2500\u2500\u2500\u2500\u2500\u2500\n",
        "             ___                         ___         \n",
        "         8\u22c5\u2572\u2571 \u03c0                      8\u22c5\u2572\u2571 \u03c0          "
       ]
      },
      {
       "output_type": "stream",
       "stream": "stdout",
       "text": [
        "(ell,m) = (3,0):\n",
        "Trying to compress\n",
        "Failed for some reason\n"
       ]
      },
      {
       "latex": [
        "$$\\begin{equation*}- \\frac{3 \\sqrt{7}}{4 \\sqrt{\\pi}} &\\left\\{ \\left[ \\hat{\\ell}{\\left (t \\right )} \\otimes_{\\mathrm{s}} \\hat{n}{\\left (t \\right )} \\otimes_{\\mathrm{s}} \\hat{n}{\\left (t \\right )} \\right] \\right. \\nonumber \\\\&\\quad \\left. + \\left[ \\hat{\\ell}{\\left (t \\right )} \\otimes_{\\mathrm{s}} \\hat{\\lambda}{\\left (t \\right )} \\otimes_{\\mathrm{s}} \\hat{\\lambda}{\\left (t \\right )} \\right] \\right. \\nonumber \\\\&\\quad \\left. + \\left[ \\hat{\\ell}{\\left (t \\right )} \\otimes_{\\mathrm{s}} \\hat{\\ell}{\\left (t \\right )} \\otimes_{\\mathrm{s}} \\hat{\\ell}{\\left (t \\right )} \\right] \\right\\} + \\frac{5 \\sqrt{7}}{4 \\sqrt{\\pi}} \\left[ \\hat{\\ell}{\\left (t \\right )} \\otimes_{\\mathrm{s}} \\hat{\\ell}{\\left (t \\right )} \\otimes_{\\mathrm{s}} \\hat{\\ell}{\\left (t \\right )} \\right]\\end{equation*}$$"
       ],
       "metadata": {},
       "output_type": "display_data",
       "png": "[encoded data removed]",
       "text": [
        "      ___                         ___                         \n",
        "  3\u22c5\u2572\u2571 7 \u22c5TensorFunction(t)   5\u22c5\u2572\u2571 7 \u22c5TensorProductFunction(t)\n",
        "- \u2500\u2500\u2500\u2500\u2500\u2500\u2500\u2500\u2500\u2500\u2500\u2500\u2500\u2500\u2500\u2500\u2500\u2500\u2500\u2500\u2500\u2500\u2500\u2500\u2500 + \u2500\u2500\u2500\u2500\u2500\u2500\u2500\u2500\u2500\u2500\u2500\u2500\u2500\u2500\u2500\u2500\u2500\u2500\u2500\u2500\u2500\u2500\u2500\u2500\u2500\u2500\u2500\u2500\u2500\u2500\u2500\u2500\n",
        "               ___                            ___             \n",
        "           4\u22c5\u2572\u2571 \u03c0                         4\u22c5\u2572\u2571 \u03c0              "
       ]
      },
      {
       "output_type": "stream",
       "stream": "stdout",
       "text": [
        "(ell,m) = (3,1):\n",
        "Trying to compress\n",
        "Failed for some reason\n"
       ]
      },
      {
       "latex": [
        "$$\\begin{align*}- \\frac{5 \\sqrt{21}}{8 \\sqrt{\\pi}} &\\left\\{ \\left[ \\hat{n}{\\left (t \\right )} \\otimes_{\\mathrm{s}} \\hat{\\ell}{\\left (t \\right )} \\otimes_{\\mathrm{s}} \\hat{\\ell}{\\left (t \\right )} \\right] \\right. \\nonumber \\\\&\\quad \\left. + \\left[ \\left(i\\right)\\, \\hat{\\lambda}{\\left (t \\right )} \\otimes_{\\mathrm{s}} \\hat{\\ell}{\\left (t \\right )} \\otimes_{\\mathrm{s}} \\hat{\\ell}{\\left (t \\right )} \\right] \\right\\} + \\frac{\\sqrt{21}}{8 \\sqrt{\\pi}} &\\left\\{ \\left[ \\hat{n}{\\left (t \\right )} \\otimes_{\\mathrm{s}} \\hat{n}{\\left (t \\right )} \\otimes_{\\mathrm{s}} \\hat{n}{\\left (t \\right )} \\right] \\right. \\nonumber \\\\&\\quad \\left. + \\left[ \\hat{n}{\\left (t \\right )} \\otimes_{\\mathrm{s}} \\hat{\\lambda}{\\left (t \\right )} \\otimes_{\\mathrm{s}} \\hat{\\lambda}{\\left (t \\right )} \\right] \\right. \\nonumber \\\\&\\quad \\left. + \\left[ \\hat{n}{\\left (t \\right )} \\otimes_{\\mathrm{s}} \\hat{\\ell}{\\left (t \\right )} \\otimes_{\\mathrm{s}} \\hat{\\ell}{\\left (t \\right )} \\right] \\right. \\nonumber \\\\&\\quad \\left. + \\left[ \\left(i\\right)\\, \\hat{\\lambda}{\\left (t \\right )} \\otimes_{\\mathrm{s}} \\hat{n}{\\left (t \\right )} \\otimes_{\\mathrm{s}} \\hat{n}{\\left (t \\right )} \\right] \\right. \\nonumber \\\\&\\quad \\left. + \\left[ \\left(i\\right)\\, \\hat{\\lambda}{\\left (t \\right )} \\otimes_{\\mathrm{s}} \\hat{\\lambda}{\\left (t \\right )} \\otimes_{\\mathrm{s}} \\hat{\\lambda}{\\left (t \\right )} \\right] \\right. \\nonumber \\\\&\\quad \\left. + \\left[ \\left(i\\right)\\, \\hat{\\lambda}{\\left (t \\right )} \\otimes_{\\mathrm{s}} \\hat{\\ell}{\\left (t \\right )} \\otimes_{\\mathrm{s}} \\hat{\\ell}{\\left (t \\right )} \\right] \\right\\}\\end{align*}$$"
       ],
       "metadata": {},
       "output_type": "display_data",
       "png": "[encoded data removed]",
       "text": [
        "      ____                       ____                  \n",
        "  5\u22c5\u2572\u2571 21 \u22c5TensorFunction(t)   \u2572\u2571 21 \u22c5TensorFunction(t)\n",
        "- \u2500\u2500\u2500\u2500\u2500\u2500\u2500\u2500\u2500\u2500\u2500\u2500\u2500\u2500\u2500\u2500\u2500\u2500\u2500\u2500\u2500\u2500\u2500\u2500\u2500\u2500 + \u2500\u2500\u2500\u2500\u2500\u2500\u2500\u2500\u2500\u2500\u2500\u2500\u2500\u2500\u2500\u2500\u2500\u2500\u2500\u2500\u2500\u2500\u2500\u2500\n",
        "               ___                         ___         \n",
        "           8\u22c5\u2572\u2571 \u03c0                      8\u22c5\u2572\u2571 \u03c0          "
       ]
      },
      {
       "output_type": "stream",
       "stream": "stdout",
       "text": [
        "(ell,m) = (3,2):\n",
        "Trying to compress\n",
        "Failed for some reason\n"
       ]
      },
      {
       "latex": [
        "$$\\begin{align*}\\frac{\\sqrt{210}}{8 \\sqrt{\\pi}} &\\left\\{ \\left[ \\hat{n}{\\left (t \\right )} \\otimes_{\\mathrm{s}} \\hat{n}{\\left (t \\right )} \\otimes_{\\mathrm{s}} \\hat{\\ell}{\\left (t \\right )} \\right] \\right. \\nonumber \\\\&\\quad \\left. + \\left[ \\left(i\\right)\\, \\hat{n}{\\left (t \\right )} \\otimes_{\\mathrm{s}} \\hat{\\lambda}{\\left (t \\right )} \\otimes_{\\mathrm{s}} \\hat{\\ell}{\\left (t \\right )} \\right] \\right. \\nonumber \\\\&\\quad \\left. + \\left[ \\left(i\\right)\\, \\hat{\\lambda}{\\left (t \\right )} \\otimes_{\\mathrm{s}} \\hat{n}{\\left (t \\right )} \\otimes_{\\mathrm{s}} \\hat{\\ell}{\\left (t \\right )} \\right] \\right. \\nonumber \\\\&\\quad \\left. + \\left[ \\left(-1\\right)\\, \\hat{\\lambda}{\\left (t \\right )} \\otimes_{\\mathrm{s}} \\hat{\\lambda}{\\left (t \\right )} \\otimes_{\\mathrm{s}} \\hat{\\ell}{\\left (t \\right )} \\right] \\right\\}\\end{align*}$$"
       ],
       "metadata": {},
       "output_type": "display_data",
       "png": "[encoded data removed]",
       "text": [
        "  _____                  \n",
        "\u2572\u2571 210 \u22c5TensorFunction(t)\n",
        "\u2500\u2500\u2500\u2500\u2500\u2500\u2500\u2500\u2500\u2500\u2500\u2500\u2500\u2500\u2500\u2500\u2500\u2500\u2500\u2500\u2500\u2500\u2500\u2500\u2500\n",
        "             ___         \n",
        "         8\u22c5\u2572\u2571 \u03c0          "
       ]
      },
      {
       "output_type": "stream",
       "stream": "stdout",
       "text": [
        "(ell,m) = (3,3):\n",
        "Trying to compress"
       ]
      },
      {
       "output_type": "stream",
       "stream": "stdout",
       "text": [
        "\n",
        "Failed for some reason\n"
       ]
      },
      {
       "latex": [
        "$$\\begin{align*}- \\frac{\\sqrt{35}}{8 \\sqrt{\\pi}} &\\left\\{ \\left[ \\hat{n}{\\left (t \\right )} \\otimes_{\\mathrm{s}} \\hat{n}{\\left (t \\right )} \\otimes_{\\mathrm{s}} \\hat{n}{\\left (t \\right )} \\right] \\right. \\nonumber \\\\&\\quad \\left. + \\left[ \\left(i\\right)\\, \\hat{n}{\\left (t \\right )} \\otimes_{\\mathrm{s}} \\hat{n}{\\left (t \\right )} \\otimes_{\\mathrm{s}} \\hat{\\lambda}{\\left (t \\right )} \\right] \\right. \\nonumber \\\\&\\quad \\left. + \\left[ \\left(i\\right)\\, \\hat{n}{\\left (t \\right )} \\otimes_{\\mathrm{s}} \\hat{\\lambda}{\\left (t \\right )} \\otimes_{\\mathrm{s}} \\hat{n}{\\left (t \\right )} \\right] \\right. \\nonumber \\\\&\\quad \\left. + \\left[ \\left(-1\\right)\\, \\hat{n}{\\left (t \\right )} \\otimes_{\\mathrm{s}} \\hat{\\lambda}{\\left (t \\right )} \\otimes_{\\mathrm{s}} \\hat{\\lambda}{\\left (t \\right )} \\right] \\right. \\nonumber \\\\&\\quad \\left. + \\left[ \\left(i\\right)\\, \\hat{\\lambda}{\\left (t \\right )} \\otimes_{\\mathrm{s}} \\hat{n}{\\left (t \\right )} \\otimes_{\\mathrm{s}} \\hat{n}{\\left (t \\right )} \\right] \\right. \\nonumber \\\\&\\quad \\left. + \\left[ \\left(-1\\right)\\, \\hat{\\lambda}{\\left (t \\right )} \\otimes_{\\mathrm{s}} \\hat{n}{\\left (t \\right )} \\otimes_{\\mathrm{s}} \\hat{\\lambda}{\\left (t \\right )} \\right] \\right. \\nonumber \\\\&\\quad \\left. + \\left[ \\left(-1\\right)\\, \\hat{\\lambda}{\\left (t \\right )} \\otimes_{\\mathrm{s}} \\hat{\\lambda}{\\left (t \\right )} \\otimes_{\\mathrm{s}} \\hat{n}{\\left (t \\right )} \\right] \\right. \\nonumber \\\\&\\quad \\left. + \\left[ \\left(- i\\right)\\, \\hat{\\lambda}{\\left (t \\right )} \\otimes_{\\mathrm{s}} \\hat{\\lambda}{\\left (t \\right )} \\otimes_{\\mathrm{s}} \\hat{\\lambda}{\\left (t \\right )} \\right] \\right\\}\\end{align*}$$"
       ],
       "metadata": {},
       "output_type": "display_data",
       "png": "[encoded data removed]",
       "text": [
        "   ____                   \n",
        "-\u2572\u2571 35 \u22c5TensorFunction(t) \n",
        "\u2500\u2500\u2500\u2500\u2500\u2500\u2500\u2500\u2500\u2500\u2500\u2500\u2500\u2500\u2500\u2500\u2500\u2500\u2500\u2500\u2500\u2500\u2500\u2500\u2500\u2500\n",
        "             ___          \n",
        "         8\u22c5\u2572\u2571 \u03c0           "
       ]
      },
      {
       "output_type": "stream",
       "stream": "stdout",
       "text": [
        "\n",
        "(ell,m) = (4,-4):\n",
        "Trying to compress"
       ]
      },
      {
       "output_type": "stream",
       "stream": "stdout",
       "text": [
        "\n",
        "Failed for some reason\n"
       ]
      },
      {
       "latex": [
        "$$\\begin{align*}\\frac{3 \\sqrt{70}}{32 \\sqrt{\\pi}} &\\left\\{ \\left[ \\hat{n}{\\left (t \\right )} \\otimes_{\\mathrm{s}} \\hat{n}{\\left (t \\right )} \\otimes_{\\mathrm{s}} \\hat{n}{\\left (t \\right )} \\otimes_{\\mathrm{s}} \\hat{n}{\\left (t \\right )} \\right] \\right. \\nonumber \\\\&\\quad \\left. + \\left[ \\left(- i\\right)\\, \\hat{n}{\\left (t \\right )} \\otimes_{\\mathrm{s}} \\hat{n}{\\left (t \\right )} \\otimes_{\\mathrm{s}} \\hat{n}{\\left (t \\right )} \\otimes_{\\mathrm{s}} \\hat{\\lambda}{\\left (t \\right )} \\right] \\right. \\nonumber \\\\&\\quad \\left. + \\left[ \\left(- i\\right)\\, \\hat{n}{\\left (t \\right )} \\otimes_{\\mathrm{s}} \\hat{n}{\\left (t \\right )} \\otimes_{\\mathrm{s}} \\hat{\\lambda}{\\left (t \\right )} \\otimes_{\\mathrm{s}} \\hat{n}{\\left (t \\right )} \\right] \\right. \\nonumber \\\\&\\quad \\left. + \\left[ \\left(-1\\right)\\, \\hat{n}{\\left (t \\right )} \\otimes_{\\mathrm{s}} \\hat{n}{\\left (t \\right )} \\otimes_{\\mathrm{s}} \\hat{\\lambda}{\\left (t \\right )} \\otimes_{\\mathrm{s}} \\hat{\\lambda}{\\left (t \\right )} \\right] \\right. \\nonumber \\\\&\\quad \\left. + \\left[ \\left(- i\\right)\\, \\hat{n}{\\left (t \\right )} \\otimes_{\\mathrm{s}} \\hat{\\lambda}{\\left (t \\right )} \\otimes_{\\mathrm{s}} \\hat{n}{\\left (t \\right )} \\otimes_{\\mathrm{s}} \\hat{n}{\\left (t \\right )} \\right] \\right. \\nonumber \\\\&\\quad \\left. + \\left[ \\left(-1\\right)\\, \\hat{n}{\\left (t \\right )} \\otimes_{\\mathrm{s}} \\hat{\\lambda}{\\left (t \\right )} \\otimes_{\\mathrm{s}} \\hat{n}{\\left (t \\right )} \\otimes_{\\mathrm{s}} \\hat{\\lambda}{\\left (t \\right )} \\right] \\right. \\nonumber \\\\&\\quad \\left. + \\left[ \\left(-1\\right)\\, \\hat{n}{\\left (t \\right )} \\otimes_{\\mathrm{s}} \\hat{\\lambda}{\\left (t \\right )} \\otimes_{\\mathrm{s}} \\hat{\\lambda}{\\left (t \\right )} \\otimes_{\\mathrm{s}} \\hat{n}{\\left (t \\right )} \\right] \\right. \\nonumber \\\\&\\quad \\left. + \\left[ \\left(i\\right)\\, \\hat{n}{\\left (t \\right )} \\otimes_{\\mathrm{s}} \\hat{\\lambda}{\\left (t \\right )} \\otimes_{\\mathrm{s}} \\hat{\\lambda}{\\left (t \\right )} \\otimes_{\\mathrm{s}} \\hat{\\lambda}{\\left (t \\right )} \\right] \\right. \\nonumber \\\\&\\quad \\left. + \\left[ \\left(- i\\right)\\, \\hat{\\lambda}{\\left (t \\right )} \\otimes_{\\mathrm{s}} \\hat{n}{\\left (t \\right )} \\otimes_{\\mathrm{s}} \\hat{n}{\\left (t \\right )} \\otimes_{\\mathrm{s}} \\hat{n}{\\left (t \\right )} \\right] \\right. \\nonumber \\\\&\\quad \\left. + \\left[ \\left(-1\\right)\\, \\hat{\\lambda}{\\left (t \\right )} \\otimes_{\\mathrm{s}} \\hat{n}{\\left (t \\right )} \\otimes_{\\mathrm{s}} \\hat{n}{\\left (t \\right )} \\otimes_{\\mathrm{s}} \\hat{\\lambda}{\\left (t \\right )} \\right] \\right. \\nonumber \\\\&\\quad \\left. + \\left[ \\left(-1\\right)\\, \\hat{\\lambda}{\\left (t \\right )} \\otimes_{\\mathrm{s}} \\hat{n}{\\left (t \\right )} \\otimes_{\\mathrm{s}} \\hat{\\lambda}{\\left (t \\right )} \\otimes_{\\mathrm{s}} \\hat{n}{\\left (t \\right )} \\right] \\right. \\nonumber \\\\&\\quad \\left. + \\left[ \\left(i\\right)\\, \\hat{\\lambda}{\\left (t \\right )} \\otimes_{\\mathrm{s}} \\hat{n}{\\left (t \\right )} \\otimes_{\\mathrm{s}} \\hat{\\lambda}{\\left (t \\right )} \\otimes_{\\mathrm{s}} \\hat{\\lambda}{\\left (t \\right )} \\right] \\right. \\nonumber \\\\&\\quad \\left. + \\left[ \\left(-1\\right)\\, \\hat{\\lambda}{\\left (t \\right )} \\otimes_{\\mathrm{s}} \\hat{\\lambda}{\\left (t \\right )} \\otimes_{\\mathrm{s}} \\hat{n}{\\left (t \\right )} \\otimes_{\\mathrm{s}} \\hat{n}{\\left (t \\right )} \\right] \\right. \\nonumber \\\\&\\quad \\left. + \\left[ \\left(i\\right)\\, \\hat{\\lambda}{\\left (t \\right )} \\otimes_{\\mathrm{s}} \\hat{\\lambda}{\\left (t \\right )} \\otimes_{\\mathrm{s}} \\hat{n}{\\left (t \\right )} \\otimes_{\\mathrm{s}} \\hat{\\lambda}{\\left (t \\right )} \\right] \\right. \\nonumber \\\\&\\quad \\left. + \\left[ \\left(i\\right)\\, \\hat{\\lambda}{\\left (t \\right )} \\otimes_{\\mathrm{s}} \\hat{\\lambda}{\\left (t \\right )} \\otimes_{\\mathrm{s}} \\hat{\\lambda}{\\left (t \\right )} \\otimes_{\\mathrm{s}} \\hat{n}{\\left (t \\right )} \\right] \\right. \\nonumber \\\\&\\quad \\left. + \\left[ \\hat{\\lambda}{\\left (t \\right )} \\otimes_{\\mathrm{s}} \\hat{\\lambda}{\\left (t \\right )} \\otimes_{\\mathrm{s}} \\hat{\\lambda}{\\left (t \\right )} \\otimes_{\\mathrm{s}} \\hat{\\lambda}{\\left (t \\right )} \\right] \\right\\}\\end{align*}$$"
       ],
       "metadata": {},
       "output_type": "display_data",
       "png": "[encoded data removed]",
       "text": [
        "    ____                  \n",
        "3\u22c5\u2572\u2571 70 \u22c5TensorFunction(t)\n",
        "\u2500\u2500\u2500\u2500\u2500\u2500\u2500\u2500\u2500\u2500\u2500\u2500\u2500\u2500\u2500\u2500\u2500\u2500\u2500\u2500\u2500\u2500\u2500\u2500\u2500\u2500\n",
        "              ___         \n",
        "         32\u22c5\u2572\u2571 \u03c0          "
       ]
      },
      {
       "output_type": "stream",
       "stream": "stdout",
       "text": [
        "(ell,m) = (4,-3):\n",
        "Trying to compress"
       ]
      },
      {
       "output_type": "stream",
       "stream": "stdout",
       "text": [
        "\n",
        "Failed for some reason\n"
       ]
      },
      {
       "latex": [
        "$$\\begin{align*}\\frac{3 \\sqrt{35}}{8 \\sqrt{\\pi}} &\\left\\{ \\left[ \\hat{n}{\\left (t \\right )} \\otimes_{\\mathrm{s}} \\hat{n}{\\left (t \\right )} \\otimes_{\\mathrm{s}} \\hat{n}{\\left (t \\right )} \\otimes_{\\mathrm{s}} \\hat{\\ell}{\\left (t \\right )} \\right] \\right. \\nonumber \\\\&\\quad \\left. + \\left[ \\left(- i\\right)\\, \\hat{n}{\\left (t \\right )} \\otimes_{\\mathrm{s}} \\hat{n}{\\left (t \\right )} \\otimes_{\\mathrm{s}} \\hat{\\lambda}{\\left (t \\right )} \\otimes_{\\mathrm{s}} \\hat{\\ell}{\\left (t \\right )} \\right] \\right. \\nonumber \\\\&\\quad \\left. + \\left[ \\left(- i\\right)\\, \\hat{n}{\\left (t \\right )} \\otimes_{\\mathrm{s}} \\hat{\\lambda}{\\left (t \\right )} \\otimes_{\\mathrm{s}} \\hat{n}{\\left (t \\right )} \\otimes_{\\mathrm{s}} \\hat{\\ell}{\\left (t \\right )} \\right] \\right. \\nonumber \\\\&\\quad \\left. + \\left[ \\left(-1\\right)\\, \\hat{n}{\\left (t \\right )} \\otimes_{\\mathrm{s}} \\hat{\\lambda}{\\left (t \\right )} \\otimes_{\\mathrm{s}} \\hat{\\lambda}{\\left (t \\right )} \\otimes_{\\mathrm{s}} \\hat{\\ell}{\\left (t \\right )} \\right] \\right. \\nonumber \\\\&\\quad \\left. + \\left[ \\left(- i\\right)\\, \\hat{\\lambda}{\\left (t \\right )} \\otimes_{\\mathrm{s}} \\hat{n}{\\left (t \\right )} \\otimes_{\\mathrm{s}} \\hat{n}{\\left (t \\right )} \\otimes_{\\mathrm{s}} \\hat{\\ell}{\\left (t \\right )} \\right] \\right. \\nonumber \\\\&\\quad \\left. + \\left[ \\left(-1\\right)\\, \\hat{\\lambda}{\\left (t \\right )} \\otimes_{\\mathrm{s}} \\hat{n}{\\left (t \\right )} \\otimes_{\\mathrm{s}} \\hat{\\lambda}{\\left (t \\right )} \\otimes_{\\mathrm{s}} \\hat{\\ell}{\\left (t \\right )} \\right] \\right. \\nonumber \\\\&\\quad \\left. + \\left[ \\left(-1\\right)\\, \\hat{\\lambda}{\\left (t \\right )} \\otimes_{\\mathrm{s}} \\hat{\\lambda}{\\left (t \\right )} \\otimes_{\\mathrm{s}} \\hat{n}{\\left (t \\right )} \\otimes_{\\mathrm{s}} \\hat{\\ell}{\\left (t \\right )} \\right] \\right. \\nonumber \\\\&\\quad \\left. + \\left[ \\left(i\\right)\\, \\hat{\\lambda}{\\left (t \\right )} \\otimes_{\\mathrm{s}} \\hat{\\lambda}{\\left (t \\right )} \\otimes_{\\mathrm{s}} \\hat{\\lambda}{\\left (t \\right )} \\otimes_{\\mathrm{s}} \\hat{\\ell}{\\left (t \\right )} \\right] \\right\\}\\end{align*}$$"
       ],
       "metadata": {},
       "output_type": "display_data",
       "png": "[encoded data removed]",
       "text": [
        "    ____                  \n",
        "3\u22c5\u2572\u2571 35 \u22c5TensorFunction(t)\n",
        "\u2500\u2500\u2500\u2500\u2500\u2500\u2500\u2500\u2500\u2500\u2500\u2500\u2500\u2500\u2500\u2500\u2500\u2500\u2500\u2500\u2500\u2500\u2500\u2500\u2500\u2500\n",
        "             ___          \n",
        "         8\u22c5\u2572\u2571 \u03c0           "
       ]
      },
      {
       "output_type": "stream",
       "stream": "stdout",
       "text": [
        "(ell,m) = (4,-2):\n",
        "Trying to compress"
       ]
      },
      {
       "output_type": "stream",
       "stream": "stdout",
       "text": [
        "\n",
        "Failed for some reason\n"
       ]
      },
      {
       "latex": [
        "$$\\begin{align*}\\frac{21 \\sqrt{10}}{16 \\sqrt{\\pi}} &\\left\\{ \\left[ \\hat{n}{\\left (t \\right )} \\otimes_{\\mathrm{s}} \\hat{n}{\\left (t \\right )} \\otimes_{\\mathrm{s}} \\hat{\\ell}{\\left (t \\right )} \\otimes_{\\mathrm{s}} \\hat{\\ell}{\\left (t \\right )} \\right] \\right. \\nonumber \\\\&\\quad \\left. + \\left[ \\left(- i\\right)\\, \\hat{n}{\\left (t \\right )} \\otimes_{\\mathrm{s}} \\hat{\\lambda}{\\left (t \\right )} \\otimes_{\\mathrm{s}} \\hat{\\ell}{\\left (t \\right )} \\otimes_{\\mathrm{s}} \\hat{\\ell}{\\left (t \\right )} \\right] \\right. \\nonumber \\\\&\\quad \\left. + \\left[ \\left(- i\\right)\\, \\hat{\\lambda}{\\left (t \\right )} \\otimes_{\\mathrm{s}} \\hat{n}{\\left (t \\right )} \\otimes_{\\mathrm{s}} \\hat{\\ell}{\\left (t \\right )} \\otimes_{\\mathrm{s}} \\hat{\\ell}{\\left (t \\right )} \\right] \\right. \\nonumber \\\\&\\quad \\left. + \\left[ \\left(-1\\right)\\, \\hat{\\lambda}{\\left (t \\right )} \\otimes_{\\mathrm{s}} \\hat{\\lambda}{\\left (t \\right )} \\otimes_{\\mathrm{s}} \\hat{\\ell}{\\left (t \\right )} \\otimes_{\\mathrm{s}} \\hat{\\ell}{\\left (t \\right )} \\right] \\right\\} - \\frac{3 \\sqrt{10}}{16 \\sqrt{\\pi}} &\\left\\{ \\left[ \\hat{n}{\\left (t \\right )} \\otimes_{\\mathrm{s}} \\hat{n}{\\left (t \\right )} \\otimes_{\\mathrm{s}} \\hat{n}{\\left (t \\right )} \\otimes_{\\mathrm{s}} \\hat{n}{\\left (t \\right )} \\right] \\right. \\nonumber \\\\&\\quad \\left. + \\left[ \\hat{n}{\\left (t \\right )} \\otimes_{\\mathrm{s}} \\hat{n}{\\left (t \\right )} \\otimes_{\\mathrm{s}} \\hat{\\lambda}{\\left (t \\right )} \\otimes_{\\mathrm{s}} \\hat{\\lambda}{\\left (t \\right )} \\right] \\right. \\nonumber \\\\&\\quad \\left. + \\left[ \\hat{n}{\\left (t \\right )} \\otimes_{\\mathrm{s}} \\hat{n}{\\left (t \\right )} \\otimes_{\\mathrm{s}} \\hat{\\ell}{\\left (t \\right )} \\otimes_{\\mathrm{s}} \\hat{\\ell}{\\left (t \\right )} \\right] \\right. \\nonumber \\\\&\\quad \\left. + \\left[ \\left(- i\\right)\\, \\hat{n}{\\left (t \\right )} \\otimes_{\\mathrm{s}} \\hat{\\lambda}{\\left (t \\right )} \\otimes_{\\mathrm{s}} \\hat{n}{\\left (t \\right )} \\otimes_{\\mathrm{s}} \\hat{n}{\\left (t \\right )} \\right] \\right. \\nonumber \\\\&\\quad \\left. + \\left[ \\left(- i\\right)\\, \\hat{n}{\\left (t \\right )} \\otimes_{\\mathrm{s}} \\hat{\\lambda}{\\left (t \\right )} \\otimes_{\\mathrm{s}} \\hat{\\lambda}{\\left (t \\right )} \\otimes_{\\mathrm{s}} \\hat{\\lambda}{\\left (t \\right )} \\right] \\right. \\nonumber \\\\&\\quad \\left. + \\left[ \\left(- i\\right)\\, \\hat{n}{\\left (t \\right )} \\otimes_{\\mathrm{s}} \\hat{\\lambda}{\\left (t \\right )} \\otimes_{\\mathrm{s}} \\hat{\\ell}{\\left (t \\right )} \\otimes_{\\mathrm{s}} \\hat{\\ell}{\\left (t \\right )} \\right] \\right. \\nonumber \\\\&\\quad \\left. + \\left[ \\left(- i\\right)\\, \\hat{\\lambda}{\\left (t \\right )} \\otimes_{\\mathrm{s}} \\hat{n}{\\left (t \\right )} \\otimes_{\\mathrm{s}} \\hat{n}{\\left (t \\right )} \\otimes_{\\mathrm{s}} \\hat{n}{\\left (t \\right )} \\right] \\right. \\nonumber \\\\&\\quad \\left. + \\left[ \\left(- i\\right)\\, \\hat{\\lambda}{\\left (t \\right )} \\otimes_{\\mathrm{s}} \\hat{n}{\\left (t \\right )} \\otimes_{\\mathrm{s}} \\hat{\\lambda}{\\left (t \\right )} \\otimes_{\\mathrm{s}} \\hat{\\lambda}{\\left (t \\right )} \\right] \\right. \\nonumber \\\\&\\quad \\left. + \\left[ \\left(- i\\right)\\, \\hat{\\lambda}{\\left (t \\right )} \\otimes_{\\mathrm{s}} \\hat{n}{\\left (t \\right )} \\otimes_{\\mathrm{s}} \\hat{\\ell}{\\left (t \\right )} \\otimes_{\\mathrm{s}} \\hat{\\ell}{\\left (t \\right )} \\right] \\right. \\nonumber \\\\&\\quad \\left. + \\left[ \\left(-1\\right)\\, \\hat{\\lambda}{\\left (t \\right )} \\otimes_{\\mathrm{s}} \\hat{\\lambda}{\\left (t \\right )} \\otimes_{\\mathrm{s}} \\hat{n}{\\left (t \\right )} \\otimes_{\\mathrm{s}} \\hat{n}{\\left (t \\right )} \\right] \\right. \\nonumber \\\\&\\quad \\left. + \\left[ \\left(-1\\right)\\, \\hat{\\lambda}{\\left (t \\right )} \\otimes_{\\mathrm{s}} \\hat{\\lambda}{\\left (t \\right )} \\otimes_{\\mathrm{s}} \\hat{\\lambda}{\\left (t \\right )} \\otimes_{\\mathrm{s}} \\hat{\\lambda}{\\left (t \\right )} \\right] \\right. \\nonumber \\\\&\\quad \\left. + \\left[ \\left(-1\\right)\\, \\hat{\\lambda}{\\left (t \\right )} \\otimes_{\\mathrm{s}} \\hat{\\lambda}{\\left (t \\right )} \\otimes_{\\mathrm{s}} \\hat{\\ell}{\\left (t \\right )} \\otimes_{\\mathrm{s}} \\hat{\\ell}{\\left (t \\right )} \\right] \\right\\}\\end{align*}$$"
       ],
       "metadata": {},
       "output_type": "display_data",
       "png": "[encoded data removed]",
       "text": [
        "     ____                         ____                  \n",
        "21\u22c5\u2572\u2571 10 \u22c5TensorFunction(t)   3\u22c5\u2572\u2571 10 \u22c5TensorFunction(t)\n",
        "\u2500\u2500\u2500\u2500\u2500\u2500\u2500\u2500\u2500\u2500\u2500\u2500\u2500\u2500\u2500\u2500\u2500\u2500\u2500\u2500\u2500\u2500\u2500\u2500\u2500\u2500\u2500 - \u2500\u2500\u2500\u2500\u2500\u2500\u2500\u2500\u2500\u2500\u2500\u2500\u2500\u2500\u2500\u2500\u2500\u2500\u2500\u2500\u2500\u2500\u2500\u2500\u2500\u2500\n",
        "               ___                          ___         \n",
        "          16\u22c5\u2572\u2571 \u03c0                      16\u22c5\u2572\u2571 \u03c0          "
       ]
      },
      {
       "output_type": "stream",
       "stream": "stdout",
       "text": [
        "(ell,m) = (4,-1):\n",
        "Trying to compress"
       ]
      },
      {
       "output_type": "stream",
       "stream": "stdout",
       "text": [
        "\n",
        "Failed for some reason\n"
       ]
      },
      {
       "latex": [
        "$$\\begin{align*}- \\frac{9 \\sqrt{5}}{8 \\sqrt{\\pi}} &\\left\\{ \\left[ \\hat{n}{\\left (t \\right )} \\otimes_{\\mathrm{s}} \\hat{\\ell}{\\left (t \\right )} \\otimes_{\\mathrm{s}} \\hat{n}{\\left (t \\right )} \\otimes_{\\mathrm{s}} \\hat{n}{\\left (t \\right )} \\right] \\right. \\nonumber \\\\&\\quad \\left. + \\left[ \\hat{n}{\\left (t \\right )} \\otimes_{\\mathrm{s}} \\hat{\\ell}{\\left (t \\right )} \\otimes_{\\mathrm{s}} \\hat{\\lambda}{\\left (t \\right )} \\otimes_{\\mathrm{s}} \\hat{\\lambda}{\\left (t \\right )} \\right] \\right. \\nonumber \\\\&\\quad \\left. + \\left[ \\hat{n}{\\left (t \\right )} \\otimes_{\\mathrm{s}} \\hat{\\ell}{\\left (t \\right )} \\otimes_{\\mathrm{s}} \\hat{\\ell}{\\left (t \\right )} \\otimes_{\\mathrm{s}} \\hat{\\ell}{\\left (t \\right )} \\right] \\right. \\nonumber \\\\&\\quad \\left. + \\left[ \\left(- i\\right)\\, \\hat{\\lambda}{\\left (t \\right )} \\otimes_{\\mathrm{s}} \\hat{\\ell}{\\left (t \\right )} \\otimes_{\\mathrm{s}} \\hat{n}{\\left (t \\right )} \\otimes_{\\mathrm{s}} \\hat{n}{\\left (t \\right )} \\right] \\right. \\nonumber \\\\&\\quad \\left. + \\left[ \\left(- i\\right)\\, \\hat{\\lambda}{\\left (t \\right )} \\otimes_{\\mathrm{s}} \\hat{\\ell}{\\left (t \\right )} \\otimes_{\\mathrm{s}} \\hat{\\lambda}{\\left (t \\right )} \\otimes_{\\mathrm{s}} \\hat{\\lambda}{\\left (t \\right )} \\right] \\right. \\nonumber \\\\&\\quad \\left. + \\left[ \\left(- i\\right)\\, \\hat{\\lambda}{\\left (t \\right )} \\otimes_{\\mathrm{s}} \\hat{\\ell}{\\left (t \\right )} \\otimes_{\\mathrm{s}} \\hat{\\ell}{\\left (t \\right )} \\otimes_{\\mathrm{s}} \\hat{\\ell}{\\left (t \\right )} \\right] \\right\\} + \\frac{21 \\sqrt{5}}{8 \\sqrt{\\pi}} &\\left\\{ \\left[ \\hat{n}{\\left (t \\right )} \\otimes_{\\mathrm{s}} \\hat{\\ell}{\\left (t \\right )} \\otimes_{\\mathrm{s}} \\hat{\\ell}{\\left (t \\right )} \\otimes_{\\mathrm{s}} \\hat{\\ell}{\\left (t \\right )} \\right] \\right. \\nonumber \\\\&\\quad \\left. + \\left[ \\left(- i\\right)\\, \\hat{\\lambda}{\\left (t \\right )} \\otimes_{\\mathrm{s}} \\hat{\\ell}{\\left (t \\right )} \\otimes_{\\mathrm{s}} \\hat{\\ell}{\\left (t \\right )} \\otimes_{\\mathrm{s}} \\hat{\\ell}{\\left (t \\right )} \\right] \\right\\}\\end{align*}$$"
       ],
       "metadata": {},
       "output_type": "display_data",
       "png": "[encoded data removed]",
       "text": [
        "      ___                          ___                  \n",
        "  9\u22c5\u2572\u2571 5 \u22c5TensorFunction(t)   21\u22c5\u2572\u2571 5 \u22c5TensorFunction(t)\n",
        "- \u2500\u2500\u2500\u2500\u2500\u2500\u2500\u2500\u2500\u2500\u2500\u2500\u2500\u2500\u2500\u2500\u2500\u2500\u2500\u2500\u2500\u2500\u2500\u2500\u2500 + \u2500\u2500\u2500\u2500\u2500\u2500\u2500\u2500\u2500\u2500\u2500\u2500\u2500\u2500\u2500\u2500\u2500\u2500\u2500\u2500\u2500\u2500\u2500\u2500\u2500\u2500\n",
        "               ___                         ___          \n",
        "           8\u22c5\u2572\u2571 \u03c0                      8\u22c5\u2572\u2571 \u03c0           "
       ]
      },
      {
       "output_type": "stream",
       "stream": "stdout",
       "text": [
        "(ell,m) = (4,0):\n",
        "Trying to compress"
       ]
      },
      {
       "output_type": "stream",
       "stream": "stdout",
       "text": [
        "\n",
        "Failed for some reason\n"
       ]
      },
      {
       "latex": [
        "$$\\begin{equation*}- \\frac{45}{8 \\sqrt{\\pi}} &\\left\\{ \\left[ \\hat{\\ell}{\\left (t \\right )} \\otimes_{\\mathrm{s}} \\hat{\\ell}{\\left (t \\right )} \\otimes_{\\mathrm{s}} \\hat{n}{\\left (t \\right )} \\otimes_{\\mathrm{s}} \\hat{n}{\\left (t \\right )} \\right] \\right. \\nonumber \\\\&\\quad \\left. + \\left[ \\hat{\\ell}{\\left (t \\right )} \\otimes_{\\mathrm{s}} \\hat{\\ell}{\\left (t \\right )} \\otimes_{\\mathrm{s}} \\hat{\\lambda}{\\left (t \\right )} \\otimes_{\\mathrm{s}} \\hat{\\lambda}{\\left (t \\right )} \\right] \\right. \\nonumber \\\\&\\quad \\left. + \\left[ \\hat{\\ell}{\\left (t \\right )} \\otimes_{\\mathrm{s}} \\hat{\\ell}{\\left (t \\right )} \\otimes_{\\mathrm{s}} \\hat{\\ell}{\\left (t \\right )} \\otimes_{\\mathrm{s}} \\hat{\\ell}{\\left (t \\right )} \\right] \\right\\} + \\frac{9}{16 \\sqrt{\\pi}} &\\left\\{ \\left[ \\hat{n}{\\left (t \\right )} \\otimes_{\\mathrm{s}} \\hat{n}{\\left (t \\right )} \\otimes_{\\mathrm{s}} \\hat{n}{\\left (t \\right )} \\otimes_{\\mathrm{s}} \\hat{n}{\\left (t \\right )} \\right] \\right. \\nonumber \\\\&\\quad \\left. + \\left[ \\hat{n}{\\left (t \\right )} \\otimes_{\\mathrm{s}} \\hat{n}{\\left (t \\right )} \\otimes_{\\mathrm{s}} \\hat{\\lambda}{\\left (t \\right )} \\otimes_{\\mathrm{s}} \\hat{\\lambda}{\\left (t \\right )} \\right] \\right. \\nonumber \\\\&\\quad \\left. + \\left[ \\hat{n}{\\left (t \\right )} \\otimes_{\\mathrm{s}} \\hat{n}{\\left (t \\right )} \\otimes_{\\mathrm{s}} \\hat{\\ell}{\\left (t \\right )} \\otimes_{\\mathrm{s}} \\hat{\\ell}{\\left (t \\right )} \\right] \\right. \\nonumber \\\\&\\quad \\left. + \\left[ \\hat{\\lambda}{\\left (t \\right )} \\otimes_{\\mathrm{s}} \\hat{\\lambda}{\\left (t \\right )} \\otimes_{\\mathrm{s}} \\hat{n}{\\left (t \\right )} \\otimes_{\\mathrm{s}} \\hat{n}{\\left (t \\right )} \\right] \\right. \\nonumber \\\\&\\quad \\left. + \\left[ \\hat{\\lambda}{\\left (t \\right )} \\otimes_{\\mathrm{s}} \\hat{\\lambda}{\\left (t \\right )} \\otimes_{\\mathrm{s}} \\hat{\\lambda}{\\left (t \\right )} \\otimes_{\\mathrm{s}} \\hat{\\lambda}{\\left (t \\right )} \\right] \\right. \\nonumber \\\\&\\quad \\left. + \\left[ \\hat{\\lambda}{\\left (t \\right )} \\otimes_{\\mathrm{s}} \\hat{\\lambda}{\\left (t \\right )} \\otimes_{\\mathrm{s}} \\hat{\\ell}{\\left (t \\right )} \\otimes_{\\mathrm{s}} \\hat{\\ell}{\\left (t \\right )} \\right] \\right. \\nonumber \\\\&\\quad \\left. + \\left[ \\hat{\\ell}{\\left (t \\right )} \\otimes_{\\mathrm{s}} \\hat{\\ell}{\\left (t \\right )} \\otimes_{\\mathrm{s}} \\hat{n}{\\left (t \\right )} \\otimes_{\\mathrm{s}} \\hat{n}{\\left (t \\right )} \\right] \\right. \\nonumber \\\\&\\quad \\left. + \\left[ \\hat{\\ell}{\\left (t \\right )} \\otimes_{\\mathrm{s}} \\hat{\\ell}{\\left (t \\right )} \\otimes_{\\mathrm{s}} \\hat{\\lambda}{\\left (t \\right )} \\otimes_{\\mathrm{s}} \\hat{\\lambda}{\\left (t \\right )} \\right] \\right. \\nonumber \\\\&\\quad \\left. + \\left[ \\hat{\\ell}{\\left (t \\right )} \\otimes_{\\mathrm{s}} \\hat{\\ell}{\\left (t \\right )} \\otimes_{\\mathrm{s}} \\hat{\\ell}{\\left (t \\right )} \\otimes_{\\mathrm{s}} \\hat{\\ell}{\\left (t \\right )} \\right] \\right\\} + \\frac{105}{16 \\sqrt{\\pi}} \\left[ \\hat{\\ell}{\\left (t \\right )} \\otimes_{\\mathrm{s}} \\hat{\\ell}{\\left (t \\right )} \\otimes_{\\mathrm{s}} \\hat{\\ell}{\\left (t \\right )} \\otimes_{\\mathrm{s}} \\hat{\\ell}{\\left (t \\right )} \\right]\\end{equation*}$$"
       ],
       "metadata": {},
       "output_type": "display_data",
       "png": "[encoded data removed]",
       "text": [
        "  45\u22c5TensorFunction(t)   9\u22c5TensorFunction(t)   105\u22c5TensorProductFunction(t)\n",
        "- \u2500\u2500\u2500\u2500\u2500\u2500\u2500\u2500\u2500\u2500\u2500\u2500\u2500\u2500\u2500\u2500\u2500\u2500\u2500\u2500 + \u2500\u2500\u2500\u2500\u2500\u2500\u2500\u2500\u2500\u2500\u2500\u2500\u2500\u2500\u2500\u2500\u2500\u2500\u2500 + \u2500\u2500\u2500\u2500\u2500\u2500\u2500\u2500\u2500\u2500\u2500\u2500\u2500\u2500\u2500\u2500\u2500\u2500\u2500\u2500\u2500\u2500\u2500\u2500\u2500\u2500\u2500\u2500\n",
        "            ___                     ___                       ___          \n",
        "        8\u22c5\u2572\u2571 \u03c0                 16\u22c5\u2572\u2571 \u03c0                   16\u22c5\u2572\u2571 \u03c0           "
       ]
      },
      {
       "output_type": "stream",
       "stream": "stdout",
       "text": [
        "(ell,m) = (4,1):\n",
        "Trying to compress\n",
        "Failed for some reason\n"
       ]
      },
      {
       "ename": "KeyboardInterrupt",
       "evalue": "",
       "output_type": "pyerr",
       "traceback": [
        "\u001b[0;31m---------------------------------------------------------------------------\u001b[0m\n\u001b[0;31mKeyboardInterrupt\u001b[0m                         Traceback (most recent call last)",
        "\u001b[0;32m<ipython-input-4-3f9d3b073d2d>\u001b[0m in \u001b[0;36m<module>\u001b[0;34m()\u001b[0m\n\u001b[1;32m      3\u001b[0m     \u001b[0;32mfor\u001b[0m \u001b[0mm\u001b[0m \u001b[0;32min\u001b[0m \u001b[0mrange\u001b[0m\u001b[0;34m(\u001b[0m\u001b[0;34m-\u001b[0m\u001b[0mell\u001b[0m\u001b[0;34m,\u001b[0m \u001b[0mell\u001b[0m\u001b[0;34m+\u001b[0m\u001b[0;36m1\u001b[0m\u001b[0;34m)\u001b[0m\u001b[0;34m:\u001b[0m\u001b[0;34m\u001b[0m\u001b[0m\n\u001b[1;32m      4\u001b[0m         \u001b[0;32mprint\u001b[0m\u001b[0;34m(\u001b[0m\u001b[0;34m'(ell,m) = ({0},{1}):'\u001b[0m\u001b[0;34m.\u001b[0m\u001b[0mformat\u001b[0m\u001b[0;34m(\u001b[0m\u001b[0mell\u001b[0m\u001b[0;34m,\u001b[0m\u001b[0mm\u001b[0m\u001b[0;34m)\u001b[0m\u001b[0;34m)\u001b[0m\u001b[0;34m\u001b[0m\u001b[0m\n\u001b[0;32m----> 5\u001b[0;31m         \u001b[0mdisplay\u001b[0m\u001b[0;34m(\u001b[0m \u001b[0mYlmTensor\u001b[0m\u001b[0;34m(\u001b[0m\u001b[0mell\u001b[0m\u001b[0;34m,\u001b[0m\u001b[0mm\u001b[0m\u001b[0;34m)\u001b[0m \u001b[0;34m)\u001b[0m\u001b[0;34m\u001b[0m\u001b[0m\n\u001b[0m",
        "\u001b[0;32m/Users/boyle/.virtualenv/py2/lib/python2.7/site-packages/IPython/core/display.pyc\u001b[0m in \u001b[0;36mdisplay\u001b[0;34m(*objs, **kwargs)\u001b[0m\n\u001b[1;32m    129\u001b[0m             \u001b[0mpublish_display_data\u001b[0m\u001b[0;34m(\u001b[0m\u001b[0;34m'display'\u001b[0m\u001b[0;34m,\u001b[0m \u001b[0mobj\u001b[0m\u001b[0;34m,\u001b[0m \u001b[0mmetadata\u001b[0m\u001b[0;34m)\u001b[0m\u001b[0;34m\u001b[0m\u001b[0m\n\u001b[1;32m    130\u001b[0m         \u001b[0;32melse\u001b[0m\u001b[0;34m:\u001b[0m\u001b[0;34m\u001b[0m\u001b[0m\n\u001b[0;32m--> 131\u001b[0;31m             \u001b[0mformat_dict\u001b[0m\u001b[0;34m,\u001b[0m \u001b[0mmd_dict\u001b[0m \u001b[0;34m=\u001b[0m \u001b[0mformat\u001b[0m\u001b[0;34m(\u001b[0m\u001b[0mobj\u001b[0m\u001b[0;34m,\u001b[0m \u001b[0minclude\u001b[0m\u001b[0;34m=\u001b[0m\u001b[0minclude\u001b[0m\u001b[0;34m,\u001b[0m \u001b[0mexclude\u001b[0m\u001b[0;34m=\u001b[0m\u001b[0mexclude\u001b[0m\u001b[0;34m)\u001b[0m\u001b[0;34m\u001b[0m\u001b[0m\n\u001b[0m\u001b[1;32m    132\u001b[0m             \u001b[0;32mif\u001b[0m \u001b[0mmetadata\u001b[0m\u001b[0;34m:\u001b[0m\u001b[0;34m\u001b[0m\u001b[0m\n\u001b[1;32m    133\u001b[0m                 \u001b[0;31m# kwarg-specified metadata gets precedence\u001b[0m\u001b[0;34m\u001b[0m\u001b[0;34m\u001b[0m\u001b[0m\n",
        "\u001b[0;32m/Users/boyle/.virtualenv/py2/lib/python2.7/site-packages/IPython/core/formatters.pyc\u001b[0m in \u001b[0;36mformat\u001b[0;34m(self, obj, include, exclude)\u001b[0m\n\u001b[1;32m    198\u001b[0m             \u001b[0mmd\u001b[0m \u001b[0;34m=\u001b[0m \u001b[0mNone\u001b[0m\u001b[0;34m\u001b[0m\u001b[0m\n\u001b[1;32m    199\u001b[0m             \u001b[0;32mtry\u001b[0m\u001b[0;34m:\u001b[0m\u001b[0;34m\u001b[0m\u001b[0m\n\u001b[0;32m--> 200\u001b[0;31m                 \u001b[0mdata\u001b[0m \u001b[0;34m=\u001b[0m \u001b[0mformatter\u001b[0m\u001b[0;34m(\u001b[0m\u001b[0mobj\u001b[0m\u001b[0;34m)\u001b[0m\u001b[0;34m\u001b[0m\u001b[0m\n\u001b[0m\u001b[1;32m    201\u001b[0m             \u001b[0;32mexcept\u001b[0m\u001b[0;34m:\u001b[0m\u001b[0;34m\u001b[0m\u001b[0m\n\u001b[1;32m    202\u001b[0m                 \u001b[0;31m# FIXME: log the exception\u001b[0m\u001b[0;34m\u001b[0m\u001b[0;34m\u001b[0m\u001b[0m\n",
        "\u001b[0;32m/Users/boyle/.virtualenv/py2/lib/python2.7/site-packages/IPython/core/formatters.pyc\u001b[0m in \u001b[0;36m__call__\u001b[0;34m(self, obj)\u001b[0m\n",
        "\u001b[0;32m/Users/boyle/.virtualenv/py2/lib/python2.7/site-packages/IPython/core/formatters.pyc\u001b[0m in \u001b[0;36mwarn_format_error\u001b[0;34m(method, self, *args, **kwargs)\u001b[0m\n\u001b[1;32m    231\u001b[0m     \u001b[0;34m\"\"\"decorator for warning on failed format call\"\"\"\u001b[0m\u001b[0;34m\u001b[0m\u001b[0m\n\u001b[1;32m    232\u001b[0m     \u001b[0;32mtry\u001b[0m\u001b[0;34m:\u001b[0m\u001b[0;34m\u001b[0m\u001b[0m\n\u001b[0;32m--> 233\u001b[0;31m         \u001b[0mr\u001b[0m \u001b[0;34m=\u001b[0m \u001b[0mmethod\u001b[0m\u001b[0;34m(\u001b[0m\u001b[0mself\u001b[0m\u001b[0;34m,\u001b[0m \u001b[0;34m*\u001b[0m\u001b[0margs\u001b[0m\u001b[0;34m,\u001b[0m \u001b[0;34m**\u001b[0m\u001b[0mkwargs\u001b[0m\u001b[0;34m)\u001b[0m\u001b[0;34m\u001b[0m\u001b[0m\n\u001b[0m\u001b[1;32m    234\u001b[0m     \u001b[0;32mexcept\u001b[0m \u001b[0mNotImplementedError\u001b[0m \u001b[0;32mas\u001b[0m \u001b[0me\u001b[0m\u001b[0;34m:\u001b[0m\u001b[0;34m\u001b[0m\u001b[0m\n\u001b[1;32m    235\u001b[0m         \u001b[0;31m# don't warn on NotImplementedErrors\u001b[0m\u001b[0;34m\u001b[0m\u001b[0;34m\u001b[0m\u001b[0m\n",
        "\u001b[0;32m/Users/boyle/.virtualenv/py2/lib/python2.7/site-packages/IPython/core/formatters.pyc\u001b[0m in \u001b[0;36m__call__\u001b[0;34m(self, obj)\u001b[0m\n\u001b[1;32m    348\u001b[0m                 \u001b[0;32mpass\u001b[0m\u001b[0;34m\u001b[0m\u001b[0m\n\u001b[1;32m    349\u001b[0m             \u001b[0;32melse\u001b[0m\u001b[0;34m:\u001b[0m\u001b[0;34m\u001b[0m\u001b[0m\n\u001b[0;32m--> 350\u001b[0;31m                 \u001b[0;32mreturn\u001b[0m \u001b[0mprinter\u001b[0m\u001b[0;34m(\u001b[0m\u001b[0mobj\u001b[0m\u001b[0;34m)\u001b[0m\u001b[0;34m\u001b[0m\u001b[0m\n\u001b[0m\u001b[1;32m    351\u001b[0m             \u001b[0;31m# Finally look for special method names\u001b[0m\u001b[0;34m\u001b[0m\u001b[0;34m\u001b[0m\u001b[0m\n\u001b[1;32m    352\u001b[0m             \u001b[0mmethod\u001b[0m \u001b[0;34m=\u001b[0m \u001b[0m_safe_get_formatter_method\u001b[0m\u001b[0;34m(\u001b[0m\u001b[0mobj\u001b[0m\u001b[0;34m,\u001b[0m \u001b[0mself\u001b[0m\u001b[0;34m.\u001b[0m\u001b[0mprint_method\u001b[0m\u001b[0;34m)\u001b[0m\u001b[0;34m\u001b[0m\u001b[0m\n",
        "\u001b[0;32m/Users/boyle/.virtualenv/py2/lib/python2.7/site-packages/sympy/interactive/printing.pyc\u001b[0m in \u001b[0;36m_print_latex_png\u001b[0;34m(o)\u001b[0m\n\u001b[1;32m    119\u001b[0m             \u001b[0ms\u001b[0m \u001b[0;34m=\u001b[0m \u001b[0mlatex\u001b[0m\u001b[0;34m(\u001b[0m\u001b[0mo\u001b[0m\u001b[0;34m,\u001b[0m \u001b[0mmode\u001b[0m\u001b[0;34m=\u001b[0m\u001b[0mlatex_mode\u001b[0m\u001b[0;34m)\u001b[0m\u001b[0;34m\u001b[0m\u001b[0m\n\u001b[1;32m    120\u001b[0m             \u001b[0;32mtry\u001b[0m\u001b[0;34m:\u001b[0m\u001b[0;34m\u001b[0m\u001b[0m\n\u001b[0;32m--> 121\u001b[0;31m                 \u001b[0;32mreturn\u001b[0m \u001b[0m_preview_wrapper\u001b[0m\u001b[0;34m(\u001b[0m\u001b[0ms\u001b[0m\u001b[0;34m)\u001b[0m\u001b[0;34m\u001b[0m\u001b[0m\n\u001b[0m\u001b[1;32m    122\u001b[0m             \u001b[0;32mexcept\u001b[0m \u001b[0mRuntimeError\u001b[0m\u001b[0;34m:\u001b[0m\u001b[0;34m\u001b[0m\u001b[0m\n\u001b[1;32m    123\u001b[0m                 \u001b[0;32mif\u001b[0m \u001b[0mlatex_mode\u001b[0m \u001b[0;34m!=\u001b[0m \u001b[0;34m'inline'\u001b[0m\u001b[0;34m:\u001b[0m\u001b[0;34m\u001b[0m\u001b[0m\n",
        "\u001b[0;32m/Users/boyle/.virtualenv/py2/lib/python2.7/site-packages/sympy/interactive/printing.pyc\u001b[0m in \u001b[0;36m_preview_wrapper\u001b[0;34m(o)\u001b[0m\n\u001b[1;32m     73\u001b[0m             preview(o, output='png', viewer='BytesIO',\n\u001b[1;32m     74\u001b[0m                     \u001b[0moutputbuffer\u001b[0m\u001b[0;34m=\u001b[0m\u001b[0mexprbuffer\u001b[0m\u001b[0;34m,\u001b[0m \u001b[0mpreamble\u001b[0m\u001b[0;34m=\u001b[0m\u001b[0mpreamble\u001b[0m\u001b[0;34m,\u001b[0m\u001b[0;34m\u001b[0m\u001b[0m\n\u001b[0;32m---> 75\u001b[0;31m                     dvioptions=dvioptions)\n\u001b[0m\u001b[1;32m     76\u001b[0m         \u001b[0;32mexcept\u001b[0m \u001b[0mException\u001b[0m \u001b[0;32mas\u001b[0m \u001b[0me\u001b[0m\u001b[0;34m:\u001b[0m\u001b[0;34m\u001b[0m\u001b[0m\n\u001b[1;32m     77\u001b[0m             \u001b[0;31m# IPython swallows exceptions\u001b[0m\u001b[0;34m\u001b[0m\u001b[0;34m\u001b[0m\u001b[0m\n",
        "\u001b[0;32m/Users/boyle/.virtualenv/py2/lib/python2.7/site-packages/sympy/printing/preview.pyc\u001b[0m in \u001b[0;36mpreview\u001b[0;34m(expr, output, viewer, euler, packages, filename, outputbuffer, preamble, dvioptions, outputTexFile, **latex_settings)\u001b[0m\n\u001b[1;32m    227\u001b[0m \u001b[0;34m\u001b[0m\u001b[0m\n\u001b[1;32m    228\u001b[0m             \u001b[0;32mtry\u001b[0m\u001b[0;34m:\u001b[0m\u001b[0;34m\u001b[0m\u001b[0m\n\u001b[0;32m--> 229\u001b[0;31m                 \u001b[0mcheck_output\u001b[0m\u001b[0;34m(\u001b[0m\u001b[0mcmd\u001b[0m\u001b[0;34m,\u001b[0m \u001b[0mcwd\u001b[0m\u001b[0;34m=\u001b[0m\u001b[0mworkdir\u001b[0m\u001b[0;34m,\u001b[0m \u001b[0mstderr\u001b[0m\u001b[0;34m=\u001b[0m\u001b[0mSTDOUT\u001b[0m\u001b[0;34m)\u001b[0m\u001b[0;34m\u001b[0m\u001b[0m\n\u001b[0m\u001b[1;32m    230\u001b[0m             \u001b[0;32mexcept\u001b[0m \u001b[0mCalledProcessError\u001b[0m \u001b[0;32mas\u001b[0m \u001b[0me\u001b[0m\u001b[0;34m:\u001b[0m\u001b[0;34m\u001b[0m\u001b[0m\n\u001b[1;32m    231\u001b[0m                 raise RuntimeError(\n",
        "\u001b[0;32m/usr/local/Cellar/python/2.7.6/Frameworks/Python.framework/Versions/2.7/lib/python2.7/subprocess.pyc\u001b[0m in \u001b[0;36mcheck_output\u001b[0;34m(*popenargs, **kwargs)\u001b[0m\n\u001b[1;32m    565\u001b[0m         \u001b[0;32mraise\u001b[0m \u001b[0mValueError\u001b[0m\u001b[0;34m(\u001b[0m\u001b[0;34m'stdout argument not allowed, it will be overridden.'\u001b[0m\u001b[0;34m)\u001b[0m\u001b[0;34m\u001b[0m\u001b[0m\n\u001b[1;32m    566\u001b[0m     \u001b[0mprocess\u001b[0m \u001b[0;34m=\u001b[0m \u001b[0mPopen\u001b[0m\u001b[0;34m(\u001b[0m\u001b[0mstdout\u001b[0m\u001b[0;34m=\u001b[0m\u001b[0mPIPE\u001b[0m\u001b[0;34m,\u001b[0m \u001b[0;34m*\u001b[0m\u001b[0mpopenargs\u001b[0m\u001b[0;34m,\u001b[0m \u001b[0;34m**\u001b[0m\u001b[0mkwargs\u001b[0m\u001b[0;34m)\u001b[0m\u001b[0;34m\u001b[0m\u001b[0m\n\u001b[0;32m--> 567\u001b[0;31m     \u001b[0moutput\u001b[0m\u001b[0;34m,\u001b[0m \u001b[0munused_err\u001b[0m \u001b[0;34m=\u001b[0m \u001b[0mprocess\u001b[0m\u001b[0;34m.\u001b[0m\u001b[0mcommunicate\u001b[0m\u001b[0;34m(\u001b[0m\u001b[0;34m)\u001b[0m\u001b[0;34m\u001b[0m\u001b[0m\n\u001b[0m\u001b[1;32m    568\u001b[0m     \u001b[0mretcode\u001b[0m \u001b[0;34m=\u001b[0m \u001b[0mprocess\u001b[0m\u001b[0;34m.\u001b[0m\u001b[0mpoll\u001b[0m\u001b[0;34m(\u001b[0m\u001b[0;34m)\u001b[0m\u001b[0;34m\u001b[0m\u001b[0m\n\u001b[1;32m    569\u001b[0m     \u001b[0;32mif\u001b[0m \u001b[0mretcode\u001b[0m\u001b[0;34m:\u001b[0m\u001b[0;34m\u001b[0m\u001b[0m\n",
        "\u001b[0;32m/usr/local/Cellar/python/2.7.6/Frameworks/Python.framework/Versions/2.7/lib/python2.7/subprocess.pyc\u001b[0m in \u001b[0;36mcommunicate\u001b[0;34m(self, input)\u001b[0m\n\u001b[1;32m    788\u001b[0m                 \u001b[0mself\u001b[0m\u001b[0;34m.\u001b[0m\u001b[0mstdin\u001b[0m\u001b[0;34m.\u001b[0m\u001b[0mclose\u001b[0m\u001b[0;34m(\u001b[0m\u001b[0;34m)\u001b[0m\u001b[0;34m\u001b[0m\u001b[0m\n\u001b[1;32m    789\u001b[0m             \u001b[0;32melif\u001b[0m \u001b[0mself\u001b[0m\u001b[0;34m.\u001b[0m\u001b[0mstdout\u001b[0m\u001b[0;34m:\u001b[0m\u001b[0;34m\u001b[0m\u001b[0m\n\u001b[0;32m--> 790\u001b[0;31m                 \u001b[0mstdout\u001b[0m \u001b[0;34m=\u001b[0m \u001b[0m_eintr_retry_call\u001b[0m\u001b[0;34m(\u001b[0m\u001b[0mself\u001b[0m\u001b[0;34m.\u001b[0m\u001b[0mstdout\u001b[0m\u001b[0;34m.\u001b[0m\u001b[0mread\u001b[0m\u001b[0;34m)\u001b[0m\u001b[0;34m\u001b[0m\u001b[0m\n\u001b[0m\u001b[1;32m    791\u001b[0m                 \u001b[0mself\u001b[0m\u001b[0;34m.\u001b[0m\u001b[0mstdout\u001b[0m\u001b[0;34m.\u001b[0m\u001b[0mclose\u001b[0m\u001b[0;34m(\u001b[0m\u001b[0;34m)\u001b[0m\u001b[0;34m\u001b[0m\u001b[0m\n\u001b[1;32m    792\u001b[0m             \u001b[0;32melif\u001b[0m \u001b[0mself\u001b[0m\u001b[0;34m.\u001b[0m\u001b[0mstderr\u001b[0m\u001b[0;34m:\u001b[0m\u001b[0;34m\u001b[0m\u001b[0m\n",
        "\u001b[0;32m/usr/local/Cellar/python/2.7.6/Frameworks/Python.framework/Versions/2.7/lib/python2.7/subprocess.pyc\u001b[0m in \u001b[0;36m_eintr_retry_call\u001b[0;34m(func, *args)\u001b[0m\n\u001b[1;32m    474\u001b[0m     \u001b[0;32mwhile\u001b[0m \u001b[0mTrue\u001b[0m\u001b[0;34m:\u001b[0m\u001b[0;34m\u001b[0m\u001b[0m\n\u001b[1;32m    475\u001b[0m         \u001b[0;32mtry\u001b[0m\u001b[0;34m:\u001b[0m\u001b[0;34m\u001b[0m\u001b[0m\n\u001b[0;32m--> 476\u001b[0;31m             \u001b[0;32mreturn\u001b[0m \u001b[0mfunc\u001b[0m\u001b[0;34m(\u001b[0m\u001b[0;34m*\u001b[0m\u001b[0margs\u001b[0m\u001b[0;34m)\u001b[0m\u001b[0;34m\u001b[0m\u001b[0m\n\u001b[0m\u001b[1;32m    477\u001b[0m         \u001b[0;32mexcept\u001b[0m \u001b[0;34m(\u001b[0m\u001b[0mOSError\u001b[0m\u001b[0;34m,\u001b[0m \u001b[0mIOError\u001b[0m\u001b[0;34m)\u001b[0m \u001b[0;32mas\u001b[0m \u001b[0me\u001b[0m\u001b[0;34m:\u001b[0m\u001b[0;34m\u001b[0m\u001b[0m\n\u001b[1;32m    478\u001b[0m             \u001b[0;32mif\u001b[0m \u001b[0me\u001b[0m\u001b[0;34m.\u001b[0m\u001b[0merrno\u001b[0m \u001b[0;34m==\u001b[0m \u001b[0merrno\u001b[0m\u001b[0;34m.\u001b[0m\u001b[0mEINTR\u001b[0m\u001b[0;34m:\u001b[0m\u001b[0;34m\u001b[0m\u001b[0m\n",
        "\u001b[0;31mKeyboardInterrupt\u001b[0m: "
       ]
      }
     ],
     "prompt_number": 4
    },
    {
     "cell_type": "code",
     "collapsed": false,
     "input": [
      "NTensor(2)"
     ],
     "language": "python",
     "metadata": {},
     "outputs": [
      {
       "latex": [
        "$\\,\\left[\\vec{N}{\\left (t \\right )}\\otimes_{\\mathrm{s}}\\vec{N}{\\left (t \\right )}\\right]$"
       ],
       "metadata": {},
       "output_type": "pyout",
       "prompt_number": 29,
       "text": [
        "[NVec(t)*NVec(t)]"
       ]
      }
     ],
     "prompt_number": 29
    },
    {
     "cell_type": "heading",
     "level": 1,
     "metadata": {},
     "source": [
      "Spherical-harmonic functions"
     ]
    },
    {
     "cell_type": "markdown",
     "metadata": {},
     "source": [
      "So now, I can just contract the $Y^{\\ell,m}_L$ tensors with the $N_L$ tensors to get the usual spherical harmonics:"
     ]
    },
    {
     "cell_type": "code",
     "collapsed": false,
     "input": [
      "for ell in range(3):\n",
      "    print('')\n",
      "    for m in range(-ell, ell+1):\n",
      "        print('(ell,m) = ({0},{1}):'.format(ell,m))\n",
      "        display(exptrigsimp( YlmTensor(ell,m) | NTensor(ell) ))"
     ],
     "language": "python",
     "metadata": {},
     "outputs": [
      {
       "output_type": "stream",
       "stream": "stdout",
       "text": [
        "\n",
        "(ell,m) = (0,0):\n"
       ]
      },
      {
       "latex": [
        "$$\\frac{1}{2 \\sqrt{\\pi}}$$"
       ],
       "metadata": {},
       "output_type": "display_data",
       "png": "[encoded data removed]",
       "text": [
        "   1   \n",
        "\u2500\u2500\u2500\u2500\u2500\u2500\u2500\n",
        "    ___\n",
        "2\u22c5\u2572\u2571 \u03c0 "
       ]
      },
      {
       "output_type": "stream",
       "stream": "stdout",
       "text": [
        "\n",
        "(ell,m) = (1,-1):\n"
       ]
      },
      {
       "latex": [
        "$$\\frac{\\sqrt{6} e^{- i \\varphi}}{4 \\sqrt{\\pi}} \\sin{\\left (\\vartheta \\right )}$$"
       ],
       "metadata": {},
       "output_type": "display_data",
       "png": "[encoded data removed]",
       "text": [
        "  ___  -\u2148\u22c5varphi              \n",
        "\u2572\u2571 6 \u22c5\u212f         \u22c5sin(vartheta)\n",
        "\u2500\u2500\u2500\u2500\u2500\u2500\u2500\u2500\u2500\u2500\u2500\u2500\u2500\u2500\u2500\u2500\u2500\u2500\u2500\u2500\u2500\u2500\u2500\u2500\u2500\u2500\u2500\u2500\u2500\u2500\n",
        "               ___            \n",
        "           4\u22c5\u2572\u2571 \u03c0             "
       ]
      },
      {
       "output_type": "stream",
       "stream": "stdout",
       "text": [
        "(ell,m) = (1,0):\n"
       ]
      },
      {
       "latex": [
        "$$\\frac{\\sqrt{3}}{2 \\sqrt{\\pi}} \\cos{\\left (\\vartheta \\right )}$$"
       ],
       "metadata": {},
       "output_type": "display_data",
       "png": "[encoded data removed]",
       "text": [
        "  ___              \n",
        "\u2572\u2571 3 \u22c5cos(vartheta)\n",
        "\u2500\u2500\u2500\u2500\u2500\u2500\u2500\u2500\u2500\u2500\u2500\u2500\u2500\u2500\u2500\u2500\u2500\u2500\u2500\n",
        "          ___      \n",
        "      2\u22c5\u2572\u2571 \u03c0       "
       ]
      },
      {
       "output_type": "stream",
       "stream": "stdout",
       "text": [
        "(ell,m) = (1,1):\n"
       ]
      },
      {
       "latex": [
        "$$- \\frac{\\sqrt{6} e^{i \\varphi}}{4 \\sqrt{\\pi}} \\sin{\\left (\\vartheta \\right )}$$"
       ],
       "metadata": {},
       "output_type": "display_data",
       "png": "[encoded data removed]",
       "text": [
        "   ___  \u2148\u22c5varphi               \n",
        "-\u2572\u2571 6 \u22c5\u212f        \u22c5sin(vartheta) \n",
        "\u2500\u2500\u2500\u2500\u2500\u2500\u2500\u2500\u2500\u2500\u2500\u2500\u2500\u2500\u2500\u2500\u2500\u2500\u2500\u2500\u2500\u2500\u2500\u2500\u2500\u2500\u2500\u2500\u2500\u2500\u2500\n",
        "                ___            \n",
        "            4\u22c5\u2572\u2571 \u03c0             "
       ]
      },
      {
       "output_type": "stream",
       "stream": "stdout",
       "text": [
        "\n",
        "(ell,m) = (2,-2):\n"
       ]
      },
      {
       "latex": [
        "$$\\frac{\\sqrt{30}}{8 \\sqrt{\\pi}} e^{- 2 i \\varphi} \\sin^{2}{\\left (\\vartheta \\right )}$$"
       ],
       "metadata": {},
       "output_type": "display_data",
       "png": "[encoded data removed]",
       "text": [
        "  ____  -2\u22c5\u2148\u22c5varphi    2          \n",
        "\u2572\u2571 30 \u22c5\u212f           \u22c5sin (vartheta)\n",
        "\u2500\u2500\u2500\u2500\u2500\u2500\u2500\u2500\u2500\u2500\u2500\u2500\u2500\u2500\u2500\u2500\u2500\u2500\u2500\u2500\u2500\u2500\u2500\u2500\u2500\u2500\u2500\u2500\u2500\u2500\u2500\u2500\u2500\u2500\n",
        "                 ___              \n",
        "             8\u22c5\u2572\u2571 \u03c0               "
       ]
      },
      {
       "output_type": "stream",
       "stream": "stdout",
       "text": [
        "(ell,m) = (2,-1):\n"
       ]
      },
      {
       "latex": [
        "$$\\frac{\\sqrt{30} e^{- i \\varphi}}{4 \\sqrt{\\pi}} \\sin{\\left (\\vartheta \\right )} \\cos{\\left (\\vartheta \\right )}$$"
       ],
       "metadata": {},
       "output_type": "display_data",
       "png": "[encoded data removed]",
       "text": [
        "  ____  -\u2148\u22c5varphi                            \n",
        "\u2572\u2571 30 \u22c5\u212f         \u22c5sin(vartheta)\u22c5cos(vartheta)\n",
        "\u2500\u2500\u2500\u2500\u2500\u2500\u2500\u2500\u2500\u2500\u2500\u2500\u2500\u2500\u2500\u2500\u2500\u2500\u2500\u2500\u2500\u2500\u2500\u2500\u2500\u2500\u2500\u2500\u2500\u2500\u2500\u2500\u2500\u2500\u2500\u2500\u2500\u2500\u2500\u2500\u2500\u2500\u2500\u2500\u2500\n",
        "                       ___                   \n",
        "                   4\u22c5\u2572\u2571 \u03c0                    "
       ]
      },
      {
       "output_type": "stream",
       "stream": "stdout",
       "text": [
        "(ell,m) = (2,0):\n"
       ]
      },
      {
       "latex": [
        "$$\\frac{\\sqrt{5}}{4 \\sqrt{\\pi}} \\left(- 3 \\sin^{2}{\\left (\\vartheta \\right )} + 2\\right)$$"
       ],
       "metadata": {},
       "output_type": "display_data",
       "png": "[encoded data removed]",
       "text": [
        "  ___ \u239b       2              \u239e\n",
        "\u2572\u2571 5 \u22c5\u239d- 3\u22c5sin (vartheta) + 2\u23a0\n",
        "\u2500\u2500\u2500\u2500\u2500\u2500\u2500\u2500\u2500\u2500\u2500\u2500\u2500\u2500\u2500\u2500\u2500\u2500\u2500\u2500\u2500\u2500\u2500\u2500\u2500\u2500\u2500\u2500\u2500\u2500\n",
        "               ___            \n",
        "           4\u22c5\u2572\u2571 \u03c0             "
       ]
      },
      {
       "output_type": "stream",
       "stream": "stdout",
       "text": [
        "(ell,m) = (2,1):\n"
       ]
      },
      {
       "latex": [
        "$$- \\frac{\\sqrt{30} e^{i \\varphi}}{4 \\sqrt{\\pi}} \\sin{\\left (\\vartheta \\right )} \\cos{\\left (\\vartheta \\right )}$$"
       ],
       "metadata": {},
       "output_type": "display_data",
       "png": "[encoded data removed]",
       "text": [
        "   ____  \u2148\u22c5varphi                             \n",
        "-\u2572\u2571 30 \u22c5\u212f        \u22c5sin(vartheta)\u22c5cos(vartheta) \n",
        "\u2500\u2500\u2500\u2500\u2500\u2500\u2500\u2500\u2500\u2500\u2500\u2500\u2500\u2500\u2500\u2500\u2500\u2500\u2500\u2500\u2500\u2500\u2500\u2500\u2500\u2500\u2500\u2500\u2500\u2500\u2500\u2500\u2500\u2500\u2500\u2500\u2500\u2500\u2500\u2500\u2500\u2500\u2500\u2500\u2500\u2500\n",
        "                       ___                    \n",
        "                   4\u22c5\u2572\u2571 \u03c0                     "
       ]
      },
      {
       "output_type": "stream",
       "stream": "stdout",
       "text": [
        "(ell,m) = (2,2):\n"
       ]
      },
      {
       "latex": [
        "$$\\frac{\\sqrt{30} e^{2 i \\varphi}}{8 \\sqrt{\\pi}} \\sin^{2}{\\left (\\vartheta \\right )}$$"
       ],
       "metadata": {},
       "output_type": "display_data",
       "png": "[encoded data removed]",
       "text": [
        "  ____  2\u22c5\u2148\u22c5varphi    2          \n",
        "\u2572\u2571 30 \u22c5\u212f          \u22c5sin (vartheta)\n",
        "\u2500\u2500\u2500\u2500\u2500\u2500\u2500\u2500\u2500\u2500\u2500\u2500\u2500\u2500\u2500\u2500\u2500\u2500\u2500\u2500\u2500\u2500\u2500\u2500\u2500\u2500\u2500\u2500\u2500\u2500\u2500\u2500\u2500\n",
        "                 ___             \n",
        "             8\u22c5\u2572\u2571 \u03c0              "
       ]
      }
     ],
     "prompt_number": 30
    },
    {
     "cell_type": "markdown",
     "metadata": {},
     "source": [
      "These values match, e.g., the ones on Wikipedia's [spherical-harmonics page](https://en.wikipedia.org/wiki/Spherical_harmonics#List_of_spherical_harmonics)."
     ]
    },
    {
     "cell_type": "heading",
     "level": 2,
     "metadata": {},
     "source": [
      "Traces of the Spherical-harmonic tensors"
     ]
    },
    {
     "cell_type": "markdown",
     "metadata": {},
     "source": [
      "We can also see that the traces are zero.  This is nice because it means we don't have to explicitly remove the traces from either these or the tensors with which they will be contracted."
     ]
    },
    {
     "cell_type": "code",
     "collapsed": false,
     "input": [
      "for ell in range(2,9):\n",
      "    print('')\n",
      "    for m in range(-ell, ell+1):\n",
      "        print('(ell,m) = ({0},{1}):'.format(ell,m))\n",
      "        display( YlmTensor(ell,m).trace() )"
     ],
     "language": "python",
     "metadata": {},
     "outputs": [
      {
       "output_type": "stream",
       "stream": "stdout",
       "text": [
        "\n",
        "(ell,m) = (2,-2):\n"
       ]
      },
      {
       "latex": [
        "$$0$$"
       ],
       "metadata": {},
       "output_type": "display_data",
       "png": "[encoded data removed]",
       "text": [
        "0"
       ]
      },
      {
       "output_type": "stream",
       "stream": "stdout",
       "text": [
        "(ell,m) = (2,-1):\n"
       ]
      },
      {
       "latex": [
        "$$0$$"
       ],
       "metadata": {},
       "output_type": "display_data",
       "png": "[encoded data removed]",
       "text": [
        "0"
       ]
      },
      {
       "output_type": "stream",
       "stream": "stdout",
       "text": [
        "(ell,m) = (2,0):\n"
       ]
      },
      {
       "latex": [
        "$$0$$"
       ],
       "metadata": {},
       "output_type": "display_data",
       "png": "[encoded data removed]",
       "text": [
        "0"
       ]
      },
      {
       "output_type": "stream",
       "stream": "stdout",
       "text": [
        "(ell,m) = (2,1):\n"
       ]
      },
      {
       "latex": [
        "$$0$$"
       ],
       "metadata": {},
       "output_type": "display_data",
       "png": "[encoded data removed]",
       "text": [
        "0"
       ]
      },
      {
       "output_type": "stream",
       "stream": "stdout",
       "text": [
        "(ell,m) = (2,2):\n"
       ]
      },
      {
       "latex": [
        "$$0$$"
       ],
       "metadata": {},
       "output_type": "display_data",
       "png": "[encoded data removed]",
       "text": [
        "0"
       ]
      },
      {
       "output_type": "stream",
       "stream": "stdout",
       "text": [
        "\n",
        "(ell,m) = (3,-3):\n"
       ]
      },
      {
       "latex": [
        "$$0$$"
       ],
       "metadata": {},
       "output_type": "display_data",
       "png": "[encoded data removed]",
       "text": [
        "0"
       ]
      },
      {
       "output_type": "stream",
       "stream": "stdout",
       "text": [
        "(ell,m) = (3,-2):\n"
       ]
      },
      {
       "latex": [
        "$$0$$"
       ],
       "metadata": {},
       "output_type": "display_data",
       "png": "[encoded data removed]",
       "text": [
        "0"
       ]
      },
      {
       "output_type": "stream",
       "stream": "stdout",
       "text": [
        "(ell,m) = (3,-1):\n"
       ]
      },
      {
       "latex": [
        "$$0$$"
       ],
       "metadata": {},
       "output_type": "display_data",
       "png": "[encoded data removed]",
       "text": [
        "0"
       ]
      },
      {
       "output_type": "stream",
       "stream": "stdout",
       "text": [
        "(ell,m) = (3,0):\n"
       ]
      },
      {
       "latex": [
        "$$0$$"
       ],
       "metadata": {},
       "output_type": "display_data",
       "png": "[encoded data removed]",
       "text": [
        "0"
       ]
      },
      {
       "output_type": "stream",
       "stream": "stdout",
       "text": [
        "(ell,m) = (3,1):\n"
       ]
      },
      {
       "latex": [
        "$$0$$"
       ],
       "metadata": {},
       "output_type": "display_data",
       "png": "[encoded data removed]",
       "text": [
        "0"
       ]
      },
      {
       "output_type": "stream",
       "stream": "stdout",
       "text": [
        "(ell,m) = (3,2):\n"
       ]
      },
      {
       "latex": [
        "$$0$$"
       ],
       "metadata": {},
       "output_type": "display_data",
       "png": "[encoded data removed]",
       "text": [
        "0"
       ]
      },
      {
       "output_type": "stream",
       "stream": "stdout",
       "text": [
        "(ell,m) = (3,3):\n"
       ]
      },
      {
       "latex": [
        "$$0$$"
       ],
       "metadata": {},
       "output_type": "display_data",
       "png": "[encoded data removed]",
       "text": [
        "0"
       ]
      },
      {
       "output_type": "stream",
       "stream": "stdout",
       "text": [
        "\n",
        "(ell,m) = (4,-4):\n"
       ]
      },
      {
       "latex": [
        "$$0$$"
       ],
       "metadata": {},
       "output_type": "display_data",
       "png": "[encoded data removed]",
       "text": [
        "0"
       ]
      },
      {
       "output_type": "stream",
       "stream": "stdout",
       "text": [
        "(ell,m) = (4,-3):\n"
       ]
      },
      {
       "latex": [
        "$$0$$"
       ],
       "metadata": {},
       "output_type": "display_data",
       "png": "[encoded data removed]",
       "text": [
        "0"
       ]
      },
      {
       "output_type": "stream",
       "stream": "stdout",
       "text": [
        "(ell,m) = (4,-2):\n"
       ]
      },
      {
       "latex": [
        "$$0$$"
       ],
       "metadata": {},
       "output_type": "display_data",
       "png": "[encoded data removed]",
       "text": [
        "0"
       ]
      },
      {
       "output_type": "stream",
       "stream": "stdout",
       "text": [
        "(ell,m) = (4,-1):\n"
       ]
      },
      {
       "latex": [
        "$$0$$"
       ],
       "metadata": {},
       "output_type": "display_data",
       "png": "[encoded data removed]",
       "text": [
        "0"
       ]
      },
      {
       "output_type": "stream",
       "stream": "stdout",
       "text": [
        "(ell,m) = (4,0):\n"
       ]
      },
      {
       "latex": [
        "$$0$$"
       ],
       "metadata": {},
       "output_type": "display_data",
       "png": "[encoded data removed]",
       "text": [
        "0"
       ]
      },
      {
       "output_type": "stream",
       "stream": "stdout",
       "text": [
        "(ell,m) = (4,1):\n"
       ]
      },
      {
       "latex": [
        "$$0$$"
       ],
       "metadata": {},
       "output_type": "display_data",
       "png": "[encoded data removed]",
       "text": [
        "0"
       ]
      },
      {
       "output_type": "stream",
       "stream": "stdout",
       "text": [
        "(ell,m) = (4,2):\n"
       ]
      },
      {
       "latex": [
        "$$0$$"
       ],
       "metadata": {},
       "output_type": "display_data",
       "png": "[encoded data removed]",
       "text": [
        "0"
       ]
      },
      {
       "output_type": "stream",
       "stream": "stdout",
       "text": [
        "(ell,m) = (4,3):\n"
       ]
      },
      {
       "latex": [
        "$$0$$"
       ],
       "metadata": {},
       "output_type": "display_data",
       "png": "[encoded data removed]",
       "text": [
        "0"
       ]
      },
      {
       "output_type": "stream",
       "stream": "stdout",
       "text": [
        "(ell,m) = (4,4):\n"
       ]
      },
      {
       "latex": [
        "$$0$$"
       ],
       "metadata": {},
       "output_type": "display_data",
       "png": "[encoded data removed]",
       "text": [
        "0"
       ]
      },
      {
       "output_type": "stream",
       "stream": "stdout",
       "text": [
        "\n",
        "(ell,m) = (5,-5):\n"
       ]
      },
      {
       "latex": [
        "$$0$$"
       ],
       "metadata": {},
       "output_type": "display_data",
       "png": "[encoded data removed]",
       "text": [
        "0"
       ]
      },
      {
       "output_type": "stream",
       "stream": "stdout",
       "text": [
        "(ell,m) = (5,-4):\n"
       ]
      },
      {
       "latex": [
        "$$0$$"
       ],
       "metadata": {},
       "output_type": "display_data",
       "png": "[encoded data removed]",
       "text": [
        "0"
       ]
      },
      {
       "output_type": "stream",
       "stream": "stdout",
       "text": [
        "(ell,m) = (5,-3):\n"
       ]
      },
      {
       "latex": [
        "$$0$$"
       ],
       "metadata": {},
       "output_type": "display_data",
       "png": "[encoded data removed]",
       "text": [
        "0"
       ]
      },
      {
       "output_type": "stream",
       "stream": "stdout",
       "text": [
        "(ell,m) = (5,-2):\n"
       ]
      },
      {
       "latex": [
        "$$0$$"
       ],
       "metadata": {},
       "output_type": "display_data",
       "png": "[encoded data removed]",
       "text": [
        "0"
       ]
      },
      {
       "output_type": "stream",
       "stream": "stdout",
       "text": [
        "(ell,m) = (5,-1):\n"
       ]
      },
      {
       "latex": [
        "$$0$$"
       ],
       "metadata": {},
       "output_type": "display_data",
       "png": "[encoded data removed]",
       "text": [
        "0"
       ]
      },
      {
       "output_type": "stream",
       "stream": "stdout",
       "text": [
        "(ell,m) = (5,0):\n"
       ]
      },
      {
       "latex": [
        "$$0$$"
       ],
       "metadata": {},
       "output_type": "display_data",
       "png": "[encoded data removed]",
       "text": [
        "0"
       ]
      },
      {
       "output_type": "stream",
       "stream": "stdout",
       "text": [
        "(ell,m) = (5,1):\n"
       ]
      },
      {
       "latex": [
        "$$0$$"
       ],
       "metadata": {},
       "output_type": "display_data",
       "png": "[encoded data removed]",
       "text": [
        "0"
       ]
      },
      {
       "output_type": "stream",
       "stream": "stdout",
       "text": [
        "(ell,m) = (5,2):\n"
       ]
      },
      {
       "latex": [
        "$$0$$"
       ],
       "metadata": {},
       "output_type": "display_data",
       "png": "[encoded data removed]",
       "text": [
        "0"
       ]
      },
      {
       "output_type": "stream",
       "stream": "stdout",
       "text": [
        "(ell,m) = (5,3):\n"
       ]
      },
      {
       "latex": [
        "$$0$$"
       ],
       "metadata": {},
       "output_type": "display_data",
       "png": "[encoded data removed]",
       "text": [
        "0"
       ]
      },
      {
       "output_type": "stream",
       "stream": "stdout",
       "text": [
        "(ell,m) = (5,4):\n"
       ]
      },
      {
       "latex": [
        "$$0$$"
       ],
       "metadata": {},
       "output_type": "display_data",
       "png": "[encoded data removed]",
       "text": [
        "0"
       ]
      },
      {
       "output_type": "stream",
       "stream": "stdout",
       "text": [
        "(ell,m) = (5,5):\n"
       ]
      },
      {
       "latex": [
        "$$0$$"
       ],
       "metadata": {},
       "output_type": "display_data",
       "png": "[encoded data removed]",
       "text": [
        "0"
       ]
      },
      {
       "output_type": "stream",
       "stream": "stdout",
       "text": [
        "\n",
        "(ell,m) = (6,-6):\n"
       ]
      },
      {
       "latex": [
        "$$0$$"
       ],
       "metadata": {},
       "output_type": "display_data",
       "png": "[encoded data removed]",
       "text": [
        "0"
       ]
      },
      {
       "output_type": "stream",
       "stream": "stdout",
       "text": [
        "(ell,m) = (6,-5):\n"
       ]
      },
      {
       "latex": [
        "$$0$$"
       ],
       "metadata": {},
       "output_type": "display_data",
       "png": "[encoded data removed]",
       "text": [
        "0"
       ]
      },
      {
       "output_type": "stream",
       "stream": "stdout",
       "text": [
        "(ell,m) = (6,-4):\n"
       ]
      },
      {
       "latex": [
        "$$0$$"
       ],
       "metadata": {},
       "output_type": "display_data",
       "png": "[encoded data removed]",
       "text": [
        "0"
       ]
      },
      {
       "output_type": "stream",
       "stream": "stdout",
       "text": [
        "(ell,m) = (6,-3):\n"
       ]
      },
      {
       "latex": [
        "$$0$$"
       ],
       "metadata": {},
       "output_type": "display_data",
       "png": "[encoded data removed]",
       "text": [
        "0"
       ]
      },
      {
       "output_type": "stream",
       "stream": "stdout",
       "text": [
        "(ell,m) = (6,-2):\n"
       ]
      },
      {
       "latex": [
        "$$0$$"
       ],
       "metadata": {},
       "output_type": "display_data",
       "png": "[encoded data removed]",
       "text": [
        "0"
       ]
      },
      {
       "output_type": "stream",
       "stream": "stdout",
       "text": [
        "(ell,m) = (6,-1):\n"
       ]
      },
      {
       "latex": [
        "$$0$$"
       ],
       "metadata": {},
       "output_type": "display_data",
       "png": "[encoded data removed]",
       "text": [
        "0"
       ]
      },
      {
       "output_type": "stream",
       "stream": "stdout",
       "text": [
        "(ell,m) = (6,0):\n"
       ]
      },
      {
       "latex": [
        "$$0$$"
       ],
       "metadata": {},
       "output_type": "display_data",
       "png": "[encoded data removed]",
       "text": [
        "0"
       ]
      },
      {
       "output_type": "stream",
       "stream": "stdout",
       "text": [
        "(ell,m) = (6,1):\n"
       ]
      },
      {
       "latex": [
        "$$0$$"
       ],
       "metadata": {},
       "output_type": "display_data",
       "png": "[encoded data removed]",
       "text": [
        "0"
       ]
      },
      {
       "output_type": "stream",
       "stream": "stdout",
       "text": [
        "(ell,m) = (6,2):\n"
       ]
      },
      {
       "latex": [
        "$$0$$"
       ],
       "metadata": {},
       "output_type": "display_data",
       "png": "[encoded data removed]",
       "text": [
        "0"
       ]
      },
      {
       "output_type": "stream",
       "stream": "stdout",
       "text": [
        "(ell,m) = (6,3):\n"
       ]
      },
      {
       "latex": [
        "$$0$$"
       ],
       "metadata": {},
       "output_type": "display_data",
       "png": "[encoded data removed]",
       "text": [
        "0"
       ]
      },
      {
       "output_type": "stream",
       "stream": "stdout",
       "text": [
        "(ell,m) = (6,4):\n"
       ]
      },
      {
       "latex": [
        "$$0$$"
       ],
       "metadata": {},
       "output_type": "display_data",
       "png": "[encoded data removed]",
       "text": [
        "0"
       ]
      },
      {
       "output_type": "stream",
       "stream": "stdout",
       "text": [
        "(ell,m) = (6,5):\n"
       ]
      },
      {
       "latex": [
        "$$0$$"
       ],
       "metadata": {},
       "output_type": "display_data",
       "png": "[encoded data removed]",
       "text": [
        "0"
       ]
      },
      {
       "output_type": "stream",
       "stream": "stdout",
       "text": [
        "(ell,m) = (6,6):\n"
       ]
      },
      {
       "latex": [
        "$$0$$"
       ],
       "metadata": {},
       "output_type": "display_data",
       "png": "[encoded data removed]",
       "text": [
        "0"
       ]
      },
      {
       "output_type": "stream",
       "stream": "stdout",
       "text": [
        "\n",
        "(ell,m) = (7,-7):\n"
       ]
      },
      {
       "latex": [
        "$$0$$"
       ],
       "metadata": {},
       "output_type": "display_data",
       "png": "[encoded data removed]",
       "text": [
        "0"
       ]
      },
      {
       "output_type": "stream",
       "stream": "stdout",
       "text": [
        "(ell,m) = (7,-6):\n"
       ]
      },
      {
       "latex": [
        "$$0$$"
       ],
       "metadata": {},
       "output_type": "display_data",
       "png": "[encoded data removed]",
       "text": [
        "0"
       ]
      },
      {
       "output_type": "stream",
       "stream": "stdout",
       "text": [
        "(ell,m) = (7,-5):\n"
       ]
      },
      {
       "latex": [
        "$$0$$"
       ],
       "metadata": {},
       "output_type": "display_data",
       "png": "[encoded data removed]",
       "text": [
        "0"
       ]
      },
      {
       "output_type": "stream",
       "stream": "stdout",
       "text": [
        "(ell,m) = (7,-4):\n"
       ]
      },
      {
       "latex": [
        "$$0$$"
       ],
       "metadata": {},
       "output_type": "display_data",
       "png": "[encoded data removed]",
       "text": [
        "0"
       ]
      },
      {
       "output_type": "stream",
       "stream": "stdout",
       "text": [
        "(ell,m) = (7,-3):\n"
       ]
      },
      {
       "latex": [
        "$$0$$"
       ],
       "metadata": {},
       "output_type": "display_data",
       "png": "[encoded data removed]",
       "text": [
        "0"
       ]
      },
      {
       "output_type": "stream",
       "stream": "stdout",
       "text": [
        "(ell,m) = (7,-2):\n"
       ]
      },
      {
       "latex": [
        "$$0$$"
       ],
       "metadata": {},
       "output_type": "display_data",
       "png": "[encoded data removed]",
       "text": [
        "0"
       ]
      },
      {
       "output_type": "stream",
       "stream": "stdout",
       "text": [
        "(ell,m) = (7,-1):\n"
       ]
      },
      {
       "latex": [
        "$$0$$"
       ],
       "metadata": {},
       "output_type": "display_data",
       "png": "[encoded data removed]",
       "text": [
        "0"
       ]
      },
      {
       "output_type": "stream",
       "stream": "stdout",
       "text": [
        "(ell,m) = (7,0):\n"
       ]
      },
      {
       "latex": [
        "$$0$$"
       ],
       "metadata": {},
       "output_type": "display_data",
       "png": "[encoded data removed]",
       "text": [
        "0"
       ]
      },
      {
       "output_type": "stream",
       "stream": "stdout",
       "text": [
        "(ell,m) = (7,1):\n"
       ]
      },
      {
       "latex": [
        "$$0$$"
       ],
       "metadata": {},
       "output_type": "display_data",
       "png": "[encoded data removed]",
       "text": [
        "0"
       ]
      },
      {
       "output_type": "stream",
       "stream": "stdout",
       "text": [
        "(ell,m) = (7,2):\n"
       ]
      },
      {
       "latex": [
        "$$0$$"
       ],
       "metadata": {},
       "output_type": "display_data",
       "png": "[encoded data removed]",
       "text": [
        "0"
       ]
      },
      {
       "output_type": "stream",
       "stream": "stdout",
       "text": [
        "(ell,m) = (7,3):\n"
       ]
      },
      {
       "latex": [
        "$$0$$"
       ],
       "metadata": {},
       "output_type": "display_data",
       "png": "[encoded data removed]",
       "text": [
        "0"
       ]
      },
      {
       "output_type": "stream",
       "stream": "stdout",
       "text": [
        "(ell,m) = (7,4):\n"
       ]
      },
      {
       "latex": [
        "$$0$$"
       ],
       "metadata": {},
       "output_type": "display_data",
       "png": "[encoded data removed]",
       "text": [
        "0"
       ]
      },
      {
       "output_type": "stream",
       "stream": "stdout",
       "text": [
        "(ell,m) = (7,5):\n"
       ]
      },
      {
       "latex": [
        "$$0$$"
       ],
       "metadata": {},
       "output_type": "display_data",
       "png": "[encoded data removed]",
       "text": [
        "0"
       ]
      },
      {
       "output_type": "stream",
       "stream": "stdout",
       "text": [
        "(ell,m) = (7,6):\n"
       ]
      },
      {
       "latex": [
        "$$0$$"
       ],
       "metadata": {},
       "output_type": "display_data",
       "png": "[encoded data removed]",
       "text": [
        "0"
       ]
      },
      {
       "output_type": "stream",
       "stream": "stdout",
       "text": [
        "(ell,m) = (7,7):\n"
       ]
      },
      {
       "latex": [
        "$$0$$"
       ],
       "metadata": {},
       "output_type": "display_data",
       "png": "[encoded data removed]",
       "text": [
        "0"
       ]
      },
      {
       "output_type": "stream",
       "stream": "stdout",
       "text": [
        "\n",
        "(ell,m) = (8,-8):\n"
       ]
      },
      {
       "latex": [
        "$$0$$"
       ],
       "metadata": {},
       "output_type": "display_data",
       "png": "[encoded data removed]",
       "text": [
        "0"
       ]
      },
      {
       "output_type": "stream",
       "stream": "stdout",
       "text": [
        "(ell,m) = (8,-7):\n"
       ]
      },
      {
       "latex": [
        "$$0$$"
       ],
       "metadata": {},
       "output_type": "display_data",
       "png": "[encoded data removed]",
       "text": [
        "0"
       ]
      },
      {
       "output_type": "stream",
       "stream": "stdout",
       "text": [
        "(ell,m) = (8,-6):\n"
       ]
      },
      {
       "latex": [
        "$$0$$"
       ],
       "metadata": {},
       "output_type": "display_data",
       "png": "[encoded data removed]",
       "text": [
        "0"
       ]
      },
      {
       "output_type": "stream",
       "stream": "stdout",
       "text": [
        "(ell,m) = (8,-5):\n"
       ]
      },
      {
       "latex": [
        "$$0$$"
       ],
       "metadata": {},
       "output_type": "display_data",
       "png": "[encoded data removed]",
       "text": [
        "0"
       ]
      },
      {
       "output_type": "stream",
       "stream": "stdout",
       "text": [
        "(ell,m) = (8,-4):\n"
       ]
      },
      {
       "latex": [
        "$$0$$"
       ],
       "metadata": {},
       "output_type": "display_data",
       "png": "[encoded data removed]",
       "text": [
        "0"
       ]
      },
      {
       "output_type": "stream",
       "stream": "stdout",
       "text": [
        "(ell,m) = (8,-3):\n"
       ]
      },
      {
       "latex": [
        "$$0$$"
       ],
       "metadata": {},
       "output_type": "display_data",
       "png": "[encoded data removed]",
       "text": [
        "0"
       ]
      },
      {
       "output_type": "stream",
       "stream": "stdout",
       "text": [
        "(ell,m) = (8,-2):\n"
       ]
      },
      {
       "latex": [
        "$$0$$"
       ],
       "metadata": {},
       "output_type": "display_data",
       "png": "[encoded data removed]",
       "text": [
        "0"
       ]
      },
      {
       "output_type": "stream",
       "stream": "stdout",
       "text": [
        "(ell,m) = (8,-1):\n"
       ]
      },
      {
       "latex": [
        "$$0$$"
       ],
       "metadata": {},
       "output_type": "display_data",
       "png": "[encoded data removed]",
       "text": [
        "0"
       ]
      },
      {
       "output_type": "stream",
       "stream": "stdout",
       "text": [
        "(ell,m) = (8,0):\n"
       ]
      },
      {
       "latex": [
        "$$0$$"
       ],
       "metadata": {},
       "output_type": "display_data",
       "png": "[encoded data removed]",
       "text": [
        "0"
       ]
      },
      {
       "output_type": "stream",
       "stream": "stdout",
       "text": [
        "(ell,m) = (8,1):\n"
       ]
      },
      {
       "latex": [
        "$$0$$"
       ],
       "metadata": {},
       "output_type": "display_data",
       "png": "[encoded data removed]",
       "text": [
        "0"
       ]
      },
      {
       "output_type": "stream",
       "stream": "stdout",
       "text": [
        "(ell,m) = (8,2):\n"
       ]
      },
      {
       "latex": [
        "$$0$$"
       ],
       "metadata": {},
       "output_type": "display_data",
       "png": "[encoded data removed]",
       "text": [
        "0"
       ]
      },
      {
       "output_type": "stream",
       "stream": "stdout",
       "text": [
        "(ell,m) = (8,3):\n"
       ]
      },
      {
       "latex": [
        "$$0$$"
       ],
       "metadata": {},
       "output_type": "display_data",
       "png": "[encoded data removed]",
       "text": [
        "0"
       ]
      },
      {
       "output_type": "stream",
       "stream": "stdout",
       "text": [
        "(ell,m) = (8,4):\n"
       ]
      },
      {
       "latex": [
        "$$0$$"
       ],
       "metadata": {},
       "output_type": "display_data",
       "png": "[encoded data removed]",
       "text": [
        "0"
       ]
      },
      {
       "output_type": "stream",
       "stream": "stdout",
       "text": [
        "(ell,m) = (8,5):\n"
       ]
      },
      {
       "latex": [
        "$$0$$"
       ],
       "metadata": {},
       "output_type": "display_data",
       "png": "[encoded data removed]",
       "text": [
        "0"
       ]
      },
      {
       "output_type": "stream",
       "stream": "stdout",
       "text": [
        "(ell,m) = (8,6):\n"
       ]
      },
      {
       "latex": [
        "$$0$$"
       ],
       "metadata": {},
       "output_type": "display_data",
       "png": "[encoded data removed]",
       "text": [
        "0"
       ]
      },
      {
       "output_type": "stream",
       "stream": "stdout",
       "text": [
        "(ell,m) = (8,7):\n"
       ]
      },
      {
       "latex": [
        "$$0$$"
       ],
       "metadata": {},
       "output_type": "display_data",
       "png": "[encoded data removed]",
       "text": [
        "0"
       ]
      },
      {
       "output_type": "stream",
       "stream": "stdout",
       "text": [
        "(ell,m) = (8,8):\n"
       ]
      },
      {
       "latex": [
        "$$0$$"
       ],
       "metadata": {},
       "output_type": "display_data",
       "png": "[encoded data removed]",
       "text": [
        "0"
       ]
      }
     ],
     "prompt_number": 31
    },
    {
     "cell_type": "heading",
     "level": 1,
     "metadata": {},
     "source": [
      "Testing contractions with the multipole moments"
     ]
    },
    {
     "cell_type": "markdown",
     "metadata": {},
     "source": [
      "We can just add in a couple low-order terms for $I_{jk}$ and $J_{jk}$, and see how they come out.  I expect to find some new terms proportional to $\\Sigma_n + i\\, \\Sigma_\\lambda$ in the $(2,\\pm2)$ modes, and recover the usual leading-order terms in the $(2,\\pm1)$ modes.  Note, however, that I am not conjugating the `YlmTensor` objects, as I should, so the normalization and signs will be screwy."
     ]
    },
    {
     "cell_type": "code",
     "collapsed": false,
     "input": [
      "I_jk = SymmetricTensorProduct(nHat, nHat, coefficient = (m*nu*r**2))\n",
      "\n",
      "J_jk = SymmetricTensorProduct(SigmaVec, nHat, coefficient = (r*nu/c)*(-frac(3,2))) \\\n",
      "      + SymmetricTensorProduct(ellHat, nHat, coefficient = -nu*m*delta*r**2*v)\n",
      "\n",
      "for m in range(-2,2+1):\n",
      "    display(YlmTensor(2,m)|(I_jk))\n",
      "print(\"\")\n",
      "for m in range(-2,2+1):\n",
      "    display(sympy.simplify(-sympy.I * (YlmTensor(2,m)|J_jk)))"
     ],
     "language": "python",
     "metadata": {},
     "outputs": [
      {
       "latex": [
        "$$\\frac{\\sqrt{30} \\nu}{4 \\sqrt{\\pi}} r^{2}{\\left (t \\right )}$$"
       ],
       "metadata": {},
       "output_type": "display_data",
       "png": "[encoded data removed]",
       "text": [
        "  ____    2   \n",
        "\u2572\u2571 30 \u22c5\u03bd\u22c5r (t)\n",
        "\u2500\u2500\u2500\u2500\u2500\u2500\u2500\u2500\u2500\u2500\u2500\u2500\u2500\u2500\n",
        "       ___    \n",
        "   4\u22c5\u2572\u2571 \u03c0     "
       ]
      },
      {
       "latex": [
        "$$0$$"
       ],
       "metadata": {},
       "output_type": "display_data",
       "png": "[encoded data removed]",
       "text": [
        "0"
       ]
      },
      {
       "latex": [
        "$$- \\frac{\\sqrt{5} \\nu}{2 \\sqrt{\\pi}} r^{2}{\\left (t \\right )}$$"
       ],
       "metadata": {},
       "output_type": "display_data",
       "png": "[encoded data removed]",
       "text": [
        "   ___    2    \n",
        "-\u2572\u2571 5 \u22c5\u03bd\u22c5r (t) \n",
        "\u2500\u2500\u2500\u2500\u2500\u2500\u2500\u2500\u2500\u2500\u2500\u2500\u2500\u2500\u2500\n",
        "        ___    \n",
        "    2\u22c5\u2572\u2571 \u03c0     "
       ]
      },
      {
       "latex": [
        "$$0$$"
       ],
       "metadata": {},
       "output_type": "display_data",
       "png": "[encoded data removed]",
       "text": [
        "0"
       ]
      },
      {
       "latex": [
        "$$\\frac{\\sqrt{30} \\nu}{4 \\sqrt{\\pi}} r^{2}{\\left (t \\right )}$$"
       ],
       "metadata": {},
       "output_type": "display_data",
       "png": "[encoded data removed]",
       "text": [
        "  ____    2   \n",
        "\u2572\u2571 30 \u22c5\u03bd\u22c5r (t)\n",
        "\u2500\u2500\u2500\u2500\u2500\u2500\u2500\u2500\u2500\u2500\u2500\u2500\u2500\u2500\n",
        "       ___    \n",
        "   4\u22c5\u2572\u2571 \u03c0     "
       ]
      },
      {
       "output_type": "stream",
       "stream": "stdout",
       "text": [
        "\n"
       ]
      },
      {
       "latex": [
        "$$\\frac{3 \\sqrt{30} \\nu}{16 \\sqrt{\\pi} c} \\left(\\Sigma_{\\lambda}{\\left (t \\right )} + i \\Sigma_{n}{\\left (t \\right )}\\right) r{\\left (t \\right )}$$"
       ],
       "metadata": {},
       "output_type": "display_data",
       "png": "[encoded data removed]",
       "text": [
        "    ____                           \n",
        "3\u22c5\u2572\u2571 30 \u22c5\u03bd\u22c5(\u03a3_\u03bb(t) + \u2148\u22c5\u03a3_n(t))\u22c5r(t)\n",
        "\u2500\u2500\u2500\u2500\u2500\u2500\u2500\u2500\u2500\u2500\u2500\u2500\u2500\u2500\u2500\u2500\u2500\u2500\u2500\u2500\u2500\u2500\u2500\u2500\u2500\u2500\u2500\u2500\u2500\u2500\u2500\u2500\u2500\u2500\u2500\n",
        "                  ___              \n",
        "             16\u22c5\u2572\u2571 \u03c0 \u22c5c            "
       ]
      },
      {
       "latex": [
        "$$\\frac{\\sqrt{30} i \\nu}{16 \\sqrt{\\pi} c} \\left(4 c \\delta r{\\left (t \\right )} v{\\left (t \\right )} + 3 \\Sigma_{\\ell}{\\left (t \\right )}\\right) r{\\left (t \\right )}$$"
       ],
       "metadata": {},
       "output_type": "display_data",
       "png": "[encoded data removed]",
       "text": [
        "  ____                                        \n",
        "\u2572\u2571 30 \u22c5\u2148\u22c5\u03bd\u22c5(4\u22c5c\u22c5\u03b4\u22c5r(t)\u22c5v(t) + 3\u22c5\u03a3_ell(t))\u22c5r(t)\n",
        "\u2500\u2500\u2500\u2500\u2500\u2500\u2500\u2500\u2500\u2500\u2500\u2500\u2500\u2500\u2500\u2500\u2500\u2500\u2500\u2500\u2500\u2500\u2500\u2500\u2500\u2500\u2500\u2500\u2500\u2500\u2500\u2500\u2500\u2500\u2500\u2500\u2500\u2500\u2500\u2500\u2500\u2500\u2500\u2500\u2500\u2500\n",
        "                       ___                    \n",
        "                  16\u22c5\u2572\u2571 \u03c0 \u22c5c                  "
       ]
      },
      {
       "latex": [
        "$$- \\frac{3 \\sqrt{5} i \\nu}{8 \\sqrt{\\pi} c} \\Sigma_{n}{\\left (t \\right )} r{\\left (t \\right )}$$"
       ],
       "metadata": {},
       "output_type": "display_data",
       "png": "[encoded data removed]",
       "text": [
        "     ___                 \n",
        "-3\u22c5\u2572\u2571 5 \u22c5\u2148\u22c5\u03bd\u22c5\u03a3_n(t)\u22c5r(t) \n",
        "\u2500\u2500\u2500\u2500\u2500\u2500\u2500\u2500\u2500\u2500\u2500\u2500\u2500\u2500\u2500\u2500\u2500\u2500\u2500\u2500\u2500\u2500\u2500\u2500\u2500\n",
        "            ___          \n",
        "        8\u22c5\u2572\u2571 \u03c0 \u22c5c        "
       ]
      },
      {
       "latex": [
        "$$- \\frac{\\sqrt{30} i \\nu}{16 \\sqrt{\\pi} c} \\left(4 c \\delta r{\\left (t \\right )} v{\\left (t \\right )} + 3 \\Sigma_{\\ell}{\\left (t \\right )}\\right) r{\\left (t \\right )}$$"
       ],
       "metadata": {},
       "output_type": "display_data",
       "png": "[encoded data removed]",
       "text": [
        "   ____                                         \n",
        "-\u2572\u2571 30 \u22c5\u2148\u22c5\u03bd\u22c5(4\u22c5c\u22c5\u03b4\u22c5r(t)\u22c5v(t) + 3\u22c5\u03a3_ell(t))\u22c5r(t) \n",
        "\u2500\u2500\u2500\u2500\u2500\u2500\u2500\u2500\u2500\u2500\u2500\u2500\u2500\u2500\u2500\u2500\u2500\u2500\u2500\u2500\u2500\u2500\u2500\u2500\u2500\u2500\u2500\u2500\u2500\u2500\u2500\u2500\u2500\u2500\u2500\u2500\u2500\u2500\u2500\u2500\u2500\u2500\u2500\u2500\u2500\u2500\u2500\u2500\n",
        "                        ___                     \n",
        "                   16\u22c5\u2572\u2571 \u03c0 \u22c5c                   "
       ]
      },
      {
       "latex": [
        "$$\\frac{3 \\sqrt{30} \\nu}{16 \\sqrt{\\pi} c} \\left(- \\Sigma_{\\lambda}{\\left (t \\right )} + i \\Sigma_{n}{\\left (t \\right )}\\right) r{\\left (t \\right )}$$"
       ],
       "metadata": {},
       "output_type": "display_data",
       "png": "[encoded data removed]",
       "text": [
        "    ____                            \n",
        "3\u22c5\u2572\u2571 30 \u22c5\u03bd\u22c5(-\u03a3_\u03bb(t) + \u2148\u22c5\u03a3_n(t))\u22c5r(t)\n",
        "\u2500\u2500\u2500\u2500\u2500\u2500\u2500\u2500\u2500\u2500\u2500\u2500\u2500\u2500\u2500\u2500\u2500\u2500\u2500\u2500\u2500\u2500\u2500\u2500\u2500\u2500\u2500\u2500\u2500\u2500\u2500\u2500\u2500\u2500\u2500\u2500\n",
        "                  ___               \n",
        "             16\u22c5\u2572\u2571 \u03c0 \u22c5c             "
       ]
      }
     ],
     "prompt_number": 34
    },
    {
     "cell_type": "markdown",
     "metadata": {},
     "source": [
      "These results look pretty much as I expect.  I'll have to work on the scaling, though, to check if I agree exactly with other sources -- for the published terms, at least."
     ]
    },
    {
     "cell_type": "markdown",
     "metadata": {},
     "source": [
      "Note the Eqs. (74) and the footnote on page 32 of [Blanchet's Living Review (2013)](http://arxiv.org/abs/1310.1528), which explains the necessary normalizations."
     ]
    },
    {
     "cell_type": "code",
     "collapsed": false,
     "input": [
      "for m in range(-2,2+1):\n",
      "    display(sympy.simplify((-1/sympy.sqrt(2))\n",
      "                           * (frac(4,sympy.factorial(ell)) * sympy.sqrt(frac((ell+1)*(ell+2),2*ell*(ell-1)))\n",
      "                              * ((4*sympy.pi*sympy.factorial(ell))/sympy.factorial2(2*ell+1))\n",
      "                              * (YlmTensorConjugate(2,m)|I_jk)\n",
      "                              - (sympy.I/c) * frac(-8,sympy.factorial(ell)) * sympy.sqrt(frac(ell*(ell+2),2*(ell+1)*(ell-1)))\n",
      "                              * ((4*sympy.pi*sympy.factorial(ell))/sympy.factorial2(2*ell+1))\n",
      "                              * (YlmTensorConjugate(2,m)|J_jk))) )"
     ],
     "language": "python",
     "metadata": {},
     "outputs": [
      {
       "latex": [
        "$$- \\frac{\\sqrt{42} \\sqrt{\\pi} \\nu}{48243195 c^{2}} \\left(3 c^{2} r{\\left (t \\right )} + 4 i \\left(i \\Sigma_{\\lambda}{\\left (t \\right )} - \\Sigma_{n}{\\left (t \\right )}\\right)\\right) r{\\left (t \\right )}$$"
       ],
       "metadata": {},
       "output_type": "display_data",
       "png": "[encoded data removed]",
       "text": [
        "   ____   ___   \u239b   2                               \u239e      \n",
        "-\u2572\u2571 42 \u22c5\u2572\u2571 \u03c0 \u22c5\u03bd\u22c5\u239d3\u22c5c \u22c5r(t) + 4\u22c5\u2148\u22c5(\u2148\u22c5\u03a3_\u03bb(t) - \u03a3_n(t))\u23a0\u22c5r(t) \n",
        "\u2500\u2500\u2500\u2500\u2500\u2500\u2500\u2500\u2500\u2500\u2500\u2500\u2500\u2500\u2500\u2500\u2500\u2500\u2500\u2500\u2500\u2500\u2500\u2500\u2500\u2500\u2500\u2500\u2500\u2500\u2500\u2500\u2500\u2500\u2500\u2500\u2500\u2500\u2500\u2500\u2500\u2500\u2500\u2500\u2500\u2500\u2500\u2500\u2500\u2500\u2500\u2500\u2500\u2500\u2500\u2500\u2500\u2500\u2500\n",
        "                                  2                        \n",
        "                        48243195\u22c5c                         "
       ]
      },
      {
       "latex": [
        "$$- \\frac{4 \\sqrt{42} i \\nu}{144729585 c^{2}} \\sqrt{\\pi} \\left(4 c \\delta r{\\left (t \\right )} v{\\left (t \\right )} + 3 \\Sigma_{\\ell}{\\left (t \\right )}\\right) r{\\left (t \\right )}$$"
       ],
       "metadata": {},
       "output_type": "display_data",
       "png": "[encoded data removed]",
       "text": [
        "     ____     ___                                       \n",
        "-4\u22c5\u2572\u2571 42 \u22c5\u2148\u22c5\u2572\u2571 \u03c0 \u22c5\u03bd\u22c5(4\u22c5c\u22c5\u03b4\u22c5r(t)\u22c5v(t) + 3\u22c5\u03a3_ell(t))\u22c5r(t) \n",
        "\u2500\u2500\u2500\u2500\u2500\u2500\u2500\u2500\u2500\u2500\u2500\u2500\u2500\u2500\u2500\u2500\u2500\u2500\u2500\u2500\u2500\u2500\u2500\u2500\u2500\u2500\u2500\u2500\u2500\u2500\u2500\u2500\u2500\u2500\u2500\u2500\u2500\u2500\u2500\u2500\u2500\u2500\u2500\u2500\u2500\u2500\u2500\u2500\u2500\u2500\u2500\u2500\u2500\u2500\u2500\u2500\n",
        "                                 2                      \n",
        "                      144729585\u22c5c                       "
       ]
      },
      {
       "latex": [
        "$$\\frac{2 \\sqrt{7} \\sqrt{\\pi} \\nu}{48243195 c^{2}} \\left(3 c^{2} r{\\left (t \\right )} - 4 i \\Sigma_{n}{\\left (t \\right )}\\right) r{\\left (t \\right )}$$"
       ],
       "metadata": {},
       "output_type": "display_data",
       "png": "[encoded data removed]",
       "text": [
        "    ___   ___   \u239b   2                  \u239e     \n",
        "2\u22c5\u2572\u2571 7 \u22c5\u2572\u2571 \u03c0 \u22c5\u03bd\u22c5\u239d3\u22c5c \u22c5r(t) - 4\u22c5\u2148\u22c5\u03a3_n(t)\u23a0\u22c5r(t)\n",
        "\u2500\u2500\u2500\u2500\u2500\u2500\u2500\u2500\u2500\u2500\u2500\u2500\u2500\u2500\u2500\u2500\u2500\u2500\u2500\u2500\u2500\u2500\u2500\u2500\u2500\u2500\u2500\u2500\u2500\u2500\u2500\u2500\u2500\u2500\u2500\u2500\u2500\u2500\u2500\u2500\u2500\u2500\u2500\u2500\u2500\n",
        "                           2                 \n",
        "                 48243195\u22c5c                  "
       ]
      },
      {
       "latex": [
        "$$\\frac{4 \\sqrt{42} i \\nu}{144729585 c^{2}} \\sqrt{\\pi} \\left(4 c \\delta r{\\left (t \\right )} v{\\left (t \\right )} + 3 \\Sigma_{\\ell}{\\left (t \\right )}\\right) r{\\left (t \\right )}$$"
       ],
       "metadata": {},
       "output_type": "display_data",
       "png": "[encoded data removed]",
       "text": [
        "    ____     ___                                      \n",
        "4\u22c5\u2572\u2571 42 \u22c5\u2148\u22c5\u2572\u2571 \u03c0 \u22c5\u03bd\u22c5(4\u22c5c\u22c5\u03b4\u22c5r(t)\u22c5v(t) + 3\u22c5\u03a3_ell(t))\u22c5r(t)\n",
        "\u2500\u2500\u2500\u2500\u2500\u2500\u2500\u2500\u2500\u2500\u2500\u2500\u2500\u2500\u2500\u2500\u2500\u2500\u2500\u2500\u2500\u2500\u2500\u2500\u2500\u2500\u2500\u2500\u2500\u2500\u2500\u2500\u2500\u2500\u2500\u2500\u2500\u2500\u2500\u2500\u2500\u2500\u2500\u2500\u2500\u2500\u2500\u2500\u2500\u2500\u2500\u2500\u2500\u2500\n",
        "                                2                     \n",
        "                     144729585\u22c5c                      "
       ]
      },
      {
       "latex": [
        "$$- \\frac{\\sqrt{42} \\sqrt{\\pi} \\nu}{48243195 c^{2}} \\left(3 c^{2} r{\\left (t \\right )} + 4 \\Sigma_{\\lambda}{\\left (t \\right )} - 4 i \\Sigma_{n}{\\left (t \\right )}\\right) r{\\left (t \\right )}$$"
       ],
       "metadata": {},
       "output_type": "display_data",
       "png": "[encoded data removed]",
       "text": [
        "   ____   ___   \u239b   2                             \u239e      \n",
        "-\u2572\u2571 42 \u22c5\u2572\u2571 \u03c0 \u22c5\u03bd\u22c5\u239d3\u22c5c \u22c5r(t) + 4\u22c5\u03a3_\u03bb(t) - 4\u22c5\u2148\u22c5\u03a3_n(t)\u23a0\u22c5r(t) \n",
        "\u2500\u2500\u2500\u2500\u2500\u2500\u2500\u2500\u2500\u2500\u2500\u2500\u2500\u2500\u2500\u2500\u2500\u2500\u2500\u2500\u2500\u2500\u2500\u2500\u2500\u2500\u2500\u2500\u2500\u2500\u2500\u2500\u2500\u2500\u2500\u2500\u2500\u2500\u2500\u2500\u2500\u2500\u2500\u2500\u2500\u2500\u2500\u2500\u2500\u2500\u2500\u2500\u2500\u2500\u2500\u2500\u2500\n",
        "                                 2                       \n",
        "                       48243195\u22c5c                        "
       ]
      }
     ],
     "prompt_number": 35
    },
    {
     "cell_type": "code",
     "collapsed": false,
     "input": [],
     "language": "python",
     "metadata": {},
     "outputs": []
    },
    {
     "cell_type": "code",
     "collapsed": false,
     "input": [],
     "language": "python",
     "metadata": {},
     "outputs": []
    },
    {
     "cell_type": "code",
     "collapsed": false,
     "input": [],
     "language": "python",
     "metadata": {},
     "outputs": []
    },
    {
     "cell_type": "heading",
     "level": 1,
     "metadata": {},
     "source": [
      "Tensor functions of time"
     ]
    },
    {
     "cell_type": "markdown",
     "metadata": {},
     "source": [
      "Let's start out by creating one particular tensor function of time (in particular, something differentiable), then create the factory once we've got that done properly."
     ]
    },
    {
     "cell_type": "code",
     "collapsed": false,
     "input": [
      "class SigmaVec_nHat(Function, SymmetricTensorProduct):\n",
      "    "
     ],
     "language": "python",
     "metadata": {},
     "outputs": []
    },
    {
     "cell_type": "code",
     "collapsed": false,
     "input": [],
     "language": "python",
     "metadata": {},
     "outputs": []
    },
    {
     "cell_type": "code",
     "collapsed": false,
     "input": [],
     "language": "python",
     "metadata": {},
     "outputs": []
    },
    {
     "cell_type": "code",
     "collapsed": false,
     "input": [],
     "language": "python",
     "metadata": {},
     "outputs": []
    },
    {
     "cell_type": "code",
     "collapsed": false,
     "input": [],
     "language": "python",
     "metadata": {},
     "outputs": []
    },
    {
     "cell_type": "code",
     "collapsed": false,
     "input": [],
     "language": "python",
     "metadata": {},
     "outputs": []
    },
    {
     "cell_type": "code",
     "collapsed": false,
     "input": [],
     "language": "python",
     "metadata": {},
     "outputs": []
    },
    {
     "cell_type": "code",
     "collapsed": false,
     "input": [],
     "language": "python",
     "metadata": {},
     "outputs": []
    },
    {
     "cell_type": "code",
     "collapsed": false,
     "input": [],
     "language": "python",
     "metadata": {},
     "outputs": []
    }
   ],
   "metadata": {}
  }
 ]
}