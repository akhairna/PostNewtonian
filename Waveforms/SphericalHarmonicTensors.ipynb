{
 "metadata": {
  "name": "",
  "signature": "sha256:43e7e844013d11cd6df78a76194ffacd4d80e38e5bcdc9e86672c3ae45d1b682"
 },
 "nbformat": 3,
 "nbformat_minor": 0,
 "worksheets": [
  {
   "cells": [
    {
     "cell_type": "markdown",
     "metadata": {},
     "source": [
      "The necessary imports:"
     ]
    },
    {
     "cell_type": "code",
     "collapsed": false,
     "input": [
      "from __future__ import division\n",
      "import sympy\n",
      "from sympy import *\n",
      "from sympy import Rational as frac\n",
      "from sympy.core.numbers import Zero, One\n",
      "init_printing()"
     ],
     "language": "python",
     "metadata": {},
     "outputs": [],
     "prompt_number": 1
    },
    {
     "cell_type": "markdown",
     "metadata": {},
     "source": [
      "Just a few variables I'll be using to test things out:"
     ]
    },
    {
     "cell_type": "code",
     "collapsed": false,
     "input": [
      "var('vartheta, varphi')\n",
      "var('nu, m, delta, c, t')\n",
      "var('r, v, Omega', cls=Function)\n",
      "var('S_n, S_lambda, S_ell', cls=Function)\n",
      "var('Sigma_n, Sigma_lambda, Sigma_ell', cls=Function)\n",
      "\n",
      "var('nHat, lambdaHat, ellHat', cls=Function); # These will get redefined momentarily..."
     ],
     "language": "python",
     "metadata": {},
     "outputs": [
      {
       "metadata": {},
       "output_type": "pyout",
       "prompt_number": 2,
       "text": [
        "(nHat, lambdaHat, ellHat)"
       ]
      }
     ],
     "prompt_number": 2
    },
    {
     "cell_type": "heading",
     "level": 1,
     "metadata": {},
     "source": [
      "Various tensor classes"
     ]
    },
    {
     "cell_type": "code",
     "collapsed": false,
     "input": [
      "class VectorFunctionOfTime(Function):\n",
      "    def __or__(self,other):\n",
      "        return sum( s*o for s,o in zip(self, other) )\n",
      "\n",
      "class nHat(VectorFunctionOfTime):\n",
      "    def __iter__(self):\n",
      "        for c in [1,0,0]: yield c\n",
      "    def diff(self, *args, **kwargs):\n",
      "        return Omega(self.args[0])*lambdaHat\n",
      "    def _eval_derivative(self, *args, **kwargs):\n",
      "        return Omega(self.args[0])*lambdaHat\n",
      "nHat = nHat(t)\n",
      "\n",
      "class lambdaHat(VectorFunctionOfTime):\n",
      "    def __iter__(self):\n",
      "        for c in [0,1,0]: yield c\n",
      "    def diff(self, *args, **kwargs):\n",
      "        return -Omega(self.args[0])*nHat\n",
      "    def _eval_derivative(self, *args, **kwargs):\n",
      "        return -Omega(self.args[0])*nHat\n",
      "lambdaHat = lambdaHat(t)\n",
      "\n",
      "class ellHat(VectorFunctionOfTime):\n",
      "    def __iter__(self):\n",
      "        for c in [0,0,1]: yield c\n",
      "    def diff(self, *args, **kwargs):\n",
      "        return sympy.sympify(0)\n",
      "    def _eval_derivative(self, *args, **kwargs):\n",
      "        return sympy.sympify(0)\n",
      "ellHat = ellHat(t)"
     ],
     "language": "python",
     "metadata": {},
     "outputs": [],
     "prompt_number": 64
    },
    {
     "cell_type": "code",
     "collapsed": false,
     "input": [
      "def VectorFunctionFactory(Name, ComponentFunctions):\n",
      "    class Vector(VectorFunctionOfTime):\n",
      "        # Don't define a constructor; just inherit\n",
      "        def __iter__(self):\n",
      "            for c in ComponentFunctions: yield c\n",
      "        def diff(self, *args, **kwargs):\n",
      "            return VectorFunctionFactory(Vector.__name__+'Dot',\n",
      "                                         [c.diff(args[0]) for c in ComponentFunctions])(self.args[0])\n",
      "        def _eval_derivative(self, *args, **kwargs):\n",
      "            return VectorFunctionFactory(Vector.__name__+'Dot',\n",
      "                                         [c._eval_derivative(args[0]) for c in ComponentFunctions])(self.args[0])\n",
      "    Vector.__name__ = Name\n",
      "    return Vector\n",
      "SigmaVec = VectorFunctionFactory('SigmaVec', [Sigma_n(t), Sigma_lambda(t), Sigma_ell(t)])(t)\n",
      "SVec = VectorFunctionFactory('SVec', [S_n(t), S_lambda(t), S_ell(t)])(t)"
     ],
     "language": "python",
     "metadata": {},
     "outputs": [],
     "prompt_number": 117
    },
    {
     "cell_type": "code",
     "collapsed": false,
     "input": [
      "[c for c in nHat]"
     ],
     "language": "python",
     "metadata": {},
     "outputs": [
      {
       "latex": [
        "$$\\begin{bmatrix}1, & 0, & 0\\end{bmatrix}$$"
       ],
       "metadata": {},
       "output_type": "pyout",
       "png": "[encoded data removed]",
       "prompt_number": 118,
       "text": [
        "[1, 0, 0]"
       ]
      }
     ],
     "prompt_number": 118
    },
    {
     "cell_type": "code",
     "collapsed": false,
     "input": [
      "diff(nHat,t)"
     ],
     "language": "python",
     "metadata": {},
     "outputs": [
      {
       "latex": [
        "$$\\Omega{\\left (t \\right )} \\hat{\\lambda}{\\left (t \\right )}$$"
       ],
       "metadata": {},
       "output_type": "pyout",
       "png": "[encoded data removed]",
       "prompt_number": 119,
       "text": [
        "\u03a9(t)\u22c5\u03bb\u0302(t)"
       ]
      }
     ],
     "prompt_number": 119
    },
    {
     "cell_type": "code",
     "collapsed": false,
     "input": [
      "diff(nHat,t,t)"
     ],
     "language": "python",
     "metadata": {},
     "outputs": [
      {
       "latex": [
        "$$- \\Omega^{2}{\\left (t \\right )} \\hat{n}{\\left (t \\right )} + \\hat{\\lambda}{\\left (t \\right )} \\frac{d}{d t} \\Omega{\\left (t \\right )}$$"
       ],
       "metadata": {},
       "output_type": "pyout",
       "png": "[encoded data removed]",
       "prompt_number": 120,
       "text": [
        "   2                  d       \n",
        "- \u03a9 (t)\u22c5n\u0302(t) + \u03bb\u0302(t)\u22c5\u2500\u2500(\u03a9(t))\n",
        "                      dt      "
       ]
      }
     ],
     "prompt_number": 120
    },
    {
     "cell_type": "code",
     "collapsed": false,
     "input": [
      "diff(ellHat*nHat,t)"
     ],
     "language": "python",
     "metadata": {},
     "outputs": [
      {
       "latex": [
        "$$\\Omega{\\left (t \\right )} \\hat{\\ell}{\\left (t \\right )} \\hat{\\lambda}{\\left (t \\right )}$$"
       ],
       "metadata": {},
       "output_type": "pyout",
       "png": "[encoded data removed]",
       "prompt_number": 121,
       "text": [
        "\u03a9(t)\u22c5ell\u0302(t)\u22c5\u03bb\u0302(t)"
       ]
      }
     ],
     "prompt_number": 121
    },
    {
     "cell_type": "code",
     "collapsed": false,
     "input": [
      "SigmaVec|ellHat"
     ],
     "language": "python",
     "metadata": {},
     "outputs": [
      {
       "latex": [
        "$$\\Sigma_{\\ell}{\\left (t \\right )}$$"
       ],
       "metadata": {},
       "output_type": "pyout",
       "png": "[encoded data removed]",
       "prompt_number": 123,
       "text": [
        "\u03a3_ell(t)"
       ]
      }
     ],
     "prompt_number": 123
    },
    {
     "cell_type": "code",
     "collapsed": false,
     "input": [
      "diff(SigmaVec,t)"
     ],
     "language": "python",
     "metadata": {},
     "outputs": [
      {
       "latex": [
        "$$\\dot{\\vec{\\Sigma}}{\\left (t \\right )}$$"
       ],
       "metadata": {},
       "output_type": "pyout",
       "png": "[encoded data removed]",
       "prompt_number": 124,
       "text": [
        "\u03a3\u20d7\u0307(t)"
       ]
      }
     ],
     "prompt_number": 124
    },
    {
     "cell_type": "code",
     "collapsed": false,
     "input": [
      "diff(SigmaVec,t)|ellHat"
     ],
     "language": "python",
     "metadata": {},
     "outputs": [
      {
       "latex": [
        "$$\\frac{d}{d t} \\Sigma_{\\ell}{\\left (t \\right )}$$"
       ],
       "metadata": {},
       "output_type": "pyout",
       "png": "[encoded data removed]",
       "prompt_number": 125,
       "text": [
        "d           \n",
        "\u2500\u2500(\u03a3_ell(t))\n",
        "dt          "
       ]
      }
     ],
     "prompt_number": 125
    },
    {
     "cell_type": "code",
     "collapsed": false,
     "input": [
      "class TensorProduct(object):\n",
      "    LaTeXProductString = r'\\otimes'\n",
      "\n",
      "    def __init__(self, *vectors, **kwargs):\n",
      "        if(len(vectors)==1 and isinstance(vectors[0], TensorProduct)) :\n",
      "            self.coefficient = vectors[0].coefficient\n",
      "            self.vectors = vectors[0].vectors\n",
      "        else:\n",
      "            if('coefficient' in kwargs):\n",
      "                self.coefficient = kwargs['coefficient']\n",
      "            else:\n",
      "                self.coefficient = 1\n",
      "            self.vectors = list(vectors)\n",
      "\n",
      "    def rank(self):\n",
      "        return len(self.vectors)\n",
      "    \n",
      "    def __iter__(self):\n",
      "        for v in self.vectors: yield v\n",
      "\n",
      "    def has_same_basis_element(self, B):\n",
      "        return self.vectors == B.vectors\n",
      "\n",
      "    def contract(self,B):\n",
      "        if(B.rank() != self.rank()):\n",
      "            raise ValueError(\"Cannot contract rank-{0} tensor with rank-{1} tensor.\".format(self.rank(), B.rank()))\n",
      "        from sympy import prod\n",
      "        if(isinstance(B, TensorProduct)):\n",
      "            return (self.coefficient*B.coefficient)*prod([v|w for v,w in zip(self, B)])\n",
      "        else:\n",
      "            try:\n",
      "                if(B._is_tensor):\n",
      "                    return sum( [self.contract(t_p) for t_p in B] )\n",
      "            except AttributeError:\n",
      "                raise ValueError(\"Don't know how to contract TensorProduct with '{0}'\".format(type(B)))\n",
      "\n",
      "    def trace(self, j, k):\n",
      "        coefficient = sympy.simplify(self.coefficient * (self.vectors[j]|self.vectors[k]))\n",
      "        if(self.rank()==2):\n",
      "            return coefficient\n",
      "        if(coefficient==0): return 0\n",
      "        new = type(self)()\n",
      "        new.vectors = list(v for i,v in enumerate(self) if (i!=j and i!=k))\n",
      "        new.coefficient = coefficient\n",
      "        return new\n",
      "\n",
      "    def __mul__(self, B):\n",
      "        \"\"\"\n",
      "        Return the scalar or tensor product\n",
      "        \"\"\"\n",
      "        #print('TensorProduct.__mul__')\n",
      "        #print(type(B), type(self))\n",
      "        try:\n",
      "            if(B._is_tensor):\n",
      "                # Fall back to Tensor.__rmul__ by:\n",
      "                return NotImplemented\n",
      "        except AttributeError:\n",
      "            pass\n",
      "        if(isinstance(B, TensorProduct)):\n",
      "            # Do tensor product\n",
      "            new = type(self)(self)\n",
      "            new.vectors = self.vectors + B.vectors\n",
      "            new.coefficient = sympy.simplify( self.coefficient * B.coefficient )\n",
      "            #print('TensorProduct.__mul__ return 1')\n",
      "            return new\n",
      "        elif(isinstance(B, VectorFunctionOfTime)):\n",
      "            new = type(self)(self)\n",
      "            new.vectors = self.vectors + [B,]\n",
      "            #print('TensorProduct.__mul__ return 2')\n",
      "            return new\n",
      "        else:\n",
      "            # Otherwise, try scalar multiplication\n",
      "            if(sympy.simplify(B)==0): return 0\n",
      "            new = type(self)(self)\n",
      "            new.coefficient = sympy.simplify( new.coefficient * B )\n",
      "            #print('TensorProduct.__mul__ return 3')\n",
      "            return new\n",
      "\n",
      "    def __rmul__(self, B):\n",
      "        \"\"\"\n",
      "        Return the scalar or tensor product\n",
      "        \"\"\"\n",
      "        #print('TensorProduct.__rmul__')\n",
      "        #print(type(B), type(self))\n",
      "        try:\n",
      "            if(B._is_tensor):\n",
      "                # Fall back to Tensor.__mul__ by:\n",
      "                return NotImplemented\n",
      "        except AttributeError:\n",
      "            pass\n",
      "        if(isinstance(B, TensorProduct)):\n",
      "            new = type(self)(self)\n",
      "            new.vectors = B.vectors + self.vectors\n",
      "            new.coefficient = sympy.simplify( self.coefficient * B.coefficient )\n",
      "            #print('TensorProduct.__rmul__ return 1')\n",
      "            return new\n",
      "        elif(isinstance(B, VectorFunctionOfTime)):\n",
      "            new = type(self)(self)\n",
      "            new.vectors = [B,] + self.vectors\n",
      "            #print('TensorProduct.__rmul__ return 2')\n",
      "            return new\n",
      "        else:\n",
      "            # Otherwise, try scalar multiplication\n",
      "            if(sympy.simplify(B)==0): return 0\n",
      "            new = type(self)(self)\n",
      "            new.coefficient = sympy.simplify( new.coefficient * B )\n",
      "            #print('TensorProduct.__rmul__ return 3')\n",
      "            return new\n",
      "\n",
      "    def __str__(self):\n",
      "        if(self.coefficient==1):\n",
      "            return '[' + '*'.join([str(v) for v in self]) + ']'\n",
      "        return '[('+str(self.coefficient)+')' + '*' + '*'.join([str(v) for v in self]) + ']'\n",
      "\n",
      "    def __repr__(self):\n",
      "        if(self.coefficient==1):\n",
      "            return '[' + '*'.join([repr(v) for v in self]) + ']'\n",
      "        return '[('+repr(self.coefficient)+')' + '*' + '*'.join([repr(v) for v in self]) + ']'\n",
      "\n",
      "    def _latex_str_(self):\n",
      "        if(self.coefficient==1):\n",
      "            return r'\\,\\left[' + type(self).LaTeXProductString.join([sympy.latex(v) for v in self]) + r'\\right]'\n",
      "        return r'\\left[\\left('+sympy.latex(self.coefficient)+r'\\right)' + r'\\,' \\\n",
      "            + type(self).LaTeXProductString.join([sympy.latex(v) for v in self]) + r'\\right]'\n",
      "\n",
      "    def _repr_latex_(self):\n",
      "        return '$'+ self._latex_str_() + '$'\n",
      "\n",
      "\n",
      "\n",
      "class Tensor(object):\n",
      "    def __init__(self, *tensor_products, **kwargs):\n",
      "        if(len(tensor_products)==1 and isinstance(tensor_products[0], Tensor)) :\n",
      "            self.tensor_products = tensor_products[0].tensor_products\n",
      "        elif(len(tensor_products)==1 and isinstance(tensor_products[0], TensorProduct)) :\n",
      "            self.tensor_products = [tensor_products[0],]\n",
      "        else:\n",
      "            self.tensor_products = list(tensor_products)\n",
      "        if(len(self.tensor_products)>0):\n",
      "            rank=self.tensor_products[0].rank()\n",
      "            for tensor_product in self.tensor_products:\n",
      "                if(tensor_product.rank() != rank):\n",
      "                    raise ValueError(\"Cannot add rank-{0} tensor to rank-{1} tensors.\".format(tensor_product.rank(), rank))\n",
      "\n",
      "    @property\n",
      "    def _is_tensor(self):\n",
      "        \"Since this is a property, it can be called without parentheses\"\n",
      "        return True\n",
      "\n",
      "    def rank(self):\n",
      "        if(len(self.tensor_products)==0):\n",
      "            return 0\n",
      "        return self.tensor_products[0].rank()\n",
      "\n",
      "    def __iter__(self):\n",
      "        for t_p in self.tensor_products: yield t_p\n",
      "\n",
      "    def compress(self):\n",
      "        for i in range(len(self.tensor_products)):\n",
      "            removed_elements = []\n",
      "            for j in range(i+1,len(self.tensor_products)):\n",
      "                if self.tensor_products[i].has_same_basis_element(self.tensor_products[j]):\n",
      "                    self.tensor_products[i].coefficient = \\\n",
      "                        sympy.simplify( self.tensor_products[i].coefficient + self.tensor_products[j].coefficient )\n",
      "                    removed_elements.append(j)\n",
      "            if removed_elements:\n",
      "                if(self.tensor_products[i].coefficient==0):\n",
      "                    removed_elements += [i]\n",
      "                self.tensor_products = list(t_p for i,t_p in enumerate(self) if i not in removed_elements)\n",
      "        return self\n",
      "\n",
      "    def __add__(self, T):\n",
      "        if(self.rank()!=0 and T.rank()!=self.rank()):\n",
      "            raise ValueError(\"Cannot add rank-{0} tensor to rank-{1} tensor.\".format(T.rank(), self.rank()))\n",
      "        new = Tensor(self)\n",
      "        if(isinstance(T, Tensor)) :\n",
      "            new.tensor_products = self.tensor_products + T.tensor_products\n",
      "        elif(isinstance(T, TensorProduct)) :\n",
      "            new.tensor_products = self.tensor_products + [T,]\n",
      "        return new\n",
      "    \n",
      "    def __radd__(self, T):\n",
      "        return self+T\n",
      "\n",
      "    def contract(self, B):\n",
      "        if(B.rank() != self.rank()):\n",
      "            raise ValueError(\"Cannot contract rank-{0} tensor with rank-{1} tensor.\".format(self.rank(), B.rank()))\n",
      "        if(isinstance(B, Tensor)) :\n",
      "            return sum([T1|T2 for T1 in self for T2 in B])\n",
      "        elif(isinstance(B, TensorProduct)) :\n",
      "            return sum([T1|B  for T1 in self])\n",
      "\n",
      "    def trace(self, j=0, k=1):\n",
      "        t = sum([T.trace(j,k) for T in self])\n",
      "        try:\n",
      "            return t.compress()\n",
      "        except:\n",
      "            return t\n",
      "\n",
      "    def __mul__(self, B):\n",
      "        #print('Tensor.__mul__')\n",
      "        if(isinstance(B, Tensor)):\n",
      "            T = Tensor()\n",
      "            #print('Tensor.__mul__ starting list 1')\n",
      "            T.tensor_products = list(t_pA*t_pB for t_pA in self for t_pB in B)\n",
      "            #print('Tensor.__mul__ return 1')\n",
      "            return T.compress()\n",
      "        else:\n",
      "            T = Tensor()\n",
      "            #print('Tensor.__mul__ starting list 2')\n",
      "            T.tensor_products = list(t_p*B for t_p in self)\n",
      "            #print('Tensor.__mul__ return 2')\n",
      "            return T\n",
      "\n",
      "    def __rmul__(self, B):\n",
      "        #print('Tensor.__rmul__')\n",
      "        if(isinstance(B, Tensor)):\n",
      "            T = Tensor()\n",
      "            #print('Tensor.__rmul__ starting list 1')\n",
      "            T.tensor_products = list(t_pB*t_pA for t_pA in self for t_pB in B)\n",
      "            #print('Tensor.__rmul__ return 1')\n",
      "            return T.compress()\n",
      "        else:\n",
      "            T = Tensor()\n",
      "            #print('Tensor.__rmul__ starting list 2')\n",
      "            T.tensor_products = list(B*t_p for t_p in self)\n",
      "            #print('Tensor.__rmul__ return 2')\n",
      "            return T\n",
      "\n",
      "    def __str__(self):\n",
      "        return '{'+'\\n'.join([str(t_p) for t_p in self])+'}'\n",
      "\n",
      "    def __repr__(self):\n",
      "        return '{'+'\\n'.join([repr(t_p) for t_p in self])+'}'\n",
      "\n",
      "    def _latex_str_(self):\n",
      "        return r'&\\left\\{' + r' \\right. \\nonumber \\\\&\\quad \\left. + '.join([t_p._latex_str_() for t_p in self]) + r'\\right\\}'\n",
      "\n",
      "    def _repr_latex_(self):\n",
      "        return r'\\begin{align}'+ self._latex_str_() + r'\\end{align}'\n",
      "\n",
      "\n",
      "# Since the sum of two `TensorProduct`s is a `Tensor`, we\n",
      "# had to wait until we got here to define these methods:\n",
      "def TensorProduct__add__(self, T):\n",
      "    return Tensor(self)+T\n",
      "TensorProduct.__add__ = TensorProduct__add__\n",
      "TensorProduct.__radd__ = TensorProduct__add__\n",
      "\n",
      "\n",
      "\n",
      "class SymmetricTensorProduct(TensorProduct):\n",
      "    \"\"\"\n",
      "    Specialized class for symmetric tensor products\n",
      "    \n",
      "    **Note:**  If you multiply a SymmetricTensorProduct by\n",
      "    any TensorProduct (even if it's not symmetric), the result\n",
      "    will be symmetric.  This makes it easy to make STPs, but is\n",
      "    not how real tensor products work.\n",
      "    \n",
      "    This is a subclass of `TensorProduct` with the necessary\n",
      "    methods overridden.  Because it is subclassed, and `Tensor`\n",
      "    isn't very invasive, we can easily create tensors by adding\n",
      "    symmetric tensor products, and the `Tensor` need not even\n",
      "    know that it is symmetric.\n",
      "    \n",
      "    Note that the index of a `SymmetricTensorProduct` is not\n",
      "    symmetrized.  That is, if `S = v*w` for vectors `v` and `w`,\n",
      "    then `S[i,j] = v[i]*w[j]`.  The symmetric part is returned\n",
      "    by `S(i,j) = (v[i]*w[j]+v[j]*w[i])/2`.  But the various\n",
      "    methods are aware of this.\n",
      "    \"\"\"\n",
      "    LaTeXProductString = r'\\otimes_{\\mathrm{s}}'\n",
      "\n",
      "    def __init__(self, *vectors, **kwargs):\n",
      "        TensorProduct.__init__(self, *vectors, **kwargs)\n",
      "\n",
      "    def __call__(self, *indices):\n",
      "        \"\"\"\n",
      "        Get the (symmetrized) element at this index.\n",
      "        \"\"\"\n",
      "        if(len(indices)!=self.rank()):\n",
      "            print(indices)\n",
      "            raise ValueError(\"You need {0} indices to index a rank-{0} tensor, not {1}.\".format(self.rank(), len(indices)))\n",
      "        from itertools import permutations\n",
      "        from math import factorial\n",
      "        from sympy import prod\n",
      "        symmetrized_element = 0\n",
      "        for index in permutations(indices, len(indices)):\n",
      "            symmetrized_element += prod([v[i] for v,i in zip(self, index)])\n",
      "            #print(index, element, symmetrized_element)\n",
      "        return symmetrized_element*self.coefficient*Rational(1,factorial(self.rank()))\n",
      "\n",
      "    def has_same_basis_element(self, B):\n",
      "        return set(self.vectors) == set(B.vectors)\n",
      "\n",
      "    def ordered_as(self, index_set):\n",
      "        for i in index_set:\n",
      "            yield self.vectors[i]\n",
      "\n",
      "    def contract(self,B):\n",
      "        if(B.rank() != self.rank()):\n",
      "            raise ValueError(\"Cannot contract rank-{0} tensor with rank-{1} tensor.\".format(self.rank(), B.rank()))\n",
      "        from itertools import permutations\n",
      "        from sympy import prod\n",
      "        if(isinstance(B, TensorProduct)):\n",
      "            # If B is actually a SymmetricTensorProduct, it suffices to just\n",
      "            # iterate over rearrangements of `self`.\n",
      "            #return self.coefficient*B.coefficient*prod([sum([v[i]*w[i] for i in range(3)]) for v,w in zip(self, B)])\n",
      "            coefficient = sympy.simplify(self.coefficient*B.coefficient*frac(1,factorial(self.rank())))\n",
      "            if(coefficient==0): return 0\n",
      "            return sympy.simplify( coefficient * sum([prod([v|w for v,w in zip(self.ordered_as(index_set), B)])\n",
      "                                                      for index_set in permutations(range(self.rank()))]) )\n",
      "        elif(isinstance(B, Tensor)):\n",
      "            return sum( [self|t_p for t_p in B] )\n",
      "        else:\n",
      "            raise ValueError(\"Don't know how to contract SymmetricTensorProduct with '{0}'\".format(type(B)))\n",
      "\n",
      "    def trace(self, j=0, k=1):\n",
      "        \"\"\"\n",
      "        Any input elements are ignored, since we will be symmetrizing anyway\n",
      "        \"\"\"\n",
      "        T = Tensor()\n",
      "        from itertools import permutations\n",
      "        for j,k in permutations(range(self.rank()), 2):\n",
      "            coefficient = sympy.simplify( self.coefficient * (self.vectors[j]|self.vectors[k]) )\n",
      "            if(self.rank()==2):\n",
      "                return coefficient\n",
      "            if(coefficient==0):\n",
      "                continue\n",
      "            new = SymmetricTensorProduct()\n",
      "            new.vectors = list(v for i,v in enumerate(self.vectors) if (i!=j and i!=k))\n",
      "            new.coefficient = coefficient*frac(1,factorial(self.rank()))\n",
      "            T = T+new\n",
      "        return T.compress()\n"
     ],
     "language": "python",
     "metadata": {},
     "outputs": [],
     "prompt_number": 156
    },
    {
     "cell_type": "heading",
     "level": 2,
     "metadata": {},
     "source": [
      "Examples and tests"
     ]
    },
    {
     "cell_type": "code",
     "collapsed": false,
     "input": [
      "T1 = TensorProduct(SigmaVec, SigmaVec, ellHat, coefficient=1)\n",
      "display(T1)\n",
      "T1.trace(0,1)"
     ],
     "language": "python",
     "metadata": {},
     "outputs": [
      {
       "latex": [
        "$\\,\\left[\\vec{\\Sigma}{\\left (t \\right )}\\otimes\\vec{\\Sigma}{\\left (t \\right )}\\otimes\\hat{\\ell}{\\left (t \\right )}\\right]$"
       ],
       "metadata": {},
       "output_type": "display_data",
       "text": [
        "[SigmaVec(t)*SigmaVec(t)*ellHat(t)]"
       ]
      },
      {
       "latex": [
        "$\\left[\\left(\\Sigma_{\\ell}^{2}{\\left (t \\right )} + \\Sigma_{\\lambda}^{2}{\\left (t \\right )} + \\Sigma_{n}^{2}{\\left (t \\right )}\\right)\\,\\hat{\\ell}{\\left (t \\right )}\\right]$"
       ],
       "metadata": {},
       "output_type": "pyout",
       "prompt_number": 157,
       "text": [
        "[(Sigma_ell(t)**2 + Sigma_lambda(t)**2 + Sigma_n(t)**2)*ellHat(t)]"
       ]
      }
     ],
     "prompt_number": 157
    },
    {
     "cell_type": "code",
     "collapsed": false,
     "input": [
      "T2 = TensorProduct(SigmaVec, nHat, lambdaHat, coefficient=1)\n",
      "T2"
     ],
     "language": "python",
     "metadata": {},
     "outputs": [
      {
       "latex": [
        "$\\,\\left[\\vec{\\Sigma}{\\left (t \\right )}\\otimes\\hat{n}{\\left (t \\right )}\\otimes\\hat{\\lambda}{\\left (t \\right )}\\right]$"
       ],
       "metadata": {},
       "output_type": "pyout",
       "prompt_number": 158,
       "text": [
        "[SigmaVec(t)*nHat(t)*lambdaHat(t)]"
       ]
      }
     ],
     "prompt_number": 158
    },
    {
     "cell_type": "code",
     "collapsed": false,
     "input": [
      "T2*ellHat"
     ],
     "language": "python",
     "metadata": {},
     "outputs": [
      {
       "latex": [
        "$\\,\\left[\\vec{\\Sigma}{\\left (t \\right )}\\otimes\\hat{n}{\\left (t \\right )}\\otimes\\hat{\\lambda}{\\left (t \\right )}\\otimes\\hat{\\ell}{\\left (t \\right )}\\right]$"
       ],
       "metadata": {},
       "output_type": "pyout",
       "prompt_number": 159,
       "text": [
        "[SigmaVec(t)*nHat(t)*lambdaHat(t)*ellHat(t)]"
       ]
      }
     ],
     "prompt_number": 159
    },
    {
     "cell_type": "code",
     "collapsed": false,
     "input": [
      "ellHat*T2"
     ],
     "language": "python",
     "metadata": {},
     "outputs": [
      {
       "latex": [
        "$\\,\\left[\\hat{\\ell}{\\left (t \\right )}\\otimes\\vec{\\Sigma}{\\left (t \\right )}\\otimes\\hat{n}{\\left (t \\right )}\\otimes\\hat{\\lambda}{\\left (t \\right )}\\right]$"
       ],
       "metadata": {},
       "output_type": "pyout",
       "prompt_number": 160,
       "text": [
        "[ellHat(t)*SigmaVec(t)*nHat(t)*lambdaHat(t)]"
       ]
      }
     ],
     "prompt_number": 160
    },
    {
     "cell_type": "code",
     "collapsed": false,
     "input": [
      "T3 = SymmetricTensorProduct(SigmaVec, SigmaVec, ellHat, coefficient=1)\n",
      "display(T3)\n",
      "T3.trace(0,1)"
     ],
     "language": "python",
     "metadata": {},
     "outputs": [
      {
       "latex": [
        "$\\,\\left[\\vec{\\Sigma}{\\left (t \\right )}\\otimes_{\\mathrm{s}}\\vec{\\Sigma}{\\left (t \\right )}\\otimes_{\\mathrm{s}}\\hat{\\ell}{\\left (t \\right )}\\right]$"
       ],
       "metadata": {},
       "output_type": "display_data",
       "text": [
        "[SigmaVec(t)*SigmaVec(t)*ellHat(t)]"
       ]
      },
      {
       "latex": [
        "\\begin{align}&\\left\\{\\left[\\left(\\frac{1}{3} \\Sigma_{\\ell}^{2}{\\left (t \\right )} + \\frac{1}{3} \\Sigma_{\\lambda}^{2}{\\left (t \\right )} + \\frac{1}{3} \\Sigma_{n}^{2}{\\left (t \\right )}\\right)\\,\\hat{\\ell}{\\left (t \\right )}\\right] \\right. \\nonumber \\\\&\\quad \\left. + \\left[\\left(\\frac{2}{3} \\Sigma_{\\ell}{\\left (t \\right )}\\right)\\,\\vec{\\Sigma}{\\left (t \\right )}\\right]\\right\\}\\end{align}"
       ],
       "metadata": {},
       "output_type": "pyout",
       "prompt_number": 161,
       "text": [
        "{[(Sigma_ell(t)**2/3 + Sigma_lambda(t)**2/3 + Sigma_n(t)**2/3)*ellHat(t)]\n",
        "[(2*Sigma_ell(t)/3)*SigmaVec(t)]}"
       ]
      }
     ],
     "prompt_number": 161
    },
    {
     "cell_type": "code",
     "collapsed": false,
     "input": [
      "T3*ellHat"
     ],
     "language": "python",
     "metadata": {},
     "outputs": [
      {
       "latex": [
        "$\\,\\left[\\vec{\\Sigma}{\\left (t \\right )}\\otimes_{\\mathrm{s}}\\vec{\\Sigma}{\\left (t \\right )}\\otimes_{\\mathrm{s}}\\hat{\\ell}{\\left (t \\right )}\\otimes_{\\mathrm{s}}\\hat{\\ell}{\\left (t \\right )}\\right]$"
       ],
       "metadata": {},
       "output_type": "pyout",
       "prompt_number": 162,
       "text": [
        "[SigmaVec(t)*SigmaVec(t)*ellHat(t)*ellHat(t)]"
       ]
      }
     ],
     "prompt_number": 162
    },
    {
     "cell_type": "code",
     "collapsed": false,
     "input": [
      "ellHat*T3"
     ],
     "language": "python",
     "metadata": {},
     "outputs": [
      {
       "latex": [
        "$\\,\\left[\\hat{\\ell}{\\left (t \\right )}\\otimes_{\\mathrm{s}}\\vec{\\Sigma}{\\left (t \\right )}\\otimes_{\\mathrm{s}}\\vec{\\Sigma}{\\left (t \\right )}\\otimes_{\\mathrm{s}}\\hat{\\ell}{\\left (t \\right )}\\right]$"
       ],
       "metadata": {},
       "output_type": "pyout",
       "prompt_number": 163,
       "text": [
        "[ellHat(t)*SigmaVec(t)*SigmaVec(t)*ellHat(t)]"
       ]
      }
     ],
     "prompt_number": 163
    },
    {
     "cell_type": "code",
     "collapsed": false,
     "input": [
      "for k in range(1,4):\n",
      "    display((T2*ellHat).trace(0,k))"
     ],
     "language": "python",
     "metadata": {},
     "outputs": [
      {
       "latex": [
        "$\\left[\\left(\\Sigma_{n}{\\left (t \\right )}\\right)\\,\\hat{\\lambda}{\\left (t \\right )}\\otimes\\hat{\\ell}{\\left (t \\right )}\\right]$"
       ],
       "metadata": {},
       "output_type": "display_data",
       "text": [
        "[(Sigma_n(t))*lambdaHat(t)*ellHat(t)]"
       ]
      },
      {
       "latex": [
        "$\\left[\\left(\\Sigma_{\\lambda}{\\left (t \\right )}\\right)\\,\\hat{n}{\\left (t \\right )}\\otimes\\hat{\\ell}{\\left (t \\right )}\\right]$"
       ],
       "metadata": {},
       "output_type": "display_data",
       "text": [
        "[(Sigma_lambda(t))*nHat(t)*ellHat(t)]"
       ]
      },
      {
       "latex": [
        "$\\left[\\left(\\Sigma_{\\ell}{\\left (t \\right )}\\right)\\,\\hat{n}{\\left (t \\right )}\\otimes\\hat{\\lambda}{\\left (t \\right )}\\right]$"
       ],
       "metadata": {},
       "output_type": "display_data",
       "text": [
        "[(Sigma_ell(t))*nHat(t)*lambdaHat(t)]"
       ]
      }
     ],
     "prompt_number": 164
    },
    {
     "cell_type": "code",
     "collapsed": false,
     "input": [
      "T1+T2"
     ],
     "language": "python",
     "metadata": {},
     "outputs": [
      {
       "latex": [
        "\\begin{align}&\\left\\{\\,\\left[\\vec{\\Sigma}{\\left (t \\right )}\\otimes\\vec{\\Sigma}{\\left (t \\right )}\\otimes\\hat{\\ell}{\\left (t \\right )}\\right] \\right. \\nonumber \\\\&\\quad \\left. + \\,\\left[\\vec{\\Sigma}{\\left (t \\right )}\\otimes\\hat{n}{\\left (t \\right )}\\otimes\\hat{\\lambda}{\\left (t \\right )}\\right]\\right\\}\\end{align}"
       ],
       "metadata": {},
       "output_type": "pyout",
       "prompt_number": 166,
       "text": [
        "{[SigmaVec(t)*SigmaVec(t)*ellHat(t)]\n",
        "[SigmaVec(t)*nHat(t)*lambdaHat(t)]}"
       ]
      }
     ],
     "prompt_number": 166
    },
    {
     "cell_type": "code",
     "collapsed": false,
     "input": [
      "T1+T3"
     ],
     "language": "python",
     "metadata": {},
     "outputs": [
      {
       "latex": [
        "\\begin{align}&\\left\\{\\,\\left[\\vec{\\Sigma}{\\left (t \\right )}\\otimes\\vec{\\Sigma}{\\left (t \\right )}\\otimes\\hat{\\ell}{\\left (t \\right )}\\right] \\right. \\nonumber \\\\&\\quad \\left. + \\,\\left[\\vec{\\Sigma}{\\left (t \\right )}\\otimes_{\\mathrm{s}}\\vec{\\Sigma}{\\left (t \\right )}\\otimes_{\\mathrm{s}}\\hat{\\ell}{\\left (t \\right )}\\right]\\right\\}\\end{align}"
       ],
       "metadata": {},
       "output_type": "pyout",
       "prompt_number": 168,
       "text": [
        "{[SigmaVec(t)*SigmaVec(t)*ellHat(t)]\n",
        "[SigmaVec(t)*SigmaVec(t)*ellHat(t)]}"
       ]
      }
     ],
     "prompt_number": 168
    },
    {
     "cell_type": "code",
     "collapsed": false,
     "input": [
      "T1 = SymmetricTensorProduct(SigmaVec, SigmaVec, ellHat, nHat, coefficient=1)\n",
      "display(T1)\n",
      "display(T1.trace())"
     ],
     "language": "python",
     "metadata": {},
     "outputs": [
      {
       "latex": [
        "$\\,\\left[\\vec{\\Sigma}{\\left (t \\right )}\\otimes_{\\mathrm{s}}\\vec{\\Sigma}{\\left (t \\right )}\\otimes_{\\mathrm{s}}\\hat{\\ell}{\\left (t \\right )}\\otimes_{\\mathrm{s}}\\hat{n}{\\left (t \\right )}\\right]$"
       ],
       "metadata": {},
       "output_type": "display_data",
       "text": [
        "[SigmaVec(t)*SigmaVec(t)*ellHat(t)*nHat(t)]"
       ]
      },
      {
       "latex": [
        "\\begin{align}&\\left\\{\\left[\\left(\\frac{1}{12} \\Sigma_{\\ell}^{2}{\\left (t \\right )} + \\frac{1}{12} \\Sigma_{\\lambda}^{2}{\\left (t \\right )} + \\frac{1}{12} \\Sigma_{n}^{2}{\\left (t \\right )}\\right)\\,\\hat{\\ell}{\\left (t \\right )}\\otimes_{\\mathrm{s}}\\hat{n}{\\left (t \\right )}\\right] \\right. \\nonumber \\\\&\\quad \\left. + \\left[\\left(\\frac{1}{6} \\Sigma_{\\ell}{\\left (t \\right )}\\right)\\,\\vec{\\Sigma}{\\left (t \\right )}\\otimes_{\\mathrm{s}}\\hat{n}{\\left (t \\right )}\\right] \\right. \\nonumber \\\\&\\quad \\left. + \\left[\\left(\\frac{1}{6} \\Sigma_{n}{\\left (t \\right )}\\right)\\,\\vec{\\Sigma}{\\left (t \\right )}\\otimes_{\\mathrm{s}}\\hat{\\ell}{\\left (t \\right )}\\right]\\right\\}\\end{align}"
       ],
       "metadata": {},
       "output_type": "display_data",
       "text": [
        "{[(Sigma_ell(t)**2/12 + Sigma_lambda(t)**2/12 + Sigma_n(t)**2/12)*ellHat(t)*nHat(t)]\n",
        "[(Sigma_ell(t)/6)*SigmaVec(t)*nHat(t)]\n",
        "[(Sigma_n(t)/6)*SigmaVec(t)*ellHat(t)]}"
       ]
      }
     ],
     "prompt_number": 172
    },
    {
     "cell_type": "code",
     "collapsed": false,
     "input": [
      "T1*T2"
     ],
     "language": "python",
     "metadata": {},
     "outputs": [
      {
       "latex": [
        "$\\,\\left[\\vec{\\Sigma}{\\left (t \\right )}\\otimes_{\\mathrm{s}}\\vec{\\Sigma}{\\left (t \\right )}\\otimes_{\\mathrm{s}}\\hat{\\ell}{\\left (t \\right )}\\otimes_{\\mathrm{s}}\\hat{n}{\\left (t \\right )}\\otimes_{\\mathrm{s}}\\vec{\\Sigma}{\\left (t \\right )}\\otimes_{\\mathrm{s}}\\hat{n}{\\left (t \\right )}\\otimes_{\\mathrm{s}}\\hat{\\lambda}{\\left (t \\right )}\\right]$"
       ],
       "metadata": {},
       "output_type": "pyout",
       "prompt_number": 173,
       "text": [
        "[SigmaVec(t)*SigmaVec(t)*ellHat(t)*nHat(t)*SigmaVec(t)*nHat(t)*lambdaHat(t)]"
       ]
      }
     ],
     "prompt_number": 173
    },
    {
     "cell_type": "code",
     "collapsed": false,
     "input": [
      "T1.trace(0,1) * T2"
     ],
     "language": "python",
     "metadata": {},
     "outputs": [
      {
       "latex": [
        "\\begin{align}&\\left\\{\\left[\\left(\\frac{1}{12} \\Sigma_{\\ell}^{2}{\\left (t \\right )} + \\frac{1}{12} \\Sigma_{\\lambda}^{2}{\\left (t \\right )} + \\frac{1}{12} \\Sigma_{n}^{2}{\\left (t \\right )}\\right)\\,\\hat{\\ell}{\\left (t \\right )}\\otimes_{\\mathrm{s}}\\hat{n}{\\left (t \\right )}\\otimes_{\\mathrm{s}}\\vec{\\Sigma}{\\left (t \\right )}\\otimes_{\\mathrm{s}}\\hat{n}{\\left (t \\right )}\\otimes_{\\mathrm{s}}\\hat{\\lambda}{\\left (t \\right )}\\right] \\right. \\nonumber \\\\&\\quad \\left. + \\left[\\left(\\frac{1}{6} \\Sigma_{\\ell}{\\left (t \\right )}\\right)\\,\\vec{\\Sigma}{\\left (t \\right )}\\otimes_{\\mathrm{s}}\\hat{n}{\\left (t \\right )}\\otimes_{\\mathrm{s}}\\vec{\\Sigma}{\\left (t \\right )}\\otimes_{\\mathrm{s}}\\hat{n}{\\left (t \\right )}\\otimes_{\\mathrm{s}}\\hat{\\lambda}{\\left (t \\right )}\\right] \\right. \\nonumber \\\\&\\quad \\left. + \\left[\\left(\\frac{1}{6} \\Sigma_{n}{\\left (t \\right )}\\right)\\,\\vec{\\Sigma}{\\left (t \\right )}\\otimes_{\\mathrm{s}}\\hat{\\ell}{\\left (t \\right )}\\otimes_{\\mathrm{s}}\\vec{\\Sigma}{\\left (t \\right )}\\otimes_{\\mathrm{s}}\\hat{n}{\\left (t \\right )}\\otimes_{\\mathrm{s}}\\hat{\\lambda}{\\left (t \\right )}\\right]\\right\\}\\end{align}"
       ],
       "metadata": {},
       "output_type": "pyout",
       "prompt_number": 174,
       "text": [
        "{[(Sigma_ell(t)**2/12 + Sigma_lambda(t)**2/12 + Sigma_n(t)**2/12)*ellHat(t)*nHat(t)*SigmaVec(t)*nHat(t)*lambdaHat(t)]\n",
        "[(Sigma_ell(t)/6)*SigmaVec(t)*nHat(t)*SigmaVec(t)*nHat(t)*lambdaHat(t)]\n",
        "[(Sigma_n(t)/6)*SigmaVec(t)*ellHat(t)*SigmaVec(t)*nHat(t)*lambdaHat(t)]}"
       ]
      }
     ],
     "prompt_number": 174
    },
    {
     "cell_type": "code",
     "collapsed": false,
     "input": [
      "T = SymmetricTensorProduct(SigmaVec, nHat, lambdaHat, coefficient=1)"
     ],
     "language": "python",
     "metadata": {},
     "outputs": [],
     "prompt_number": 145
    },
    {
     "cell_type": "code",
     "collapsed": false,
     "input": [
      "SymmetricTensorProduct(nHat, nHat, nHat).trace()"
     ],
     "language": "python",
     "metadata": {},
     "outputs": [
      {
       "latex": [
        "\\begin{align}&\\left\\{\\,\\left[\\hat{n}{\\left (t \\right )}\\right]\\right\\}\\end{align}"
       ],
       "metadata": {},
       "output_type": "pyout",
       "prompt_number": 175,
       "text": [
        "{[nHat(t)]}"
       ]
      }
     ],
     "prompt_number": 175
    },
    {
     "cell_type": "heading",
     "level": 1,
     "metadata": {},
     "source": [
      "Defining the spherical-harmonic tensors"
     ]
    },
    {
     "cell_type": "markdown",
     "metadata": {},
     "source": [
      "[Thorne (1980)](http://link.aps.org/doi/10.1103/RevModPhys.52.299) gives a nice review, along with the following formulas:"
     ]
    },
    {
     "cell_type": "code",
     "collapsed": false,
     "input": [
      "def C(ell,m):\n",
      "    return (-1)**(m) * sympy.sqrt( frac(2*ell+1,4) * frac(factorial(ell-m), factorial(ell+m)) / sympy.pi )\n",
      "\n",
      "def a(ell,m,j):\n",
      "    return frac((-1)**j, 2**ell * factorial(j) * factorial(ell-j)) * frac(factorial(2*ell-2*j), factorial(ell-m-2*j))\n",
      "\n",
      "def YlmTensor(ell, m, OrthogonalRightHandedBasis=[[1,0,0], [0,1,0], [0,0,1]]):\n",
      "    from sympy import prod\n",
      "    xHat, yHat, zHat = OrthogonalRightHandedBasis\n",
      "    if(m<0):\n",
      "        mVec = [xi-sympy.I*yi for xi,yi in zip(xHat,yHat)]\n",
      "    else:\n",
      "        mVec = [xi+sympy.I*yi for xi,yi in zip(xHat,yHat)]\n",
      "    def TensorPart(ell,m,j):\n",
      "        return SymmetricTensorProduct(*((mVec,)*m + (zHat,)*(ell-2*j-m))) \\\n",
      "            * sympy.prod([sum([SymmetricTensorProduct(vHat, vHat) for vHat in OrthogonalRightHandedBasis]) for i in range(j)])\n",
      "    if(m<0):\n",
      "        Y = (-1)**(-m) * sum([(C(ell,-m) * a(ell,-m,j)) * TensorPart(ell,-m,j)\n",
      "                              for j in range(floor(frac(ell+m,2))+1) ])\n",
      "    else:\n",
      "        Y = sum([(C(ell,m) * a(ell,m,j)) * TensorPart(ell,m,j)\n",
      "                 for j in range(floor(frac(ell-m,2))+1) ])\n",
      "    try:\n",
      "        Y.compress()\n",
      "    except AttributeError:\n",
      "        pass\n",
      "    return Y\n",
      "\n",
      "def YlmTensorConjugate(ell, m, OrthogonalRightHandedBasis=[[1,0,0], [0,1,0], [0,0,1]]):\n",
      "    return (-1)**abs(m) * YlmTensor(ell, m, OrthogonalRightHandedBasis)\n",
      "\n",
      "def NTensor(ell):\n",
      "    return SymmetricTensorProduct(*(([sympy.sin(vartheta)*sympy.cos(varphi),\n",
      "                                      sympy.sin(vartheta)*sympy.sin(varphi),\n",
      "                                      sympy.cos(vartheta)],)*ell))"
     ],
     "language": "python",
     "metadata": {},
     "outputs": [],
     "prompt_number": 178
    },
    {
     "cell_type": "markdown",
     "metadata": {},
     "source": [
      "Let's take a look at those tensors:"
     ]
    },
    {
     "cell_type": "code",
     "collapsed": false,
     "input": [
      "for ell in range(2,5):\n",
      "    print('')\n",
      "    for m in range(-ell, ell+1):\n",
      "        print('(ell,m) = ({0},{1}):'.format(ell,m))\n",
      "        display( YlmTensor(ell,m) )"
     ],
     "language": "python",
     "metadata": {},
     "outputs": [
      {
       "output_type": "stream",
       "stream": "stdout",
       "text": [
        "\n",
        "(ell,m) = (2,-2):\n"
       ]
      },
      {
       "latex": [
        "$\\left(\\frac{\\sqrt{30}}{8 \\sqrt{\\pi}}\\right)\\,\\left\\{\\begin{bmatrix}1, & - i, & 0\\end{bmatrix}\\otimes_{\\mathrm{s}}\\begin{bmatrix}1, & - i, & 0\\end{bmatrix}\\right\\}$"
       ],
       "metadata": {},
       "output_type": "display_data",
       "text": [
        "(sqrt(30)/(8*sqrt(pi)))*{[1, -I, 0]*[1, -I, 0]}"
       ]
      },
      {
       "output_type": "stream",
       "stream": "stdout",
       "text": [
        "(ell,m) = (2,-1):\n"
       ]
      },
      {
       "latex": [
        "$\\left(\\frac{\\sqrt{30}}{4 \\sqrt{\\pi}}\\right)\\,\\left\\{\\begin{bmatrix}1, & - i, & 0\\end{bmatrix}\\otimes_{\\mathrm{s}}\\begin{bmatrix}0, & 0, & 1\\end{bmatrix}\\right\\}$"
       ],
       "metadata": {},
       "output_type": "display_data",
       "text": [
        "(sqrt(30)/(4*sqrt(pi)))*{[1, -I, 0]*[0, 0, 1]}"
       ]
      },
      {
       "output_type": "stream",
       "stream": "stdout",
       "text": [
        "(ell,m) = (2,0):\n"
       ]
      },
      {
       "latex": [
        "\\begin{align}&\\left(\\frac{\\sqrt{5}}{2 \\sqrt{\\pi}}\\right)\\,\\left\\{\\begin{bmatrix}0, & 0, & 1\\end{bmatrix}\\otimes_{\\mathrm{s}}\\begin{bmatrix}0, & 0, & 1\\end{bmatrix}\\right\\}\\nonumber \\\\& + \\left(- \\frac{\\sqrt{5}}{4 \\sqrt{\\pi}}\\right)\\,\\left\\{\\begin{bmatrix}1, & 0, & 0\\end{bmatrix}\\otimes_{\\mathrm{s}}\\begin{bmatrix}1, & 0, & 0\\end{bmatrix}\\right\\}\\nonumber \\\\& + \\left(- \\frac{\\sqrt{5}}{4 \\sqrt{\\pi}}\\right)\\,\\left\\{\\begin{bmatrix}0, & 1, & 0\\end{bmatrix}\\otimes_{\\mathrm{s}}\\begin{bmatrix}0, & 1, & 0\\end{bmatrix}\\right\\}\\end{align}"
       ],
       "metadata": {},
       "output_type": "display_data",
       "text": [
        "(sqrt(5)/(2*sqrt(pi)))*{[0, 0, 1]*[0, 0, 1]}\n",
        "(-sqrt(5)/(4*sqrt(pi)))*{[1, 0, 0]*[1, 0, 0]}\n",
        "(-sqrt(5)/(4*sqrt(pi)))*{[0, 1, 0]*[0, 1, 0]}"
       ]
      },
      {
       "output_type": "stream",
       "stream": "stdout",
       "text": [
        "(ell,m) = (2,1):\n"
       ]
      },
      {
       "latex": [
        "$\\left(- \\frac{\\sqrt{30}}{4 \\sqrt{\\pi}}\\right)\\,\\left\\{\\begin{bmatrix}1, & i, & 0\\end{bmatrix}\\otimes_{\\mathrm{s}}\\begin{bmatrix}0, & 0, & 1\\end{bmatrix}\\right\\}$"
       ],
       "metadata": {},
       "output_type": "display_data",
       "text": [
        "(-sqrt(30)/(4*sqrt(pi)))*{[1, I, 0]*[0, 0, 1]}"
       ]
      },
      {
       "output_type": "stream",
       "stream": "stdout",
       "text": [
        "(ell,m) = (2,2):\n"
       ]
      },
      {
       "latex": [
        "$\\left(\\frac{\\sqrt{30}}{8 \\sqrt{\\pi}}\\right)\\,\\left\\{\\begin{bmatrix}1, & i, & 0\\end{bmatrix}\\otimes_{\\mathrm{s}}\\begin{bmatrix}1, & i, & 0\\end{bmatrix}\\right\\}$"
       ],
       "metadata": {},
       "output_type": "display_data",
       "text": [
        "(sqrt(30)/(8*sqrt(pi)))*{[1, I, 0]*[1, I, 0]}"
       ]
      },
      {
       "output_type": "stream",
       "stream": "stdout",
       "text": [
        "\n",
        "(ell,m) = (3,-3):\n"
       ]
      },
      {
       "latex": [
        "$\\left(\\frac{\\sqrt{35}}{8 \\sqrt{\\pi}}\\right)\\,\\left\\{\\begin{bmatrix}1, & - i, & 0\\end{bmatrix}\\otimes_{\\mathrm{s}}\\begin{bmatrix}1, & - i, & 0\\end{bmatrix}\\otimes_{\\mathrm{s}}\\begin{bmatrix}1, & - i, & 0\\end{bmatrix}\\right\\}$"
       ],
       "metadata": {},
       "output_type": "display_data",
       "text": [
        "(sqrt(35)/(8*sqrt(pi)))*{[1, -I, 0]*[1, -I, 0]*[1, -I, 0]}"
       ]
      },
      {
       "output_type": "stream",
       "stream": "stdout",
       "text": [
        "(ell,m) = (3,-2):\n"
       ]
      },
      {
       "latex": [
        "$\\left(\\frac{\\sqrt{210}}{8 \\sqrt{\\pi}}\\right)\\,\\left\\{\\begin{bmatrix}1, & - i, & 0\\end{bmatrix}\\otimes_{\\mathrm{s}}\\begin{bmatrix}1, & - i, & 0\\end{bmatrix}\\otimes_{\\mathrm{s}}\\begin{bmatrix}0, & 0, & 1\\end{bmatrix}\\right\\}$"
       ],
       "metadata": {},
       "output_type": "display_data",
       "text": [
        "(sqrt(210)/(8*sqrt(pi)))*{[1, -I, 0]*[1, -I, 0]*[0, 0, 1]}"
       ]
      },
      {
       "output_type": "stream",
       "stream": "stdout",
       "text": [
        "(ell,m) = (3,-1):\n"
       ]
      },
      {
       "latex": [
        "\\begin{align}&\\left(\\frac{\\sqrt{21}}{2 \\sqrt{\\pi}}\\right)\\,\\left\\{\\begin{bmatrix}1, & - i, & 0\\end{bmatrix}\\otimes_{\\mathrm{s}}\\begin{bmatrix}0, & 0, & 1\\end{bmatrix}\\otimes_{\\mathrm{s}}\\begin{bmatrix}0, & 0, & 1\\end{bmatrix}\\right\\}\\nonumber \\\\& + \\left(- \\frac{\\sqrt{21}}{8 \\sqrt{\\pi}}\\right)\\,\\left\\{\\begin{bmatrix}1, & - i, & 0\\end{bmatrix}\\otimes_{\\mathrm{s}}\\begin{bmatrix}1, & 0, & 0\\end{bmatrix}\\otimes_{\\mathrm{s}}\\begin{bmatrix}1, & 0, & 0\\end{bmatrix}\\right\\}\\nonumber \\\\& + \\left(- \\frac{\\sqrt{21}}{8 \\sqrt{\\pi}}\\right)\\,\\left\\{\\begin{bmatrix}1, & - i, & 0\\end{bmatrix}\\otimes_{\\mathrm{s}}\\begin{bmatrix}0, & 1, & 0\\end{bmatrix}\\otimes_{\\mathrm{s}}\\begin{bmatrix}0, & 1, & 0\\end{bmatrix}\\right\\}\\end{align}"
       ],
       "metadata": {},
       "output_type": "display_data",
       "text": [
        "(sqrt(21)/(2*sqrt(pi)))*{[1, -I, 0]*[0, 0, 1]*[0, 0, 1]}\n",
        "(-sqrt(21)/(8*sqrt(pi)))*{[1, -I, 0]*[1, 0, 0]*[1, 0, 0]}\n",
        "(-sqrt(21)/(8*sqrt(pi)))*{[1, -I, 0]*[0, 1, 0]*[0, 1, 0]}"
       ]
      },
      {
       "output_type": "stream",
       "stream": "stdout",
       "text": [
        "(ell,m) = (3,0):\n"
       ]
      },
      {
       "latex": [
        "\\begin{align}&\\left(\\frac{\\sqrt{7}}{2 \\sqrt{\\pi}}\\right)\\,\\left\\{\\begin{bmatrix}0, & 0, & 1\\end{bmatrix}\\otimes_{\\mathrm{s}}\\begin{bmatrix}0, & 0, & 1\\end{bmatrix}\\otimes_{\\mathrm{s}}\\begin{bmatrix}0, & 0, & 1\\end{bmatrix}\\right\\}\\nonumber \\\\& + \\left(- \\frac{3 \\sqrt{7}}{4 \\sqrt{\\pi}}\\right)\\,\\left\\{\\begin{bmatrix}0, & 0, & 1\\end{bmatrix}\\otimes_{\\mathrm{s}}\\begin{bmatrix}1, & 0, & 0\\end{bmatrix}\\otimes_{\\mathrm{s}}\\begin{bmatrix}1, & 0, & 0\\end{bmatrix}\\right\\}\\nonumber \\\\& + \\left(- \\frac{3 \\sqrt{7}}{4 \\sqrt{\\pi}}\\right)\\,\\left\\{\\begin{bmatrix}0, & 0, & 1\\end{bmatrix}\\otimes_{\\mathrm{s}}\\begin{bmatrix}0, & 1, & 0\\end{bmatrix}\\otimes_{\\mathrm{s}}\\begin{bmatrix}0, & 1, & 0\\end{bmatrix}\\right\\}\\end{align}"
       ],
       "metadata": {},
       "output_type": "display_data",
       "text": [
        "(sqrt(7)/(2*sqrt(pi)))*{[0, 0, 1]*[0, 0, 1]*[0, 0, 1]}\n",
        "(-3*sqrt(7)/(4*sqrt(pi)))*{[0, 0, 1]*[1, 0, 0]*[1, 0, 0]}\n",
        "(-3*sqrt(7)/(4*sqrt(pi)))*{[0, 0, 1]*[0, 1, 0]*[0, 1, 0]}"
       ]
      },
      {
       "output_type": "stream",
       "stream": "stdout",
       "text": [
        "(ell,m) = (3,1):\n"
       ]
      },
      {
       "latex": [
        "\\begin{align}&\\left(- \\frac{\\sqrt{21}}{2 \\sqrt{\\pi}}\\right)\\,\\left\\{\\begin{bmatrix}1, & i, & 0\\end{bmatrix}\\otimes_{\\mathrm{s}}\\begin{bmatrix}0, & 0, & 1\\end{bmatrix}\\otimes_{\\mathrm{s}}\\begin{bmatrix}0, & 0, & 1\\end{bmatrix}\\right\\}\\nonumber \\\\& + \\left(\\frac{\\sqrt{21}}{8 \\sqrt{\\pi}}\\right)\\,\\left\\{\\begin{bmatrix}1, & i, & 0\\end{bmatrix}\\otimes_{\\mathrm{s}}\\begin{bmatrix}1, & 0, & 0\\end{bmatrix}\\otimes_{\\mathrm{s}}\\begin{bmatrix}1, & 0, & 0\\end{bmatrix}\\right\\}\\nonumber \\\\& + \\left(\\frac{\\sqrt{21}}{8 \\sqrt{\\pi}}\\right)\\,\\left\\{\\begin{bmatrix}1, & i, & 0\\end{bmatrix}\\otimes_{\\mathrm{s}}\\begin{bmatrix}0, & 1, & 0\\end{bmatrix}\\otimes_{\\mathrm{s}}\\begin{bmatrix}0, & 1, & 0\\end{bmatrix}\\right\\}\\end{align}"
       ],
       "metadata": {},
       "output_type": "display_data",
       "text": [
        "(-sqrt(21)/(2*sqrt(pi)))*{[1, I, 0]*[0, 0, 1]*[0, 0, 1]}\n",
        "(sqrt(21)/(8*sqrt(pi)))*{[1, I, 0]*[1, 0, 0]*[1, 0, 0]}\n",
        "(sqrt(21)/(8*sqrt(pi)))*{[1, I, 0]*[0, 1, 0]*[0, 1, 0]}"
       ]
      },
      {
       "output_type": "stream",
       "stream": "stdout",
       "text": [
        "(ell,m) = (3,2):\n"
       ]
      },
      {
       "latex": [
        "$\\left(\\frac{\\sqrt{210}}{8 \\sqrt{\\pi}}\\right)\\,\\left\\{\\begin{bmatrix}1, & i, & 0\\end{bmatrix}\\otimes_{\\mathrm{s}}\\begin{bmatrix}1, & i, & 0\\end{bmatrix}\\otimes_{\\mathrm{s}}\\begin{bmatrix}0, & 0, & 1\\end{bmatrix}\\right\\}$"
       ],
       "metadata": {},
       "output_type": "display_data",
       "text": [
        "(sqrt(210)/(8*sqrt(pi)))*{[1, I, 0]*[1, I, 0]*[0, 0, 1]}"
       ]
      },
      {
       "output_type": "stream",
       "stream": "stdout",
       "text": [
        "(ell,m) = (3,3):\n"
       ]
      },
      {
       "latex": [
        "$\\left(- \\frac{\\sqrt{35}}{8 \\sqrt{\\pi}}\\right)\\,\\left\\{\\begin{bmatrix}1, & i, & 0\\end{bmatrix}\\otimes_{\\mathrm{s}}\\begin{bmatrix}1, & i, & 0\\end{bmatrix}\\otimes_{\\mathrm{s}}\\begin{bmatrix}1, & i, & 0\\end{bmatrix}\\right\\}$"
       ],
       "metadata": {},
       "output_type": "display_data",
       "text": [
        "(-sqrt(35)/(8*sqrt(pi)))*{[1, I, 0]*[1, I, 0]*[1, I, 0]}"
       ]
      },
      {
       "output_type": "stream",
       "stream": "stdout",
       "text": [
        "\n",
        "(ell,m) = (4,-4):\n"
       ]
      },
      {
       "latex": [
        "$\\left(\\frac{3 \\sqrt{70}}{32 \\sqrt{\\pi}}\\right)\\,\\left\\{\\begin{bmatrix}1, & - i, & 0\\end{bmatrix}\\otimes_{\\mathrm{s}}\\begin{bmatrix}1, & - i, & 0\\end{bmatrix}\\otimes_{\\mathrm{s}}\\begin{bmatrix}1, & - i, & 0\\end{bmatrix}\\otimes_{\\mathrm{s}}\\begin{bmatrix}1, & - i, & 0\\end{bmatrix}\\right\\}$"
       ],
       "metadata": {},
       "output_type": "display_data",
       "text": [
        "(3*sqrt(70)/(32*sqrt(pi)))*{[1, -I, 0]*[1, -I, 0]*[1, -I, 0]*[1, -I, 0]}"
       ]
      },
      {
       "output_type": "stream",
       "stream": "stdout",
       "text": [
        "(ell,m) = (4,-3):\n"
       ]
      },
      {
       "latex": [
        "$\\left(\\frac{3 \\sqrt{35}}{8 \\sqrt{\\pi}}\\right)\\,\\left\\{\\begin{bmatrix}1, & - i, & 0\\end{bmatrix}\\otimes_{\\mathrm{s}}\\begin{bmatrix}1, & - i, & 0\\end{bmatrix}\\otimes_{\\mathrm{s}}\\begin{bmatrix}1, & - i, & 0\\end{bmatrix}\\otimes_{\\mathrm{s}}\\begin{bmatrix}0, & 0, & 1\\end{bmatrix}\\right\\}$"
       ],
       "metadata": {},
       "output_type": "display_data",
       "text": [
        "(3*sqrt(35)/(8*sqrt(pi)))*{[1, -I, 0]*[1, -I, 0]*[1, -I, 0]*[0, 0, 1]}"
       ]
      },
      {
       "output_type": "stream",
       "stream": "stdout",
       "text": [
        "(ell,m) = (4,-2):\n"
       ]
      },
      {
       "latex": [
        "\\begin{align}&\\left(\\frac{9 \\sqrt{10}}{8 \\sqrt{\\pi}}\\right)\\,\\left\\{\\begin{bmatrix}1, & - i, & 0\\end{bmatrix}\\otimes_{\\mathrm{s}}\\begin{bmatrix}1, & - i, & 0\\end{bmatrix}\\otimes_{\\mathrm{s}}\\begin{bmatrix}0, & 0, & 1\\end{bmatrix}\\otimes_{\\mathrm{s}}\\begin{bmatrix}0, & 0, & 1\\end{bmatrix}\\right\\}\\nonumber \\\\& + \\left(- \\frac{3 \\sqrt{10}}{16 \\sqrt{\\pi}}\\right)\\,\\left\\{\\begin{bmatrix}1, & - i, & 0\\end{bmatrix}\\otimes_{\\mathrm{s}}\\begin{bmatrix}1, & - i, & 0\\end{bmatrix}\\otimes_{\\mathrm{s}}\\begin{bmatrix}1, & 0, & 0\\end{bmatrix}\\otimes_{\\mathrm{s}}\\begin{bmatrix}1, & 0, & 0\\end{bmatrix}\\right\\}\\nonumber \\\\& + \\left(- \\frac{3 \\sqrt{10}}{16 \\sqrt{\\pi}}\\right)\\,\\left\\{\\begin{bmatrix}1, & - i, & 0\\end{bmatrix}\\otimes_{\\mathrm{s}}\\begin{bmatrix}1, & - i, & 0\\end{bmatrix}\\otimes_{\\mathrm{s}}\\begin{bmatrix}0, & 1, & 0\\end{bmatrix}\\otimes_{\\mathrm{s}}\\begin{bmatrix}0, & 1, & 0\\end{bmatrix}\\right\\}\\end{align}"
       ],
       "metadata": {},
       "output_type": "display_data",
       "text": [
        "(9*sqrt(10)/(8*sqrt(pi)))*{[1, -I, 0]*[1, -I, 0]*[0, 0, 1]*[0, 0, 1]}\n",
        "(-3*sqrt(10)/(16*sqrt(pi)))*{[1, -I, 0]*[1, -I, 0]*[1, 0, 0]*[1, 0, 0]}\n",
        "(-3*sqrt(10)/(16*sqrt(pi)))*{[1, -I, 0]*[1, -I, 0]*[0, 1, 0]*[0, 1, 0]}"
       ]
      },
      {
       "output_type": "stream",
       "stream": "stdout",
       "text": [
        "(ell,m) = (4,-1):\n"
       ]
      },
      {
       "latex": [
        "\\begin{align}&\\left(\\frac{3 \\sqrt{5}}{2 \\sqrt{\\pi}}\\right)\\,\\left\\{\\begin{bmatrix}1, & - i, & 0\\end{bmatrix}\\otimes_{\\mathrm{s}}\\begin{bmatrix}0, & 0, & 1\\end{bmatrix}\\otimes_{\\mathrm{s}}\\begin{bmatrix}0, & 0, & 1\\end{bmatrix}\\otimes_{\\mathrm{s}}\\begin{bmatrix}0, & 0, & 1\\end{bmatrix}\\right\\}\\nonumber \\\\& + \\left(- \\frac{9 \\sqrt{5}}{8 \\sqrt{\\pi}}\\right)\\,\\left\\{\\begin{bmatrix}1, & - i, & 0\\end{bmatrix}\\otimes_{\\mathrm{s}}\\begin{bmatrix}0, & 0, & 1\\end{bmatrix}\\otimes_{\\mathrm{s}}\\begin{bmatrix}1, & 0, & 0\\end{bmatrix}\\otimes_{\\mathrm{s}}\\begin{bmatrix}1, & 0, & 0\\end{bmatrix}\\right\\}\\nonumber \\\\& + \\left(- \\frac{9 \\sqrt{5}}{8 \\sqrt{\\pi}}\\right)\\,\\left\\{\\begin{bmatrix}1, & - i, & 0\\end{bmatrix}\\otimes_{\\mathrm{s}}\\begin{bmatrix}0, & 0, & 1\\end{bmatrix}\\otimes_{\\mathrm{s}}\\begin{bmatrix}0, & 1, & 0\\end{bmatrix}\\otimes_{\\mathrm{s}}\\begin{bmatrix}0, & 1, & 0\\end{bmatrix}\\right\\}\\end{align}"
       ],
       "metadata": {},
       "output_type": "display_data",
       "text": [
        "(3*sqrt(5)/(2*sqrt(pi)))*{[1, -I, 0]*[0, 0, 1]*[0, 0, 1]*[0, 0, 1]}\n",
        "(-9*sqrt(5)/(8*sqrt(pi)))*{[1, -I, 0]*[0, 0, 1]*[1, 0, 0]*[1, 0, 0]}\n",
        "(-9*sqrt(5)/(8*sqrt(pi)))*{[1, -I, 0]*[0, 0, 1]*[0, 1, 0]*[0, 1, 0]}"
       ]
      },
      {
       "output_type": "stream",
       "stream": "stdout",
       "text": [
        "(ell,m) = (4,0):\n"
       ]
      },
      {
       "latex": [
        "\\begin{align}&\\left(\\frac{3}{2 \\sqrt{\\pi}}\\right)\\,\\left\\{\\begin{bmatrix}0, & 0, & 1\\end{bmatrix}\\otimes_{\\mathrm{s}}\\begin{bmatrix}0, & 0, & 1\\end{bmatrix}\\otimes_{\\mathrm{s}}\\begin{bmatrix}0, & 0, & 1\\end{bmatrix}\\otimes_{\\mathrm{s}}\\begin{bmatrix}0, & 0, & 1\\end{bmatrix}\\right\\}\\nonumber \\\\& + \\left(- \\frac{9}{2 \\sqrt{\\pi}}\\right)\\,\\left\\{\\begin{bmatrix}0, & 0, & 1\\end{bmatrix}\\otimes_{\\mathrm{s}}\\begin{bmatrix}0, & 0, & 1\\end{bmatrix}\\otimes_{\\mathrm{s}}\\begin{bmatrix}1, & 0, & 0\\end{bmatrix}\\otimes_{\\mathrm{s}}\\begin{bmatrix}1, & 0, & 0\\end{bmatrix}\\right\\}\\nonumber \\\\& + \\left(- \\frac{9}{2 \\sqrt{\\pi}}\\right)\\,\\left\\{\\begin{bmatrix}0, & 0, & 1\\end{bmatrix}\\otimes_{\\mathrm{s}}\\begin{bmatrix}0, & 0, & 1\\end{bmatrix}\\otimes_{\\mathrm{s}}\\begin{bmatrix}0, & 1, & 0\\end{bmatrix}\\otimes_{\\mathrm{s}}\\begin{bmatrix}0, & 1, & 0\\end{bmatrix}\\right\\}\\nonumber \\\\& + \\left(\\frac{9}{16 \\sqrt{\\pi}}\\right)\\,\\left\\{\\begin{bmatrix}1, & 0, & 0\\end{bmatrix}\\otimes_{\\mathrm{s}}\\begin{bmatrix}1, & 0, & 0\\end{bmatrix}\\otimes_{\\mathrm{s}}\\begin{bmatrix}1, & 0, & 0\\end{bmatrix}\\otimes_{\\mathrm{s}}\\begin{bmatrix}1, & 0, & 0\\end{bmatrix}\\right\\}\\nonumber \\\\& + \\left(\\frac{9}{8 \\sqrt{\\pi}}\\right)\\,\\left\\{\\begin{bmatrix}1, & 0, & 0\\end{bmatrix}\\otimes_{\\mathrm{s}}\\begin{bmatrix}1, & 0, & 0\\end{bmatrix}\\otimes_{\\mathrm{s}}\\begin{bmatrix}0, & 1, & 0\\end{bmatrix}\\otimes_{\\mathrm{s}}\\begin{bmatrix}0, & 1, & 0\\end{bmatrix}\\right\\}\\nonumber \\\\& + \\left(\\frac{9}{16 \\sqrt{\\pi}}\\right)\\,\\left\\{\\begin{bmatrix}0, & 1, & 0\\end{bmatrix}\\otimes_{\\mathrm{s}}\\begin{bmatrix}0, & 1, & 0\\end{bmatrix}\\otimes_{\\mathrm{s}}\\begin{bmatrix}0, & 1, & 0\\end{bmatrix}\\otimes_{\\mathrm{s}}\\begin{bmatrix}0, & 1, & 0\\end{bmatrix}\\right\\}\\end{align}"
       ],
       "metadata": {},
       "output_type": "display_data",
       "text": [
        "(3/(2*sqrt(pi)))*{[0, 0, 1]*[0, 0, 1]*[0, 0, 1]*[0, 0, 1]}\n",
        "(-9/(2*sqrt(pi)))*{[0, 0, 1]*[0, 0, 1]*[1, 0, 0]*[1, 0, 0]}\n",
        "(-9/(2*sqrt(pi)))*{[0, 0, 1]*[0, 0, 1]*[0, 1, 0]*[0, 1, 0]}\n",
        "(9/(16*sqrt(pi)))*{[1, 0, 0]*[1, 0, 0]*[1, 0, 0]*[1, 0, 0]}\n",
        "(9/(8*sqrt(pi)))*{[1, 0, 0]*[1, 0, 0]*[0, 1, 0]*[0, 1, 0]}\n",
        "(9/(16*sqrt(pi)))*{[0, 1, 0]*[0, 1, 0]*[0, 1, 0]*[0, 1, 0]}"
       ]
      },
      {
       "output_type": "stream",
       "stream": "stdout",
       "text": [
        "(ell,m) = (4,1):\n"
       ]
      },
      {
       "latex": [
        "\\begin{align}&\\left(- \\frac{3 \\sqrt{5}}{2 \\sqrt{\\pi}}\\right)\\,\\left\\{\\begin{bmatrix}1, & i, & 0\\end{bmatrix}\\otimes_{\\mathrm{s}}\\begin{bmatrix}0, & 0, & 1\\end{bmatrix}\\otimes_{\\mathrm{s}}\\begin{bmatrix}0, & 0, & 1\\end{bmatrix}\\otimes_{\\mathrm{s}}\\begin{bmatrix}0, & 0, & 1\\end{bmatrix}\\right\\}\\nonumber \\\\& + \\left(\\frac{9 \\sqrt{5}}{8 \\sqrt{\\pi}}\\right)\\,\\left\\{\\begin{bmatrix}1, & i, & 0\\end{bmatrix}\\otimes_{\\mathrm{s}}\\begin{bmatrix}0, & 0, & 1\\end{bmatrix}\\otimes_{\\mathrm{s}}\\begin{bmatrix}1, & 0, & 0\\end{bmatrix}\\otimes_{\\mathrm{s}}\\begin{bmatrix}1, & 0, & 0\\end{bmatrix}\\right\\}\\nonumber \\\\& + \\left(\\frac{9 \\sqrt{5}}{8 \\sqrt{\\pi}}\\right)\\,\\left\\{\\begin{bmatrix}1, & i, & 0\\end{bmatrix}\\otimes_{\\mathrm{s}}\\begin{bmatrix}0, & 0, & 1\\end{bmatrix}\\otimes_{\\mathrm{s}}\\begin{bmatrix}0, & 1, & 0\\end{bmatrix}\\otimes_{\\mathrm{s}}\\begin{bmatrix}0, & 1, & 0\\end{bmatrix}\\right\\}\\end{align}"
       ],
       "metadata": {},
       "output_type": "display_data",
       "text": [
        "(-3*sqrt(5)/(2*sqrt(pi)))*{[1, I, 0]*[0, 0, 1]*[0, 0, 1]*[0, 0, 1]}\n",
        "(9*sqrt(5)/(8*sqrt(pi)))*{[1, I, 0]*[0, 0, 1]*[1, 0, 0]*[1, 0, 0]}\n",
        "(9*sqrt(5)/(8*sqrt(pi)))*{[1, I, 0]*[0, 0, 1]*[0, 1, 0]*[0, 1, 0]}"
       ]
      },
      {
       "output_type": "stream",
       "stream": "stdout",
       "text": [
        "(ell,m) = (4,2):\n"
       ]
      },
      {
       "latex": [
        "\\begin{align}&\\left(\\frac{9 \\sqrt{10}}{8 \\sqrt{\\pi}}\\right)\\,\\left\\{\\begin{bmatrix}1, & i, & 0\\end{bmatrix}\\otimes_{\\mathrm{s}}\\begin{bmatrix}1, & i, & 0\\end{bmatrix}\\otimes_{\\mathrm{s}}\\begin{bmatrix}0, & 0, & 1\\end{bmatrix}\\otimes_{\\mathrm{s}}\\begin{bmatrix}0, & 0, & 1\\end{bmatrix}\\right\\}\\nonumber \\\\& + \\left(- \\frac{3 \\sqrt{10}}{16 \\sqrt{\\pi}}\\right)\\,\\left\\{\\begin{bmatrix}1, & i, & 0\\end{bmatrix}\\otimes_{\\mathrm{s}}\\begin{bmatrix}1, & i, & 0\\end{bmatrix}\\otimes_{\\mathrm{s}}\\begin{bmatrix}1, & 0, & 0\\end{bmatrix}\\otimes_{\\mathrm{s}}\\begin{bmatrix}1, & 0, & 0\\end{bmatrix}\\right\\}\\nonumber \\\\& + \\left(- \\frac{3 \\sqrt{10}}{16 \\sqrt{\\pi}}\\right)\\,\\left\\{\\begin{bmatrix}1, & i, & 0\\end{bmatrix}\\otimes_{\\mathrm{s}}\\begin{bmatrix}1, & i, & 0\\end{bmatrix}\\otimes_{\\mathrm{s}}\\begin{bmatrix}0, & 1, & 0\\end{bmatrix}\\otimes_{\\mathrm{s}}\\begin{bmatrix}0, & 1, & 0\\end{bmatrix}\\right\\}\\end{align}"
       ],
       "metadata": {},
       "output_type": "display_data",
       "text": [
        "(9*sqrt(10)/(8*sqrt(pi)))*{[1, I, 0]*[1, I, 0]*[0, 0, 1]*[0, 0, 1]}\n",
        "(-3*sqrt(10)/(16*sqrt(pi)))*{[1, I, 0]*[1, I, 0]*[1, 0, 0]*[1, 0, 0]}\n",
        "(-3*sqrt(10)/(16*sqrt(pi)))*{[1, I, 0]*[1, I, 0]*[0, 1, 0]*[0, 1, 0]}"
       ]
      },
      {
       "output_type": "stream",
       "stream": "stdout",
       "text": [
        "(ell,m) = (4,3):\n"
       ]
      },
      {
       "latex": [
        "$\\left(- \\frac{3 \\sqrt{35}}{8 \\sqrt{\\pi}}\\right)\\,\\left\\{\\begin{bmatrix}1, & i, & 0\\end{bmatrix}\\otimes_{\\mathrm{s}}\\begin{bmatrix}1, & i, & 0\\end{bmatrix}\\otimes_{\\mathrm{s}}\\begin{bmatrix}1, & i, & 0\\end{bmatrix}\\otimes_{\\mathrm{s}}\\begin{bmatrix}0, & 0, & 1\\end{bmatrix}\\right\\}$"
       ],
       "metadata": {},
       "output_type": "display_data",
       "text": [
        "(-3*sqrt(35)/(8*sqrt(pi)))*{[1, I, 0]*[1, I, 0]*[1, I, 0]*[0, 0, 1]}"
       ]
      },
      {
       "output_type": "stream",
       "stream": "stdout",
       "text": [
        "(ell,m) = (4,4):\n"
       ]
      },
      {
       "latex": [
        "$\\left(\\frac{3 \\sqrt{70}}{32 \\sqrt{\\pi}}\\right)\\,\\left\\{\\begin{bmatrix}1, & i, & 0\\end{bmatrix}\\otimes_{\\mathrm{s}}\\begin{bmatrix}1, & i, & 0\\end{bmatrix}\\otimes_{\\mathrm{s}}\\begin{bmatrix}1, & i, & 0\\end{bmatrix}\\otimes_{\\mathrm{s}}\\begin{bmatrix}1, & i, & 0\\end{bmatrix}\\right\\}$"
       ],
       "metadata": {},
       "output_type": "display_data",
       "text": [
        "(3*sqrt(70)/(32*sqrt(pi)))*{[1, I, 0]*[1, I, 0]*[1, I, 0]*[1, I, 0]}"
       ]
      }
     ],
     "prompt_number": 107
    },
    {
     "cell_type": "code",
     "collapsed": false,
     "input": [
      "NTensor(2)"
     ],
     "language": "python",
     "metadata": {},
     "outputs": [
      {
       "latex": [
        "$\\left(1\\right)\\,\\left\\{\\begin{bmatrix}\\sin{\\left (\\vartheta \\right )} \\cos{\\left (\\varphi \\right )}, & \\sin{\\left (\\varphi \\right )} \\sin{\\left (\\vartheta \\right )}, & \\cos{\\left (\\vartheta \\right )}\\end{bmatrix}\\otimes_{\\mathrm{s}}\\begin{bmatrix}\\sin{\\left (\\vartheta \\right )} \\cos{\\left (\\varphi \\right )}, & \\sin{\\left (\\varphi \\right )} \\sin{\\left (\\vartheta \\right )}, & \\cos{\\left (\\vartheta \\right )}\\end{bmatrix}\\right\\}$"
       ],
       "metadata": {},
       "output_type": "pyout",
       "prompt_number": 85,
       "text": [
        "(1)*{[sin(vartheta)*cos(varphi), sin(varphi)*sin(vartheta), cos(vartheta)]*[sin(vartheta)*cos(varphi), sin(varphi)*sin(vartheta), cos(vartheta)]}"
       ]
      }
     ],
     "prompt_number": 85
    },
    {
     "cell_type": "heading",
     "level": 1,
     "metadata": {},
     "source": [
      "Spherical-harmonic functions"
     ]
    },
    {
     "cell_type": "markdown",
     "metadata": {},
     "source": [
      "So now, I can just contract the $Y^{\\ell,m}_L$ tensors with the $N_L$ tensors to get the usual spherical harmonics:"
     ]
    },
    {
     "cell_type": "code",
     "collapsed": false,
     "input": [
      "for ell in range(3):\n",
      "    print('')\n",
      "    for m in range(-ell, ell+1):\n",
      "        print('(ell,m) = ({0},{1}):'.format(ell,m))\n",
      "        display(exptrigsimp(YlmTensor(ell,m).contract(NTensor(ell))))"
     ],
     "language": "python",
     "metadata": {},
     "outputs": [
      {
       "output_type": "stream",
       "stream": "stdout",
       "text": [
        "\n",
        "(ell,m) = (0,0):\n"
       ]
      },
      {
       "latex": [
        "$$\\frac{1}{2 \\sqrt{\\pi}}$$"
       ],
       "metadata": {},
       "output_type": "display_data",
       "png": "[encoded data removed]",
       "text": [
        "   1   \n",
        "\u2500\u2500\u2500\u2500\u2500\u2500\u2500\n",
        "    ___\n",
        "2\u22c5\u2572\u2571 \u03c0 "
       ]
      },
      {
       "output_type": "stream",
       "stream": "stdout",
       "text": [
        "\n",
        "(ell,m) = (1,-1):\n"
       ]
      },
      {
       "latex": [
        "$$\\frac{\\sqrt{6} e^{- i \\varphi}}{4 \\sqrt{\\pi}} \\sin{\\left (\\vartheta \\right )}$$"
       ],
       "metadata": {},
       "output_type": "display_data",
       "png": "[encoded data removed]",
       "text": [
        "  ___  -\u2148\u22c5varphi              \n",
        "\u2572\u2571 6 \u22c5\u212f         \u22c5sin(vartheta)\n",
        "\u2500\u2500\u2500\u2500\u2500\u2500\u2500\u2500\u2500\u2500\u2500\u2500\u2500\u2500\u2500\u2500\u2500\u2500\u2500\u2500\u2500\u2500\u2500\u2500\u2500\u2500\u2500\u2500\u2500\u2500\n",
        "               ___            \n",
        "           4\u22c5\u2572\u2571 \u03c0             "
       ]
      },
      {
       "output_type": "stream",
       "stream": "stdout",
       "text": [
        "(ell,m) = (1,0):\n"
       ]
      },
      {
       "latex": [
        "$$\\frac{\\sqrt{3}}{2 \\sqrt{\\pi}} \\cos{\\left (\\vartheta \\right )}$$"
       ],
       "metadata": {},
       "output_type": "display_data",
       "png": "[encoded data removed]",
       "text": [
        "  ___              \n",
        "\u2572\u2571 3 \u22c5cos(vartheta)\n",
        "\u2500\u2500\u2500\u2500\u2500\u2500\u2500\u2500\u2500\u2500\u2500\u2500\u2500\u2500\u2500\u2500\u2500\u2500\u2500\n",
        "          ___      \n",
        "      2\u22c5\u2572\u2571 \u03c0       "
       ]
      },
      {
       "output_type": "stream",
       "stream": "stdout",
       "text": [
        "(ell,m) = (1,1):\n"
       ]
      },
      {
       "latex": [
        "$$- \\frac{\\sqrt{6} e^{i \\varphi}}{4 \\sqrt{\\pi}} \\sin{\\left (\\vartheta \\right )}$$"
       ],
       "metadata": {},
       "output_type": "display_data",
       "png": "[encoded data removed]",
       "text": [
        "   ___  \u2148\u22c5varphi               \n",
        "-\u2572\u2571 6 \u22c5\u212f        \u22c5sin(vartheta) \n",
        "\u2500\u2500\u2500\u2500\u2500\u2500\u2500\u2500\u2500\u2500\u2500\u2500\u2500\u2500\u2500\u2500\u2500\u2500\u2500\u2500\u2500\u2500\u2500\u2500\u2500\u2500\u2500\u2500\u2500\u2500\u2500\n",
        "                ___            \n",
        "            4\u22c5\u2572\u2571 \u03c0             "
       ]
      },
      {
       "output_type": "stream",
       "stream": "stdout",
       "text": [
        "\n",
        "(ell,m) = (2,-2):\n"
       ]
      },
      {
       "latex": [
        "$$\\frac{\\sqrt{30}}{8 \\sqrt{\\pi}} e^{- 2 i \\varphi} \\sin^{2}{\\left (\\vartheta \\right )}$$"
       ],
       "metadata": {},
       "output_type": "display_data",
       "png": "[encoded data removed]",
       "text": [
        "  ____  -2\u22c5\u2148\u22c5varphi    2          \n",
        "\u2572\u2571 30 \u22c5\u212f           \u22c5sin (vartheta)\n",
        "\u2500\u2500\u2500\u2500\u2500\u2500\u2500\u2500\u2500\u2500\u2500\u2500\u2500\u2500\u2500\u2500\u2500\u2500\u2500\u2500\u2500\u2500\u2500\u2500\u2500\u2500\u2500\u2500\u2500\u2500\u2500\u2500\u2500\u2500\n",
        "                 ___              \n",
        "             8\u22c5\u2572\u2571 \u03c0               "
       ]
      },
      {
       "output_type": "stream",
       "stream": "stdout",
       "text": [
        "(ell,m) = (2,-1):\n"
       ]
      },
      {
       "latex": [
        "$$- \\frac{\\sqrt{30}}{4 \\sqrt{\\pi}} \\left(i \\sin{\\left (\\varphi \\right )} - \\cos{\\left (\\varphi \\right )}\\right) \\sin{\\left (\\vartheta \\right )} \\cos{\\left (\\vartheta \\right )}$$"
       ],
       "metadata": {},
       "output_type": "display_data",
       "png": "[encoded data removed]",
       "text": [
        "   ____                                                           \n",
        "-\u2572\u2571 30 \u22c5(\u2148\u22c5sin(varphi) - cos(varphi))\u22c5sin(vartheta)\u22c5cos(vartheta) \n",
        "\u2500\u2500\u2500\u2500\u2500\u2500\u2500\u2500\u2500\u2500\u2500\u2500\u2500\u2500\u2500\u2500\u2500\u2500\u2500\u2500\u2500\u2500\u2500\u2500\u2500\u2500\u2500\u2500\u2500\u2500\u2500\u2500\u2500\u2500\u2500\u2500\u2500\u2500\u2500\u2500\u2500\u2500\u2500\u2500\u2500\u2500\u2500\u2500\u2500\u2500\u2500\u2500\u2500\u2500\u2500\u2500\u2500\u2500\u2500\u2500\u2500\u2500\u2500\u2500\u2500\u2500\n",
        "                                 ___                              \n",
        "                             4\u22c5\u2572\u2571 \u03c0                               "
       ]
      },
      {
       "output_type": "stream",
       "stream": "stdout",
       "text": [
        "(ell,m) = (2,0):\n"
       ]
      },
      {
       "latex": [
        "$$\\frac{\\sqrt{5}}{4 \\sqrt{\\pi}} \\left(- 3 \\sin^{2}{\\left (\\vartheta \\right )} + 2\\right)$$"
       ],
       "metadata": {},
       "output_type": "display_data",
       "png": "[encoded data removed]",
       "text": [
        "  ___ \u239b       2              \u239e\n",
        "\u2572\u2571 5 \u22c5\u239d- 3\u22c5sin (vartheta) + 2\u23a0\n",
        "\u2500\u2500\u2500\u2500\u2500\u2500\u2500\u2500\u2500\u2500\u2500\u2500\u2500\u2500\u2500\u2500\u2500\u2500\u2500\u2500\u2500\u2500\u2500\u2500\u2500\u2500\u2500\u2500\u2500\u2500\n",
        "               ___            \n",
        "           4\u22c5\u2572\u2571 \u03c0             "
       ]
      },
      {
       "output_type": "stream",
       "stream": "stdout",
       "text": [
        "(ell,m) = (2,1):\n"
       ]
      },
      {
       "latex": [
        "$$- \\frac{\\sqrt{30} e^{i \\varphi}}{4 \\sqrt{\\pi}} \\sin{\\left (\\vartheta \\right )} \\cos{\\left (\\vartheta \\right )}$$"
       ],
       "metadata": {},
       "output_type": "display_data",
       "png": "[encoded data removed]",
       "text": [
        "   ____  \u2148\u22c5varphi                             \n",
        "-\u2572\u2571 30 \u22c5\u212f        \u22c5sin(vartheta)\u22c5cos(vartheta) \n",
        "\u2500\u2500\u2500\u2500\u2500\u2500\u2500\u2500\u2500\u2500\u2500\u2500\u2500\u2500\u2500\u2500\u2500\u2500\u2500\u2500\u2500\u2500\u2500\u2500\u2500\u2500\u2500\u2500\u2500\u2500\u2500\u2500\u2500\u2500\u2500\u2500\u2500\u2500\u2500\u2500\u2500\u2500\u2500\u2500\u2500\u2500\n",
        "                       ___                    \n",
        "                   4\u22c5\u2572\u2571 \u03c0                     "
       ]
      },
      {
       "output_type": "stream",
       "stream": "stdout",
       "text": [
        "(ell,m) = (2,2):\n"
       ]
      },
      {
       "latex": [
        "$$\\frac{\\sqrt{30} e^{2 i \\varphi}}{8 \\sqrt{\\pi}} \\sin^{2}{\\left (\\vartheta \\right )}$$"
       ],
       "metadata": {},
       "output_type": "display_data",
       "png": "[encoded data removed]",
       "text": [
        "  ____  2\u22c5\u2148\u22c5varphi    2          \n",
        "\u2572\u2571 30 \u22c5\u212f          \u22c5sin (vartheta)\n",
        "\u2500\u2500\u2500\u2500\u2500\u2500\u2500\u2500\u2500\u2500\u2500\u2500\u2500\u2500\u2500\u2500\u2500\u2500\u2500\u2500\u2500\u2500\u2500\u2500\u2500\u2500\u2500\u2500\u2500\u2500\u2500\u2500\u2500\n",
        "                 ___             \n",
        "             8\u22c5\u2572\u2571 \u03c0              "
       ]
      }
     ],
     "prompt_number": 172
    },
    {
     "cell_type": "markdown",
     "metadata": {},
     "source": [
      "These values match, e.g., the ones on Wikipedia's [spherical-harmonics page](https://en.wikipedia.org/wiki/Spherical_harmonics#List_of_spherical_harmonics)."
     ]
    },
    {
     "cell_type": "heading",
     "level": 2,
     "metadata": {},
     "source": [
      "Traces of the Spherical-harmonic tensors"
     ]
    },
    {
     "cell_type": "markdown",
     "metadata": {},
     "source": [
      "We can also see that the traces are zero.  Some come out explicitly as zero.  The ones that don't appear at all are a different kind of zero.  And the rest are easily seen to have zero trace.  This is nice, because it means we don't have to explicitly remove the traces from either these or the tensors with which they will be contracted."
     ]
    },
    {
     "cell_type": "code",
     "collapsed": false,
     "input": [
      "for ell in range(2,5):\n",
      "    print('')\n",
      "    for m in range(-ell, ell+1):\n",
      "        print('(ell,m) = ({0},{1}):'.format(ell,m))\n",
      "        #display( YlmTensor(ell,m) )\n",
      "        display( YlmTensor(ell,m).trace() )"
     ],
     "language": "python",
     "metadata": {},
     "outputs": [
      {
       "output_type": "stream",
       "stream": "stdout",
       "text": [
        "\n",
        "(ell,m) = (2,-2):\n"
       ]
      },
      {
       "latex": [
        "$$0$$"
       ],
       "metadata": {},
       "output_type": "display_data",
       "png": "[encoded data removed]",
       "text": [
        "0"
       ]
      },
      {
       "output_type": "stream",
       "stream": "stdout",
       "text": [
        "(ell,m) = (2,-1):\n"
       ]
      },
      {
       "latex": [
        "$$0$$"
       ],
       "metadata": {},
       "output_type": "display_data",
       "png": "[encoded data removed]",
       "text": [
        "0"
       ]
      },
      {
       "output_type": "stream",
       "stream": "stdout",
       "text": [
        "(ell,m) = (2,0):\n"
       ]
      },
      {
       "latex": [
        "$$0$$"
       ],
       "metadata": {},
       "output_type": "display_data",
       "png": "[encoded data removed]",
       "text": [
        "0"
       ]
      },
      {
       "output_type": "stream",
       "stream": "stdout",
       "text": [
        "(ell,m) = (2,1):\n"
       ]
      },
      {
       "latex": [
        "$$0$$"
       ],
       "metadata": {},
       "output_type": "display_data",
       "png": "[encoded data removed]",
       "text": [
        "0"
       ]
      },
      {
       "output_type": "stream",
       "stream": "stdout",
       "text": [
        "(ell,m) = (2,2):\n"
       ]
      },
      {
       "latex": [
        "$$0$$"
       ],
       "metadata": {},
       "output_type": "display_data",
       "png": "[encoded data removed]",
       "text": [
        "0"
       ]
      },
      {
       "output_type": "stream",
       "stream": "stdout",
       "text": [
        "\n",
        "(ell,m) = (3,-3):\n"
       ]
      },
      {
       "latex": [
        "\\begin{align}&\\end{align}"
       ],
       "metadata": {},
       "output_type": "display_data",
       "text": []
      },
      {
       "output_type": "stream",
       "stream": "stdout",
       "text": [
        "(ell,m) = (3,-2):\n"
       ]
      },
      {
       "latex": [
        "\\begin{align}&\\end{align}"
       ],
       "metadata": {},
       "output_type": "display_data",
       "text": []
      },
      {
       "output_type": "stream",
       "stream": "stdout",
       "text": [
        "(ell,m) = (3,-1):\n"
       ]
      },
      {
       "latex": [
        "\\begin{align}&\\left(\\frac{\\sqrt{21}}{12 \\sqrt{\\pi}}\\right)\\,\\left\\{\\begin{bmatrix}1, & - i, & 0\\end{bmatrix}\\right\\}\\nonumber \\\\& + \\left(- \\frac{\\sqrt{21}}{12 \\sqrt{\\pi}}\\right)\\,\\left\\{\\begin{bmatrix}1, & 0, & 0\\end{bmatrix}\\right\\}\\nonumber \\\\& + \\left(\\frac{\\sqrt{21} i}{12 \\sqrt{\\pi}}\\right)\\,\\left\\{\\begin{bmatrix}0, & 1, & 0\\end{bmatrix}\\right\\}\\end{align}"
       ],
       "metadata": {},
       "output_type": "display_data",
       "text": [
        "(sqrt(21)/(12*sqrt(pi)))*{[1, -I, 0]}\n",
        "(-sqrt(21)/(12*sqrt(pi)))*{[1, 0, 0]}\n",
        "(sqrt(21)*I/(12*sqrt(pi)))*{[0, 1, 0]}"
       ]
      },
      {
       "output_type": "stream",
       "stream": "stdout",
       "text": [
        "(ell,m) = (3,0):\n"
       ]
      },
      {
       "latex": [
        "\\begin{align}&\\left(0\\right)\\,\\left\\{\\begin{bmatrix}0, & 0, & 1\\end{bmatrix}\\right\\}\\end{align}"
       ],
       "metadata": {},
       "output_type": "display_data",
       "text": [
        "(0)*{[0, 0, 1]}"
       ]
      },
      {
       "output_type": "stream",
       "stream": "stdout",
       "text": [
        "(ell,m) = (3,1):\n"
       ]
      },
      {
       "latex": [
        "\\begin{align}&\\left(- \\frac{\\sqrt{21}}{12 \\sqrt{\\pi}}\\right)\\,\\left\\{\\begin{bmatrix}1, & i, & 0\\end{bmatrix}\\right\\}\\nonumber \\\\& + \\left(\\frac{\\sqrt{21}}{12 \\sqrt{\\pi}}\\right)\\,\\left\\{\\begin{bmatrix}1, & 0, & 0\\end{bmatrix}\\right\\}\\nonumber \\\\& + \\left(\\frac{\\sqrt{21} i}{12 \\sqrt{\\pi}}\\right)\\,\\left\\{\\begin{bmatrix}0, & 1, & 0\\end{bmatrix}\\right\\}\\end{align}"
       ],
       "metadata": {},
       "output_type": "display_data",
       "text": [
        "(-sqrt(21)/(12*sqrt(pi)))*{[1, I, 0]}\n",
        "(sqrt(21)/(12*sqrt(pi)))*{[1, 0, 0]}\n",
        "(sqrt(21)*I/(12*sqrt(pi)))*{[0, 1, 0]}"
       ]
      },
      {
       "output_type": "stream",
       "stream": "stdout",
       "text": [
        "(ell,m) = (3,2):\n"
       ]
      },
      {
       "latex": [
        "\\begin{align}&\\end{align}"
       ],
       "metadata": {},
       "output_type": "display_data",
       "text": []
      },
      {
       "output_type": "stream",
       "stream": "stdout",
       "text": [
        "(ell,m) = (3,3):\n"
       ]
      },
      {
       "latex": [
        "\\begin{align}&\\end{align}"
       ],
       "metadata": {},
       "output_type": "display_data",
       "text": []
      },
      {
       "output_type": "stream",
       "stream": "stdout",
       "text": [
        "\n",
        "(ell,m) = (4,-4):\n"
       ]
      },
      {
       "latex": [
        "\\begin{align}&\\end{align}"
       ],
       "metadata": {},
       "output_type": "display_data",
       "text": []
      },
      {
       "output_type": "stream",
       "stream": "stdout",
       "text": [
        "(ell,m) = (4,-3):\n"
       ]
      },
      {
       "latex": [
        "\\begin{align}&\\end{align}"
       ],
       "metadata": {},
       "output_type": "display_data",
       "text": []
      },
      {
       "output_type": "stream",
       "stream": "stdout",
       "text": [
        "(ell,m) = (4,-2):\n"
       ]
      },
      {
       "latex": [
        "\\begin{align}&\\left(\\frac{\\sqrt{10}}{16 \\sqrt{\\pi}}\\right)\\,\\left\\{\\begin{bmatrix}1, & - i, & 0\\end{bmatrix}\\otimes_{\\mathrm{s}}\\begin{bmatrix}1, & - i, & 0\\end{bmatrix}\\right\\}\\nonumber \\\\& + \\left(- \\frac{\\sqrt{10}}{16 \\sqrt{\\pi}}\\right)\\,\\left\\{\\begin{bmatrix}1, & - i, & 0\\end{bmatrix}\\otimes_{\\mathrm{s}}\\begin{bmatrix}1, & 0, & 0\\end{bmatrix}\\right\\}\\nonumber \\\\& + \\left(\\frac{\\sqrt{10} i}{16 \\sqrt{\\pi}}\\right)\\,\\left\\{\\begin{bmatrix}1, & - i, & 0\\end{bmatrix}\\otimes_{\\mathrm{s}}\\begin{bmatrix}0, & 1, & 0\\end{bmatrix}\\right\\}\\end{align}"
       ],
       "metadata": {},
       "output_type": "display_data",
       "text": [
        "(sqrt(10)/(16*sqrt(pi)))*{[1, -I, 0]*[1, -I, 0]}\n",
        "(-sqrt(10)/(16*sqrt(pi)))*{[1, -I, 0]*[1, 0, 0]}\n",
        "(sqrt(10)*I/(16*sqrt(pi)))*{[1, -I, 0]*[0, 1, 0]}"
       ]
      },
      {
       "output_type": "stream",
       "stream": "stdout",
       "text": [
        "(ell,m) = (4,-1):\n"
       ]
      },
      {
       "latex": [
        "\\begin{align}&\\left(\\frac{3 \\sqrt{5}}{16 \\sqrt{\\pi}}\\right)\\,\\left\\{\\begin{bmatrix}1, & - i, & 0\\end{bmatrix}\\otimes_{\\mathrm{s}}\\begin{bmatrix}0, & 0, & 1\\end{bmatrix}\\right\\}\\nonumber \\\\& + \\left(- \\frac{3 \\sqrt{5}}{16 \\sqrt{\\pi}}\\right)\\,\\left\\{\\begin{bmatrix}0, & 0, & 1\\end{bmatrix}\\otimes_{\\mathrm{s}}\\begin{bmatrix}1, & 0, & 0\\end{bmatrix}\\right\\}\\nonumber \\\\& + \\left(\\frac{3 \\sqrt{5} i}{16 \\sqrt{\\pi}}\\right)\\,\\left\\{\\begin{bmatrix}0, & 0, & 1\\end{bmatrix}\\otimes_{\\mathrm{s}}\\begin{bmatrix}0, & 1, & 0\\end{bmatrix}\\right\\}\\end{align}"
       ],
       "metadata": {},
       "output_type": "display_data",
       "text": [
        "(3*sqrt(5)/(16*sqrt(pi)))*{[1, -I, 0]*[0, 0, 1]}\n",
        "(-3*sqrt(5)/(16*sqrt(pi)))*{[0, 0, 1]*[1, 0, 0]}\n",
        "(3*sqrt(5)*I/(16*sqrt(pi)))*{[0, 0, 1]*[0, 1, 0]}"
       ]
      },
      {
       "output_type": "stream",
       "stream": "stdout",
       "text": [
        "(ell,m) = (4,0):\n"
       ]
      },
      {
       "latex": [
        "\\begin{align}&\\left(0\\right)\\,\\left\\{\\begin{bmatrix}0, & 0, & 1\\end{bmatrix}\\otimes_{\\mathrm{s}}\\begin{bmatrix}0, & 0, & 1\\end{bmatrix}\\right\\}\\nonumber \\\\& + \\left(0\\right)\\,\\left\\{\\begin{bmatrix}1, & 0, & 0\\end{bmatrix}\\otimes_{\\mathrm{s}}\\begin{bmatrix}1, & 0, & 0\\end{bmatrix}\\right\\}\\nonumber \\\\& + \\left(0\\right)\\,\\left\\{\\begin{bmatrix}0, & 1, & 0\\end{bmatrix}\\otimes_{\\mathrm{s}}\\begin{bmatrix}0, & 1, & 0\\end{bmatrix}\\right\\}\\end{align}"
       ],
       "metadata": {},
       "output_type": "display_data",
       "text": [
        "(0)*{[0, 0, 1]*[0, 0, 1]}\n",
        "(0)*{[1, 0, 0]*[1, 0, 0]}\n",
        "(0)*{[0, 1, 0]*[0, 1, 0]}"
       ]
      },
      {
       "output_type": "stream",
       "stream": "stdout",
       "text": [
        "(ell,m) = (4,1):\n"
       ]
      },
      {
       "latex": [
        "\\begin{align}&\\left(- \\frac{3 \\sqrt{5}}{16 \\sqrt{\\pi}}\\right)\\,\\left\\{\\begin{bmatrix}1, & i, & 0\\end{bmatrix}\\otimes_{\\mathrm{s}}\\begin{bmatrix}0, & 0, & 1\\end{bmatrix}\\right\\}\\nonumber \\\\& + \\left(\\frac{3 \\sqrt{5}}{16 \\sqrt{\\pi}}\\right)\\,\\left\\{\\begin{bmatrix}0, & 0, & 1\\end{bmatrix}\\otimes_{\\mathrm{s}}\\begin{bmatrix}1, & 0, & 0\\end{bmatrix}\\right\\}\\nonumber \\\\& + \\left(\\frac{3 \\sqrt{5} i}{16 \\sqrt{\\pi}}\\right)\\,\\left\\{\\begin{bmatrix}0, & 0, & 1\\end{bmatrix}\\otimes_{\\mathrm{s}}\\begin{bmatrix}0, & 1, & 0\\end{bmatrix}\\right\\}\\end{align}"
       ],
       "metadata": {},
       "output_type": "display_data",
       "text": [
        "(-3*sqrt(5)/(16*sqrt(pi)))*{[1, I, 0]*[0, 0, 1]}\n",
        "(3*sqrt(5)/(16*sqrt(pi)))*{[0, 0, 1]*[1, 0, 0]}\n",
        "(3*sqrt(5)*I/(16*sqrt(pi)))*{[0, 0, 1]*[0, 1, 0]}"
       ]
      },
      {
       "output_type": "stream",
       "stream": "stdout",
       "text": [
        "(ell,m) = (4,2):\n"
       ]
      },
      {
       "latex": [
        "\\begin{align}&\\left(\\frac{\\sqrt{10}}{16 \\sqrt{\\pi}}\\right)\\,\\left\\{\\begin{bmatrix}1, & i, & 0\\end{bmatrix}\\otimes_{\\mathrm{s}}\\begin{bmatrix}1, & i, & 0\\end{bmatrix}\\right\\}\\nonumber \\\\& + \\left(- \\frac{\\sqrt{10}}{16 \\sqrt{\\pi}}\\right)\\,\\left\\{\\begin{bmatrix}1, & i, & 0\\end{bmatrix}\\otimes_{\\mathrm{s}}\\begin{bmatrix}1, & 0, & 0\\end{bmatrix}\\right\\}\\nonumber \\\\& + \\left(- \\frac{\\sqrt{10} i}{16 \\sqrt{\\pi}}\\right)\\,\\left\\{\\begin{bmatrix}1, & i, & 0\\end{bmatrix}\\otimes_{\\mathrm{s}}\\begin{bmatrix}0, & 1, & 0\\end{bmatrix}\\right\\}\\end{align}"
       ],
       "metadata": {},
       "output_type": "display_data",
       "text": [
        "(sqrt(10)/(16*sqrt(pi)))*{[1, I, 0]*[1, I, 0]}\n",
        "(-sqrt(10)/(16*sqrt(pi)))*{[1, I, 0]*[1, 0, 0]}\n",
        "(-sqrt(10)*I/(16*sqrt(pi)))*{[1, I, 0]*[0, 1, 0]}"
       ]
      },
      {
       "output_type": "stream",
       "stream": "stdout",
       "text": [
        "(ell,m) = (4,3):\n"
       ]
      },
      {
       "latex": [
        "\\begin{align}&\\end{align}"
       ],
       "metadata": {},
       "output_type": "display_data",
       "text": []
      },
      {
       "output_type": "stream",
       "stream": "stdout",
       "text": [
        "(ell,m) = (4,4):\n"
       ]
      },
      {
       "latex": [
        "\\begin{align}&\\end{align}"
       ],
       "metadata": {},
       "output_type": "display_data",
       "text": []
      }
     ],
     "prompt_number": 116
    },
    {
     "cell_type": "heading",
     "level": 1,
     "metadata": {},
     "source": [
      "Testing contractions with the multipole moments"
     ]
    },
    {
     "cell_type": "markdown",
     "metadata": {},
     "source": [
      "We can just add in a couple low-order terms for $I_{jk}$ and $J_{jk}$, and see how they come out.  I expect to find some new terms proportional to $\\Sigma_n + i\\, \\Sigma_\\lambda$ in the $(2,\\pm2)$ modes, and recover the usual leading-order terms in the $(2,\\pm1)$ modes.  Note, however, that I am not conjugating the `YlmTensor` objects, as I should, so the normalization and signs will be screwy."
     ]
    },
    {
     "cell_type": "code",
     "collapsed": false,
     "input": [
      "I_jk = SymmetricTensorProduct(nHat, nHat, coefficient = (m*nu*r**2))\n",
      "for m in range(-2,2+1):\n",
      "    display(YlmTensor(2,m).contract(I_jk))"
     ],
     "language": "python",
     "metadata": {},
     "outputs": [
      {
       "latex": [
        "$$\\frac{\\sqrt{30} \\nu r^{2}}{4 \\sqrt{\\pi}}$$"
       ],
       "metadata": {},
       "output_type": "display_data",
       "png": "[encoded data removed]",
       "text": [
        "  ____    2\n",
        "\u2572\u2571 30 \u22c5\u03bd\u22c5r \n",
        "\u2500\u2500\u2500\u2500\u2500\u2500\u2500\u2500\u2500\u2500\u2500\n",
        "      ___  \n",
        "  4\u22c5\u2572\u2571 \u03c0   "
       ]
      },
      {
       "latex": [
        "$$0$$"
       ],
       "metadata": {},
       "output_type": "display_data",
       "png": "[encoded data removed]",
       "text": [
        "0"
       ]
      },
      {
       "latex": [
        "$$- \\frac{\\sqrt{5} \\nu r^{2}}{2 \\sqrt{\\pi}}$$"
       ],
       "metadata": {},
       "output_type": "display_data",
       "png": "[encoded data removed]",
       "text": [
        "   ___    2 \n",
        "-\u2572\u2571 5 \u22c5\u03bd\u22c5r  \n",
        "\u2500\u2500\u2500\u2500\u2500\u2500\u2500\u2500\u2500\u2500\u2500\u2500\n",
        "      ___   \n",
        "  2\u22c5\u2572\u2571 \u03c0    "
       ]
      },
      {
       "latex": [
        "$$0$$"
       ],
       "metadata": {},
       "output_type": "display_data",
       "png": "[encoded data removed]",
       "text": [
        "0"
       ]
      },
      {
       "latex": [
        "$$\\frac{\\sqrt{30} \\nu r^{2}}{4 \\sqrt{\\pi}}$$"
       ],
       "metadata": {},
       "output_type": "display_data",
       "png": "[encoded data removed]",
       "text": [
        "  ____    2\n",
        "\u2572\u2571 30 \u22c5\u03bd\u22c5r \n",
        "\u2500\u2500\u2500\u2500\u2500\u2500\u2500\u2500\u2500\u2500\u2500\n",
        "      ___  \n",
        "  4\u22c5\u2572\u2571 \u03c0   "
       ]
      }
     ],
     "prompt_number": 175
    },
    {
     "cell_type": "code",
     "collapsed": false,
     "input": [
      "J_jk = SymmetricTensorProduct(Sigma, nHat, coefficient = (r*nu/c)*(-frac(3,2))) \\\n",
      "      + SymmetricTensorProduct(ellHat, nHat, coefficient = -nu*m*delta*r**2*v)\n",
      "for m in range(-2,2+1):\n",
      "    display(sympy.simplify(-sympy.I * YlmTensor(2,m).contract(J_jk)))"
     ],
     "language": "python",
     "metadata": {},
     "outputs": [
      {
       "latex": [
        "$$\\frac{3 \\sqrt{30} \\nu r}{16 \\sqrt{\\pi} c} \\left(\\Sigma_{\\lambda} + i \\Sigma_{n}\\right)$$"
       ],
       "metadata": {},
       "output_type": "display_data",
       "png": "[encoded data removed]",
       "text": [
        "    ____                  \n",
        "3\u22c5\u2572\u2571 30 \u22c5\u03bd\u22c5r\u22c5(\u03a3_\u03bb + \u2148\u22c5\u03a3_n)\n",
        "\u2500\u2500\u2500\u2500\u2500\u2500\u2500\u2500\u2500\u2500\u2500\u2500\u2500\u2500\u2500\u2500\u2500\u2500\u2500\u2500\u2500\u2500\u2500\u2500\u2500\u2500\n",
        "             ___          \n",
        "        16\u22c5\u2572\u2571 \u03c0 \u22c5c        "
       ]
      },
      {
       "latex": [
        "$$\\frac{\\sqrt{30} i \\nu r}{16 \\sqrt{\\pi} c} \\left(3 \\Sigma_{\\ell} + 4 c \\delta r v\\right)$$"
       ],
       "metadata": {},
       "output_type": "display_data",
       "png": "[encoded data removed]",
       "text": [
        "  ____                            \n",
        "\u2572\u2571 30 \u22c5\u2148\u22c5\u03bd\u22c5r\u22c5(3\u22c5\u03a3_ell + 4\u22c5c\u22c5\u03b4\u22c5r\u22c5v)\n",
        "\u2500\u2500\u2500\u2500\u2500\u2500\u2500\u2500\u2500\u2500\u2500\u2500\u2500\u2500\u2500\u2500\u2500\u2500\u2500\u2500\u2500\u2500\u2500\u2500\u2500\u2500\u2500\u2500\u2500\u2500\u2500\u2500\u2500\u2500\n",
        "                 ___              \n",
        "            16\u22c5\u2572\u2571 \u03c0 \u22c5c            "
       ]
      },
      {
       "latex": [
        "$$- \\frac{3 \\sqrt{5} i \\Sigma_{n} \\nu r}{8 \\sqrt{\\pi} c}$$"
       ],
       "metadata": {},
       "output_type": "display_data",
       "png": "[encoded data removed]",
       "text": [
        "     ___           \n",
        "-3\u22c5\u2572\u2571 5 \u22c5\u2148\u22c5\u03a3_n\u22c5\u03bd\u22c5r \n",
        "\u2500\u2500\u2500\u2500\u2500\u2500\u2500\u2500\u2500\u2500\u2500\u2500\u2500\u2500\u2500\u2500\u2500\u2500\u2500\n",
        "         ___       \n",
        "     8\u22c5\u2572\u2571 \u03c0 \u22c5c     "
       ]
      },
      {
       "latex": [
        "$$- \\frac{\\sqrt{30} i \\nu r}{16 \\sqrt{\\pi} c} \\left(3 \\Sigma_{\\ell} + 4 c \\delta r v\\right)$$"
       ],
       "metadata": {},
       "output_type": "display_data",
       "png": "[encoded data removed]",
       "text": [
        "   ____                             \n",
        "-\u2572\u2571 30 \u22c5\u2148\u22c5\u03bd\u22c5r\u22c5(3\u22c5\u03a3_ell + 4\u22c5c\u22c5\u03b4\u22c5r\u22c5v) \n",
        "\u2500\u2500\u2500\u2500\u2500\u2500\u2500\u2500\u2500\u2500\u2500\u2500\u2500\u2500\u2500\u2500\u2500\u2500\u2500\u2500\u2500\u2500\u2500\u2500\u2500\u2500\u2500\u2500\u2500\u2500\u2500\u2500\u2500\u2500\u2500\u2500\n",
        "                  ___               \n",
        "             16\u22c5\u2572\u2571 \u03c0 \u22c5c             "
       ]
      },
      {
       "latex": [
        "$$\\frac{3 \\sqrt{30} \\nu r}{16 \\sqrt{\\pi} c} \\left(- \\Sigma_{\\lambda} + i \\Sigma_{n}\\right)$$"
       ],
       "metadata": {},
       "output_type": "display_data",
       "png": "[encoded data removed]",
       "text": [
        "    ____                   \n",
        "3\u22c5\u2572\u2571 30 \u22c5\u03bd\u22c5r\u22c5(-\u03a3_\u03bb + \u2148\u22c5\u03a3_n)\n",
        "\u2500\u2500\u2500\u2500\u2500\u2500\u2500\u2500\u2500\u2500\u2500\u2500\u2500\u2500\u2500\u2500\u2500\u2500\u2500\u2500\u2500\u2500\u2500\u2500\u2500\u2500\u2500\n",
        "              ___          \n",
        "         16\u22c5\u2572\u2571 \u03c0 \u22c5c        "
       ]
      }
     ],
     "prompt_number": 176
    },
    {
     "cell_type": "markdown",
     "metadata": {},
     "source": [
      "These results look pretty much as I expect.  I'll have to work on the scaling, though, to check if I agree exactly with other sources -- for the published terms, at least."
     ]
    },
    {
     "cell_type": "markdown",
     "metadata": {},
     "source": [
      "Note the Eqs. (74) and the footnote on page 32 of [Blanchet's Living Review (2013)](http://arxiv.org/abs/1310.1528), which explains the necessary normalizations."
     ]
    },
    {
     "cell_type": "code",
     "collapsed": false,
     "input": [
      "for m in range(-2,2+1):\n",
      "    display(sympy.simplify((-1/sympy.sqrt(2))\n",
      "                           * (frac(4,sympy.factorial(ell)) * sympy.sqrt(frac((ell+1)*(ell+2),2*ell*(ell-1)))\n",
      "                              * ((4*sympy.pi*sympy.factorial(ell))/sympy.factorial2(2*ell+1))\n",
      "                              * YlmTensorConjugate(2,m).contract(I_jk)\n",
      "                              - (sympy.I/c) * frac(-8,sympy.factorial(ell)) * sympy.sqrt(frac(ell*(ell+2),2*(ell+1)*(ell-1)))\n",
      "                              * ((4*sympy.pi*sympy.factorial(ell))/sympy.factorial2(2*ell+1))\n",
      "                              * YlmTensorConjugate(2,m).contract(J_jk))) )"
     ],
     "language": "python",
     "metadata": {},
     "outputs": [
      {
       "latex": [
        "$$\\frac{4 \\sqrt{5} \\nu r}{5 c^{2}} \\sqrt{\\pi} \\left(\\Sigma_{\\lambda} + i \\Sigma_{n} - c^{2} r\\right)$$"
       ],
       "metadata": {},
       "output_type": "display_data",
       "png": "[encoded data removed]",
       "text": [
        "    ___   ___     \u239b               2  \u239e\n",
        "4\u22c5\u2572\u2571 5 \u22c5\u2572\u2571 \u03c0 \u22c5\u03bd\u22c5r\u22c5\u239d\u03a3_\u03bb + \u2148\u22c5\u03a3_n - c \u22c5r\u23a0\n",
        "\u2500\u2500\u2500\u2500\u2500\u2500\u2500\u2500\u2500\u2500\u2500\u2500\u2500\u2500\u2500\u2500\u2500\u2500\u2500\u2500\u2500\u2500\u2500\u2500\u2500\u2500\u2500\u2500\u2500\u2500\u2500\u2500\u2500\u2500\u2500\u2500\u2500\u2500\n",
        "                    2                 \n",
        "                 5\u22c5c                  "
       ]
      },
      {
       "latex": [
        "$$- \\frac{4 i \\nu r}{15 c^{2}} \\sqrt{5} \\sqrt{\\pi} \\left(3 \\Sigma_{\\ell} + 4 c \\delta r v\\right)$$"
       ],
       "metadata": {},
       "output_type": "display_data",
       "png": "[encoded data removed]",
       "text": [
        "     ___     ___                           \n",
        "-4\u22c5\u2572\u2571 5 \u22c5\u2148\u22c5\u2572\u2571 \u03c0 \u22c5\u03bd\u22c5r\u22c5(3\u22c5\u03a3_ell + 4\u22c5c\u22c5\u03b4\u22c5r\u22c5v) \n",
        "\u2500\u2500\u2500\u2500\u2500\u2500\u2500\u2500\u2500\u2500\u2500\u2500\u2500\u2500\u2500\u2500\u2500\u2500\u2500\u2500\u2500\u2500\u2500\u2500\u2500\u2500\u2500\u2500\u2500\u2500\u2500\u2500\u2500\u2500\u2500\u2500\u2500\u2500\u2500\u2500\u2500\u2500\u2500\n",
        "                       2                   \n",
        "                   15\u22c5c                    "
       ]
      },
      {
       "latex": [
        "$$\\frac{4 \\sqrt{30} \\nu r}{15 c^{2}} \\sqrt{\\pi} \\left(- i \\Sigma_{n} + c^{2} r\\right)$$"
       ],
       "metadata": {},
       "output_type": "display_data",
       "png": "[encoded data removed]",
       "text": [
        "    ____   ___     \u239b          2  \u239e\n",
        "4\u22c5\u2572\u2571 30 \u22c5\u2572\u2571 \u03c0 \u22c5\u03bd\u22c5r\u22c5\u239d-\u2148\u22c5\u03a3_n + c \u22c5r\u23a0\n",
        "\u2500\u2500\u2500\u2500\u2500\u2500\u2500\u2500\u2500\u2500\u2500\u2500\u2500\u2500\u2500\u2500\u2500\u2500\u2500\u2500\u2500\u2500\u2500\u2500\u2500\u2500\u2500\u2500\u2500\u2500\u2500\u2500\u2500\u2500\n",
        "                  2               \n",
        "              15\u22c5c                "
       ]
      },
      {
       "latex": [
        "$$\\frac{4 i \\nu r}{15 c^{2}} \\sqrt{5} \\sqrt{\\pi} \\left(3 \\Sigma_{\\ell} + 4 c \\delta r v\\right)$$"
       ],
       "metadata": {},
       "output_type": "display_data",
       "png": "[encoded data removed]",
       "text": [
        "    ___     ___                          \n",
        "4\u22c5\u2572\u2571 5 \u22c5\u2148\u22c5\u2572\u2571 \u03c0 \u22c5\u03bd\u22c5r\u22c5(3\u22c5\u03a3_ell + 4\u22c5c\u22c5\u03b4\u22c5r\u22c5v)\n",
        "\u2500\u2500\u2500\u2500\u2500\u2500\u2500\u2500\u2500\u2500\u2500\u2500\u2500\u2500\u2500\u2500\u2500\u2500\u2500\u2500\u2500\u2500\u2500\u2500\u2500\u2500\u2500\u2500\u2500\u2500\u2500\u2500\u2500\u2500\u2500\u2500\u2500\u2500\u2500\u2500\u2500\n",
        "                      2                  \n",
        "                  15\u22c5c                   "
       ]
      },
      {
       "latex": [
        "$$\\frac{4 \\sqrt{5} \\nu r}{5 c^{2}} \\sqrt{\\pi} \\left(- c^{2} r + i \\left(i \\Sigma_{\\lambda} + \\Sigma_{n}\\right)\\right)$$"
       ],
       "metadata": {},
       "output_type": "display_data",
       "png": "[encoded data removed]",
       "text": [
        "    ___   ___     \u239b   2                    \u239e\n",
        "4\u22c5\u2572\u2571 5 \u22c5\u2572\u2571 \u03c0 \u22c5\u03bd\u22c5r\u22c5\u239d- c \u22c5r + \u2148\u22c5(\u2148\u22c5\u03a3_\u03bb + \u03a3_n)\u23a0\n",
        "\u2500\u2500\u2500\u2500\u2500\u2500\u2500\u2500\u2500\u2500\u2500\u2500\u2500\u2500\u2500\u2500\u2500\u2500\u2500\u2500\u2500\u2500\u2500\u2500\u2500\u2500\u2500\u2500\u2500\u2500\u2500\u2500\u2500\u2500\u2500\u2500\u2500\u2500\u2500\u2500\u2500\u2500\u2500\u2500\n",
        "                       2                    \n",
        "                    5\u22c5c                     "
       ]
      }
     ],
     "prompt_number": 180
    },
    {
     "cell_type": "markdown",
     "metadata": {},
     "source": [
      "Time derivatives!\n",
      "\n",
      "I forgot to take the time derivatives.  How the hell am I going to do that???"
     ]
    },
    {
     "cell_type": "code",
     "collapsed": false,
     "input": [
      "type(test)"
     ],
     "language": "python",
     "metadata": {},
     "outputs": [
      {
       "metadata": {},
       "output_type": "pyout",
       "prompt_number": 187,
       "text": [
        "sympy.core.symbol.Symbol"
       ]
      }
     ],
     "prompt_number": 187
    },
    {
     "cell_type": "code",
     "collapsed": false,
     "input": [
      "var('test')"
     ],
     "language": "python",
     "metadata": {},
     "outputs": [
      {
       "latex": [
        "$$test$$"
       ],
       "metadata": {},
       "output_type": "pyout",
       "png": "[encoded data removed]",
       "prompt_number": 182,
       "text": [
        "test"
       ]
      }
     ],
     "prompt_number": 182
    },
    {
     "cell_type": "code",
     "collapsed": false,
     "input": [
      "test.some_attribute = 'x'"
     ],
     "language": "python",
     "metadata": {},
     "outputs": [
      {
       "ename": "AttributeError",
       "evalue": "'Symbol' object has no attribute 'some_attribute'",
       "output_type": "pyerr",
       "traceback": [
        "\u001b[0;31m---------------------------------------------------------------------------\u001b[0m\n\u001b[0;31mAttributeError\u001b[0m                            Traceback (most recent call last)",
        "\u001b[0;32m<ipython-input-184-c0e91c8cb3e4>\u001b[0m in \u001b[0;36m<module>\u001b[0;34m()\u001b[0m\n\u001b[0;32m----> 1\u001b[0;31m \u001b[0mtest\u001b[0m\u001b[0;34m.\u001b[0m\u001b[0msome_attribute\u001b[0m \u001b[0;34m=\u001b[0m \u001b[0;34m'x'\u001b[0m\u001b[0;34m\u001b[0m\u001b[0m\n\u001b[0m",
        "\u001b[0;31mAttributeError\u001b[0m: 'Symbol' object has no attribute 'some_attribute'"
       ]
      }
     ],
     "prompt_number": 184
    },
    {
     "cell_type": "code",
     "collapsed": false,
     "input": [
      "x = Vector('x', [1.,0,0])\n",
      "y = Vector('y', [3.,0,0])"
     ],
     "language": "python",
     "metadata": {},
     "outputs": [],
     "prompt_number": 244
    },
    {
     "cell_type": "code",
     "collapsed": false,
     "input": [
      "x.contract(y)"
     ],
     "language": "python",
     "metadata": {},
     "outputs": [
      {
       "latex": [
        "$$3.0$$"
       ],
       "metadata": {},
       "output_type": "pyout",
       "png": "[encoded data removed]",
       "prompt_number": 245,
       "text": [
        "3.0"
       ]
      }
     ],
     "prompt_number": 245
    },
    {
     "cell_type": "code",
     "collapsed": false,
     "input": [
      "x.contract([5,6,7])"
     ],
     "language": "python",
     "metadata": {},
     "outputs": [
      {
       "latex": [
        "$$5.0$$"
       ],
       "metadata": {},
       "output_type": "pyout",
       "png": "[encoded data removed]",
       "prompt_number": 246,
       "text": [
        "5.0"
       ]
      }
     ],
     "prompt_number": 246
    },
    {
     "cell_type": "code",
     "collapsed": false,
     "input": [],
     "language": "python",
     "metadata": {},
     "outputs": []
    },
    {
     "cell_type": "code",
     "collapsed": false,
     "input": [],
     "language": "python",
     "metadata": {},
     "outputs": []
    },
    {
     "cell_type": "code",
     "collapsed": false,
     "input": [],
     "language": "python",
     "metadata": {},
     "outputs": []
    },
    {
     "cell_type": "code",
     "collapsed": false,
     "input": [],
     "language": "python",
     "metadata": {},
     "outputs": []
    },
    {
     "cell_type": "code",
     "collapsed": false,
     "input": [],
     "language": "python",
     "metadata": {},
     "outputs": []
    },
    {
     "cell_type": "code",
     "collapsed": false,
     "input": [],
     "language": "python",
     "metadata": {},
     "outputs": []
    },
    {
     "cell_type": "code",
     "collapsed": false,
     "input": [],
     "language": "python",
     "metadata": {},
     "outputs": []
    }
   ],
   "metadata": {}
  }
 ]
}