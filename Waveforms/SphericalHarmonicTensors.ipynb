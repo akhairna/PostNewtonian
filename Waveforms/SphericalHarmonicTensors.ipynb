{
 "metadata": {
  "name": "",
  "signature": "sha256:3414935d776546d2dd4e4827fceff4ffc2c8b4041d9bcc17fadd78f590af9187"
 },
 "nbformat": 3,
 "nbformat_minor": 0,
 "worksheets": [
  {
   "cells": [
    {
     "cell_type": "markdown",
     "metadata": {},
     "source": [
      "The basic imports:"
     ]
    },
    {
     "cell_type": "code",
     "collapsed": false,
     "input": [
      "from __future__ import division\n",
      "import sympy\n",
      "from sympy import *\n",
      "from sympy import Rational as frac\n",
      "from simpletensors import VectorFunction, VectorConstant\n",
      "from simpletensors import TensorProduct, SymmetricTensorProduct, Tensor\n",
      "init_printing()"
     ],
     "language": "python",
     "metadata": {},
     "outputs": [],
     "prompt_number": 1
    },
    {
     "cell_type": "markdown",
     "metadata": {},
     "source": [
      "And the variables we'll be using:"
     ]
    },
    {
     "cell_type": "code",
     "collapsed": false,
     "input": [
      "var('vartheta, varphi')\n",
      "var('nu, m, delta, c, t')\n",
      "\n",
      "# These are related scalar functions of time\n",
      "var('r, v, Omega', cls=Function)\n",
      "r = r(t)\n",
      "v = v(t)\n",
      "Omega = Omega(t)\n",
      "\n",
      "# These get redefined momentarily, but have to exist first\n",
      "var('nHat, lambdaHat, ellHat', cls=Function)\n",
      "# And now we define them as vector functions of time\n",
      "nHat = VectorFunction('nHat', [1,0,0,], lambda self, *args, **kwargs: Omega*lambdaHat)(t)\n",
      "lambdaHat = VectorFunction('lambdaHat', [0,1,0,], lambda self, *args, **kwargs: -Omega*nHat)(t)\n",
      "ellHat = VectorFunction('ellHat', [0,0,1,], lambda self, *args, **kwargs: 0)(t)\n",
      "\n",
      "# These are the spin functions -- first, the individual components as regular sympy.Function objects; then the vectors themselves\n",
      "var('S_n, S_lambda, S_ell', cls=Function)\n",
      "var('Sigma_n, Sigma_lambda, Sigma_ell', cls=Function)\n",
      "SigmaVec = VectorFunction(r'\\vec{\\Sigma}', [Sigma_n(t), Sigma_lambda(t), Sigma_ell(t)])(t)\n",
      "SVec = VectorFunction(r'\\vec{S}', [S_n(t), S_lambda(t), S_ell(t)])(t)"
     ],
     "language": "python",
     "metadata": {},
     "outputs": [],
     "prompt_number": 2
    },
    {
     "cell_type": "heading",
     "level": 2,
     "metadata": {},
     "source": [
      "Examples and tests"
     ]
    },
    {
     "cell_type": "code",
     "collapsed": false,
     "input": [
      "nHat"
     ],
     "language": "python",
     "metadata": {},
     "outputs": [
      {
       "latex": [
        "$$\\hat{n}{\\left (t \\right )}$$"
       ],
       "metadata": {},
       "output_type": "pyout",
       "png": "[encoded data removed]",
       "prompt_number": 3,
       "text": [
        "n\u0302(t)"
       ]
      }
     ],
     "prompt_number": 3
    },
    {
     "cell_type": "code",
     "collapsed": false,
     "input": [
      "diff(nHat, t)"
     ],
     "language": "python",
     "metadata": {},
     "outputs": [
      {
       "latex": [
        "$$\\Omega{\\left (t \\right )} \\hat{\\lambda}{\\left (t \\right )}$$"
       ],
       "metadata": {},
       "output_type": "pyout",
       "png": "[encoded data removed]",
       "prompt_number": 4,
       "text": [
        "\u03a9(t)\u22c5\u03bb\u0302(t)"
       ]
      }
     ],
     "prompt_number": 4
    },
    {
     "cell_type": "code",
     "collapsed": false,
     "input": [
      "diff(lambdaHat, t)"
     ],
     "language": "python",
     "metadata": {},
     "outputs": [
      {
       "latex": [
        "$$- \\Omega{\\left (t \\right )} \\hat{n}{\\left (t \\right )}$$"
       ],
       "metadata": {},
       "output_type": "pyout",
       "png": "[encoded data removed]",
       "prompt_number": 5,
       "text": [
        "-\u03a9(t)\u22c5n\u0302(t)"
       ]
      }
     ],
     "prompt_number": 5
    },
    {
     "cell_type": "code",
     "collapsed": false,
     "input": [
      "diff(ellHat, t)"
     ],
     "language": "python",
     "metadata": {},
     "outputs": [
      {
       "latex": [
        "$$0$$"
       ],
       "metadata": {},
       "output_type": "pyout",
       "png": "[encoded data removed]",
       "prompt_number": 6,
       "text": [
        "0"
       ]
      }
     ],
     "prompt_number": 6
    },
    {
     "cell_type": "code",
     "collapsed": false,
     "input": [
      "diff(nHat, t, 2)"
     ],
     "language": "python",
     "metadata": {},
     "outputs": [
      {
       "latex": [
        "$$- \\Omega^{2}{\\left (t \\right )} \\hat{n}{\\left (t \\right )} + \\hat{\\lambda}{\\left (t \\right )} \\frac{d}{d t} \\Omega{\\left (t \\right )}$$"
       ],
       "metadata": {},
       "output_type": "pyout",
       "png": "[encoded data removed]",
       "prompt_number": 7,
       "text": [
        "   2                  d       \n",
        "- \u03a9 (t)\u22c5n\u0302(t) + \u03bb\u0302(t)\u22c5\u2500\u2500(\u03a9(t))\n",
        "                      dt      "
       ]
      }
     ],
     "prompt_number": 7
    },
    {
     "cell_type": "code",
     "collapsed": false,
     "input": [
      "diff(nHat,t, 3)"
     ],
     "language": "python",
     "metadata": {},
     "outputs": [
      {
       "latex": [
        "$$- \\Omega^{3}{\\left (t \\right )} \\hat{\\lambda}{\\left (t \\right )} - 3 \\Omega{\\left (t \\right )} \\hat{n}{\\left (t \\right )} \\frac{d}{d t} \\Omega{\\left (t \\right )} + \\hat{\\lambda}{\\left (t \\right )} \\frac{d^{2}}{d t^{2}}  \\Omega{\\left (t \\right )}$$"
       ],
       "metadata": {},
       "output_type": "pyout",
       "png": "[encoded data removed]",
       "prompt_number": 8,
       "text": [
        "                                                2      \n",
        "   3                         d                 d       \n",
        "- \u03a9 (t)\u22c5\u03bb\u0302(t) - 3\u22c5\u03a9(t)\u22c5n\u0302(t)\u22c5\u2500\u2500(\u03a9(t)) + \u03bb\u0302(t)\u22c5\u2500\u2500\u2500(\u03a9(t))\n",
        "                             dt                 2      \n",
        "                                              dt       "
       ]
      }
     ],
     "prompt_number": 8
    },
    {
     "cell_type": "code",
     "collapsed": false,
     "input": [
      "diff(nHat,t, 4)"
     ],
     "language": "python",
     "metadata": {},
     "outputs": [
      {
       "latex": [
        "$$\\Omega^{4}{\\left (t \\right )} \\hat{n}{\\left (t \\right )} - 6 \\Omega^{2}{\\left (t \\right )} \\hat{\\lambda}{\\left (t \\right )} \\frac{d}{d t} \\Omega{\\left (t \\right )} - 4 \\Omega{\\left (t \\right )} \\hat{n}{\\left (t \\right )} \\frac{d^{2}}{d t^{2}}  \\Omega{\\left (t \\right )} + \\hat{\\lambda}{\\left (t \\right )} \\frac{d^{3}}{d t^{3}}  \\Omega{\\left (t \\right )} - 3 \\hat{n}{\\left (t \\right )} \\left(\\frac{d}{d t} \\Omega{\\left (t \\right )}\\right)^{2}$$"
       ],
       "metadata": {},
       "output_type": "pyout",
       "png": "[encoded data removed]",
       "prompt_number": 9,
       "text": [
        "                                                      2                 3     \n",
        " 4               2          d                        d                 d      \n",
        "\u03a9 (t)\u22c5n\u0302(t) - 6\u22c5\u03a9 (t)\u22c5\u03bb\u0302(t)\u22c5\u2500\u2500(\u03a9(t)) - 4\u22c5\u03a9(t)\u22c5n\u0302(t)\u22c5\u2500\u2500\u2500(\u03a9(t)) + \u03bb\u0302(t)\u22c5\u2500\u2500\u2500(\u03a9(t)\n",
        "                            dt                        2                 3     \n",
        "                                                    dt                dt      \n",
        "\n",
        "                      2\n",
        "            \u239bd       \u239e \n",
        ") - 3\u22c5n\u0302(t)\u22c5\u239c\u2500\u2500(\u03a9(t))\u239f \n",
        "            \u239ddt      \u23a0 \n",
        "                       "
       ]
      }
     ],
     "prompt_number": 9
    },
    {
     "cell_type": "code",
     "collapsed": false,
     "input": [
      "diff(SigmaVec,t, 0)"
     ],
     "language": "python",
     "metadata": {},
     "outputs": [
      {
       "latex": [
        "$$\\vec{\\Sigma}{\\left (t \\right )}$$"
       ],
       "metadata": {},
       "output_type": "pyout",
       "png": "[encoded data removed]",
       "prompt_number": 10,
       "text": [
        "\\vec{\\Sigma}(t)"
       ]
      }
     ],
     "prompt_number": 10
    },
    {
     "cell_type": "code",
     "collapsed": false,
     "input": [
      "diff(SigmaVec,t, 1)"
     ],
     "language": "python",
     "metadata": {},
     "outputs": [
      {
       "latex": [
        "$$\\partial_t \\vec{\\Sigma}{\\left (t \\right )}$$"
       ],
       "metadata": {},
       "output_type": "pyout",
       "png": "[encoded data removed]",
       "prompt_number": 11,
       "text": [
        "\\partial_t \\vec{\\Sigma}(t)"
       ]
      }
     ],
     "prompt_number": 11
    },
    {
     "cell_type": "code",
     "collapsed": false,
     "input": [
      "diff(SigmaVec,t, 2)"
     ],
     "language": "python",
     "metadata": {},
     "outputs": [
      {
       "latex": [
        "$$\\partial_t^{2} \\vec{\\Sigma}{\\left (t \\right )}$$"
       ],
       "metadata": {},
       "output_type": "pyout",
       "png": "[encoded data removed]",
       "prompt_number": 12,
       "text": [
        "\\partial_t__{2} \\vec{\\Sigma}(t)"
       ]
      }
     ],
     "prompt_number": 12
    },
    {
     "cell_type": "code",
     "collapsed": false,
     "input": [
      "diff(SigmaVec,t, 2) | nHat"
     ],
     "language": "python",
     "metadata": {},
     "outputs": [
      {
       "latex": [
        "$$\\frac{d^{2}}{d t^{2}}  \\Sigma_{n}{\\left (t \\right )}$$"
       ],
       "metadata": {},
       "output_type": "pyout",
       "png": "[encoded data removed]",
       "prompt_number": 13,
       "text": [
        "  2        \n",
        " d         \n",
        "\u2500\u2500\u2500(\u03a3_n(t))\n",
        "  2        \n",
        "dt         "
       ]
      }
     ],
     "prompt_number": 13
    },
    {
     "cell_type": "code",
     "collapsed": false,
     "input": [
      "T1 = TensorProduct(SigmaVec, SigmaVec, ellHat, coefficient=1)\n",
      "T2 = TensorProduct(SigmaVec, nHat, lambdaHat, coefficient=1)\n",
      "tmp = Tensor(T1,T2)\n",
      "display(T1, T2, tmp)"
     ],
     "language": "python",
     "metadata": {},
     "outputs": [
      {
       "latex": [
        "$$\\begin{equation*}\\left[ \\vec{\\Sigma}{\\left (t \\right )} \\otimes \\vec{\\Sigma}{\\left (t \\right )} \\otimes \\hat{\\ell}{\\left (t \\right )} \\right]\\end{equation*}$$"
       ],
       "metadata": {},
       "output_type": "display_data",
       "png": "[encoded data removed]",
       "text": [
        "TensorProductFunction\u2080(t)"
       ]
      },
      {
       "latex": [
        "$$\\begin{equation*}\\left[ \\vec{\\Sigma}{\\left (t \\right )} \\otimes \\hat{n}{\\left (t \\right )} \\otimes \\hat{\\lambda}{\\left (t \\right )} \\right]\\end{equation*}$$"
       ],
       "metadata": {},
       "output_type": "display_data",
       "png": "[encoded data removed]",
       "text": [
        "TensorProductFunction\u2081(t)"
       ]
      },
      {
       "latex": [
        "$$\\begin{align*}&\\left\\{ \\left[ \\vec{\\Sigma}{\\left (t \\right )} \\otimes \\vec{\\Sigma}{\\left (t \\right )} \\otimes \\hat{\\ell}{\\left (t \\right )} \\right] \\right. \\nonumber \\\\&\\quad \\left. + \\left[ \\vec{\\Sigma}{\\left (t \\right )} \\otimes \\hat{n}{\\left (t \\right )} \\otimes \\hat{\\lambda}{\\left (t \\right )} \\right] \\right\\}\\end{align*}$$"
       ],
       "metadata": {},
       "output_type": "display_data",
       "png": "[encoded data removed]",
       "text": [
        "TensorFunction\u2080(t)"
       ]
      }
     ],
     "prompt_number": 14
    },
    {
     "cell_type": "code",
     "collapsed": false,
     "input": [
      "T1+T2"
     ],
     "language": "python",
     "metadata": {},
     "outputs": [
      {
       "latex": [
        "$$\\begin{align*}&\\left\\{ \\left[ \\vec{\\Sigma}{\\left (t \\right )} \\otimes \\vec{\\Sigma}{\\left (t \\right )} \\otimes \\hat{\\ell}{\\left (t \\right )} \\right] \\right. \\nonumber \\\\&\\quad \\left. + \\left[ \\vec{\\Sigma}{\\left (t \\right )} \\otimes \\hat{n}{\\left (t \\right )} \\otimes \\hat{\\lambda}{\\left (t \\right )} \\right] \\right\\}\\end{align*}$$"
       ],
       "metadata": {},
       "output_type": "pyout",
       "png": "[encoded data removed]",
       "prompt_number": 15,
       "text": [
        "TensorFunction\u2082(t)"
       ]
      }
     ],
     "prompt_number": 15
    },
    {
     "cell_type": "code",
     "collapsed": false,
     "input": [
      "T2*ellHat"
     ],
     "language": "python",
     "metadata": {},
     "outputs": [
      {
       "latex": [
        "$$\\begin{equation*}\\left[ \\vec{\\Sigma}{\\left (t \\right )} \\otimes \\hat{n}{\\left (t \\right )} \\otimes \\hat{\\lambda}{\\left (t \\right )} \\otimes \\hat{\\ell}{\\left (t \\right )} \\right]\\end{equation*}$$"
       ],
       "metadata": {},
       "output_type": "pyout",
       "png": "[encoded data removed]",
       "prompt_number": 16,
       "text": [
        "TensorProductFunction\u2082(t)"
       ]
      }
     ],
     "prompt_number": 16
    },
    {
     "cell_type": "code",
     "collapsed": false,
     "input": [
      "ellHat*T2"
     ],
     "language": "python",
     "metadata": {},
     "outputs": [
      {
       "latex": [
        "$$\\begin{equation*}\\left[ \\hat{\\ell}{\\left (t \\right )} \\otimes \\vec{\\Sigma}{\\left (t \\right )} \\otimes \\hat{n}{\\left (t \\right )} \\otimes \\hat{\\lambda}{\\left (t \\right )} \\right]\\end{equation*}$$"
       ],
       "metadata": {},
       "output_type": "pyout",
       "png": "[encoded data removed]",
       "prompt_number": 17,
       "text": [
        "TensorProductFunction\u2083(t)"
       ]
      }
     ],
     "prompt_number": 17
    },
    {
     "cell_type": "code",
     "collapsed": false,
     "input": [
      "T1.trace(0,1)"
     ],
     "language": "python",
     "metadata": {},
     "outputs": [
      {
       "latex": [
        "$$\\begin{equation*}\\left\\{ \\left[ \\Sigma_{\\ell}^{2}{\\left (t \\right )} + \\Sigma_{\\lambda}^{2}{\\left (t \\right )} + \\Sigma_{n}^{2}{\\left (t \\right )} \\right]\\, \\hat{\\ell}{\\left (t \\right )} \\right\\}\\end{equation*}$$"
       ],
       "metadata": {},
       "output_type": "pyout",
       "png": "[encoded data removed]",
       "prompt_number": 18,
       "text": [
        "TensorProductFunction\u2084(t)"
       ]
      }
     ],
     "prompt_number": 18
    },
    {
     "cell_type": "code",
     "collapsed": false,
     "input": [
      "T2*ellHat"
     ],
     "language": "python",
     "metadata": {},
     "outputs": [
      {
       "latex": [
        "$$\\begin{equation*}\\left[ \\vec{\\Sigma}{\\left (t \\right )} \\otimes \\hat{n}{\\left (t \\right )} \\otimes \\hat{\\lambda}{\\left (t \\right )} \\otimes \\hat{\\ell}{\\left (t \\right )} \\right]\\end{equation*}$$"
       ],
       "metadata": {},
       "output_type": "pyout",
       "png": "[encoded data removed]",
       "prompt_number": 19,
       "text": [
        "TensorProductFunction\u2085(t)"
       ]
      }
     ],
     "prompt_number": 19
    },
    {
     "cell_type": "code",
     "collapsed": false,
     "input": [
      "for k in range(1,4):\n",
      "    display((T2*ellHat).trace(0,k))"
     ],
     "language": "python",
     "metadata": {},
     "outputs": [
      {
       "latex": [
        "$$\\begin{equation*}\\left\\{ \\left[ \\Sigma_{n}{\\left (t \\right )} \\right]\\, \\hat{\\lambda}{\\left (t \\right )} \\otimes \\hat{\\ell}{\\left (t \\right )} \\right\\}\\end{equation*}$$"
       ],
       "metadata": {},
       "output_type": "display_data",
       "png": "[encoded data removed]",
       "text": [
        "TensorProductFunction\u2087(t)"
       ]
      },
      {
       "latex": [
        "$$\\begin{equation*}\\left\\{ \\left[ \\Sigma_{\\lambda}{\\left (t \\right )} \\right]\\, \\hat{n}{\\left (t \\right )} \\otimes \\hat{\\ell}{\\left (t \\right )} \\right\\}\\end{equation*}$$"
       ],
       "metadata": {},
       "output_type": "display_data",
       "png": "[encoded data removed]",
       "text": [
        "TensorProductFunction\u2089(t)"
       ]
      },
      {
       "latex": [
        "$$\\begin{equation*}\\left\\{ \\left[ \\Sigma_{\\ell}{\\left (t \\right )} \\right]\\, \\hat{n}{\\left (t \\right )} \\otimes \\hat{\\lambda}{\\left (t \\right )} \\right\\}\\end{equation*}$$"
       ],
       "metadata": {},
       "output_type": "display_data",
       "png": "[encoded data removed]",
       "text": [
        "TensorProductFunction\u2081\u2081(t)"
       ]
      }
     ],
     "prompt_number": 20
    },
    {
     "cell_type": "code",
     "collapsed": false,
     "input": [
      "T1.trace(0,1) * T2"
     ],
     "language": "python",
     "metadata": {},
     "outputs": [
      {
       "latex": [
        "$$\\begin{equation*}\\left\\{ \\left[ \\Sigma_{\\ell}^{2}{\\left (t \\right )} + \\Sigma_{\\lambda}^{2}{\\left (t \\right )} + \\Sigma_{n}^{2}{\\left (t \\right )} \\right]\\, \\hat{\\ell}{\\left (t \\right )} \\otimes \\vec{\\Sigma}{\\left (t \\right )} \\otimes \\hat{n}{\\left (t \\right )} \\otimes \\hat{\\lambda}{\\left (t \\right )} \\right\\}\\end{equation*}$$"
       ],
       "metadata": {},
       "output_type": "pyout",
       "png": "[encoded data removed]",
       "prompt_number": 21,
       "text": [
        "TensorProductFunction\u2081\u2083(t)"
       ]
      }
     ],
     "prompt_number": 21
    },
    {
     "cell_type": "markdown",
     "metadata": {},
     "source": [
      "Sympy can be a little tricky because it caches things, which means that the first implementation of this code silently changed tensors in place, without meaning to.  Let's just check that our variables haven't changed:"
     ]
    },
    {
     "cell_type": "code",
     "collapsed": false,
     "input": [
      "display(T1, T2)"
     ],
     "language": "python",
     "metadata": {},
     "outputs": [
      {
       "latex": [
        "$$\\begin{equation*}\\left[ \\vec{\\Sigma}{\\left (t \\right )} \\otimes \\vec{\\Sigma}{\\left (t \\right )} \\otimes \\hat{\\ell}{\\left (t \\right )} \\right]\\end{equation*}$$"
       ],
       "metadata": {},
       "output_type": "display_data",
       "png": "[encoded data removed]",
       "text": [
        "TensorProductFunction\u2080(t)"
       ]
      },
      {
       "latex": [
        "$$\\begin{equation*}\\left[ \\vec{\\Sigma}{\\left (t \\right )} \\otimes \\hat{n}{\\left (t \\right )} \\otimes \\hat{\\lambda}{\\left (t \\right )} \\right]\\end{equation*}$$"
       ],
       "metadata": {},
       "output_type": "display_data",
       "png": "[encoded data removed]",
       "text": [
        "TensorProductFunction\u2081(t)"
       ]
      }
     ],
     "prompt_number": 22
    },
    {
     "cell_type": "code",
     "collapsed": false,
     "input": [
      "T3 = SymmetricTensorProduct(SigmaVec, SigmaVec, ellHat, coefficient=1)\n",
      "display(T3)\n",
      "T3.trace(0,1)"
     ],
     "language": "python",
     "metadata": {},
     "outputs": [
      {
       "latex": [
        "$$\\begin{equation*}\\left[ \\vec{\\Sigma}{\\left (t \\right )} \\otimes_{\\mathrm{s}} \\vec{\\Sigma}{\\left (t \\right )} \\otimes_{\\mathrm{s}} \\hat{\\ell}{\\left (t \\right )} \\right]\\end{equation*}$$"
       ],
       "metadata": {},
       "output_type": "display_data",
       "png": "[encoded data removed]",
       "text": [
        "TensorProductFunction\u2081\u2084(t)"
       ]
      },
      {
       "latex": [
        "$$\\begin{align*}&\\left\\{ \\left\\{ \\left[ \\frac{1}{3} \\Sigma_{\\ell}^{2}{\\left (t \\right )} + \\frac{1}{3} \\Sigma_{\\lambda}^{2}{\\left (t \\right )} + \\frac{1}{3} \\Sigma_{n}^{2}{\\left (t \\right )} \\right]\\, \\hat{\\ell}{\\left (t \\right )} \\right\\} \\right. \\nonumber \\\\&\\quad \\left. + \\left\\{ \\left[ \\frac{2}{3} \\Sigma_{\\ell}{\\left (t \\right )} \\right]\\, \\vec{\\Sigma}{\\left (t \\right )} \\right\\} \\right\\}\\end{align*}$$"
       ],
       "metadata": {},
       "output_type": "pyout",
       "png": "[encoded data removed]",
       "prompt_number": 23,
       "text": [
        "TensorFunction\u2088(t)"
       ]
      }
     ],
     "prompt_number": 23
    },
    {
     "cell_type": "code",
     "collapsed": false,
     "input": [
      "T3.symmetric"
     ],
     "language": "python",
     "metadata": {},
     "outputs": [
      {
       "metadata": {},
       "output_type": "pyout",
       "prompt_number": 24,
       "text": [
        "True"
       ]
      }
     ],
     "prompt_number": 24
    },
    {
     "cell_type": "code",
     "collapsed": false,
     "input": [
      "T3*ellHat"
     ],
     "language": "python",
     "metadata": {},
     "outputs": [
      {
       "latex": [
        "$$\\begin{equation*}\\left[ \\vec{\\Sigma}{\\left (t \\right )} \\otimes_{\\mathrm{s}} \\vec{\\Sigma}{\\left (t \\right )} \\otimes_{\\mathrm{s}} \\hat{\\ell}{\\left (t \\right )} \\otimes_{\\mathrm{s}} \\hat{\\ell}{\\left (t \\right )} \\right]\\end{equation*}$$"
       ],
       "metadata": {},
       "output_type": "pyout",
       "png": "[encoded data removed]",
       "prompt_number": 25,
       "text": [
        "TensorProductFunction\u2082\u2081(t)"
       ]
      }
     ],
     "prompt_number": 25
    },
    {
     "cell_type": "code",
     "collapsed": false,
     "input": [
      "ellHat*T3"
     ],
     "language": "python",
     "metadata": {},
     "outputs": [
      {
       "latex": [
        "$$\\begin{equation*}\\left[ \\hat{\\ell}{\\left (t \\right )} \\otimes_{\\mathrm{s}} \\vec{\\Sigma}{\\left (t \\right )} \\otimes_{\\mathrm{s}} \\vec{\\Sigma}{\\left (t \\right )} \\otimes_{\\mathrm{s}} \\hat{\\ell}{\\left (t \\right )} \\right]\\end{equation*}$$"
       ],
       "metadata": {},
       "output_type": "pyout",
       "png": "[encoded data removed]",
       "prompt_number": 26,
       "text": [
        "TensorProductFunction\u2082\u2082(t)"
       ]
      }
     ],
     "prompt_number": 26
    },
    {
     "cell_type": "code",
     "collapsed": false,
     "input": [
      "T1+T3"
     ],
     "language": "python",
     "metadata": {},
     "outputs": [
      {
       "latex": [
        "$$\\begin{align*}&\\left\\{ \\left[ \\vec{\\Sigma}{\\left (t \\right )} \\otimes \\vec{\\Sigma}{\\left (t \\right )} \\otimes \\hat{\\ell}{\\left (t \\right )} \\right] \\right. \\nonumber \\\\&\\quad \\left. + \\left[ \\vec{\\Sigma}{\\left (t \\right )} \\otimes_{\\mathrm{s}} \\vec{\\Sigma}{\\left (t \\right )} \\otimes_{\\mathrm{s}} \\hat{\\ell}{\\left (t \\right )} \\right] \\right\\}\\end{align*}$$"
       ],
       "metadata": {},
       "output_type": "pyout",
       "png": "[encoded data removed]",
       "prompt_number": 27,
       "text": [
        "TensorFunction\u2081\u2080(t)"
       ]
      }
     ],
     "prompt_number": 27
    },
    {
     "cell_type": "code",
     "collapsed": false,
     "input": [
      "T1 = SymmetricTensorProduct(SigmaVec, SigmaVec, ellHat, nHat, coefficient=1)\n",
      "display(T1)\n",
      "display(T1.trace())"
     ],
     "language": "python",
     "metadata": {},
     "outputs": [
      {
       "latex": [
        "$$\\begin{equation*}\\left[ \\vec{\\Sigma}{\\left (t \\right )} \\otimes_{\\mathrm{s}} \\vec{\\Sigma}{\\left (t \\right )} \\otimes_{\\mathrm{s}} \\hat{\\ell}{\\left (t \\right )} \\otimes_{\\mathrm{s}} \\hat{n}{\\left (t \\right )} \\right]\\end{equation*}$$"
       ],
       "metadata": {},
       "output_type": "display_data",
       "png": "[encoded data removed]",
       "text": [
        "TensorProductFunction\u2082\u2083(t)"
       ]
      },
      {
       "latex": [
        "$$\\begin{align*}&\\left\\{ \\left\\{ \\left[ \\frac{1}{12} \\Sigma_{\\ell}^{2}{\\left (t \\right )} + \\frac{1}{12} \\Sigma_{\\lambda}^{2}{\\left (t \\right )} + \\frac{1}{12} \\Sigma_{n}^{2}{\\left (t \\right )} \\right]\\, \\hat{\\ell}{\\left (t \\right )} \\otimes_{\\mathrm{s}} \\hat{n}{\\left (t \\right )} \\right\\} \\right. \\nonumber \\\\&\\quad \\left. + \\left\\{ \\left[ \\frac{1}{6} \\Sigma_{\\ell}{\\left (t \\right )} \\right]\\, \\vec{\\Sigma}{\\left (t \\right )} \\otimes_{\\mathrm{s}} \\hat{n}{\\left (t \\right )} \\right\\} \\right. \\nonumber \\\\&\\quad \\left. + \\left\\{ \\left[ \\frac{1}{6} \\Sigma_{n}{\\left (t \\right )} \\right]\\, \\vec{\\Sigma}{\\left (t \\right )} \\otimes_{\\mathrm{s}} \\hat{\\ell}{\\left (t \\right )} \\right\\} \\right\\}\\end{align*}$$"
       ],
       "metadata": {},
       "output_type": "display_data",
       "png": "[encoded data removed]",
       "text": [
        "TensorFunction\u2082\u2080(t)"
       ]
      }
     ],
     "prompt_number": 28
    },
    {
     "cell_type": "code",
     "collapsed": false,
     "input": [
      "T1*T2"
     ],
     "language": "python",
     "metadata": {},
     "outputs": [
      {
       "latex": [
        "$$\\begin{equation*}\\left[ \\vec{\\Sigma}{\\left (t \\right )} \\otimes_{\\mathrm{s}} \\vec{\\Sigma}{\\left (t \\right )} \\otimes_{\\mathrm{s}} \\hat{\\ell}{\\left (t \\right )} \\otimes_{\\mathrm{s}} \\hat{n}{\\left (t \\right )} \\otimes_{\\mathrm{s}} \\vec{\\Sigma}{\\left (t \\right )} \\otimes_{\\mathrm{s}} \\hat{n}{\\left (t \\right )} \\otimes_{\\mathrm{s}} \\hat{\\lambda}{\\left (t \\right )} \\right]\\end{equation*}$$"
       ],
       "metadata": {},
       "output_type": "pyout",
       "png": "[encoded data removed]",
       "prompt_number": 29,
       "text": [
        "TensorProductFunction\u2083\u2084(t)"
       ]
      }
     ],
     "prompt_number": 29
    },
    {
     "cell_type": "code",
     "collapsed": false,
     "input": [
      "type(_)"
     ],
     "language": "python",
     "metadata": {},
     "outputs": [
      {
       "metadata": {},
       "output_type": "pyout",
       "prompt_number": 30,
       "text": [
        "simpletensors.TensorProductFunction_34"
       ]
      }
     ],
     "prompt_number": 30
    },
    {
     "cell_type": "code",
     "collapsed": false,
     "input": [
      "import simpletensors\n",
      "isinstance(__, simpletensors.TensorProductFunction)"
     ],
     "language": "python",
     "metadata": {},
     "outputs": [
      {
       "metadata": {},
       "output_type": "pyout",
       "prompt_number": 31,
       "text": [
        "True"
       ]
      }
     ],
     "prompt_number": 31
    },
    {
     "cell_type": "code",
     "collapsed": false,
     "input": [
      "SymmetricTensorProduct(nHat, nHat, nHat).trace()"
     ],
     "language": "python",
     "metadata": {},
     "outputs": [
      {
       "latex": [
        "$$\\begin{align*}&\\left\\{ \\left[ \\hat{n}{\\left (t \\right )} \\right] \\right\\}\\end{align*}$$"
       ],
       "metadata": {},
       "output_type": "pyout",
       "png": "[encoded data removed]",
       "prompt_number": 32,
       "text": [
        "TensorFunction\u2082\u2086(t)"
       ]
      }
     ],
     "prompt_number": 32
    },
    {
     "cell_type": "heading",
     "level": 1,
     "metadata": {},
     "source": [
      "Defining the spherical-harmonic tensors"
     ]
    },
    {
     "cell_type": "markdown",
     "metadata": {},
     "source": [
      "[Thorne (1980)](http://link.aps.org/doi/10.1103/RevModPhys.52.299) gives a nice review, along with the following formulas:"
     ]
    },
    {
     "cell_type": "code",
     "collapsed": false,
     "input": [
      "def C(ell,m):\n",
      "    return (-1)**(m) * sympy.sqrt( frac(2*ell+1,4) * frac(factorial(ell-m), factorial(ell+m)) / sympy.pi )\n",
      "\n",
      "def a(ell,m,j):\n",
      "    return frac((-1)**j, 2**ell * factorial(j) * factorial(ell-j)) * frac(factorial(2*ell-2*j), factorial(ell-m-2*j))\n",
      "\n",
      "def YlmTensor(ell, m, OrthogonalRightHandedBasis=[nHat, lambdaHat, ellHat]):\n",
      "    from sympy import prod\n",
      "    xHat, yHat, zHat = OrthogonalRightHandedBasis\n",
      "    if(m<0):\n",
      "        mVec = Tensor(SymmetricTensorProduct(xHat), SymmetricTensorProduct(yHat,coefficient=-sympy.I))\n",
      "        #mVec = VectorFactory('mBarVec', [1,-sympy.I,0])(t)\n",
      "    else:\n",
      "        mVec = Tensor(SymmetricTensorProduct(xHat), SymmetricTensorProduct(yHat,coefficient=sympy.I))\n",
      "        #mVec = VectorFactory('mVec', [1,sympy.I,0])(t)\n",
      "    def TensorPart(ell,m,j):\n",
      "        return sympy.prod((mVec,)*m) * SymmetricTensorProduct(*((zHat,)*(ell-2*j-m))) \\\n",
      "            * sympy.prod([sum([SymmetricTensorProduct(vHat, vHat) for vHat in OrthogonalRightHandedBasis]) for i in range(j)])\n",
      "    if(m<0):\n",
      "        Y = sum([TensorPart(ell,-m,j) * (C(ell,-m) * a(ell,-m,j))\n",
      "                 for j in range(floor(frac(ell+m,2))+1) ]) * (-1)**(-m)\n",
      "    else:\n",
      "        Y = sum([TensorPart(ell,m,j) * (C(ell,m) * a(ell,m,j))\n",
      "                 for j in range(floor(frac(ell-m,2))+1) ])\n",
      "    try:\n",
      "        Y.compress()\n",
      "    except AttributeError:\n",
      "        pass\n",
      "    return Y\n",
      "\n",
      "def YlmTensorConjugate(ell, m, OrthogonalRightHandedBasis=[nHat, lambdaHat, ellHat]):\n",
      "    return YlmTensor(ell, -m, OrthogonalRightHandedBasis) * (-1)**abs(m)\n",
      "\n",
      "NVec = VectorConstant('NVec', [sympy.sin(vartheta)*sympy.cos(varphi),\n",
      "                               sympy.sin(vartheta)*sympy.sin(varphi),\n",
      "                               sympy.cos(vartheta)])(t)\n",
      "\n",
      "def NTensor(ell):\n",
      "    return SymmetricTensorProduct(*((NVec,)*ell))"
     ],
     "language": "python",
     "metadata": {},
     "outputs": [],
     "prompt_number": 3
    },
    {
     "cell_type": "markdown",
     "metadata": {},
     "source": [
      "Let's take a look at those tensors:"
     ]
    },
    {
     "cell_type": "code",
     "collapsed": false,
     "input": [
      "YlmTensor(3,-3)"
     ],
     "language": "python",
     "metadata": {},
     "outputs": [
      {
       "output_type": "stream",
       "stream": "stdout",
       "text": [
        "compressing\n",
        "( \\left\\{ \\left[ sqrt(35)/(8*sqrt(pi)) \\right]*nHat(t)*nHat(t)*nHat(t) \\right\\}\n",
        "\\left\\{ \\left[ -sqrt(35)*I/(8*sqrt(pi)) \\right]*nHat(t)*nHat(t)*lambdaHat(t) \\right\\}\n",
        "\\left\\{ \\left[ -sqrt(35)*I/(8*sqrt(pi)) \\right]*nHat(t)*lambdaHat(t)*nHat(t) \\right\\}\n",
        "\\left\\{ \\left[ -sqrt(35)/(8*sqrt(pi)) \\right]*nHat(t)*lambdaHat(t)*lambdaHat(t) \\right\\}\n",
        "\\left\\{ \\left[ -sqrt(35)*I/(8*sqrt(pi)) \\right]*lambdaHat(t)*nHat(t)*nHat(t) \\right\\}\n",
        "\\left\\{ \\left[ -sqrt(35)/(8*sqrt(pi)) \\right]*lambdaHat(t)*nHat(t)*lambdaHat(t) \\right\\}\n",
        "\\left\\{ \\left[ -sqrt(35)/(8*sqrt(pi)) \\right]*lambdaHat(t)*lambdaHat(t)*nHat(t) \\right\\}\n",
        "\\left\\{ \\left[ sqrt(35)*I/(8*sqrt(pi)) \\right]*lambdaHat(t)*lambdaHat(t)*lambdaHat(t) \\right\\} )\n",
        "Removing 2 because 1 is already here\n",
        "Removing 4 because 1 is already here"
       ]
      },
      {
       "output_type": "stream",
       "stream": "stdout",
       "text": [
        "\n",
        "Removing [2, 4] because 1 is already here\n",
        "Removing 5 because 3 is already here\n",
        "Removing 6 because 3 is already here"
       ]
      },
      {
       "output_type": "stream",
       "stream": "stdout",
       "text": [
        "\n",
        "Removing [2, 4, 5, 6] because 3 is already here\n",
        "Removing [2, 4, 5, 6] because 7 is already here\n",
        "compressed to ( \\left\\{ \\left[ sqrt(35)/(8*sqrt(pi)) \\right]*nHat(t)*nHat(t)*nHat(t) \\right\\}\n",
        "\\left\\{ \\left[ -3*sqrt(35)*I/(8*sqrt(pi)) \\right]*nHat(t)*nHat(t)*lambdaHat(t) \\right\\}\n",
        "\\left\\{ \\left[ -3*sqrt(35)/(8*sqrt(pi)) \\right]*nHat(t)*lambdaHat(t)*lambdaHat(t) \\right\\}\n",
        "\\left\\{ \\left[ sqrt(35)*I/(8*sqrt(pi)) \\right]*lambdaHat(t)*lambdaHat(t)*lambdaHat(t) \\right\\} )\n"
       ]
      },
      {
       "latex": [
        "$$\\begin{align*}&\\left\\{ \\left[ \\left(\\frac{\\sqrt{35}}{8 \\sqrt{\\pi}}\\right)\\, \\hat{n}{\\left (t \\right )} \\otimes_{\\mathrm{s}} \\hat{n}{\\left (t \\right )} \\otimes_{\\mathrm{s}} \\hat{n}{\\left (t \\right )} \\right] \\right. \\nonumber \\\\&\\quad \\left. + \\left[ \\left(- \\frac{3 \\sqrt{35} i}{8 \\sqrt{\\pi}}\\right)\\, \\hat{n}{\\left (t \\right )} \\otimes_{\\mathrm{s}} \\hat{n}{\\left (t \\right )} \\otimes_{\\mathrm{s}} \\hat{\\lambda}{\\left (t \\right )} \\right] \\right. \\nonumber \\\\&\\quad \\left. + \\left[ \\left(- \\frac{3 \\sqrt{35}}{8 \\sqrt{\\pi}}\\right)\\, \\hat{n}{\\left (t \\right )} \\otimes_{\\mathrm{s}} \\hat{\\lambda}{\\left (t \\right )} \\otimes_{\\mathrm{s}} \\hat{\\lambda}{\\left (t \\right )} \\right] \\right. \\nonumber \\\\&\\quad \\left. + \\left[ \\left(\\frac{\\sqrt{35} i}{8 \\sqrt{\\pi}}\\right)\\, \\hat{\\lambda}{\\left (t \\right )} \\otimes_{\\mathrm{s}} \\hat{\\lambda}{\\left (t \\right )} \\otimes_{\\mathrm{s}} \\hat{\\lambda}{\\left (t \\right )} \\right] \\right\\}\\end{align*}$$"
       ],
       "metadata": {},
       "output_type": "pyout",
       "png": "[encoded data removed]",
       "prompt_number": 4,
       "text": [
        "TensorFunction(t)"
       ]
      }
     ],
     "prompt_number": 4
    },
    {
     "cell_type": "code",
     "collapsed": false,
     "input": [
      "YlmTensor(3,-3).trace()"
     ],
     "language": "python",
     "metadata": {},
     "outputs": [
      {
       "output_type": "stream",
       "stream": "stdout",
       "text": [
        "compressing\n",
        "( \\left\\{ \\left[ sqrt(35)/(8*sqrt(pi)) \\right]*nHat(t)*nHat(t)*nHat(t) \\right\\}\n",
        "\\left\\{ \\left[ -sqrt(35)*I/(8*sqrt(pi)) \\right]*nHat(t)*nHat(t)*lambdaHat(t) \\right\\}\n",
        "\\left\\{ \\left[ -sqrt(35)*I/(8*sqrt(pi)) \\right]*nHat(t)*lambdaHat(t)*nHat(t) \\right\\}\n",
        "\\left\\{ \\left[ -sqrt(35)/(8*sqrt(pi)) \\right]*nHat(t)*lambdaHat(t)*lambdaHat(t) \\right\\}\n",
        "\\left\\{ \\left[ -sqrt(35)*I/(8*sqrt(pi)) \\right]*lambdaHat(t)*nHat(t)*nHat(t) \\right\\}\n",
        "\\left\\{ \\left[ -sqrt(35)/(8*sqrt(pi)) \\right]*lambdaHat(t)*nHat(t)*lambdaHat(t) \\right\\}\n",
        "\\left\\{ \\left[ -sqrt(35)/(8*sqrt(pi)) \\right]*lambdaHat(t)*lambdaHat(t)*nHat(t) \\right\\}\n",
        "\\left\\{ \\left[ sqrt(35)*I/(8*sqrt(pi)) \\right]*lambdaHat(t)*lambdaHat(t)*lambdaHat(t) \\right\\} )\n",
        "Removing 2 because 1 is already here\n",
        "Removing 4 because 1 is already here\n",
        "Removing [2, 4] because 1 is already here"
       ]
      },
      {
       "output_type": "stream",
       "stream": "stdout",
       "text": [
        "\n",
        "Removing 5 because 3 is already here\n",
        "Removing 6 because 3 is already here\n",
        "Removing [2, 4, 5, 6] because 3 is already here\n",
        "Removing [2, 4, 5, 6] because 7 is already here\n",
        "compressed to ( \\left\\{ \\left[ sqrt(35)/(8*sqrt(pi)) \\right]*nHat(t)*nHat(t)*nHat(t) \\right\\}\n",
        "\\left\\{ \\left[ -3*sqrt(35)*I/(8*sqrt(pi)) \\right]*nHat(t)*nHat(t)*lambdaHat(t) \\right\\}\n",
        "\\left\\{ \\left[ -3*sqrt(35)/(8*sqrt(pi)) \\right]*nHat(t)*lambdaHat(t)*lambdaHat(t) \\right\\}\n",
        "\\left\\{ \\left[ sqrt(35)*I/(8*sqrt(pi)) \\right]*lambdaHat(t)*lambdaHat(t)*lambdaHat(t) \\right\\} )"
       ]
      },
      {
       "output_type": "stream",
       "stream": "stdout",
       "text": [
        "\n",
        "Summing trace\n",
        "( \\left\\{ \\left[ sqrt(35)/(8*sqrt(pi)) \\right]*nHat(t)*nHat(t)*nHat(t) \\right\\}\n",
        "\\left\\{ \\left[ -3*sqrt(35)*I/(8*sqrt(pi)) \\right]*nHat(t)*nHat(t)*lambdaHat(t) \\right\\}\n",
        "\\left\\{ \\left[ -3*sqrt(35)/(8*sqrt(pi)) \\right]*nHat(t)*lambdaHat(t)*lambdaHat(t) \\right\\}\n",
        "\\left\\{ \\left[ sqrt(35)*I/(8*sqrt(pi)) \\right]*lambdaHat(t)*lambdaHat(t)*lambdaHat(t) \\right\\} )\n",
        "compressing"
       ]
      },
      {
       "output_type": "stream",
       "stream": "stdout",
       "text": [
        "\n",
        "( \\left\\{ \\left[ sqrt(35)/(48*sqrt(pi)) \\right]*nHat(t) \\right\\}\n",
        "\\left\\{ \\left[ sqrt(35)/(48*sqrt(pi)) \\right]*nHat(t) \\right\\}\n",
        "\\left\\{ \\left[ sqrt(35)/(48*sqrt(pi)) \\right]*nHat(t) \\right\\}\n",
        "\\left\\{ \\left[ sqrt(35)/(48*sqrt(pi)) \\right]*nHat(t) \\right\\}\n",
        "\\left\\{ \\left[ sqrt(35)/(48*sqrt(pi)) \\right]*nHat(t) \\right\\}\n",
        "\\left\\{ \\left[ sqrt(35)/(48*sqrt(pi)) \\right]*nHat(t) \\right\\} )\n",
        "Removing 1 because 0 is already here\n",
        "Removing 2 because 0 is already here\n",
        "Removing 3 because 0 is already here"
       ]
      },
      {
       "output_type": "stream",
       "stream": "stdout",
       "text": [
        "\n",
        "Removing 4 because 0 is already here\n",
        "Removing 5 because 0 is already here"
       ]
      },
      {
       "output_type": "stream",
       "stream": "stdout",
       "text": [
        "\n",
        "Removing [1, 2, 3, 4, 5] because 0 is already here\n",
        "compressed to ( \\left\\{ \\left[ sqrt(35)/(8*sqrt(pi)) \\right]*nHat(t) \\right\\} )\n",
        "compressing"
       ]
      },
      {
       "output_type": "stream",
       "stream": "stdout",
       "text": [
        "\n",
        "( \\left\\{ \\left[ -sqrt(35)*I/(16*sqrt(pi)) \\right]*lambdaHat(t) \\right\\}\n",
        "\\left\\{ \\left[ -sqrt(35)*I/(16*sqrt(pi)) \\right]*lambdaHat(t) \\right\\} )\n",
        "Removing 1 because 0 is already here\n",
        "Removing [1] because 0 is already here\n",
        "compressed to ( \\left\\{ \\left[ -sqrt(35)*I/(8*sqrt(pi)) \\right]*lambdaHat(t) \\right\\} )\n",
        "compressing"
       ]
      },
      {
       "output_type": "stream",
       "stream": "stdout",
       "text": [
        "\n",
        "( \\left\\{ \\left[ sqrt(35)*I/(48*sqrt(pi)) \\right]*lambdaHat(t) \\right\\}\n",
        "\\left\\{ \\left[ sqrt(35)*I/(48*sqrt(pi)) \\right]*lambdaHat(t) \\right\\}\n",
        "\\left\\{ \\left[ sqrt(35)*I/(48*sqrt(pi)) \\right]*lambdaHat(t) \\right\\}\n",
        "\\left\\{ \\left[ sqrt(35)*I/(48*sqrt(pi)) \\right]*lambdaHat(t) \\right\\}\n",
        "\\left\\{ \\left[ sqrt(35)*I/(48*sqrt(pi)) \\right]*lambdaHat(t) \\right\\}\n",
        "\\left\\{ \\left[ sqrt(35)*I/(48*sqrt(pi)) \\right]*lambdaHat(t) \\right\\} )\n",
        "Removing 1 because 0 is already here\n",
        "Removing 2 because 0 is already here\n",
        "Removing 3 because 0 is already here"
       ]
      },
      {
       "output_type": "stream",
       "stream": "stdout",
       "text": [
        "\n",
        "Removing 4 because 0 is already here\n",
        "Removing 5 because 0 is already here"
       ]
      },
      {
       "output_type": "stream",
       "stream": "stdout",
       "text": [
        "\n",
        "Removing [1, 2, 3, 4, 5] because 0 is already here\n",
        "compressed to ( \\left\\{ \\left[ sqrt(35)*I/(8*sqrt(pi)) \\right]*lambdaHat(t) \\right\\} )\n",
        "Trying to compress the Tensor trace\n",
        "compressing\n",
        "( \\left\\{ \\left[ sqrt(35)/(8*sqrt(pi)) \\right]*nHat(t) \\right\\}\n",
        "\\left\\{ \\left[ -sqrt(35)*I/(8*sqrt(pi)) \\right]*lambdaHat(t) \\right\\}\n",
        "\\left\\{ \\left[ sqrt(35)*I/(8*sqrt(pi)) \\right]*lambdaHat(t) \\right\\} )\n",
        "Removing 2 because 1 is already here\n",
        "Removing [2, 1] because 1 is already here\n",
        "compressed to ( \\left\\{ \\left[ sqrt(35)/(8*sqrt(pi)) \\right]*nHat(t) \\right\\} )\n"
       ]
      },
      {
       "latex": [
        "$$\\begin{align*}&\\left\\{ \\left[ \\left(\\frac{\\sqrt{35}}{8 \\sqrt{\\pi}}\\right)\\, \\hat{n}{\\left (t \\right )} \\right] \\right\\}\\end{align*}$$"
       ],
       "metadata": {},
       "output_type": "pyout",
       "png": "[encoded data removed]",
       "prompt_number": 5,
       "text": [
        "TensorFunction(t)"
       ]
      }
     ],
     "prompt_number": 5
    },
    {
     "cell_type": "code",
     "collapsed": false,
     "input": [
      "for ell in range(2,5):\n",
      "    print('')\n",
      "    for m in range(-ell, ell+1):\n",
      "        print('(ell,m) = ({0},{1}):'.format(ell,m))\n",
      "        display( YlmTensor(ell,m) )"
     ],
     "language": "python",
     "metadata": {},
     "outputs": [
      {
       "output_type": "stream",
       "stream": "stdout",
       "text": [
        "\n",
        "(ell,m) = (2,-2):\n"
       ]
      },
      {
       "latex": [
        "$$\\begin{align*}&\\left\\{ \\left[ \\left(\\frac{\\sqrt{30}}{8 \\sqrt{\\pi}}\\right)\\, \\hat{n}{\\left (t \\right )} \\otimes_{\\mathrm{s}} \\hat{n}{\\left (t \\right )} \\right] \\right. \\nonumber \\\\&\\quad \\left. + \\left[ \\left(- \\frac{\\sqrt{30} i}{4 \\sqrt{\\pi}}\\right)\\, \\hat{n}{\\left (t \\right )} \\otimes_{\\mathrm{s}} \\hat{\\lambda}{\\left (t \\right )} \\right] \\right. \\nonumber \\\\&\\quad \\left. + \\left[ \\left(- \\frac{\\sqrt{30}}{8 \\sqrt{\\pi}}\\right)\\, \\hat{\\lambda}{\\left (t \\right )} \\otimes_{\\mathrm{s}} \\hat{\\lambda}{\\left (t \\right )} \\right] \\right\\}\\end{align*}$$"
       ],
       "metadata": {},
       "output_type": "display_data",
       "png": "[encoded data removed]",
       "text": [
        "TensorFunction(t)"
       ]
      },
      {
       "output_type": "stream",
       "stream": "stdout",
       "text": [
        "(ell,m) = (2,-1):\n"
       ]
      },
      {
       "latex": [
        "$$\\begin{align*}&\\left\\{ \\left[ \\left(\\frac{\\sqrt{30}}{4 \\sqrt{\\pi}}\\right)\\, \\hat{n}{\\left (t \\right )} \\otimes_{\\mathrm{s}} \\hat{\\ell}{\\left (t \\right )} \\right] \\right. \\nonumber \\\\&\\quad \\left. + \\left[ \\left(- \\frac{\\sqrt{30} i}{4 \\sqrt{\\pi}}\\right)\\, \\hat{\\lambda}{\\left (t \\right )} \\otimes_{\\mathrm{s}} \\hat{\\ell}{\\left (t \\right )} \\right] \\right\\}\\end{align*}$$"
       ],
       "metadata": {},
       "output_type": "display_data",
       "png": "[encoded data removed]",
       "text": [
        "TensorFunction(t)"
       ]
      },
      {
       "output_type": "stream",
       "stream": "stdout",
       "text": [
        "(ell,m) = (2,0):\n"
       ]
      },
      {
       "latex": [
        "$$\\begin{align*}&\\left\\{ \\left[ \\left(\\frac{\\sqrt{5}}{2 \\sqrt{\\pi}}\\right)\\, \\hat{\\ell}{\\left (t \\right )} \\otimes_{\\mathrm{s}} \\hat{\\ell}{\\left (t \\right )} \\right] \\right. \\nonumber \\\\&\\quad \\left. + \\left[ \\left(- \\frac{\\sqrt{5}}{4 \\sqrt{\\pi}}\\right)\\, \\hat{n}{\\left (t \\right )} \\otimes_{\\mathrm{s}} \\hat{n}{\\left (t \\right )} \\right] \\right. \\nonumber \\\\&\\quad \\left. + \\left[ \\left(- \\frac{\\sqrt{5}}{4 \\sqrt{\\pi}}\\right)\\, \\hat{\\lambda}{\\left (t \\right )} \\otimes_{\\mathrm{s}} \\hat{\\lambda}{\\left (t \\right )} \\right] \\right\\}\\end{align*}$$"
       ],
       "metadata": {},
       "output_type": "display_data",
       "png": "[encoded data removed]",
       "text": [
        "TensorFunction(t)"
       ]
      },
      {
       "output_type": "stream",
       "stream": "stdout",
       "text": [
        "(ell,m) = (2,1):\n"
       ]
      },
      {
       "latex": [
        "$$\\begin{align*}&\\left\\{ \\left[ \\left(- \\frac{\\sqrt{30}}{4 \\sqrt{\\pi}}\\right)\\, \\hat{n}{\\left (t \\right )} \\otimes_{\\mathrm{s}} \\hat{\\ell}{\\left (t \\right )} \\right] \\right. \\nonumber \\\\&\\quad \\left. + \\left[ \\left(- \\frac{\\sqrt{30} i}{4 \\sqrt{\\pi}}\\right)\\, \\hat{\\lambda}{\\left (t \\right )} \\otimes_{\\mathrm{s}} \\hat{\\ell}{\\left (t \\right )} \\right] \\right\\}\\end{align*}$$"
       ],
       "metadata": {},
       "output_type": "display_data",
       "png": "[encoded data removed]",
       "text": [
        "TensorFunction(t)"
       ]
      },
      {
       "output_type": "stream",
       "stream": "stdout",
       "text": [
        "(ell,m) = (2,2):\n"
       ]
      },
      {
       "latex": [
        "$$\\begin{align*}&\\left\\{ \\left[ \\left(\\frac{\\sqrt{30}}{8 \\sqrt{\\pi}}\\right)\\, \\hat{n}{\\left (t \\right )} \\otimes_{\\mathrm{s}} \\hat{n}{\\left (t \\right )} \\right] \\right. \\nonumber \\\\&\\quad \\left. + \\left[ \\left(\\frac{\\sqrt{30} i}{4 \\sqrt{\\pi}}\\right)\\, \\hat{n}{\\left (t \\right )} \\otimes_{\\mathrm{s}} \\hat{\\lambda}{\\left (t \\right )} \\right] \\right. \\nonumber \\\\&\\quad \\left. + \\left[ \\left(- \\frac{\\sqrt{30}}{8 \\sqrt{\\pi}}\\right)\\, \\hat{\\lambda}{\\left (t \\right )} \\otimes_{\\mathrm{s}} \\hat{\\lambda}{\\left (t \\right )} \\right] \\right\\}\\end{align*}$$"
       ],
       "metadata": {},
       "output_type": "display_data",
       "png": "[encoded data removed]",
       "text": [
        "TensorFunction(t)"
       ]
      },
      {
       "output_type": "stream",
       "stream": "stdout",
       "text": [
        "\n",
        "(ell,m) = (3,-3):\n"
       ]
      },
      {
       "latex": [
        "$$\\begin{align*}&\\left\\{ \\left[ \\left(\\frac{\\sqrt{35}}{8 \\sqrt{\\pi}}\\right)\\, \\hat{n}{\\left (t \\right )} \\otimes_{\\mathrm{s}} \\hat{n}{\\left (t \\right )} \\otimes_{\\mathrm{s}} \\hat{n}{\\left (t \\right )} \\right] \\right. \\nonumber \\\\&\\quad \\left. + \\left[ \\left(- \\frac{3 \\sqrt{35} i}{8 \\sqrt{\\pi}}\\right)\\, \\hat{n}{\\left (t \\right )} \\otimes_{\\mathrm{s}} \\hat{n}{\\left (t \\right )} \\otimes_{\\mathrm{s}} \\hat{\\lambda}{\\left (t \\right )} \\right] \\right. \\nonumber \\\\&\\quad \\left. + \\left[ \\left(- \\frac{3 \\sqrt{35}}{8 \\sqrt{\\pi}}\\right)\\, \\hat{n}{\\left (t \\right )} \\otimes_{\\mathrm{s}} \\hat{\\lambda}{\\left (t \\right )} \\otimes_{\\mathrm{s}} \\hat{\\lambda}{\\left (t \\right )} \\right] \\right. \\nonumber \\\\&\\quad \\left. + \\left[ \\left(\\frac{\\sqrt{35} i}{8 \\sqrt{\\pi}}\\right)\\, \\hat{\\lambda}{\\left (t \\right )} \\otimes_{\\mathrm{s}} \\hat{\\lambda}{\\left (t \\right )} \\otimes_{\\mathrm{s}} \\hat{\\lambda}{\\left (t \\right )} \\right] \\right\\}\\end{align*}$$"
       ],
       "metadata": {},
       "output_type": "display_data",
       "png": "[encoded data removed]",
       "text": [
        "TensorFunction(t)"
       ]
      },
      {
       "output_type": "stream",
       "stream": "stdout",
       "text": [
        "(ell,m) = (3,-2):\n"
       ]
      },
      {
       "latex": [
        "$$\\begin{align*}&\\left\\{ \\left[ \\left(\\frac{\\sqrt{210}}{8 \\sqrt{\\pi}}\\right)\\, \\hat{n}{\\left (t \\right )} \\otimes_{\\mathrm{s}} \\hat{n}{\\left (t \\right )} \\otimes_{\\mathrm{s}} \\hat{\\ell}{\\left (t \\right )} \\right] \\right. \\nonumber \\\\&\\quad \\left. + \\left[ \\left(- \\frac{\\sqrt{210} i}{4 \\sqrt{\\pi}}\\right)\\, \\hat{n}{\\left (t \\right )} \\otimes_{\\mathrm{s}} \\hat{\\lambda}{\\left (t \\right )} \\otimes_{\\mathrm{s}} \\hat{\\ell}{\\left (t \\right )} \\right] \\right. \\nonumber \\\\&\\quad \\left. + \\left[ \\left(- \\frac{\\sqrt{210}}{8 \\sqrt{\\pi}}\\right)\\, \\hat{\\lambda}{\\left (t \\right )} \\otimes_{\\mathrm{s}} \\hat{\\lambda}{\\left (t \\right )} \\otimes_{\\mathrm{s}} \\hat{\\ell}{\\left (t \\right )} \\right] \\right\\}\\end{align*}$$"
       ],
       "metadata": {},
       "output_type": "display_data",
       "png": "[encoded data removed]",
       "text": [
        "TensorFunction(t)"
       ]
      },
      {
       "output_type": "stream",
       "stream": "stdout",
       "text": [
        "(ell,m) = (3,-1):\n"
       ]
      },
      {
       "latex": [
        "$$\\begin{align*}&\\left\\{ \\left[ \\left(\\frac{\\sqrt{21}}{2 \\sqrt{\\pi}}\\right)\\, \\hat{n}{\\left (t \\right )} \\otimes_{\\mathrm{s}} \\hat{\\ell}{\\left (t \\right )} \\otimes_{\\mathrm{s}} \\hat{\\ell}{\\left (t \\right )} \\right] \\right. \\nonumber \\\\&\\quad \\left. + \\left[ \\left(- \\frac{\\sqrt{21} i}{2 \\sqrt{\\pi}}\\right)\\, \\hat{\\lambda}{\\left (t \\right )} \\otimes_{\\mathrm{s}} \\hat{\\ell}{\\left (t \\right )} \\otimes_{\\mathrm{s}} \\hat{\\ell}{\\left (t \\right )} \\right] \\right. \\nonumber \\\\&\\quad \\left. + \\left[ \\left(- \\frac{\\sqrt{21}}{8 \\sqrt{\\pi}}\\right)\\, \\hat{n}{\\left (t \\right )} \\otimes_{\\mathrm{s}} \\hat{n}{\\left (t \\right )} \\otimes_{\\mathrm{s}} \\hat{n}{\\left (t \\right )} \\right] \\right. \\nonumber \\\\&\\quad \\left. + \\left[ \\left(- \\frac{\\sqrt{21}}{8 \\sqrt{\\pi}}\\right)\\, \\hat{n}{\\left (t \\right )} \\otimes_{\\mathrm{s}} \\hat{\\lambda}{\\left (t \\right )} \\otimes_{\\mathrm{s}} \\hat{\\lambda}{\\left (t \\right )} \\right] \\right. \\nonumber \\\\&\\quad \\left. + \\left[ \\left(\\frac{\\sqrt{21} i}{8 \\sqrt{\\pi}}\\right)\\, \\hat{\\lambda}{\\left (t \\right )} \\otimes_{\\mathrm{s}} \\hat{n}{\\left (t \\right )} \\otimes_{\\mathrm{s}} \\hat{n}{\\left (t \\right )} \\right] \\right. \\nonumber \\\\&\\quad \\left. + \\left[ \\left(\\frac{\\sqrt{21} i}{8 \\sqrt{\\pi}}\\right)\\, \\hat{\\lambda}{\\left (t \\right )} \\otimes_{\\mathrm{s}} \\hat{\\lambda}{\\left (t \\right )} \\otimes_{\\mathrm{s}} \\hat{\\lambda}{\\left (t \\right )} \\right] \\right\\}\\end{align*}$$"
       ],
       "metadata": {},
       "output_type": "display_data",
       "png": "[encoded data removed]",
       "text": [
        "TensorFunction(t)"
       ]
      },
      {
       "output_type": "stream",
       "stream": "stdout",
       "text": [
        "(ell,m) = (3,0):\n"
       ]
      },
      {
       "latex": [
        "$$\\begin{align*}&\\left\\{ \\left[ \\left(\\frac{\\sqrt{7}}{2 \\sqrt{\\pi}}\\right)\\, \\hat{\\ell}{\\left (t \\right )} \\otimes_{\\mathrm{s}} \\hat{\\ell}{\\left (t \\right )} \\otimes_{\\mathrm{s}} \\hat{\\ell}{\\left (t \\right )} \\right] \\right. \\nonumber \\\\&\\quad \\left. + \\left[ \\left(- \\frac{3 \\sqrt{7}}{4 \\sqrt{\\pi}}\\right)\\, \\hat{\\ell}{\\left (t \\right )} \\otimes_{\\mathrm{s}} \\hat{n}{\\left (t \\right )} \\otimes_{\\mathrm{s}} \\hat{n}{\\left (t \\right )} \\right] \\right. \\nonumber \\\\&\\quad \\left. + \\left[ \\left(- \\frac{3 \\sqrt{7}}{4 \\sqrt{\\pi}}\\right)\\, \\hat{\\ell}{\\left (t \\right )} \\otimes_{\\mathrm{s}} \\hat{\\lambda}{\\left (t \\right )} \\otimes_{\\mathrm{s}} \\hat{\\lambda}{\\left (t \\right )} \\right] \\right\\}\\end{align*}$$"
       ],
       "metadata": {},
       "output_type": "display_data",
       "png": "[encoded data removed]",
       "text": [
        "TensorFunction(t)"
       ]
      },
      {
       "output_type": "stream",
       "stream": "stdout",
       "text": [
        "(ell,m) = (3,1):\n"
       ]
      },
      {
       "latex": [
        "$$\\begin{align*}&\\left\\{ \\left[ \\left(- \\frac{\\sqrt{21}}{2 \\sqrt{\\pi}}\\right)\\, \\hat{n}{\\left (t \\right )} \\otimes_{\\mathrm{s}} \\hat{\\ell}{\\left (t \\right )} \\otimes_{\\mathrm{s}} \\hat{\\ell}{\\left (t \\right )} \\right] \\right. \\nonumber \\\\&\\quad \\left. + \\left[ \\left(- \\frac{\\sqrt{21} i}{2 \\sqrt{\\pi}}\\right)\\, \\hat{\\lambda}{\\left (t \\right )} \\otimes_{\\mathrm{s}} \\hat{\\ell}{\\left (t \\right )} \\otimes_{\\mathrm{s}} \\hat{\\ell}{\\left (t \\right )} \\right] \\right. \\nonumber \\\\&\\quad \\left. + \\left[ \\left(\\frac{\\sqrt{21}}{8 \\sqrt{\\pi}}\\right)\\, \\hat{n}{\\left (t \\right )} \\otimes_{\\mathrm{s}} \\hat{n}{\\left (t \\right )} \\otimes_{\\mathrm{s}} \\hat{n}{\\left (t \\right )} \\right] \\right. \\nonumber \\\\&\\quad \\left. + \\left[ \\left(\\frac{\\sqrt{21}}{8 \\sqrt{\\pi}}\\right)\\, \\hat{n}{\\left (t \\right )} \\otimes_{\\mathrm{s}} \\hat{\\lambda}{\\left (t \\right )} \\otimes_{\\mathrm{s}} \\hat{\\lambda}{\\left (t \\right )} \\right] \\right. \\nonumber \\\\&\\quad \\left. + \\left[ \\left(\\frac{\\sqrt{21} i}{8 \\sqrt{\\pi}}\\right)\\, \\hat{\\lambda}{\\left (t \\right )} \\otimes_{\\mathrm{s}} \\hat{n}{\\left (t \\right )} \\otimes_{\\mathrm{s}} \\hat{n}{\\left (t \\right )} \\right] \\right. \\nonumber \\\\&\\quad \\left. + \\left[ \\left(\\frac{\\sqrt{21} i}{8 \\sqrt{\\pi}}\\right)\\, \\hat{\\lambda}{\\left (t \\right )} \\otimes_{\\mathrm{s}} \\hat{\\lambda}{\\left (t \\right )} \\otimes_{\\mathrm{s}} \\hat{\\lambda}{\\left (t \\right )} \\right] \\right\\}\\end{align*}$$"
       ],
       "metadata": {},
       "output_type": "display_data",
       "png": "[encoded data removed]",
       "text": [
        "TensorFunction(t)"
       ]
      },
      {
       "output_type": "stream",
       "stream": "stdout",
       "text": [
        "(ell,m) = (3,2):\n"
       ]
      },
      {
       "latex": [
        "$$\\begin{align*}&\\left\\{ \\left[ \\left(\\frac{\\sqrt{210}}{8 \\sqrt{\\pi}}\\right)\\, \\hat{n}{\\left (t \\right )} \\otimes_{\\mathrm{s}} \\hat{n}{\\left (t \\right )} \\otimes_{\\mathrm{s}} \\hat{\\ell}{\\left (t \\right )} \\right] \\right. \\nonumber \\\\&\\quad \\left. + \\left[ \\left(\\frac{\\sqrt{210} i}{4 \\sqrt{\\pi}}\\right)\\, \\hat{n}{\\left (t \\right )} \\otimes_{\\mathrm{s}} \\hat{\\lambda}{\\left (t \\right )} \\otimes_{\\mathrm{s}} \\hat{\\ell}{\\left (t \\right )} \\right] \\right. \\nonumber \\\\&\\quad \\left. + \\left[ \\left(- \\frac{\\sqrt{210}}{8 \\sqrt{\\pi}}\\right)\\, \\hat{\\lambda}{\\left (t \\right )} \\otimes_{\\mathrm{s}} \\hat{\\lambda}{\\left (t \\right )} \\otimes_{\\mathrm{s}} \\hat{\\ell}{\\left (t \\right )} \\right] \\right\\}\\end{align*}$$"
       ],
       "metadata": {},
       "output_type": "display_data",
       "png": "[encoded data removed]",
       "text": [
        "TensorFunction(t)"
       ]
      },
      {
       "output_type": "stream",
       "stream": "stdout",
       "text": [
        "(ell,m) = (3,3):\n"
       ]
      },
      {
       "latex": [
        "$$\\begin{align*}&\\left\\{ \\left[ \\left(- \\frac{\\sqrt{35}}{8 \\sqrt{\\pi}}\\right)\\, \\hat{n}{\\left (t \\right )} \\otimes_{\\mathrm{s}} \\hat{n}{\\left (t \\right )} \\otimes_{\\mathrm{s}} \\hat{n}{\\left (t \\right )} \\right] \\right. \\nonumber \\\\&\\quad \\left. + \\left[ \\left(- \\frac{3 \\sqrt{35} i}{8 \\sqrt{\\pi}}\\right)\\, \\hat{n}{\\left (t \\right )} \\otimes_{\\mathrm{s}} \\hat{n}{\\left (t \\right )} \\otimes_{\\mathrm{s}} \\hat{\\lambda}{\\left (t \\right )} \\right] \\right. \\nonumber \\\\&\\quad \\left. + \\left[ \\left(\\frac{3 \\sqrt{35}}{8 \\sqrt{\\pi}}\\right)\\, \\hat{n}{\\left (t \\right )} \\otimes_{\\mathrm{s}} \\hat{\\lambda}{\\left (t \\right )} \\otimes_{\\mathrm{s}} \\hat{\\lambda}{\\left (t \\right )} \\right] \\right. \\nonumber \\\\&\\quad \\left. + \\left[ \\left(\\frac{\\sqrt{35} i}{8 \\sqrt{\\pi}}\\right)\\, \\hat{\\lambda}{\\left (t \\right )} \\otimes_{\\mathrm{s}} \\hat{\\lambda}{\\left (t \\right )} \\otimes_{\\mathrm{s}} \\hat{\\lambda}{\\left (t \\right )} \\right] \\right\\}\\end{align*}$$"
       ],
       "metadata": {},
       "output_type": "display_data",
       "png": "[encoded data removed]",
       "text": [
        "TensorFunction(t)"
       ]
      },
      {
       "output_type": "stream",
       "stream": "stdout",
       "text": [
        "\n",
        "(ell,m) = (4,-4):\n"
       ]
      },
      {
       "latex": [
        "$$\\begin{align*}&\\left\\{ \\left[ \\left(\\frac{3 \\sqrt{70}}{32 \\sqrt{\\pi}}\\right)\\, \\hat{n}{\\left (t \\right )} \\otimes_{\\mathrm{s}} \\hat{n}{\\left (t \\right )} \\otimes_{\\mathrm{s}} \\hat{n}{\\left (t \\right )} \\otimes_{\\mathrm{s}} \\hat{n}{\\left (t \\right )} \\right] \\right. \\nonumber \\\\&\\quad \\left. + \\left[ \\left(- \\frac{3 \\sqrt{70} i}{8 \\sqrt{\\pi}}\\right)\\, \\hat{n}{\\left (t \\right )} \\otimes_{\\mathrm{s}} \\hat{n}{\\left (t \\right )} \\otimes_{\\mathrm{s}} \\hat{n}{\\left (t \\right )} \\otimes_{\\mathrm{s}} \\hat{\\lambda}{\\left (t \\right )} \\right] \\right. \\nonumber \\\\&\\quad \\left. + \\left[ \\left(- \\frac{9 \\sqrt{70}}{16 \\sqrt{\\pi}}\\right)\\, \\hat{n}{\\left (t \\right )} \\otimes_{\\mathrm{s}} \\hat{n}{\\left (t \\right )} \\otimes_{\\mathrm{s}} \\hat{\\lambda}{\\left (t \\right )} \\otimes_{\\mathrm{s}} \\hat{\\lambda}{\\left (t \\right )} \\right] \\right. \\nonumber \\\\&\\quad \\left. + \\left[ \\left(\\frac{3 \\sqrt{70} i}{8 \\sqrt{\\pi}}\\right)\\, \\hat{n}{\\left (t \\right )} \\otimes_{\\mathrm{s}} \\hat{\\lambda}{\\left (t \\right )} \\otimes_{\\mathrm{s}} \\hat{\\lambda}{\\left (t \\right )} \\otimes_{\\mathrm{s}} \\hat{\\lambda}{\\left (t \\right )} \\right] \\right. \\nonumber \\\\&\\quad \\left. + \\left[ \\left(\\frac{3 \\sqrt{70}}{32 \\sqrt{\\pi}}\\right)\\, \\hat{\\lambda}{\\left (t \\right )} \\otimes_{\\mathrm{s}} \\hat{\\lambda}{\\left (t \\right )} \\otimes_{\\mathrm{s}} \\hat{\\lambda}{\\left (t \\right )} \\otimes_{\\mathrm{s}} \\hat{\\lambda}{\\left (t \\right )} \\right] \\right\\}\\end{align*}$$"
       ],
       "metadata": {},
       "output_type": "display_data",
       "png": "[encoded data removed]",
       "text": [
        "TensorFunction(t)"
       ]
      },
      {
       "output_type": "stream",
       "stream": "stdout",
       "text": [
        "(ell,m) = (4,-3):\n"
       ]
      },
      {
       "latex": [
        "$$\\begin{align*}&\\left\\{ \\left[ \\left(\\frac{3 \\sqrt{35}}{8 \\sqrt{\\pi}}\\right)\\, \\hat{n}{\\left (t \\right )} \\otimes_{\\mathrm{s}} \\hat{n}{\\left (t \\right )} \\otimes_{\\mathrm{s}} \\hat{n}{\\left (t \\right )} \\otimes_{\\mathrm{s}} \\hat{\\ell}{\\left (t \\right )} \\right] \\right. \\nonumber \\\\&\\quad \\left. + \\left[ \\left(- \\frac{9 \\sqrt{35} i}{8 \\sqrt{\\pi}}\\right)\\, \\hat{n}{\\left (t \\right )} \\otimes_{\\mathrm{s}} \\hat{n}{\\left (t \\right )} \\otimes_{\\mathrm{s}} \\hat{\\lambda}{\\left (t \\right )} \\otimes_{\\mathrm{s}} \\hat{\\ell}{\\left (t \\right )} \\right] \\right. \\nonumber \\\\&\\quad \\left. + \\left[ \\left(- \\frac{9 \\sqrt{35}}{8 \\sqrt{\\pi}}\\right)\\, \\hat{n}{\\left (t \\right )} \\otimes_{\\mathrm{s}} \\hat{\\lambda}{\\left (t \\right )} \\otimes_{\\mathrm{s}} \\hat{\\lambda}{\\left (t \\right )} \\otimes_{\\mathrm{s}} \\hat{\\ell}{\\left (t \\right )} \\right] \\right. \\nonumber \\\\&\\quad \\left. + \\left[ \\left(\\frac{3 \\sqrt{35} i}{8 \\sqrt{\\pi}}\\right)\\, \\hat{\\lambda}{\\left (t \\right )} \\otimes_{\\mathrm{s}} \\hat{\\lambda}{\\left (t \\right )} \\otimes_{\\mathrm{s}} \\hat{\\lambda}{\\left (t \\right )} \\otimes_{\\mathrm{s}} \\hat{\\ell}{\\left (t \\right )} \\right] \\right\\}\\end{align*}$$"
       ],
       "metadata": {},
       "output_type": "display_data",
       "png": "[encoded data removed]",
       "text": [
        "TensorFunction(t)"
       ]
      },
      {
       "output_type": "stream",
       "stream": "stdout",
       "text": [
        "(ell,m) = (4,-2):\n"
       ]
      },
      {
       "latex": [
        "$$\\begin{align*}&\\left\\{ \\left[ \\left(\\frac{9 \\sqrt{10}}{8 \\sqrt{\\pi}}\\right)\\, \\hat{n}{\\left (t \\right )} \\otimes_{\\mathrm{s}} \\hat{n}{\\left (t \\right )} \\otimes_{\\mathrm{s}} \\hat{\\ell}{\\left (t \\right )} \\otimes_{\\mathrm{s}} \\hat{\\ell}{\\left (t \\right )} \\right] \\right. \\nonumber \\\\&\\quad \\left. + \\left[ \\left(- \\frac{9 \\sqrt{10} i}{4 \\sqrt{\\pi}}\\right)\\, \\hat{n}{\\left (t \\right )} \\otimes_{\\mathrm{s}} \\hat{\\lambda}{\\left (t \\right )} \\otimes_{\\mathrm{s}} \\hat{\\ell}{\\left (t \\right )} \\otimes_{\\mathrm{s}} \\hat{\\ell}{\\left (t \\right )} \\right] \\right. \\nonumber \\\\&\\quad \\left. + \\left[ \\left(- \\frac{9 \\sqrt{10}}{8 \\sqrt{\\pi}}\\right)\\, \\hat{\\lambda}{\\left (t \\right )} \\otimes_{\\mathrm{s}} \\hat{\\lambda}{\\left (t \\right )} \\otimes_{\\mathrm{s}} \\hat{\\ell}{\\left (t \\right )} \\otimes_{\\mathrm{s}} \\hat{\\ell}{\\left (t \\right )} \\right] \\right. \\nonumber \\\\&\\quad \\left. + \\left[ \\left(- \\frac{3 \\sqrt{10}}{16 \\sqrt{\\pi}}\\right)\\, \\hat{n}{\\left (t \\right )} \\otimes_{\\mathrm{s}} \\hat{n}{\\left (t \\right )} \\otimes_{\\mathrm{s}} \\hat{n}{\\left (t \\right )} \\otimes_{\\mathrm{s}} \\hat{n}{\\left (t \\right )} \\right] \\right. \\nonumber \\\\&\\quad \\left. + \\left[ \\left(\\frac{3 \\sqrt{10} i}{8 \\sqrt{\\pi}}\\right)\\, \\hat{n}{\\left (t \\right )} \\otimes_{\\mathrm{s}} \\hat{\\lambda}{\\left (t \\right )} \\otimes_{\\mathrm{s}} \\hat{n}{\\left (t \\right )} \\otimes_{\\mathrm{s}} \\hat{n}{\\left (t \\right )} \\right] \\right. \\nonumber \\\\&\\quad \\left. + \\left[ \\left(\\frac{3 \\sqrt{10} i}{8 \\sqrt{\\pi}}\\right)\\, \\hat{n}{\\left (t \\right )} \\otimes_{\\mathrm{s}} \\hat{\\lambda}{\\left (t \\right )} \\otimes_{\\mathrm{s}} \\hat{\\lambda}{\\left (t \\right )} \\otimes_{\\mathrm{s}} \\hat{\\lambda}{\\left (t \\right )} \\right] \\right. \\nonumber \\\\&\\quad \\left. + \\left[ \\left(\\frac{3 \\sqrt{10}}{16 \\sqrt{\\pi}}\\right)\\, \\hat{\\lambda}{\\left (t \\right )} \\otimes_{\\mathrm{s}} \\hat{\\lambda}{\\left (t \\right )} \\otimes_{\\mathrm{s}} \\hat{\\lambda}{\\left (t \\right )} \\otimes_{\\mathrm{s}} \\hat{\\lambda}{\\left (t \\right )} \\right] \\right\\}\\end{align*}$$"
       ],
       "metadata": {},
       "output_type": "display_data",
       "png": "[encoded data removed]",
       "text": [
        "TensorFunction(t)"
       ]
      },
      {
       "output_type": "stream",
       "stream": "stdout",
       "text": [
        "(ell,m) = (4,-1):\n"
       ]
      },
      {
       "latex": [
        "$$\\begin{align*}&\\left\\{ \\left[ \\left(\\frac{3 \\sqrt{5}}{2 \\sqrt{\\pi}}\\right)\\, \\hat{n}{\\left (t \\right )} \\otimes_{\\mathrm{s}} \\hat{\\ell}{\\left (t \\right )} \\otimes_{\\mathrm{s}} \\hat{\\ell}{\\left (t \\right )} \\otimes_{\\mathrm{s}} \\hat{\\ell}{\\left (t \\right )} \\right] \\right. \\nonumber \\\\&\\quad \\left. + \\left[ \\left(- \\frac{3 \\sqrt{5} i}{2 \\sqrt{\\pi}}\\right)\\, \\hat{\\lambda}{\\left (t \\right )} \\otimes_{\\mathrm{s}} \\hat{\\ell}{\\left (t \\right )} \\otimes_{\\mathrm{s}} \\hat{\\ell}{\\left (t \\right )} \\otimes_{\\mathrm{s}} \\hat{\\ell}{\\left (t \\right )} \\right] \\right. \\nonumber \\\\&\\quad \\left. + \\left[ \\left(- \\frac{9 \\sqrt{5}}{8 \\sqrt{\\pi}}\\right)\\, \\hat{n}{\\left (t \\right )} \\otimes_{\\mathrm{s}} \\hat{\\ell}{\\left (t \\right )} \\otimes_{\\mathrm{s}} \\hat{n}{\\left (t \\right )} \\otimes_{\\mathrm{s}} \\hat{n}{\\left (t \\right )} \\right] \\right. \\nonumber \\\\&\\quad \\left. + \\left[ \\left(- \\frac{9 \\sqrt{5}}{8 \\sqrt{\\pi}}\\right)\\, \\hat{n}{\\left (t \\right )} \\otimes_{\\mathrm{s}} \\hat{\\ell}{\\left (t \\right )} \\otimes_{\\mathrm{s}} \\hat{\\lambda}{\\left (t \\right )} \\otimes_{\\mathrm{s}} \\hat{\\lambda}{\\left (t \\right )} \\right] \\right. \\nonumber \\\\&\\quad \\left. + \\left[ \\left(\\frac{9 \\sqrt{5} i}{8 \\sqrt{\\pi}}\\right)\\, \\hat{\\lambda}{\\left (t \\right )} \\otimes_{\\mathrm{s}} \\hat{\\ell}{\\left (t \\right )} \\otimes_{\\mathrm{s}} \\hat{n}{\\left (t \\right )} \\otimes_{\\mathrm{s}} \\hat{n}{\\left (t \\right )} \\right] \\right. \\nonumber \\\\&\\quad \\left. + \\left[ \\left(\\frac{9 \\sqrt{5} i}{8 \\sqrt{\\pi}}\\right)\\, \\hat{\\lambda}{\\left (t \\right )} \\otimes_{\\mathrm{s}} \\hat{\\ell}{\\left (t \\right )} \\otimes_{\\mathrm{s}} \\hat{\\lambda}{\\left (t \\right )} \\otimes_{\\mathrm{s}} \\hat{\\lambda}{\\left (t \\right )} \\right] \\right\\}\\end{align*}$$"
       ],
       "metadata": {},
       "output_type": "display_data",
       "png": "[encoded data removed]",
       "text": [
        "TensorFunction(t)"
       ]
      },
      {
       "output_type": "stream",
       "stream": "stdout",
       "text": [
        "(ell,m) = (4,0):\n"
       ]
      },
      {
       "latex": [
        "$$\\begin{align*}&\\left\\{ \\left[ \\left(\\frac{3}{2 \\sqrt{\\pi}}\\right)\\, \\hat{\\ell}{\\left (t \\right )} \\otimes_{\\mathrm{s}} \\hat{\\ell}{\\left (t \\right )} \\otimes_{\\mathrm{s}} \\hat{\\ell}{\\left (t \\right )} \\otimes_{\\mathrm{s}} \\hat{\\ell}{\\left (t \\right )} \\right] \\right. \\nonumber \\\\&\\quad \\left. + \\left[ \\left(- \\frac{9}{2 \\sqrt{\\pi}}\\right)\\, \\hat{\\ell}{\\left (t \\right )} \\otimes_{\\mathrm{s}} \\hat{\\ell}{\\left (t \\right )} \\otimes_{\\mathrm{s}} \\hat{n}{\\left (t \\right )} \\otimes_{\\mathrm{s}} \\hat{n}{\\left (t \\right )} \\right] \\right. \\nonumber \\\\&\\quad \\left. + \\left[ \\left(- \\frac{9}{2 \\sqrt{\\pi}}\\right)\\, \\hat{\\ell}{\\left (t \\right )} \\otimes_{\\mathrm{s}} \\hat{\\ell}{\\left (t \\right )} \\otimes_{\\mathrm{s}} \\hat{\\lambda}{\\left (t \\right )} \\otimes_{\\mathrm{s}} \\hat{\\lambda}{\\left (t \\right )} \\right] \\right. \\nonumber \\\\&\\quad \\left. + \\left[ \\left(\\frac{9}{16 \\sqrt{\\pi}}\\right)\\, \\hat{n}{\\left (t \\right )} \\otimes_{\\mathrm{s}} \\hat{n}{\\left (t \\right )} \\otimes_{\\mathrm{s}} \\hat{n}{\\left (t \\right )} \\otimes_{\\mathrm{s}} \\hat{n}{\\left (t \\right )} \\right] \\right. \\nonumber \\\\&\\quad \\left. + \\left[ \\left(\\frac{9}{8 \\sqrt{\\pi}}\\right)\\, \\hat{n}{\\left (t \\right )} \\otimes_{\\mathrm{s}} \\hat{n}{\\left (t \\right )} \\otimes_{\\mathrm{s}} \\hat{\\lambda}{\\left (t \\right )} \\otimes_{\\mathrm{s}} \\hat{\\lambda}{\\left (t \\right )} \\right] \\right. \\nonumber \\\\&\\quad \\left. + \\left[ \\left(\\frac{9}{16 \\sqrt{\\pi}}\\right)\\, \\hat{\\lambda}{\\left (t \\right )} \\otimes_{\\mathrm{s}} \\hat{\\lambda}{\\left (t \\right )} \\otimes_{\\mathrm{s}} \\hat{\\lambda}{\\left (t \\right )} \\otimes_{\\mathrm{s}} \\hat{\\lambda}{\\left (t \\right )} \\right] \\right\\}\\end{align*}$$"
       ],
       "metadata": {},
       "output_type": "display_data",
       "png": "[encoded data removed]",
       "text": [
        "TensorFunction(t)"
       ]
      },
      {
       "output_type": "stream",
       "stream": "stdout",
       "text": [
        "(ell,m) = (4,1):\n"
       ]
      },
      {
       "latex": [
        "$$\\begin{align*}&\\left\\{ \\left[ \\left(- \\frac{3 \\sqrt{5}}{2 \\sqrt{\\pi}}\\right)\\, \\hat{n}{\\left (t \\right )} \\otimes_{\\mathrm{s}} \\hat{\\ell}{\\left (t \\right )} \\otimes_{\\mathrm{s}} \\hat{\\ell}{\\left (t \\right )} \\otimes_{\\mathrm{s}} \\hat{\\ell}{\\left (t \\right )} \\right] \\right. \\nonumber \\\\&\\quad \\left. + \\left[ \\left(- \\frac{3 \\sqrt{5} i}{2 \\sqrt{\\pi}}\\right)\\, \\hat{\\lambda}{\\left (t \\right )} \\otimes_{\\mathrm{s}} \\hat{\\ell}{\\left (t \\right )} \\otimes_{\\mathrm{s}} \\hat{\\ell}{\\left (t \\right )} \\otimes_{\\mathrm{s}} \\hat{\\ell}{\\left (t \\right )} \\right] \\right. \\nonumber \\\\&\\quad \\left. + \\left[ \\left(\\frac{9 \\sqrt{5}}{8 \\sqrt{\\pi}}\\right)\\, \\hat{n}{\\left (t \\right )} \\otimes_{\\mathrm{s}} \\hat{\\ell}{\\left (t \\right )} \\otimes_{\\mathrm{s}} \\hat{n}{\\left (t \\right )} \\otimes_{\\mathrm{s}} \\hat{n}{\\left (t \\right )} \\right] \\right. \\nonumber \\\\&\\quad \\left. + \\left[ \\left(\\frac{9 \\sqrt{5}}{8 \\sqrt{\\pi}}\\right)\\, \\hat{n}{\\left (t \\right )} \\otimes_{\\mathrm{s}} \\hat{\\ell}{\\left (t \\right )} \\otimes_{\\mathrm{s}} \\hat{\\lambda}{\\left (t \\right )} \\otimes_{\\mathrm{s}} \\hat{\\lambda}{\\left (t \\right )} \\right] \\right. \\nonumber \\\\&\\quad \\left. + \\left[ \\left(\\frac{9 \\sqrt{5} i}{8 \\sqrt{\\pi}}\\right)\\, \\hat{\\lambda}{\\left (t \\right )} \\otimes_{\\mathrm{s}} \\hat{\\ell}{\\left (t \\right )} \\otimes_{\\mathrm{s}} \\hat{n}{\\left (t \\right )} \\otimes_{\\mathrm{s}} \\hat{n}{\\left (t \\right )} \\right] \\right. \\nonumber \\\\&\\quad \\left. + \\left[ \\left(\\frac{9 \\sqrt{5} i}{8 \\sqrt{\\pi}}\\right)\\, \\hat{\\lambda}{\\left (t \\right )} \\otimes_{\\mathrm{s}} \\hat{\\ell}{\\left (t \\right )} \\otimes_{\\mathrm{s}} \\hat{\\lambda}{\\left (t \\right )} \\otimes_{\\mathrm{s}} \\hat{\\lambda}{\\left (t \\right )} \\right] \\right\\}\\end{align*}$$"
       ],
       "metadata": {},
       "output_type": "display_data",
       "png": "[encoded data removed]",
       "text": [
        "TensorFunction(t)"
       ]
      },
      {
       "output_type": "stream",
       "stream": "stdout",
       "text": [
        "(ell,m) = (4,2):\n"
       ]
      },
      {
       "latex": [
        "$$\\begin{align*}&\\left\\{ \\left[ \\left(\\frac{9 \\sqrt{10}}{8 \\sqrt{\\pi}}\\right)\\, \\hat{n}{\\left (t \\right )} \\otimes_{\\mathrm{s}} \\hat{n}{\\left (t \\right )} \\otimes_{\\mathrm{s}} \\hat{\\ell}{\\left (t \\right )} \\otimes_{\\mathrm{s}} \\hat{\\ell}{\\left (t \\right )} \\right] \\right. \\nonumber \\\\&\\quad \\left. + \\left[ \\left(\\frac{9 \\sqrt{10} i}{4 \\sqrt{\\pi}}\\right)\\, \\hat{n}{\\left (t \\right )} \\otimes_{\\mathrm{s}} \\hat{\\lambda}{\\left (t \\right )} \\otimes_{\\mathrm{s}} \\hat{\\ell}{\\left (t \\right )} \\otimes_{\\mathrm{s}} \\hat{\\ell}{\\left (t \\right )} \\right] \\right. \\nonumber \\\\&\\quad \\left. + \\left[ \\left(- \\frac{9 \\sqrt{10}}{8 \\sqrt{\\pi}}\\right)\\, \\hat{\\lambda}{\\left (t \\right )} \\otimes_{\\mathrm{s}} \\hat{\\lambda}{\\left (t \\right )} \\otimes_{\\mathrm{s}} \\hat{\\ell}{\\left (t \\right )} \\otimes_{\\mathrm{s}} \\hat{\\ell}{\\left (t \\right )} \\right] \\right. \\nonumber \\\\&\\quad \\left. + \\left[ \\left(- \\frac{3 \\sqrt{10}}{16 \\sqrt{\\pi}}\\right)\\, \\hat{n}{\\left (t \\right )} \\otimes_{\\mathrm{s}} \\hat{n}{\\left (t \\right )} \\otimes_{\\mathrm{s}} \\hat{n}{\\left (t \\right )} \\otimes_{\\mathrm{s}} \\hat{n}{\\left (t \\right )} \\right] \\right. \\nonumber \\\\&\\quad \\left. + \\left[ \\left(- \\frac{3 \\sqrt{10} i}{8 \\sqrt{\\pi}}\\right)\\, \\hat{n}{\\left (t \\right )} \\otimes_{\\mathrm{s}} \\hat{\\lambda}{\\left (t \\right )} \\otimes_{\\mathrm{s}} \\hat{n}{\\left (t \\right )} \\otimes_{\\mathrm{s}} \\hat{n}{\\left (t \\right )} \\right] \\right. \\nonumber \\\\&\\quad \\left. + \\left[ \\left(- \\frac{3 \\sqrt{10} i}{8 \\sqrt{\\pi}}\\right)\\, \\hat{n}{\\left (t \\right )} \\otimes_{\\mathrm{s}} \\hat{\\lambda}{\\left (t \\right )} \\otimes_{\\mathrm{s}} \\hat{\\lambda}{\\left (t \\right )} \\otimes_{\\mathrm{s}} \\hat{\\lambda}{\\left (t \\right )} \\right] \\right. \\nonumber \\\\&\\quad \\left. + \\left[ \\left(\\frac{3 \\sqrt{10}}{16 \\sqrt{\\pi}}\\right)\\, \\hat{\\lambda}{\\left (t \\right )} \\otimes_{\\mathrm{s}} \\hat{\\lambda}{\\left (t \\right )} \\otimes_{\\mathrm{s}} \\hat{\\lambda}{\\left (t \\right )} \\otimes_{\\mathrm{s}} \\hat{\\lambda}{\\left (t \\right )} \\right] \\right\\}\\end{align*}$$"
       ],
       "metadata": {},
       "output_type": "display_data",
       "png": "[encoded data removed]",
       "text": [
        "TensorFunction(t)"
       ]
      },
      {
       "output_type": "stream",
       "stream": "stdout",
       "text": [
        "(ell,m) = (4,3):\n"
       ]
      },
      {
       "latex": [
        "$$\\begin{align*}&\\left\\{ \\left[ \\left(- \\frac{3 \\sqrt{35}}{8 \\sqrt{\\pi}}\\right)\\, \\hat{n}{\\left (t \\right )} \\otimes_{\\mathrm{s}} \\hat{n}{\\left (t \\right )} \\otimes_{\\mathrm{s}} \\hat{n}{\\left (t \\right )} \\otimes_{\\mathrm{s}} \\hat{\\ell}{\\left (t \\right )} \\right] \\right. \\nonumber \\\\&\\quad \\left. + \\left[ \\left(- \\frac{9 \\sqrt{35} i}{8 \\sqrt{\\pi}}\\right)\\, \\hat{n}{\\left (t \\right )} \\otimes_{\\mathrm{s}} \\hat{n}{\\left (t \\right )} \\otimes_{\\mathrm{s}} \\hat{\\lambda}{\\left (t \\right )} \\otimes_{\\mathrm{s}} \\hat{\\ell}{\\left (t \\right )} \\right] \\right. \\nonumber \\\\&\\quad \\left. + \\left[ \\left(\\frac{9 \\sqrt{35}}{8 \\sqrt{\\pi}}\\right)\\, \\hat{n}{\\left (t \\right )} \\otimes_{\\mathrm{s}} \\hat{\\lambda}{\\left (t \\right )} \\otimes_{\\mathrm{s}} \\hat{\\lambda}{\\left (t \\right )} \\otimes_{\\mathrm{s}} \\hat{\\ell}{\\left (t \\right )} \\right] \\right. \\nonumber \\\\&\\quad \\left. + \\left[ \\left(\\frac{3 \\sqrt{35} i}{8 \\sqrt{\\pi}}\\right)\\, \\hat{\\lambda}{\\left (t \\right )} \\otimes_{\\mathrm{s}} \\hat{\\lambda}{\\left (t \\right )} \\otimes_{\\mathrm{s}} \\hat{\\lambda}{\\left (t \\right )} \\otimes_{\\mathrm{s}} \\hat{\\ell}{\\left (t \\right )} \\right] \\right\\}\\end{align*}$$"
       ],
       "metadata": {},
       "output_type": "display_data",
       "png": "[encoded data removed]",
       "text": [
        "TensorFunction(t)"
       ]
      },
      {
       "output_type": "stream",
       "stream": "stdout",
       "text": [
        "(ell,m) = (4,4):\n"
       ]
      },
      {
       "latex": [
        "$$\\begin{align*}&\\left\\{ \\left[ \\left(\\frac{3 \\sqrt{70}}{32 \\sqrt{\\pi}}\\right)\\, \\hat{n}{\\left (t \\right )} \\otimes_{\\mathrm{s}} \\hat{n}{\\left (t \\right )} \\otimes_{\\mathrm{s}} \\hat{n}{\\left (t \\right )} \\otimes_{\\mathrm{s}} \\hat{n}{\\left (t \\right )} \\right] \\right. \\nonumber \\\\&\\quad \\left. + \\left[ \\left(\\frac{3 \\sqrt{70} i}{8 \\sqrt{\\pi}}\\right)\\, \\hat{n}{\\left (t \\right )} \\otimes_{\\mathrm{s}} \\hat{n}{\\left (t \\right )} \\otimes_{\\mathrm{s}} \\hat{n}{\\left (t \\right )} \\otimes_{\\mathrm{s}} \\hat{\\lambda}{\\left (t \\right )} \\right] \\right. \\nonumber \\\\&\\quad \\left. + \\left[ \\left(- \\frac{9 \\sqrt{70}}{16 \\sqrt{\\pi}}\\right)\\, \\hat{n}{\\left (t \\right )} \\otimes_{\\mathrm{s}} \\hat{n}{\\left (t \\right )} \\otimes_{\\mathrm{s}} \\hat{\\lambda}{\\left (t \\right )} \\otimes_{\\mathrm{s}} \\hat{\\lambda}{\\left (t \\right )} \\right] \\right. \\nonumber \\\\&\\quad \\left. + \\left[ \\left(- \\frac{3 \\sqrt{70} i}{8 \\sqrt{\\pi}}\\right)\\, \\hat{n}{\\left (t \\right )} \\otimes_{\\mathrm{s}} \\hat{\\lambda}{\\left (t \\right )} \\otimes_{\\mathrm{s}} \\hat{\\lambda}{\\left (t \\right )} \\otimes_{\\mathrm{s}} \\hat{\\lambda}{\\left (t \\right )} \\right] \\right. \\nonumber \\\\&\\quad \\left. + \\left[ \\left(\\frac{3 \\sqrt{70}}{32 \\sqrt{\\pi}}\\right)\\, \\hat{\\lambda}{\\left (t \\right )} \\otimes_{\\mathrm{s}} \\hat{\\lambda}{\\left (t \\right )} \\otimes_{\\mathrm{s}} \\hat{\\lambda}{\\left (t \\right )} \\otimes_{\\mathrm{s}} \\hat{\\lambda}{\\left (t \\right )} \\right] \\right\\}\\end{align*}$$"
       ],
       "metadata": {},
       "output_type": "display_data",
       "png": "[encoded data removed]",
       "text": [
        "TensorFunction(t)"
       ]
      }
     ],
     "prompt_number": 4
    },
    {
     "cell_type": "code",
     "collapsed": false,
     "input": [
      "NTensor(2)"
     ],
     "language": "python",
     "metadata": {},
     "outputs": [
      {
       "latex": [
        "$$\\begin{equation*}\\left[ \\vec{N}{\\left (t \\right )} \\otimes_{\\mathrm{s}} \\vec{N}{\\left (t \\right )} \\right]\\end{equation*}$$"
       ],
       "metadata": {},
       "output_type": "pyout",
       "png": "[encoded data removed]",
       "prompt_number": 5,
       "text": [
        "TensorProductFunction(t)"
       ]
      }
     ],
     "prompt_number": 5
    },
    {
     "cell_type": "code",
     "collapsed": false,
     "input": [
      "for v in YlmTensor(3,-3):\n",
      "    display(v.trace())"
     ],
     "language": "python",
     "metadata": {},
     "outputs": [
      {
       "latex": [
        "$$\\begin{align*}&\\left\\{ \\left[ \\left(\\frac{\\sqrt{35}}{8 \\sqrt{\\pi}}\\right)\\, \\hat{n}{\\left (t \\right )} \\right] \\right\\}\\end{align*}$$"
       ],
       "metadata": {},
       "output_type": "display_data",
       "png": "[encoded data removed]",
       "text": [
        "TensorFunction(t)"
       ]
      },
      {
       "latex": [
        "$$\\begin{align*}&\\left\\{ \\left[ \\left(- \\frac{\\sqrt{35} i}{8 \\sqrt{\\pi}}\\right)\\, \\hat{\\lambda}{\\left (t \\right )} \\right] \\right\\}\\end{align*}$$"
       ],
       "metadata": {},
       "output_type": "display_data",
       "png": "[encoded data removed]",
       "text": [
        "TensorFunction(t)"
       ]
      },
      {
       "latex": [
        "$$\\begin{align*}&\\left\\{ \\left[ \\left(- \\frac{\\sqrt{35}}{8 \\sqrt{\\pi}}\\right)\\, \\hat{n}{\\left (t \\right )} \\right] \\right\\}\\end{align*}$$"
       ],
       "metadata": {},
       "output_type": "display_data",
       "png": "[encoded data removed]",
       "text": [
        "TensorFunction(t)"
       ]
      },
      {
       "latex": [
        "$$\\begin{align*}&\\left\\{ \\left[ \\left(\\frac{\\sqrt{35} i}{8 \\sqrt{\\pi}}\\right)\\, \\hat{\\lambda}{\\left (t \\right )} \\right] \\right\\}\\end{align*}$$"
       ],
       "metadata": {},
       "output_type": "display_data",
       "png": "[encoded data removed]",
       "text": [
        "TensorFunction(t)"
       ]
      }
     ],
     "prompt_number": 5
    },
    {
     "cell_type": "heading",
     "level": 1,
     "metadata": {},
     "source": [
      "Spherical-harmonic functions"
     ]
    },
    {
     "cell_type": "markdown",
     "metadata": {},
     "source": [
      "So now, I can just contract the $Y^{\\ell,m}_L$ tensors with the $N_L$ tensors to get the usual spherical harmonics:"
     ]
    },
    {
     "cell_type": "code",
     "collapsed": false,
     "input": [
      "YlmTensor(0,0)"
     ],
     "language": "python",
     "metadata": {},
     "outputs": [
      {
       "latex": [
        "$$\\frac{1}{2 \\sqrt{\\pi}}$$"
       ],
       "metadata": {},
       "output_type": "pyout",
       "png": "[encoded data removed]",
       "prompt_number": 7,
       "text": [
        "   1   \n",
        "\u2500\u2500\u2500\u2500\u2500\u2500\u2500\n",
        "    ___\n",
        "2\u22c5\u2572\u2571 \u03c0 "
       ]
      }
     ],
     "prompt_number": 7
    },
    {
     "cell_type": "code",
     "collapsed": false,
     "input": [
      "for ell in range(1,3):\n",
      "    print('')\n",
      "    for m in range(-ell, ell+1):\n",
      "        print('(ell,m) = ({0},{1}):'.format(ell,m))\n",
      "        display(exptrigsimp( YlmTensor(ell,m) | NTensor(ell) ))"
     ],
     "language": "python",
     "metadata": {},
     "outputs": [
      {
       "output_type": "stream",
       "stream": "stdout",
       "text": [
        "\n",
        "(ell,m) = (1,-1):\n"
       ]
      },
      {
       "latex": [
        "$$\\frac{\\sqrt{6} e^{- i \\varphi}}{4 \\sqrt{\\pi}} \\sin{\\left (\\vartheta \\right )}$$"
       ],
       "metadata": {},
       "output_type": "display_data",
       "png": "[encoded data removed]",
       "text": [
        "  ___  -\u2148\u22c5varphi              \n",
        "\u2572\u2571 6 \u22c5\u212f         \u22c5sin(vartheta)\n",
        "\u2500\u2500\u2500\u2500\u2500\u2500\u2500\u2500\u2500\u2500\u2500\u2500\u2500\u2500\u2500\u2500\u2500\u2500\u2500\u2500\u2500\u2500\u2500\u2500\u2500\u2500\u2500\u2500\u2500\u2500\n",
        "               ___            \n",
        "           4\u22c5\u2572\u2571 \u03c0             "
       ]
      },
      {
       "output_type": "stream",
       "stream": "stdout",
       "text": [
        "(ell,m) = (1,0):\n"
       ]
      },
      {
       "latex": [
        "$$\\frac{\\sqrt{3}}{2 \\sqrt{\\pi}} \\cos{\\left (\\vartheta \\right )}$$"
       ],
       "metadata": {},
       "output_type": "display_data",
       "png": "[encoded data removed]",
       "text": [
        "  ___              \n",
        "\u2572\u2571 3 \u22c5cos(vartheta)\n",
        "\u2500\u2500\u2500\u2500\u2500\u2500\u2500\u2500\u2500\u2500\u2500\u2500\u2500\u2500\u2500\u2500\u2500\u2500\u2500\n",
        "          ___      \n",
        "      2\u22c5\u2572\u2571 \u03c0       "
       ]
      },
      {
       "output_type": "stream",
       "stream": "stdout",
       "text": [
        "(ell,m) = (1,1):\n"
       ]
      },
      {
       "latex": [
        "$$- \\frac{\\sqrt{6} e^{i \\varphi}}{4 \\sqrt{\\pi}} \\sin{\\left (\\vartheta \\right )}$$"
       ],
       "metadata": {},
       "output_type": "display_data",
       "png": "[encoded data removed]",
       "text": [
        "   ___  \u2148\u22c5varphi               \n",
        "-\u2572\u2571 6 \u22c5\u212f        \u22c5sin(vartheta) \n",
        "\u2500\u2500\u2500\u2500\u2500\u2500\u2500\u2500\u2500\u2500\u2500\u2500\u2500\u2500\u2500\u2500\u2500\u2500\u2500\u2500\u2500\u2500\u2500\u2500\u2500\u2500\u2500\u2500\u2500\u2500\u2500\n",
        "                ___            \n",
        "            4\u22c5\u2572\u2571 \u03c0             "
       ]
      },
      {
       "output_type": "stream",
       "stream": "stdout",
       "text": [
        "\n",
        "(ell,m) = (2,-2):\n"
       ]
      },
      {
       "latex": [
        "$$\\frac{\\sqrt{30}}{8 \\sqrt{\\pi}} e^{- 2 i \\varphi} \\sin^{2}{\\left (\\vartheta \\right )}$$"
       ],
       "metadata": {},
       "output_type": "display_data",
       "png": "[encoded data removed]",
       "text": [
        "  ____  -2\u22c5\u2148\u22c5varphi    2          \n",
        "\u2572\u2571 30 \u22c5\u212f           \u22c5sin (vartheta)\n",
        "\u2500\u2500\u2500\u2500\u2500\u2500\u2500\u2500\u2500\u2500\u2500\u2500\u2500\u2500\u2500\u2500\u2500\u2500\u2500\u2500\u2500\u2500\u2500\u2500\u2500\u2500\u2500\u2500\u2500\u2500\u2500\u2500\u2500\u2500\n",
        "                 ___              \n",
        "             8\u22c5\u2572\u2571 \u03c0               "
       ]
      },
      {
       "output_type": "stream",
       "stream": "stdout",
       "text": [
        "(ell,m) = (2,-1):\n"
       ]
      },
      {
       "latex": [
        "$$\\frac{\\sqrt{30} e^{- i \\varphi}}{4 \\sqrt{\\pi}} \\sin{\\left (\\vartheta \\right )} \\cos{\\left (\\vartheta \\right )}$$"
       ],
       "metadata": {},
       "output_type": "display_data",
       "png": "[encoded data removed]",
       "text": [
        "  ____  -\u2148\u22c5varphi                            \n",
        "\u2572\u2571 30 \u22c5\u212f         \u22c5sin(vartheta)\u22c5cos(vartheta)\n",
        "\u2500\u2500\u2500\u2500\u2500\u2500\u2500\u2500\u2500\u2500\u2500\u2500\u2500\u2500\u2500\u2500\u2500\u2500\u2500\u2500\u2500\u2500\u2500\u2500\u2500\u2500\u2500\u2500\u2500\u2500\u2500\u2500\u2500\u2500\u2500\u2500\u2500\u2500\u2500\u2500\u2500\u2500\u2500\u2500\u2500\n",
        "                       ___                   \n",
        "                   4\u22c5\u2572\u2571 \u03c0                    "
       ]
      },
      {
       "output_type": "stream",
       "stream": "stdout",
       "text": [
        "(ell,m) = (2,0):\n"
       ]
      },
      {
       "latex": [
        "$$\\frac{\\sqrt{5}}{4 \\sqrt{\\pi}} \\left(- 3 \\sin^{2}{\\left (\\vartheta \\right )} + 2\\right)$$"
       ],
       "metadata": {},
       "output_type": "display_data",
       "png": "[encoded data removed]",
       "text": [
        "  ___ \u239b       2              \u239e\n",
        "\u2572\u2571 5 \u22c5\u239d- 3\u22c5sin (vartheta) + 2\u23a0\n",
        "\u2500\u2500\u2500\u2500\u2500\u2500\u2500\u2500\u2500\u2500\u2500\u2500\u2500\u2500\u2500\u2500\u2500\u2500\u2500\u2500\u2500\u2500\u2500\u2500\u2500\u2500\u2500\u2500\u2500\u2500\n",
        "               ___            \n",
        "           4\u22c5\u2572\u2571 \u03c0             "
       ]
      },
      {
       "output_type": "stream",
       "stream": "stdout",
       "text": [
        "(ell,m) = (2,1):\n"
       ]
      },
      {
       "latex": [
        "$$- \\frac{\\sqrt{30} e^{i \\varphi}}{4 \\sqrt{\\pi}} \\sin{\\left (\\vartheta \\right )} \\cos{\\left (\\vartheta \\right )}$$"
       ],
       "metadata": {},
       "output_type": "display_data",
       "png": "[encoded data removed]",
       "text": [
        "   ____  \u2148\u22c5varphi                             \n",
        "-\u2572\u2571 30 \u22c5\u212f        \u22c5sin(vartheta)\u22c5cos(vartheta) \n",
        "\u2500\u2500\u2500\u2500\u2500\u2500\u2500\u2500\u2500\u2500\u2500\u2500\u2500\u2500\u2500\u2500\u2500\u2500\u2500\u2500\u2500\u2500\u2500\u2500\u2500\u2500\u2500\u2500\u2500\u2500\u2500\u2500\u2500\u2500\u2500\u2500\u2500\u2500\u2500\u2500\u2500\u2500\u2500\u2500\u2500\u2500\n",
        "                       ___                    \n",
        "                   4\u22c5\u2572\u2571 \u03c0                     "
       ]
      },
      {
       "output_type": "stream",
       "stream": "stdout",
       "text": [
        "(ell,m) = (2,2):\n"
       ]
      },
      {
       "latex": [
        "$$\\frac{\\sqrt{30} e^{2 i \\varphi}}{8 \\sqrt{\\pi}} \\sin^{2}{\\left (\\vartheta \\right )}$$"
       ],
       "metadata": {},
       "output_type": "display_data",
       "png": "[encoded data removed]",
       "text": [
        "  ____  2\u22c5\u2148\u22c5varphi    2          \n",
        "\u2572\u2571 30 \u22c5\u212f          \u22c5sin (vartheta)\n",
        "\u2500\u2500\u2500\u2500\u2500\u2500\u2500\u2500\u2500\u2500\u2500\u2500\u2500\u2500\u2500\u2500\u2500\u2500\u2500\u2500\u2500\u2500\u2500\u2500\u2500\u2500\u2500\u2500\u2500\u2500\u2500\u2500\u2500\n",
        "                 ___             \n",
        "             8\u22c5\u2572\u2571 \u03c0              "
       ]
      }
     ],
     "prompt_number": 8
    },
    {
     "cell_type": "markdown",
     "metadata": {},
     "source": [
      "These values match, e.g., the ones on Wikipedia's [spherical-harmonics page](https://en.wikipedia.org/wiki/Spherical_harmonics#List_of_spherical_harmonics)."
     ]
    },
    {
     "cell_type": "heading",
     "level": 2,
     "metadata": {},
     "source": [
      "Traces of the Spherical-harmonic tensors"
     ]
    },
    {
     "cell_type": "markdown",
     "metadata": {},
     "source": [
      "We can also see that the traces are zero.  This is nice because it means we don't have to explicitly remove the traces from either these or the tensors with which they will be contracted."
     ]
    },
    {
     "cell_type": "code",
     "collapsed": false,
     "input": [
      "for ell in range(2,9):\n",
      "    print('')\n",
      "    for m in range(-ell, ell+1):\n",
      "        print('(ell,m) = ({0},{1}):'.format(ell,m))\n",
      "        display( YlmTensor(ell,m).trace() )"
     ],
     "language": "python",
     "metadata": {},
     "outputs": [
      {
       "output_type": "stream",
       "stream": "stdout",
       "text": [
        "\n",
        "(ell,m) = (2,-2):\n"
       ]
      },
      {
       "latex": [
        "$$0$$"
       ],
       "metadata": {},
       "output_type": "display_data",
       "png": "[encoded data removed]",
       "text": [
        "0"
       ]
      },
      {
       "output_type": "stream",
       "stream": "stdout",
       "text": [
        "(ell,m) = (2,-1):\n"
       ]
      },
      {
       "latex": [
        "$$0$$"
       ],
       "metadata": {},
       "output_type": "display_data",
       "png": "[encoded data removed]",
       "text": [
        "0"
       ]
      },
      {
       "output_type": "stream",
       "stream": "stdout",
       "text": [
        "(ell,m) = (2,0):\n"
       ]
      },
      {
       "latex": [
        "$$0$$"
       ],
       "metadata": {},
       "output_type": "display_data",
       "png": "[encoded data removed]",
       "text": [
        "0"
       ]
      },
      {
       "output_type": "stream",
       "stream": "stdout",
       "text": [
        "(ell,m) = (2,1):\n"
       ]
      },
      {
       "latex": [
        "$$0$$"
       ],
       "metadata": {},
       "output_type": "display_data",
       "png": "[encoded data removed]",
       "text": [
        "0"
       ]
      },
      {
       "output_type": "stream",
       "stream": "stdout",
       "text": [
        "(ell,m) = (2,2):\n"
       ]
      },
      {
       "latex": [
        "$$0$$"
       ],
       "metadata": {},
       "output_type": "display_data",
       "png": "[encoded data removed]",
       "text": [
        "0"
       ]
      },
      {
       "output_type": "stream",
       "stream": "stdout",
       "text": [
        "\n",
        "(ell,m) = (3,-3):\n"
       ]
      },
      {
       "latex": [
        "$$\\begin{align*}&\\left\\{ \\left[ \\left(\\frac{\\sqrt{35}}{8 \\sqrt{\\pi}}\\right)\\, \\hat{n}{\\left (t \\right )} \\right] \\right\\}\\end{align*}$$"
       ],
       "metadata": {},
       "output_type": "display_data",
       "png": "[encoded data removed]",
       "text": [
        "TensorFunction(t)"
       ]
      },
      {
       "output_type": "stream",
       "stream": "stdout",
       "text": [
        "(ell,m) = (3,-2):\n"
       ]
      },
      {
       "latex": [
        "$$0$$"
       ],
       "metadata": {},
       "output_type": "display_data",
       "png": "[encoded data removed]",
       "text": [
        "0"
       ]
      },
      {
       "output_type": "stream",
       "stream": "stdout",
       "text": [
        "(ell,m) = (3,-1):\n"
       ]
      },
      {
       "latex": [
        "$$\\begin{align*}&\\left\\{ \\left[ \\left(- \\frac{\\sqrt{21}}{8 \\sqrt{\\pi}}\\right)\\, \\hat{n}{\\left (t \\right )} \\right] \\right. \\nonumber \\\\&\\quad \\left. + \\left[ \\left(\\frac{\\sqrt{21} i}{8 \\sqrt{\\pi}}\\right)\\, \\hat{\\lambda}{\\left (t \\right )} \\right] \\right\\}\\end{align*}$$"
       ],
       "metadata": {},
       "output_type": "display_data",
       "png": "[encoded data removed]",
       "text": [
        "TensorFunction(t)"
       ]
      },
      {
       "output_type": "stream",
       "stream": "stdout",
       "text": [
        "(ell,m) = (3,0):\n"
       ]
      },
      {
       "latex": [
        "$$\\begin{align*}&\\left\\{ \\left[ \\left(\\frac{\\sqrt{7}}{2 \\sqrt{\\pi}}\\right)\\, \\hat{\\ell}{\\left (t \\right )} \\right] \\right\\}\\end{align*}$$"
       ],
       "metadata": {},
       "output_type": "display_data",
       "png": "[encoded data removed]",
       "text": [
        "TensorFunction(t)"
       ]
      },
      {
       "output_type": "stream",
       "stream": "stdout",
       "text": [
        "(ell,m) = (3,1):\n"
       ]
      },
      {
       "latex": [
        "$$\\begin{align*}&\\left\\{ \\left[ \\left(\\frac{\\sqrt{21}}{8 \\sqrt{\\pi}}\\right)\\, \\hat{n}{\\left (t \\right )} \\right] \\right. \\nonumber \\\\&\\quad \\left. + \\left[ \\left(\\frac{\\sqrt{21} i}{8 \\sqrt{\\pi}}\\right)\\, \\hat{\\lambda}{\\left (t \\right )} \\right] \\right\\}\\end{align*}$$"
       ],
       "metadata": {},
       "output_type": "display_data",
       "png": "[encoded data removed]",
       "text": [
        "TensorFunction(t)"
       ]
      },
      {
       "output_type": "stream",
       "stream": "stdout",
       "text": [
        "(ell,m) = (3,2):\n"
       ]
      },
      {
       "latex": [
        "$$0$$"
       ],
       "metadata": {},
       "output_type": "display_data",
       "png": "[encoded data removed]",
       "text": [
        "0"
       ]
      },
      {
       "output_type": "stream",
       "stream": "stdout",
       "text": [
        "(ell,m) = (3,3):\n"
       ]
      },
      {
       "latex": [
        "$$\\begin{align*}&\\left\\{ \\left[ \\left(- \\frac{\\sqrt{35}}{8 \\sqrt{\\pi}}\\right)\\, \\hat{n}{\\left (t \\right )} \\right] \\right\\}\\end{align*}$$"
       ],
       "metadata": {},
       "output_type": "display_data",
       "png": "[encoded data removed]",
       "text": [
        "TensorFunction(t)"
       ]
      },
      {
       "output_type": "stream",
       "stream": "stdout",
       "text": [
        "\n",
        "(ell,m) = (4,-4):\n"
       ]
      },
      {
       "latex": [
        "$$\\begin{align*}&\\left\\{ \\left[ \\left(- \\frac{3 \\sqrt{70} i}{32 \\sqrt{\\pi}}\\right)\\, \\hat{n}{\\left (t \\right )} \\otimes_{\\mathrm{s}} \\hat{\\lambda}{\\left (t \\right )} \\right] \\right\\}\\end{align*}$$"
       ],
       "metadata": {},
       "output_type": "display_data",
       "png": "[encoded data removed]",
       "text": [
        "TensorFunction(t)"
       ]
      },
      {
       "output_type": "stream",
       "stream": "stdout",
       "text": [
        "(ell,m) = (4,-3):\n"
       ]
      },
      {
       "latex": [
        "$$\\begin{align*}&\\left\\{ \\left[ \\left(\\frac{3 \\sqrt{35}}{32 \\sqrt{\\pi}}\\right)\\, \\hat{n}{\\left (t \\right )} \\otimes_{\\mathrm{s}} \\hat{\\ell}{\\left (t \\right )} \\right] \\right\\}\\end{align*}$$"
       ],
       "metadata": {},
       "output_type": "display_data",
       "png": "[encoded data removed]",
       "text": [
        "TensorFunction(t)"
       ]
      },
      {
       "output_type": "stream",
       "stream": "stdout",
       "text": [
        "(ell,m) = (4,-2):\n"
       ]
      },
      {
       "latex": [
        "$$0$$"
       ],
       "metadata": {},
       "output_type": "display_data",
       "png": "[encoded data removed]",
       "text": [
        "0"
       ]
      },
      {
       "output_type": "stream",
       "stream": "stdout",
       "text": [
        "(ell,m) = (4,-1):\n"
       ]
      },
      {
       "latex": [
        "$$0$$"
       ],
       "metadata": {},
       "output_type": "display_data",
       "png": "[encoded data removed]",
       "text": [
        "0"
       ]
      },
      {
       "output_type": "stream",
       "stream": "stdout",
       "text": [
        "(ell,m) = (4,0):\n"
       ]
      },
      {
       "latex": [
        "$$0$$"
       ],
       "metadata": {},
       "output_type": "display_data",
       "png": "[encoded data removed]",
       "text": [
        "0"
       ]
      },
      {
       "output_type": "stream",
       "stream": "stdout",
       "text": [
        "(ell,m) = (4,1):\n"
       ]
      },
      {
       "latex": [
        "$$0$$"
       ],
       "metadata": {},
       "output_type": "display_data",
       "png": "[encoded data removed]",
       "text": [
        "0"
       ]
      },
      {
       "output_type": "stream",
       "stream": "stdout",
       "text": [
        "(ell,m) = (4,2):\n"
       ]
      },
      {
       "latex": [
        "$$0$$"
       ],
       "metadata": {},
       "output_type": "display_data",
       "png": "[encoded data removed]",
       "text": [
        "0"
       ]
      },
      {
       "output_type": "stream",
       "stream": "stdout",
       "text": [
        "(ell,m) = (4,3):\n"
       ]
      },
      {
       "latex": [
        "$$\\begin{align*}&\\left\\{ \\left[ \\left(- \\frac{3 \\sqrt{35}}{32 \\sqrt{\\pi}}\\right)\\, \\hat{n}{\\left (t \\right )} \\otimes_{\\mathrm{s}} \\hat{\\ell}{\\left (t \\right )} \\right] \\right\\}\\end{align*}$$"
       ],
       "metadata": {},
       "output_type": "display_data",
       "png": "[encoded data removed]",
       "text": [
        "TensorFunction(t)"
       ]
      },
      {
       "output_type": "stream",
       "stream": "stdout",
       "text": [
        "(ell,m) = (4,4):\n"
       ]
      },
      {
       "ename": "KeyboardInterrupt",
       "evalue": "",
       "output_type": "pyerr",
       "traceback": [
        "\u001b[0;31m---------------------------------------------------------------------------\u001b[0m\n\u001b[0;31mKeyboardInterrupt\u001b[0m                         Traceback (most recent call last)",
        "\u001b[0;32m<ipython-input-9-1e4975ec9944>\u001b[0m in \u001b[0;36m<module>\u001b[0;34m()\u001b[0m\n\u001b[1;32m      3\u001b[0m     \u001b[0;32mfor\u001b[0m \u001b[0mm\u001b[0m \u001b[0;32min\u001b[0m \u001b[0mrange\u001b[0m\u001b[0;34m(\u001b[0m\u001b[0;34m-\u001b[0m\u001b[0mell\u001b[0m\u001b[0;34m,\u001b[0m \u001b[0mell\u001b[0m\u001b[0;34m+\u001b[0m\u001b[0;36m1\u001b[0m\u001b[0;34m)\u001b[0m\u001b[0;34m:\u001b[0m\u001b[0;34m\u001b[0m\u001b[0m\n\u001b[1;32m      4\u001b[0m         \u001b[0;32mprint\u001b[0m\u001b[0;34m(\u001b[0m\u001b[0;34m'(ell,m) = ({0},{1}):'\u001b[0m\u001b[0;34m.\u001b[0m\u001b[0mformat\u001b[0m\u001b[0;34m(\u001b[0m\u001b[0mell\u001b[0m\u001b[0;34m,\u001b[0m\u001b[0mm\u001b[0m\u001b[0;34m)\u001b[0m\u001b[0;34m)\u001b[0m\u001b[0;34m\u001b[0m\u001b[0m\n\u001b[0;32m----> 5\u001b[0;31m         \u001b[0mdisplay\u001b[0m\u001b[0;34m(\u001b[0m \u001b[0mYlmTensor\u001b[0m\u001b[0;34m(\u001b[0m\u001b[0mell\u001b[0m\u001b[0;34m,\u001b[0m\u001b[0mm\u001b[0m\u001b[0;34m)\u001b[0m\u001b[0;34m.\u001b[0m\u001b[0mtrace\u001b[0m\u001b[0;34m(\u001b[0m\u001b[0;34m)\u001b[0m \u001b[0;34m)\u001b[0m\u001b[0;34m\u001b[0m\u001b[0m\n\u001b[0m",
        "\u001b[0;32m/Users/boyle/Research/GWFrames/Code/PostNewtonian/Waveforms/simpletensors.py\u001b[0m in \u001b[0;36mtrace\u001b[0;34m(self, j, k)\u001b[0m\n\u001b[1;32m    387\u001b[0m \u001b[0;34m\u001b[0m\u001b[0m\n\u001b[1;32m    388\u001b[0m     \u001b[0;32mdef\u001b[0m \u001b[0mtrace\u001b[0m\u001b[0;34m(\u001b[0m\u001b[0mself\u001b[0m\u001b[0;34m,\u001b[0m \u001b[0mj\u001b[0m\u001b[0;34m=\u001b[0m\u001b[0;36m0\u001b[0m\u001b[0;34m,\u001b[0m \u001b[0mk\u001b[0m\u001b[0;34m=\u001b[0m\u001b[0;36m1\u001b[0m\u001b[0;34m)\u001b[0m\u001b[0;34m:\u001b[0m\u001b[0;34m\u001b[0m\u001b[0m\n\u001b[0;32m--> 389\u001b[0;31m         \u001b[0mt\u001b[0m \u001b[0;34m=\u001b[0m \u001b[0msum\u001b[0m\u001b[0;34m(\u001b[0m\u001b[0;34m[\u001b[0m\u001b[0mT\u001b[0m\u001b[0;34m.\u001b[0m\u001b[0mtrace\u001b[0m\u001b[0;34m(\u001b[0m\u001b[0mj\u001b[0m\u001b[0;34m,\u001b[0m\u001b[0mk\u001b[0m\u001b[0;34m)\u001b[0m \u001b[0;32mfor\u001b[0m \u001b[0mT\u001b[0m \u001b[0;32min\u001b[0m \u001b[0mself\u001b[0m\u001b[0;34m]\u001b[0m\u001b[0;34m)\u001b[0m\u001b[0;34m\u001b[0m\u001b[0m\n\u001b[0m\u001b[1;32m    390\u001b[0m         \u001b[0;32mtry\u001b[0m\u001b[0;34m:\u001b[0m\u001b[0;34m\u001b[0m\u001b[0m\n\u001b[1;32m    391\u001b[0m             \u001b[0;31m#print(\"Trying to compress the Tensor trace\")\u001b[0m\u001b[0;34m\u001b[0m\u001b[0;34m\u001b[0m\u001b[0m\n",
        "\u001b[0;32m/Users/boyle/Research/GWFrames/Code/PostNewtonian/Waveforms/simpletensors.py\u001b[0m in \u001b[0;36mtrace\u001b[0;34m(self, j, k)\u001b[0m\n\u001b[1;32m    182\u001b[0m                                    \u001b[0mcoefficient\u001b[0m \u001b[0;34m=\u001b[0m \u001b[0mcoefficient\u001b[0m\u001b[0;34m*\u001b[0m\u001b[0mfrac\u001b[0m\u001b[0;34m(\u001b[0m\u001b[0;36m1\u001b[0m\u001b[0;34m,\u001b[0m\u001b[0mfactorial\u001b[0m\u001b[0;34m(\u001b[0m\u001b[0mself\u001b[0m\u001b[0;34m.\u001b[0m\u001b[0mrank\u001b[0m\u001b[0;34m)\u001b[0m\u001b[0;34m)\u001b[0m\u001b[0;34m,\u001b[0m\u001b[0;34m\u001b[0m\u001b[0m\n\u001b[1;32m    183\u001b[0m                                    symmetric=True)\n\u001b[0;32m--> 184\u001b[0;31m             \u001b[0;32mreturn\u001b[0m \u001b[0mT\u001b[0m\u001b[0;34m.\u001b[0m\u001b[0mcompress\u001b[0m\u001b[0;34m(\u001b[0m\u001b[0;34m)\u001b[0m\u001b[0;34m\u001b[0m\u001b[0m\n\u001b[0m\u001b[1;32m    185\u001b[0m         return TensorProduct(list(v for i,v in enumerate(self) if (i!=j and i!=k)),\n\u001b[1;32m    186\u001b[0m                              coefficient=coefficient, symmetric=False)\n",
        "\u001b[0;32m/Users/boyle/Research/GWFrames/Code/PostNewtonian/Waveforms/simpletensors.py\u001b[0m in \u001b[0;36mcompress\u001b[0;34m(self)\u001b[0m\n\u001b[1;32m    348\u001b[0m                     \u001b[0;31m#print(\"Removing {0} because {1} is already here\".format(j,i))\u001b[0m\u001b[0;34m\u001b[0m\u001b[0;34m\u001b[0m\u001b[0m\n\u001b[1;32m    349\u001b[0m                     \u001b[0mself\u001b[0m\u001b[0;34m.\u001b[0m\u001b[0mtensor_products\u001b[0m\u001b[0;34m[\u001b[0m\u001b[0mi\u001b[0m\u001b[0;34m]\u001b[0m\u001b[0;34m.\u001b[0m\u001b[0mcoefficient\u001b[0m \u001b[0;34m=\u001b[0m\u001b[0;31m \u001b[0m\u001b[0;31m\\\u001b[0m\u001b[0;34m\u001b[0m\u001b[0m\n\u001b[0;32m--> 350\u001b[0;31m                         \u001b[0msimplify\u001b[0m\u001b[0;34m(\u001b[0m \u001b[0mself\u001b[0m\u001b[0;34m.\u001b[0m\u001b[0mtensor_products\u001b[0m\u001b[0;34m[\u001b[0m\u001b[0mi\u001b[0m\u001b[0;34m]\u001b[0m\u001b[0;34m.\u001b[0m\u001b[0mcoefficient\u001b[0m \u001b[0;34m+\u001b[0m \u001b[0mself\u001b[0m\u001b[0;34m.\u001b[0m\u001b[0mtensor_products\u001b[0m\u001b[0;34m[\u001b[0m\u001b[0mj\u001b[0m\u001b[0;34m]\u001b[0m\u001b[0;34m.\u001b[0m\u001b[0mcoefficient\u001b[0m \u001b[0;34m)\u001b[0m\u001b[0;34m\u001b[0m\u001b[0m\n\u001b[0m\u001b[1;32m    351\u001b[0m                     \u001b[0mremoved_elements\u001b[0m\u001b[0;34m.\u001b[0m\u001b[0mappend\u001b[0m\u001b[0;34m(\u001b[0m\u001b[0mj\u001b[0m\u001b[0;34m)\u001b[0m\u001b[0;34m\u001b[0m\u001b[0m\n\u001b[1;32m    352\u001b[0m             \u001b[0;32mif\u001b[0m \u001b[0mremoved_elements\u001b[0m\u001b[0;34m:\u001b[0m\u001b[0;34m\u001b[0m\u001b[0m\n",
        "\u001b[0;32m/Users/boyle/.virtualenv/py2/lib/python2.7/site-packages/sympy/simplify/simplify.pyc\u001b[0m in \u001b[0;36msimplify\u001b[0;34m(expr, ratio, measure, fu)\u001b[0m\n\u001b[1;32m   3684\u001b[0m     \u001b[0mexpr\u001b[0m \u001b[0;34m=\u001b[0m \u001b[0mMul\u001b[0m\u001b[0;34m(\u001b[0m\u001b[0;34m*\u001b[0m\u001b[0mpowsimp\u001b[0m\u001b[0;34m(\u001b[0m\u001b[0mexpr\u001b[0m\u001b[0;34m)\u001b[0m\u001b[0;34m.\u001b[0m\u001b[0mas_content_primitive\u001b[0m\u001b[0;34m(\u001b[0m\u001b[0;34m)\u001b[0m\u001b[0;34m)\u001b[0m\u001b[0;34m\u001b[0m\u001b[0m\n\u001b[1;32m   3685\u001b[0m     \u001b[0m_e\u001b[0m \u001b[0;34m=\u001b[0m \u001b[0mcancel\u001b[0m\u001b[0;34m(\u001b[0m\u001b[0mexpr\u001b[0m\u001b[0;34m)\u001b[0m\u001b[0;34m\u001b[0m\u001b[0m\n\u001b[0;32m-> 3686\u001b[0;31m     \u001b[0mexpr1\u001b[0m \u001b[0;34m=\u001b[0m \u001b[0mshorter\u001b[0m\u001b[0;34m(\u001b[0m\u001b[0m_e\u001b[0m\u001b[0;34m,\u001b[0m \u001b[0m_mexpand\u001b[0m\u001b[0;34m(\u001b[0m\u001b[0m_e\u001b[0m\u001b[0;34m)\u001b[0m\u001b[0;34m.\u001b[0m\u001b[0mcancel\u001b[0m\u001b[0;34m(\u001b[0m\u001b[0;34m)\u001b[0m\u001b[0;34m)\u001b[0m  \u001b[0;31m# issue 6829\u001b[0m\u001b[0;34m\u001b[0m\u001b[0m\n\u001b[0m\u001b[1;32m   3687\u001b[0m     \u001b[0mexpr2\u001b[0m \u001b[0;34m=\u001b[0m \u001b[0mshorter\u001b[0m\u001b[0;34m(\u001b[0m\u001b[0mtogether\u001b[0m\u001b[0;34m(\u001b[0m\u001b[0mexpr\u001b[0m\u001b[0;34m,\u001b[0m \u001b[0mdeep\u001b[0m\u001b[0;34m=\u001b[0m\u001b[0mTrue\u001b[0m\u001b[0;34m)\u001b[0m\u001b[0;34m,\u001b[0m \u001b[0mtogether\u001b[0m\u001b[0;34m(\u001b[0m\u001b[0mexpr1\u001b[0m\u001b[0;34m,\u001b[0m \u001b[0mdeep\u001b[0m\u001b[0;34m=\u001b[0m\u001b[0mTrue\u001b[0m\u001b[0;34m)\u001b[0m\u001b[0;34m)\u001b[0m\u001b[0;34m\u001b[0m\u001b[0m\n\u001b[1;32m   3688\u001b[0m \u001b[0;34m\u001b[0m\u001b[0m\n",
        "\u001b[0;32m/Users/boyle/.virtualenv/py2/lib/python2.7/site-packages/sympy/core/expr.pyc\u001b[0m in \u001b[0;36mcancel\u001b[0;34m(self, *gens, **args)\u001b[0m\n\u001b[1;32m   2976\u001b[0m         \u001b[0;34m\"\"\"See the cancel function in sympy.polys\"\"\"\u001b[0m\u001b[0;34m\u001b[0m\u001b[0m\n\u001b[1;32m   2977\u001b[0m         \u001b[0;32mfrom\u001b[0m \u001b[0msympy\u001b[0m\u001b[0;34m.\u001b[0m\u001b[0mpolys\u001b[0m \u001b[0;32mimport\u001b[0m \u001b[0mcancel\u001b[0m\u001b[0;34m\u001b[0m\u001b[0m\n\u001b[0;32m-> 2978\u001b[0;31m         \u001b[0;32mreturn\u001b[0m \u001b[0mcancel\u001b[0m\u001b[0;34m(\u001b[0m\u001b[0mself\u001b[0m\u001b[0;34m,\u001b[0m \u001b[0;34m*\u001b[0m\u001b[0mgens\u001b[0m\u001b[0;34m,\u001b[0m \u001b[0;34m**\u001b[0m\u001b[0margs\u001b[0m\u001b[0;34m)\u001b[0m\u001b[0;34m\u001b[0m\u001b[0m\n\u001b[0m\u001b[1;32m   2979\u001b[0m \u001b[0;34m\u001b[0m\u001b[0m\n\u001b[1;32m   2980\u001b[0m     \u001b[0;32mdef\u001b[0m \u001b[0minvert\u001b[0m\u001b[0;34m(\u001b[0m\u001b[0mself\u001b[0m\u001b[0;34m,\u001b[0m \u001b[0mg\u001b[0m\u001b[0;34m)\u001b[0m\u001b[0;34m:\u001b[0m\u001b[0;34m\u001b[0m\u001b[0m\n",
        "\u001b[0;32m/Users/boyle/.virtualenv/py2/lib/python2.7/site-packages/sympy/polys/polytools.pyc\u001b[0m in \u001b[0;36mcancel\u001b[0;34m(f, *gens, **args)\u001b[0m\n\u001b[1;32m   6239\u001b[0m \u001b[0;34m\u001b[0m\u001b[0m\n\u001b[1;32m   6240\u001b[0m     \u001b[0;32mif\u001b[0m \u001b[0;32mnot\u001b[0m \u001b[0misinstance\u001b[0m\u001b[0;34m(\u001b[0m\u001b[0mf\u001b[0m\u001b[0;34m,\u001b[0m \u001b[0;34m(\u001b[0m\u001b[0mtuple\u001b[0m\u001b[0;34m,\u001b[0m \u001b[0mTuple\u001b[0m\u001b[0;34m)\u001b[0m\u001b[0;34m)\u001b[0m\u001b[0;34m:\u001b[0m\u001b[0;34m\u001b[0m\u001b[0m\n\u001b[0;32m-> 6241\u001b[0;31m         \u001b[0;32mreturn\u001b[0m \u001b[0mc\u001b[0m\u001b[0;34m*\u001b[0m\u001b[0;34m(\u001b[0m\u001b[0mP\u001b[0m\u001b[0;34m.\u001b[0m\u001b[0mas_expr\u001b[0m\u001b[0;34m(\u001b[0m\u001b[0;34m)\u001b[0m\u001b[0;34m/\u001b[0m\u001b[0mQ\u001b[0m\u001b[0;34m.\u001b[0m\u001b[0mas_expr\u001b[0m\u001b[0;34m(\u001b[0m\u001b[0;34m)\u001b[0m\u001b[0;34m)\u001b[0m\u001b[0;34m\u001b[0m\u001b[0m\n\u001b[0m\u001b[1;32m   6242\u001b[0m     \u001b[0;32melse\u001b[0m\u001b[0;34m:\u001b[0m\u001b[0;34m\u001b[0m\u001b[0m\n\u001b[1;32m   6243\u001b[0m         \u001b[0;32mif\u001b[0m \u001b[0;32mnot\u001b[0m \u001b[0mopt\u001b[0m\u001b[0;34m.\u001b[0m\u001b[0mpolys\u001b[0m\u001b[0;34m:\u001b[0m\u001b[0;34m\u001b[0m\u001b[0m\n",
        "\u001b[0;32m/Users/boyle/.virtualenv/py2/lib/python2.7/site-packages/sympy/polys/polytools.pyc\u001b[0m in \u001b[0;36mas_expr\u001b[0;34m(f, *gens)\u001b[0m\n\u001b[1;32m    961\u001b[0m                     \u001b[0mgens\u001b[0m\u001b[0;34m[\u001b[0m\u001b[0mindex\u001b[0m\u001b[0;34m]\u001b[0m \u001b[0;34m=\u001b[0m \u001b[0mvalue\u001b[0m\u001b[0;34m\u001b[0m\u001b[0m\n\u001b[1;32m    962\u001b[0m \u001b[0;34m\u001b[0m\u001b[0m\n\u001b[0;32m--> 963\u001b[0;31m         \u001b[0;32mreturn\u001b[0m \u001b[0mbasic_from_dict\u001b[0m\u001b[0;34m(\u001b[0m\u001b[0mf\u001b[0m\u001b[0;34m.\u001b[0m\u001b[0mrep\u001b[0m\u001b[0;34m.\u001b[0m\u001b[0mto_sympy_dict\u001b[0m\u001b[0;34m(\u001b[0m\u001b[0;34m)\u001b[0m\u001b[0;34m,\u001b[0m \u001b[0;34m*\u001b[0m\u001b[0mgens\u001b[0m\u001b[0;34m)\u001b[0m\u001b[0;34m\u001b[0m\u001b[0m\n\u001b[0m\u001b[1;32m    964\u001b[0m \u001b[0;34m\u001b[0m\u001b[0m\n\u001b[1;32m    965\u001b[0m     \u001b[0;32mdef\u001b[0m \u001b[0mlift\u001b[0m\u001b[0;34m(\u001b[0m\u001b[0mf\u001b[0m\u001b[0;34m)\u001b[0m\u001b[0;34m:\u001b[0m\u001b[0;34m\u001b[0m\u001b[0m\n",
        "\u001b[0;32m/Users/boyle/.virtualenv/py2/lib/python2.7/site-packages/sympy/polys/polyutils.pyc\u001b[0m in \u001b[0;36mexpr_from_dict\u001b[0;34m(rep, *gens)\u001b[0m\n\u001b[1;32m    342\u001b[0m     \u001b[0;32mfor\u001b[0m \u001b[0mmonom\u001b[0m\u001b[0;34m,\u001b[0m \u001b[0mcoeff\u001b[0m \u001b[0;32min\u001b[0m \u001b[0mrep\u001b[0m\u001b[0;34m.\u001b[0m\u001b[0mitems\u001b[0m\u001b[0;34m(\u001b[0m\u001b[0;34m)\u001b[0m\u001b[0;34m:\u001b[0m\u001b[0;34m\u001b[0m\u001b[0m\n\u001b[1;32m    343\u001b[0m         \u001b[0mterm\u001b[0m \u001b[0;34m=\u001b[0m \u001b[0;34m[\u001b[0m\u001b[0mcoeff\u001b[0m\u001b[0;34m]\u001b[0m\u001b[0;34m\u001b[0m\u001b[0m\n\u001b[0;32m--> 344\u001b[0;31m         \u001b[0;32mfor\u001b[0m \u001b[0mg\u001b[0m\u001b[0;34m,\u001b[0m \u001b[0mm\u001b[0m \u001b[0;32min\u001b[0m \u001b[0mzip\u001b[0m\u001b[0;34m(\u001b[0m\u001b[0mgens\u001b[0m\u001b[0;34m,\u001b[0m \u001b[0mmonom\u001b[0m\u001b[0;34m)\u001b[0m\u001b[0;34m:\u001b[0m\u001b[0;34m\u001b[0m\u001b[0m\n\u001b[0m\u001b[1;32m    345\u001b[0m             \u001b[0;32mif\u001b[0m \u001b[0mm\u001b[0m\u001b[0;34m:\u001b[0m\u001b[0;34m\u001b[0m\u001b[0m\n\u001b[1;32m    346\u001b[0m                 \u001b[0mterm\u001b[0m\u001b[0;34m.\u001b[0m\u001b[0mappend\u001b[0m\u001b[0;34m(\u001b[0m\u001b[0mPow\u001b[0m\u001b[0;34m(\u001b[0m\u001b[0mg\u001b[0m\u001b[0;34m,\u001b[0m \u001b[0mm\u001b[0m\u001b[0;34m)\u001b[0m\u001b[0;34m)\u001b[0m\u001b[0;34m\u001b[0m\u001b[0m\n",
        "\u001b[0;31mKeyboardInterrupt\u001b[0m: "
       ]
      }
     ],
     "prompt_number": 9
    },
    {
     "cell_type": "heading",
     "level": 1,
     "metadata": {},
     "source": [
      "Testing contractions with the multipole moments"
     ]
    },
    {
     "cell_type": "markdown",
     "metadata": {},
     "source": [
      "We can just add in a couple low-order terms for $I_{jk}$ and $J_{jk}$, and see how they come out.  I expect to find some new terms proportional to $\\Sigma_n + i\\, \\Sigma_\\lambda$ in the $(2,\\pm2)$ modes, and recover the usual leading-order terms in the $(2,\\pm1)$ modes.  Note, however, that I am not conjugating the `YlmTensor` objects, as I should, so the normalization and signs will be screwy."
     ]
    },
    {
     "cell_type": "code",
     "collapsed": false,
     "input": [
      "I_jk = SymmetricTensorProduct(nHat, nHat, coefficient = (m*nu*r**2))\n",
      "\n",
      "J_jk = SymmetricTensorProduct(SigmaVec, nHat, coefficient = (r*nu/c)*(-frac(3,2))) \\\n",
      "      + SymmetricTensorProduct(ellHat, nHat, coefficient = -nu*m*delta*r**2*v)\n",
      "\n",
      "for m in range(-2,2+1):\n",
      "    display(YlmTensor(2,m)|(I_jk))\n",
      "print(\"\")\n",
      "for m in range(-2,2+1):\n",
      "    display(sympy.simplify(-sympy.I * (YlmTensor(2,m)|J_jk)))"
     ],
     "language": "python",
     "metadata": {},
     "outputs": [
      {
       "latex": [
        "$$\\frac{\\sqrt{30} \\nu}{4 \\sqrt{\\pi}} r^{2}{\\left (t \\right )}$$"
       ],
       "metadata": {},
       "output_type": "display_data",
       "png": "[encoded data removed]",
       "text": [
        "  ____    2   \n",
        "\u2572\u2571 30 \u22c5\u03bd\u22c5r (t)\n",
        "\u2500\u2500\u2500\u2500\u2500\u2500\u2500\u2500\u2500\u2500\u2500\u2500\u2500\u2500\n",
        "       ___    \n",
        "   4\u22c5\u2572\u2571 \u03c0     "
       ]
      },
      {
       "latex": [
        "$$0$$"
       ],
       "metadata": {},
       "output_type": "display_data",
       "png": "[encoded data removed]",
       "text": [
        "0"
       ]
      },
      {
       "latex": [
        "$$- \\frac{\\sqrt{5} \\nu}{2 \\sqrt{\\pi}} r^{2}{\\left (t \\right )}$$"
       ],
       "metadata": {},
       "output_type": "display_data",
       "png": "[encoded data removed]",
       "text": [
        "   ___    2    \n",
        "-\u2572\u2571 5 \u22c5\u03bd\u22c5r (t) \n",
        "\u2500\u2500\u2500\u2500\u2500\u2500\u2500\u2500\u2500\u2500\u2500\u2500\u2500\u2500\u2500\n",
        "        ___    \n",
        "    2\u22c5\u2572\u2571 \u03c0     "
       ]
      },
      {
       "latex": [
        "$$0$$"
       ],
       "metadata": {},
       "output_type": "display_data",
       "png": "[encoded data removed]",
       "text": [
        "0"
       ]
      },
      {
       "latex": [
        "$$\\frac{\\sqrt{30} \\nu}{4 \\sqrt{\\pi}} r^{2}{\\left (t \\right )}$$"
       ],
       "metadata": {},
       "output_type": "display_data",
       "png": "[encoded data removed]",
       "text": [
        "  ____    2   \n",
        "\u2572\u2571 30 \u22c5\u03bd\u22c5r (t)\n",
        "\u2500\u2500\u2500\u2500\u2500\u2500\u2500\u2500\u2500\u2500\u2500\u2500\u2500\u2500\n",
        "       ___    \n",
        "   4\u22c5\u2572\u2571 \u03c0     "
       ]
      },
      {
       "output_type": "stream",
       "stream": "stdout",
       "text": [
        "\n"
       ]
      },
      {
       "latex": [
        "$$\\frac{3 \\sqrt{30} \\nu}{16 \\sqrt{\\pi} c} \\left(\\Sigma_{\\lambda}{\\left (t \\right )} + i \\Sigma_{n}{\\left (t \\right )}\\right) r{\\left (t \\right )}$$"
       ],
       "metadata": {},
       "output_type": "display_data",
       "png": "[encoded data removed]",
       "text": [
        "    ____                           \n",
        "3\u22c5\u2572\u2571 30 \u22c5\u03bd\u22c5(\u03a3_\u03bb(t) + \u2148\u22c5\u03a3_n(t))\u22c5r(t)\n",
        "\u2500\u2500\u2500\u2500\u2500\u2500\u2500\u2500\u2500\u2500\u2500\u2500\u2500\u2500\u2500\u2500\u2500\u2500\u2500\u2500\u2500\u2500\u2500\u2500\u2500\u2500\u2500\u2500\u2500\u2500\u2500\u2500\u2500\u2500\u2500\n",
        "                  ___              \n",
        "             16\u22c5\u2572\u2571 \u03c0 \u22c5c            "
       ]
      },
      {
       "latex": [
        "$$\\frac{\\sqrt{30} i \\nu}{16 \\sqrt{\\pi} c} \\left(4 c \\delta r{\\left (t \\right )} v{\\left (t \\right )} + 3 \\Sigma_{\\ell}{\\left (t \\right )}\\right) r{\\left (t \\right )}$$"
       ],
       "metadata": {},
       "output_type": "display_data",
       "png": "[encoded data removed]",
       "text": [
        "  ____                                        \n",
        "\u2572\u2571 30 \u22c5\u2148\u22c5\u03bd\u22c5(4\u22c5c\u22c5\u03b4\u22c5r(t)\u22c5v(t) + 3\u22c5\u03a3_ell(t))\u22c5r(t)\n",
        "\u2500\u2500\u2500\u2500\u2500\u2500\u2500\u2500\u2500\u2500\u2500\u2500\u2500\u2500\u2500\u2500\u2500\u2500\u2500\u2500\u2500\u2500\u2500\u2500\u2500\u2500\u2500\u2500\u2500\u2500\u2500\u2500\u2500\u2500\u2500\u2500\u2500\u2500\u2500\u2500\u2500\u2500\u2500\u2500\u2500\u2500\n",
        "                       ___                    \n",
        "                  16\u22c5\u2572\u2571 \u03c0 \u22c5c                  "
       ]
      },
      {
       "latex": [
        "$$- \\frac{3 \\sqrt{5} i \\nu}{8 \\sqrt{\\pi} c} \\Sigma_{n}{\\left (t \\right )} r{\\left (t \\right )}$$"
       ],
       "metadata": {},
       "output_type": "display_data",
       "png": "[encoded data removed]",
       "text": [
        "     ___                 \n",
        "-3\u22c5\u2572\u2571 5 \u22c5\u2148\u22c5\u03bd\u22c5\u03a3_n(t)\u22c5r(t) \n",
        "\u2500\u2500\u2500\u2500\u2500\u2500\u2500\u2500\u2500\u2500\u2500\u2500\u2500\u2500\u2500\u2500\u2500\u2500\u2500\u2500\u2500\u2500\u2500\u2500\u2500\n",
        "            ___          \n",
        "        8\u22c5\u2572\u2571 \u03c0 \u22c5c        "
       ]
      },
      {
       "latex": [
        "$$- \\frac{\\sqrt{30} i \\nu}{16 \\sqrt{\\pi} c} \\left(4 c \\delta r{\\left (t \\right )} v{\\left (t \\right )} + 3 \\Sigma_{\\ell}{\\left (t \\right )}\\right) r{\\left (t \\right )}$$"
       ],
       "metadata": {},
       "output_type": "display_data",
       "png": "[encoded data removed]",
       "text": [
        "   ____                                         \n",
        "-\u2572\u2571 30 \u22c5\u2148\u22c5\u03bd\u22c5(4\u22c5c\u22c5\u03b4\u22c5r(t)\u22c5v(t) + 3\u22c5\u03a3_ell(t))\u22c5r(t) \n",
        "\u2500\u2500\u2500\u2500\u2500\u2500\u2500\u2500\u2500\u2500\u2500\u2500\u2500\u2500\u2500\u2500\u2500\u2500\u2500\u2500\u2500\u2500\u2500\u2500\u2500\u2500\u2500\u2500\u2500\u2500\u2500\u2500\u2500\u2500\u2500\u2500\u2500\u2500\u2500\u2500\u2500\u2500\u2500\u2500\u2500\u2500\u2500\u2500\n",
        "                        ___                     \n",
        "                   16\u22c5\u2572\u2571 \u03c0 \u22c5c                   "
       ]
      },
      {
       "latex": [
        "$$\\frac{3 \\sqrt{30} \\nu}{16 \\sqrt{\\pi} c} \\left(- \\Sigma_{\\lambda}{\\left (t \\right )} + i \\Sigma_{n}{\\left (t \\right )}\\right) r{\\left (t \\right )}$$"
       ],
       "metadata": {},
       "output_type": "display_data",
       "png": "[encoded data removed]",
       "text": [
        "    ____                            \n",
        "3\u22c5\u2572\u2571 30 \u22c5\u03bd\u22c5(-\u03a3_\u03bb(t) + \u2148\u22c5\u03a3_n(t))\u22c5r(t)\n",
        "\u2500\u2500\u2500\u2500\u2500\u2500\u2500\u2500\u2500\u2500\u2500\u2500\u2500\u2500\u2500\u2500\u2500\u2500\u2500\u2500\u2500\u2500\u2500\u2500\u2500\u2500\u2500\u2500\u2500\u2500\u2500\u2500\u2500\u2500\u2500\u2500\n",
        "                  ___               \n",
        "             16\u22c5\u2572\u2571 \u03c0 \u22c5c             "
       ]
      }
     ],
     "prompt_number": 34
    },
    {
     "cell_type": "markdown",
     "metadata": {},
     "source": [
      "These results look pretty much as I expect.  I'll have to work on the scaling, though, to check if I agree exactly with other sources -- for the published terms, at least."
     ]
    },
    {
     "cell_type": "markdown",
     "metadata": {},
     "source": [
      "Note the Eqs. (74) and the footnote on page 32 of [Blanchet's Living Review (2013)](http://arxiv.org/abs/1310.1528), which explains the necessary normalizations."
     ]
    },
    {
     "cell_type": "code",
     "collapsed": false,
     "input": [
      "for m in range(-2,2+1):\n",
      "    display(sympy.simplify((-1/sympy.sqrt(2))\n",
      "                           * (frac(4,sympy.factorial(ell)) * sympy.sqrt(frac((ell+1)*(ell+2),2*ell*(ell-1)))\n",
      "                              * ((4*sympy.pi*sympy.factorial(ell))/sympy.factorial2(2*ell+1))\n",
      "                              * (YlmTensorConjugate(2,m)|I_jk)\n",
      "                              - (sympy.I/c) * frac(-8,sympy.factorial(ell)) * sympy.sqrt(frac(ell*(ell+2),2*(ell+1)*(ell-1)))\n",
      "                              * ((4*sympy.pi*sympy.factorial(ell))/sympy.factorial2(2*ell+1))\n",
      "                              * (YlmTensorConjugate(2,m)|J_jk))) )"
     ],
     "language": "python",
     "metadata": {},
     "outputs": [
      {
       "latex": [
        "$$- \\frac{\\sqrt{42} \\sqrt{\\pi} \\nu}{48243195 c^{2}} \\left(3 c^{2} r{\\left (t \\right )} + 4 i \\left(i \\Sigma_{\\lambda}{\\left (t \\right )} - \\Sigma_{n}{\\left (t \\right )}\\right)\\right) r{\\left (t \\right )}$$"
       ],
       "metadata": {},
       "output_type": "display_data",
       "png": "[encoded data removed]",
       "text": [
        "   ____   ___   \u239b   2                               \u239e      \n",
        "-\u2572\u2571 42 \u22c5\u2572\u2571 \u03c0 \u22c5\u03bd\u22c5\u239d3\u22c5c \u22c5r(t) + 4\u22c5\u2148\u22c5(\u2148\u22c5\u03a3_\u03bb(t) - \u03a3_n(t))\u23a0\u22c5r(t) \n",
        "\u2500\u2500\u2500\u2500\u2500\u2500\u2500\u2500\u2500\u2500\u2500\u2500\u2500\u2500\u2500\u2500\u2500\u2500\u2500\u2500\u2500\u2500\u2500\u2500\u2500\u2500\u2500\u2500\u2500\u2500\u2500\u2500\u2500\u2500\u2500\u2500\u2500\u2500\u2500\u2500\u2500\u2500\u2500\u2500\u2500\u2500\u2500\u2500\u2500\u2500\u2500\u2500\u2500\u2500\u2500\u2500\u2500\u2500\u2500\n",
        "                                  2                        \n",
        "                        48243195\u22c5c                         "
       ]
      },
      {
       "latex": [
        "$$- \\frac{4 \\sqrt{42} i \\nu}{144729585 c^{2}} \\sqrt{\\pi} \\left(4 c \\delta r{\\left (t \\right )} v{\\left (t \\right )} + 3 \\Sigma_{\\ell}{\\left (t \\right )}\\right) r{\\left (t \\right )}$$"
       ],
       "metadata": {},
       "output_type": "display_data",
       "png": "[encoded data removed]",
       "text": [
        "     ____     ___                                       \n",
        "-4\u22c5\u2572\u2571 42 \u22c5\u2148\u22c5\u2572\u2571 \u03c0 \u22c5\u03bd\u22c5(4\u22c5c\u22c5\u03b4\u22c5r(t)\u22c5v(t) + 3\u22c5\u03a3_ell(t))\u22c5r(t) \n",
        "\u2500\u2500\u2500\u2500\u2500\u2500\u2500\u2500\u2500\u2500\u2500\u2500\u2500\u2500\u2500\u2500\u2500\u2500\u2500\u2500\u2500\u2500\u2500\u2500\u2500\u2500\u2500\u2500\u2500\u2500\u2500\u2500\u2500\u2500\u2500\u2500\u2500\u2500\u2500\u2500\u2500\u2500\u2500\u2500\u2500\u2500\u2500\u2500\u2500\u2500\u2500\u2500\u2500\u2500\u2500\u2500\n",
        "                                 2                      \n",
        "                      144729585\u22c5c                       "
       ]
      },
      {
       "latex": [
        "$$\\frac{2 \\sqrt{7} \\sqrt{\\pi} \\nu}{48243195 c^{2}} \\left(3 c^{2} r{\\left (t \\right )} - 4 i \\Sigma_{n}{\\left (t \\right )}\\right) r{\\left (t \\right )}$$"
       ],
       "metadata": {},
       "output_type": "display_data",
       "png": "[encoded data removed]",
       "text": [
        "    ___   ___   \u239b   2                  \u239e     \n",
        "2\u22c5\u2572\u2571 7 \u22c5\u2572\u2571 \u03c0 \u22c5\u03bd\u22c5\u239d3\u22c5c \u22c5r(t) - 4\u22c5\u2148\u22c5\u03a3_n(t)\u23a0\u22c5r(t)\n",
        "\u2500\u2500\u2500\u2500\u2500\u2500\u2500\u2500\u2500\u2500\u2500\u2500\u2500\u2500\u2500\u2500\u2500\u2500\u2500\u2500\u2500\u2500\u2500\u2500\u2500\u2500\u2500\u2500\u2500\u2500\u2500\u2500\u2500\u2500\u2500\u2500\u2500\u2500\u2500\u2500\u2500\u2500\u2500\u2500\u2500\n",
        "                           2                 \n",
        "                 48243195\u22c5c                  "
       ]
      },
      {
       "latex": [
        "$$\\frac{4 \\sqrt{42} i \\nu}{144729585 c^{2}} \\sqrt{\\pi} \\left(4 c \\delta r{\\left (t \\right )} v{\\left (t \\right )} + 3 \\Sigma_{\\ell}{\\left (t \\right )}\\right) r{\\left (t \\right )}$$"
       ],
       "metadata": {},
       "output_type": "display_data",
       "png": "[encoded data removed]",
       "text": [
        "    ____     ___                                      \n",
        "4\u22c5\u2572\u2571 42 \u22c5\u2148\u22c5\u2572\u2571 \u03c0 \u22c5\u03bd\u22c5(4\u22c5c\u22c5\u03b4\u22c5r(t)\u22c5v(t) + 3\u22c5\u03a3_ell(t))\u22c5r(t)\n",
        "\u2500\u2500\u2500\u2500\u2500\u2500\u2500\u2500\u2500\u2500\u2500\u2500\u2500\u2500\u2500\u2500\u2500\u2500\u2500\u2500\u2500\u2500\u2500\u2500\u2500\u2500\u2500\u2500\u2500\u2500\u2500\u2500\u2500\u2500\u2500\u2500\u2500\u2500\u2500\u2500\u2500\u2500\u2500\u2500\u2500\u2500\u2500\u2500\u2500\u2500\u2500\u2500\u2500\u2500\n",
        "                                2                     \n",
        "                     144729585\u22c5c                      "
       ]
      },
      {
       "latex": [
        "$$- \\frac{\\sqrt{42} \\sqrt{\\pi} \\nu}{48243195 c^{2}} \\left(3 c^{2} r{\\left (t \\right )} + 4 \\Sigma_{\\lambda}{\\left (t \\right )} - 4 i \\Sigma_{n}{\\left (t \\right )}\\right) r{\\left (t \\right )}$$"
       ],
       "metadata": {},
       "output_type": "display_data",
       "png": "[encoded data removed]",
       "text": [
        "   ____   ___   \u239b   2                             \u239e      \n",
        "-\u2572\u2571 42 \u22c5\u2572\u2571 \u03c0 \u22c5\u03bd\u22c5\u239d3\u22c5c \u22c5r(t) + 4\u22c5\u03a3_\u03bb(t) - 4\u22c5\u2148\u22c5\u03a3_n(t)\u23a0\u22c5r(t) \n",
        "\u2500\u2500\u2500\u2500\u2500\u2500\u2500\u2500\u2500\u2500\u2500\u2500\u2500\u2500\u2500\u2500\u2500\u2500\u2500\u2500\u2500\u2500\u2500\u2500\u2500\u2500\u2500\u2500\u2500\u2500\u2500\u2500\u2500\u2500\u2500\u2500\u2500\u2500\u2500\u2500\u2500\u2500\u2500\u2500\u2500\u2500\u2500\u2500\u2500\u2500\u2500\u2500\u2500\u2500\u2500\u2500\u2500\n",
        "                                 2                       \n",
        "                       48243195\u22c5c                        "
       ]
      }
     ],
     "prompt_number": 35
    },
    {
     "cell_type": "code",
     "collapsed": false,
     "input": [],
     "language": "python",
     "metadata": {},
     "outputs": []
    },
    {
     "cell_type": "code",
     "collapsed": false,
     "input": [],
     "language": "python",
     "metadata": {},
     "outputs": []
    },
    {
     "cell_type": "code",
     "collapsed": false,
     "input": [],
     "language": "python",
     "metadata": {},
     "outputs": []
    }
   ],
   "metadata": {}
  }
 ]
}