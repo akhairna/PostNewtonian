{
 "metadata": {
  "name": "",
  "signature": "sha256:901d8da70b78af76cc38e41dee6d7b946a78645d081e42e608c145ec46d739f0"
 },
 "nbformat": 3,
 "nbformat_minor": 0,
 "worksheets": [
  {
   "cells": [
    {
     "cell_type": "markdown",
     "metadata": {},
     "source": [
      "The basic imports and the variables we'll be using:"
     ]
    },
    {
     "cell_type": "code",
     "collapsed": false,
     "input": [
      "from __future__ import division, print_function\n",
      "import sympy\n",
      "from sympy import *\n",
      "from sympy import Rational as frac\n",
      "import simpletensors\n",
      "from simpletensors import Vector, xHat, yHat, zHat\n",
      "from simpletensors import TensorProduct, SymmetricTensorProduct, Tensor\n",
      "init_printing()\n",
      "\n",
      "\n",
      "var('vartheta, varphi')\n",
      "var('nu, m, delta, c, t')\n",
      "\n",
      "# These are related scalar functions of time\n",
      "var('v, gamma, r', cls=Function)\n",
      "v = v(t)\n",
      "x = v**2\n",
      "Omega = v**3\n",
      "#gamma = v**2*(1 + (1-nu/3)*v**2 + (1-65*nu/12)*v**4) # APPROXIMATELY!!!  Change this later\n",
      "#r = 1/gamma\n",
      "gamma = gamma(t)\n",
      "r = r(t)\n",
      "r = 1/v**2 # APPROXIMATELY!!!  Just for testing.  Change this later\n",
      "\n",
      "# These get redefined momentarily, but have to exist first\n",
      "var('nHat, lambdaHat, ellHat', cls=Function)\n",
      "# And now we define them as vector functions of time\n",
      "nHat = Vector('nHat', r'\\hat{n}', [cos(Omega*t),sin(Omega*t),0,])(t)\n",
      "lambdaHat = Vector('lambdaHat', r'\\hat{\\lambda}', [-sin(Omega*t),cos(Omega*t),0,])(t)\n",
      "ellHat = Vector('ellHat', r'\\hat{\\ell}', [0,0,1,])(t)\n",
      "\n",
      "# These are the spin functions -- first, the individual components as regular sympy.Function objects; then the vectors themselves\n",
      "var('S_n, S_lambda, S_ell', cls=Function)\n",
      "var('Sigma_n, Sigma_lambda, Sigma_ell', cls=Function)\n",
      "SigmaVec = Vector('SigmaVec', r'\\vec{\\Sigma}', [Sigma_n(t), Sigma_lambda(t), Sigma_ell(t)])(t)\n",
      "SVec = Vector('S', r'\\vec{S}', [S_n(t), S_lambda(t), S_ell(t)])(t)"
     ],
     "language": "python",
     "metadata": {},
     "outputs": [],
     "prompt_number": 39
    },
    {
     "cell_type": "heading",
     "level": 1,
     "metadata": {},
     "source": [
      "Defining the spherical-harmonic tensors"
     ]
    },
    {
     "cell_type": "markdown",
     "metadata": {},
     "source": [
      "[Thorne (1980)](http://link.aps.org/doi/10.1103/RevModPhys.52.299) gives a nice review, along with the following formula for $Y^{\\ell,m}_L$.  Also note the Eqs. (74) and the footnote on page 32 of [Blanchet's Living Review (2013)](http://arxiv.org/abs/1310.1528), which explains the necessary normalizations for getting the metric perturbation modes from the tensors."
     ]
    },
    {
     "cell_type": "code",
     "collapsed": false,
     "input": [
      "DefaultOrthogonalRightHandedBasis=[xHat(t), yHat(t), zHat(t)]\n",
      "\n",
      "def C(ell,m):\n",
      "    return (-1)**abs(m) * sympy.sqrt( frac(2*ell+1,4) * frac(factorial(ell-m), factorial(ell+m)) / sympy.pi )\n",
      "\n",
      "def a(ell,m,j):\n",
      "    return frac((-1)**j, 2**ell * factorial(j) * factorial(ell-j)) * frac(factorial(2*ell-2*j), factorial(ell-m-2*j))\n",
      "\n",
      "def YlmTensor(ell, m, OrthogonalRightHandedBasis=DefaultOrthogonalRightHandedBasis):\n",
      "    if(ell<0 or abs(m)>ell):\n",
      "        raise ValueError(\"YlmTensor({0},{1}) is undefined.\".format(ell,m))\n",
      "    from sympy import prod\n",
      "    xHat, yHat, zHat = OrthogonalRightHandedBasis\n",
      "    if(m<0):\n",
      "        mVec = Tensor(SymmetricTensorProduct(xHat), SymmetricTensorProduct(yHat,coefficient=-sympy.I))\n",
      "        #mVec = VectorFactory('mBarVec', [1,-sympy.I,0])(t)\n",
      "    else:\n",
      "        mVec = Tensor(SymmetricTensorProduct(xHat), SymmetricTensorProduct(yHat,coefficient=sympy.I))\n",
      "        #mVec = VectorFactory('mVec', [1,sympy.I,0])(t)\n",
      "    def TensorPart(ell,m,j):\n",
      "        return sympy.prod((mVec,)*m) * SymmetricTensorProduct(*((zHat,)*(ell-2*j-m))) \\\n",
      "            * sympy.prod([sum([SymmetricTensorProduct(vHat, vHat) for vHat in OrthogonalRightHandedBasis]) for i in range(j)])\n",
      "    if(m<0):\n",
      "        Y = sum([TensorPart(ell,-m,j) * (C(ell,-m) * a(ell,-m,j))\n",
      "                 for j in range(floor(frac(ell+m,2))+1) ]) * (-1)**(-m)\n",
      "    else:\n",
      "        Y = sum([TensorPart(ell,m,j) * (C(ell,m) * a(ell,m,j))\n",
      "                 for j in range(floor(frac(ell-m,2))+1) ])\n",
      "    try:\n",
      "        Y.compress()\n",
      "    except AttributeError:\n",
      "        pass\n",
      "    return Y\n",
      "\n",
      "def YlmTensorConjugate(ell, m, OrthogonalRightHandedBasis=DefaultOrthogonalRightHandedBasis):\n",
      "    return YlmTensor(ell, -m, OrthogonalRightHandedBasis) * (-1)**abs(m)\n",
      "\n",
      "# This is Blanchet's version of the above\n",
      "def alphalmTensor(ell, m, OrthogonalRightHandedBasis=DefaultOrthogonalRightHandedBasis):\n",
      "    return YlmTensor(ell, -m, OrthogonalRightHandedBasis) * ( (-1)**abs(m) * (4*pi*factorial(ell)) / factorial2(2*ell+1) )\n",
      "\n",
      "NVec = Vector('NVec', r'\\hat{N}', [sympy.sin(vartheta)*sympy.cos(varphi),\n",
      "                                   sympy.sin(vartheta)*sympy.sin(varphi),\n",
      "                                   sympy.cos(vartheta)])(t)\n",
      "\n",
      "def NTensor(ell):\n",
      "    return SymmetricTensorProduct(*((NVec,)*ell))\n",
      "\n",
      "# These give the SWSH modes components from the given radiative tensors\n",
      "def Ulm(U_L, m):\n",
      "    ell = U_L.rank\n",
      "    return (alphalmTensor(ell, m) | U_L) * (frac(4,factorial(ell))*sqrt(frac((ell+1)*(ell+2), 2*ell*(ell-1))))\n",
      "def Vlm(V_L, m):\n",
      "    ell = V_L.rank\n",
      "    return (alphalmTensor(ell, m) | V_L) * (frac(-8,factorial(ell))*sqrt(frac(ell*(ell+2), 2*(ell+1)*(ell-1))))"
     ],
     "language": "python",
     "metadata": {},
     "outputs": [],
     "prompt_number": 60
    },
    {
     "cell_type": "markdown",
     "metadata": {},
     "source": [
      "Let's take a look at those tensors:"
     ]
    },
    {
     "cell_type": "code",
     "collapsed": false,
     "input": [
      "for ell in range(2,5):\n",
      "    print('')\n",
      "    for m in range(-ell, ell+1):\n",
      "        print('(ell,m) = ({0},{1}):'.format(ell,m))\n",
      "        display( YlmTensor(ell,m) )"
     ],
     "language": "python",
     "metadata": {},
     "outputs": [
      {
       "output_type": "stream",
       "stream": "stdout",
       "text": [
        "\n",
        "(ell,m) = (2,-2):\n"
       ]
      },
      {
       "latex": [
        "$$\\begin{align*}&\\left\\{ \\left[ \\left(\\frac{\\sqrt{30}}{8 \\sqrt{\\pi}}\\right)\\, \\hat{x} \\otimes_{\\mathrm{s}} \\hat{x} \\right] \\right. \\nonumber \\\\&\\quad \\left. + \\left[ \\left(- \\frac{\\sqrt{30} i}{4 \\sqrt{\\pi}}\\right)\\, \\hat{x} \\otimes_{\\mathrm{s}} \\hat{y} \\right] \\right. \\nonumber \\\\&\\quad \\left. + \\left[ \\left(- \\frac{\\sqrt{30}}{8 \\sqrt{\\pi}}\\right)\\, \\hat{y} \\otimes_{\\mathrm{s}} \\hat{y} \\right] \\right\\}\\end{align*}$$"
       ],
       "metadata": {},
       "output_type": "display_data",
       "png": "[encoded data removed]",
       "text": [
        "TensorFunction\u2086(t)"
       ]
      },
      {
       "output_type": "stream",
       "stream": "stdout",
       "text": [
        "(ell,m) = (2,-1):\n"
       ]
      },
      {
       "latex": [
        "$$\\begin{align*}&\\left\\{ \\left[ \\left(\\frac{\\sqrt{30}}{4 \\sqrt{\\pi}}\\right)\\, \\hat{x} \\otimes_{\\mathrm{s}} \\hat{z} \\right] \\right. \\nonumber \\\\&\\quad \\left. + \\left[ \\left(- \\frac{\\sqrt{30} i}{4 \\sqrt{\\pi}}\\right)\\, \\hat{y} \\otimes_{\\mathrm{s}} \\hat{z} \\right] \\right\\}\\end{align*}$$"
       ],
       "metadata": {},
       "output_type": "display_data",
       "png": "[encoded data removed]",
       "text": [
        "TensorFunction\u2081\u2082(t)"
       ]
      },
      {
       "output_type": "stream",
       "stream": "stdout",
       "text": [
        "(ell,m) = (2,0):\n"
       ]
      },
      {
       "latex": [
        "$$\\begin{align*}&\\left\\{ \\left[ \\left(\\frac{\\sqrt{5}}{2 \\sqrt{\\pi}}\\right)\\, \\hat{z} \\otimes_{\\mathrm{s}} \\hat{z} \\right] \\right. \\nonumber \\\\&\\quad \\left. + \\left[ \\left(- \\frac{\\sqrt{5}}{4 \\sqrt{\\pi}}\\right)\\, \\hat{x} \\otimes_{\\mathrm{s}} \\hat{x} \\right] \\right. \\nonumber \\\\&\\quad \\left. + \\left[ \\left(- \\frac{\\sqrt{5}}{4 \\sqrt{\\pi}}\\right)\\, \\hat{y} \\otimes_{\\mathrm{s}} \\hat{y} \\right] \\right\\}\\end{align*}$$"
       ],
       "metadata": {},
       "output_type": "display_data",
       "png": "[encoded data removed]",
       "text": [
        "TensorFunction\u2082\u2081(t)"
       ]
      },
      {
       "output_type": "stream",
       "stream": "stdout",
       "text": [
        "(ell,m) = (2,1):\n"
       ]
      },
      {
       "latex": [
        "$$\\begin{align*}&\\left\\{ \\left[ \\left(- \\frac{\\sqrt{30}}{4 \\sqrt{\\pi}}\\right)\\, \\hat{x} \\otimes_{\\mathrm{s}} \\hat{z} \\right] \\right. \\nonumber \\\\&\\quad \\left. + \\left[ \\left(- \\frac{\\sqrt{30} i}{4 \\sqrt{\\pi}}\\right)\\, \\hat{y} \\otimes_{\\mathrm{s}} \\hat{z} \\right] \\right\\}\\end{align*}$$"
       ],
       "metadata": {},
       "output_type": "display_data",
       "png": "[encoded data removed]",
       "text": [
        "TensorFunction\u2082\u2086(t)"
       ]
      },
      {
       "output_type": "stream",
       "stream": "stdout",
       "text": [
        "(ell,m) = (2,2):\n"
       ]
      },
      {
       "latex": [
        "$$\\begin{align*}&\\left\\{ \\left[ \\left(\\frac{\\sqrt{30}}{8 \\sqrt{\\pi}}\\right)\\, \\hat{x} \\otimes_{\\mathrm{s}} \\hat{x} \\right] \\right. \\nonumber \\\\&\\quad \\left. + \\left[ \\left(\\frac{\\sqrt{30} i}{4 \\sqrt{\\pi}}\\right)\\, \\hat{x} \\otimes_{\\mathrm{s}} \\hat{y} \\right] \\right. \\nonumber \\\\&\\quad \\left. + \\left[ \\left(- \\frac{\\sqrt{30}}{8 \\sqrt{\\pi}}\\right)\\, \\hat{y} \\otimes_{\\mathrm{s}} \\hat{y} \\right] \\right\\}\\end{align*}$$"
       ],
       "metadata": {},
       "output_type": "display_data",
       "png": "[encoded data removed]",
       "text": [
        "TensorFunction\u2083\u2082(t)"
       ]
      },
      {
       "output_type": "stream",
       "stream": "stdout",
       "text": [
        "\n",
        "(ell,m) = (3,-3):\n"
       ]
      },
      {
       "latex": [
        "$$\\begin{align*}&\\left\\{ \\left[ \\left(\\frac{\\sqrt{35}}{8 \\sqrt{\\pi}}\\right)\\, \\hat{x} \\otimes_{\\mathrm{s}} \\hat{x} \\otimes_{\\mathrm{s}} \\hat{x} \\right] \\right. \\nonumber \\\\&\\quad \\left. + \\left[ \\left(- \\frac{3 \\sqrt{35} i}{8 \\sqrt{\\pi}}\\right)\\, \\hat{x} \\otimes_{\\mathrm{s}} \\hat{x} \\otimes_{\\mathrm{s}} \\hat{y} \\right] \\right. \\nonumber \\\\&\\quad \\left. + \\left[ \\left(- \\frac{3 \\sqrt{35}}{8 \\sqrt{\\pi}}\\right)\\, \\hat{x} \\otimes_{\\mathrm{s}} \\hat{y} \\otimes_{\\mathrm{s}} \\hat{y} \\right] \\right. \\nonumber \\\\&\\quad \\left. + \\left[ \\left(\\frac{\\sqrt{35} i}{8 \\sqrt{\\pi}}\\right)\\, \\hat{y} \\otimes_{\\mathrm{s}} \\hat{y} \\otimes_{\\mathrm{s}} \\hat{y} \\right] \\right\\}\\end{align*}$$"
       ],
       "metadata": {},
       "output_type": "display_data",
       "png": "[encoded data removed]",
       "text": [
        "TensorFunction\u2084\u2080(t)"
       ]
      },
      {
       "output_type": "stream",
       "stream": "stdout",
       "text": [
        "(ell,m) = (3,-2):\n"
       ]
      },
      {
       "latex": [
        "$$\\begin{align*}&\\left\\{ \\left[ \\left(\\frac{\\sqrt{210}}{8 \\sqrt{\\pi}}\\right)\\, \\hat{x} \\otimes_{\\mathrm{s}} \\hat{x} \\otimes_{\\mathrm{s}} \\hat{z} \\right] \\right. \\nonumber \\\\&\\quad \\left. + \\left[ \\left(- \\frac{\\sqrt{210} i}{4 \\sqrt{\\pi}}\\right)\\, \\hat{x} \\otimes_{\\mathrm{s}} \\hat{y} \\otimes_{\\mathrm{s}} \\hat{z} \\right] \\right. \\nonumber \\\\&\\quad \\left. + \\left[ \\left(- \\frac{\\sqrt{210}}{8 \\sqrt{\\pi}}\\right)\\, \\hat{y} \\otimes_{\\mathrm{s}} \\hat{y} \\otimes_{\\mathrm{s}} \\hat{z} \\right] \\right\\}\\end{align*}$$"
       ],
       "metadata": {},
       "output_type": "display_data",
       "png": "[encoded data removed]",
       "text": [
        "TensorFunction\u2084\u2087(t)"
       ]
      },
      {
       "output_type": "stream",
       "stream": "stdout",
       "text": [
        "(ell,m) = (3,-1):\n"
       ]
      },
      {
       "latex": [
        "$$\\begin{align*}&\\left\\{ \\left[ \\left(\\frac{\\sqrt{21}}{2 \\sqrt{\\pi}}\\right)\\, \\hat{x} \\otimes_{\\mathrm{s}} \\hat{z} \\otimes_{\\mathrm{s}} \\hat{z} \\right] \\right. \\nonumber \\\\&\\quad \\left. + \\left[ \\left(- \\frac{\\sqrt{21} i}{2 \\sqrt{\\pi}}\\right)\\, \\hat{y} \\otimes_{\\mathrm{s}} \\hat{z} \\otimes_{\\mathrm{s}} \\hat{z} \\right] \\right. \\nonumber \\\\&\\quad \\left. + \\left[ \\left(- \\frac{\\sqrt{21}}{8 \\sqrt{\\pi}}\\right)\\, \\hat{x} \\otimes_{\\mathrm{s}} \\hat{x} \\otimes_{\\mathrm{s}} \\hat{x} \\right] \\right. \\nonumber \\\\&\\quad \\left. + \\left[ \\left(- \\frac{\\sqrt{21}}{8 \\sqrt{\\pi}}\\right)\\, \\hat{x} \\otimes_{\\mathrm{s}} \\hat{y} \\otimes_{\\mathrm{s}} \\hat{y} \\right] \\right. \\nonumber \\\\&\\quad \\left. + \\left[ \\left(\\frac{\\sqrt{21} i}{8 \\sqrt{\\pi}}\\right)\\, \\hat{y} \\otimes_{\\mathrm{s}} \\hat{x} \\otimes_{\\mathrm{s}} \\hat{x} \\right] \\right. \\nonumber \\\\&\\quad \\left. + \\left[ \\left(\\frac{\\sqrt{21} i}{8 \\sqrt{\\pi}}\\right)\\, \\hat{y} \\otimes_{\\mathrm{s}} \\hat{y} \\otimes_{\\mathrm{s}} \\hat{y} \\right] \\right\\}\\end{align*}$$"
       ],
       "metadata": {},
       "output_type": "display_data",
       "png": "[encoded data removed]",
       "text": [
        "TensorFunction\u2086\u2082(t)"
       ]
      },
      {
       "output_type": "stream",
       "stream": "stdout",
       "text": [
        "(ell,m) = (3,0):\n"
       ]
      },
      {
       "latex": [
        "$$\\begin{align*}&\\left\\{ \\left[ \\left(\\frac{\\sqrt{7}}{2 \\sqrt{\\pi}}\\right)\\, \\hat{z} \\otimes_{\\mathrm{s}} \\hat{z} \\otimes_{\\mathrm{s}} \\hat{z} \\right] \\right. \\nonumber \\\\&\\quad \\left. + \\left[ \\left(- \\frac{3 \\sqrt{7}}{4 \\sqrt{\\pi}}\\right)\\, \\hat{z} \\otimes_{\\mathrm{s}} \\hat{x} \\otimes_{\\mathrm{s}} \\hat{x} \\right] \\right. \\nonumber \\\\&\\quad \\left. + \\left[ \\left(- \\frac{3 \\sqrt{7}}{4 \\sqrt{\\pi}}\\right)\\, \\hat{z} \\otimes_{\\mathrm{s}} \\hat{y} \\otimes_{\\mathrm{s}} \\hat{y} \\right] \\right\\}\\end{align*}$$"
       ],
       "metadata": {},
       "output_type": "display_data",
       "png": "[encoded data removed]",
       "text": [
        "TensorFunction\u2087\u2081(t)"
       ]
      },
      {
       "output_type": "stream",
       "stream": "stdout",
       "text": [
        "(ell,m) = (3,1):\n"
       ]
      },
      {
       "latex": [
        "$$\\begin{align*}&\\left\\{ \\left[ \\left(- \\frac{\\sqrt{21}}{2 \\sqrt{\\pi}}\\right)\\, \\hat{x} \\otimes_{\\mathrm{s}} \\hat{z} \\otimes_{\\mathrm{s}} \\hat{z} \\right] \\right. \\nonumber \\\\&\\quad \\left. + \\left[ \\left(- \\frac{\\sqrt{21} i}{2 \\sqrt{\\pi}}\\right)\\, \\hat{y} \\otimes_{\\mathrm{s}} \\hat{z} \\otimes_{\\mathrm{s}} \\hat{z} \\right] \\right. \\nonumber \\\\&\\quad \\left. + \\left[ \\left(\\frac{\\sqrt{21}}{8 \\sqrt{\\pi}}\\right)\\, \\hat{x} \\otimes_{\\mathrm{s}} \\hat{x} \\otimes_{\\mathrm{s}} \\hat{x} \\right] \\right. \\nonumber \\\\&\\quad \\left. + \\left[ \\left(\\frac{\\sqrt{21}}{8 \\sqrt{\\pi}}\\right)\\, \\hat{x} \\otimes_{\\mathrm{s}} \\hat{y} \\otimes_{\\mathrm{s}} \\hat{y} \\right] \\right. \\nonumber \\\\&\\quad \\left. + \\left[ \\left(\\frac{\\sqrt{21} i}{8 \\sqrt{\\pi}}\\right)\\, \\hat{y} \\otimes_{\\mathrm{s}} \\hat{x} \\otimes_{\\mathrm{s}} \\hat{x} \\right] \\right. \\nonumber \\\\&\\quad \\left. + \\left[ \\left(\\frac{\\sqrt{21} i}{8 \\sqrt{\\pi}}\\right)\\, \\hat{y} \\otimes_{\\mathrm{s}} \\hat{y} \\otimes_{\\mathrm{s}} \\hat{y} \\right] \\right\\}\\end{align*}$$"
       ],
       "metadata": {},
       "output_type": "display_data",
       "png": "[encoded data removed]",
       "text": [
        "TensorFunction\u2088\u2085(t)"
       ]
      },
      {
       "output_type": "stream",
       "stream": "stdout",
       "text": [
        "(ell,m) = (3,2):\n"
       ]
      },
      {
       "latex": [
        "$$\\begin{align*}&\\left\\{ \\left[ \\left(\\frac{\\sqrt{210}}{8 \\sqrt{\\pi}}\\right)\\, \\hat{x} \\otimes_{\\mathrm{s}} \\hat{x} \\otimes_{\\mathrm{s}} \\hat{z} \\right] \\right. \\nonumber \\\\&\\quad \\left. + \\left[ \\left(\\frac{\\sqrt{210} i}{4 \\sqrt{\\pi}}\\right)\\, \\hat{x} \\otimes_{\\mathrm{s}} \\hat{y} \\otimes_{\\mathrm{s}} \\hat{z} \\right] \\right. \\nonumber \\\\&\\quad \\left. + \\left[ \\left(- \\frac{\\sqrt{210}}{8 \\sqrt{\\pi}}\\right)\\, \\hat{y} \\otimes_{\\mathrm{s}} \\hat{y} \\otimes_{\\mathrm{s}} \\hat{z} \\right] \\right\\}\\end{align*}$$"
       ],
       "metadata": {},
       "output_type": "display_data",
       "png": "[encoded data removed]",
       "text": [
        "TensorFunction\u2089\u2081(t)"
       ]
      },
      {
       "output_type": "stream",
       "stream": "stdout",
       "text": [
        "(ell,m) = (3,3):\n"
       ]
      },
      {
       "latex": [
        "$$\\begin{align*}&\\left\\{ \\left[ \\left(- \\frac{\\sqrt{35}}{8 \\sqrt{\\pi}}\\right)\\, \\hat{x} \\otimes_{\\mathrm{s}} \\hat{x} \\otimes_{\\mathrm{s}} \\hat{x} \\right] \\right. \\nonumber \\\\&\\quad \\left. + \\left[ \\left(- \\frac{3 \\sqrt{35} i}{8 \\sqrt{\\pi}}\\right)\\, \\hat{x} \\otimes_{\\mathrm{s}} \\hat{x} \\otimes_{\\mathrm{s}} \\hat{y} \\right] \\right. \\nonumber \\\\&\\quad \\left. + \\left[ \\left(\\frac{3 \\sqrt{35}}{8 \\sqrt{\\pi}}\\right)\\, \\hat{x} \\otimes_{\\mathrm{s}} \\hat{y} \\otimes_{\\mathrm{s}} \\hat{y} \\right] \\right. \\nonumber \\\\&\\quad \\left. + \\left[ \\left(\\frac{\\sqrt{35} i}{8 \\sqrt{\\pi}}\\right)\\, \\hat{y} \\otimes_{\\mathrm{s}} \\hat{y} \\otimes_{\\mathrm{s}} \\hat{y} \\right] \\right\\}\\end{align*}$$"
       ],
       "metadata": {},
       "output_type": "display_data",
       "png": "[encoded data removed]",
       "text": [
        "TensorFunction\u2089\u2088(t)"
       ]
      },
      {
       "output_type": "stream",
       "stream": "stdout",
       "text": [
        "\n",
        "(ell,m) = (4,-4):\n"
       ]
      },
      {
       "latex": [
        "$$\\begin{align*}&\\left\\{ \\left[ \\left(\\frac{3 \\sqrt{70}}{32 \\sqrt{\\pi}}\\right)\\, \\hat{x} \\otimes_{\\mathrm{s}} \\hat{x} \\otimes_{\\mathrm{s}} \\hat{x} \\otimes_{\\mathrm{s}} \\hat{x} \\right] \\right. \\nonumber \\\\&\\quad \\left. + \\left[ \\left(- \\frac{3 \\sqrt{70} i}{8 \\sqrt{\\pi}}\\right)\\, \\hat{x} \\otimes_{\\mathrm{s}} \\hat{x} \\otimes_{\\mathrm{s}} \\hat{x} \\otimes_{\\mathrm{s}} \\hat{y} \\right] \\right. \\nonumber \\\\&\\quad \\left. + \\left[ \\left(- \\frac{9 \\sqrt{70}}{16 \\sqrt{\\pi}}\\right)\\, \\hat{x} \\otimes_{\\mathrm{s}} \\hat{x} \\otimes_{\\mathrm{s}} \\hat{y} \\otimes_{\\mathrm{s}} \\hat{y} \\right] \\right. \\nonumber \\\\&\\quad \\left. + \\left[ \\left(\\frac{3 \\sqrt{70} i}{8 \\sqrt{\\pi}}\\right)\\, \\hat{x} \\otimes_{\\mathrm{s}} \\hat{y} \\otimes_{\\mathrm{s}} \\hat{y} \\otimes_{\\mathrm{s}} \\hat{y} \\right] \\right. \\nonumber \\\\&\\quad \\left. + \\left[ \\left(\\frac{3 \\sqrt{70}}{32 \\sqrt{\\pi}}\\right)\\, \\hat{y} \\otimes_{\\mathrm{s}} \\hat{y} \\otimes_{\\mathrm{s}} \\hat{y} \\otimes_{\\mathrm{s}} \\hat{y} \\right] \\right\\}\\end{align*}$$"
       ],
       "metadata": {},
       "output_type": "display_data",
       "png": "[encoded data removed]",
       "text": [
        "TensorFunction\u2081\u2080\u2087(t)"
       ]
      },
      {
       "output_type": "stream",
       "stream": "stdout",
       "text": [
        "(ell,m) = (4,-3):\n"
       ]
      },
      {
       "latex": [
        "$$\\begin{align*}&\\left\\{ \\left[ \\left(\\frac{3 \\sqrt{35}}{8 \\sqrt{\\pi}}\\right)\\, \\hat{x} \\otimes_{\\mathrm{s}} \\hat{x} \\otimes_{\\mathrm{s}} \\hat{x} \\otimes_{\\mathrm{s}} \\hat{z} \\right] \\right. \\nonumber \\\\&\\quad \\left. + \\left[ \\left(- \\frac{9 \\sqrt{35} i}{8 \\sqrt{\\pi}}\\right)\\, \\hat{x} \\otimes_{\\mathrm{s}} \\hat{x} \\otimes_{\\mathrm{s}} \\hat{y} \\otimes_{\\mathrm{s}} \\hat{z} \\right] \\right. \\nonumber \\\\&\\quad \\left. + \\left[ \\left(- \\frac{9 \\sqrt{35}}{8 \\sqrt{\\pi}}\\right)\\, \\hat{x} \\otimes_{\\mathrm{s}} \\hat{y} \\otimes_{\\mathrm{s}} \\hat{y} \\otimes_{\\mathrm{s}} \\hat{z} \\right] \\right. \\nonumber \\\\&\\quad \\left. + \\left[ \\left(\\frac{3 \\sqrt{35} i}{8 \\sqrt{\\pi}}\\right)\\, \\hat{y} \\otimes_{\\mathrm{s}} \\hat{y} \\otimes_{\\mathrm{s}} \\hat{y} \\otimes_{\\mathrm{s}} \\hat{z} \\right] \\right\\}\\end{align*}$$"
       ],
       "metadata": {},
       "output_type": "display_data",
       "png": "[encoded data removed]",
       "text": [
        "TensorFunction\u2081\u2081\u2085(t)"
       ]
      },
      {
       "output_type": "stream",
       "stream": "stdout",
       "text": [
        "(ell,m) = (4,-2):\n"
       ]
      },
      {
       "latex": [
        "$$\\begin{align*}&\\left\\{ \\left[ \\left(\\frac{9 \\sqrt{10}}{8 \\sqrt{\\pi}}\\right)\\, \\hat{x} \\otimes_{\\mathrm{s}} \\hat{x} \\otimes_{\\mathrm{s}} \\hat{z} \\otimes_{\\mathrm{s}} \\hat{z} \\right] \\right. \\nonumber \\\\&\\quad \\left. + \\left[ \\left(- \\frac{9 \\sqrt{10} i}{4 \\sqrt{\\pi}}\\right)\\, \\hat{x} \\otimes_{\\mathrm{s}} \\hat{y} \\otimes_{\\mathrm{s}} \\hat{z} \\otimes_{\\mathrm{s}} \\hat{z} \\right] \\right. \\nonumber \\\\&\\quad \\left. + \\left[ \\left(- \\frac{9 \\sqrt{10}}{8 \\sqrt{\\pi}}\\right)\\, \\hat{y} \\otimes_{\\mathrm{s}} \\hat{y} \\otimes_{\\mathrm{s}} \\hat{z} \\otimes_{\\mathrm{s}} \\hat{z} \\right] \\right. \\nonumber \\\\&\\quad \\left. + \\left[ \\left(- \\frac{3 \\sqrt{10}}{16 \\sqrt{\\pi}}\\right)\\, \\hat{x} \\otimes_{\\mathrm{s}} \\hat{x} \\otimes_{\\mathrm{s}} \\hat{x} \\otimes_{\\mathrm{s}} \\hat{x} \\right] \\right. \\nonumber \\\\&\\quad \\left. + \\left[ \\left(\\frac{3 \\sqrt{10} i}{8 \\sqrt{\\pi}}\\right)\\, \\hat{x} \\otimes_{\\mathrm{s}} \\hat{y} \\otimes_{\\mathrm{s}} \\hat{x} \\otimes_{\\mathrm{s}} \\hat{x} \\right] \\right. \\nonumber \\\\&\\quad \\left. + \\left[ \\left(\\frac{3 \\sqrt{10} i}{8 \\sqrt{\\pi}}\\right)\\, \\hat{x} \\otimes_{\\mathrm{s}} \\hat{y} \\otimes_{\\mathrm{s}} \\hat{y} \\otimes_{\\mathrm{s}} \\hat{y} \\right] \\right. \\nonumber \\\\&\\quad \\left. + \\left[ \\left(\\frac{3 \\sqrt{10}}{16 \\sqrt{\\pi}}\\right)\\, \\hat{y} \\otimes_{\\mathrm{s}} \\hat{y} \\otimes_{\\mathrm{s}} \\hat{y} \\otimes_{\\mathrm{s}} \\hat{y} \\right] \\right\\}\\end{align*}$$"
       ],
       "metadata": {},
       "output_type": "display_data",
       "png": "[encoded data removed]",
       "text": [
        "TensorFunction\u2081\u2083\u2082(t)"
       ]
      },
      {
       "output_type": "stream",
       "stream": "stdout",
       "text": [
        "(ell,m) = (4,-1):\n"
       ]
      },
      {
       "latex": [
        "$$\\begin{align*}&\\left\\{ \\left[ \\left(\\frac{3 \\sqrt{5}}{2 \\sqrt{\\pi}}\\right)\\, \\hat{x} \\otimes_{\\mathrm{s}} \\hat{z} \\otimes_{\\mathrm{s}} \\hat{z} \\otimes_{\\mathrm{s}} \\hat{z} \\right] \\right. \\nonumber \\\\&\\quad \\left. + \\left[ \\left(- \\frac{3 \\sqrt{5} i}{2 \\sqrt{\\pi}}\\right)\\, \\hat{y} \\otimes_{\\mathrm{s}} \\hat{z} \\otimes_{\\mathrm{s}} \\hat{z} \\otimes_{\\mathrm{s}} \\hat{z} \\right] \\right. \\nonumber \\\\&\\quad \\left. + \\left[ \\left(- \\frac{9 \\sqrt{5}}{8 \\sqrt{\\pi}}\\right)\\, \\hat{x} \\otimes_{\\mathrm{s}} \\hat{z} \\otimes_{\\mathrm{s}} \\hat{x} \\otimes_{\\mathrm{s}} \\hat{x} \\right] \\right. \\nonumber \\\\&\\quad \\left. + \\left[ \\left(- \\frac{9 \\sqrt{5}}{8 \\sqrt{\\pi}}\\right)\\, \\hat{x} \\otimes_{\\mathrm{s}} \\hat{z} \\otimes_{\\mathrm{s}} \\hat{y} \\otimes_{\\mathrm{s}} \\hat{y} \\right] \\right. \\nonumber \\\\&\\quad \\left. + \\left[ \\left(\\frac{9 \\sqrt{5} i}{8 \\sqrt{\\pi}}\\right)\\, \\hat{y} \\otimes_{\\mathrm{s}} \\hat{z} \\otimes_{\\mathrm{s}} \\hat{x} \\otimes_{\\mathrm{s}} \\hat{x} \\right] \\right. \\nonumber \\\\&\\quad \\left. + \\left[ \\left(\\frac{9 \\sqrt{5} i}{8 \\sqrt{\\pi}}\\right)\\, \\hat{y} \\otimes_{\\mathrm{s}} \\hat{z} \\otimes_{\\mathrm{s}} \\hat{y} \\otimes_{\\mathrm{s}} \\hat{y} \\right] \\right\\}\\end{align*}$$"
       ],
       "metadata": {},
       "output_type": "display_data",
       "png": "[encoded data removed]",
       "text": [
        "TensorFunction\u2081\u2084\u2087(t)"
       ]
      },
      {
       "output_type": "stream",
       "stream": "stdout",
       "text": [
        "(ell,m) = (4,0):\n"
       ]
      },
      {
       "latex": [
        "$$\\begin{align*}&\\left\\{ \\left[ \\left(\\frac{3}{2 \\sqrt{\\pi}}\\right)\\, \\hat{z} \\otimes_{\\mathrm{s}} \\hat{z} \\otimes_{\\mathrm{s}} \\hat{z} \\otimes_{\\mathrm{s}} \\hat{z} \\right] \\right. \\nonumber \\\\&\\quad \\left. + \\left[ \\left(- \\frac{9}{2 \\sqrt{\\pi}}\\right)\\, \\hat{z} \\otimes_{\\mathrm{s}} \\hat{z} \\otimes_{\\mathrm{s}} \\hat{x} \\otimes_{\\mathrm{s}} \\hat{x} \\right] \\right. \\nonumber \\\\&\\quad \\left. + \\left[ \\left(- \\frac{9}{2 \\sqrt{\\pi}}\\right)\\, \\hat{z} \\otimes_{\\mathrm{s}} \\hat{z} \\otimes_{\\mathrm{s}} \\hat{y} \\otimes_{\\mathrm{s}} \\hat{y} \\right] \\right. \\nonumber \\\\&\\quad \\left. + \\left[ \\left(\\frac{9}{16 \\sqrt{\\pi}}\\right)\\, \\hat{x} \\otimes_{\\mathrm{s}} \\hat{x} \\otimes_{\\mathrm{s}} \\hat{x} \\otimes_{\\mathrm{s}} \\hat{x} \\right] \\right. \\nonumber \\\\&\\quad \\left. + \\left[ \\left(\\frac{9}{8 \\sqrt{\\pi}}\\right)\\, \\hat{x} \\otimes_{\\mathrm{s}} \\hat{x} \\otimes_{\\mathrm{s}} \\hat{y} \\otimes_{\\mathrm{s}} \\hat{y} \\right] \\right. \\nonumber \\\\&\\quad \\left. + \\left[ \\left(\\frac{9}{16 \\sqrt{\\pi}}\\right)\\, \\hat{y} \\otimes_{\\mathrm{s}} \\hat{y} \\otimes_{\\mathrm{s}} \\hat{y} \\otimes_{\\mathrm{s}} \\hat{y} \\right] \\right\\}\\end{align*}$$"
       ],
       "metadata": {},
       "output_type": "display_data",
       "png": "[encoded data removed]",
       "text": [
        "TensorFunction\u2081\u2086\u2087(t)"
       ]
      },
      {
       "output_type": "stream",
       "stream": "stdout",
       "text": [
        "(ell,m) = (4,1):\n"
       ]
      },
      {
       "latex": [
        "$$\\begin{align*}&\\left\\{ \\left[ \\left(- \\frac{3 \\sqrt{5}}{2 \\sqrt{\\pi}}\\right)\\, \\hat{x} \\otimes_{\\mathrm{s}} \\hat{z} \\otimes_{\\mathrm{s}} \\hat{z} \\otimes_{\\mathrm{s}} \\hat{z} \\right] \\right. \\nonumber \\\\&\\quad \\left. + \\left[ \\left(- \\frac{3 \\sqrt{5} i}{2 \\sqrt{\\pi}}\\right)\\, \\hat{y} \\otimes_{\\mathrm{s}} \\hat{z} \\otimes_{\\mathrm{s}} \\hat{z} \\otimes_{\\mathrm{s}} \\hat{z} \\right] \\right. \\nonumber \\\\&\\quad \\left. + \\left[ \\left(\\frac{9 \\sqrt{5}}{8 \\sqrt{\\pi}}\\right)\\, \\hat{x} \\otimes_{\\mathrm{s}} \\hat{z} \\otimes_{\\mathrm{s}} \\hat{x} \\otimes_{\\mathrm{s}} \\hat{x} \\right] \\right. \\nonumber \\\\&\\quad \\left. + \\left[ \\left(\\frac{9 \\sqrt{5}}{8 \\sqrt{\\pi}}\\right)\\, \\hat{x} \\otimes_{\\mathrm{s}} \\hat{z} \\otimes_{\\mathrm{s}} \\hat{y} \\otimes_{\\mathrm{s}} \\hat{y} \\right] \\right. \\nonumber \\\\&\\quad \\left. + \\left[ \\left(\\frac{9 \\sqrt{5} i}{8 \\sqrt{\\pi}}\\right)\\, \\hat{y} \\otimes_{\\mathrm{s}} \\hat{z} \\otimes_{\\mathrm{s}} \\hat{x} \\otimes_{\\mathrm{s}} \\hat{x} \\right] \\right. \\nonumber \\\\&\\quad \\left. + \\left[ \\left(\\frac{9 \\sqrt{5} i}{8 \\sqrt{\\pi}}\\right)\\, \\hat{y} \\otimes_{\\mathrm{s}} \\hat{z} \\otimes_{\\mathrm{s}} \\hat{y} \\otimes_{\\mathrm{s}} \\hat{y} \\right] \\right\\}\\end{align*}$$"
       ],
       "metadata": {},
       "output_type": "display_data",
       "png": "[encoded data removed]",
       "text": [
        "TensorFunction\u2081\u2088\u2081(t)"
       ]
      },
      {
       "output_type": "stream",
       "stream": "stdout",
       "text": [
        "(ell,m) = (4,2):\n"
       ]
      },
      {
       "latex": [
        "$$\\begin{align*}&\\left\\{ \\left[ \\left(\\frac{9 \\sqrt{10}}{8 \\sqrt{\\pi}}\\right)\\, \\hat{x} \\otimes_{\\mathrm{s}} \\hat{x} \\otimes_{\\mathrm{s}} \\hat{z} \\otimes_{\\mathrm{s}} \\hat{z} \\right] \\right. \\nonumber \\\\&\\quad \\left. + \\left[ \\left(\\frac{9 \\sqrt{10} i}{4 \\sqrt{\\pi}}\\right)\\, \\hat{x} \\otimes_{\\mathrm{s}} \\hat{y} \\otimes_{\\mathrm{s}} \\hat{z} \\otimes_{\\mathrm{s}} \\hat{z} \\right] \\right. \\nonumber \\\\&\\quad \\left. + \\left[ \\left(- \\frac{9 \\sqrt{10}}{8 \\sqrt{\\pi}}\\right)\\, \\hat{y} \\otimes_{\\mathrm{s}} \\hat{y} \\otimes_{\\mathrm{s}} \\hat{z} \\otimes_{\\mathrm{s}} \\hat{z} \\right] \\right. \\nonumber \\\\&\\quad \\left. + \\left[ \\left(- \\frac{3 \\sqrt{10}}{16 \\sqrt{\\pi}}\\right)\\, \\hat{x} \\otimes_{\\mathrm{s}} \\hat{x} \\otimes_{\\mathrm{s}} \\hat{x} \\otimes_{\\mathrm{s}} \\hat{x} \\right] \\right. \\nonumber \\\\&\\quad \\left. + \\left[ \\left(- \\frac{3 \\sqrt{10} i}{8 \\sqrt{\\pi}}\\right)\\, \\hat{x} \\otimes_{\\mathrm{s}} \\hat{y} \\otimes_{\\mathrm{s}} \\hat{x} \\otimes_{\\mathrm{s}} \\hat{x} \\right] \\right. \\nonumber \\\\&\\quad \\left. + \\left[ \\left(- \\frac{3 \\sqrt{10} i}{8 \\sqrt{\\pi}}\\right)\\, \\hat{x} \\otimes_{\\mathrm{s}} \\hat{y} \\otimes_{\\mathrm{s}} \\hat{y} \\otimes_{\\mathrm{s}} \\hat{y} \\right] \\right. \\nonumber \\\\&\\quad \\left. + \\left[ \\left(\\frac{3 \\sqrt{10}}{16 \\sqrt{\\pi}}\\right)\\, \\hat{y} \\otimes_{\\mathrm{s}} \\hat{y} \\otimes_{\\mathrm{s}} \\hat{y} \\otimes_{\\mathrm{s}} \\hat{y} \\right] \\right\\}\\end{align*}$$"
       ],
       "metadata": {},
       "output_type": "display_data",
       "png": "[encoded data removed]",
       "text": [
        "TensorFunction\u2081\u2089\u2087(t)"
       ]
      },
      {
       "output_type": "stream",
       "stream": "stdout",
       "text": [
        "(ell,m) = (4,3):\n"
       ]
      },
      {
       "latex": [
        "$$\\begin{align*}&\\left\\{ \\left[ \\left(- \\frac{3 \\sqrt{35}}{8 \\sqrt{\\pi}}\\right)\\, \\hat{x} \\otimes_{\\mathrm{s}} \\hat{x} \\otimes_{\\mathrm{s}} \\hat{x} \\otimes_{\\mathrm{s}} \\hat{z} \\right] \\right. \\nonumber \\\\&\\quad \\left. + \\left[ \\left(- \\frac{9 \\sqrt{35} i}{8 \\sqrt{\\pi}}\\right)\\, \\hat{x} \\otimes_{\\mathrm{s}} \\hat{x} \\otimes_{\\mathrm{s}} \\hat{y} \\otimes_{\\mathrm{s}} \\hat{z} \\right] \\right. \\nonumber \\\\&\\quad \\left. + \\left[ \\left(\\frac{9 \\sqrt{35}}{8 \\sqrt{\\pi}}\\right)\\, \\hat{x} \\otimes_{\\mathrm{s}} \\hat{y} \\otimes_{\\mathrm{s}} \\hat{y} \\otimes_{\\mathrm{s}} \\hat{z} \\right] \\right. \\nonumber \\\\&\\quad \\left. + \\left[ \\left(\\frac{3 \\sqrt{35} i}{8 \\sqrt{\\pi}}\\right)\\, \\hat{y} \\otimes_{\\mathrm{s}} \\hat{y} \\otimes_{\\mathrm{s}} \\hat{y} \\otimes_{\\mathrm{s}} \\hat{z} \\right] \\right\\}\\end{align*}$$"
       ],
       "metadata": {},
       "output_type": "display_data",
       "png": "[encoded data removed]",
       "text": [
        "TensorFunction\u2082\u2080\u2084(t)"
       ]
      },
      {
       "output_type": "stream",
       "stream": "stdout",
       "text": [
        "(ell,m) = (4,4):\n"
       ]
      },
      {
       "latex": [
        "$$\\begin{align*}&\\left\\{ \\left[ \\left(\\frac{3 \\sqrt{70}}{32 \\sqrt{\\pi}}\\right)\\, \\hat{x} \\otimes_{\\mathrm{s}} \\hat{x} \\otimes_{\\mathrm{s}} \\hat{x} \\otimes_{\\mathrm{s}} \\hat{x} \\right] \\right. \\nonumber \\\\&\\quad \\left. + \\left[ \\left(\\frac{3 \\sqrt{70} i}{8 \\sqrt{\\pi}}\\right)\\, \\hat{x} \\otimes_{\\mathrm{s}} \\hat{x} \\otimes_{\\mathrm{s}} \\hat{x} \\otimes_{\\mathrm{s}} \\hat{y} \\right] \\right. \\nonumber \\\\&\\quad \\left. + \\left[ \\left(- \\frac{9 \\sqrt{70}}{16 \\sqrt{\\pi}}\\right)\\, \\hat{x} \\otimes_{\\mathrm{s}} \\hat{x} \\otimes_{\\mathrm{s}} \\hat{y} \\otimes_{\\mathrm{s}} \\hat{y} \\right] \\right. \\nonumber \\\\&\\quad \\left. + \\left[ \\left(- \\frac{3 \\sqrt{70} i}{8 \\sqrt{\\pi}}\\right)\\, \\hat{x} \\otimes_{\\mathrm{s}} \\hat{y} \\otimes_{\\mathrm{s}} \\hat{y} \\otimes_{\\mathrm{s}} \\hat{y} \\right] \\right. \\nonumber \\\\&\\quad \\left. + \\left[ \\left(\\frac{3 \\sqrt{70}}{32 \\sqrt{\\pi}}\\right)\\, \\hat{y} \\otimes_{\\mathrm{s}} \\hat{y} \\otimes_{\\mathrm{s}} \\hat{y} \\otimes_{\\mathrm{s}} \\hat{y} \\right] \\right\\}\\end{align*}$$"
       ],
       "metadata": {},
       "output_type": "display_data",
       "png": "[encoded data removed]",
       "text": [
        "TensorFunction\u2082\u2081\u2082(t)"
       ]
      }
     ],
     "prompt_number": 3
    },
    {
     "cell_type": "code",
     "collapsed": false,
     "input": [
      "NTensor(2)"
     ],
     "language": "python",
     "metadata": {},
     "outputs": [
      {
       "latex": [
        "$$\\left(\\hat{N} \\otimes_{\\mathrm{s}} \\hat{N}\\right)$$"
       ],
       "metadata": {},
       "output_type": "pyout",
       "png": "[encoded data removed]",
       "prompt_number": 4,
       "text": [
        "TensorProductFunction\u2089\u2082\u2083(t)"
       ]
      }
     ],
     "prompt_number": 4
    },
    {
     "cell_type": "heading",
     "level": 1,
     "metadata": {},
     "source": [
      "Spherical-harmonic functions"
     ]
    },
    {
     "cell_type": "markdown",
     "metadata": {},
     "source": [
      "So now, I can just contract the $Y^{\\ell,m}_L$ tensors with the $N_L$ tensors to get the usual spherical harmonics:"
     ]
    },
    {
     "cell_type": "code",
     "collapsed": false,
     "input": [
      "YlmTensor(0,0)"
     ],
     "language": "python",
     "metadata": {},
     "outputs": [
      {
       "latex": [
        "$$\\frac{1}{2 \\sqrt{\\pi}}$$"
       ],
       "metadata": {},
       "output_type": "pyout",
       "png": "[encoded data removed]",
       "prompt_number": 5,
       "text": [
        "   1   \n",
        "\u2500\u2500\u2500\u2500\u2500\u2500\u2500\n",
        "    ___\n",
        "2\u22c5\u2572\u2571 \u03c0 "
       ]
      }
     ],
     "prompt_number": 5
    },
    {
     "cell_type": "code",
     "collapsed": false,
     "input": [
      "for ell in range(1,3):\n",
      "    print('')\n",
      "    for m in range(-ell, ell+1):\n",
      "        print('(ell,m) = ({0},{1}):'.format(ell,m))\n",
      "        display(exptrigsimp( YlmTensor(ell,m) | NTensor(ell) ))"
     ],
     "language": "python",
     "metadata": {},
     "outputs": [
      {
       "output_type": "stream",
       "stream": "stdout",
       "text": [
        "\n",
        "(ell,m) = (1,-1):\n"
       ]
      },
      {
       "latex": [
        "$$\\frac{\\sqrt{6} e^{- i \\varphi}}{4 \\sqrt{\\pi}} \\sin{\\left (\\vartheta \\right )}$$"
       ],
       "metadata": {},
       "output_type": "display_data",
       "png": "[encoded data removed]",
       "text": [
        "  ___  -\u2148\u22c5varphi              \n",
        "\u2572\u2571 6 \u22c5\u212f         \u22c5sin(vartheta)\n",
        "\u2500\u2500\u2500\u2500\u2500\u2500\u2500\u2500\u2500\u2500\u2500\u2500\u2500\u2500\u2500\u2500\u2500\u2500\u2500\u2500\u2500\u2500\u2500\u2500\u2500\u2500\u2500\u2500\u2500\u2500\n",
        "               ___            \n",
        "           4\u22c5\u2572\u2571 \u03c0             "
       ]
      },
      {
       "output_type": "stream",
       "stream": "stdout",
       "text": [
        "(ell,m) = (1,0):\n"
       ]
      },
      {
       "latex": [
        "$$\\frac{\\sqrt{3}}{2 \\sqrt{\\pi}} \\cos{\\left (\\vartheta \\right )}$$"
       ],
       "metadata": {},
       "output_type": "display_data",
       "png": "[encoded data removed]",
       "text": [
        "  ___              \n",
        "\u2572\u2571 3 \u22c5cos(vartheta)\n",
        "\u2500\u2500\u2500\u2500\u2500\u2500\u2500\u2500\u2500\u2500\u2500\u2500\u2500\u2500\u2500\u2500\u2500\u2500\u2500\n",
        "          ___      \n",
        "      2\u22c5\u2572\u2571 \u03c0       "
       ]
      },
      {
       "output_type": "stream",
       "stream": "stdout",
       "text": [
        "(ell,m) = (1,1):\n"
       ]
      },
      {
       "latex": [
        "$$- \\frac{\\sqrt{6} e^{i \\varphi}}{4 \\sqrt{\\pi}} \\sin{\\left (\\vartheta \\right )}$$"
       ],
       "metadata": {},
       "output_type": "display_data",
       "png": "[encoded data removed]",
       "text": [
        "   ___  \u2148\u22c5varphi               \n",
        "-\u2572\u2571 6 \u22c5\u212f        \u22c5sin(vartheta) \n",
        "\u2500\u2500\u2500\u2500\u2500\u2500\u2500\u2500\u2500\u2500\u2500\u2500\u2500\u2500\u2500\u2500\u2500\u2500\u2500\u2500\u2500\u2500\u2500\u2500\u2500\u2500\u2500\u2500\u2500\u2500\u2500\n",
        "                ___            \n",
        "            4\u22c5\u2572\u2571 \u03c0             "
       ]
      },
      {
       "output_type": "stream",
       "stream": "stdout",
       "text": [
        "\n",
        "(ell,m) = (2,-2):\n"
       ]
      },
      {
       "latex": [
        "$$\\frac{\\sqrt{30}}{8 \\sqrt{\\pi}} e^{- 2 i \\varphi} \\sin^{2}{\\left (\\vartheta \\right )}$$"
       ],
       "metadata": {},
       "output_type": "display_data",
       "png": "[encoded data removed]",
       "text": [
        "  ____  -2\u22c5\u2148\u22c5varphi    2          \n",
        "\u2572\u2571 30 \u22c5\u212f           \u22c5sin (vartheta)\n",
        "\u2500\u2500\u2500\u2500\u2500\u2500\u2500\u2500\u2500\u2500\u2500\u2500\u2500\u2500\u2500\u2500\u2500\u2500\u2500\u2500\u2500\u2500\u2500\u2500\u2500\u2500\u2500\u2500\u2500\u2500\u2500\u2500\u2500\u2500\n",
        "                 ___              \n",
        "             8\u22c5\u2572\u2571 \u03c0               "
       ]
      },
      {
       "output_type": "stream",
       "stream": "stdout",
       "text": [
        "(ell,m) = (2,-1):\n"
       ]
      },
      {
       "latex": [
        "$$\\frac{\\sqrt{30} e^{- i \\varphi}}{4 \\sqrt{\\pi}} \\sin{\\left (\\vartheta \\right )} \\cos{\\left (\\vartheta \\right )}$$"
       ],
       "metadata": {},
       "output_type": "display_data",
       "png": "[encoded data removed]",
       "text": [
        "  ____  -\u2148\u22c5varphi                            \n",
        "\u2572\u2571 30 \u22c5\u212f         \u22c5sin(vartheta)\u22c5cos(vartheta)\n",
        "\u2500\u2500\u2500\u2500\u2500\u2500\u2500\u2500\u2500\u2500\u2500\u2500\u2500\u2500\u2500\u2500\u2500\u2500\u2500\u2500\u2500\u2500\u2500\u2500\u2500\u2500\u2500\u2500\u2500\u2500\u2500\u2500\u2500\u2500\u2500\u2500\u2500\u2500\u2500\u2500\u2500\u2500\u2500\u2500\u2500\n",
        "                       ___                   \n",
        "                   4\u22c5\u2572\u2571 \u03c0                    "
       ]
      },
      {
       "output_type": "stream",
       "stream": "stdout",
       "text": [
        "(ell,m) = (2,0):\n"
       ]
      },
      {
       "latex": [
        "$$\\frac{\\sqrt{5}}{4 \\sqrt{\\pi}} \\left(- 3 \\sin^{2}{\\left (\\vartheta \\right )} + 2\\right)$$"
       ],
       "metadata": {},
       "output_type": "display_data",
       "png": "[encoded data removed]",
       "text": [
        "  ___ \u239b       2              \u239e\n",
        "\u2572\u2571 5 \u22c5\u239d- 3\u22c5sin (vartheta) + 2\u23a0\n",
        "\u2500\u2500\u2500\u2500\u2500\u2500\u2500\u2500\u2500\u2500\u2500\u2500\u2500\u2500\u2500\u2500\u2500\u2500\u2500\u2500\u2500\u2500\u2500\u2500\u2500\u2500\u2500\u2500\u2500\u2500\n",
        "               ___            \n",
        "           4\u22c5\u2572\u2571 \u03c0             "
       ]
      },
      {
       "output_type": "stream",
       "stream": "stdout",
       "text": [
        "(ell,m) = (2,1):\n"
       ]
      },
      {
       "latex": [
        "$$- \\frac{\\sqrt{30} e^{i \\varphi}}{4 \\sqrt{\\pi}} \\sin{\\left (\\vartheta \\right )} \\cos{\\left (\\vartheta \\right )}$$"
       ],
       "metadata": {},
       "output_type": "display_data",
       "png": "[encoded data removed]",
       "text": [
        "   ____  \u2148\u22c5varphi                             \n",
        "-\u2572\u2571 30 \u22c5\u212f        \u22c5sin(vartheta)\u22c5cos(vartheta) \n",
        "\u2500\u2500\u2500\u2500\u2500\u2500\u2500\u2500\u2500\u2500\u2500\u2500\u2500\u2500\u2500\u2500\u2500\u2500\u2500\u2500\u2500\u2500\u2500\u2500\u2500\u2500\u2500\u2500\u2500\u2500\u2500\u2500\u2500\u2500\u2500\u2500\u2500\u2500\u2500\u2500\u2500\u2500\u2500\u2500\u2500\u2500\n",
        "                       ___                    \n",
        "                   4\u22c5\u2572\u2571 \u03c0                     "
       ]
      },
      {
       "output_type": "stream",
       "stream": "stdout",
       "text": [
        "(ell,m) = (2,2):\n"
       ]
      },
      {
       "latex": [
        "$$\\frac{\\sqrt{30} e^{2 i \\varphi}}{8 \\sqrt{\\pi}} \\sin^{2}{\\left (\\vartheta \\right )}$$"
       ],
       "metadata": {},
       "output_type": "display_data",
       "png": "[encoded data removed]",
       "text": [
        "  ____  2\u22c5\u2148\u22c5varphi    2          \n",
        "\u2572\u2571 30 \u22c5\u212f          \u22c5sin (vartheta)\n",
        "\u2500\u2500\u2500\u2500\u2500\u2500\u2500\u2500\u2500\u2500\u2500\u2500\u2500\u2500\u2500\u2500\u2500\u2500\u2500\u2500\u2500\u2500\u2500\u2500\u2500\u2500\u2500\u2500\u2500\u2500\u2500\u2500\u2500\n",
        "                 ___             \n",
        "             8\u22c5\u2572\u2571 \u03c0              "
       ]
      }
     ],
     "prompt_number": 6
    },
    {
     "cell_type": "markdown",
     "metadata": {},
     "source": [
      "These values match, e.g., the ones on Wikipedia's [spherical-harmonics page](https://en.wikipedia.org/wiki/Spherical_harmonics#List_of_spherical_harmonics)."
     ]
    },
    {
     "cell_type": "heading",
     "level": 2,
     "metadata": {},
     "source": [
      "Traces of the Spherical-harmonic tensors"
     ]
    },
    {
     "cell_type": "markdown",
     "metadata": {},
     "source": [
      "We can also see that the traces are zero.  This is nice because it means we don't have to explicitly remove the traces from either these or the tensors with which they will be contracted."
     ]
    },
    {
     "cell_type": "code",
     "collapsed": false,
     "input": [
      "AllTracesZero = True\n",
      "for ell in range(2,9):\n",
      "    print('')\n",
      "    for m in range(-ell, ell+1):\n",
      "        print('(ell,m) = ({0},{1}):'.format(ell,m))\n",
      "        tmp = YlmTensor(ell,m).trace()\n",
      "        if(tmp!=0): AllTracesZero=False\n",
      "        display( tmp )\n",
      "if(AllTracesZero):\n",
      "    print(\"Indeed, all traces were explicitly zero.\")\n",
      "else:\n",
      "    print(\"Not all traces were explicitly zero!  Maybe they just failed to simplify...\", file=sys.stderr)"
     ],
     "language": "python",
     "metadata": {},
     "outputs": [
      {
       "output_type": "stream",
       "stream": "stdout",
       "text": [
        "\n",
        "(ell,m) = (2,-2):\n"
       ]
      },
      {
       "latex": [
        "$$0$$"
       ],
       "metadata": {},
       "output_type": "display_data",
       "png": "[encoded data removed]",
       "text": [
        "0"
       ]
      },
      {
       "output_type": "stream",
       "stream": "stdout",
       "text": [
        "(ell,m) = (2,-1):\n"
       ]
      },
      {
       "latex": [
        "$$0$$"
       ],
       "metadata": {},
       "output_type": "display_data",
       "png": "[encoded data removed]",
       "text": [
        "0"
       ]
      },
      {
       "output_type": "stream",
       "stream": "stdout",
       "text": [
        "(ell,m) = (2,0):\n"
       ]
      },
      {
       "latex": [
        "$$0$$"
       ],
       "metadata": {},
       "output_type": "display_data",
       "png": "[encoded data removed]",
       "text": [
        "0"
       ]
      },
      {
       "output_type": "stream",
       "stream": "stdout",
       "text": [
        "(ell,m) = (2,1):\n"
       ]
      },
      {
       "latex": [
        "$$0$$"
       ],
       "metadata": {},
       "output_type": "display_data",
       "png": "[encoded data removed]",
       "text": [
        "0"
       ]
      },
      {
       "output_type": "stream",
       "stream": "stdout",
       "text": [
        "(ell,m) = (2,2):\n"
       ]
      },
      {
       "latex": [
        "$$0$$"
       ],
       "metadata": {},
       "output_type": "display_data",
       "png": "[encoded data removed]",
       "text": [
        "0"
       ]
      },
      {
       "output_type": "stream",
       "stream": "stdout",
       "text": [
        "\n",
        "(ell,m) = (3,-3):\n"
       ]
      },
      {
       "latex": [
        "$$0$$"
       ],
       "metadata": {},
       "output_type": "display_data",
       "png": "[encoded data removed]",
       "text": [
        "0"
       ]
      },
      {
       "output_type": "stream",
       "stream": "stdout",
       "text": [
        "(ell,m) = (3,-2):\n"
       ]
      },
      {
       "latex": [
        "$$0$$"
       ],
       "metadata": {},
       "output_type": "display_data",
       "png": "[encoded data removed]",
       "text": [
        "0"
       ]
      },
      {
       "output_type": "stream",
       "stream": "stdout",
       "text": [
        "(ell,m) = (3,-1):\n"
       ]
      },
      {
       "latex": [
        "$$0$$"
       ],
       "metadata": {},
       "output_type": "display_data",
       "png": "[encoded data removed]",
       "text": [
        "0"
       ]
      },
      {
       "output_type": "stream",
       "stream": "stdout",
       "text": [
        "(ell,m) = (3,0):\n"
       ]
      },
      {
       "latex": [
        "$$0$$"
       ],
       "metadata": {},
       "output_type": "display_data",
       "png": "[encoded data removed]",
       "text": [
        "0"
       ]
      },
      {
       "output_type": "stream",
       "stream": "stdout",
       "text": [
        "(ell,m) = (3,1):\n"
       ]
      },
      {
       "latex": [
        "$$0$$"
       ],
       "metadata": {},
       "output_type": "display_data",
       "png": "[encoded data removed]",
       "text": [
        "0"
       ]
      },
      {
       "output_type": "stream",
       "stream": "stdout",
       "text": [
        "(ell,m) = (3,2):\n"
       ]
      },
      {
       "latex": [
        "$$0$$"
       ],
       "metadata": {},
       "output_type": "display_data",
       "png": "[encoded data removed]",
       "text": [
        "0"
       ]
      },
      {
       "output_type": "stream",
       "stream": "stdout",
       "text": [
        "(ell,m) = (3,3):\n"
       ]
      },
      {
       "latex": [
        "$$0$$"
       ],
       "metadata": {},
       "output_type": "display_data",
       "png": "[encoded data removed]",
       "text": [
        "0"
       ]
      },
      {
       "output_type": "stream",
       "stream": "stdout",
       "text": [
        "\n",
        "(ell,m) = (4,-4):\n"
       ]
      },
      {
       "latex": [
        "$$0$$"
       ],
       "metadata": {},
       "output_type": "display_data",
       "png": "[encoded data removed]",
       "text": [
        "0"
       ]
      },
      {
       "output_type": "stream",
       "stream": "stdout",
       "text": [
        "(ell,m) = (4,-3):\n"
       ]
      },
      {
       "latex": [
        "$$0$$"
       ],
       "metadata": {},
       "output_type": "display_data",
       "png": "[encoded data removed]",
       "text": [
        "0"
       ]
      },
      {
       "output_type": "stream",
       "stream": "stdout",
       "text": [
        "(ell,m) = (4,-2):\n"
       ]
      },
      {
       "latex": [
        "$$0$$"
       ],
       "metadata": {},
       "output_type": "display_data",
       "png": "[encoded data removed]",
       "text": [
        "0"
       ]
      },
      {
       "output_type": "stream",
       "stream": "stdout",
       "text": [
        "(ell,m) = (4,-1):\n"
       ]
      },
      {
       "latex": [
        "$$0$$"
       ],
       "metadata": {},
       "output_type": "display_data",
       "png": "[encoded data removed]",
       "text": [
        "0"
       ]
      },
      {
       "output_type": "stream",
       "stream": "stdout",
       "text": [
        "(ell,m) = (4,0):\n"
       ]
      },
      {
       "latex": [
        "$$0$$"
       ],
       "metadata": {},
       "output_type": "display_data",
       "png": "[encoded data removed]",
       "text": [
        "0"
       ]
      },
      {
       "output_type": "stream",
       "stream": "stdout",
       "text": [
        "(ell,m) = (4,1):\n"
       ]
      },
      {
       "latex": [
        "$$0$$"
       ],
       "metadata": {},
       "output_type": "display_data",
       "png": "[encoded data removed]",
       "text": [
        "0"
       ]
      },
      {
       "output_type": "stream",
       "stream": "stdout",
       "text": [
        "(ell,m) = (4,2):\n"
       ]
      },
      {
       "latex": [
        "$$0$$"
       ],
       "metadata": {},
       "output_type": "display_data",
       "png": "[encoded data removed]",
       "text": [
        "0"
       ]
      },
      {
       "output_type": "stream",
       "stream": "stdout",
       "text": [
        "(ell,m) = (4,3):\n"
       ]
      },
      {
       "latex": [
        "$$0$$"
       ],
       "metadata": {},
       "output_type": "display_data",
       "png": "[encoded data removed]",
       "text": [
        "0"
       ]
      },
      {
       "output_type": "stream",
       "stream": "stdout",
       "text": [
        "(ell,m) = (4,4):\n"
       ]
      },
      {
       "latex": [
        "$$0$$"
       ],
       "metadata": {},
       "output_type": "display_data",
       "png": "[encoded data removed]",
       "text": [
        "0"
       ]
      },
      {
       "output_type": "stream",
       "stream": "stdout",
       "text": [
        "\n",
        "(ell,m) = (5,-5):\n"
       ]
      },
      {
       "latex": [
        "$$0$$"
       ],
       "metadata": {},
       "output_type": "display_data",
       "png": "[encoded data removed]",
       "text": [
        "0"
       ]
      },
      {
       "output_type": "stream",
       "stream": "stdout",
       "text": [
        "(ell,m) = (5,-4):\n"
       ]
      },
      {
       "latex": [
        "$$0$$"
       ],
       "metadata": {},
       "output_type": "display_data",
       "png": "[encoded data removed]",
       "text": [
        "0"
       ]
      },
      {
       "output_type": "stream",
       "stream": "stdout",
       "text": [
        "(ell,m) = (5,-3):\n"
       ]
      },
      {
       "latex": [
        "$$0$$"
       ],
       "metadata": {},
       "output_type": "display_data",
       "png": "[encoded data removed]",
       "text": [
        "0"
       ]
      },
      {
       "output_type": "stream",
       "stream": "stdout",
       "text": [
        "(ell,m) = (5,-2):\n"
       ]
      },
      {
       "latex": [
        "$$0$$"
       ],
       "metadata": {},
       "output_type": "display_data",
       "png": "[encoded data removed]",
       "text": [
        "0"
       ]
      },
      {
       "output_type": "stream",
       "stream": "stdout",
       "text": [
        "(ell,m) = (5,-1):\n"
       ]
      },
      {
       "latex": [
        "$$0$$"
       ],
       "metadata": {},
       "output_type": "display_data",
       "png": "[encoded data removed]",
       "text": [
        "0"
       ]
      },
      {
       "output_type": "stream",
       "stream": "stdout",
       "text": [
        "(ell,m) = (5,0):\n"
       ]
      },
      {
       "latex": [
        "$$0$$"
       ],
       "metadata": {},
       "output_type": "display_data",
       "png": "[encoded data removed]",
       "text": [
        "0"
       ]
      },
      {
       "output_type": "stream",
       "stream": "stdout",
       "text": [
        "(ell,m) = (5,1):\n"
       ]
      },
      {
       "latex": [
        "$$0$$"
       ],
       "metadata": {},
       "output_type": "display_data",
       "png": "[encoded data removed]",
       "text": [
        "0"
       ]
      },
      {
       "output_type": "stream",
       "stream": "stdout",
       "text": [
        "(ell,m) = (5,2):\n"
       ]
      },
      {
       "latex": [
        "$$0$$"
       ],
       "metadata": {},
       "output_type": "display_data",
       "png": "[encoded data removed]",
       "text": [
        "0"
       ]
      },
      {
       "output_type": "stream",
       "stream": "stdout",
       "text": [
        "(ell,m) = (5,3):\n"
       ]
      },
      {
       "latex": [
        "$$0$$"
       ],
       "metadata": {},
       "output_type": "display_data",
       "png": "[encoded data removed]",
       "text": [
        "0"
       ]
      },
      {
       "output_type": "stream",
       "stream": "stdout",
       "text": [
        "(ell,m) = (5,4):\n"
       ]
      },
      {
       "latex": [
        "$$0$$"
       ],
       "metadata": {},
       "output_type": "display_data",
       "png": "[encoded data removed]",
       "text": [
        "0"
       ]
      },
      {
       "output_type": "stream",
       "stream": "stdout",
       "text": [
        "(ell,m) = (5,5):\n"
       ]
      },
      {
       "latex": [
        "$$0$$"
       ],
       "metadata": {},
       "output_type": "display_data",
       "png": "[encoded data removed]",
       "text": [
        "0"
       ]
      },
      {
       "output_type": "stream",
       "stream": "stdout",
       "text": [
        "\n",
        "(ell,m) = (6,-6):\n"
       ]
      },
      {
       "latex": [
        "$$0$$"
       ],
       "metadata": {},
       "output_type": "display_data",
       "png": "[encoded data removed]",
       "text": [
        "0"
       ]
      },
      {
       "output_type": "stream",
       "stream": "stdout",
       "text": [
        "(ell,m) = (6,-5):\n"
       ]
      },
      {
       "latex": [
        "$$0$$"
       ],
       "metadata": {},
       "output_type": "display_data",
       "png": "[encoded data removed]",
       "text": [
        "0"
       ]
      },
      {
       "output_type": "stream",
       "stream": "stdout",
       "text": [
        "(ell,m) = (6,-4):\n"
       ]
      },
      {
       "latex": [
        "$$0$$"
       ],
       "metadata": {},
       "output_type": "display_data",
       "png": "[encoded data removed]",
       "text": [
        "0"
       ]
      },
      {
       "output_type": "stream",
       "stream": "stdout",
       "text": [
        "(ell,m) = (6,-3):\n"
       ]
      },
      {
       "latex": [
        "$$0$$"
       ],
       "metadata": {},
       "output_type": "display_data",
       "png": "[encoded data removed]",
       "text": [
        "0"
       ]
      },
      {
       "output_type": "stream",
       "stream": "stdout",
       "text": [
        "(ell,m) = (6,-2):\n"
       ]
      },
      {
       "latex": [
        "$$0$$"
       ],
       "metadata": {},
       "output_type": "display_data",
       "png": "[encoded data removed]",
       "text": [
        "0"
       ]
      },
      {
       "output_type": "stream",
       "stream": "stdout",
       "text": [
        "(ell,m) = (6,-1):\n"
       ]
      },
      {
       "latex": [
        "$$0$$"
       ],
       "metadata": {},
       "output_type": "display_data",
       "png": "[encoded data removed]",
       "text": [
        "0"
       ]
      },
      {
       "output_type": "stream",
       "stream": "stdout",
       "text": [
        "(ell,m) = (6,0):\n"
       ]
      },
      {
       "latex": [
        "$$0$$"
       ],
       "metadata": {},
       "output_type": "display_data",
       "png": "[encoded data removed]",
       "text": [
        "0"
       ]
      },
      {
       "output_type": "stream",
       "stream": "stdout",
       "text": [
        "(ell,m) = (6,1):\n"
       ]
      },
      {
       "latex": [
        "$$0$$"
       ],
       "metadata": {},
       "output_type": "display_data",
       "png": "[encoded data removed]",
       "text": [
        "0"
       ]
      },
      {
       "output_type": "stream",
       "stream": "stdout",
       "text": [
        "(ell,m) = (6,2):\n"
       ]
      },
      {
       "latex": [
        "$$0$$"
       ],
       "metadata": {},
       "output_type": "display_data",
       "png": "[encoded data removed]",
       "text": [
        "0"
       ]
      },
      {
       "output_type": "stream",
       "stream": "stdout",
       "text": [
        "(ell,m) = (6,3):\n"
       ]
      },
      {
       "latex": [
        "$$0$$"
       ],
       "metadata": {},
       "output_type": "display_data",
       "png": "[encoded data removed]",
       "text": [
        "0"
       ]
      },
      {
       "output_type": "stream",
       "stream": "stdout",
       "text": [
        "(ell,m) = (6,4):\n"
       ]
      },
      {
       "latex": [
        "$$0$$"
       ],
       "metadata": {},
       "output_type": "display_data",
       "png": "[encoded data removed]",
       "text": [
        "0"
       ]
      },
      {
       "output_type": "stream",
       "stream": "stdout",
       "text": [
        "(ell,m) = (6,5):\n"
       ]
      },
      {
       "latex": [
        "$$0$$"
       ],
       "metadata": {},
       "output_type": "display_data",
       "png": "[encoded data removed]",
       "text": [
        "0"
       ]
      },
      {
       "output_type": "stream",
       "stream": "stdout",
       "text": [
        "(ell,m) = (6,6):\n"
       ]
      },
      {
       "latex": [
        "$$0$$"
       ],
       "metadata": {},
       "output_type": "display_data",
       "png": "[encoded data removed]",
       "text": [
        "0"
       ]
      },
      {
       "output_type": "stream",
       "stream": "stdout",
       "text": [
        "\n",
        "(ell,m) = (7,-7):\n"
       ]
      },
      {
       "latex": [
        "$$0$$"
       ],
       "metadata": {},
       "output_type": "display_data",
       "png": "[encoded data removed]",
       "text": [
        "0"
       ]
      },
      {
       "output_type": "stream",
       "stream": "stdout",
       "text": [
        "(ell,m) = (7,-6):\n"
       ]
      },
      {
       "latex": [
        "$$0$$"
       ],
       "metadata": {},
       "output_type": "display_data",
       "png": "[encoded data removed]",
       "text": [
        "0"
       ]
      },
      {
       "output_type": "stream",
       "stream": "stdout",
       "text": [
        "(ell,m) = (7,-5):\n"
       ]
      },
      {
       "latex": [
        "$$0$$"
       ],
       "metadata": {},
       "output_type": "display_data",
       "png": "[encoded data removed]",
       "text": [
        "0"
       ]
      },
      {
       "output_type": "stream",
       "stream": "stdout",
       "text": [
        "(ell,m) = (7,-4):\n"
       ]
      },
      {
       "latex": [
        "$$0$$"
       ],
       "metadata": {},
       "output_type": "display_data",
       "png": "[encoded data removed]",
       "text": [
        "0"
       ]
      },
      {
       "output_type": "stream",
       "stream": "stdout",
       "text": [
        "(ell,m) = (7,-3):\n"
       ]
      },
      {
       "latex": [
        "$$0$$"
       ],
       "metadata": {},
       "output_type": "display_data",
       "png": "[encoded data removed]",
       "text": [
        "0"
       ]
      },
      {
       "output_type": "stream",
       "stream": "stdout",
       "text": [
        "(ell,m) = (7,-2):\n"
       ]
      },
      {
       "latex": [
        "$$0$$"
       ],
       "metadata": {},
       "output_type": "display_data",
       "png": "[encoded data removed]",
       "text": [
        "0"
       ]
      },
      {
       "output_type": "stream",
       "stream": "stdout",
       "text": [
        "(ell,m) = (7,-1):\n"
       ]
      },
      {
       "latex": [
        "$$0$$"
       ],
       "metadata": {},
       "output_type": "display_data",
       "png": "[encoded data removed]",
       "text": [
        "0"
       ]
      },
      {
       "output_type": "stream",
       "stream": "stdout",
       "text": [
        "(ell,m) = (7,0):\n"
       ]
      },
      {
       "latex": [
        "$$0$$"
       ],
       "metadata": {},
       "output_type": "display_data",
       "png": "[encoded data removed]",
       "text": [
        "0"
       ]
      },
      {
       "output_type": "stream",
       "stream": "stdout",
       "text": [
        "(ell,m) = (7,1):\n"
       ]
      },
      {
       "latex": [
        "$$0$$"
       ],
       "metadata": {},
       "output_type": "display_data",
       "png": "[encoded data removed]",
       "text": [
        "0"
       ]
      },
      {
       "output_type": "stream",
       "stream": "stdout",
       "text": [
        "(ell,m) = (7,2):\n"
       ]
      },
      {
       "latex": [
        "$$0$$"
       ],
       "metadata": {},
       "output_type": "display_data",
       "png": "[encoded data removed]",
       "text": [
        "0"
       ]
      },
      {
       "output_type": "stream",
       "stream": "stdout",
       "text": [
        "(ell,m) = (7,3):\n"
       ]
      },
      {
       "latex": [
        "$$0$$"
       ],
       "metadata": {},
       "output_type": "display_data",
       "png": "[encoded data removed]",
       "text": [
        "0"
       ]
      },
      {
       "output_type": "stream",
       "stream": "stdout",
       "text": [
        "(ell,m) = (7,4):\n"
       ]
      },
      {
       "latex": [
        "$$0$$"
       ],
       "metadata": {},
       "output_type": "display_data",
       "png": "[encoded data removed]",
       "text": [
        "0"
       ]
      },
      {
       "output_type": "stream",
       "stream": "stdout",
       "text": [
        "(ell,m) = (7,5):\n"
       ]
      },
      {
       "latex": [
        "$$0$$"
       ],
       "metadata": {},
       "output_type": "display_data",
       "png": "[encoded data removed]",
       "text": [
        "0"
       ]
      },
      {
       "output_type": "stream",
       "stream": "stdout",
       "text": [
        "(ell,m) = (7,6):\n"
       ]
      },
      {
       "latex": [
        "$$0$$"
       ],
       "metadata": {},
       "output_type": "display_data",
       "png": "[encoded data removed]",
       "text": [
        "0"
       ]
      },
      {
       "output_type": "stream",
       "stream": "stdout",
       "text": [
        "(ell,m) = (7,7):\n"
       ]
      },
      {
       "latex": [
        "$$0$$"
       ],
       "metadata": {},
       "output_type": "display_data",
       "png": "[encoded data removed]",
       "text": [
        "0"
       ]
      },
      {
       "output_type": "stream",
       "stream": "stdout",
       "text": [
        "\n",
        "(ell,m) = (8,-8):\n"
       ]
      },
      {
       "latex": [
        "$$0$$"
       ],
       "metadata": {},
       "output_type": "display_data",
       "png": "[encoded data removed]",
       "text": [
        "0"
       ]
      },
      {
       "output_type": "stream",
       "stream": "stdout",
       "text": [
        "(ell,m) = (8,-7):\n"
       ]
      },
      {
       "latex": [
        "$$0$$"
       ],
       "metadata": {},
       "output_type": "display_data",
       "png": "[encoded data removed]",
       "text": [
        "0"
       ]
      },
      {
       "output_type": "stream",
       "stream": "stdout",
       "text": [
        "(ell,m) = (8,-6):\n"
       ]
      },
      {
       "latex": [
        "$$0$$"
       ],
       "metadata": {},
       "output_type": "display_data",
       "png": "[encoded data removed]",
       "text": [
        "0"
       ]
      },
      {
       "output_type": "stream",
       "stream": "stdout",
       "text": [
        "(ell,m) = (8,-5):\n"
       ]
      },
      {
       "latex": [
        "$$0$$"
       ],
       "metadata": {},
       "output_type": "display_data",
       "png": "[encoded data removed]",
       "text": [
        "0"
       ]
      },
      {
       "output_type": "stream",
       "stream": "stdout",
       "text": [
        "(ell,m) = (8,-4):\n"
       ]
      },
      {
       "latex": [
        "$$0$$"
       ],
       "metadata": {},
       "output_type": "display_data",
       "png": "[encoded data removed]",
       "text": [
        "0"
       ]
      },
      {
       "output_type": "stream",
       "stream": "stdout",
       "text": [
        "(ell,m) = (8,-3):\n"
       ]
      },
      {
       "latex": [
        "$$0$$"
       ],
       "metadata": {},
       "output_type": "display_data",
       "png": "[encoded data removed]",
       "text": [
        "0"
       ]
      },
      {
       "output_type": "stream",
       "stream": "stdout",
       "text": [
        "(ell,m) = (8,-2):\n"
       ]
      },
      {
       "latex": [
        "$$0$$"
       ],
       "metadata": {},
       "output_type": "display_data",
       "png": "[encoded data removed]",
       "text": [
        "0"
       ]
      },
      {
       "output_type": "stream",
       "stream": "stdout",
       "text": [
        "(ell,m) = (8,-1):\n"
       ]
      },
      {
       "latex": [
        "$$0$$"
       ],
       "metadata": {},
       "output_type": "display_data",
       "png": "[encoded data removed]",
       "text": [
        "0"
       ]
      },
      {
       "output_type": "stream",
       "stream": "stdout",
       "text": [
        "(ell,m) = (8,0):\n"
       ]
      },
      {
       "latex": [
        "$$0$$"
       ],
       "metadata": {},
       "output_type": "display_data",
       "png": "[encoded data removed]",
       "text": [
        "0"
       ]
      },
      {
       "output_type": "stream",
       "stream": "stdout",
       "text": [
        "(ell,m) = (8,1):\n"
       ]
      },
      {
       "latex": [
        "$$0$$"
       ],
       "metadata": {},
       "output_type": "display_data",
       "png": "[encoded data removed]",
       "text": [
        "0"
       ]
      },
      {
       "output_type": "stream",
       "stream": "stdout",
       "text": [
        "(ell,m) = (8,2):\n"
       ]
      },
      {
       "latex": [
        "$$0$$"
       ],
       "metadata": {},
       "output_type": "display_data",
       "png": "[encoded data removed]",
       "text": [
        "0"
       ]
      },
      {
       "output_type": "stream",
       "stream": "stdout",
       "text": [
        "(ell,m) = (8,3):\n"
       ]
      },
      {
       "latex": [
        "$$0$$"
       ],
       "metadata": {},
       "output_type": "display_data",
       "png": "[encoded data removed]",
       "text": [
        "0"
       ]
      },
      {
       "output_type": "stream",
       "stream": "stdout",
       "text": [
        "(ell,m) = (8,4):\n"
       ]
      },
      {
       "latex": [
        "$$0$$"
       ],
       "metadata": {},
       "output_type": "display_data",
       "png": "[encoded data removed]",
       "text": [
        "0"
       ]
      },
      {
       "output_type": "stream",
       "stream": "stdout",
       "text": [
        "(ell,m) = (8,5):\n"
       ]
      },
      {
       "latex": [
        "$$0$$"
       ],
       "metadata": {},
       "output_type": "display_data",
       "png": "[encoded data removed]",
       "text": [
        "0"
       ]
      },
      {
       "output_type": "stream",
       "stream": "stdout",
       "text": [
        "(ell,m) = (8,6):\n"
       ]
      },
      {
       "latex": [
        "$$0$$"
       ],
       "metadata": {},
       "output_type": "display_data",
       "png": "[encoded data removed]",
       "text": [
        "0"
       ]
      },
      {
       "output_type": "stream",
       "stream": "stdout",
       "text": [
        "(ell,m) = (8,7):\n"
       ]
      },
      {
       "latex": [
        "$$0$$"
       ],
       "metadata": {},
       "output_type": "display_data",
       "png": "[encoded data removed]",
       "text": [
        "0"
       ]
      },
      {
       "output_type": "stream",
       "stream": "stdout",
       "text": [
        "(ell,m) = (8,8):\n"
       ]
      },
      {
       "latex": [
        "$$0$$"
       ],
       "metadata": {},
       "output_type": "display_data",
       "png": "[encoded data removed]",
       "text": [
        "0"
       ]
      }
     ],
     "prompt_number": 7
    },
    {
     "cell_type": "heading",
     "level": 1,
     "metadata": {},
     "source": [
      "Testing contractions with the multipole moments"
     ]
    },
    {
     "cell_type": "markdown",
     "metadata": {},
     "source": [
      "We can just add in a couple low-order terms for $I_{jk}$ and $J_{jk}$, and see how they come out.  I expect to find some new terms proportional to $\\Sigma_n + i\\, \\Sigma_\\lambda$ in the $(2,\\pm2)$ modes, and recover the usual leading-order terms in the $(2,\\pm1)$ modes.  Note, however, that I am not conjugating the `YlmTensor` objects, as I should, so the normalization and signs will be screwy."
     ]
    },
    {
     "cell_type": "code",
     "collapsed": false,
     "input": [
      "I_jk = SymmetricTensorProduct(nHat, nHat, coefficient = (m*nu*r**2))\n",
      "\n",
      "J_jk = SymmetricTensorProduct(SigmaVec, nHat, coefficient = (r*nu/c)*(-frac(3,2))) \\\n",
      "      + SymmetricTensorProduct(ellHat, nHat, coefficient = -nu*m*delta*r**2*v)"
     ],
     "language": "python",
     "metadata": {},
     "outputs": [],
     "prompt_number": 49
    },
    {
     "cell_type": "code",
     "collapsed": false,
     "input": [
      "U_jk = diff(I_jk,t,2).subs(t,0)\n",
      "V_jk = diff(J_jk,t,2).subs(t,0)\n",
      "display(U_jk)\n",
      "display(V_jk)"
     ],
     "language": "python",
     "metadata": {},
     "outputs": [
      {
       "latex": [
        "$$\\begin{align*}&\\left( \\left\\{ \\left[ - \\frac{4 m \\nu}{v^{5}{\\left (0 \\right )}} \\left. \\frac{d^{2}}{d t^{2}}  v{\\left (t \\right )} \\right|_{\\substack{ t=0 }} + \\frac{20 m \\nu}{v^{6}{\\left (0 \\right )}} \\left(\\left. \\frac{d}{d t} v{\\left (t \\right )} \\right|_{\\substack{ t=0 }}\\right)^{2} \\right]\\, \\left.\\hat{n}\\right|_{t=0} \\otimes_{\\mathrm{s}} \\left.\\hat{n}\\right|_{t=0} \\right\\} \\right. \\nonumber \\\\&\\quad \\left. + \\left\\{ \\left[ - \\frac{16 m \\nu}{v^{5}{\\left (0 \\right )}} \\left. \\frac{d}{d t} v{\\left (t \\right )} \\right|_{\\substack{ t=0 }} \\right]\\, \\left.\\partial_t \\hat{n}\\right|_{t=0} \\otimes_{\\mathrm{s}} \\left.\\hat{n}\\right|_{t=0} \\right\\} \\right. \\nonumber \\\\&\\quad \\left. + \\left\\{ \\left[ \\frac{2 m \\nu}{v^{4}{\\left (0 \\right )}} \\right]\\, \\left.\\partial_t^{2} \\hat{n}\\right|_{t=0} \\otimes_{\\mathrm{s}} \\left.\\hat{n}\\right|_{t=0} \\right\\} \\right. \\nonumber \\\\&\\quad \\left. + \\left\\{ \\left[ \\frac{2 m \\nu}{v^{4}{\\left (0 \\right )}} \\right]\\, \\left.\\partial_t \\hat{n}\\right|_{t=0} \\otimes_{\\mathrm{s}} \\left.\\partial_t \\hat{n}\\right|_{t=0} \\right\\} \\right)\\end{align*}$$"
       ],
       "metadata": {},
       "output_type": "display_data",
       "png": "[encoded data removed]",
       "text": [
        "TensorFunction\u2082\u2086\u2080(t)"
       ]
      },
      {
       "latex": [
        "$$\\begin{align*}&\\left( \\left\\{ \\left[ \\frac{3 \\nu}{c v^{3}{\\left (0 \\right )}} \\left. \\frac{d^{2}}{d t^{2}}  v{\\left (t \\right )} \\right|_{\\substack{ t=0 }} - \\frac{9 \\nu}{c v^{4}{\\left (0 \\right )}} \\left(\\left. \\frac{d}{d t} v{\\left (t \\right )} \\right|_{\\substack{ t=0 }}\\right)^{2} \\right]\\, \\left.\\vec{\\Sigma}\\right|_{t=0} \\otimes_{\\mathrm{s}} \\left.\\hat{n}\\right|_{t=0} \\right\\} \\right. \\nonumber \\\\&\\quad \\left. + \\left\\{ \\left[ \\frac{6 \\nu}{c v^{3}{\\left (0 \\right )}} \\left. \\frac{d}{d t} v{\\left (t \\right )} \\right|_{\\substack{ t=0 }} \\right]\\, \\left.\\partial_t \\vec{\\Sigma}\\right|_{t=0} \\otimes_{\\mathrm{s}} \\left.\\hat{n}\\right|_{t=0} \\right\\} \\right. \\nonumber \\\\&\\quad \\left. + \\left\\{ \\left[ \\frac{6 \\nu}{c v^{3}{\\left (0 \\right )}} \\left. \\frac{d}{d t} v{\\left (t \\right )} \\right|_{\\substack{ t=0 }} \\right]\\, \\left.\\vec{\\Sigma}\\right|_{t=0} \\otimes_{\\mathrm{s}} \\left.\\partial_t \\hat{n}\\right|_{t=0} \\right\\} \\right. \\nonumber \\\\&\\quad \\left. + \\left\\{ \\left[ - \\frac{3 \\nu}{2 c v^{2}{\\left (0 \\right )}} \\right]\\, \\left.\\partial_t^{2} \\vec{\\Sigma}\\right|_{t=0} \\otimes_{\\mathrm{s}} \\left.\\hat{n}\\right|_{t=0} \\right\\} \\right. \\nonumber \\\\&\\quad \\left. + \\left\\{ \\left[ - \\frac{3 \\nu}{c v^{2}{\\left (0 \\right )}} \\right]\\, \\left.\\partial_t \\vec{\\Sigma}\\right|_{t=0} \\otimes_{\\mathrm{s}} \\left.\\partial_t \\hat{n}\\right|_{t=0} \\right\\} \\right. \\nonumber \\\\&\\quad \\left. + \\left\\{ \\left[ - \\frac{3 \\nu}{2 c v^{2}{\\left (0 \\right )}} \\right]\\, \\left.\\vec{\\Sigma}\\right|_{t=0} \\otimes_{\\mathrm{s}} \\left.\\partial_t^{2} \\hat{n}\\right|_{t=0} \\right\\} \\right. \\nonumber \\\\&\\quad \\left. + \\left\\{ \\left[ \\frac{3 \\delta m \\nu}{v^{4}{\\left (0 \\right )}} \\left. \\frac{d^{2}}{d t^{2}}  v{\\left (t \\right )} \\right|_{\\substack{ t=0 }} - \\frac{12 \\delta m \\nu}{v^{5}{\\left (0 \\right )}} \\left(\\left. \\frac{d}{d t} v{\\left (t \\right )} \\right|_{\\substack{ t=0 }}\\right)^{2} \\right]\\, \\left.\\hat{\\ell}\\right|_{t=0} \\otimes_{\\mathrm{s}} \\left.\\hat{n}\\right|_{t=0} \\right\\} \\right. \\nonumber \\\\&\\quad \\left. + \\left\\{ \\left[ \\frac{6 \\delta m \\nu}{v^{4}{\\left (0 \\right )}} \\left. \\frac{d}{d t} v{\\left (t \\right )} \\right|_{\\substack{ t=0 }} \\right]\\, \\left.\\hat{\\ell}\\right|_{t=0} \\otimes_{\\mathrm{s}} \\left.\\partial_t \\hat{n}\\right|_{t=0} \\right\\} \\right. \\nonumber \\\\&\\quad \\left. + \\left\\{ \\left[ - \\frac{\\delta m \\nu}{v^{3}{\\left (0 \\right )}} \\right]\\, \\left.\\hat{\\ell}\\right|_{t=0} \\otimes_{\\mathrm{s}} \\left.\\partial_t^{2} \\hat{n}\\right|_{t=0} \\right\\} \\right)\\end{align*}$$"
       ],
       "metadata": {},
       "output_type": "display_data",
       "png": "[encoded data removed]",
       "text": [
        "TensorFunction\u2083\u2080\u2081(t)"
       ]
      }
     ],
     "prompt_number": 66
    },
    {
     "cell_type": "code",
     "collapsed": false,
     "input": [
      "Ulm(U_jk, 2)"
     ],
     "language": "python",
     "metadata": {},
     "outputs": [
      {
       "latex": [
        "$$2 \\sqrt{3} \\left(\\frac{4 \\sqrt{30} \\sqrt{\\pi} m \\nu}{15 v^{6}{\\left (0 \\right )}} \\left(- v{\\left (0 \\right )} \\left. \\frac{d^{2}}{d t^{2}}  v{\\left (t \\right )} \\right|_{\\substack{ t=0 }} + 5 \\left(\\left. \\frac{d}{d t} v{\\left (t \\right )} \\right|_{\\substack{ t=0 }}\\right)^{2}\\right) - \\frac{4 m}{15} \\sqrt{30} \\sqrt{\\pi} \\nu v^{2}{\\left (0 \\right )} + \\frac{4 \\sqrt{30} i \\sqrt{\\pi} m \\nu}{15 v^{2}{\\left (0 \\right )}} \\left. \\frac{d}{d t} v{\\left (t \\right )} \\right|_{\\substack{ t=0 }}\\right)$$"
       ],
       "metadata": {},
       "output_type": "pyout",
       "png": "[encoded data removed]",
       "prompt_number": 68,
       "text": [
        "        \u239b                   \u239b       \u239b  2      \u239e\u2502                      2\u239e      \n",
        "        \u239c    ____   ___     \u239c       \u239c d       \u239f\u2502        \u239bd       \u239e\u2502    \u239f      \n",
        "        \u239c4\u22c5\u2572\u2571 30 \u22c5\u2572\u2571 \u03c0 \u22c5m\u22c5\u03bd\u22c5\u239c- v(0)\u22c5\u239c\u2500\u2500\u2500(v(t))\u239f\u2502    + 5\u22c5\u239c\u2500\u2500(v(t))\u239f\u2502    \u239f      \n",
        "        \u239c                   \u239c       \u239c  2      \u239f\u2502        \u239ddt      \u23a0\u2502t=0 \u239f      \n",
        "    ___ \u239c                   \u239d       \u239ddt       \u23a0\u2502t=0                    \u23a0   4\u22c5\u2572\n",
        "2\u22c5\u2572\u2571 3 \u22c5\u239c\u2500\u2500\u2500\u2500\u2500\u2500\u2500\u2500\u2500\u2500\u2500\u2500\u2500\u2500\u2500\u2500\u2500\u2500\u2500\u2500\u2500\u2500\u2500\u2500\u2500\u2500\u2500\u2500\u2500\u2500\u2500\u2500\u2500\u2500\u2500\u2500\u2500\u2500\u2500\u2500\u2500\u2500\u2500\u2500\u2500\u2500\u2500\u2500\u2500\u2500\u2500\u2500\u2500\u2500\u2500\u2500\u2500\u2500\u2500\u2500\u2500\u2500\u2500 - \u2500\u2500\u2500\n",
        "        \u239c                                6                                    \n",
        "        \u239d                            15\u22c5v (0)                                 \n",
        "\n",
        "                                                           \u239e\n",
        "                                                           \u239f\n",
        "                            ____     ___     \u239bd       \u239e\u2502   \u239f\n",
        " ____   ___      2      4\u22c5\u2572\u2571 30 \u22c5\u2148\u22c5\u2572\u2571 \u03c0 \u22c5m\u22c5\u03bd\u22c5\u239c\u2500\u2500(v(t))\u239f\u2502   \u239f\n",
        "\u2571 30 \u22c5\u2572\u2571 \u03c0 \u22c5m\u22c5\u03bd\u22c5v (0)                        \u239ddt      \u23a0\u2502t=0\u239f\n",
        "\u2500\u2500\u2500\u2500\u2500\u2500\u2500\u2500\u2500\u2500\u2500\u2500\u2500\u2500\u2500\u2500\u2500\u2500\u2500\u2500\u2500 + \u2500\u2500\u2500\u2500\u2500\u2500\u2500\u2500\u2500\u2500\u2500\u2500\u2500\u2500\u2500\u2500\u2500\u2500\u2500\u2500\u2500\u2500\u2500\u2500\u2500\u2500\u2500\u2500\u2500\u2500\u2500\u2500\u2500\u2500\u2500\u239f\n",
        "        15                                2                \u239f\n",
        "                                      15\u22c5v (0)             \u23a0"
       ]
      }
     ],
     "prompt_number": 68
    },
    {
     "cell_type": "code",
     "collapsed": false,
     "input": [
      "Ulm(U_jk, 2).subs([(diff(v,t,2).subs(t,0), 0),#(9216*nu**2/25)*v.subs(t,0)**17),\n",
      "                   ((diff(v,t).subs(t,0))**2,0),\n",
      "                   (diff(v,t).subs(t,0),(32*nu/5)*v.subs(t,0)**9)])"
     ],
     "language": "python",
     "metadata": {},
     "outputs": [
      {
       "latex": [
        "$$2 \\sqrt{3} \\left(\\frac{128 i}{75} \\sqrt{30} \\sqrt{\\pi} m \\nu^{2} v^{7}{\\left (0 \\right )} - \\frac{4 m}{15} \\sqrt{30} \\sqrt{\\pi} \\nu v^{2}{\\left (0 \\right )}\\right)$$"
       ],
       "metadata": {},
       "output_type": "pyout",
       "png": "[encoded data removed]",
       "prompt_number": 86,
       "text": [
        "        \u239b      ____     ___    2  7          ____   ___      2   \u239e\n",
        "    ___ \u239c128\u22c5\u2572\u2571 30 \u22c5\u2148\u22c5\u2572\u2571 \u03c0 \u22c5m\u22c5\u03bd \u22c5v (0)   4\u22c5\u2572\u2571 30 \u22c5\u2572\u2571 \u03c0 \u22c5m\u22c5\u03bd\u22c5v (0)\u239f\n",
        "2\u22c5\u2572\u2571 3 \u22c5\u239c\u2500\u2500\u2500\u2500\u2500\u2500\u2500\u2500\u2500\u2500\u2500\u2500\u2500\u2500\u2500\u2500\u2500\u2500\u2500\u2500\u2500\u2500\u2500\u2500\u2500\u2500\u2500\u2500\u2500 - \u2500\u2500\u2500\u2500\u2500\u2500\u2500\u2500\u2500\u2500\u2500\u2500\u2500\u2500\u2500\u2500\u2500\u2500\u2500\u2500\u2500\u2500\u2500\u2500\u239f\n",
        "        \u239d              75                           15           \u23a0"
       ]
      }
     ],
     "prompt_number": 86
    },
    {
     "cell_type": "code",
     "collapsed": false,
     "input": [
      "expand(_ * -1/sqrt(2))"
     ],
     "language": "python",
     "metadata": {},
     "outputs": [
      {
       "latex": [
        "$$\\frac{32768 m}{125} \\sqrt{5} \\sqrt{\\pi} \\nu^{3} v^{12}{\\left (0 \\right )} - \\frac{256 i}{25} \\sqrt{5} \\sqrt{\\pi} m \\nu^{2} v^{7}{\\left (0 \\right )} + \\frac{8 m}{5} \\sqrt{5} \\sqrt{\\pi} \\nu v^{2}{\\left (0 \\right )}$$"
       ],
       "metadata": {},
       "output_type": "pyout",
       "png": "[encoded data removed]",
       "prompt_number": 63,
       "text": [
        "        ___   ___    3  12            ___     ___    2  7          ___   ___  \n",
        "32768\u22c5\u2572\u2571 5 \u22c5\u2572\u2571 \u03c0 \u22c5m\u22c5\u03bd \u22c5v  (0)   256\u22c5\u2572\u2571 5 \u22c5\u2148\u22c5\u2572\u2571 \u03c0 \u22c5m\u22c5\u03bd \u22c5v (0)   8\u22c5\u2572\u2571 5 \u22c5\u2572\u2571 \u03c0 \u22c5m\n",
        "\u2500\u2500\u2500\u2500\u2500\u2500\u2500\u2500\u2500\u2500\u2500\u2500\u2500\u2500\u2500\u2500\u2500\u2500\u2500\u2500\u2500\u2500\u2500\u2500\u2500\u2500\u2500\u2500\u2500 - \u2500\u2500\u2500\u2500\u2500\u2500\u2500\u2500\u2500\u2500\u2500\u2500\u2500\u2500\u2500\u2500\u2500\u2500\u2500\u2500\u2500\u2500\u2500\u2500\u2500\u2500\u2500\u2500 + \u2500\u2500\u2500\u2500\u2500\u2500\u2500\u2500\u2500\u2500\u2500\u2500\u2500\u2500\u2500\n",
        "             125                             25                           5   \n",
        "\n",
        "    2   \n",
        "\u22c5\u03bd\u22c5v (0)\n",
        "\u2500\u2500\u2500\u2500\u2500\u2500\u2500\u2500\n",
        "        "
       ]
      }
     ],
     "prompt_number": 63
    },
    {
     "cell_type": "code",
     "collapsed": false,
     "input": [
      "expand(_69 * (-1 / (sqrt(2)*(2*m*nu*v.subs(t,0)**2)*sqrt(16*pi/5)) ) )"
     ],
     "language": "python",
     "metadata": {},
     "outputs": [
      {
       "latex": [
        "$$- \\frac{1024 \\nu^{2}}{5} v^{10}{\\left (0 \\right )} - \\frac{32 i}{5} \\nu v^{5}{\\left (0 \\right )} + 1$$"
       ],
       "metadata": {},
       "output_type": "pyout",
       "png": "[encoded data removed]",
       "prompt_number": 70,
       "text": [
        "        2  10              5       \n",
        "  1024\u22c5\u03bd \u22c5v  (0)   32\u22c5\u2148\u22c5\u03bd\u22c5v (0)    \n",
        "- \u2500\u2500\u2500\u2500\u2500\u2500\u2500\u2500\u2500\u2500\u2500\u2500\u2500\u2500 - \u2500\u2500\u2500\u2500\u2500\u2500\u2500\u2500\u2500\u2500\u2500\u2500 + 1\n",
        "        5               5          "
       ]
      }
     ],
     "prompt_number": 70
    },
    {
     "cell_type": "code",
     "collapsed": false,
     "input": [],
     "language": "python",
     "metadata": {},
     "outputs": []
    },
    {
     "cell_type": "code",
     "collapsed": false,
     "input": [
      "dvdt = dOmega**1/3dt = (1/3)*Omega**(-2/3)*dOmegadt = (1/3)*v**-2*dOmegadt"
     ],
     "language": "python",
     "metadata": {},
     "outputs": []
    },
    {
     "cell_type": "code",
     "collapsed": false,
     "input": [
      "Omega = v**3"
     ],
     "language": "python",
     "metadata": {},
     "outputs": []
    },
    {
     "cell_type": "code",
     "collapsed": false,
     "input": [
      "dOmegadt = (96*nu/5)*v**11"
     ],
     "language": "python",
     "metadata": {},
     "outputs": []
    },
    {
     "cell_type": "code",
     "collapsed": false,
     "input": [
      "dvdt = (32*nu/5)*v**9"
     ],
     "language": "python",
     "metadata": {},
     "outputs": []
    },
    {
     "cell_type": "code",
     "collapsed": false,
     "input": [
      "d2vdt2 = (288*nu/5)*v**8 * dvdt = (288*nu/5)*v**8 * (32*nu/5)*v**9 = (9216*nu**2/25)*v**17"
     ],
     "language": "python",
     "metadata": {},
     "outputs": []
    },
    {
     "cell_type": "code",
     "collapsed": false,
     "input": [
      "32*288"
     ],
     "language": "python",
     "metadata": {},
     "outputs": [
      {
       "latex": [
        "$$9216$$"
       ],
       "metadata": {},
       "output_type": "pyout",
       "png": "[encoded data removed]",
       "prompt_number": 56,
       "text": [
        "9216"
       ]
      }
     ],
     "prompt_number": 56
    },
    {
     "cell_type": "code",
     "collapsed": false,
     "input": [
      "dvdt = (32*nu/5)*v**9\n",
      "diff(dvdt,v)"
     ],
     "language": "python",
     "metadata": {},
     "outputs": [
      {
       "latex": [
        "$$\\frac{288 \\nu}{5} v^{8}{\\left (t \\right )}$$"
       ],
       "metadata": {},
       "output_type": "pyout",
       "png": "[encoded data removed]",
       "prompt_number": 58,
       "text": [
        "       8   \n",
        "288\u22c5\u03bd\u22c5v (t)\n",
        "\u2500\u2500\u2500\u2500\u2500\u2500\u2500\u2500\u2500\u2500\u2500\n",
        "     5     "
       ]
      }
     ],
     "prompt_number": 58
    },
    {
     "cell_type": "code",
     "collapsed": false,
     "input": [],
     "language": "python",
     "metadata": {},
     "outputs": []
    },
    {
     "cell_type": "code",
     "collapsed": false,
     "input": [],
     "language": "python",
     "metadata": {},
     "outputs": []
    }
   ],
   "metadata": {}
  }
 ]
}