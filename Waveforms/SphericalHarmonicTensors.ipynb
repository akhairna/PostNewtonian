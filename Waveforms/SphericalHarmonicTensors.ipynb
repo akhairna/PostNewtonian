{
 "metadata": {
  "name": "",
  "signature": "sha256:c6c9c42fd9e775797fd2abd6fb39c043244e909b6c9e1ee540e55171bd55ca57"
 },
 "nbformat": 3,
 "nbformat_minor": 0,
 "worksheets": [
  {
   "cells": [
    {
     "cell_type": "code",
     "collapsed": false,
     "input": [
      "from __future__ import division\n",
      "import sympy\n",
      "from sympy import *\n",
      "from sympy import Rational as frac\n",
      "init_printing()"
     ],
     "language": "python",
     "metadata": {},
     "outputs": [],
     "prompt_number": 1
    },
    {
     "cell_type": "code",
     "collapsed": false,
     "input": [
      "var('r, nu, c')\n",
      "var('S_n, S_lambda, S_ell')\n",
      "var('Sigma_n, Sigma_lambda, Sigma_ell')\n",
      "\n",
      "nHat =      [1, 0, 0]\n",
      "lambdaHat = [0, 1, 0]\n",
      "ellHat =    [0, 0, 1]\n",
      "xPIy = [1,I,0]\n",
      "xMIy = [1,-I,0]\n",
      "Sigma = [Sigma_n, Sigma_lambda, Sigma_ell]\n",
      "S = [S_n, S_lambda, S_ell]"
     ],
     "language": "python",
     "metadata": {},
     "outputs": [],
     "prompt_number": 2
    },
    {
     "cell_type": "code",
     "collapsed": false,
     "input": [
      "class TensorProduct(object):\n",
      "    LaTeXProductString = r'\\otimes'\n",
      "\n",
      "    def __init__(self, *vectors, **kwargs):\n",
      "        if(len(vectors)==1 and isinstance(vectors[0], TensorProduct)) :\n",
      "            self.coefficient = vectors[0].coefficient\n",
      "            self.vectors = vectors[0].vectors\n",
      "        else:\n",
      "            if('coefficient' in kwargs):\n",
      "                self.coefficient = kwargs['coefficient']\n",
      "            else:\n",
      "                self.coefficient = 1\n",
      "            self.vectors = vectors\n",
      "\n",
      "    def rank(self):\n",
      "        return len(self.vectors)\n",
      "\n",
      "    def __str__(self):\n",
      "        return '('+str(self.coefficient)+')' + '*{' + '*'.join([str(v) for v in self.vectors]) + '}'\n",
      "\n",
      "    def __repr__(self):\n",
      "        return '('+repr(self.coefficient)+')' + '*{' + '*'.join([repr(v) for v in self.vectors]) + '}'\n",
      "\n",
      "    def _latex_str_(self):\n",
      "        return r'\\left('+sympy.latex(self.coefficient)+r'\\right)' + r'\\,\\left\\{' \\\n",
      "            + type(self).LaTeXProductString.join([sympy.latex(v) for v in self.vectors]) + r'\\right\\}'\n",
      "\n",
      "    def _repr_latex_(self):\n",
      "        return '$'+ self._latex_str_() + '$'\n",
      "\n",
      "    def __getitem__(self, indices):\n",
      "        \"\"\"\n",
      "        Get the element at this index.\n",
      "        \"\"\"\n",
      "        if(len(indices)!=self.rank()):\n",
      "            print(indices)\n",
      "            raise ValueError(\"You need {0} indices to index a rank-{0} tensor, not {1}.\".format(self.rank(), len(indices)))\n",
      "        from numpy import prod\n",
      "        return self.coefficient*prod([v[i] for v,i in zip(self.vectors, indices)])\n",
      "\n",
      "    def contract(self,B):\n",
      "        if(B.rank() != self.rank()):\n",
      "            raise ValueError(\"Cannot contract rank-{0} tensor with rank-{1} tensor.\".format(self.rank(), B.rank()))\n",
      "        return self.coefficient*B.coefficient*prod([sum([v[i]*w[i] for i in range(3)]) for v,w in zip(self.vectors, B.vectors)])\n",
      "\n",
      "    def trace(self, j, k):\n",
      "        coefficient = self.coefficient * sum([self.vectors[j][i]*self.vectors[k][i] for i in range(3)])\n",
      "        if(self.rank()==2):\n",
      "            return coefficient\n",
      "        new = type(self)()\n",
      "        new.vectors = tuple(v for i,v in enumerate(self.vectors) if (i!=j and i!=k))\n",
      "        new.coefficient = self.coefficient * sum([self.vectors[j][i]*self.vectors[k][i] for i in range(3)])\n",
      "        return new\n",
      "\n",
      "    def __mul__(self, B):\n",
      "        \"\"\"\n",
      "        Return the scalar or tensor product\n",
      "        \"\"\"\n",
      "        if(isinstance(B, TensorProduct)):\n",
      "            new = type(self)(self)\n",
      "            new.vectors = self.vectors + B.vectors\n",
      "            new.coefficient = self.coefficient * B.coefficient\n",
      "            return new\n",
      "        else:\n",
      "            try:\n",
      "                # If this is just a single vector...\n",
      "                if(len(B)==3):\n",
      "                    new = type(self)(self)\n",
      "                    new.vectors = self.vectors + (list(B),)\n",
      "                    return new\n",
      "            except TypeError:\n",
      "                pass\n",
      "            # Otherwise, try scalar multiplication\n",
      "            new = type(self)(self)\n",
      "            new.coefficient *= B\n",
      "            return new\n",
      "\n",
      "\n",
      "\n",
      "class Tensor(object):\n",
      "    def __init__(self, *tensor_products, **kwargs):\n",
      "        if(len(tensor_products)==1 and isinstance(tensor_products[0], Tensor)) :\n",
      "            self.tensor_products = tensor_products[0].tensor_products\n",
      "        elif(len(tensor_products)==1 and isinstance(tensor_products[0], TensorProduct)) :\n",
      "            self.tensor_products = (tensor_products[0],)\n",
      "        else:\n",
      "            self.tensor_products = tensor_products\n",
      "        if(len(self.tensor_products)>0):\n",
      "            rank=self.tensor_products[0].rank()\n",
      "            for tensor_product in self.tensor_products:\n",
      "                if(tensor_product.rank() != rank):\n",
      "                    raise ValueError(\"Cannot add rank-{0} tensor to rank-{1} tensors.\".format(tensor_product.rank(), rank))\n",
      "\n",
      "    def rank(self):\n",
      "        if(len(self.tensor_products)==0):\n",
      "            return 0\n",
      "        return self.tensor_products[0].rank()\n",
      "\n",
      "    def compress(self):\n",
      "        for i in range(len(self.tensor_products)):\n",
      "            removed_elements = []\n",
      "            for j in range(i+1,len(self.tensor_products)):\n",
      "                if self.tensor_products[i].vectors==self.tensor_products[j].vectors:\n",
      "                    self.tensor_products[i].coefficient += self.tensor_products[j].coefficient\n",
      "                    removed_elements.append(j)\n",
      "            if removed_elements:\n",
      "                self.tensor_products = tuple(t_p for i,t_p in enumerate(self.tensor_products) if i not in removed_elements)\n",
      "        return self\n",
      "\n",
      "    def __add__(self, T):\n",
      "        if(self.rank()!=0 and T.rank()!=self.rank()):\n",
      "            raise ValueError(\"Cannot add rank-{0} tensor to rank-{1} tensor.\".format(T.rank(), self.rank()))\n",
      "        new = Tensor(self)\n",
      "        if(isinstance(T, Tensor)) :\n",
      "            new.tensor_products = self.tensor_products + T.tensor_products\n",
      "        elif(isinstance(T, TensorProduct)) :\n",
      "            new.tensor_products = self.tensor_products + (T,)\n",
      "        return new\n",
      "    \n",
      "    def __radd__(self, T):\n",
      "        return self+T\n",
      "    \n",
      "    def contract(self, B):\n",
      "        if(B.rank() != self.rank()):\n",
      "            raise ValueError(\"Cannot contract rank-{0} tensor with rank-{1} tensor.\".format(self.rank(), B.rank()))\n",
      "        return sum([T1.contract(T2) for T1 in self.tensor_products for T2 in B.tensor_products])\n",
      "\n",
      "    def __mul__(self, B):\n",
      "        T = Tensor(self)\n",
      "        for t_p in T.tensor_products:\n",
      "            t_p = t_p*B\n",
      "        return T\n",
      "\n",
      "    def __rmul__(self, B):\n",
      "        T = Tensor(self)\n",
      "        for t_p in T.tensor_products:\n",
      "            t_p = B*t_p\n",
      "        return T\n",
      "\n",
      "    def __str__(self):\n",
      "        return '\\n'.join([str(t) for t in self.tensor_products])\n",
      "\n",
      "    def __repr__(self):\n",
      "        return str(self)\n",
      "\n",
      "    def _repr_latex_(self):\n",
      "        return r'\\begin{align}&'+ r'\\\\&+'.join([t_p._latex_str_() for t_p in self.tensor_products]) + r'\\end{align}'\n",
      "\n",
      "\n",
      "\n",
      "# Since the sum of two `TensorProduct`s is a `Tensor`, we\n",
      "# had to wait until we got here to define these methods:\n",
      "def TensorProduct__add__(self, T):\n",
      "    return Tensor(self)+T\n",
      "TensorProduct.__add__ = TensorProduct__add__\n",
      "TensorProduct.__radd__ = TensorProduct__add__\n",
      "\n",
      "\n",
      "\n",
      "class SymmetricTensorProduct(TensorProduct):\n",
      "    \"\"\"\n",
      "    Specialized class for symmetric tensor products\n",
      "    \n",
      "    **Note:**  If you multiply a SymmetricTensorProduct by\n",
      "    any TensorProduct (even if it's not symmetric), the result\n",
      "    will be symmetric.  This makes it easy to make STPs, but is\n",
      "    not how real tensor products work.\n",
      "    \n",
      "    This is a subclass of `TensorProduct` with the necessary\n",
      "    methods overridden.  Because it is subclassed, and `Tensor`\n",
      "    isn't very invasive, we can easily create tensors by adding\n",
      "    symmetric tensor products, and the `Tensor` need not even\n",
      "    know that it is symmetric.\n",
      "    \n",
      "    Note that the index of a `SymmetricTensorProduct` is not\n",
      "    symmetrized.  That is, if `S = v*w` for vectors `v` and `w`,\n",
      "    then `S[i,j] = v[i]*w[j]`.  The symmetric part is returned\n",
      "    by `S(i,j) = (v[i]*w[j]+v[j]*w[i])/2`.  But the various\n",
      "    methods are aware of this.\n",
      "    \"\"\"\n",
      "    LaTeXProductString = r'\\otimes_{\\mathrm{s}}'\n",
      "\n",
      "    def __init__(self, *vectors, **kwargs):\n",
      "        TensorProduct.__init__(self, *vectors, **kwargs)\n",
      "\n",
      "    def __call__(self, *indices):\n",
      "        \"\"\"\n",
      "        Get the (symmetrized) element at this index.\n",
      "        \"\"\"\n",
      "        if(len(indices)!=self.rank()):\n",
      "            print(indices)\n",
      "            raise ValueError(\"You need {0} indices to index a rank-{0} tensor, not {1}.\".format(self.rank(), len(indices)))\n",
      "        from itertools import permutations\n",
      "        from math import factorial\n",
      "        from numpy import prod\n",
      "        symmetrized_element = 0\n",
      "        for index in permutations(indices, len(indices)):\n",
      "            symmetrized_element += prod([v[i] for v,i in zip(self.vectors, index)])\n",
      "            #print(index, element, symmetrized_element)\n",
      "        return symmetrized_element*self.coefficient*Rational(1,factorial(self.rank()))\n",
      "\n",
      "    def contract(self,B):\n",
      "        if(B.rank() != self.rank()):\n",
      "            raise ValueError(\"Cannot contract rank-{0} tensor with rank-{1} tensor.\".format(self.rank(), B.rank()))\n",
      "        from itertools import product\n",
      "        total = 0\n",
      "        for index in product(range(3), repeat=self.rank):\n",
      "            total += prod([v[i]*w[i] for v,w,i in zip(self.vectors, B.vectors, index)])\n",
      "        return total*self.coefficient*B.coefficient\n",
      "\n",
      "    def trace(self, j=0, k=0):\n",
      "        \"\"\"\n",
      "        Any input elements are ignored, since we will be symmetrizing anyway\n",
      "        \"\"\"\n",
      "        T = Tensor()\n",
      "        from itertools import permutations\n",
      "        for j,k in permutations(range(self.rank()), 2):\n",
      "            coefficient = self.coefficient * sum([self.vectors[j][i]*self.vectors[k][i] for i in range(3)])\n",
      "            if(self.rank()==2):\n",
      "                return coefficient\n",
      "            if(coefficient==0):\n",
      "                continue\n",
      "            new = TensorProduct()\n",
      "            new.vectors = tuple(v for i,v in enumerate(self.vectors) if (i!=j and i!=k))\n",
      "            new.coefficient = self.coefficient * sum([self.vectors[j][i]*self.vectors[k][i] for i in range(3)]) \\\n",
      "                * frac(1,factorial(self.rank()))\n",
      "            T = T+new\n",
      "        return T.compress()\n"
     ],
     "language": "python",
     "metadata": {},
     "outputs": [],
     "prompt_number": 3
    },
    {
     "cell_type": "code",
     "collapsed": false,
     "input": [
      "T1 = TensorProduct(Sigma, Sigma, ellHat, coefficient=1)\n",
      "display(T1)\n",
      "T1.trace(0,1)"
     ],
     "language": "python",
     "metadata": {},
     "outputs": [
      {
       "latex": [
        "$\\left(1\\right)\\,\\left\\{\\begin{bmatrix}\\Sigma_{n}, & \\Sigma_{\\lambda}, & \\Sigma_{\\ell}\\end{bmatrix}\\otimes\\begin{bmatrix}\\Sigma_{n}, & \\Sigma_{\\lambda}, & \\Sigma_{\\ell}\\end{bmatrix}\\otimes\\begin{bmatrix}0, & 0, & 1\\end{bmatrix}\\right\\}$"
       ],
       "metadata": {},
       "output_type": "display_data",
       "text": [
        "(1)*{[Sigma_n, Sigma_lambda, Sigma_ell]*[Sigma_n, Sigma_lambda, Sigma_ell]*[0, 0, 1]}"
       ]
      },
      {
       "latex": [
        "$\\left(\\Sigma_{\\ell}^{2} + \\Sigma_{\\lambda}^{2} + \\Sigma_{n}^{2}\\right)\\,\\left\\{\\begin{bmatrix}0, & 0, & 1\\end{bmatrix}\\right\\}$"
       ],
       "metadata": {},
       "output_type": "pyout",
       "prompt_number": 4,
       "text": [
        "(Sigma_ell**2 + Sigma_lambda**2 + Sigma_n**2)*{[0, 0, 1]}"
       ]
      }
     ],
     "prompt_number": 4
    },
    {
     "cell_type": "code",
     "collapsed": false,
     "input": [
      "T2 = TensorProduct(Sigma, nHat, lambdaHat, coefficient=1)\n",
      "T2"
     ],
     "language": "python",
     "metadata": {},
     "outputs": [
      {
       "latex": [
        "$\\left(1\\right)\\,\\left\\{\\begin{bmatrix}\\Sigma_{n}, & \\Sigma_{\\lambda}, & \\Sigma_{\\ell}\\end{bmatrix}\\otimes\\begin{bmatrix}1, & 0, & 0\\end{bmatrix}\\otimes\\begin{bmatrix}0, & 1, & 0\\end{bmatrix}\\right\\}$"
       ],
       "metadata": {},
       "output_type": "pyout",
       "prompt_number": 5,
       "text": [
        "(1)*{[Sigma_n, Sigma_lambda, Sigma_ell]*[1, 0, 0]*[0, 1, 0]}"
       ]
      }
     ],
     "prompt_number": 5
    },
    {
     "cell_type": "code",
     "collapsed": false,
     "input": [
      "T2*ellHat"
     ],
     "language": "python",
     "metadata": {},
     "outputs": [
      {
       "latex": [
        "$\\left(1\\right)\\,\\left\\{\\begin{bmatrix}\\Sigma_{n}, & \\Sigma_{\\lambda}, & \\Sigma_{\\ell}\\end{bmatrix}\\otimes\\begin{bmatrix}1, & 0, & 0\\end{bmatrix}\\otimes\\begin{bmatrix}0, & 1, & 0\\end{bmatrix}\\otimes\\begin{bmatrix}0, & 0, & 1\\end{bmatrix}\\right\\}$"
       ],
       "metadata": {},
       "output_type": "pyout",
       "prompt_number": 6,
       "text": [
        "(1)*{[Sigma_n, Sigma_lambda, Sigma_ell]*[1, 0, 0]*[0, 1, 0]*[0, 0, 1]}"
       ]
      }
     ],
     "prompt_number": 6
    },
    {
     "cell_type": "code",
     "collapsed": false,
     "input": [
      "for k in range(1,4):\n",
      "    display((T2*ellHat).trace(0,k))"
     ],
     "language": "python",
     "metadata": {},
     "outputs": [
      {
       "latex": [
        "$\\left(\\Sigma_{n}\\right)\\,\\left\\{\\begin{bmatrix}0, & 1, & 0\\end{bmatrix}\\otimes\\begin{bmatrix}0, & 0, & 1\\end{bmatrix}\\right\\}$"
       ],
       "metadata": {},
       "output_type": "display_data",
       "text": [
        "(Sigma_n)*{[0, 1, 0]*[0, 0, 1]}"
       ]
      },
      {
       "latex": [
        "$\\left(\\Sigma_{\\lambda}\\right)\\,\\left\\{\\begin{bmatrix}1, & 0, & 0\\end{bmatrix}\\otimes\\begin{bmatrix}0, & 0, & 1\\end{bmatrix}\\right\\}$"
       ],
       "metadata": {},
       "output_type": "display_data",
       "text": [
        "(Sigma_lambda)*{[1, 0, 0]*[0, 0, 1]}"
       ]
      },
      {
       "latex": [
        "$\\left(\\Sigma_{\\ell}\\right)\\,\\left\\{\\begin{bmatrix}1, & 0, & 0\\end{bmatrix}\\otimes\\begin{bmatrix}0, & 1, & 0\\end{bmatrix}\\right\\}$"
       ],
       "metadata": {},
       "output_type": "display_data",
       "text": [
        "(Sigma_ell)*{[1, 0, 0]*[0, 1, 0]}"
       ]
      }
     ],
     "prompt_number": 7
    },
    {
     "cell_type": "code",
     "collapsed": false,
     "input": [
      "T2[2,0,1]"
     ],
     "language": "python",
     "metadata": {},
     "outputs": [
      {
       "latex": [
        "$$\\Sigma_{\\ell}$$"
       ],
       "metadata": {},
       "output_type": "pyout",
       "png": "[encoded data removed]",
       "prompt_number": 8,
       "text": [
        "\u03a3_ell"
       ]
      }
     ],
     "prompt_number": 8
    },
    {
     "cell_type": "code",
     "collapsed": false,
     "input": [
      "T1+T2"
     ],
     "language": "python",
     "metadata": {},
     "outputs": [
      {
       "latex": [
        "\\begin{align}&\\left(1\\right)\\,\\left\\{\\begin{bmatrix}\\Sigma_{n}, & \\Sigma_{\\lambda}, & \\Sigma_{\\ell}\\end{bmatrix}\\otimes\\begin{bmatrix}\\Sigma_{n}, & \\Sigma_{\\lambda}, & \\Sigma_{\\ell}\\end{bmatrix}\\otimes\\begin{bmatrix}0, & 0, & 1\\end{bmatrix}\\right\\}\\\\&+\\left(1\\right)\\,\\left\\{\\begin{bmatrix}\\Sigma_{n}, & \\Sigma_{\\lambda}, & \\Sigma_{\\ell}\\end{bmatrix}\\otimes\\begin{bmatrix}1, & 0, & 0\\end{bmatrix}\\otimes\\begin{bmatrix}0, & 1, & 0\\end{bmatrix}\\right\\}\\end{align}"
       ],
       "metadata": {},
       "output_type": "pyout",
       "prompt_number": 9,
       "text": [
        "(1)*{[Sigma_n, Sigma_lambda, Sigma_ell]*[Sigma_n, Sigma_lambda, Sigma_ell]*[0, 0, 1]}\n",
        "(1)*{[Sigma_n, Sigma_lambda, Sigma_ell]*[1, 0, 0]*[0, 1, 0]}"
       ]
      }
     ],
     "prompt_number": 9
    },
    {
     "cell_type": "code",
     "collapsed": false,
     "input": [
      "T1 = SymmetricTensorProduct(Sigma, Sigma, ellHat, nHat, coefficient=1)\n",
      "display(T1)\n",
      "T1.trace(0,1)"
     ],
     "language": "python",
     "metadata": {},
     "outputs": [
      {
       "latex": [
        "$\\left(1\\right)\\,\\left\\{\\begin{bmatrix}\\Sigma_{n}, & \\Sigma_{\\lambda}, & \\Sigma_{\\ell}\\end{bmatrix}\\otimes_{\\mathrm{s}}\\begin{bmatrix}\\Sigma_{n}, & \\Sigma_{\\lambda}, & \\Sigma_{\\ell}\\end{bmatrix}\\otimes_{\\mathrm{s}}\\begin{bmatrix}0, & 0, & 1\\end{bmatrix}\\otimes_{\\mathrm{s}}\\begin{bmatrix}1, & 0, & 0\\end{bmatrix}\\right\\}$"
       ],
       "metadata": {},
       "output_type": "display_data",
       "text": [
        "(1)*{[Sigma_n, Sigma_lambda, Sigma_ell]*[Sigma_n, Sigma_lambda, Sigma_ell]*[0, 0, 1]*[1, 0, 0]}"
       ]
      },
      {
       "latex": [
        "\\begin{align}&\\left(\\frac{\\Sigma_{\\ell}^{2}}{12} + \\frac{\\Sigma_{\\lambda}^{2}}{12} + \\frac{\\Sigma_{n}^{2}}{12}\\right)\\,\\left\\{\\begin{bmatrix}0, & 0, & 1\\end{bmatrix}\\otimes\\begin{bmatrix}1, & 0, & 0\\end{bmatrix}\\right\\}\\\\&+\\left(\\frac{\\Sigma_{\\ell}}{6}\\right)\\,\\left\\{\\begin{bmatrix}\\Sigma_{n}, & \\Sigma_{\\lambda}, & \\Sigma_{\\ell}\\end{bmatrix}\\otimes\\begin{bmatrix}1, & 0, & 0\\end{bmatrix}\\right\\}\\\\&+\\left(\\frac{\\Sigma_{n}}{6}\\right)\\,\\left\\{\\begin{bmatrix}\\Sigma_{n}, & \\Sigma_{\\lambda}, & \\Sigma_{\\ell}\\end{bmatrix}\\otimes\\begin{bmatrix}0, & 0, & 1\\end{bmatrix}\\right\\}\\end{align}"
       ],
       "metadata": {},
       "output_type": "pyout",
       "prompt_number": 10,
       "text": [
        "(Sigma_ell**2/12 + Sigma_lambda**2/12 + Sigma_n**2/12)*{[0, 0, 1]*[1, 0, 0]}\n",
        "(Sigma_ell/6)*{[Sigma_n, Sigma_lambda, Sigma_ell]*[1, 0, 0]}\n",
        "(Sigma_n/6)*{[Sigma_n, Sigma_lambda, Sigma_ell]*[0, 0, 1]}"
       ]
      }
     ],
     "prompt_number": 10
    },
    {
     "cell_type": "code",
     "collapsed": false,
     "input": [
      "T1*T2"
     ],
     "language": "python",
     "metadata": {},
     "outputs": [
      {
       "latex": [
        "$\\left(1\\right)\\,\\left\\{\\begin{bmatrix}\\Sigma_{n}, & \\Sigma_{\\lambda}, & \\Sigma_{\\ell}\\end{bmatrix}\\otimes_{\\mathrm{s}}\\begin{bmatrix}\\Sigma_{n}, & \\Sigma_{\\lambda}, & \\Sigma_{\\ell}\\end{bmatrix}\\otimes_{\\mathrm{s}}\\begin{bmatrix}0, & 0, & 1\\end{bmatrix}\\otimes_{\\mathrm{s}}\\begin{bmatrix}1, & 0, & 0\\end{bmatrix}\\otimes_{\\mathrm{s}}\\begin{bmatrix}\\Sigma_{n}, & \\Sigma_{\\lambda}, & \\Sigma_{\\ell}\\end{bmatrix}\\otimes_{\\mathrm{s}}\\begin{bmatrix}1, & 0, & 0\\end{bmatrix}\\otimes_{\\mathrm{s}}\\begin{bmatrix}0, & 1, & 0\\end{bmatrix}\\right\\}$"
       ],
       "metadata": {},
       "output_type": "pyout",
       "prompt_number": 11,
       "text": [
        "(1)*{[Sigma_n, Sigma_lambda, Sigma_ell]*[Sigma_n, Sigma_lambda, Sigma_ell]*[0, 0, 1]*[1, 0, 0]*[Sigma_n, Sigma_lambda, Sigma_ell]*[1, 0, 0]*[0, 1, 0]}"
       ]
      }
     ],
     "prompt_number": 11
    },
    {
     "cell_type": "code",
     "collapsed": false,
     "input": [],
     "language": "python",
     "metadata": {},
     "outputs": []
    },
    {
     "cell_type": "code",
     "collapsed": false,
     "input": [],
     "language": "python",
     "metadata": {},
     "outputs": []
    },
    {
     "cell_type": "code",
     "collapsed": false,
     "input": [
      "def C(ell,m):\n",
      "    return (-1)**m * sympy.sqrt( frac(2*ell+1,4*sympy.pi) * frac(factorial(ell-m), factorial(ell+m)) )\n",
      "def a(ell,m,j):\n",
      "    return frac((-1)**j, 2**ell * factorial(j) * factorial(ell-j)) * frac(factorial(2*ell-2*j), factorial(ell-m-2*j))\n",
      "def YlmTensor(ell,m):\n",
      "    def TensorPart(ell,m,j):\n",
      "        SymmetricTensorProduct(*((xPIy,)*m + (z,)*(l-2j-m))) \\\n",
      "            * SymmetricTensorProduct((,)*(2*j))\n",
      "    return sum([ C(ell,m) * a(ell,m,j) * TensorPart(ell,m,j) for j in range(floor(frac(ell-m,2))+1) ])"
     ],
     "language": "python",
     "metadata": {},
     "outputs": []
    },
    {
     "cell_type": "code",
     "collapsed": false,
     "input": [],
     "language": "python",
     "metadata": {},
     "outputs": []
    },
    {
     "cell_type": "code",
     "collapsed": false,
     "input": [
      "T = SymmetricTensorProduct(Sigma, nHat, lambdaHat, coefficient=1)"
     ],
     "language": "python",
     "metadata": {},
     "outputs": [],
     "prompt_number": 337
    },
    {
     "cell_type": "code",
     "collapsed": false,
     "input": [
      "T(0,1,0)"
     ],
     "language": "python",
     "metadata": {},
     "outputs": [
      {
       "latex": [
        "$$\\frac{\\Sigma_{n}}{3}$$"
       ],
       "metadata": {},
       "output_type": "pyout",
       "png": "[encoded data removed]",
       "prompt_number": 331,
       "text": [
        "\u03a3_n\n",
        "\u2500\u2500\u2500\n",
        " 3 "
       ]
      }
     ],
     "prompt_number": 331
    },
    {
     "cell_type": "code",
     "collapsed": false,
     "input": [
      "T(0,1,1)"
     ],
     "language": "python",
     "metadata": {},
     "outputs": [
      {
       "latex": [
        "$$\\frac{\\Sigma_{\\lambda}}{3}$$"
       ],
       "metadata": {},
       "output_type": "pyout",
       "png": "[encoded data removed]",
       "prompt_number": 332,
       "text": [
        "\u03a3_\u03bb\n",
        "\u2500\u2500\u2500\n",
        " 3 "
       ]
      }
     ],
     "prompt_number": 332
    },
    {
     "cell_type": "code",
     "collapsed": false,
     "input": [
      "T(0,1,2)"
     ],
     "language": "python",
     "metadata": {},
     "outputs": [
      {
       "latex": [
        "$$\\frac{\\Sigma_{\\ell}}{6}$$"
       ],
       "metadata": {},
       "output_type": "pyout",
       "png": "[encoded data removed]",
       "prompt_number": 333,
       "text": [
        "\u03a3_ell\n",
        "\u2500\u2500\u2500\u2500\u2500\n",
        "  6  "
       ]
      }
     ],
     "prompt_number": 333
    },
    {
     "cell_type": "code",
     "collapsed": false,
     "input": [
      "Jjk = SymmetricTensorProduct(Sigma, nHat, coefficient = (r*nu/c)*(-frac(3,2)))\n",
      "Yjk = SymmetricTensorProduct(xPIy, xPIy)"
     ],
     "language": "python",
     "metadata": {},
     "outputs": [],
     "prompt_number": 345
    },
    {
     "cell_type": "code",
     "collapsed": false,
     "input": [
      "simplify(Jjk*Yjk)"
     ],
     "language": "python",
     "metadata": {},
     "outputs": [
      {
       "latex": [
        "$$- \\frac{3 \\nu r}{2 c} \\left(i \\Sigma_{\\lambda} + \\Sigma_{n}\\right)$$"
       ],
       "metadata": {},
       "output_type": "pyout",
       "png": "[encoded data removed]",
       "prompt_number": 346,
       "text": [
        "-3\u22c5\u03bd\u22c5r\u22c5(\u2148\u22c5\u03a3_\u03bb + \u03a3_n) \n",
        "\u2500\u2500\u2500\u2500\u2500\u2500\u2500\u2500\u2500\u2500\u2500\u2500\u2500\u2500\u2500\u2500\u2500\u2500\u2500\u2500\u2500\n",
        "         2\u22c5c         "
       ]
      }
     ],
     "prompt_number": 346
    },
    {
     "cell_type": "code",
     "collapsed": false,
     "input": [
      "isinstance(T1, TensorProduct)"
     ],
     "language": "python",
     "metadata": {},
     "outputs": [
      {
       "metadata": {},
       "output_type": "pyout",
       "prompt_number": 21,
       "text": [
        "True"
       ]
      }
     ],
     "prompt_number": 21
    },
    {
     "cell_type": "code",
     "collapsed": false,
     "input": [
      "tmp"
     ],
     "language": "python",
     "metadata": {},
     "outputs": [
      {
       "latex": [
        "$\\left(1\\right)\\,\\left\\{\\right\\}$"
       ],
       "metadata": {},
       "output_type": "pyout",
       "prompt_number": 17,
       "text": [
        "(1)*{}"
       ]
      }
     ],
     "prompt_number": 17
    },
    {
     "cell_type": "code",
     "collapsed": false,
     "input": [],
     "language": "python",
     "metadata": {},
     "outputs": []
    },
    {
     "cell_type": "code",
     "collapsed": false,
     "input": [],
     "language": "python",
     "metadata": {},
     "outputs": []
    }
   ],
   "metadata": {}
  }
 ]
}