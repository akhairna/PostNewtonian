{
 "metadata": {
  "name": "",
  "signature": "sha256:3db10fca9a160fcf5ef32e7f2b615500bc8ef8a43ffa42939a07111d7e37f240"
 },
 "nbformat": 3,
 "nbformat_minor": 0,
 "worksheets": [
  {
   "cells": [
    {
     "cell_type": "markdown",
     "metadata": {},
     "source": [
      "To do:\n",
      " * Generate and output sympy code\n",
      " * Generate and output C++ code\n",
      " * Loop over components"
     ]
    },
    {
     "cell_type": "markdown",
     "metadata": {},
     "source": [
      "***Note:*** At the moment, this notebook computes radiated spherical harmonic modes from *source* multipole tensors.  It is designed only for the relatively low-order requirements of the spin parts of the waveform.  Thus, it generally ignores terms like $\\hat{n} \\cdot \\vec{v}$.  (That is, the velocity is assumed to be orthogonal to the separation between the black holes.)  Also, it ignores the intermediate multipoles needed to translate between source and radiated multipoles; they enter at somewhat higher order than we need.\n",
      "\n",
      "It would be easy enough to modify this notebook to account for the unaccounted-for terms, but this has not been done yet."
     ]
    },
    {
     "cell_type": "markdown",
     "metadata": {},
     "source": [
      "We have a couple formulas at lowest order that can guide us in our choice of terms to keep:\n",
      "\n",
      "$dv/dt = -\\mathcal{L}/(dE/dv) \\approx -(2v^{10}/5)/(-v/8) = v^9/20$\n",
      "\n",
      "$d^2v/dt^2 = 9v^8/20\\, dv/dt = 9 v^{17}/400$\n",
      "\n",
      "\\begin{align*}\n",
      "\\hat{n} \\cdot \\vec{v} &\\approx v\\, \\frac{dr}{dt} \\\\\n",
      "&= v\\, \\frac{d(1/v^2)}{dt} \\\\\n",
      "&= -\\frac{2}{v^2}\\, \\frac{dv}{dt} \\\\\n",
      "&= -\\frac{v^7}{10}\n",
      "\\end{align*}"
     ]
    },
    {
     "cell_type": "markdown",
     "metadata": {},
     "source": [
      "Clearing the cache is not strictly necessary, but I have found the cache can sometimes cause trouble."
     ]
    },
    {
     "cell_type": "code",
     "collapsed": false,
     "input": [
      "from sympy.core.cache import clear_cache\n",
      "clear_cache()"
     ],
     "language": "python",
     "metadata": {},
     "outputs": [],
     "prompt_number": 1
    },
    {
     "cell_type": "code",
     "collapsed": false,
     "input": [
      "from __future__ import division, print_function\n",
      "import sympy\n",
      "from sympy import *\n",
      "from sympy.printing import ccode\n",
      "from sympy import Rational as frac\n",
      "import re\n",
      "import simpletensors\n",
      "from simpletensors import Vector, xHat, yHat, zHat\n",
      "from simpletensors import TensorProduct, SymmetricTensorProduct, Tensor, ReduceExpr\n",
      "import sphericalharmonictensors\n",
      "init_printing()\n",
      "\n",
      "\n",
      "var('mu,ell,A,B,C,epsilon')\n",
      "var('jk,jkl,jklm,jklmn,jklmno,jklmnop,jklmnopq') # Index sets Blanchet uses\n",
      "var('i,j,k,l,m,n,o') # Indices Boh\u00e9 et al. use\n",
      "#var('Subscript', cls=Function); # Mathematica will return this, so let's just pretend it exists\n",
      "var('vartheta, varphi')\n",
      "var('nu, m, delta, c, t, v0')\n",
      "\n",
      "# These are related scalar functions of time\n",
      "var('v, gamma, r', cls=Function)\n",
      "v = v(t)\n",
      "x = v**2\n",
      "Omega = v**3\n",
      "# gamma = v**2*(1 + (1-nu/3)*v**2 + (1-65*nu/12)*v**4) # APPROXIMATELY!!!  Change this later\n",
      "#r = 1/gamma\n",
      "gamma = gamma(t)\n",
      "r = r(t)\n",
      "#r = 1/v**2 # APPROXIMATELY!!!  Just for testing.  Change this later\n",
      "\n",
      "# These get redefined momentarily, but have to exist first\n",
      "var('nHat, lambdaHat, ellHat', cls=Function)\n",
      "# And now we define them as vector functions of time\n",
      "nHat = Vector('nHat', r'\\hat{n}', [cos(Omega*t),sin(Omega*t),0,])(t)\n",
      "lambdaHat = Vector('lambdaHat', r'\\hat{\\lambda}', [-sin(Omega*t),cos(Omega*t),0,])(t)\n",
      "ellHat = Vector('ellHat', r'\\hat{\\ell}', [0,0,1,])(t)\n",
      "\n",
      "# # These are the spin functions -- first, the individual components as regular sympy.Function objects; then the vectors themselves\n",
      "# var('S_n, S_lambda, S_ell', cls=Function)\n",
      "# var('Sigma_n, Sigma_lambda, Sigma_ell', cls=Function)\n",
      "# SigmaVec = Vector('SigmaVec', r'\\vec{\\Sigma}', [Sigma_n(t), Sigma_lambda(t), Sigma_ell(t)])(t)\n",
      "# SVec = Vector('S', r'\\vec{S}', [S_n(t), S_lambda(t), S_ell(t)])(t)\n",
      "\n",
      "# These are the spin vector functions, treated as constant at this order\n",
      "# (note that this is w.r.t. the x,y,z basis, rather than n,lambda,ell)\n",
      "var('S_n, S_lambda, S_ell')\n",
      "var('Sigma_n, Sigma_lambda, Sigma_ell')\n",
      "SigmaVec = Vector('SigmaVec', r'\\vec{\\Sigma}', [Sigma_n*cos(Omega*t) - Sigma_lambda*sin(Omega*t),\n",
      "                                                Sigma_n*sin(Omega*t) + Sigma_lambda*cos(Omega*t), Sigma_ell])(t)\n",
      "SVec = Vector('S', r'\\vec{S}', [S_n*cos(Omega*t) - S_lambda*sin(Omega*t),\n",
      "                                S_n*sin(Omega*t) + S_lambda*cos(Omega*t), S_ell])(t)\n",
      "\n",
      "# These are some cross products that appear in the spin terms, assuming $\\vec{v} = v\\hat{\\lambda}$\n",
      "SVectimeslambdaHat = Vector('SVectimeslambdaHat', r'\\vec{S} \\times \\hat{\\lambda}',\n",
      "                            [-S_ell*cos(Omega*t), -S_ell*sin(Omega*t), S_n])(t)\n",
      "SigmaVectimeslambdaHat = Vector('SigmaVectimeslambdaHat', r'\\vec{\\Sigma} \\times \\hat{\\lambda}',\n",
      "                                [-Sigma_ell*cos(Omega*t), -Sigma_ell*sin(Omega*t), Sigma_n])(t)\n",
      "nHattimesSVec = Vector('nHattimesSVec', r'\\hat{n} \\times \\vec{S}',\n",
      "                       [S_ell*sin(Omega*t), -S_ell*cos(Omega*t), S_lambda])(t)\n",
      "nHattimesSigmaVec = Vector('nHattimesSigmaVec', r'\\hat{n} \\times \\vec{\\Sigma}',\n",
      "                           [Sigma_ell*sin(Omega*t), -Sigma_ell*cos(Omega*t), Sigma_lambda])(t)\n",
      "nHattimeslambdaHat = ellHat\n",
      "nHatdotSVecdotlambdaHat = -S_ell # Symbol(r'\\left[ \\hat{n} \\cdot \\left( \\vec{S} \\times \\hat{\\lambda} \\right) \\right]')\n",
      "nHatdotSigmaVecdotlambdaHat = -Sigma_ell # Symbol(r'\\left[ \\hat{n} \\cdot \\left( \\vec{\\Sigma} \\times \\hat{\\lambda} \\right) \\right]')\n",
      "\n",
      "nHatdotv = diff(r,t,1) # Symbol(r'\\hat{n} \\cdot \\hat{v}')\n",
      "\n",
      "# These ignore the v^7 contribution from v along nHat\n",
      "SVecdotv = v*S_lambda # Symbol(r'\\vec{S} \\cdot \\vec{v}')\n",
      "SigmaVecdotv = v*Sigma_lambda # Symbol(r'\\vec{\\Sigma} \\cdot \\vec{v}')\n",
      "\n",
      "nHatdotSVec = S_n # Symbol(r'\\hat{n} \\cdot \\vec{S}')\n",
      "nHatdotSigmaVec = Sigma_n # Symbol(r'\\hat{n} \\cdot \\vec{\\Sigma}')"
     ],
     "language": "python",
     "metadata": {},
     "outputs": [],
     "prompt_number": 2
    },
    {
     "cell_type": "code",
     "collapsed": false,
     "input": [
      "SimplifyVectorDerivatives = {diff(nHat,t):Omega*lambdaHat, diff(lambdaHat,t):-Omega*nHat}\n",
      "DropvDerivatives = {diff(v,t,vDerivs)**vDerivPower:0\n",
      "                    for vDerivs in range(1,3)\n",
      "                    for vDerivPower in range(1,5)\n",
      "                    if vDerivs+vDerivPower>=2} # dv/dt \\approx v^9 / 20\n",
      "DropvDerivatives.update({diff(gamma,t,gammaDerivs)**gammaDerivPower:0\n",
      "                         for gammaDerivs in range(1,3)\n",
      "                         for gammaDerivPower in range(1,5)\n",
      "                         if gammaDerivs+gammaDerivPower>=2})\n",
      "DropvDerivatives.update({diff(r,t,rDerivs)**rDerivPower:0\n",
      "                         for rDerivs in range(1,3)\n",
      "                         for rDerivPower in range(1,5)\n",
      "                         if rDerivs+rDerivPower>=2})\n",
      "DropvDerivatives.update({'nHatdotv':0}) # n dot v \\approx - v^7 / 10\n",
      "ApproxvDerivatives = {diff(v,t): v**9/20,\n",
      "                      diff(gamma,t): v**10/10,\n",
      "                      diff(r,t): -v**6/10,\n",
      "                      }\n",
      "SpinComponents = {'SVecdotv':v0*S_lambda, 'SigmaVecdotv':v0*Sigma_lambda,\n",
      "                  'nHatdotSVec':S_n, 'nHatdotSigmaVec':Sigma_n, }\n",
      "# powers.get(v,0) + 2*powers.get(x,0) + 3*powers.get(Omega,0) + 2*powers.get(gamma,0) - 2*powers.get(r,0)"
     ],
     "language": "python",
     "metadata": {},
     "outputs": [],
     "prompt_number": 3
    },
    {
     "cell_type": "code",
     "collapsed": false,
     "input": [
      "def Subscript(vec, indices):\n",
      "    #print(\"Subscript({0}, {1})\".format(vec, indices))\n",
      "    try:\n",
      "        indices_str = indices.name\n",
      "    except AttributeError:\n",
      "        indices_str = indices\n",
      "    #print(\"About to construct TensorProduct([{0},]*{1}, coefficient=1, symmetric=True)\".format(vec, len(indices_str)))\n",
      "    return TensorProduct([vec,]*len(indices_str), coefficient=1, symmetric=True)"
     ],
     "language": "python",
     "metadata": {},
     "outputs": [],
     "prompt_number": 4
    },
    {
     "cell_type": "code",
     "collapsed": false,
     "input": [
      "Math={}\n",
      "Sym={}\n",
      "ns = locals()"
     ],
     "language": "python",
     "metadata": {},
     "outputs": [],
     "prompt_number": 5
    },
    {
     "cell_type": "code",
     "collapsed": false,
     "input": [
      "def CollectivePower(expr):\n",
      "    \"\"\"Given some product, return 2 * total PN order\n",
      "    \n",
      "    This treats v as 1, x**2 as 2, r as -2, etc., not accounting\n",
      "    for any contribution to PN order from spins\n",
      "    \"\"\"\n",
      "    powers = expr.subs({v.subs(t,0):v,r.subs(t,0):r,}).as_powers_dict()\n",
      "    return powers.get(v,0) + 2*powers.get(x,0) + 3*powers.get(Omega,0) + 2*powers.get(gamma,0) - 2*powers.get(r,0) \\\n",
      "        + 9*powers.get(diff(v,t,1), 0) + 17*powers.get(diff(v,t,2), 0) + 25*powers.get(diff(v,t,3), 0) \\\n",
      "        + 10*powers.get(diff(gamma,t,1), 0) + 18*powers.get(diff(gamma,t,2), 0) + 26*powers.get(diff(gamma,t,3), 0) \\\n",
      "        + 6*powers.get(diff(r,t,1), 0) + 14*powers.get(diff(r,t,2), 0) + 22*powers.get(diff(r,t,3), 0)\n",
      "\n",
      "def DropHigherRelativePowers(expression, relative_order=3):\n",
      "    try:\n",
      "        expression = sympy.expand(expression)\n",
      "        if(expression.func==sympy.Add):\n",
      "            lowest_order = min( [ CollectivePower(arg) for arg in expression.args ] )\n",
      "            expression = sum( [ arg for arg in expression.args if CollectivePower(arg)<=relative_order+lowest_order ] )\n",
      "            try:\n",
      "                return expression.simplify()\n",
      "            except:\n",
      "                if(expression==0.0) :\n",
      "                    return sympy.sympify(0)\n",
      "                return expression\n",
      "        else:\n",
      "            return expression\n",
      "    except:\n",
      "        return expression\n",
      "\n",
      "def DropHigherAbsolutePowers(expression, absolute_order=3):\n",
      "    try:\n",
      "        expression = sympy.expand(expression)\n",
      "        if(expression.func==sympy.Add):\n",
      "            expression = sum( [ arg for arg in expression.args if CollectivePower(arg)<=absolute_order ] )\n",
      "            try:\n",
      "                return expression.simplify()\n",
      "            except:\n",
      "                if(expression==0.0) :\n",
      "                    return sympy.sympify(0)\n",
      "                return expression\n",
      "        else:\n",
      "            if(CollectivePower(expression)<=absolute_order) :\n",
      "                return expression\n",
      "            else:\n",
      "                return sympy.sympify(0)\n",
      "    except:\n",
      "        return expression\n",
      "\n",
      "def DropHigherAbsolutePowersOfTensorProduct(tp, absolute_order=3):\n",
      "    return simpletensors.TensorProduct([c for c in tp],\n",
      "                                       coefficient=DropHigherAbsolutePowers(tp.coefficient, absolute_order), symmetric=tp.symmetric)\n",
      "\n",
      "def DropHigherRelativePowersOfTensorProduct(tp, relative_order=3):\n",
      "    return simpletensors.TensorProduct([c for c in tp],\n",
      "                                       coefficient=DropHigherRelativePowers(tp.coefficient, relative_order), symmetric=tp.symmetric)\n",
      "\n",
      "def DropHigherAbsolutePowersOfTensor(t, absolute_order=3):\n",
      "    return sum( [DropHigherAbsolutePowersOfTensorProduct(tp, absolute_order) for tp in t ] )\n",
      "\n",
      "def DropHigherRelativePowersOfTensor(t, relative_order=3):\n",
      "    lowest_order = sys.maxint\n",
      "    for term in t:\n",
      "        expression = sympy.expand(term.coefficient)\n",
      "        try:\n",
      "            if(expression.func==sympy.Add):\n",
      "                for arg in expression.args:\n",
      "                    lowest_order = min(lowest_order, CollectivePower(arg))\n",
      "            else:\n",
      "                lowest_order = min(lowest_order, CollectivePower(expression))\n",
      "        except:\n",
      "            pass\n",
      "    return sum( [DropHigherAbsolutePowersOfTensorProduct(tp, relative_order+lowest_order) for tp in t ] )\n"
     ],
     "language": "python",
     "metadata": {},
     "outputs": [],
     "prompt_number": 6
    },
    {
     "cell_type": "code",
     "collapsed": false,
     "input": [
      "Sym['Iij'] = nu*r**2*nHat*nHat\n",
      "Sym['Jij'] = -nu*delta*r**2*v*nHat*ellHat\n",
      "Sym['Iijk'] = -nu*delta*r**3*nHat*nHat*nHat\n",
      "Sym['Jijk'] = nu*r**3*v*nHat*nHat*ellHat"
     ],
     "language": "python",
     "metadata": {},
     "outputs": [],
     "prompt_number": 24
    },
    {
     "cell_type": "code",
     "collapsed": false,
     "input": [
      "%%time\n",
      "AsymmetricModeTerms = {}\n",
      "for I_L,J_L in [[\"Iijk\", \"Jijk\"], [\"Iij\", \"Jij\"]]:\n",
      "    U_L,V_L = [Sym[I_L],Sym[J_L]]\n",
      "    ell = U_L.rank\n",
      "    print('ell={0}'.format(ell)); sys.stdout.flush()\n",
      "    AsymmetricModeTerms[ell] = {}\n",
      "    for m in range(0,ell+1):\n",
      "        print('(ell,m)=({0},{1})'.format(ell,m)); sys.stdout.flush()\n",
      "        if((ell+m)%2==0) :\n",
      "            tmp = sympy.simplify(-sphericalharmonictensors.Ulm(U_L, m)/sympy.sqrt(2))\n",
      "        else :\n",
      "            tmp = sympy.simplify(sympy.I*sphericalharmonictensors.Vlm(V_L, m)/sympy.sqrt(2))\n",
      "        for i_order in range(ell):\n",
      "            tmp = diff(tmp, t)\n",
      "            tmp = tmp.xreplace(SimplifyVectorDerivatives).subs(dict(DropvDerivatives.items()+ApproxvDerivatives.items())).subs(SpinComponents)\n",
      "            tmp = DropHigherRelativePowers(tmp, 1)\n",
      "        AsymmetricModeTerms[ell][m] = sympy.simplify(sympy.simplify(tmp).doit().subs(t,0))\n",
      "        display(AsymmetricModeTerms[ell][m])\n",
      "        with open('results/hSymmetric_{0}_{1}.tex'.format(ell,m), 'w') as the_file:\n",
      "            the_file.write(latex(AsymmetricModeTerms[ell][m]))\n",
      "        with open('results/hSymmetric_{0}_{1}.py'.format(ell,m), 'w') as the_file:\n",
      "            the_file.write(repr(AsymmetricModeTerms[ell][m]))\n",
      "        with open('results/hSymmetric_{0}_{1}.c'.format(ell,m), 'w') as the_file:\n",
      "            the_file.write(ccode(N(AsymmetricModeTerms[ell][m])))"
     ],
     "language": "python",
     "metadata": {},
     "outputs": [
      {
       "output_type": "stream",
       "stream": "stdout",
       "text": [
        "ell=3\n"
       ]
      },
      {
       "output_type": "stream",
       "stream": "stdout",
       "text": [
        "(ell,m)=(3,0)\n"
       ]
      },
      {
       "latex": [
        "$$\\frac{i \\nu}{280000} \\sqrt{210} \\sqrt{\\pi} \\left(51 r^{3}{\\left (0 \\right )} v^{6}{\\left (0 \\right )} - 258 r^{2}{\\left (0 \\right )} v^{4}{\\left (0 \\right )} + 168 r{\\left (0 \\right )} v^{2}{\\left (0 \\right )} - 16\\right) v^{19}{\\left (0 \\right )}$$"
       ],
       "metadata": {},
       "output_type": "display_data",
       "png": "[encoded data removed]",
       "text": [
        "  _____     ___   \u239b    3     6           2     4                2        \u239e  19\n",
        "\u2572\u2571 210 \u22c5\u2148\u22c5\u2572\u2571 \u03c0 \u22c5\u03bd\u22c5\u239d51\u22c5r (0)\u22c5v (0) - 258\u22c5r (0)\u22c5v (0) + 168\u22c5r(0)\u22c5v (0) - 16\u23a0\u22c5v  \n",
        "\u2500\u2500\u2500\u2500\u2500\u2500\u2500\u2500\u2500\u2500\u2500\u2500\u2500\u2500\u2500\u2500\u2500\u2500\u2500\u2500\u2500\u2500\u2500\u2500\u2500\u2500\u2500\u2500\u2500\u2500\u2500\u2500\u2500\u2500\u2500\u2500\u2500\u2500\u2500\u2500\u2500\u2500\u2500\u2500\u2500\u2500\u2500\u2500\u2500\u2500\u2500\u2500\u2500\u2500\u2500\u2500\u2500\u2500\u2500\u2500\u2500\u2500\u2500\u2500\u2500\u2500\u2500\u2500\u2500\u2500\u2500\u2500\u2500\u2500\u2500\u2500\u2500\u2500\n",
        "                                      280000                                  \n",
        "\n",
        "   \n",
        "(0)\n",
        "\u2500\u2500\u2500\n",
        "   "
       ]
      },
      {
       "output_type": "stream",
       "stream": "stdout",
       "text": [
        "(ell,m)=(3,1)\n"
       ]
      },
      {
       "latex": [
        "$$\\frac{i \\delta}{105} \\sqrt{70} \\sqrt{\\pi} \\nu r^{3}{\\left (0 \\right )} v^{9}{\\left (0 \\right )}$$"
       ],
       "metadata": {},
       "output_type": "display_data",
       "png": "[encoded data removed]",
       "text": [
        "  ____     ___      3     9   \n",
        "\u2572\u2571 70 \u22c5\u2148\u22c5\u2572\u2571 \u03c0 \u22c5\u03b4\u22c5\u03bd\u22c5r (0)\u22c5v (0)\n",
        "\u2500\u2500\u2500\u2500\u2500\u2500\u2500\u2500\u2500\u2500\u2500\u2500\u2500\u2500\u2500\u2500\u2500\u2500\u2500\u2500\u2500\u2500\u2500\u2500\u2500\u2500\u2500\u2500\u2500\u2500\n",
        "             105              "
       ]
      },
      {
       "output_type": "stream",
       "stream": "stdout",
       "text": [
        "(ell,m)=(3,2)\n"
       ]
      },
      {
       "latex": [
        "$$\\frac{8 \\nu}{21} \\sqrt{7} \\sqrt{\\pi} r^{3}{\\left (0 \\right )} v^{10}{\\left (0 \\right )}$$"
       ],
       "metadata": {},
       "output_type": "display_data",
       "png": "[encoded data removed]",
       "text": [
        "    ___   ___    3     10   \n",
        "8\u22c5\u2572\u2571 7 \u22c5\u2572\u2571 \u03c0 \u22c5\u03bd\u22c5r (0)\u22c5v  (0)\n",
        "\u2500\u2500\u2500\u2500\u2500\u2500\u2500\u2500\u2500\u2500\u2500\u2500\u2500\u2500\u2500\u2500\u2500\u2500\u2500\u2500\u2500\u2500\u2500\u2500\u2500\u2500\u2500\u2500\n",
        "             21             "
       ]
      },
      {
       "output_type": "stream",
       "stream": "stdout",
       "text": [
        "(ell,m)=(3,3)\n"
       ]
      },
      {
       "latex": [
        "$$- \\frac{3 i}{7} \\sqrt{42} \\sqrt{\\pi} \\delta \\nu r^{3}{\\left (0 \\right )} v^{9}{\\left (0 \\right )}$$"
       ],
       "metadata": {},
       "output_type": "display_data",
       "png": "[encoded data removed]",
       "text": [
        "     ____     ___      3     9    \n",
        "-3\u22c5\u2572\u2571 42 \u22c5\u2148\u22c5\u2572\u2571 \u03c0 \u22c5\u03b4\u22c5\u03bd\u22c5r (0)\u22c5v (0) \n",
        "\u2500\u2500\u2500\u2500\u2500\u2500\u2500\u2500\u2500\u2500\u2500\u2500\u2500\u2500\u2500\u2500\u2500\u2500\u2500\u2500\u2500\u2500\u2500\u2500\u2500\u2500\u2500\u2500\u2500\u2500\u2500\u2500\u2500\u2500\n",
        "                7                 "
       ]
      },
      {
       "output_type": "stream",
       "stream": "stdout",
       "text": [
        "ell=2\n"
       ]
      },
      {
       "output_type": "stream",
       "stream": "stdout",
       "text": [
        "(ell,m)=(2,0)\n"
       ]
      },
      {
       "latex": [
        "$$\\frac{\\sqrt{30} \\nu}{375} \\sqrt{\\pi} \\left(- 3 r{\\left (0 \\right )} v^{2}{\\left (0 \\right )} + 1\\right) v^{12}{\\left (0 \\right )}$$"
       ],
       "metadata": {},
       "output_type": "display_data",
       "png": "[encoded data removed]",
       "text": [
        "  ____   ___   \u239b          2       \u239e  12   \n",
        "\u2572\u2571 30 \u22c5\u2572\u2571 \u03c0 \u22c5\u03bd\u22c5\u239d- 3\u22c5r(0)\u22c5v (0) + 1\u23a0\u22c5v  (0)\n",
        "\u2500\u2500\u2500\u2500\u2500\u2500\u2500\u2500\u2500\u2500\u2500\u2500\u2500\u2500\u2500\u2500\u2500\u2500\u2500\u2500\u2500\u2500\u2500\u2500\u2500\u2500\u2500\u2500\u2500\u2500\u2500\u2500\u2500\u2500\u2500\u2500\u2500\u2500\u2500\u2500\u2500\u2500\n",
        "                   375                    "
       ]
      },
      {
       "output_type": "stream",
       "stream": "stdout",
       "text": [
        "(ell,m)=(2,1)\n"
       ]
      },
      {
       "latex": [
        "$$\\frac{8 i}{15} \\sqrt{5} \\sqrt{\\pi} \\delta \\nu r^{2}{\\left (0 \\right )} v^{7}{\\left (0 \\right )}$$"
       ],
       "metadata": {},
       "output_type": "display_data",
       "png": "[encoded data removed]",
       "text": [
        "    ___     ___      2     7   \n",
        "8\u22c5\u2572\u2571 5 \u22c5\u2148\u22c5\u2572\u2571 \u03c0 \u22c5\u03b4\u22c5\u03bd\u22c5r (0)\u22c5v (0)\n",
        "\u2500\u2500\u2500\u2500\u2500\u2500\u2500\u2500\u2500\u2500\u2500\u2500\u2500\u2500\u2500\u2500\u2500\u2500\u2500\u2500\u2500\u2500\u2500\u2500\u2500\u2500\u2500\u2500\u2500\u2500\u2500\n",
        "               15              "
       ]
      },
      {
       "output_type": "stream",
       "stream": "stdout",
       "text": [
        "(ell,m)=(2,2)\n"
       ]
      },
      {
       "latex": [
        "$$\\frac{8 \\nu}{5} \\sqrt{5} \\sqrt{\\pi} r^{2}{\\left (0 \\right )} v^{6}{\\left (0 \\right )}$$"
       ],
       "metadata": {},
       "output_type": "display_data",
       "png": "[encoded data removed]",
       "text": [
        "    ___   ___    2     6   \n",
        "8\u22c5\u2572\u2571 5 \u22c5\u2572\u2571 \u03c0 \u22c5\u03bd\u22c5r (0)\u22c5v (0)\n",
        "\u2500\u2500\u2500\u2500\u2500\u2500\u2500\u2500\u2500\u2500\u2500\u2500\u2500\u2500\u2500\u2500\u2500\u2500\u2500\u2500\u2500\u2500\u2500\u2500\u2500\u2500\u2500\n",
        "             5             "
       ]
      },
      {
       "output_type": "stream",
       "stream": "stdout",
       "text": [
        "CPU times: user 10.3 s, sys: 163 ms, total: 10.5 s\n",
        "Wall time: 25.1 s\n"
       ]
      }
     ],
     "prompt_number": 25
    },
    {
     "cell_type": "code",
     "collapsed": false,
     "input": [],
     "language": "python",
     "metadata": {},
     "outputs": [],
     "prompt_number": 10
    }
   ],
   "metadata": {}
  }
 ]
}