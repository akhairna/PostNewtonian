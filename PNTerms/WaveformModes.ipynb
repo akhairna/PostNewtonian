{
 "metadata": {
  "name": ""
 },
 "nbformat": 3,
 "nbformat_minor": 0,
 "worksheets": [
  {
   "cells": [
    {
     "cell_type": "code",
     "collapsed": false,
     "input": [
      "# Always run this first\n",
      "# NOTE: Do not define new basic variables in this notebook;\n",
      "#       define them in Variables.ipynb.  Use this notebook\n",
      "#       to define new expressions built from those variables.\n",
      "\n",
      "from __future__ import division # This needs to be here, even though it's in Variables.ipynb\n",
      "import sys\n",
      "sys.path.insert(0, '..') # Look for modules in directory above this one\n",
      "execfile('../Utilities/ExecNotebook.ipy')\n",
      "try: execnotebook(VariablesNotebook)\n",
      "except: execnotebook('Variables.ipynb')"
     ],
     "language": "python",
     "metadata": {},
     "outputs": [],
     "prompt_number": 1
    },
    {
     "cell_type": "markdown",
     "metadata": {},
     "source": [
      "The following `PNCollection` objects will contain all the terms in the different parts of the waveform modes."
     ]
    },
    {
     "cell_type": "code",
     "collapsed": false,
     "input": [
      "WaveformModes_NoSpin = PNCollection()\n",
      "WaveformModes_Spin = PNCollection()"
     ],
     "language": "python",
     "metadata": {},
     "outputs": [],
     "prompt_number": 2
    },
    {
     "cell_type": "heading",
     "level": 1,
     "metadata": {},
     "source": [
      "Individual terms"
     ]
    },
    {
     "cell_type": "markdown",
     "metadata": {},
     "source": [
      "In this notebook, every term will be multiplied by the following coefficient."
     ]
    },
    {
     "cell_type": "code",
     "collapsed": false,
     "input": [
      "WaveformModes_NoSpin.AddDerivedVariable('rhOverM_coeff', (2*nu*v**2)*sqrt(16*pi/5))"
     ],
     "language": "python",
     "metadata": {},
     "outputs": [],
     "prompt_number": 3
    },
    {
     "cell_type": "markdown",
     "metadata": {},
     "source": [
      "Note that fractions need to be entered as, e.g., `frac(3,4)` so that they are not converted to finite-precision decimals."
     ]
    },
    {
     "cell_type": "markdown",
     "metadata": {},
     "source": [
      "The following expressions are taken from Eqs. (9.3) and (9.4) of [Blanchet et al. (2008)](http://arxiv.org/abs/0802.1249v3), except the final term in the (2,2) expression, which is taken from Eq. (6.5) of [Faye et al. (2012)](http://arxiv.org/abs/1204.1043v2)."
     ]
    },
    {
     "cell_type": "code",
     "collapsed": false,
     "input": [
      "# ell=2\n",
      "WaveformModes_NoSpin.AddDerivedConstant('rhOverM_2_0_0', -5/(14*sqrt(6)))\n",
      "WaveformModes_NoSpin.AddDerivedConstant('rhOverM_2_1_1', (I/3)*delta)\n",
      "WaveformModes_NoSpin.AddDerivedConstant('rhOverM_2_1_3', (I/84)*delta*(-17 + 20*nu))\n",
      "WaveformModes_NoSpin.AddDerivedConstant('rhOverM_2_1_4', (delta*(1 + (2*I)*pi + log(16)))/6)\n",
      "WaveformModes_NoSpin.AddDerivedConstant('rhOverM_2_1_5', (I/1512)*delta*(-172 + nu*(-2036 + 237*nu)))\n",
      "WaveformModes_NoSpin.AddDerivedConstant('rhOverM_2_1_6', (delta*((-34*I)*pi - 17*(1 + log(16)) + 2*nu*(353 + (6*I)*pi + log(4096))))/168)\n",
      "WaveformModes_NoSpin.AddDerivedConstant('rhOverM_2_2_0', 1)\n",
      "WaveformModes_NoSpin.AddDerivedConstant('rhOverM_2_2_2', (-107 + 55*nu)/42)\n",
      "WaveformModes_NoSpin.AddDerivedConstant('rhOverM_2_2_3', 2*pi)\n",
      "WaveformModes_NoSpin.AddDerivedConstant('rhOverM_2_2_4', (-2173 + nu*(-7483 + 2047*nu))/1512)\n",
      "WaveformModes_NoSpin.AddDerivedConstant('rhOverM_2_2_5', (-24*I)*nu + ((-107 + 34*nu)*pi)/21)\n",
      "WaveformModes_NoSpin.AddDerivedConstant('rhOverM_2_2_6', frac(27027409,646800) - (856*EulerGamma)/105 + (nu*(-834555 + nu*(-729396 + 114635*nu)))/99792 + (41*nu*pi**2)/96 + (2*pi*(214*I + 35*pi))/105 - (428*log(16))/105)\n",
      "WaveformModes_NoSpin.AddDerivedConstant('rhOverM_2_2_lnv_6', -frac(856,105))\n",
      "WaveformModes_NoSpin.AddDerivedConstant('rhOverM_2_2_7', ((-2*I)*nu*(-501655 + 24396*nu) + 15*(-2173 + 2*nu*(-2459 + 560*nu))*pi)/11340)\n",
      "# ell=3\n",
      "WaveformModes_NoSpin.AddDerivedConstant('rhOverM_3_0_5', ((-2*I)/5)*sqrt(frac(6,7))*nu)\n",
      "WaveformModes_NoSpin.AddDerivedConstant('rhOverM_3_1_1', ((I/12)*delta)/sqrt(14))\n",
      "WaveformModes_NoSpin.AddDerivedConstant('rhOverM_3_1_3', ((-I/18)*delta*(4 + nu))/sqrt(14))\n",
      "WaveformModes_NoSpin.AddDerivedConstant('rhOverM_3_1_4', (delta*(7 + (5*I)*pi + log(1024)))/(60*sqrt(14)))\n",
      "WaveformModes_NoSpin.AddDerivedConstant('rhOverM_3_1_5', ((-I/2376)*delta*(-607 + nu*(272 + 247*nu)))/sqrt(14))\n",
      "WaveformModes_NoSpin.AddDerivedConstant('rhOverM_3_1_6', (delta*((-5*I)*(16 + 7*nu)*pi + 2*(-56 + nu - 5*(16 + 7*nu)*log(2))))/(360*sqrt(14)))\n",
      "WaveformModes_NoSpin.AddDerivedConstant('rhOverM_3_2_2', (sqrt(frac(5,7))*(1 - 3*nu))/3)\n",
      "WaveformModes_NoSpin.AddDerivedConstant('rhOverM_3_2_4', (-193 + 5*(145 - 73*nu)*nu)/(54*sqrt(35)))\n",
      "WaveformModes_NoSpin.AddDerivedConstant('rhOverM_3_2_5', (-15*I + (66*I)*nu + 10*pi - 30*nu*pi)/(3*sqrt(35)))\n",
      "WaveformModes_NoSpin.AddDerivedConstant('rhOverM_3_2_6', (-1451 + nu*(-17387 + 3*(33342 - 5341*nu)*nu))/(2376*sqrt(35)))\n",
      "WaveformModes_NoSpin.AddDerivedConstant('rhOverM_3_3_1', ((-3*I)/4)*sqrt(frac(15,14))*delta)\n",
      "WaveformModes_NoSpin.AddDerivedConstant('rhOverM_3_3_3', ((-3*I)/2)*sqrt(frac(15,14))*delta*(-2 + nu))\n",
      "WaveformModes_NoSpin.AddDerivedConstant('rhOverM_3_3_4', (9*sqrt(frac(3,70))*delta*(-7 - (5*I)*pi + 10*log(frac(3,2))))/4)\n",
      "WaveformModes_NoSpin.AddDerivedConstant('rhOverM_3_3_5', (-I/88)*sqrt(frac(3,70))*delta*(369 + nu*(-3676 + 887*nu)))\n",
      "WaveformModes_NoSpin.AddDerivedConstant('rhOverM_3_3_6', (delta*((-3645*I)*(-8 + 3*nu)*pi + 2*(20412 - 48103*nu + 3645*(-8 + 3*nu)*log(frac(3,2)))))/(216*sqrt(210)))\n",
      "# ell=4\n",
      "WaveformModes_NoSpin.AddDerivedConstant('rhOverM_4_0_0', -1/(504*sqrt(2)))\n",
      "WaveformModes_NoSpin.AddDerivedConstant('rhOverM_4_1_3', ((I/84)*delta*(1 - 2*nu))/sqrt(10))\n",
      "WaveformModes_NoSpin.AddDerivedConstant('rhOverM_4_1_5', ((-I/11088)*delta*(404 + nu*(-1011 + 332*nu)))/sqrt(10))\n",
      "WaveformModes_NoSpin.AddDerivedConstant('rhOverM_4_1_6', (delta*(64 - 1661*nu - (30*I)*(-1 + 2*nu)*pi + 60*(1 - 2*nu)*log(2)))/(2520*sqrt(10)))\n",
      "WaveformModes_NoSpin.AddDerivedConstant('rhOverM_4_2_2', (sqrt(5)*(1 - 3*nu))/63)\n",
      "WaveformModes_NoSpin.AddDerivedConstant('rhOverM_4_2_4', (-1311 + 5*(805 - 57*nu)*nu)/(4158*sqrt(5)))\n",
      "WaveformModes_NoSpin.AddDerivedConstant('rhOverM_4_2_5', (-21*I + nu*(84*I - 30*pi) + 10*pi)/(63*sqrt(5)))\n",
      "WaveformModes_NoSpin.AddDerivedConstant('rhOverM_4_2_6', (9342351 + 7*nu*(-5460759 + 115*nu*(34822 + 3363*nu)))/(22702680*sqrt(5)))\n",
      "WaveformModes_NoSpin.AddDerivedConstant('rhOverM_4_3_3', (((9*I)/4)*delta*(-1 + 2*nu))/sqrt(70))\n",
      "WaveformModes_NoSpin.AddDerivedConstant('rhOverM_4_3_5', (((3*I)/176)*delta*(468 + nu*(-1267 + 524*nu)))/sqrt(70))\n",
      "WaveformModes_NoSpin.AddDerivedConstant('rhOverM_4_3_6', (delta*(-5184 + 16301*nu + (2430*I)*(-1 + 2*nu)*pi + 4860*(1 - 2*nu)*log(frac(3,2))))/(360*sqrt(70)))\n",
      "WaveformModes_NoSpin.AddDerivedConstant('rhOverM_4_4_2', (8*sqrt(frac(5,7))*(-1 + 3*nu))/9)\n",
      "WaveformModes_NoSpin.AddDerivedConstant('rhOverM_4_4_4', (4*(1779 + 5*nu*(-1273 + 525*nu)))/(297*sqrt(35)))\n",
      "WaveformModes_NoSpin.AddDerivedConstant('rhOverM_4_4_5', (160*(-1 + 3*nu)*pi + I*(336 - 1193*nu + 320*(-1 + 3*nu)*log(2)))/(9*sqrt(35)))\n",
      "WaveformModes_NoSpin.AddDerivedConstant('rhOverM_4_4_6', (-9618039 + 7*nu*(9793071 + 5*nu*(-3231338 + 678291*nu)))/(405405*sqrt(35)))\n",
      "# ell=5\n",
      "WaveformModes_NoSpin.AddDerivedConstant('rhOverM_5_1_3', ((I/288)*delta*(1 - 2*nu))/sqrt(385))\n",
      "WaveformModes_NoSpin.AddDerivedConstant('rhOverM_5_1_5', ((-I/11232)*delta*(179 + 4*(-88 + nu)*nu))/sqrt(385))\n",
      "WaveformModes_NoSpin.AddDerivedConstant('rhOverM_5_1_6', (delta*(181 - (70*I)*(-1 + 2*nu)*pi + 140*log(2) - 28*nu*(313 + log(1024))))/(20160*sqrt(385)))\n",
      "WaveformModes_NoSpin.AddDerivedConstant('rhOverM_5_2_4', (2*(1 + 5*(-1 + nu)*nu))/(27*sqrt(55)))\n",
      "WaveformModes_NoSpin.AddDerivedConstant('rhOverM_5_2_6', (-3911 + 7*nu*(3079 + 35*nu*(-118 + 33*nu)))/(12285*sqrt(55)))\n",
      "WaveformModes_NoSpin.AddDerivedConstant('rhOverM_5_3_3', ((9*I)/32)*sqrt(frac(3,110))*delta*(-1 + 2*nu))\n",
      "WaveformModes_NoSpin.AddDerivedConstant('rhOverM_5_3_5', ((3*I)/416)*sqrt(frac(3,110))*delta*(207 + 8*nu*(-58 + 11*nu)))\n",
      "WaveformModes_NoSpin.AddDerivedConstant('rhOverM_5_3_6', (delta*(-395847 + 1171828*nu + (153090*I)*(-1 + 2*nu)*pi - 306180*(-1 + 2*nu)*log(frac(3,2))))/(60480*sqrt(330)))\n",
      "WaveformModes_NoSpin.AddDerivedConstant('rhOverM_5_4_4', (-32*(1 + 5*(-1 + nu)*nu))/(9*sqrt(165)))\n",
      "WaveformModes_NoSpin.AddDerivedConstant('rhOverM_5_4_6', (16*(4451 - 7*nu*(3619 + 5*nu*(-1042 + 339*nu))))/(4095*sqrt(165)))\n",
      "WaveformModes_NoSpin.AddDerivedConstant('rhOverM_5_5_3', (((-625*I)/96)*delta*(-1 + 2*nu))/sqrt(66))\n",
      "WaveformModes_NoSpin.AddDerivedConstant('rhOverM_5_5_5', (((-625*I)/3744)*delta*(263 + 16*nu*(-43 + 16*nu)))/sqrt(66))\n",
      "WaveformModes_NoSpin.AddDerivedConstant('rhOverM_5_5_6', (delta*(565625 - 1481676*nu - (218750*I)*(-1 + 2*nu)*pi + 437500*(-1 + 2*nu)*log(frac(5,2))))/(6720*sqrt(66)))\n",
      "# ell=6\n",
      "WaveformModes_NoSpin.AddDerivedConstant('rhOverM_6_1_5', ((I/8316)*delta*(-1 + nu)*(-1 + 3*nu))/sqrt(26))\n",
      "WaveformModes_NoSpin.AddDerivedConstant('rhOverM_6_2_4', (2*(1 + 5*(-1 + nu)*nu))/(297*sqrt(65)))\n",
      "WaveformModes_NoSpin.AddDerivedConstant('rhOverM_6_2_6', (-81 + 7*nu*(59 + nu*(-64 + 7*nu)))/(2079*sqrt(65)))\n",
      "WaveformModes_NoSpin.AddDerivedConstant('rhOverM_6_3_5', (((-81*I)/616)*delta*(-1 + nu)*(-1 + 3*nu))/sqrt(65))\n",
      "WaveformModes_NoSpin.AddDerivedConstant('rhOverM_6_4_4', (-128*sqrt(frac(2,39))*(1 + 5*(-1 + nu)*nu))/495)\n",
      "WaveformModes_NoSpin.AddDerivedConstant('rhOverM_6_4_6', (-64*sqrt(frac(2,39))*(-93 + 7*nu*(71 + nu*(-88 + 19*nu))))/3465)\n",
      "WaveformModes_NoSpin.AddDerivedConstant('rhOverM_6_5_5', (((3125*I)/504)*delta*(-1 + nu)*(-1 + 3*nu))/sqrt(429))\n",
      "WaveformModes_NoSpin.AddDerivedConstant('rhOverM_6_6_4', (54*(1 + 5*(-1 + nu)*nu))/(5*sqrt(143)))\n",
      "WaveformModes_NoSpin.AddDerivedConstant('rhOverM_6_6_6', (27*(-113 + 7*nu*(91 + nu*(-128 + 39*nu))))/(35*sqrt(143)))\n",
      "# ell=7\n",
      "WaveformModes_NoSpin.AddDerivedConstant('rhOverM_7_1_5', ((I/864864)*delta*(-1 + nu)*(-1 + 3*nu))/sqrt(2))\n",
      "WaveformModes_NoSpin.AddDerivedConstant('rhOverM_7_2_6', (1 - 7*(-1 + nu)**2*nu)/(3003*sqrt(3)))\n",
      "WaveformModes_NoSpin.AddDerivedConstant('rhOverM_7_3_5', ((-243*I)/160160)*sqrt(frac(3,2))*delta*(-1 + nu)*(-1 + 3*nu))\n",
      "WaveformModes_NoSpin.AddDerivedConstant('rhOverM_7_4_6', (128*sqrt(frac(2,33))*(-1 + 7*(-1 + nu)**2*nu))/1365)\n",
      "WaveformModes_NoSpin.AddDerivedConstant('rhOverM_7_5_5', (((15625*I)/26208)*delta*(-1 + nu)*(-1 + 3*nu))/sqrt(66))\n",
      "WaveformModes_NoSpin.AddDerivedConstant('rhOverM_7_6_6', (-81*sqrt(frac(3,143))*(-1 + 7*(-1 + nu)**2*nu))/35)\n",
      "WaveformModes_NoSpin.AddDerivedConstant('rhOverM_7_7_5', ((-16807*I)/1440)*sqrt(frac(7,858))*delta*(-1 + nu)*(-1 + 3*nu))\n",
      "# ell=8\n",
      "WaveformModes_NoSpin.AddDerivedConstant('rhOverM_8_2_6', (1 - 7*(-1 + nu)**2*nu)/(9009*sqrt(85)))\n",
      "WaveformModes_NoSpin.AddDerivedConstant('rhOverM_8_4_6', (128*sqrt(frac(2,187))*(-1 + 7*(-1 + nu)**2*nu))/4095)\n",
      "WaveformModes_NoSpin.AddDerivedConstant('rhOverM_8_6_6', (-243*sqrt(frac(3,17017))*(-1 + 7*(-1 + nu)**2*nu))/35)\n",
      "WaveformModes_NoSpin.AddDerivedConstant('rhOverM_8_8_6', (16384*sqrt(frac(2,85085))*(-1 + 7*(-1 + nu)**2*nu))/63)"
     ],
     "language": "python",
     "metadata": {},
     "outputs": [],
     "prompt_number": 4
    },
    {
     "cell_type": "markdown",
     "metadata": {},
     "source": [
      "Note that the Will & Wiseman paper uses the same notation as CQG 13 (1996) 575-584, which demonstrates the same results (to lower order) as arXiv:0802.1249v2 used above.  Thus, the conventions are compatible.  Additional 2pN terms come from Buonanno, Faye, and Hinderer arXiv:1209.6349v1.  Note that the (2,2) mode is the same as the 2pN term appearing in Will & Wiseman."
     ]
    },
    {
     "cell_type": "code",
     "collapsed": false,
     "input": [
      "# ell=2\n",
      "WaveformModes_Spin.AddDerivedVariable('rhOverM_2_1_SO_2', (I/2)*(chi_a_l + chi_s_l*delta))\n",
      "WaveformModes_Spin.AddDerivedVariable('rhOverM_2_1_SO_4', (chi_a_l*(7 - 205*nu) + chi_s_l*delta*(7 - 33*nu))/42)\n",
      "WaveformModes_Spin.AddDerivedVariable('rhOverM_2_2_SO_3', (-4*(chi_s_l + chi_a_l*delta - chi_s_l*nu))/3)\n",
      "# ell=3\n",
      "WaveformModes_Spin.AddDerivedVariable('rhOverM_3_1_SO_4', (chi_s_l*delta*(4 - 13*nu) + chi_a_l*(4 - 11*nu))/(24*sqrt(14)))\n",
      "WaveformModes_Spin.AddDerivedVariable('rhOverM_3_2_SO_3', (4*sqrt(frac(5,7))*chi_s_l*nu)/3)\n",
      "WaveformModes_Spin.AddDerivedVariable('rhOverM_3_3_SO_4', (-3*sqrt(frac(15,14))*(chi_s_l*delta*(-4 + 5*nu) + chi_a_l*(-4 + 19*nu)))/8)\n",
      "# ell=4\n",
      "WaveformModes_Spin.AddDerivedVariable('rhOverM_4_1_SO_4', (sqrt(frac(5,2))*(chi_a_l - chi_s_l*delta)*nu)/168)\n",
      "WaveformModes_Spin.AddDerivedVariable('rhOverM_4_3_SO_4', (9*sqrt(frac(5,14))*(chi_a_l - chi_s_l*delta)*nu)/8)\n",
      "\n",
      "WaveformModes_Spin.AddDerivedVariable('rhOverM_2_2_SQ_4', 2*chi1chi2*nu)"
     ],
     "language": "python",
     "metadata": {},
     "outputs": [],
     "prompt_number": 18
    },
    {
     "cell_type": "markdown",
     "metadata": {},
     "source": [
      "We automatically find the largest $\\ell$ value above, so that we don't need to remember to redefine it when adding new terms:"
     ]
    },
    {
     "cell_type": "code",
     "collapsed": false,
     "input": [
      "import re\n",
      "ellRE = re.compile(r'.*?_(?P<ell>.*?)_.*')\n",
      "ellMax = max([int(ellRE.search(val).group('ell'))\n",
      "              for Terms in [WaveformModes_NoSpin, WaveformModes_Spin]\n",
      "              for key,val in Terms.items()\n",
      "              if ellRE.match(val)\n",
      "              ])"
     ],
     "language": "python",
     "metadata": {},
     "outputs": [],
     "prompt_number": 19
    },
    {
     "cell_type": "heading",
     "level": 1,
     "metadata": {},
     "source": [
      "Collected terms"
     ]
    },
    {
     "cell_type": "code",
     "collapsed": false,
     "input": [
      "def WaveformModes(LM=[2,2], WaveformModeTerms=[WaveformModes_NoSpin, WaveformModes_Spin], PNOrder=frac(7,2)):\n",
      "    if(LM[1]<0) :\n",
      "        return (-1)**LM[0]*conjugate(WaveformModes([LM[0],-LM[1]], WaveformModeTerms, PNOrder))\n",
      "    # We have to play some tricks with the log terms so that `horner` works\n",
      "    def logterm(key,val):\n",
      "        if 'lnv' in val:\n",
      "            return logv\n",
      "        else:\n",
      "            return 1\n",
      "    return rhOverM_coeff*horner(sum([key*(v**n)*logterm(key,val)\n",
      "                                     for Terms in WaveformModeTerms\n",
      "                                     for n in range(2*PNOrder+1)\n",
      "                                     for key,val in Terms.items()\n",
      "                                     if (val.endswith('_{0}'.format(n))\n",
      "                                         and 'rhOverM_{0}_{1}'.format(LM[0],LM[1]) in val)])).subs(logv, ln(v))"
     ],
     "language": "python",
     "metadata": {},
     "outputs": [],
     "prompt_number": 6
    },
    {
     "cell_type": "code",
     "collapsed": false,
     "input": [
      "# display(WaveformModes(PNOrder=frac(8,2)))"
     ],
     "language": "python",
     "metadata": {},
     "outputs": [
      {
       "latex": [
        "$$rhOverM_{coeff} \\left(rhOverM_{2 2 0} + v^{2} \\left(rhOverM_{2 2 2} + v \\left(rhOverM_{2 2 3} + rhOverM_{2 2 SO 3} + v \\left(rhOverM_{2 2 4} + rhOverM_{2 2 SQ 4} + v \\left(rhOverM_{2 2 5} + v \\left(rhOverM_{2 2 6} + rhOverM_{2 2 7} v + rhOverM_{2 2 lnv 6} \\log{\\left (v \\right )}\\right)\\right)\\right)\\right)\\right)\\right)$$"
       ],
       "metadata": {},
       "output_type": "display_data",
       "png": "[encoded data removed]",
       "text": [
        "              \u239b                2                                              \n",
        "rhOverM_coeff\u22c5\u239drhOverM\u2082 \u2082 \u2080 + v \u22c5(rhOverM\u2082 \u2082 \u2082 + v\u22c5(rhOverM\u2082 \u2082 \u2083 + rhOverM_2_2\n",
        "\n",
        "                                                                              \n",
        "_SO_3 + v\u22c5(rhOverM\u2082 \u2082 \u2084 + rhOverM_2_2_SQ_4 + v\u22c5(rhOverM\u2082 \u2082 \u2085 + v\u22c5(rhOverM\u2082 \u2082 \u2086\n",
        "\n",
        "                                                 \u239e\n",
        " + rhOverM\u2082 \u2082 \u2087\u22c5v + rhOverM_2_2_lnv_6\u22c5log(v))))))\u23a0"
       ]
      }
     ],
     "prompt_number": 7
    },
    {
     "cell_type": "code",
     "collapsed": false,
     "input": [
      "# display(WaveformModes([2,1], PNOrder=frac(8,2)))"
     ],
     "language": "python",
     "metadata": {},
     "outputs": [
      {
       "latex": [
        "$$rhOverM_{coeff} v \\left(rhOverM_{2 1 1} + v \\left(rhOverM_{2 1 SO 2} + v \\left(rhOverM_{2 1 3} + v \\left(rhOverM_{2 1 4} + rhOverM_{2 1 SO 4} + v \\left(rhOverM_{2 1 5} + rhOverM_{2 1 6} v\\right)\\right)\\right)\\right)\\right)$$"
       ],
       "metadata": {},
       "output_type": "display_data",
       "png": "[encoded data removed]",
       "text": [
        "rhOverM_coeff\u22c5v\u22c5(rhOverM\u2082 \u2081 \u2081 + v\u22c5(rhOverM_2_1_SO_2 + v\u22c5(rhOverM\u2082 \u2081 \u2083 + v\u22c5(rhO\n",
        "verM\u2082 \u2081 \u2084 + rhOverM_2_1_SO_4 + v\u22c5(rhOverM\u2082 \u2081 \u2085 + rhOverM\u2082 \u2081 \u2086\u22c5v)))))"
       ]
      }
     ],
     "prompt_number": 8
    }
   ],
   "metadata": {}
  }
 ]
}