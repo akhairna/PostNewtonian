{
 "metadata": {
  "name": "",
  "signature": "sha256:3556d2d5cc7b86a373e337492f3618855176de793a8b808891a96ce2af5dc590"
 },
 "nbformat": 3,
 "nbformat_minor": 0,
 "worksheets": [
  {
   "cells": [
    {
     "cell_type": "code",
     "collapsed": false,
     "input": [
      "# Always run this first\n",
      "# NOTE: Do not define new basic variables in this notebook;\n",
      "#       define them in Variables.ipynb.  Use this notebook\n",
      "#       to define new expressions built from those variables.\n",
      "\n",
      "from __future__ import division # This needs to be here, even though it's in Variables.ipynb\n",
      "import sys\n",
      "sys.path.insert(0, '..') # Look for modules in directory above this one\n",
      "execfile('../Utilities/ExecNotebook.ipy')\n",
      "execnotebook('Flux.ipynb')"
     ],
     "language": "python",
     "metadata": {},
     "outputs": [],
     "prompt_number": 1
    },
    {
     "cell_type": "markdown",
     "metadata": {},
     "source": [
      "This collection of absorption terms is possibly incomplete; only [Alvi (2001)](http://link.aps.org/doi/10.1103/PhysRevD.64.104020) is used.\n",
      "\n",
      "See also (the last three referenced by Marsat et al.)\n",
      "\n",
      "  - [Tagoshi, Sasaki (1994)](http://arxiv.org/abs/gr-qc/9405062)\n",
      "  - E. Poisson and M. Sasaki, Phys. Rev. D 51, 5753 (1995)\n",
      "  - H. Tagoshi, S. Mano, and E. Takasugi, Prog. Theor. Phys. 98, 829 (1997), arXiv:gr-qc/9711072\n",
      "  - K. Chatziioannou, E. Poisson, and N. Yunes, (2012), arXiv:1211.1686"
     ]
    },
    {
     "cell_type": "code",
     "collapsed": false,
     "input": [
      "AlviTerms = PNCollection()"
     ],
     "language": "python",
     "metadata": {},
     "outputs": [],
     "prompt_number": 2
    },
    {
     "cell_type": "code",
     "collapsed": false,
     "input": [
      "AlviTerms.AddDerivedVariable('MDot_Alvi_5',\n",
      "    -((m1/m)**3*(1+3*chi1chi1)*chi1_l + (m2/m)**3*(1+3*chi2chi2)*chi2_l)/4)\n",
      "\n",
      "AlviTerms.AddDerivedConstant('MDot_Alvi_8',\n",
      "    (m1/m)**4*(1+3*chi1chi1)*(1+sqrt(1-chi1chi1))/2 + (m2/m)**4*(1+3*chi2chi2)*(1+sqrt(1-chi2chi2))/2)"
     ],
     "language": "python",
     "metadata": {},
     "outputs": [],
     "prompt_number": 3
    },
    {
     "cell_type": "code",
     "collapsed": false,
     "input": [
      "def AbsorptionExpression(AbsorptionTerms=[AlviTerms], PNOrder=frac(7,2)):\n",
      "    # The following two lines should be removed together\n",
      "    print(\"WARNING: Absorption term in EnergyAbsorption.ipynb temporarily disabled.\")\n",
      "    return sympify('0')\n",
      "\n",
      "    if not AbsorptionTerms:\n",
      "        return sympify('0')\n",
      "    return Fcal_coeff*horner(sum([key*(v**n)\n",
      "                                  for Terms in AbsorptionTerms\n",
      "                                  for n in range(2*PNOrder+1)\n",
      "                                  for key,val in Terms.items()\n",
      "                                  if val.endswith('_{0}'.format(n))]))"
     ],
     "language": "python",
     "metadata": {},
     "outputs": [],
     "prompt_number": 4
    },
    {
     "cell_type": "code",
     "collapsed": false,
     "input": [
      "# AbsorptionExpression([AlviTerms], frac(7,2))"
     ],
     "language": "python",
     "metadata": {},
     "outputs": [
      {
       "latex": [
        "$$\\mathcal{F}_{coeff} \\dot{M}_{Alvi 5} v^{5}$$"
       ],
       "metadata": {},
       "output_type": "pyout",
       "png": "[encoded data removed]",
       "prompt_number": 5,
       "text": [
        "                      5\n",
        "Fcal_coeff\u22c5M\u0307_Alvi_5\u22c5v "
       ]
      }
     ],
     "prompt_number": 5
    }
   ],
   "metadata": {}
  }
 ]
}